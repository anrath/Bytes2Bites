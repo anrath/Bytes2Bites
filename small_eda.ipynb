{
 "cells": [
  {
   "cell_type": "code",
   "execution_count": 1,
   "id": "165d516f-fe64-410f-ab82-b001f6662ca6",
   "metadata": {
    "tags": []
   },
   "outputs": [],
   "source": [
    "import pandas as pd\n",
    "import numpy as np\n",
    "import scipy.stats as stats\n",
    "import seaborn as sns\n",
    "import matplotlib.pyplot as plt\n",
    "from sklearn.linear_model import Ridge\n",
    "from sklearn.impute import SimpleImputer\n"
   ]
  },
  {
   "cell_type": "markdown",
   "id": "5fa09948-e370-458a-8b37-6ed50e567c37",
   "metadata": {
    "tags": []
   },
   "source": [
    "# load and look at data"
   ]
  },
  {
   "cell_type": "code",
   "execution_count": 2,
   "id": "deeffac0-ce2c-4cc2-8ea1-b9a217c1dc8f",
   "metadata": {
    "tags": []
   },
   "outputs": [
    {
     "name": "stderr",
     "output_type": "stream",
     "text": [
      "/var/folders/bn/jw4b363n6cz8jy9jwmhp7q0c0000gn/T/ipykernel_17566/736414251.py:1: DtypeWarning: Columns (0,6) have mixed types. Specify dtype option on import or set low_memory=False.\n",
      "  data = pd.read_csv('data/preprocessed.csv')\n"
     ]
    },
    {
     "data": {
      "text/html": [
       "<div>\n",
       "<style scoped>\n",
       "    .dataframe tbody tr th:only-of-type {\n",
       "        vertical-align: middle;\n",
       "    }\n",
       "\n",
       "    .dataframe tbody tr th {\n",
       "        vertical-align: top;\n",
       "    }\n",
       "\n",
       "    .dataframe thead th {\n",
       "        text-align: right;\n",
       "    }\n",
       "</style>\n",
       "<table border=\"1\" class=\"dataframe\">\n",
       "  <thead>\n",
       "    <tr style=\"text-align: right;\">\n",
       "      <th></th>\n",
       "      <th>0</th>\n",
       "      <th>1</th>\n",
       "      <th>2</th>\n",
       "      <th>3</th>\n",
       "      <th>4</th>\n",
       "    </tr>\n",
       "  </thead>\n",
       "  <tbody>\n",
       "    <tr>\n",
       "      <th>code</th>\n",
       "      <td>00000000000000225</td>\n",
       "      <td>00000000000000225</td>\n",
       "      <td>00000000000026772226</td>\n",
       "      <td>00000000000026772226</td>\n",
       "      <td>0000000000100</td>\n",
       "    </tr>\n",
       "    <tr>\n",
       "      <th>food_groups_en_x</th>\n",
       "      <td>fruits and vegetables</td>\n",
       "      <td>vegetables</td>\n",
       "      <td>milk and dairy products</td>\n",
       "      <td>dairy desserts</td>\n",
       "      <td>fats and sauces</td>\n",
       "    </tr>\n",
       "    <tr>\n",
       "      <th>countries_en_x</th>\n",
       "      <td>france</td>\n",
       "      <td>france</td>\n",
       "      <td>france</td>\n",
       "      <td>france</td>\n",
       "      <td>france</td>\n",
       "    </tr>\n",
       "    <tr>\n",
       "      <th>product_name</th>\n",
       "      <td>jeunes pousses</td>\n",
       "      <td>jeunes pousses</td>\n",
       "      <td>Skyr</td>\n",
       "      <td>Skyr</td>\n",
       "      <td>moutarde au moût de raisin</td>\n",
       "    </tr>\n",
       "    <tr>\n",
       "      <th>countries_en_y</th>\n",
       "      <td>France</td>\n",
       "      <td>France</td>\n",
       "      <td>France</td>\n",
       "      <td>France</td>\n",
       "      <td>France</td>\n",
       "    </tr>\n",
       "    <tr>\n",
       "      <th>brands</th>\n",
       "      <td>endives</td>\n",
       "      <td>endives</td>\n",
       "      <td>Danone</td>\n",
       "      <td>Danone</td>\n",
       "      <td>courte paille</td>\n",
       "    </tr>\n",
       "    <tr>\n",
       "      <th>abbreviated_product_name</th>\n",
       "      <td>NaN</td>\n",
       "      <td>NaN</td>\n",
       "      <td>NaN</td>\n",
       "      <td>NaN</td>\n",
       "      <td>NaN</td>\n",
       "    </tr>\n",
       "    <tr>\n",
       "      <th>generic_name</th>\n",
       "      <td>NaN</td>\n",
       "      <td>NaN</td>\n",
       "      <td>NaN</td>\n",
       "      <td>NaN</td>\n",
       "      <td>NaN</td>\n",
       "    </tr>\n",
       "    <tr>\n",
       "      <th>quantity</th>\n",
       "      <td>NaN</td>\n",
       "      <td>NaN</td>\n",
       "      <td>480 g</td>\n",
       "      <td>480 g</td>\n",
       "      <td>100g</td>\n",
       "    </tr>\n",
       "    <tr>\n",
       "      <th>ecoscore_score</th>\n",
       "      <td>79.0</td>\n",
       "      <td>79.0</td>\n",
       "      <td>67.0</td>\n",
       "      <td>67.0</td>\n",
       "      <td>54.0</td>\n",
       "    </tr>\n",
       "    <tr>\n",
       "      <th>ecoscore_grade</th>\n",
       "      <td>b</td>\n",
       "      <td>b</td>\n",
       "      <td>b</td>\n",
       "      <td>b</td>\n",
       "      <td>c</td>\n",
       "    </tr>\n",
       "    <tr>\n",
       "      <th>nutrient_levels_tags</th>\n",
       "      <td>NaN</td>\n",
       "      <td>NaN</td>\n",
       "      <td>en:fat-in-low-quantity,en:saturated-fat-in-low...</td>\n",
       "      <td>en:fat-in-low-quantity,en:saturated-fat-in-low...</td>\n",
       "      <td>en:fat-in-moderate-quantity,en:saturated-fat-i...</td>\n",
       "    </tr>\n",
       "    <tr>\n",
       "      <th>main_category_en</th>\n",
       "      <td>Spinach young leaves</td>\n",
       "      <td>Spinach young leaves</td>\n",
       "      <td>Cream cheeses</td>\n",
       "      <td>Cream cheeses</td>\n",
       "      <td>Groceries</td>\n",
       "    </tr>\n",
       "    <tr>\n",
       "      <th>nutriscore_score</th>\n",
       "      <td>NaN</td>\n",
       "      <td>NaN</td>\n",
       "      <td>-5.0</td>\n",
       "      <td>-5.0</td>\n",
       "      <td>18.0</td>\n",
       "    </tr>\n",
       "    <tr>\n",
       "      <th>nutriscore_grade</th>\n",
       "      <td>unknown</td>\n",
       "      <td>unknown</td>\n",
       "      <td>a</td>\n",
       "      <td>a</td>\n",
       "      <td>d</td>\n",
       "    </tr>\n",
       "    <tr>\n",
       "      <th>nova_group</th>\n",
       "      <td>NaN</td>\n",
       "      <td>NaN</td>\n",
       "      <td>NaN</td>\n",
       "      <td>NaN</td>\n",
       "      <td>NaN</td>\n",
       "    </tr>\n",
       "    <tr>\n",
       "      <th>food_groups_en_y</th>\n",
       "      <td>Fruits and vegetables,Vegetables</td>\n",
       "      <td>Fruits and vegetables,Vegetables</td>\n",
       "      <td>Milk and dairy products,Dairy desserts</td>\n",
       "      <td>Milk and dairy products,Dairy desserts</td>\n",
       "      <td>Fats and sauces,Dressings and sauces</td>\n",
       "    </tr>\n",
       "    <tr>\n",
       "      <th>sodium_100g</th>\n",
       "      <td>NaN</td>\n",
       "      <td>NaN</td>\n",
       "      <td>0.036</td>\n",
       "      <td>0.036</td>\n",
       "      <td>1.84</td>\n",
       "    </tr>\n",
       "    <tr>\n",
       "      <th>fat_100g</th>\n",
       "      <td>NaN</td>\n",
       "      <td>NaN</td>\n",
       "      <td>0.2</td>\n",
       "      <td>0.2</td>\n",
       "      <td>8.2</td>\n",
       "    </tr>\n",
       "    <tr>\n",
       "      <th>saturated-fat_100g</th>\n",
       "      <td>NaN</td>\n",
       "      <td>NaN</td>\n",
       "      <td>0.1</td>\n",
       "      <td>0.1</td>\n",
       "      <td>2.2</td>\n",
       "    </tr>\n",
       "    <tr>\n",
       "      <th>sugars_100g</th>\n",
       "      <td>NaN</td>\n",
       "      <td>NaN</td>\n",
       "      <td>3.9</td>\n",
       "      <td>3.9</td>\n",
       "      <td>22.0</td>\n",
       "    </tr>\n",
       "    <tr>\n",
       "      <th>carbohydrates_100g</th>\n",
       "      <td>NaN</td>\n",
       "      <td>NaN</td>\n",
       "      <td>3.9</td>\n",
       "      <td>3.9</td>\n",
       "      <td>29.0</td>\n",
       "    </tr>\n",
       "    <tr>\n",
       "      <th>proteins_100g</th>\n",
       "      <td>NaN</td>\n",
       "      <td>NaN</td>\n",
       "      <td>10.0</td>\n",
       "      <td>10.0</td>\n",
       "      <td>5.1</td>\n",
       "    </tr>\n",
       "  </tbody>\n",
       "</table>\n",
       "</div>"
      ],
      "text/plain": [
       "                                                         0  \\\n",
       "code                                     00000000000000225   \n",
       "food_groups_en_x                     fruits and vegetables   \n",
       "countries_en_x                                      france   \n",
       "product_name                                jeunes pousses   \n",
       "countries_en_y                                      France   \n",
       "brands                                             endives   \n",
       "abbreviated_product_name                               NaN   \n",
       "generic_name                                           NaN   \n",
       "quantity                                               NaN   \n",
       "ecoscore_score                                        79.0   \n",
       "ecoscore_grade                                           b   \n",
       "nutrient_levels_tags                                   NaN   \n",
       "main_category_en                      Spinach young leaves   \n",
       "nutriscore_score                                       NaN   \n",
       "nutriscore_grade                                   unknown   \n",
       "nova_group                                             NaN   \n",
       "food_groups_en_y          Fruits and vegetables,Vegetables   \n",
       "sodium_100g                                            NaN   \n",
       "fat_100g                                               NaN   \n",
       "saturated-fat_100g                                     NaN   \n",
       "sugars_100g                                            NaN   \n",
       "carbohydrates_100g                                     NaN   \n",
       "proteins_100g                                          NaN   \n",
       "\n",
       "                                                         1  \\\n",
       "code                                     00000000000000225   \n",
       "food_groups_en_x                                vegetables   \n",
       "countries_en_x                                      france   \n",
       "product_name                                jeunes pousses   \n",
       "countries_en_y                                      France   \n",
       "brands                                             endives   \n",
       "abbreviated_product_name                               NaN   \n",
       "generic_name                                           NaN   \n",
       "quantity                                               NaN   \n",
       "ecoscore_score                                        79.0   \n",
       "ecoscore_grade                                           b   \n",
       "nutrient_levels_tags                                   NaN   \n",
       "main_category_en                      Spinach young leaves   \n",
       "nutriscore_score                                       NaN   \n",
       "nutriscore_grade                                   unknown   \n",
       "nova_group                                             NaN   \n",
       "food_groups_en_y          Fruits and vegetables,Vegetables   \n",
       "sodium_100g                                            NaN   \n",
       "fat_100g                                               NaN   \n",
       "saturated-fat_100g                                     NaN   \n",
       "sugars_100g                                            NaN   \n",
       "carbohydrates_100g                                     NaN   \n",
       "proteins_100g                                          NaN   \n",
       "\n",
       "                                                                          2  \\\n",
       "code                                                   00000000000026772226   \n",
       "food_groups_en_x                                    milk and dairy products   \n",
       "countries_en_x                                                       france   \n",
       "product_name                                                           Skyr   \n",
       "countries_en_y                                                       France   \n",
       "brands                                                               Danone   \n",
       "abbreviated_product_name                                                NaN   \n",
       "generic_name                                                            NaN   \n",
       "quantity                                                              480 g   \n",
       "ecoscore_score                                                         67.0   \n",
       "ecoscore_grade                                                            b   \n",
       "nutrient_levels_tags      en:fat-in-low-quantity,en:saturated-fat-in-low...   \n",
       "main_category_en                                              Cream cheeses   \n",
       "nutriscore_score                                                       -5.0   \n",
       "nutriscore_grade                                                          a   \n",
       "nova_group                                                              NaN   \n",
       "food_groups_en_y                     Milk and dairy products,Dairy desserts   \n",
       "sodium_100g                                                           0.036   \n",
       "fat_100g                                                                0.2   \n",
       "saturated-fat_100g                                                      0.1   \n",
       "sugars_100g                                                             3.9   \n",
       "carbohydrates_100g                                                      3.9   \n",
       "proteins_100g                                                          10.0   \n",
       "\n",
       "                                                                          3  \\\n",
       "code                                                   00000000000026772226   \n",
       "food_groups_en_x                                             dairy desserts   \n",
       "countries_en_x                                                       france   \n",
       "product_name                                                           Skyr   \n",
       "countries_en_y                                                       France   \n",
       "brands                                                               Danone   \n",
       "abbreviated_product_name                                                NaN   \n",
       "generic_name                                                            NaN   \n",
       "quantity                                                              480 g   \n",
       "ecoscore_score                                                         67.0   \n",
       "ecoscore_grade                                                            b   \n",
       "nutrient_levels_tags      en:fat-in-low-quantity,en:saturated-fat-in-low...   \n",
       "main_category_en                                              Cream cheeses   \n",
       "nutriscore_score                                                       -5.0   \n",
       "nutriscore_grade                                                          a   \n",
       "nova_group                                                              NaN   \n",
       "food_groups_en_y                     Milk and dairy products,Dairy desserts   \n",
       "sodium_100g                                                           0.036   \n",
       "fat_100g                                                                0.2   \n",
       "saturated-fat_100g                                                      0.1   \n",
       "sugars_100g                                                             3.9   \n",
       "carbohydrates_100g                                                      3.9   \n",
       "proteins_100g                                                          10.0   \n",
       "\n",
       "                                                                          4  \n",
       "code                                                          0000000000100  \n",
       "food_groups_en_x                                            fats and sauces  \n",
       "countries_en_x                                                       france  \n",
       "product_name                                    moutarde au moût de raisin   \n",
       "countries_en_y                                                       France  \n",
       "brands                                                        courte paille  \n",
       "abbreviated_product_name                                                NaN  \n",
       "generic_name                                                            NaN  \n",
       "quantity                                                               100g  \n",
       "ecoscore_score                                                         54.0  \n",
       "ecoscore_grade                                                            c  \n",
       "nutrient_levels_tags      en:fat-in-moderate-quantity,en:saturated-fat-i...  \n",
       "main_category_en                                                  Groceries  \n",
       "nutriscore_score                                                       18.0  \n",
       "nutriscore_grade                                                          d  \n",
       "nova_group                                                              NaN  \n",
       "food_groups_en_y                       Fats and sauces,Dressings and sauces  \n",
       "sodium_100g                                                            1.84  \n",
       "fat_100g                                                                8.2  \n",
       "saturated-fat_100g                                                      2.2  \n",
       "sugars_100g                                                            22.0  \n",
       "carbohydrates_100g                                                     29.0  \n",
       "proteins_100g                                                           5.1  "
      ]
     },
     "execution_count": 2,
     "metadata": {},
     "output_type": "execute_result"
    }
   ],
   "source": [
    "data = pd.read_csv('data/preprocessed.csv')\n",
    "data.head().T"
   ]
  },
  {
   "cell_type": "code",
   "execution_count": 3,
   "id": "8545767e-0897-4dec-8e42-328ecbb3ac33",
   "metadata": {
    "tags": []
   },
   "outputs": [
    {
     "data": {
      "text/plain": [
       "(2540360, 23)"
      ]
     },
     "execution_count": 3,
     "metadata": {},
     "output_type": "execute_result"
    }
   ],
   "source": [
    "data.shape"
   ]
  },
  {
   "cell_type": "code",
   "execution_count": 4,
   "id": "3fa6a1ea-1d6f-4cbe-8cf5-ef06dc64bb28",
   "metadata": {
    "tags": []
   },
   "outputs": [],
   "source": [
    "def non_na_rows(df, col):\n",
    "    return df[~df[col].isna()][[col]].reset_index(drop=True)"
   ]
  },
  {
   "cell_type": "code",
   "execution_count": 5,
   "id": "56d529bd-5d9f-4441-9679-514897028830",
   "metadata": {
    "tags": []
   },
   "outputs": [
    {
     "data": {
      "text/html": [
       "<div>\n",
       "<style scoped>\n",
       "    .dataframe tbody tr th:only-of-type {\n",
       "        vertical-align: middle;\n",
       "    }\n",
       "\n",
       "    .dataframe tbody tr th {\n",
       "        vertical-align: top;\n",
       "    }\n",
       "\n",
       "    .dataframe thead th {\n",
       "        text-align: right;\n",
       "    }\n",
       "</style>\n",
       "<table border=\"1\" class=\"dataframe\">\n",
       "  <thead>\n",
       "    <tr style=\"text-align: right;\">\n",
       "      <th></th>\n",
       "      <th>ecoscore_score</th>\n",
       "    </tr>\n",
       "  </thead>\n",
       "  <tbody>\n",
       "    <tr>\n",
       "      <th>0</th>\n",
       "      <td>79.0</td>\n",
       "    </tr>\n",
       "    <tr>\n",
       "      <th>1</th>\n",
       "      <td>79.0</td>\n",
       "    </tr>\n",
       "    <tr>\n",
       "      <th>2</th>\n",
       "      <td>67.0</td>\n",
       "    </tr>\n",
       "    <tr>\n",
       "      <th>3</th>\n",
       "      <td>67.0</td>\n",
       "    </tr>\n",
       "    <tr>\n",
       "      <th>4</th>\n",
       "      <td>54.0</td>\n",
       "    </tr>\n",
       "    <tr>\n",
       "      <th>...</th>\n",
       "      <td>...</td>\n",
       "    </tr>\n",
       "    <tr>\n",
       "      <th>1685246</th>\n",
       "      <td>-16.0</td>\n",
       "    </tr>\n",
       "    <tr>\n",
       "      <th>1685247</th>\n",
       "      <td>-16.0</td>\n",
       "    </tr>\n",
       "    <tr>\n",
       "      <th>1685248</th>\n",
       "      <td>-16.0</td>\n",
       "    </tr>\n",
       "    <tr>\n",
       "      <th>1685249</th>\n",
       "      <td>-16.0</td>\n",
       "    </tr>\n",
       "    <tr>\n",
       "      <th>1685250</th>\n",
       "      <td>-16.0</td>\n",
       "    </tr>\n",
       "  </tbody>\n",
       "</table>\n",
       "<p>1685251 rows × 1 columns</p>\n",
       "</div>"
      ],
      "text/plain": [
       "         ecoscore_score\n",
       "0                  79.0\n",
       "1                  79.0\n",
       "2                  67.0\n",
       "3                  67.0\n",
       "4                  54.0\n",
       "...                 ...\n",
       "1685246           -16.0\n",
       "1685247           -16.0\n",
       "1685248           -16.0\n",
       "1685249           -16.0\n",
       "1685250           -16.0\n",
       "\n",
       "[1685251 rows x 1 columns]"
      ]
     },
     "execution_count": 5,
     "metadata": {},
     "output_type": "execute_result"
    }
   ],
   "source": [
    "non_na_rows(data, 'ecoscore_score')"
   ]
  },
  {
   "cell_type": "code",
   "execution_count": 6,
   "id": "0ebf9c8e-54c7-4cad-b98a-f7ec387c7afe",
   "metadata": {
    "tags": []
   },
   "outputs": [],
   "source": [
    "# Set the code as the index\n",
    "data.set_index('code', inplace=True)"
   ]
  },
  {
   "cell_type": "code",
   "execution_count": 7,
   "id": "2ef33949-f083-4c8b-8d45-a5fb93289a57",
   "metadata": {
    "tags": []
   },
   "outputs": [],
   "source": [
    "def clean_and_extract_column(df, column_name):\n",
    "    # Clean the specified column\n",
    "    df_cleaned = df[column_name].str.lower().str.strip().str.replace(r\"\\s+\", \" \").str.replace(r\",\\s+\", \",\").str.replace(r\"[\\*|\\?|\\.]\", \"\")\n",
    "    \n",
    "    # Extract values into a new DataFrame with multi-index\n",
    "    df_extracted = df_cleaned.str.extractall(r\"(?P<{0}>[^,]+)\".format(column_name))\n",
    "    \n",
    "    # Reset index and drop the automatically created column 'match'\n",
    "    df_extracted.reset_index(inplace=True)\n",
    "    df_extracted.drop('match', axis=1, inplace=True)\n",
    "    \n",
    "    # Remove duplicates\n",
    "    df_extracted.drop_duplicates(inplace=True)\n",
    "    \n",
    "    # Set the original index of df as the index for df_extracted\n",
    "    df_extracted.set_index('code', inplace=True)\n",
    "    \n",
    "    # Merge the extracted DataFrame with the original DataFrame\n",
    "    df_merged = df_extracted.merge(df, right_index=True, left_index=True)\n",
    "    \n",
    "    return df_merged"
   ]
  },
  {
   "cell_type": "code",
   "execution_count": 8,
   "id": "89a63e5e-5557-4fb6-a217-c24e185af942",
   "metadata": {
    "tags": []
   },
   "outputs": [
    {
     "ename": "KeyError",
     "evalue": "'countries_en'",
     "output_type": "error",
     "traceback": [
      "\u001b[0;31m---------------------------------------------------------------------------\u001b[0m",
      "\u001b[0;31mKeyError\u001b[0m                                  Traceback (most recent call last)",
      "File \u001b[0;32m~/anaconda3/lib/python3.10/site-packages/pandas/core/indexes/base.py:3802\u001b[0m, in \u001b[0;36mIndex.get_loc\u001b[0;34m(self, key, method, tolerance)\u001b[0m\n\u001b[1;32m   3801\u001b[0m \u001b[38;5;28;01mtry\u001b[39;00m:\n\u001b[0;32m-> 3802\u001b[0m     \u001b[38;5;28;01mreturn\u001b[39;00m \u001b[38;5;28;43mself\u001b[39;49m\u001b[38;5;241;43m.\u001b[39;49m\u001b[43m_engine\u001b[49m\u001b[38;5;241;43m.\u001b[39;49m\u001b[43mget_loc\u001b[49m\u001b[43m(\u001b[49m\u001b[43mcasted_key\u001b[49m\u001b[43m)\u001b[49m\n\u001b[1;32m   3803\u001b[0m \u001b[38;5;28;01mexcept\u001b[39;00m \u001b[38;5;167;01mKeyError\u001b[39;00m \u001b[38;5;28;01mas\u001b[39;00m err:\n",
      "File \u001b[0;32m~/anaconda3/lib/python3.10/site-packages/pandas/_libs/index.pyx:138\u001b[0m, in \u001b[0;36mpandas._libs.index.IndexEngine.get_loc\u001b[0;34m()\u001b[0m\n",
      "File \u001b[0;32m~/anaconda3/lib/python3.10/site-packages/pandas/_libs/index.pyx:165\u001b[0m, in \u001b[0;36mpandas._libs.index.IndexEngine.get_loc\u001b[0;34m()\u001b[0m\n",
      "File \u001b[0;32mpandas/_libs/hashtable_class_helper.pxi:5745\u001b[0m, in \u001b[0;36mpandas._libs.hashtable.PyObjectHashTable.get_item\u001b[0;34m()\u001b[0m\n",
      "File \u001b[0;32mpandas/_libs/hashtable_class_helper.pxi:5753\u001b[0m, in \u001b[0;36mpandas._libs.hashtable.PyObjectHashTable.get_item\u001b[0;34m()\u001b[0m\n",
      "\u001b[0;31mKeyError\u001b[0m: 'countries_en'",
      "\nThe above exception was the direct cause of the following exception:\n",
      "\u001b[0;31mKeyError\u001b[0m                                  Traceback (most recent call last)",
      "Cell \u001b[0;32mIn[8], line 3\u001b[0m\n\u001b[1;32m      1\u001b[0m \u001b[38;5;66;03m# Example usage:\u001b[39;00m\n\u001b[1;32m      2\u001b[0m \u001b[38;5;66;03m# Assuming 'data' is your DataFrame\u001b[39;00m\n\u001b[0;32m----> 3\u001b[0m df \u001b[38;5;241m=\u001b[39m \u001b[43mclean_and_extract_column\u001b[49m\u001b[43m(\u001b[49m\u001b[43mdata\u001b[49m\u001b[43m,\u001b[49m\u001b[43m \u001b[49m\u001b[38;5;124;43m'\u001b[39;49m\u001b[38;5;124;43mcountries_en\u001b[39;49m\u001b[38;5;124;43m'\u001b[39;49m\u001b[43m)\u001b[49m\n\u001b[1;32m      4\u001b[0m df \u001b[38;5;241m=\u001b[39m clean_and_extract_column(df, \u001b[38;5;124m'\u001b[39m\u001b[38;5;124mfood_groups_en\u001b[39m\u001b[38;5;124m'\u001b[39m)\n\u001b[1;32m      5\u001b[0m df\u001b[38;5;241m.\u001b[39mhead()\n",
      "Cell \u001b[0;32mIn[7], line 3\u001b[0m, in \u001b[0;36mclean_and_extract_column\u001b[0;34m(df, column_name)\u001b[0m\n\u001b[1;32m      1\u001b[0m \u001b[38;5;28;01mdef\u001b[39;00m \u001b[38;5;21mclean_and_extract_column\u001b[39m(df, column_name):\n\u001b[1;32m      2\u001b[0m     \u001b[38;5;66;03m# Clean the specified column\u001b[39;00m\n\u001b[0;32m----> 3\u001b[0m     df_cleaned \u001b[38;5;241m=\u001b[39m \u001b[43mdf\u001b[49m\u001b[43m[\u001b[49m\u001b[43mcolumn_name\u001b[49m\u001b[43m]\u001b[49m\u001b[38;5;241m.\u001b[39mstr\u001b[38;5;241m.\u001b[39mlower()\u001b[38;5;241m.\u001b[39mstr\u001b[38;5;241m.\u001b[39mstrip()\u001b[38;5;241m.\u001b[39mstr\u001b[38;5;241m.\u001b[39mreplace(\u001b[38;5;124mr\u001b[39m\u001b[38;5;124m\"\u001b[39m\u001b[38;5;124m\\\u001b[39m\u001b[38;5;124ms+\u001b[39m\u001b[38;5;124m\"\u001b[39m, \u001b[38;5;124m\"\u001b[39m\u001b[38;5;124m \u001b[39m\u001b[38;5;124m\"\u001b[39m)\u001b[38;5;241m.\u001b[39mstr\u001b[38;5;241m.\u001b[39mreplace(\u001b[38;5;124mr\u001b[39m\u001b[38;5;124m\"\u001b[39m\u001b[38;5;124m,\u001b[39m\u001b[38;5;124m\\\u001b[39m\u001b[38;5;124ms+\u001b[39m\u001b[38;5;124m\"\u001b[39m, \u001b[38;5;124m\"\u001b[39m\u001b[38;5;124m,\u001b[39m\u001b[38;5;124m\"\u001b[39m)\u001b[38;5;241m.\u001b[39mstr\u001b[38;5;241m.\u001b[39mreplace(\u001b[38;5;124mr\u001b[39m\u001b[38;5;124m\"\u001b[39m\u001b[38;5;124m[\u001b[39m\u001b[38;5;124m\\\u001b[39m\u001b[38;5;124m*|\u001b[39m\u001b[38;5;124m\\\u001b[39m\u001b[38;5;124m?|\u001b[39m\u001b[38;5;124m\\\u001b[39m\u001b[38;5;124m.]\u001b[39m\u001b[38;5;124m\"\u001b[39m, \u001b[38;5;124m\"\u001b[39m\u001b[38;5;124m\"\u001b[39m)\n\u001b[1;32m      5\u001b[0m     \u001b[38;5;66;03m# Extract values into a new DataFrame with multi-index\u001b[39;00m\n\u001b[1;32m      6\u001b[0m     df_extracted \u001b[38;5;241m=\u001b[39m df_cleaned\u001b[38;5;241m.\u001b[39mstr\u001b[38;5;241m.\u001b[39mextractall(\u001b[38;5;124mr\u001b[39m\u001b[38;5;124m\"\u001b[39m\u001b[38;5;124m(?P<\u001b[39m\u001b[38;5;132;01m{0}\u001b[39;00m\u001b[38;5;124m>[^,]+)\u001b[39m\u001b[38;5;124m\"\u001b[39m\u001b[38;5;241m.\u001b[39mformat(column_name))\n",
      "File \u001b[0;32m~/anaconda3/lib/python3.10/site-packages/pandas/core/frame.py:3807\u001b[0m, in \u001b[0;36mDataFrame.__getitem__\u001b[0;34m(self, key)\u001b[0m\n\u001b[1;32m   3805\u001b[0m \u001b[38;5;28;01mif\u001b[39;00m \u001b[38;5;28mself\u001b[39m\u001b[38;5;241m.\u001b[39mcolumns\u001b[38;5;241m.\u001b[39mnlevels \u001b[38;5;241m>\u001b[39m \u001b[38;5;241m1\u001b[39m:\n\u001b[1;32m   3806\u001b[0m     \u001b[38;5;28;01mreturn\u001b[39;00m \u001b[38;5;28mself\u001b[39m\u001b[38;5;241m.\u001b[39m_getitem_multilevel(key)\n\u001b[0;32m-> 3807\u001b[0m indexer \u001b[38;5;241m=\u001b[39m \u001b[38;5;28;43mself\u001b[39;49m\u001b[38;5;241;43m.\u001b[39;49m\u001b[43mcolumns\u001b[49m\u001b[38;5;241;43m.\u001b[39;49m\u001b[43mget_loc\u001b[49m\u001b[43m(\u001b[49m\u001b[43mkey\u001b[49m\u001b[43m)\u001b[49m\n\u001b[1;32m   3808\u001b[0m \u001b[38;5;28;01mif\u001b[39;00m is_integer(indexer):\n\u001b[1;32m   3809\u001b[0m     indexer \u001b[38;5;241m=\u001b[39m [indexer]\n",
      "File \u001b[0;32m~/anaconda3/lib/python3.10/site-packages/pandas/core/indexes/base.py:3804\u001b[0m, in \u001b[0;36mIndex.get_loc\u001b[0;34m(self, key, method, tolerance)\u001b[0m\n\u001b[1;32m   3802\u001b[0m     \u001b[38;5;28;01mreturn\u001b[39;00m \u001b[38;5;28mself\u001b[39m\u001b[38;5;241m.\u001b[39m_engine\u001b[38;5;241m.\u001b[39mget_loc(casted_key)\n\u001b[1;32m   3803\u001b[0m \u001b[38;5;28;01mexcept\u001b[39;00m \u001b[38;5;167;01mKeyError\u001b[39;00m \u001b[38;5;28;01mas\u001b[39;00m err:\n\u001b[0;32m-> 3804\u001b[0m     \u001b[38;5;28;01mraise\u001b[39;00m \u001b[38;5;167;01mKeyError\u001b[39;00m(key) \u001b[38;5;28;01mfrom\u001b[39;00m \u001b[38;5;21;01merr\u001b[39;00m\n\u001b[1;32m   3805\u001b[0m \u001b[38;5;28;01mexcept\u001b[39;00m \u001b[38;5;167;01mTypeError\u001b[39;00m:\n\u001b[1;32m   3806\u001b[0m     \u001b[38;5;66;03m# If we have a listlike key, _check_indexing_error will raise\u001b[39;00m\n\u001b[1;32m   3807\u001b[0m     \u001b[38;5;66;03m#  InvalidIndexError. Otherwise we fall through and re-raise\u001b[39;00m\n\u001b[1;32m   3808\u001b[0m     \u001b[38;5;66;03m#  the TypeError.\u001b[39;00m\n\u001b[1;32m   3809\u001b[0m     \u001b[38;5;28mself\u001b[39m\u001b[38;5;241m.\u001b[39m_check_indexing_error(key)\n",
      "\u001b[0;31mKeyError\u001b[0m: 'countries_en'"
     ]
    }
   ],
   "source": [
    "# Example usage:\n",
    "# Assuming 'data' is your DataFrame\n",
    "df = clean_and_extract_column(data, 'countries_en')\n",
    "df = clean_and_extract_column(df, 'food_groups_en')\n",
    "df.head()"
   ]
  },
  {
   "cell_type": "code",
   "execution_count": null,
   "id": "b45ea48d-0b1f-46ef-90c1-879cca6e8e2c",
   "metadata": {},
   "outputs": [],
   "source": []
  },
  {
   "cell_type": "markdown",
   "id": "87032225-5cc6-4771-b86e-abc091ad58a1",
   "metadata": {
    "tags": []
   },
   "source": [
    "# EDA "
   ]
  },
  {
   "cell_type": "code",
   "execution_count": null,
   "id": "acd4c8cf-7407-4a86-ba3b-b78d7f0f6e03",
   "metadata": {},
   "outputs": [],
   "source": [
    "# Adjust figure size\n",
    "plt.figure(figsize=(14, 6))\n",
    "\n",
    "# Group by 'food_groups_en_1' and calculate mean of 'nutriscore_score'\n",
    "grouped_data = df.groupby(['food_groups_en_x'])['nutriscore_score'].mean().sort_values()\n",
    "\n",
    "# Plot bar graph\n",
    "bar_plot = grouped_data.plot(kind='bar')\n",
    "\n",
    "# Add values above bars\n",
    "for i in bar_plot.patches:\n",
    "    bar_plot.text(i.get_x() + i.get_width() / 2, i.get_height() + 0.05, \\\n",
    "                  round(i.get_height(), 2), ha='center', va='bottom', rotation=60)\n",
    "\n",
    "# Add labels and title\n",
    "plt.xlabel('Food Groups')\n",
    "plt.ylabel('Mean Nutrition Score')\n",
    "plt.title('Mean Nutrition Score by Food Groups')\n",
    "\n",
    "# Rotate x-axis labels for better readability\n",
    "plt.xticks(rotation=45, ha='right')\n",
    "\n",
    "# Show plot\n",
    "plt.show()"
   ]
  },
  {
   "cell_type": "code",
   "execution_count": null,
   "id": "6c45baaf-1289-4c81-9fd4-ab04a598f8b6",
   "metadata": {},
   "outputs": [],
   "source": [
    "# Adjust figure size\n",
    "plt.figure(figsize=(14, 6))\n",
    "\n",
    "# Group by 'food_groups_en_1' and calculate mean of 'nutriscore_score'\n",
    "grouped_data = df.groupby(['food_groups_en_x'])['ecoscore_score'].mean().sort_values()\n",
    "\n",
    "# Plot bar graph\n",
    "bar_plot = grouped_data.plot(kind='bar')\n",
    "\n",
    "# Add values above bars\n",
    "for i in bar_plot.patches:\n",
    "    bar_plot.text(i.get_x() + i.get_width() / 2, i.get_height() + 0.05, \\\n",
    "                  round(i.get_height(), 2), ha='center', va='bottom', rotation=60)\n",
    "\n",
    "# Add labels and title\n",
    "plt.xlabel('Food Groups')\n",
    "plt.ylabel('Mean Eco Score')\n",
    "plt.title('Mean Eco Score by Food Groups')\n",
    "\n",
    "# Rotate x-axis labels for better readability\n",
    "plt.xticks(rotation=45, ha='right')\n",
    "\n",
    "# Show plot\n",
    "plt.show()"
   ]
  },
  {
   "cell_type": "markdown",
   "id": "49655e84-4a1f-4296-b04b-e9c62e026e20",
   "metadata": {},
   "source": [
    "# Make broader food groups"
   ]
  },
  {
   "cell_type": "code",
   "execution_count": null,
   "id": "13946aa4-f7e2-4b5c-8988-0ee4f2ed4121",
   "metadata": {
    "tags": []
   },
   "outputs": [],
   "source": [
    "df.food_groups_en_x.unique()"
   ]
  },
  {
   "cell_type": "code",
   "execution_count": null,
   "id": "2b7b52d2-3f95-4c5b-a20d-050d7e1ced15",
   "metadata": {
    "tags": []
   },
   "outputs": [],
   "source": [
    "# Define a dictionary to map specific food groups to broader categories\n",
    "# (groups made to follow pnns_groups_1 from full data)\n",
    "group_mapping = {\n",
    "    'Unknown': ['unknown', 'na', ''],\n",
    "    'Fruits and vegetables': ['fruits', 'vegetables', 'dried fruits','fruits and vegetables', 'legumes'],\n",
    "    'Sugary snacks': ['sugary snacks', 'chocolate products', 'sweets', 'biscuits and cakes', 'pastries'],\n",
    "    'Beverages': ['beverages', 'sweetened beverages', 'fruit juices', 'unsweetened beverages', 'waters and flavored waters', 'artificially sweetened beverages', 'fruit nectars', 'teas and herbal teas and coffees', 'alcoholic beverages'],\n",
    "    'Composite foods': ['composite foods', 'sandwiches', 'pizza pies and quiches', 'one-dish meals', 'soups', 'appetizers'],\n",
    "    'Fish meat eggs': ['fish and seafood', 'fatty fish', 'meat', 'meat other than poultry', 'processed meat', 'lean fish', 'eggs', 'offals', 'poultry', 'fish‚ meat‚ eggs', 'fish'],\n",
    "    'Fat and sauces': ['fats and sauces', 'dressings and sauces', 'fats'],\n",
    "    'Salty snacks': ['salty snacks', 'salty and fatty products', 'bread', 'nuts'],\n",
    "    'Cereals and potatoes': ['cereals and potatoes', 'breakfast cereals', 'cereals', 'potatoes'],\n",
    "    'Milk and dairy products': ['milk and dairy products', 'dairy desserts', 'milk and yogurt', 'cheese', 'ice cream', 'plant-based milk substitutes']\n",
    "}\n",
    "\n",
    "# Function to map food groups to their respective categories\n",
    "def map_food_group(group):\n",
    "    for category, food_groups in group_mapping.items():\n",
    "        if group in food_groups:\n",
    "            return category\n",
    "        else: \n",
    "            with open(\"unknown_groups.txt\", \"w\") as file:\n",
    "                file.write(group + \"\\n\")                \n",
    "    return 'Unknown'  # If no match found, assign 'Unknown'\n",
    "\n",
    "# Create the new column\n",
    "df['food_group_category'] = df['food_groups_en_x'].apply(map_food_group)\n",
    "df.food_group_category.unique()"
   ]
  },
  {
   "cell_type": "code",
   "execution_count": null,
   "id": "108959a0-059f-46fd-a37e-8ff718fdd10b",
   "metadata": {
    "tags": []
   },
   "outputs": [],
   "source": [
    "df[df['food_group_category'] == 'Unknown']"
   ]
  },
  {
   "cell_type": "code",
   "execution_count": null,
   "id": "343f908c-6fc9-42f9-b563-03a875fadc6c",
   "metadata": {
    "tags": []
   },
   "outputs": [],
   "source": [
    "# Adjust figure size\n",
    "plt.figure(figsize=(14, 6))\n",
    "\n",
    "# Group by 'food_groups_en_1' and calculate mean of 'nutriscore_score'\n",
    "grouped_data_nutri = df.groupby(['food_group_category'])['nutriscore_score'].mean().sort_values()\n",
    "\n",
    "# Plot bar graph\n",
    "bar_plot = grouped_data_nutri.plot(kind='bar')\n",
    "\n",
    "# Add values above bars\n",
    "for i in bar_plot.patches:\n",
    "    bar_plot.text(i.get_x() + i.get_width() / 2, i.get_height() + 0.05, \\\n",
    "                  round(i.get_height(), 2), ha='center', va='bottom', rotation=60)\n",
    "\n",
    "# Add labels and title\n",
    "plt.xlabel('Food Groups')\n",
    "plt.ylabel('Mean Nutrition Score')\n",
    "plt.title('Mean Nutrition Score by Broad Food Groups')\n",
    "\n",
    "# Rotate x-axis labels for better readability\n",
    "plt.xticks(rotation=45, ha='right')\n",
    "\n",
    "# Show plot\n",
    "plt.show()"
   ]
  },
  {
   "cell_type": "code",
   "execution_count": null,
   "id": "59af9aa0-02c9-4102-930e-9d3122190ca3",
   "metadata": {},
   "outputs": [],
   "source": []
  },
  {
   "cell_type": "code",
   "execution_count": null,
   "id": "1eb5b651-c0d3-4360-a492-f4e66e0d1f52",
   "metadata": {
    "tags": []
   },
   "outputs": [],
   "source": [
    "# Adjust figure size\n",
    "plt.figure(figsize=(14, 6))\n",
    "\n",
    "# Group by 'food_groups_en_1' and calculate mean of 'nutriscore_score'\n",
    "grouped_data_eco = df.groupby(['food_group_category'])['ecoscore_score'].mean().sort_values()\n",
    "\n",
    "# Plot bar graph\n",
    "bar_plot = grouped_data_eco.plot(kind='bar')\n",
    "\n",
    "# Add values above bars\n",
    "for i in bar_plot.patches:\n",
    "    bar_plot.text(i.get_x() + i.get_width() / 2, i.get_height() + 0.05, \\\n",
    "                  round(i.get_height(), 2), ha='center', va='bottom', rotation=60)\n",
    "\n",
    "# Add labels and title\n",
    "plt.xlabel('Food Groups')\n",
    "plt.ylabel('Mean Eco Score')\n",
    "plt.title('Mean Eco Score by Broad Food Groups')\n",
    "\n",
    "# Rotate x-axis labels for better readability\n",
    "plt.xticks(rotation=45, ha='right')\n",
    "\n",
    "# Show plot\n",
    "plt.show()"
   ]
  },
  {
   "cell_type": "code",
   "execution_count": null,
   "id": "a45f38ab-9e26-4646-887f-05b62630fd6d",
   "metadata": {},
   "outputs": [],
   "source": []
  },
  {
   "cell_type": "markdown",
   "id": "6a9c7a5b-5b43-4574-9911-9788e6d69f76",
   "metadata": {},
   "source": [
    "# Spider plot"
   ]
  },
  {
   "cell_type": "code",
   "execution_count": null,
   "id": "f302f45a-00c5-4fbe-a86c-d297bbc4f206",
   "metadata": {
    "tags": []
   },
   "outputs": [],
   "source": [
    "# Group by 'broad_food_group' and calculate mean of 'ecoscore_score' and 'nutriscore_score'\n",
    "grouped_data_eco = df.groupby(['food_group_category'])['ecoscore_score'].mean().sort_values()\n",
    "grouped_data_nutri = df.groupby(['food_group_category'])['nutriscore_score'].mean().sort_values()\n",
    "\n",
    "# Combine the two series into one DataFrame\n",
    "spider_df = pd.concat([grouped_data_eco, grouped_data_nutri], axis=1)\n",
    "spider_df.columns = ['Mean Eco Score', 'Mean Nutrition Score']\n",
    "spider_df"
   ]
  },
  {
   "cell_type": "code",
   "execution_count": null,
   "id": "8b1efe68-2a4b-4be4-8ffd-95da885dac10",
   "metadata": {
    "tags": []
   },
   "outputs": [],
   "source": [
    "# Adjust figure size\n",
    "plt.figure(figsize=(10, 6))\n",
    "\n",
    "categories = spider_df.index.tolist()\n",
    "values_eco = spider_df['Mean Eco Score'].values\n",
    "values_nutri = spider_df['Mean Nutrition Score'].values\n",
    "\n",
    "# Create a radar chart\n",
    "ax = plt.subplot(111, polar=True)\n",
    "\n",
    "# Calculate angles for each category\n",
    "angles = np.linspace(0, 2 * np.pi, len(categories), endpoint=False).tolist()\n",
    "\n",
    "# Plot eco scores\n",
    "ax.plot(angles, values_eco, label='Eco Score', marker='o')\n",
    "ax.fill(angles, values_eco, 'b', alpha=0.1)\n",
    "\n",
    "# Plot nutrition scores\n",
    "ax.plot(angles, values_nutri, label='Nutrition Score', marker='o')\n",
    "ax.fill(angles, values_nutri, 'r', alpha=0.1)\n",
    "\n",
    "# Add labels and title\n",
    "plt.title('Mean Eco and Nutrition Scores by Broad Food Groups')\n",
    "plt.legend(loc='upper right')\n",
    "plt.xticks(angles, categories)\n",
    "\n",
    "# Show plot\n",
    "plt.show()"
   ]
  },
  {
   "cell_type": "markdown",
   "id": "2eeee265-25ac-4ac4-9f3d-6fabbb858fa0",
   "metadata": {},
   "source": [
    "# Nutrition Score vs. Eco Score by Food Group Trends"
   ]
  },
  {
   "cell_type": "code",
   "execution_count": null,
   "id": "0cf9cf6b-0a02-47a5-9f9c-3212727e6f0f",
   "metadata": {
    "tags": []
   },
   "outputs": [],
   "source": [
    "# Plot scatterplot colored by food_group_category\n",
    "plt.figure(figsize=(10, 6))\n",
    "for category, group in df.groupby('food_group_category'):\n",
    "    plt.scatter(group['nutriscore_score'], group['ecoscore_score'], label=category)\n",
    "\n",
    "plt.xlabel('Nutriscore Score')\n",
    "plt.ylabel('Ecoscore Score')\n",
    "plt.title('Nutriscore Score vs Ecoscore Score by Food Group Category')\n",
    "plt.legend(title='Food Group Category', bbox_to_anchor=(1.05, 1), loc='upper left')\n",
    "plt.grid(True)\n",
    "plt.show()"
   ]
  },
  {
   "cell_type": "code",
   "execution_count": null,
   "id": "8b17c966-f1f7-432d-8d4a-dc1621900654",
   "metadata": {
    "tags": []
   },
   "outputs": [],
   "source": [
    "# add trendlines\n",
    "\n",
    "df1 = df\n",
    "\n",
    "# Handle missing values\n",
    "imputer = SimpleImputer(strategy='mean')\n",
    "df1[['nutriscore_score', 'ecoscore_score']] = imputer.fit_transform(df1[['nutriscore_score', 'ecoscore_score']])\n",
    "\n",
    "\n",
    "# Plot scatterplot colored by food_group_category\n",
    "plt.figure(figsize=(10, 6))\n",
    "for category, group in df1.groupby('food_group_category'):\n",
    "    plt.scatter(group['nutriscore_score'], group['ecoscore_score'], label=category, alpha=0.2)\n",
    "    \n",
    "\n",
    "\n",
    "# Perform ridge regression and plot trend lines\n",
    "for category, group in df1.groupby('food_group_category'):\n",
    "    X = group[['nutriscore_score']].values\n",
    "    y = group['ecoscore_score'].values\n",
    "    \n",
    "    # Perform ridge regression\n",
    "    ridge = Ridge(alpha=0.1)  # Adjust alpha as needed\n",
    "    ridge.fit(X, y)\n",
    "    \n",
    "    # Plot trend line\n",
    "    x_values = np.linspace(min(group['nutriscore_score']), max(group['nutriscore_score']), 100)\n",
    "    y_values = ridge.predict(x_values.reshape(-1, 1))\n",
    "    plt.plot(x_values, y_values, label=f'{category} trendline')\n",
    "\n",
    "plt.xlabel('Nutriscore Score')\n",
    "plt.ylabel('Ecoscore Score')\n",
    "plt.title('Nutriscore Score vs Ecoscore Score by Food Group Category')\n",
    "plt.legend(title='Food Group Category', bbox_to_anchor=(1.05, 1), loc='upper left')\n",
    "plt.grid(True)\n",
    "plt.show()"
   ]
  },
  {
   "cell_type": "code",
   "execution_count": null,
   "id": "9ae37ee6-6db7-40ce-b8a4-9af8a8d4361a",
   "metadata": {
    "tags": []
   },
   "outputs": [],
   "source": [
    "#  Without points \n",
    "\n",
    "df1 = df\n",
    "\n",
    "# Handle missing values\n",
    "imputer = SimpleImputer(strategy='mean')\n",
    "df1[['nutriscore_score', 'ecoscore_score']] = imputer.fit_transform(df1[['nutriscore_score', 'ecoscore_score']])\n",
    "\n",
    "\n",
    "# Plot scatterplot colored by food_group_category\n",
    "plt.figure(figsize=(10, 6))\n",
    "#for category, group in df1.groupby('food_group_category'):\n",
    " #   plt.scatter(group['nutriscore_score'], group['ecoscore_score'], label=category, alpha=0.2)\n",
    "    \n",
    "\n",
    "\n",
    "# Perform ridge regression and plot trend lines\n",
    "for category, group in df1.groupby('food_group_category'):\n",
    "    X = group[['nutriscore_score']].values\n",
    "    y = group['ecoscore_score'].values\n",
    "    \n",
    "    # Perform ridge regression\n",
    "    ridge = Ridge(alpha=0.1)  # Adjust alpha as needed\n",
    "    ridge.fit(X, y)\n",
    "    \n",
    "    # Plot trend line\n",
    "    x_values = np.linspace(min(group['nutriscore_score']), max(group['nutriscore_score']), 100)\n",
    "    y_values = ridge.predict(x_values.reshape(-1, 1))\n",
    "    plt.plot(x_values, y_values, label=f'{category}')\n",
    "\n",
    "plt.xlabel('Nutriscore Score')\n",
    "plt.ylabel('Ecoscore Score')\n",
    "plt.title('Nutriscore Score vs Ecoscore Score by Food Group Category')\n",
    "plt.legend(title='Food Group Category', bbox_to_anchor=(1.05, 1), loc='upper left')\n",
    "plt.grid(True)\n",
    "plt.show()"
   ]
  },
  {
   "cell_type": "code",
   "execution_count": null,
   "id": "744a41e9-4c3b-464d-90e9-dfbd6a267e0d",
   "metadata": {
    "tags": []
   },
   "outputs": [],
   "source": [
    "# Plot each food group category in its own subplot to make it more clear\n",
    "fig, axs = plt.subplots(2, 5, figsize=(16, 12), sharex=True, sharey=True)\n",
    "axs = axs.flatten()\n",
    "\n",
    "for ax, (category, group) in zip(axs, df1.groupby('food_group_category')):\n",
    "    ax.scatter(group['nutriscore_score'], group['ecoscore_score'], label=category, alpha=0.3)\n",
    "\n",
    "    # Perform ridge regression and plot trend line\n",
    "    X = group[['nutriscore_score']].values\n",
    "    y = group['ecoscore_score'].values\n",
    "    ridge = Ridge(alpha=0.1)  # Adjust alpha as needed\n",
    "    ridge.fit(X, y)\n",
    "    x_values = np.linspace(min(group['nutriscore_score']), max(group['nutriscore_score']), 100)\n",
    "    y_values = ridge.predict(x_values.reshape(-1, 1))\n",
    "    ax.plot(x_values, y_values, label=f'{category} trendline', color='red', linewidth=2)\n",
    "\n",
    "    ax.set_title(category)\n",
    "    ax.grid(True)\n",
    "\n",
    "# Add x and y labels to the full figure\n",
    "fig.text(0.5, -0.01, 'Nutriscore Score', ha='center', fontsize=14)\n",
    "fig.text(-0.01, 0.5, 'Ecoscore Score', va='center', rotation='vertical', fontsize=14)\n",
    "\n",
    "fig.suptitle('Nutriscore Score vs Ecoscore Score by Food Group Category', fontsize=16)\n",
    "fig.tight_layout(rect=[0, 0, 1, 0.95])  # Adjust subplot layout to prevent overlap\n",
    "plt.show()"
   ]
  },
  {
   "cell_type": "code",
   "execution_count": null,
   "id": "6350a746-4ff0-4644-ac7c-64dcfa6a3238",
   "metadata": {
    "tags": []
   },
   "outputs": [],
   "source": [
    "# Calculate median scores for each food category\n",
    "median_ecoscore = df.groupby('food_group_category')['ecoscore_score'].median().sort_values(ascending=False).index\n",
    "median_nutriscore = df.groupby('food_group_category')['nutriscore_score'].median().sort_values().index\n",
    "\n",
    "\n",
    "# Plot boxplots for each food category based on ecoscore\n",
    "plt.figure(figsize=(12, 6))\n",
    "sns.boxplot(x='food_group_category', y='ecoscore_score', data=df, order=median_ecoscore)\n",
    "plt.title('Boxplots of Ecoscore by Food Category')\n",
    "plt.xticks(rotation=45)\n",
    "plt.xlabel('Food Category')\n",
    "plt.ylabel('Ecoscore Score')\n",
    "plt.show()\n",
    "\n",
    "# Plot boxplots for each food category based on nutriscore\n",
    "plt.figure(figsize=(12, 6))\n",
    "sns.boxplot(x='food_group_category', y='nutriscore_score', data=df, order=median_nutriscore)\n",
    "plt.title('Boxplots of Nutriscore by Food Category')\n",
    "plt.xticks(rotation=45)\n",
    "plt.xlabel('Food Category')\n",
    "plt.ylabel('Nutriscore Score')\n",
    "plt.show()"
   ]
  },
  {
   "cell_type": "code",
   "execution_count": null,
   "id": "022a6693-d3ce-4fcf-93cf-30509229702e",
   "metadata": {},
   "outputs": [],
   "source": [
    "# Note: in general, as nutriscore goes up, ecoscore goes down \n",
    "# with exception for beverages, composite foods, and fish/mean/eggs"
   ]
  },
  {
   "cell_type": "code",
   "execution_count": null,
   "id": "685b4b72-093e-4536-aebd-92df605ddd60",
   "metadata": {
    "tags": []
   },
   "outputs": [],
   "source": [
    "# Looking at only grade a foods (only 284 in this subset that are both a in eco and nutri)"
   ]
  },
  {
   "cell_type": "code",
   "execution_count": null,
   "id": "74829e70-3d1c-4ab1-9ef0-994b2c41788f",
   "metadata": {},
   "outputs": [],
   "source": [
    "grade_a = df[(df['ecoscore_grade']=='a') & (df['nutriscore_grade']=='a')]\n",
    "grade_a"
   ]
  },
  {
   "cell_type": "code",
   "execution_count": null,
   "id": "f0edc9e1-2bfd-45f5-a22a-119b4bd089f3",
   "metadata": {
    "tags": []
   },
   "outputs": [],
   "source": [
    "# Plot each food group category in its own subplot to make it more clear\n",
    "fig, axs = plt.subplots(2, 5, figsize=(16, 12), sharex=True, sharey=True)\n",
    "axs = axs.flatten()\n",
    "\n",
    "for ax, (category, group) in zip(axs, grade_a.groupby('food_group_category')):\n",
    "    ax.scatter(group['nutriscore_score'], group['ecoscore_score'], label=category, alpha=0.3)\n",
    "\n",
    "    # Perform ridge regression and plot trend line\n",
    "    X = group[['nutriscore_score']].values\n",
    "    y = group['ecoscore_score'].values\n",
    "    ridge = Ridge(alpha=0.1)  # Adjust alpha as needed\n",
    "    ridge.fit(X, y)\n",
    "    x_values = np.linspace(min(group['nutriscore_score']), max(group['nutriscore_score']), 100)\n",
    "    y_values = ridge.predict(x_values.reshape(-1, 1))\n",
    "    ax.plot(x_values, y_values, label=f'{category} trendline', color='red', linewidth=2)\n",
    "\n",
    "    ax.set_title(category)\n",
    "    ax.grid(True)\n",
    "\n",
    "# Add x and y labels to the full figure\n",
    "fig.text(0.5, -0.01, 'Nutriscore Score', ha='center', fontsize=14)\n",
    "fig.text(-0.01, 0.5, 'Ecoscore Score', va='center', rotation='vertical', fontsize=14)\n",
    "\n",
    "fig.suptitle('Nutriscore Score vs Ecoscore Score by Food Group Category', fontsize=16)\n",
    "fig.tight_layout(rect=[0, 0, 1, 0.95])  # Adjust subplot layout to prevent overlap\n",
    "plt.show()"
   ]
  },
  {
   "cell_type": "code",
   "execution_count": null,
   "id": "2a4f14a0-8efb-4b9f-927e-ee8f4efb48ed",
   "metadata": {
    "tags": []
   },
   "outputs": [],
   "source": [
    "# Calculate median scores for each food category\n",
    "median_ecoscore = grade_a.groupby('food_group_category')['ecoscore_score'].median().sort_values(ascending=False).index\n",
    "median_nutriscore = grade_a.groupby('food_group_category')['nutriscore_score'].median().sort_values().index\n",
    "\n",
    "# Plot boxplots for each food category based on ecoscore\n",
    "plt.figure(figsize=(12, 6))\n",
    "sns.boxplot(x='food_group_category', y='ecoscore_score', data=grade_a, order=median_ecoscore)\n",
    "plt.title('Boxplots of Ecoscore by Food Category')\n",
    "plt.xticks(rotation=45)\n",
    "plt.xlabel('Food Category')\n",
    "plt.ylabel('Ecoscore Score')\n",
    "plt.show()\n",
    "\n",
    "# Plot boxplots for each food category based on nutriscore\n",
    "plt.figure(figsize=(12, 6))\n",
    "sns.boxplot(x='food_group_category', y='nutriscore_score', data=grade_a, order=median_nutriscore)\n",
    "plt.title('Boxplots of Nutriscore by Food Category')\n",
    "plt.xticks(rotation=45)\n",
    "plt.xlabel('Food Category')\n",
    "plt.ylabel('Nutriscore Score')\n",
    "plt.show()"
   ]
  },
  {
   "cell_type": "markdown",
   "id": "25470e02-c8ea-4b0d-b206-4546c4dd6446",
   "metadata": {},
   "source": [
    "# Now look at top brands, products, countries"
   ]
  },
  {
   "cell_type": "code",
   "execution_count": null,
   "id": "ea7235ac-b71d-49a3-a09f-b1384fde861c",
   "metadata": {
    "tags": []
   },
   "outputs": [],
   "source": [
    "# Get the top occurencies function\n",
    "def get_top_occurencies(df, cols, n=10):\n",
    "    count = df.groupby(cols).size().sort_values(ascending=False)\n",
    "    count_percent = round(count / df.shape[0] * 100, 2)\n",
    "    return pd.DataFrame({'count': count, 'count %': count_percent}).head(n)"
   ]
  },
  {
   "cell_type": "code",
   "execution_count": null,
   "id": "ee88e33c-b927-4ecd-a3ea-82a90b02745b",
   "metadata": {
    "tags": []
   },
   "outputs": [],
   "source": [
    "get_top_occurencies(df, 'countries_en_x', n=10)\n",
    "### IMPORTANT TO NOTE: >90% of data is from france in this subset!!"
   ]
  },
  {
   "cell_type": "code",
   "execution_count": null,
   "id": "8acad868-0cf9-4fed-be2b-1780442d8d84",
   "metadata": {
    "tags": []
   },
   "outputs": [],
   "source": [
    "get_top_occurencies(df, 'product_name', n=10)\n",
    "# most of these are in french bc 90% of data is from france! Important to note"
   ]
  },
  {
   "cell_type": "code",
   "execution_count": null,
   "id": "57393bd2-0346-473a-acf4-0bb3e0d96faf",
   "metadata": {
    "tags": []
   },
   "outputs": [],
   "source": [
    "get_top_occurencies(df, 'brands', n=10)"
   ]
  },
  {
   "cell_type": "code",
   "execution_count": null,
   "id": "9ea177b4-9342-493b-bec1-313679b3afa7",
   "metadata": {
    "tags": []
   },
   "outputs": [],
   "source": []
  },
  {
   "cell_type": "code",
   "execution_count": null,
   "id": "6e82fbe3-0085-4a1b-af73-54db6815edee",
   "metadata": {},
   "outputs": [],
   "source": []
  },
  {
   "cell_type": "code",
   "execution_count": null,
   "id": "de0c92b8-5d7f-47f0-8522-6ebe2c2ebf6a",
   "metadata": {},
   "outputs": [],
   "source": []
  }
 ],
 "metadata": {
  "kernelspec": {
   "display_name": "Python 3 (ipykernel)",
   "language": "python",
   "name": "python3"
  },
  "language_info": {
   "codemirror_mode": {
    "name": "ipython",
    "version": 3
   },
   "file_extension": ".py",
   "mimetype": "text/x-python",
   "name": "python",
   "nbconvert_exporter": "python",
   "pygments_lexer": "ipython3",
   "version": "3.10.11"
  }
 },
 "nbformat": 4,
 "nbformat_minor": 5
}
