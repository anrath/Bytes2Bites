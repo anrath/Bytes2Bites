{
 "cells": [
  {
   "cell_type": "code",
   "execution_count": 1,
   "metadata": {},
   "outputs": [],
   "source": [
    "import pandas as pd"
   ]
  },
  {
   "cell_type": "code",
   "execution_count": 2,
   "metadata": {},
   "outputs": [
    {
     "name": "stderr",
     "output_type": "stream",
     "text": [
      "/tmp/ipykernel_1652/942442494.py:1: DtypeWarning: Columns (67) have mixed types. Specify dtype option on import or set low_memory=False.\n",
      "  df = pd.read_csv('data/small.csv', delimiter='\\t')\n"
     ]
    }
   ],
   "source": [
    "df = pd.read_csv('data/small.csv', delimiter='\\t')"
   ]
  },
  {
   "cell_type": "code",
   "execution_count": 9,
   "metadata": {},
   "outputs": [],
   "source": [
    "score_columns = [\"ecoscore_score\", \"ecoscore_grade\", \"nutrient_levels_tags\", \"product_quantity\", \"owner\", \"main_category\", \"main_category_en\", \"carbon-footprint_100g\", \"carbon-footprint-from-meat-or-fish_100g\", \"nutrition-score-fr_100g\", \"nutrition-score-uk_100g\", \"glycemic-index_100g\", \"water-hardness_100g\"]\n",
    "more_score_columns = [\"nutriscore_score\", \"nutriscore_grade\", \"nova_group\", \"pnns_groups_1\", \"pnns_groups_2\", \"food_groups\", \"food_groups_tags\", \"food_groups_en\", \"states\", \"states_tags\", \"states_en\", \"brand_owner\",]\n",
    "\n",
    "nutrient_columns = [\"energy-kj_100g\", \"energy-kcal_100g\", \"energy_100g\", \"energy-from-fat_100g\", \"fat_100g\", \"saturated-fat_100g\", \"butyric-acid_100g\", \"caproic-acid_100g\", \"caprylic-acid_100g\", \"capric-acid_100g\", \"lauric-acid_100g\", \"myristic-acid_100g\", \"palmitic-acid_100g\", \"stearic-acid_100g\", \"arachidic-acid_100g\", \"behenic-acid_100g\", \"lignoceric-acid_100g\", \"cerotic-acid_100g\", \"montanic-acid_100g\", \"melissic-acid_100g\", \"unsaturated-fat_100g\", \"monounsaturated-fat_100g\", \"omega-9-fat_100g\", \"polyunsaturated-fat_100g\", \"omega-3-fat_100g\", \"omega-6-fat_100g\", \"alpha-linolenic-acid_100g\", \"eicosapentaenoic-acid_100g\", \"docosahexaenoic-acid_100g\", \"linoleic-acid_100g\", \"arachidonic-acid_100g\", \"gamma-linolenic-acid_100g\", \"dihomo-gamma-linolenic-acid_100g\", \"oleic-acid_100g\", \"elaidic-acid_100g\", \"gondoic-acid_100g\", \"mead-acid_100g\", \"erucic-acid_100g\", \"nervonic-acid_100g\", \"trans-fat_100g\", \"cholesterol_100g\", \"carbohydrates_100g\", \"sugars_100g\", \"added-sugars_100g\", \"sucrose_100g\", \"glucose_100g\", \"fructose_100g\", \"lactose_100g\", \"maltose_100g\", \"maltodextrins_100g\", \"starch_100g\", \"polyols_100g\", \"erythritol_100g\", \"fiber_100g\", \"soluble-fiber_100g\", \"insoluble-fiber_100g\", \"proteins_100g\", \"casein_100g\", \"serum-proteins_100g\", \"nucleotides_100g\", \"salt_100g\", \"added-salt_100g\", \"sodium_100g\", \"alcohol_100g\", \"vitamin-a_100g\", \"beta-carotene_100g\", \"vitamin-d_100g\", \"vitamin-e_100g\", \"vitamin-k_100g\", \"vitamin-c_100g\", \"vitamin-b1_100g\", \"vitamin-b2_100g\", \"vitamin-pp_100g\", \"vitamin-b6_100g\", \"vitamin-b9_100g\", \"folates_100g\", \"vitamin-b12_100g\", \"biotin_100g\", \"pantothenic-acid_100g\", \"silica_100g\", \"bicarbonate_100g\", \"potassium_100g\", \"chloride_100g\", \"calcium_100g\", \"phosphorus_100g\", \"iron_100g\", \"magnesium_100g\", \"zinc_100g\", \"copper_100g\", \"manganese_100g\", \"fluoride_100g\", \"selenium_100g\", \"chromium_100g\", \"molybdenum_100g\", \"iodine_100g\", \"caffeine_100g\", \"taurine_100g\", \"ph_100g\", \"fruits-vegetables-nuts_100g\", \"fruits-vegetables-nuts-dried_100g\", \"fruits-vegetables-nuts-estimate_100g\", \"fruits-vegetables-nuts-estimate-from-ingredients_100g\", \"collagen-meat-protein-ratio_100g\", \"cocoa_100g\", \"chlorophyl_100g\", \"choline_100g\", \"phylloquinone_100g\", \"beta-glucan_100g\", \"inositol_100g\", \"carnitine_100g\", \"sulphate_100g\", \"nitrate_100g\", \"acidity_100g\"]\n",
    "metadata_columns = [\"image_url\", \"image_small_url\", \"image_ingredients_url\", \"image_ingredients_small_url\", \"image_nutrition_url\", \"image_nutrition_small_url\"]\n",
    "more_columns = [\"code\", \"url\", \"creator\", \"created_t\", \"created_datetime\", \"last_modified_t\", \"last_modified_datetime\", \"last_modified_by\", \"last_updated_t\", \"last_updated_datetime\", \"data_quality_errors_tags\", \"unique_scans_n\", \"popularity_tags\", \"completeness\", \"last_image_t\", \"last_image_datetime\",]\n",
    "gen_columns = [\"product_name\", \"abbreviated_product_name\", \"generic_name\", \"quantity\", \"packaging\", \"packaging_tags\", \"packaging_en\", \"packaging_text\", \"brands\", \"brands_tags\", \"categories\", \"categories_tags\", \"categories_en\", \"origins\", \"origins_tags\", \"origins_en\", \"manufacturing_places\", \"manufacturing_places_tags\", \"labels\", \"labels_tags\", \"labels_en\", \"emb_codes\", \"emb_codes_tags\", \"first_packaging_code_geo\", \"cities\", \"cities_tags\", \"purchase_places\", \"stores\", \"countries\", \"countries_tags\", \"countries_en\", ]\n",
    "\n",
    "ingredient = [\"ingredients_text\", \"ingredients_tags\", \"ingredients_analysis_tags\", \"allergens\", \"allergens_en\", \"traces\", \"traces_tags\", \"traces_en\", \"serving_size\", \"serving_quantity\", \"no_nutrition_data\", \"additives_n\", \"additives\", \"additives_tags\", \"additives_en\", ]\n",
    "\n"
   ]
  },
  {
   "cell_type": "code",
   "execution_count": 45,
   "metadata": {},
   "outputs": [],
   "source": [
    "def non_na_rows(df, col):\n",
    "    return df[~df[col].isna()][[col]].reset_index(drop=True)"
   ]
  },
  {
   "cell_type": "code",
   "execution_count": 48,
   "metadata": {},
   "outputs": [
    {
     "data": {
      "text/html": [
       "<div>\n",
       "<style scoped>\n",
       "    .dataframe tbody tr th:only-of-type {\n",
       "        vertical-align: middle;\n",
       "    }\n",
       "\n",
       "    .dataframe tbody tr th {\n",
       "        vertical-align: top;\n",
       "    }\n",
       "\n",
       "    .dataframe thead th {\n",
       "        text-align: right;\n",
       "    }\n",
       "</style>\n",
       "<table border=\"1\" class=\"dataframe\">\n",
       "  <thead>\n",
       "    <tr style=\"text-align: right;\">\n",
       "      <th></th>\n",
       "      <th>cholesterol_100g</th>\n",
       "    </tr>\n",
       "  </thead>\n",
       "  <tbody>\n",
       "    <tr>\n",
       "      <th>0</th>\n",
       "      <td>0.00000</td>\n",
       "    </tr>\n",
       "    <tr>\n",
       "      <th>1</th>\n",
       "      <td>0.00333</td>\n",
       "    </tr>\n",
       "    <tr>\n",
       "      <th>2</th>\n",
       "      <td>0.00000</td>\n",
       "    </tr>\n",
       "    <tr>\n",
       "      <th>3</th>\n",
       "      <td>0.00000</td>\n",
       "    </tr>\n",
       "    <tr>\n",
       "      <th>4</th>\n",
       "      <td>0.01030</td>\n",
       "    </tr>\n",
       "    <tr>\n",
       "      <th>5</th>\n",
       "      <td>0.00667</td>\n",
       "    </tr>\n",
       "  </tbody>\n",
       "</table>\n",
       "</div>"
      ],
      "text/plain": [
       "   cholesterol_100g\n",
       "0           0.00000\n",
       "1           0.00333\n",
       "2           0.00000\n",
       "3           0.00000\n",
       "4           0.01030\n",
       "5           0.00667"
      ]
     },
     "execution_count": 48,
     "metadata": {},
     "output_type": "execute_result"
    }
   ],
   "source": [
    "non_na_rows(df, 'cholesterol_100g')"
   ]
  },
  {
   "cell_type": "code",
   "execution_count": 17,
   "metadata": {},
   "outputs": [
    {
     "data": {
      "text/html": [
       "<div>\n",
       "<style scoped>\n",
       "    .dataframe tbody tr th:only-of-type {\n",
       "        vertical-align: middle;\n",
       "    }\n",
       "\n",
       "    .dataframe tbody tr th {\n",
       "        vertical-align: top;\n",
       "    }\n",
       "\n",
       "    .dataframe thead th {\n",
       "        text-align: right;\n",
       "    }\n",
       "</style>\n",
       "<table border=\"1\" class=\"dataframe\">\n",
       "  <thead>\n",
       "    <tr style=\"text-align: right;\">\n",
       "      <th></th>\n",
       "      <th>product_name</th>\n",
       "      <th>countries_en</th>\n",
       "      <th>brands</th>\n",
       "      <th>abbreviated_product_name</th>\n",
       "      <th>generic_name</th>\n",
       "      <th>quantity</th>\n",
       "    </tr>\n",
       "  </thead>\n",
       "  <tbody>\n",
       "    <tr>\n",
       "      <th>0</th>\n",
       "      <td>Choco Stick chocolat au lait</td>\n",
       "      <td>France,World</td>\n",
       "      <td>Auchan</td>\n",
       "      <td>Auchan choco stick chocolat lait 15</td>\n",
       "      <td>Bâtonnets de biscuits enrobés de chocolat au lait</td>\n",
       "      <td>0.115 kg</td>\n",
       "    </tr>\n",
       "    <tr>\n",
       "      <th>1</th>\n",
       "      <td>Fromage à tartiner ail et fines herbes</td>\n",
       "      <td>France,World</td>\n",
       "      <td>Pouce</td>\n",
       "      <td>Pouce fromage a tartiner ail et fin</td>\n",
       "      <td>Fromage à tartiner à l'ail et aux fines herbes</td>\n",
       "      <td>0.15 kg</td>\n",
       "    </tr>\n",
       "    <tr>\n",
       "      <th>2</th>\n",
       "      <td>AUCHAN Noir praliné et éclats de nougatine 150g</td>\n",
       "      <td>France,World</td>\n",
       "      <td>Auchan, Auchan Gourmet</td>\n",
       "      <td>Auchan gourmet choco nr praline pep</td>\n",
       "      <td>Chocolat noir fourrage (48%) au praliné et aux...</td>\n",
       "      <td>0.15 kg</td>\n",
       "    </tr>\n",
       "    <tr>\n",
       "      <th>3</th>\n",
       "      <td>Epinards en branches en portions</td>\n",
       "      <td>France,World</td>\n",
       "      <td>Auchan</td>\n",
       "      <td>Auchan epinards branches en portion</td>\n",
       "      <td>Epinards en branches, en portions, surgelés</td>\n",
       "      <td>1 kg</td>\n",
       "    </tr>\n",
       "    <tr>\n",
       "      <th>4</th>\n",
       "      <td>AUCHAN Lait façon rocher</td>\n",
       "      <td>France,World</td>\n",
       "      <td>Auchan</td>\n",
       "      <td>Auchan gou chocolat lait facon roch</td>\n",
       "      <td>Chocolat supérieur au lait (52%) fourrage au p...</td>\n",
       "      <td>0.15 kg</td>\n",
       "    </tr>\n",
       "  </tbody>\n",
       "</table>\n",
       "</div>"
      ],
      "text/plain": [
       "                                      product_name  countries_en  \\\n",
       "0                     Choco Stick chocolat au lait  France,World   \n",
       "1           Fromage à tartiner ail et fines herbes  France,World   \n",
       "2  AUCHAN Noir praliné et éclats de nougatine 150g  France,World   \n",
       "3                 Epinards en branches en portions  France,World   \n",
       "4                         AUCHAN Lait façon rocher  France,World   \n",
       "\n",
       "                   brands             abbreviated_product_name  \\\n",
       "0                  Auchan  Auchan choco stick chocolat lait 15   \n",
       "1                   Pouce  Pouce fromage a tartiner ail et fin   \n",
       "2  Auchan, Auchan Gourmet  Auchan gourmet choco nr praline pep   \n",
       "3                  Auchan  Auchan epinards branches en portion   \n",
       "4                  Auchan  Auchan gou chocolat lait facon roch   \n",
       "\n",
       "                                        generic_name  quantity  \n",
       "0  Bâtonnets de biscuits enrobés de chocolat au lait  0.115 kg  \n",
       "1     Fromage à tartiner à l'ail et aux fines herbes   0.15 kg  \n",
       "2  Chocolat noir fourrage (48%) au praliné et aux...   0.15 kg  \n",
       "3        Epinards en branches, en portions, surgelés      1 kg  \n",
       "4  Chocolat supérieur au lait (52%) fourrage au p...   0.15 kg  "
      ]
     },
     "execution_count": 17,
     "metadata": {},
     "output_type": "execute_result"
    }
   ],
   "source": [
    "# df[gen_columns].head()\n",
    "subset_gen_columns = ['product_name', 'countries_en', 'brands', 'abbreviated_product_name', 'generic_name', 'quantity', 'countries_en']\n",
    "df[subset_gen_columns].head()"
   ]
  },
  {
   "cell_type": "code",
   "execution_count": 18,
   "metadata": {},
   "outputs": [],
   "source": [
    "# df[ingredient].head()"
   ]
  },
  {
   "cell_type": "code",
   "execution_count": 31,
   "metadata": {},
   "outputs": [
    {
     "data": {
      "text/html": [
       "<div>\n",
       "<style scoped>\n",
       "    .dataframe tbody tr th:only-of-type {\n",
       "        vertical-align: middle;\n",
       "    }\n",
       "\n",
       "    .dataframe tbody tr th {\n",
       "        vertical-align: top;\n",
       "    }\n",
       "\n",
       "    .dataframe thead th {\n",
       "        text-align: right;\n",
       "    }\n",
       "</style>\n",
       "<table border=\"1\" class=\"dataframe\">\n",
       "  <thead>\n",
       "    <tr style=\"text-align: right;\">\n",
       "      <th></th>\n",
       "      <th>ecoscore_score</th>\n",
       "      <th>ecoscore_grade</th>\n",
       "      <th>nutrient_levels_tags</th>\n",
       "      <th>main_category_en</th>\n",
       "      <th>nutriscore_score</th>\n",
       "      <th>nutriscore_grade</th>\n",
       "      <th>nova_group</th>\n",
       "      <th>food_groups_en</th>\n",
       "    </tr>\n",
       "  </thead>\n",
       "  <tbody>\n",
       "    <tr>\n",
       "      <th>0</th>\n",
       "      <td>34.0</td>\n",
       "      <td>d</td>\n",
       "      <td>en:fat-in-high-quantity,en:saturated-fat-in-hi...</td>\n",
       "      <td>Stick biscuits covered with chocolate</td>\n",
       "      <td>22.0</td>\n",
       "      <td>e</td>\n",
       "      <td>4.0</td>\n",
       "      <td>Sugary snacks,Biscuits and cakes</td>\n",
       "    </tr>\n",
       "    <tr>\n",
       "      <th>1</th>\n",
       "      <td>NaN</td>\n",
       "      <td>unknown</td>\n",
       "      <td>NaN</td>\n",
       "      <td>NaN</td>\n",
       "      <td>NaN</td>\n",
       "      <td>unknown</td>\n",
       "      <td>NaN</td>\n",
       "      <td>NaN</td>\n",
       "    </tr>\n",
       "    <tr>\n",
       "      <th>2</th>\n",
       "      <td>15.0</td>\n",
       "      <td>e</td>\n",
       "      <td>en:fat-in-high-quantity,en:saturated-fat-in-hi...</td>\n",
       "      <td>Dark chocolates</td>\n",
       "      <td>21.0</td>\n",
       "      <td>e</td>\n",
       "      <td>4.0</td>\n",
       "      <td>Sugary snacks,Chocolate products</td>\n",
       "    </tr>\n",
       "    <tr>\n",
       "      <th>3</th>\n",
       "      <td>NaN</td>\n",
       "      <td>unknown</td>\n",
       "      <td>NaN</td>\n",
       "      <td>NaN</td>\n",
       "      <td>NaN</td>\n",
       "      <td>unknown</td>\n",
       "      <td>NaN</td>\n",
       "      <td>NaN</td>\n",
       "    </tr>\n",
       "    <tr>\n",
       "      <th>4</th>\n",
       "      <td>18.0</td>\n",
       "      <td>e</td>\n",
       "      <td>en:fat-in-high-quantity,en:saturated-fat-in-hi...</td>\n",
       "      <td>Milk chocolates</td>\n",
       "      <td>24.0</td>\n",
       "      <td>e</td>\n",
       "      <td>4.0</td>\n",
       "      <td>Sugary snacks,Chocolate products</td>\n",
       "    </tr>\n",
       "  </tbody>\n",
       "</table>\n",
       "</div>"
      ],
      "text/plain": [
       "   ecoscore_score ecoscore_grade  \\\n",
       "0            34.0              d   \n",
       "1             NaN        unknown   \n",
       "2            15.0              e   \n",
       "3             NaN        unknown   \n",
       "4            18.0              e   \n",
       "\n",
       "                                nutrient_levels_tags  \\\n",
       "0  en:fat-in-high-quantity,en:saturated-fat-in-hi...   \n",
       "1                                                NaN   \n",
       "2  en:fat-in-high-quantity,en:saturated-fat-in-hi...   \n",
       "3                                                NaN   \n",
       "4  en:fat-in-high-quantity,en:saturated-fat-in-hi...   \n",
       "\n",
       "                        main_category_en  nutriscore_score nutriscore_grade  \\\n",
       "0  Stick biscuits covered with chocolate              22.0                e   \n",
       "1                                    NaN               NaN          unknown   \n",
       "2                        Dark chocolates              21.0                e   \n",
       "3                                    NaN               NaN          unknown   \n",
       "4                        Milk chocolates              24.0                e   \n",
       "\n",
       "   nova_group                    food_groups_en  \n",
       "0         4.0  Sugary snacks,Biscuits and cakes  \n",
       "1         NaN                               NaN  \n",
       "2         4.0  Sugary snacks,Chocolate products  \n",
       "3         NaN                               NaN  \n",
       "4         4.0  Sugary snacks,Chocolate products  "
      ]
     },
     "execution_count": 31,
     "metadata": {},
     "output_type": "execute_result"
    }
   ],
   "source": [
    "# df[more_score_columns].head()\n",
    "subset_scores_columns = ['ecoscore_score', 'ecoscore_grade', 'nutrient_levels_tags', 'main_category_en', 'nutriscore_score', 'nutriscore_grade', 'nova_group', 'food_groups_en']\n",
    "df[subset_scores_columns].head()\n"
   ]
  },
  {
   "cell_type": "code",
   "execution_count": 30,
   "metadata": {},
   "outputs": [],
   "source": [
    "# df[score_columns].head()"
   ]
  },
  {
   "cell_type": "code",
   "execution_count": 29,
   "metadata": {},
   "outputs": [],
   "source": [
    "# for key, value in df.isna().mean().items():\n",
    "#     print(key, value)"
   ]
  },
  {
   "cell_type": "code",
   "execution_count": 49,
   "metadata": {},
   "outputs": [
    {
     "data": {
      "text/plain": [
       "['code',\n",
       " 'product_name',\n",
       " 'countries_en',\n",
       " 'brands',\n",
       " 'abbreviated_product_name',\n",
       " 'generic_name',\n",
       " 'quantity',\n",
       " 'ecoscore_score',\n",
       " 'ecoscore_grade',\n",
       " 'nutrient_levels_tags',\n",
       " 'main_category_en',\n",
       " 'nutriscore_score',\n",
       " 'nutriscore_grade',\n",
       " 'nova_group',\n",
       " 'food_groups_en']"
      ]
     },
     "execution_count": 49,
     "metadata": {},
     "output_type": "execute_result"
    }
   ],
   "source": [
    "columns = ['code'] + subset_gen_columns + subset_scores_columns\n",
    "columns"
   ]
  },
  {
   "cell_type": "code",
   "execution_count": 51,
   "metadata": {},
   "outputs": [],
   "source": [
    "df[columns]"
   ]
  }
 ],
 "metadata": {
  "kernelspec": {
   "display_name": "bigData",
   "language": "python",
   "name": "python3"
  },
  "language_info": {
   "codemirror_mode": {
    "name": "ipython",
    "version": 3
   },
   "file_extension": ".py",
   "mimetype": "text/x-python",
   "name": "python",
   "nbconvert_exporter": "python",
   "pygments_lexer": "ipython3",
   "version": "3.10.13"
  }
 },
 "nbformat": 4,
 "nbformat_minor": 2
}
