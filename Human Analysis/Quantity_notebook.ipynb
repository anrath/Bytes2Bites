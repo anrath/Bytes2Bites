{
 "cells": [
  {
   "cell_type": "code",
   "execution_count": 113,
   "metadata": {},
   "outputs": [
    {
     "name": "stderr",
     "output_type": "stream",
     "text": [
      "2024-04-03 17:19:27,274\tINFO worker.py:1642 -- Started a local Ray instance.\n"
     ]
    },
    {
     "data": {
      "application/vnd.jupyter.widget-view+json": {
       "model_id": "45639133e48d4dbc9d8136e513bd04d3",
       "version_major": 2,
       "version_minor": 0
      },
      "text/html": [
       "<div class=\"lm-Widget p-Widget lm-Panel p-Panel jp-Cell-outputWrapper\">\n",
       "    <div style=\"margin-left: 50px;display: flex;flex-direction: row;align-items: center\">\n",
       "        <div class=\"jp-RenderedHTMLCommon\" style=\"display: flex; flex-direction: row;\">\n",
       "  <svg viewBox=\"0 0 567 224\" fill=\"none\" xmlns=\"http://www.w3.org/2000/svg\" style=\"height: 3em;\">\n",
       "    <g clip-path=\"url(#clip0_4338_178347)\">\n",
       "        <path d=\"M341.29 165.561H355.29L330.13 129.051C345.63 123.991 354.21 112.051 354.21 94.2307C354.21 71.3707 338.72 58.1807 311.88 58.1807H271V165.561H283.27V131.661H311.8C314.25 131.661 316.71 131.501 319.01 131.351L341.25 165.561H341.29ZM283.29 119.851V70.0007H311.82C331.3 70.0007 342.34 78.2907 342.34 94.5507C342.34 111.271 331.34 119.861 311.82 119.861L283.29 119.851ZM451.4 138.411L463.4 165.561H476.74L428.74 58.1807H416L367.83 165.561H380.83L392.83 138.411H451.4ZM446.19 126.601H398L422 72.1407L446.24 126.601H446.19ZM526.11 128.741L566.91 58.1807H554.35L519.99 114.181L485.17 58.1807H472.44L514.01 129.181V165.541H526.13V128.741H526.11Z\" fill=\"var(--jp-ui-font-color0)\"/>\n",
       "        <path d=\"M82.35 104.44C84.0187 97.8827 87.8248 92.0678 93.1671 87.9146C98.5094 83.7614 105.083 81.5067 111.85 81.5067C118.617 81.5067 125.191 83.7614 130.533 87.9146C135.875 92.0678 139.681 97.8827 141.35 104.44H163.75C164.476 101.562 165.622 98.8057 167.15 96.2605L127.45 56.5605C121.071 60.3522 113.526 61.6823 106.235 60.3005C98.9443 58.9187 92.4094 54.9203 87.8602 49.0574C83.3109 43.1946 81.0609 35.8714 81.5332 28.4656C82.0056 21.0599 85.1679 14.0819 90.4252 8.8446C95.6824 3.60726 102.672 0.471508 110.08 0.0272655C117.487 -0.416977 124.802 1.86091 130.647 6.4324C136.493 11.0039 140.467 17.5539 141.821 24.8501C143.175 32.1463 141.816 39.6859 138 46.0505L177.69 85.7505C182.31 82.9877 187.58 81.4995 192.962 81.4375C198.345 81.3755 203.648 82.742 208.33 85.3976C213.012 88.0532 216.907 91.9029 219.616 96.5544C222.326 101.206 223.753 106.492 223.753 111.875C223.753 117.258 222.326 122.545 219.616 127.197C216.907 131.848 213.012 135.698 208.33 138.353C203.648 141.009 198.345 142.375 192.962 142.313C187.58 142.251 182.31 140.763 177.69 138L138 177.7C141.808 184.071 143.155 191.614 141.79 198.91C140.424 206.205 136.44 212.75 130.585 217.313C124.731 221.875 117.412 224.141 110.004 223.683C102.596 223.226 95.6103 220.077 90.3621 214.828C85.1139 209.58 81.9647 202.595 81.5072 195.187C81.0497 187.779 83.3154 180.459 87.878 174.605C92.4405 168.751 98.9853 164.766 106.281 163.401C113.576 162.035 121.119 163.383 127.49 167.19L167.19 127.49C165.664 124.941 164.518 122.182 163.79 119.3H141.39C139.721 125.858 135.915 131.673 130.573 135.826C125.231 139.98 118.657 142.234 111.89 142.234C105.123 142.234 98.5494 139.98 93.2071 135.826C87.8648 131.673 84.0587 125.858 82.39 119.3H60C58.1878 126.495 53.8086 132.78 47.6863 136.971C41.5641 141.163 34.1211 142.972 26.7579 142.059C19.3947 141.146 12.6191 137.574 7.70605 132.014C2.79302 126.454 0.0813599 119.29 0.0813599 111.87C0.0813599 104.451 2.79302 97.2871 7.70605 91.7272C12.6191 86.1673 19.3947 82.5947 26.7579 81.6817C34.1211 80.7686 41.5641 82.5781 47.6863 86.7696C53.8086 90.9611 58.1878 97.2456 60 104.44H82.35ZM100.86 204.32C103.407 206.868 106.759 208.453 110.345 208.806C113.93 209.159 117.527 208.258 120.522 206.256C123.517 204.254 125.725 201.276 126.771 197.828C127.816 194.38 127.633 190.677 126.253 187.349C124.874 184.021 122.383 181.274 119.205 179.577C116.027 177.88 112.359 177.337 108.826 178.042C105.293 178.746 102.113 180.654 99.8291 183.44C97.5451 186.226 96.2979 189.718 96.3 193.32C96.2985 195.364 96.7006 197.388 97.4831 199.275C98.2656 201.163 99.4132 202.877 100.86 204.32ZM204.32 122.88C206.868 120.333 208.453 116.981 208.806 113.396C209.159 109.811 208.258 106.214 206.256 103.219C204.254 100.223 201.275 98.0151 197.827 96.97C194.38 95.9249 190.676 96.1077 187.348 97.4873C184.02 98.8669 181.274 101.358 179.577 104.536C177.879 107.714 177.337 111.382 178.041 114.915C178.746 118.448 180.653 121.627 183.439 123.911C186.226 126.195 189.717 127.443 193.32 127.44C195.364 127.443 197.388 127.042 199.275 126.259C201.163 125.476 202.878 124.328 204.32 122.88ZM122.88 19.4205C120.333 16.8729 116.981 15.2876 113.395 14.9347C109.81 14.5817 106.213 15.483 103.218 17.4849C100.223 19.4868 98.0146 22.4654 96.9696 25.9131C95.9245 29.3608 96.1073 33.0642 97.4869 36.3922C98.8665 39.7202 101.358 42.4668 104.535 44.1639C107.713 45.861 111.381 46.4036 114.914 45.6992C118.447 44.9949 121.627 43.0871 123.911 40.301C126.195 37.515 127.442 34.0231 127.44 30.4205C127.44 28.3772 127.038 26.3539 126.255 24.4664C125.473 22.5788 124.326 20.8642 122.88 19.4205ZM19.42 100.86C16.8725 103.408 15.2872 106.76 14.9342 110.345C14.5813 113.93 15.4826 117.527 17.4844 120.522C19.4863 123.518 22.4649 125.726 25.9127 126.771C29.3604 127.816 33.0638 127.633 36.3918 126.254C39.7198 124.874 42.4664 122.383 44.1635 119.205C45.8606 116.027 46.4032 112.359 45.6988 108.826C44.9944 105.293 43.0866 102.114 40.3006 99.8296C37.5145 97.5455 34.0227 96.2983 30.42 96.3005C26.2938 96.3018 22.337 97.9421 19.42 100.86ZM100.86 100.86C98.3125 103.408 96.7272 106.76 96.3742 110.345C96.0213 113.93 96.9226 117.527 98.9244 120.522C100.926 123.518 103.905 125.726 107.353 126.771C110.8 127.816 114.504 127.633 117.832 126.254C121.16 124.874 123.906 122.383 125.604 119.205C127.301 116.027 127.843 112.359 127.139 108.826C126.434 105.293 124.527 102.114 121.741 99.8296C118.955 97.5455 115.463 96.2983 111.86 96.3005C109.817 96.299 107.793 96.701 105.905 97.4835C104.018 98.2661 102.303 99.4136 100.86 100.86Z\" fill=\"#00AEEF\"/>\n",
       "    </g>\n",
       "    <defs>\n",
       "        <clipPath id=\"clip0_4338_178347\">\n",
       "            <rect width=\"566.93\" height=\"223.75\" fill=\"white\"/>\n",
       "        </clipPath>\n",
       "    </defs>\n",
       "  </svg>\n",
       "</div>\n",
       "\n",
       "        <table class=\"jp-RenderedHTMLCommon\" style=\"border-collapse: collapse;color: var(--jp-ui-font-color1);font-size: var(--jp-ui-font-size1);\">\n",
       "    <tr>\n",
       "        <td style=\"text-align: left\"><b>Python version:</b></td>\n",
       "        <td style=\"text-align: left\"><b>3.7.4</b></td>\n",
       "    </tr>\n",
       "    <tr>\n",
       "        <td style=\"text-align: left\"><b>Ray version:</b></td>\n",
       "        <td style=\"text-align: left\"><b>2.7.2</b></td>\n",
       "    </tr>\n",
       "    \n",
       "</table>\n",
       "\n",
       "    </div>\n",
       "</div>\n"
      ],
      "text/plain": [
       "RayContext(dashboard_url='', python_version='3.7.4', ray_version='2.7.2', ray_commit='82221fbf2c0e6304f981ce613e4297eb7535dd52', protocol_version=None)"
      ]
     },
     "execution_count": 113,
     "metadata": {},
     "output_type": "execute_result"
    }
   ],
   "source": [
    "import pandas as pd\n",
    "from typing import Dict, Callable, List\n",
    "import ray\n",
    "ray.init(num_cpus=4)"
   ]
  },
  {
   "cell_type": "code",
   "execution_count": null,
   "metadata": {},
   "outputs": [],
   "source": []
  },
  {
   "cell_type": "code",
   "execution_count": 139,
   "metadata": {},
   "outputs": [],
   "source": [
    "# Defined based on the logic you are doing\n",
    "def grouped_mean_chunk(df: pd.DataFrame, groupCols: List, selectCol: str, **kwargs) -> pd.DataFrame:\n",
    "    return df.groupby(groupCols)[selectCol].agg(['count', 'sum'])\n",
    "\n",
    "# Defined based on the logic you are doing\n",
    "def grouped_mean_agg(df: pd.DataFrame, rename: str, groupCols: List, **kwargs) -> pd.DataFrame:\n",
    "    df = df.reset_index()\n",
    "    agg_df = df.groupby(groupCols).agg(total_sum=('sum', 'sum'), total_count=('count', 'sum'))\n",
    "    agg_df[rename] = agg_df.apply(lambda row: row['total_sum'] / row['total_count'], axis=1)\n",
    "    \n",
    "    return agg_df[rename].reset_index()\n",
    "\n",
    "# Will not be changed\n",
    "@ray.remote\n",
    "def process_chunk(chunk: pd.DataFrame, dfMethod: Callable, **kwargs) -> pd.DataFrame:\n",
    "    \"\"\"\n",
    "    Calculate the mean of specified columns, grouped by a specified category, for a given DataFrame chunk.\n",
    "\n",
    "    Args:\n",
    "    - chunk (pd.DataFrame): A chunk of the DataFrame.\n",
    "    - dfMethod (Callable): A function that takes in a dataframe as an input and returns a dataframe\n",
    "    - **kwargs: Additional keyword arguments to pass to dfMethod.\n",
    "\n",
    "    Returns:\n",
    "    - pd.DataFrame\n",
    "    \"\"\"\n",
    "    return dfMethod(chunk, **kwargs)\n",
    "\n",
    "# Will not be changed\n",
    "def process_file(file_path: str, dfMethod: Callable, aggMethod: Callable, separator: str = '\\t', save: bool = False, **kwargs) -> None:\n",
    "    \"\"\"\n",
    "    Process a large CSV file to compute grouped means for specified columns and save the results.\n",
    "\n",
    "    Args:\n",
    "    - file_path (str): The path to the CSV file.\n",
    "    - dfMethod (Callable): A function that takes in a dataframe (chunk) as an input and returns a dataframe\n",
    "    - aggMethod (Callable): A function that aggregates the concatenated results from all chunks\n",
    "    - separator (str): delimiter for the input file\n",
    "    - **kwargs: Additional keyword arguments to pass to both dfMethod and aggMethod.\n",
    "    \"\"\"\n",
    "    chunk_size = 1000  # Define chunk size based on system's memory.\n",
    "\n",
    "    results = []\n",
    "    for chunk in pd.read_csv(file_path, chunksize=chunk_size, sep=separator, low_memory=False):\n",
    "        result = process_chunk.remote(chunk, dfMethod, **kwargs)\n",
    "        results.append(result)\n",
    "\n",
    "    # Retrieve and combine results from all chunks.\n",
    "    combined_results = pd.concat(ray.get(results))\n",
    "\n",
    "    # Uncomment for debugging purposes. \n",
    "    # combined_results.to_csv(\"data/grouped_means_combined.csv\", index=True)\n",
    "\n",
    "    # Final aggregation to ensure accurate mean calculation across all chunks.\n",
    "    final_result = aggMethod(combined_results, **kwargs)\n",
    "\n",
    "    if save:\n",
    "        final_result.to_csv(\"data/grouped_means_results.csv\", index=False)\n",
    "        \n",
    "    return final_result\n",
    "\n",
    "def grams_chunk(df_first: pd.DataFrame, **kwargs) -> pd.DataFrame:\n",
    "    df = df_first.copy()\n",
    "    for i in range(len(df)):\n",
    "    #print(i)\n",
    "        try:\n",
    "            df['quantity'][i] = df['quantity'][i].split(\" \")\n",
    "        except:\n",
    "            continue\n",
    "    #if df['quantity'][i] == df['quantity'][i]:\n",
    "       # df['quantity'][i] = df['quantity'][i].split(\" \")\n",
    "    #else:\n",
    "    #    continue\n",
    "    #print(len(df['quantity'][i]))\n",
    "        if len(df['quantity'][i]) == 2:\n",
    "            if (df['quantity'][i][1] == \"g\" or df['quantity'][i][1] == \"kg\"):\n",
    "                if (df['quantity'][i][1] == \"kg\"):\n",
    "                #new_df['quantity'][i][1] = \"g\"\n",
    "                    try:\n",
    "                        df['quantity'][i] = np.float(new_df['quantity'][i][0]) * 1000\n",
    "                    except:\n",
    "                        df['quantity'][i] = np.nan\n",
    "                else:\n",
    "                    try:\n",
    "                        df['quantity'][i] = np.float(new_df['quantity'][i][0])\n",
    "                    except:\n",
    "                        df['quantity'][i] = np.nan\n",
    "            else:\n",
    "                df['quantity'][i] = np.nan\n",
    "        else:\n",
    "            df['quantity'][i] = np.nan\n",
    "    \n",
    "    return df\n",
    "\n",
    "# Defined based on the logic you are doing\n",
    "def grams_agg(df: pd.DataFrame, **kwargs) -> pd.DataFrame:\n",
    "       \n",
    "    return df\n",
    "\n",
    "# Defined based on the logic you are doing\n",
    "def countries_chunk(df: pd.DataFrame, selectCol: str, **kwargs) -> pd.DataFrame:\n",
    "    df['countries_en_c'] = df.countries_en.str.lower()\n",
    "\n",
    "# Strip whitespaces\n",
    "    df.countries_en_c = df.countries_en_c.str.strip()\n",
    "    \n",
    "# Replace multiple whitespaces with only one space\n",
    "    df.countries_en_c = df.countries_en_c.str.replace(r\"\\s+\", \" \")\n",
    "\n",
    "# Remove whitespaces after comma\n",
    "    df.countries_en_c = df.countries_en_c.str.replace(r\",\\s+\", \",\")\n",
    "\n",
    "# Remove some special characters (used in regex)\n",
    "    df.countries_en_c = df.countries_en_c.str.replace(r\"[\\*|\\?|\\.]\", \"\")\n",
    "\n",
    "    df_packagings = df.countries_en_c.str.extractall(r\"(?P<countries_1>[^,]+)\")\n",
    "\n",
    "# Reset the index\n",
    "    df_packagings.reset_index(inplace=True)\n",
    "\n",
    "# Drop the automatically created column: match\n",
    "    df_packagings.drop('match', axis=1, inplace=True)\n",
    "\n",
    "# Remove duplicates\n",
    "    df_packagings.drop_duplicates(inplace=True)\n",
    "\n",
    "# Set the code as the index\n",
    "#df_packagings.set_index('code', inplace=True)\n",
    "\n",
    "    df_packagings.countries_1.unique()\n",
    "\n",
    "    df_packagings = df_packagings.merge(df, right_index=True, left_index=True)\n",
    "\n",
    "\n",
    "# Drop rows where column 'A' has NA values\n",
    "    df_packagings_dropped = df_packagings.dropna(subset=[selectCol])\n",
    "\n",
    "    return df_packagings_dropped\n",
    "\n",
    "# Defined based on the logic you are doing\n",
    "def countries_agg(df: pd.DataFrame, **kwargs) -> pd.DataFrame:\n",
    "    \n",
    "    return df"
   ]
  },
  {
   "cell_type": "code",
   "execution_count": 116,
   "metadata": {},
   "outputs": [
    {
     "name": "stderr",
     "output_type": "stream",
     "text": [
      "/opt/anaconda3/lib/python3.7/site-packages/IPython/core/interactiveshell.py:3326: DtypeWarning:\n",
      "\n",
      "Columns (67) have mixed types.Specify dtype option on import or set low_memory=False.\n",
      "\n"
     ]
    }
   ],
   "source": [
    "df = pd.read_csv('small.csv', delimiter='\\t')"
   ]
  },
  {
   "cell_type": "code",
   "execution_count": 123,
   "metadata": {},
   "outputs": [
    {
     "name": "stderr",
     "output_type": "stream",
     "text": [
      "\u001b[2m\u001b[36m(process_chunk pid=9145)\u001b[0m /opt/anaconda3/lib/python3.7/site-packages/ray/_private/workers/default_worker.py:67: SettingWithCopyWarning: \n",
      "\u001b[2m\u001b[36m(process_chunk pid=9145)\u001b[0m A value is trying to be set on a copy of a slice from a DataFrame\n",
      "\u001b[2m\u001b[36m(process_chunk pid=9145)\u001b[0m \n",
      "\u001b[2m\u001b[36m(process_chunk pid=9145)\u001b[0m See the caveats in the documentation: https://pandas.pydata.org/pandas-docs/stable/user_guide/indexing.html#returning-a-view-versus-a-copy\n",
      "\u001b[2m\u001b[36m(process_chunk pid=9145)\u001b[0m   parser.add_argument(\n",
      "\u001b[2m\u001b[36m(process_chunk pid=9145)\u001b[0m /opt/anaconda3/lib/python3.7/site-packages/ray/_private/workers/default_worker.py:80: DeprecationWarning: `np.float` is a deprecated alias for the builtin `float`. To silence this warning, use `float` by itself. Doing this will not modify any behavior and is safe. If you specifically wanted the numpy scalar type, use `np.float64` here.\n",
      "\u001b[2m\u001b[36m(process_chunk pid=9145)\u001b[0m Deprecated in NumPy 1.20; for more details and guidance: https://numpy.org/devdocs/release/1.20.0-notes.html#deprecations\n",
      "\u001b[2m\u001b[36m(process_chunk pid=9145)\u001b[0m   )\n",
      "\u001b[2m\u001b[36m(process_chunk pid=9145)\u001b[0m /opt/anaconda3/lib/python3.7/site-packages/ray/_private/workers/default_worker.py:82: SettingWithCopyWarning: \n",
      "\u001b[2m\u001b[36m(process_chunk pid=9145)\u001b[0m A value is trying to be set on a copy of a slice from a DataFrame\n",
      "\u001b[2m\u001b[36m(process_chunk pid=9145)\u001b[0m \n",
      "\u001b[2m\u001b[36m(process_chunk pid=9145)\u001b[0m See the caveats in the documentation: https://pandas.pydata.org/pandas-docs/stable/user_guide/indexing.html#returning-a-view-versus-a-copy\n",
      "\u001b[2m\u001b[36m(process_chunk pid=9145)\u001b[0m   \"--storage\",\n",
      "\u001b[2m\u001b[36m(process_chunk pid=9145)\u001b[0m /opt/anaconda3/lib/python3.7/site-packages/ray/_private/workers/default_worker.py:89: SettingWithCopyWarning: \n",
      "\u001b[2m\u001b[36m(process_chunk pid=9145)\u001b[0m A value is trying to be set on a copy of a slice from a DataFrame\n",
      "\u001b[2m\u001b[36m(process_chunk pid=9145)\u001b[0m \n",
      "\u001b[2m\u001b[36m(process_chunk pid=9145)\u001b[0m See the caveats in the documentation: https://pandas.pydata.org/pandas-docs/stable/user_guide/indexing.html#returning-a-view-versus-a-copy\n",
      "\u001b[2m\u001b[36m(process_chunk pid=9145)\u001b[0m   \"--load-code-from-local\",\n",
      "\u001b[2m\u001b[36m(process_chunk pid=9145)\u001b[0m /opt/anaconda3/lib/python3.7/site-packages/ray/_private/workers/default_worker.py:85: DeprecationWarning: `np.float` is a deprecated alias for the builtin `float`. To silence this warning, use `float` by itself. Doing this will not modify any behavior and is safe. If you specifically wanted the numpy scalar type, use `np.float64` here.\n",
      "\u001b[2m\u001b[36m(process_chunk pid=9145)\u001b[0m Deprecated in NumPy 1.20; for more details and guidance: https://numpy.org/devdocs/release/1.20.0-notes.html#deprecations\n",
      "\u001b[2m\u001b[36m(process_chunk pid=9145)\u001b[0m   default=None,\n",
      "\u001b[2m\u001b[36m(process_chunk pid=9145)\u001b[0m /opt/anaconda3/lib/python3.7/site-packages/ray/_private/workers/default_worker.py:87: SettingWithCopyWarning: \n",
      "\u001b[2m\u001b[36m(process_chunk pid=9145)\u001b[0m A value is trying to be set on a copy of a slice from a DataFrame\n",
      "\u001b[2m\u001b[36m(process_chunk pid=9145)\u001b[0m \n",
      "\u001b[2m\u001b[36m(process_chunk pid=9145)\u001b[0m See the caveats in the documentation: https://pandas.pydata.org/pandas-docs/stable/user_guide/indexing.html#returning-a-view-versus-a-copy\n",
      "\u001b[2m\u001b[36m(process_chunk pid=9145)\u001b[0m   )\n",
      "\u001b[2m\u001b[36m(process_chunk pid=9145)\u001b[0m /opt/anaconda3/lib/python3.7/site-packages/ray/_private/workers/default_worker.py:91: SettingWithCopyWarning: \n",
      "\u001b[2m\u001b[36m(process_chunk pid=9145)\u001b[0m A value is trying to be set on a copy of a slice from a DataFrame\n",
      "\u001b[2m\u001b[36m(process_chunk pid=9145)\u001b[0m \n",
      "\u001b[2m\u001b[36m(process_chunk pid=9145)\u001b[0m See the caveats in the documentation: https://pandas.pydata.org/pandas-docs/stable/user_guide/indexing.html#returning-a-view-versus-a-copy\n",
      "\u001b[2m\u001b[36m(process_chunk pid=9145)\u001b[0m   action=\"store_true\",\n"
     ]
    }
   ],
   "source": [
    "#groupCols = ['food_groups_en']\n",
    "#selectCol = 'ecoscore_score'\n",
    "#rename = 'mean_ecoscore_score'\n",
    "\n",
    "df = process_file(\n",
    "    file_path='small.csv',\n",
    "    dfMethod=grams_chunk,\n",
    "    aggMethod=grams_agg,\n",
    "    save=False\n",
    ")"
   ]
  },
  {
   "cell_type": "code",
   "execution_count": 4,
   "metadata": {},
   "outputs": [],
   "source": []
  },
  {
   "cell_type": "code",
   "execution_count": null,
   "metadata": {},
   "outputs": [],
   "source": []
  },
  {
   "cell_type": "code",
   "execution_count": null,
   "metadata": {},
   "outputs": [],
   "source": []
  },
  {
   "cell_type": "code",
   "execution_count": 7,
   "metadata": {},
   "outputs": [],
   "source": [
    "# df[ingredient].head()"
   ]
  },
  {
   "cell_type": "code",
   "execution_count": null,
   "metadata": {},
   "outputs": [],
   "source": []
  },
  {
   "cell_type": "code",
   "execution_count": 9,
   "metadata": {},
   "outputs": [],
   "source": [
    "# df[score_columns].head()"
   ]
  },
  {
   "cell_type": "code",
   "execution_count": 10,
   "metadata": {},
   "outputs": [],
   "source": [
    "# for key, value in df.isna().mean().items():\n",
    "#     print(key, value)"
   ]
  },
  {
   "cell_type": "code",
   "execution_count": null,
   "metadata": {},
   "outputs": [],
   "source": []
  },
  {
   "cell_type": "code",
   "execution_count": null,
   "metadata": {},
   "outputs": [],
   "source": []
  },
  {
   "cell_type": "code",
   "execution_count": 80,
   "metadata": {},
   "outputs": [
    {
     "data": {
      "image/png": "[encoded data removed]",
      "text/plain": [
       "<Figure size 432x288 with 1 Axes>"
      ]
     },
     "metadata": {
      "needs_background": "light"
     },
     "output_type": "display_data"
    }
   ],
   "source": [
    "import matplotlib.pyplot as plt\n",
    "import numpy as np\n",
    "plt.scatter(df['ecoscore_score'], df['nutriscore_score'])\n",
    "plt.show() "
   ]
  },
  {
   "cell_type": "code",
   "execution_count": 83,
   "metadata": {},
   "outputs": [],
   "source": [
    "#float(df['quantity'][0][0]) * 2"
   ]
  },
  {
   "cell_type": "code",
   "execution_count": 84,
   "metadata": {},
   "outputs": [],
   "source": [
    "#f['quantity'][19994] == df['quantity'][19994]"
   ]
  },
  {
   "cell_type": "code",
   "execution_count": 81,
   "metadata": {},
   "outputs": [],
   "source": [
    "#for i in range(len(df)):\n",
    "#    if df['quantity'][i] == df['quantity'][i]:\n",
    "#        df['quantity'][i] = df['quantity'][i].split(\" \")\n",
    "        "
   ]
  },
  {
   "cell_type": "code",
   "execution_count": 78,
   "metadata": {},
   "outputs": [],
   "source": [
    "#df['quantity']"
   ]
  },
  {
   "cell_type": "code",
   "execution_count": 18,
   "metadata": {},
   "outputs": [],
   "source": [
    "#new_df = df[~df['quantity'].isna()].reset_index()"
   ]
  },
  {
   "cell_type": "code",
   "execution_count": 82,
   "metadata": {},
   "outputs": [],
   "source": [
    "#new_df['quantity'].head(900)"
   ]
  },
  {
   "cell_type": "markdown",
   "metadata": {},
   "source": [
    "\n",
    "for i in range(len(df)):\n",
    "    #print(i)\n",
    "    try:\n",
    "        df['quantity'][i] = df['quantity'][i].split(\" \")\n",
    "    except:\n",
    "        continue\n",
    "    #if df['quantity'][i] == df['quantity'][i]:\n",
    "       # df['quantity'][i] = df['quantity'][i].split(\" \")\n",
    "    #else:\n",
    "    #    continue\n",
    "    #print(len(df['quantity'][i]))\n",
    "    if len(df['quantity'][i]) == 2:\n",
    "        if (df['quantity'][i][1] == \"g\" or df['quantity'][i][1] == \"kg\"):\n",
    "            if (df['quantity'][i][1] == \"kg\"):\n",
    "                #new_df['quantity'][i][1] = \"g\"\n",
    "                try:\n",
    "                    df['quantity'][i] = np.float(new_df['quantity'][i][0]) * 1000\n",
    "                except:\n",
    "                    df['quantity'][i] = np.nan\n",
    "            else:\n",
    "                try:\n",
    "                    df['quantity'][i] = np.float(new_df['quantity'][i][0])\n",
    "                except:\n",
    "                    df['quantity'][i] = np.nan\n",
    "        else:\n",
    "            df['quantity'][i] = np.nan\n",
    "    else:\n",
    "        df['quantity'][i] = np.nan\n",
    "         "
   ]
  },
  {
   "cell_type": "code",
   "execution_count": 124,
   "metadata": {},
   "outputs": [],
   "source": [
    "quant_df = new_df[~new_df['quantity'].isna()].reset_index()"
   ]
  },
  {
   "cell_type": "code",
   "execution_count": 125,
   "metadata": {},
   "outputs": [
    {
     "data": {
      "image/png": "[encoded data removed]",
      "text/plain": [
       "<Figure size 432x288 with 1 Axes>"
      ]
     },
     "metadata": {
      "needs_background": "light"
     },
     "output_type": "display_data"
    }
   ],
   "source": [
    "plt.scatter(quant_df['ecoscore_score'], quant_df['quantity'])\n",
    "plt.show() "
   ]
  },
  {
   "cell_type": "code",
   "execution_count": 126,
   "metadata": {},
   "outputs": [
    {
     "data": {
      "image/png": "[encoded data removed]",
      "text/plain": [
       "<Figure size 432x288 with 1 Axes>"
      ]
     },
     "metadata": {
      "needs_background": "light"
     },
     "output_type": "display_data"
    }
   ],
   "source": [
    "plt.scatter(quant_df['nutriscore_score'], quant_df['quantity'])\n",
    "plt.show() "
   ]
  },
  {
   "cell_type": "code",
   "execution_count": 127,
   "metadata": {},
   "outputs": [],
   "source": [
    "df = quant_df"
   ]
  },
  {
   "cell_type": "code",
   "execution_count": 128,
   "metadata": {},
   "outputs": [
    {
     "name": "stderr",
     "output_type": "stream",
     "text": [
      "/opt/anaconda3/lib/python3.7/site-packages/ipykernel_launcher.py:8: FutureWarning:\n",
      "\n",
      "The default value of regex will change from True to False in a future version.\n",
      "\n",
      "/opt/anaconda3/lib/python3.7/site-packages/ipykernel_launcher.py:11: FutureWarning:\n",
      "\n",
      "The default value of regex will change from True to False in a future version.\n",
      "\n",
      "/opt/anaconda3/lib/python3.7/site-packages/ipykernel_launcher.py:14: FutureWarning:\n",
      "\n",
      "The default value of regex will change from True to False in a future version.\n",
      "\n"
     ]
    }
   ],
   "source": [
    "# Everything in lowercases\n",
    "df['countries_en_c'] = df.countries_en.str.lower()\n",
    "\n",
    "# Strip whitespaces\n",
    "df.countries_en_c = df.countries_en_c.str.strip()\n",
    "\n",
    "# Replace multiple whitespaces with only one space\n",
    "df.countries_en_c = df.countries_en_c.str.replace(r\"\\s+\", \" \")\n",
    "\n",
    "# Remove whitespaces after comma\n",
    "df.countries_en_c = df.countries_en_c.str.replace(r\",\\s+\", \",\")\n",
    "\n",
    "# Remove some special characters (used in regex)\n",
    "df.countries_en_c = df.countries_en_c.str.replace(r\"[\\*|\\?|\\.]\", \"\")\n",
    "\n",
    "df_packagings = df.countries_en_c.str.extractall(r\"(?P<countries_1>[^,]+)\")\n",
    "\n",
    "# Reset the index\n",
    "df_packagings.reset_index(inplace=True)\n",
    "\n",
    "# Drop the automatically created column: match\n",
    "df_packagings.drop('match', axis=1, inplace=True)\n",
    "\n",
    "# Remove duplicates\n",
    "df_packagings.drop_duplicates(inplace=True)\n",
    "\n",
    "# Set the code as the index\n",
    "#df_packagings.set_index('code', inplace=True)\n",
    "\n",
    "df_packagings.countries_1.unique()\n",
    "\n",
    "df_packagings = df_packagings.merge(df, right_index=True, left_index=True)\n",
    "\n",
    "\n",
    "# Drop rows where column 'A' has NA values\n",
    "df_packagings_dropped = df_packagings.dropna(subset=['quantity'])\n",
    "\n",
    "\n"
   ]
  },
  {
   "cell_type": "code",
   "execution_count": null,
   "metadata": {},
   "outputs": [],
   "source": [
    "#final_result.to_csv(\"data/grouped_means_results.csv\", index=False)"
   ]
  },
  {
   "cell_type": "code",
   "execution_count": null,
   "metadata": {},
   "outputs": [],
   "source": []
  },
  {
   "cell_type": "code",
   "execution_count": 143,
   "metadata": {},
   "outputs": [
    {
     "ename": "TypeError",
     "evalue": "Could not convert 0.4 kg to numeric",
     "output_type": "error",
     "traceback": [
      "\u001b[0;31m---------------------------------------------------------------------------\u001b[0m",
      "\u001b[0;31mNotImplementedError\u001b[0m                       Traceback (most recent call last)",
      "\u001b[0;32m/opt/anaconda3/lib/python3.7/site-packages/pandas/core/groupby/generic.py\u001b[0m in \u001b[0;36marray_func\u001b[0;34m(values)\u001b[0m\n\u001b[1;32m    340\u001b[0m                 result = self.grouper._cython_operation(\n\u001b[0;32m--> 341\u001b[0;31m                     \u001b[0;34m\"aggregate\"\u001b[0m\u001b[0;34m,\u001b[0m \u001b[0mvalues\u001b[0m\u001b[0;34m,\u001b[0m \u001b[0mhow\u001b[0m\u001b[0;34m,\u001b[0m \u001b[0maxis\u001b[0m\u001b[0;34m=\u001b[0m\u001b[0mdata\u001b[0m\u001b[0;34m.\u001b[0m\u001b[0mndim\u001b[0m \u001b[0;34m-\u001b[0m \u001b[0;36m1\u001b[0m\u001b[0;34m,\u001b[0m \u001b[0mmin_count\u001b[0m\u001b[0;34m=\u001b[0m\u001b[0mmin_count\u001b[0m\u001b[0;34m\u001b[0m\u001b[0;34m\u001b[0m\u001b[0m\n\u001b[0m\u001b[1;32m    342\u001b[0m                 )\n",
      "\u001b[0;32m/opt/anaconda3/lib/python3.7/site-packages/pandas/core/groupby/ops.py\u001b[0m in \u001b[0;36m_cython_operation\u001b[0;34m(self, kind, values, how, axis, min_count, **kwargs)\u001b[0m\n\u001b[1;32m   1015\u001b[0m             \u001b[0mngroups\u001b[0m\u001b[0;34m=\u001b[0m\u001b[0mngroups\u001b[0m\u001b[0;34m,\u001b[0m\u001b[0;34m\u001b[0m\u001b[0;34m\u001b[0m\u001b[0m\n\u001b[0;32m-> 1016\u001b[0;31m             \u001b[0;34m**\u001b[0m\u001b[0mkwargs\u001b[0m\u001b[0;34m,\u001b[0m\u001b[0;34m\u001b[0m\u001b[0;34m\u001b[0m\u001b[0m\n\u001b[0m\u001b[1;32m   1017\u001b[0m         )\n",
      "\u001b[0;32m/opt/anaconda3/lib/python3.7/site-packages/pandas/core/groupby/ops.py\u001b[0m in \u001b[0;36mcython_operation\u001b[0;34m(self, values, axis, min_count, comp_ids, ngroups, **kwargs)\u001b[0m\n\u001b[1;32m    676\u001b[0m             \u001b[0mmask\u001b[0m\u001b[0;34m=\u001b[0m\u001b[0;32mNone\u001b[0m\u001b[0;34m,\u001b[0m\u001b[0;34m\u001b[0m\u001b[0;34m\u001b[0m\u001b[0m\n\u001b[0;32m--> 677\u001b[0;31m             \u001b[0;34m**\u001b[0m\u001b[0mkwargs\u001b[0m\u001b[0;34m,\u001b[0m\u001b[0;34m\u001b[0m\u001b[0;34m\u001b[0m\u001b[0m\n\u001b[0m\u001b[1;32m    678\u001b[0m         )\n",
      "\u001b[0;32m/opt/anaconda3/lib/python3.7/site-packages/pandas/core/groupby/ops.py\u001b[0m in \u001b[0;36m_cython_op_ndim_compat\u001b[0;34m(self, values, min_count, ngroups, comp_ids, mask, **kwargs)\u001b[0m\n\u001b[1;32m    507\u001b[0m                 \u001b[0mmask\u001b[0m\u001b[0;34m=\u001b[0m\u001b[0mmask\u001b[0m\u001b[0;34m,\u001b[0m\u001b[0;34m\u001b[0m\u001b[0;34m\u001b[0m\u001b[0m\n\u001b[0;32m--> 508\u001b[0;31m                 \u001b[0;34m**\u001b[0m\u001b[0mkwargs\u001b[0m\u001b[0;34m,\u001b[0m\u001b[0;34m\u001b[0m\u001b[0;34m\u001b[0m\u001b[0m\n\u001b[0m\u001b[1;32m    509\u001b[0m             )\n",
      "\u001b[0;32m/opt/anaconda3/lib/python3.7/site-packages/pandas/core/groupby/ops.py\u001b[0m in \u001b[0;36m_call_cython_op\u001b[0;34m(self, values, min_count, ngroups, comp_ids, mask, **kwargs)\u001b[0m\n\u001b[1;32m    562\u001b[0m         \u001b[0mout_shape\u001b[0m \u001b[0;34m=\u001b[0m \u001b[0mself\u001b[0m\u001b[0;34m.\u001b[0m\u001b[0m_get_output_shape\u001b[0m\u001b[0;34m(\u001b[0m\u001b[0mngroups\u001b[0m\u001b[0;34m,\u001b[0m \u001b[0mvalues\u001b[0m\u001b[0;34m)\u001b[0m\u001b[0;34m\u001b[0m\u001b[0;34m\u001b[0m\u001b[0m\n\u001b[0;32m--> 563\u001b[0;31m         \u001b[0mfunc\u001b[0m\u001b[0;34m,\u001b[0m \u001b[0mvalues\u001b[0m \u001b[0;34m=\u001b[0m \u001b[0mself\u001b[0m\u001b[0;34m.\u001b[0m\u001b[0mget_cython_func_and_vals\u001b[0m\u001b[0;34m(\u001b[0m\u001b[0mvalues\u001b[0m\u001b[0;34m,\u001b[0m \u001b[0mis_numeric\u001b[0m\u001b[0;34m)\u001b[0m\u001b[0;34m\u001b[0m\u001b[0;34m\u001b[0m\u001b[0m\n\u001b[0m\u001b[1;32m    564\u001b[0m         \u001b[0mout_dtype\u001b[0m \u001b[0;34m=\u001b[0m \u001b[0mself\u001b[0m\u001b[0;34m.\u001b[0m\u001b[0mget_out_dtype\u001b[0m\u001b[0;34m(\u001b[0m\u001b[0mvalues\u001b[0m\u001b[0;34m.\u001b[0m\u001b[0mdtype\u001b[0m\u001b[0;34m)\u001b[0m\u001b[0;34m\u001b[0m\u001b[0;34m\u001b[0m\u001b[0m\n",
      "\u001b[0;32m/opt/anaconda3/lib/python3.7/site-packages/pandas/core/groupby/ops.py\u001b[0m in \u001b[0;36mget_cython_func_and_vals\u001b[0;34m(self, values, is_numeric)\u001b[0m\n\u001b[1;32m    204\u001b[0m \u001b[0;34m\u001b[0m\u001b[0m\n\u001b[0;32m--> 205\u001b[0;31m         \u001b[0mfunc\u001b[0m \u001b[0;34m=\u001b[0m \u001b[0mself\u001b[0m\u001b[0;34m.\u001b[0m\u001b[0m_get_cython_function\u001b[0m\u001b[0;34m(\u001b[0m\u001b[0mkind\u001b[0m\u001b[0;34m,\u001b[0m \u001b[0mhow\u001b[0m\u001b[0;34m,\u001b[0m \u001b[0mvalues\u001b[0m\u001b[0;34m.\u001b[0m\u001b[0mdtype\u001b[0m\u001b[0;34m,\u001b[0m \u001b[0mis_numeric\u001b[0m\u001b[0;34m)\u001b[0m\u001b[0;34m\u001b[0m\u001b[0;34m\u001b[0m\u001b[0m\n\u001b[0m\u001b[1;32m    206\u001b[0m \u001b[0;34m\u001b[0m\u001b[0m\n",
      "\u001b[0;32m/opt/anaconda3/lib/python3.7/site-packages/pandas/core/groupby/ops.py\u001b[0m in \u001b[0;36m_get_cython_function\u001b[0;34m(cls, kind, how, dtype, is_numeric)\u001b[0m\n\u001b[1;32m    170\u001b[0m                 raise NotImplementedError(\n\u001b[0;32m--> 171\u001b[0;31m                     \u001b[0;34mf\"function is not implemented for this dtype: \"\u001b[0m\u001b[0;34m\u001b[0m\u001b[0;34m\u001b[0m\u001b[0m\n\u001b[0m\u001b[1;32m    172\u001b[0m                     \u001b[0;34mf\"[how->{how},dtype->{dtype_str}]\"\u001b[0m\u001b[0;34m\u001b[0m\u001b[0;34m\u001b[0m\u001b[0m\n",
      "\u001b[0;31mNotImplementedError\u001b[0m: function is not implemented for this dtype: [how->mean,dtype->object]",
      "\nDuring handling of the above exception, another exception occurred:\n",
      "\u001b[0;31mValueError\u001b[0m                                Traceback (most recent call last)",
      "\u001b[0;32m/opt/anaconda3/lib/python3.7/site-packages/pandas/core/nanops.py\u001b[0m in \u001b[0;36m_ensure_numeric\u001b[0;34m(x)\u001b[0m\n\u001b[1;32m   1602\u001b[0m         \u001b[0;32mtry\u001b[0m\u001b[0;34m:\u001b[0m\u001b[0;34m\u001b[0m\u001b[0;34m\u001b[0m\u001b[0m\n\u001b[0;32m-> 1603\u001b[0;31m             \u001b[0mx\u001b[0m \u001b[0;34m=\u001b[0m \u001b[0mfloat\u001b[0m\u001b[0;34m(\u001b[0m\u001b[0mx\u001b[0m\u001b[0;34m)\u001b[0m\u001b[0;34m\u001b[0m\u001b[0;34m\u001b[0m\u001b[0m\n\u001b[0m\u001b[1;32m   1604\u001b[0m         \u001b[0;32mexcept\u001b[0m \u001b[0;34m(\u001b[0m\u001b[0mTypeError\u001b[0m\u001b[0;34m,\u001b[0m \u001b[0mValueError\u001b[0m\u001b[0;34m)\u001b[0m\u001b[0;34m:\u001b[0m\u001b[0;34m\u001b[0m\u001b[0;34m\u001b[0m\u001b[0m\n",
      "\u001b[0;31mValueError\u001b[0m: could not convert string to float: '0.4 kg'",
      "\nDuring handling of the above exception, another exception occurred:\n",
      "\u001b[0;31mValueError\u001b[0m                                Traceback (most recent call last)",
      "\u001b[0;32m/opt/anaconda3/lib/python3.7/site-packages/pandas/core/nanops.py\u001b[0m in \u001b[0;36m_ensure_numeric\u001b[0;34m(x)\u001b[0m\n\u001b[1;32m   1606\u001b[0m             \u001b[0;32mtry\u001b[0m\u001b[0;34m:\u001b[0m\u001b[0;34m\u001b[0m\u001b[0;34m\u001b[0m\u001b[0m\n\u001b[0;32m-> 1607\u001b[0;31m                 \u001b[0mx\u001b[0m \u001b[0;34m=\u001b[0m \u001b[0mcomplex\u001b[0m\u001b[0;34m(\u001b[0m\u001b[0mx\u001b[0m\u001b[0;34m)\u001b[0m\u001b[0;34m\u001b[0m\u001b[0;34m\u001b[0m\u001b[0m\n\u001b[0m\u001b[1;32m   1608\u001b[0m             \u001b[0;32mexcept\u001b[0m \u001b[0mValueError\u001b[0m \u001b[0;32mas\u001b[0m \u001b[0merr\u001b[0m\u001b[0;34m:\u001b[0m\u001b[0;34m\u001b[0m\u001b[0;34m\u001b[0m\u001b[0m\n",
      "\u001b[0;31mValueError\u001b[0m: complex() arg is a malformed string",
      "\nThe above exception was the direct cause of the following exception:\n",
      "\u001b[0;31mTypeError\u001b[0m                                 Traceback (most recent call last)",
      "\u001b[0;32m<ipython-input-143-c42b38e6c3aa>\u001b[0m in \u001b[0;36m<module>\u001b[0;34m\u001b[0m\n\u001b[0;32m----> 1\u001b[0;31m \u001b[0maverage_by_country\u001b[0m \u001b[0;34m=\u001b[0m \u001b[0mdf\u001b[0m\u001b[0;34m.\u001b[0m\u001b[0mgroupby\u001b[0m\u001b[0;34m(\u001b[0m\u001b[0;34m'countries_1'\u001b[0m\u001b[0;34m)\u001b[0m\u001b[0;34m[\u001b[0m\u001b[0;34m'quantity'\u001b[0m\u001b[0;34m]\u001b[0m\u001b[0;34m.\u001b[0m\u001b[0mmean\u001b[0m\u001b[0;34m(\u001b[0m\u001b[0;34m)\u001b[0m\u001b[0;34m.\u001b[0m\u001b[0mto_frame\u001b[0m\u001b[0;34m(\u001b[0m\u001b[0;34m)\u001b[0m\u001b[0;34m.\u001b[0m\u001b[0mreset_index\u001b[0m\u001b[0;34m(\u001b[0m\u001b[0;34m)\u001b[0m\u001b[0;34m\u001b[0m\u001b[0;34m\u001b[0m\u001b[0m\n\u001b[0m\u001b[1;32m      2\u001b[0m \u001b[0;34m\u001b[0m\u001b[0m\n\u001b[1;32m      3\u001b[0m \u001b[0maverage_by_country\u001b[0m \u001b[0;34m=\u001b[0m \u001b[0maverage_by_country\u001b[0m\u001b[0;34m[\u001b[0m\u001b[0maverage_by_country\u001b[0m\u001b[0;34m[\u001b[0m\u001b[0;34m'countries_1'\u001b[0m\u001b[0;34m]\u001b[0m \u001b[0;34m!=\u001b[0m \u001b[0;34m'en'\u001b[0m\u001b[0;34m]\u001b[0m\u001b[0;34m\u001b[0m\u001b[0;34m\u001b[0m\u001b[0m\n\u001b[1;32m      4\u001b[0m \u001b[0maverage_by_country\u001b[0m\u001b[0;34m\u001b[0m\u001b[0;34m\u001b[0m\u001b[0m\n",
      "\u001b[0;32m/opt/anaconda3/lib/python3.7/site-packages/pandas/core/groupby/groupby.py\u001b[0m in \u001b[0;36mmean\u001b[0;34m(self, numeric_only)\u001b[0m\n\u001b[1;32m   1688\u001b[0m             \u001b[0;34m\"mean\"\u001b[0m\u001b[0;34m,\u001b[0m\u001b[0;34m\u001b[0m\u001b[0;34m\u001b[0m\u001b[0m\n\u001b[1;32m   1689\u001b[0m             \u001b[0malt\u001b[0m\u001b[0;34m=\u001b[0m\u001b[0;32mlambda\u001b[0m \u001b[0mx\u001b[0m\u001b[0;34m:\u001b[0m \u001b[0mSeries\u001b[0m\u001b[0;34m(\u001b[0m\u001b[0mx\u001b[0m\u001b[0;34m)\u001b[0m\u001b[0;34m.\u001b[0m\u001b[0mmean\u001b[0m\u001b[0;34m(\u001b[0m\u001b[0mnumeric_only\u001b[0m\u001b[0;34m=\u001b[0m\u001b[0mnumeric_only\u001b[0m\u001b[0;34m)\u001b[0m\u001b[0;34m,\u001b[0m\u001b[0;34m\u001b[0m\u001b[0;34m\u001b[0m\u001b[0m\n\u001b[0;32m-> 1690\u001b[0;31m             \u001b[0mnumeric_only\u001b[0m\u001b[0;34m=\u001b[0m\u001b[0mnumeric_only\u001b[0m\u001b[0;34m,\u001b[0m\u001b[0;34m\u001b[0m\u001b[0;34m\u001b[0m\u001b[0m\n\u001b[0m\u001b[1;32m   1691\u001b[0m         )\n\u001b[1;32m   1692\u001b[0m         \u001b[0;32mreturn\u001b[0m \u001b[0mresult\u001b[0m\u001b[0;34m.\u001b[0m\u001b[0m__finalize__\u001b[0m\u001b[0;34m(\u001b[0m\u001b[0mself\u001b[0m\u001b[0;34m.\u001b[0m\u001b[0mobj\u001b[0m\u001b[0;34m,\u001b[0m \u001b[0mmethod\u001b[0m\u001b[0;34m=\u001b[0m\u001b[0;34m\"groupby\"\u001b[0m\u001b[0;34m)\u001b[0m\u001b[0;34m\u001b[0m\u001b[0;34m\u001b[0m\u001b[0m\n",
      "\u001b[0;32m/opt/anaconda3/lib/python3.7/site-packages/pandas/core/groupby/generic.py\u001b[0m in \u001b[0;36m_cython_agg_general\u001b[0;34m(self, how, alt, numeric_only, min_count)\u001b[0m\n\u001b[1;32m    350\u001b[0m             \u001b[0;32mreturn\u001b[0m \u001b[0mresult\u001b[0m\u001b[0;34m\u001b[0m\u001b[0;34m\u001b[0m\u001b[0m\n\u001b[1;32m    351\u001b[0m \u001b[0;34m\u001b[0m\u001b[0m\n\u001b[0;32m--> 352\u001b[0;31m         \u001b[0mresult\u001b[0m \u001b[0;34m=\u001b[0m \u001b[0marray_func\u001b[0m\u001b[0;34m(\u001b[0m\u001b[0mobjvals\u001b[0m\u001b[0;34m)\u001b[0m\u001b[0;34m\u001b[0m\u001b[0;34m\u001b[0m\u001b[0m\n\u001b[0m\u001b[1;32m    353\u001b[0m \u001b[0;34m\u001b[0m\u001b[0m\n\u001b[1;32m    354\u001b[0m         ser = self.obj._constructor(\n",
      "\u001b[0;32m/opt/anaconda3/lib/python3.7/site-packages/pandas/core/groupby/generic.py\u001b[0m in \u001b[0;36marray_func\u001b[0;34m(values)\u001b[0m\n\u001b[1;32m    346\u001b[0m                 \u001b[0;31m# try to python agg\u001b[0m\u001b[0;34m\u001b[0m\u001b[0;34m\u001b[0m\u001b[0;34m\u001b[0m\u001b[0m\n\u001b[1;32m    347\u001b[0m                 \u001b[0;31m# TODO: shouldn't min_count matter?\u001b[0m\u001b[0;34m\u001b[0m\u001b[0;34m\u001b[0m\u001b[0;34m\u001b[0m\u001b[0m\n\u001b[0;32m--> 348\u001b[0;31m                 \u001b[0mresult\u001b[0m \u001b[0;34m=\u001b[0m \u001b[0mself\u001b[0m\u001b[0;34m.\u001b[0m\u001b[0m_agg_py_fallback\u001b[0m\u001b[0;34m(\u001b[0m\u001b[0mvalues\u001b[0m\u001b[0;34m,\u001b[0m \u001b[0mndim\u001b[0m\u001b[0;34m=\u001b[0m\u001b[0mdata\u001b[0m\u001b[0;34m.\u001b[0m\u001b[0mndim\u001b[0m\u001b[0;34m,\u001b[0m \u001b[0malt\u001b[0m\u001b[0;34m=\u001b[0m\u001b[0malt\u001b[0m\u001b[0;34m)\u001b[0m\u001b[0;34m\u001b[0m\u001b[0;34m\u001b[0m\u001b[0m\n\u001b[0m\u001b[1;32m    349\u001b[0m \u001b[0;34m\u001b[0m\u001b[0m\n\u001b[1;32m    350\u001b[0m             \u001b[0;32mreturn\u001b[0m \u001b[0mresult\u001b[0m\u001b[0;34m\u001b[0m\u001b[0;34m\u001b[0m\u001b[0m\n",
      "\u001b[0;32m/opt/anaconda3/lib/python3.7/site-packages/pandas/core/groupby/groupby.py\u001b[0m in \u001b[0;36m_agg_py_fallback\u001b[0;34m(self, values, ndim, alt)\u001b[0m\n\u001b[1;32m   1396\u001b[0m         \u001b[0;31m#  should always be preserved by the implemented aggregations\u001b[0m\u001b[0;34m\u001b[0m\u001b[0;34m\u001b[0m\u001b[0;34m\u001b[0m\u001b[0m\n\u001b[1;32m   1397\u001b[0m         \u001b[0;31m# TODO: Is this exactly right; see WrappedCythonOp get_result_dtype?\u001b[0m\u001b[0;34m\u001b[0m\u001b[0;34m\u001b[0m\u001b[0;34m\u001b[0m\u001b[0m\n\u001b[0;32m-> 1398\u001b[0;31m         \u001b[0mres_values\u001b[0m \u001b[0;34m=\u001b[0m \u001b[0mself\u001b[0m\u001b[0;34m.\u001b[0m\u001b[0mgrouper\u001b[0m\u001b[0;34m.\u001b[0m\u001b[0magg_series\u001b[0m\u001b[0;34m(\u001b[0m\u001b[0mser\u001b[0m\u001b[0;34m,\u001b[0m \u001b[0malt\u001b[0m\u001b[0;34m,\u001b[0m \u001b[0mpreserve_dtype\u001b[0m\u001b[0;34m=\u001b[0m\u001b[0;32mTrue\u001b[0m\u001b[0;34m)\u001b[0m\u001b[0;34m\u001b[0m\u001b[0;34m\u001b[0m\u001b[0m\n\u001b[0m\u001b[1;32m   1399\u001b[0m \u001b[0;34m\u001b[0m\u001b[0m\n\u001b[1;32m   1400\u001b[0m         \u001b[0;32mif\u001b[0m \u001b[0misinstance\u001b[0m\u001b[0;34m(\u001b[0m\u001b[0mvalues\u001b[0m\u001b[0;34m,\u001b[0m \u001b[0mCategorical\u001b[0m\u001b[0;34m)\u001b[0m\u001b[0;34m:\u001b[0m\u001b[0;34m\u001b[0m\u001b[0;34m\u001b[0m\u001b[0m\n",
      "\u001b[0;32m/opt/anaconda3/lib/python3.7/site-packages/pandas/core/groupby/ops.py\u001b[0m in \u001b[0;36magg_series\u001b[0;34m(self, obj, func, preserve_dtype)\u001b[0m\n\u001b[1;32m   1058\u001b[0m \u001b[0;34m\u001b[0m\u001b[0m\n\u001b[1;32m   1059\u001b[0m         \u001b[0;32melse\u001b[0m\u001b[0;34m:\u001b[0m\u001b[0;34m\u001b[0m\u001b[0;34m\u001b[0m\u001b[0m\n\u001b[0;32m-> 1060\u001b[0;31m             \u001b[0mresult\u001b[0m \u001b[0;34m=\u001b[0m \u001b[0mself\u001b[0m\u001b[0;34m.\u001b[0m\u001b[0m_aggregate_series_fast\u001b[0m\u001b[0;34m(\u001b[0m\u001b[0mobj\u001b[0m\u001b[0;34m,\u001b[0m \u001b[0mfunc\u001b[0m\u001b[0;34m)\u001b[0m\u001b[0;34m\u001b[0m\u001b[0;34m\u001b[0m\u001b[0m\n\u001b[0m\u001b[1;32m   1061\u001b[0m \u001b[0;34m\u001b[0m\u001b[0m\n\u001b[1;32m   1062\u001b[0m         \u001b[0mnpvalues\u001b[0m \u001b[0;34m=\u001b[0m \u001b[0mlib\u001b[0m\u001b[0;34m.\u001b[0m\u001b[0mmaybe_convert_objects\u001b[0m\u001b[0;34m(\u001b[0m\u001b[0mresult\u001b[0m\u001b[0;34m,\u001b[0m \u001b[0mtry_float\u001b[0m\u001b[0;34m=\u001b[0m\u001b[0;32mFalse\u001b[0m\u001b[0;34m)\u001b[0m\u001b[0;34m\u001b[0m\u001b[0;34m\u001b[0m\u001b[0m\n",
      "\u001b[0;32m/opt/anaconda3/lib/python3.7/site-packages/pandas/core/groupby/ops.py\u001b[0m in \u001b[0;36m_aggregate_series_fast\u001b[0;34m(self, obj, func)\u001b[0m\n\u001b[1;32m   1083\u001b[0m         \u001b[0mids\u001b[0m \u001b[0;34m=\u001b[0m \u001b[0mids\u001b[0m\u001b[0;34m.\u001b[0m\u001b[0mtake\u001b[0m\u001b[0;34m(\u001b[0m\u001b[0mindexer\u001b[0m\u001b[0;34m)\u001b[0m\u001b[0;34m\u001b[0m\u001b[0;34m\u001b[0m\u001b[0m\n\u001b[1;32m   1084\u001b[0m         \u001b[0msgrouper\u001b[0m \u001b[0;34m=\u001b[0m \u001b[0mlibreduction\u001b[0m\u001b[0;34m.\u001b[0m\u001b[0mSeriesGrouper\u001b[0m\u001b[0;34m(\u001b[0m\u001b[0mobj\u001b[0m\u001b[0;34m,\u001b[0m \u001b[0mfunc\u001b[0m\u001b[0;34m,\u001b[0m \u001b[0mids\u001b[0m\u001b[0;34m,\u001b[0m \u001b[0mngroups\u001b[0m\u001b[0;34m)\u001b[0m\u001b[0;34m\u001b[0m\u001b[0;34m\u001b[0m\u001b[0m\n\u001b[0;32m-> 1085\u001b[0;31m         \u001b[0mresult\u001b[0m\u001b[0;34m,\u001b[0m \u001b[0m_\u001b[0m \u001b[0;34m=\u001b[0m \u001b[0msgrouper\u001b[0m\u001b[0;34m.\u001b[0m\u001b[0mget_result\u001b[0m\u001b[0;34m(\u001b[0m\u001b[0;34m)\u001b[0m\u001b[0;34m\u001b[0m\u001b[0;34m\u001b[0m\u001b[0m\n\u001b[0m\u001b[1;32m   1086\u001b[0m         \u001b[0;32mreturn\u001b[0m \u001b[0mresult\u001b[0m\u001b[0;34m\u001b[0m\u001b[0;34m\u001b[0m\u001b[0m\n\u001b[1;32m   1087\u001b[0m \u001b[0;34m\u001b[0m\u001b[0m\n",
      "\u001b[0;32m/opt/anaconda3/lib/python3.7/site-packages/pandas/_libs/reduction.pyx\u001b[0m in \u001b[0;36mpandas._libs.reduction.SeriesGrouper.get_result\u001b[0;34m()\u001b[0m\n",
      "\u001b[0;32m/opt/anaconda3/lib/python3.7/site-packages/pandas/_libs/reduction.pyx\u001b[0m in \u001b[0;36mpandas._libs.reduction._BaseGrouper._apply_to_group\u001b[0;34m()\u001b[0m\n",
      "\u001b[0;32m/opt/anaconda3/lib/python3.7/site-packages/pandas/core/groupby/groupby.py\u001b[0m in \u001b[0;36m<lambda>\u001b[0;34m(x)\u001b[0m\n\u001b[1;32m   1687\u001b[0m         result = self._cython_agg_general(\n\u001b[1;32m   1688\u001b[0m             \u001b[0;34m\"mean\"\u001b[0m\u001b[0;34m,\u001b[0m\u001b[0;34m\u001b[0m\u001b[0;34m\u001b[0m\u001b[0m\n\u001b[0;32m-> 1689\u001b[0;31m             \u001b[0malt\u001b[0m\u001b[0;34m=\u001b[0m\u001b[0;32mlambda\u001b[0m \u001b[0mx\u001b[0m\u001b[0;34m:\u001b[0m \u001b[0mSeries\u001b[0m\u001b[0;34m(\u001b[0m\u001b[0mx\u001b[0m\u001b[0;34m)\u001b[0m\u001b[0;34m.\u001b[0m\u001b[0mmean\u001b[0m\u001b[0;34m(\u001b[0m\u001b[0mnumeric_only\u001b[0m\u001b[0;34m=\u001b[0m\u001b[0mnumeric_only\u001b[0m\u001b[0;34m)\u001b[0m\u001b[0;34m,\u001b[0m\u001b[0;34m\u001b[0m\u001b[0;34m\u001b[0m\u001b[0m\n\u001b[0m\u001b[1;32m   1690\u001b[0m             \u001b[0mnumeric_only\u001b[0m\u001b[0;34m=\u001b[0m\u001b[0mnumeric_only\u001b[0m\u001b[0;34m,\u001b[0m\u001b[0;34m\u001b[0m\u001b[0;34m\u001b[0m\u001b[0m\n\u001b[1;32m   1691\u001b[0m         )\n",
      "\u001b[0;32m/opt/anaconda3/lib/python3.7/site-packages/pandas/core/generic.py\u001b[0m in \u001b[0;36mmean\u001b[0;34m(self, axis, skipna, level, numeric_only, **kwargs)\u001b[0m\n\u001b[1;32m  10749\u001b[0m         )\n\u001b[1;32m  10750\u001b[0m         \u001b[0;32mdef\u001b[0m \u001b[0mmean\u001b[0m\u001b[0;34m(\u001b[0m\u001b[0mself\u001b[0m\u001b[0;34m,\u001b[0m \u001b[0maxis\u001b[0m\u001b[0;34m=\u001b[0m\u001b[0;32mNone\u001b[0m\u001b[0;34m,\u001b[0m \u001b[0mskipna\u001b[0m\u001b[0;34m=\u001b[0m\u001b[0;32mNone\u001b[0m\u001b[0;34m,\u001b[0m \u001b[0mlevel\u001b[0m\u001b[0;34m=\u001b[0m\u001b[0;32mNone\u001b[0m\u001b[0;34m,\u001b[0m \u001b[0mnumeric_only\u001b[0m\u001b[0;34m=\u001b[0m\u001b[0;32mNone\u001b[0m\u001b[0;34m,\u001b[0m \u001b[0;34m**\u001b[0m\u001b[0mkwargs\u001b[0m\u001b[0;34m)\u001b[0m\u001b[0;34m:\u001b[0m\u001b[0;34m\u001b[0m\u001b[0;34m\u001b[0m\u001b[0m\n\u001b[0;32m> 10751\u001b[0;31m             \u001b[0;32mreturn\u001b[0m \u001b[0mNDFrame\u001b[0m\u001b[0;34m.\u001b[0m\u001b[0mmean\u001b[0m\u001b[0;34m(\u001b[0m\u001b[0mself\u001b[0m\u001b[0;34m,\u001b[0m \u001b[0maxis\u001b[0m\u001b[0;34m,\u001b[0m \u001b[0mskipna\u001b[0m\u001b[0;34m,\u001b[0m \u001b[0mlevel\u001b[0m\u001b[0;34m,\u001b[0m \u001b[0mnumeric_only\u001b[0m\u001b[0;34m,\u001b[0m \u001b[0;34m**\u001b[0m\u001b[0mkwargs\u001b[0m\u001b[0;34m)\u001b[0m\u001b[0;34m\u001b[0m\u001b[0;34m\u001b[0m\u001b[0m\n\u001b[0m\u001b[1;32m  10752\u001b[0m \u001b[0;34m\u001b[0m\u001b[0m\n\u001b[1;32m  10753\u001b[0m         \u001b[0msetattr\u001b[0m\u001b[0;34m(\u001b[0m\u001b[0mcls\u001b[0m\u001b[0;34m,\u001b[0m \u001b[0;34m\"mean\"\u001b[0m\u001b[0;34m,\u001b[0m \u001b[0mmean\u001b[0m\u001b[0;34m)\u001b[0m\u001b[0;34m\u001b[0m\u001b[0;34m\u001b[0m\u001b[0m\n",
      "\u001b[0;32m/opt/anaconda3/lib/python3.7/site-packages/pandas/core/generic.py\u001b[0m in \u001b[0;36mmean\u001b[0;34m(self, axis, skipna, level, numeric_only, **kwargs)\u001b[0m\n\u001b[1;32m  10368\u001b[0m     \u001b[0;32mdef\u001b[0m \u001b[0mmean\u001b[0m\u001b[0;34m(\u001b[0m\u001b[0mself\u001b[0m\u001b[0;34m,\u001b[0m \u001b[0maxis\u001b[0m\u001b[0;34m=\u001b[0m\u001b[0;32mNone\u001b[0m\u001b[0;34m,\u001b[0m \u001b[0mskipna\u001b[0m\u001b[0;34m=\u001b[0m\u001b[0;32mNone\u001b[0m\u001b[0;34m,\u001b[0m \u001b[0mlevel\u001b[0m\u001b[0;34m=\u001b[0m\u001b[0;32mNone\u001b[0m\u001b[0;34m,\u001b[0m \u001b[0mnumeric_only\u001b[0m\u001b[0;34m=\u001b[0m\u001b[0;32mNone\u001b[0m\u001b[0;34m,\u001b[0m \u001b[0;34m**\u001b[0m\u001b[0mkwargs\u001b[0m\u001b[0;34m)\u001b[0m\u001b[0;34m:\u001b[0m\u001b[0;34m\u001b[0m\u001b[0;34m\u001b[0m\u001b[0m\n\u001b[1;32m  10369\u001b[0m         return self._stat_function(\n\u001b[0;32m> 10370\u001b[0;31m             \u001b[0;34m\"mean\"\u001b[0m\u001b[0;34m,\u001b[0m \u001b[0mnanops\u001b[0m\u001b[0;34m.\u001b[0m\u001b[0mnanmean\u001b[0m\u001b[0;34m,\u001b[0m \u001b[0maxis\u001b[0m\u001b[0;34m,\u001b[0m \u001b[0mskipna\u001b[0m\u001b[0;34m,\u001b[0m \u001b[0mlevel\u001b[0m\u001b[0;34m,\u001b[0m \u001b[0mnumeric_only\u001b[0m\u001b[0;34m,\u001b[0m \u001b[0;34m**\u001b[0m\u001b[0mkwargs\u001b[0m\u001b[0;34m\u001b[0m\u001b[0;34m\u001b[0m\u001b[0m\n\u001b[0m\u001b[1;32m  10371\u001b[0m         )\n\u001b[1;32m  10372\u001b[0m \u001b[0;34m\u001b[0m\u001b[0m\n",
      "\u001b[0;32m/opt/anaconda3/lib/python3.7/site-packages/pandas/core/generic.py\u001b[0m in \u001b[0;36m_stat_function\u001b[0;34m(self, name, func, axis, skipna, level, numeric_only, **kwargs)\u001b[0m\n\u001b[1;32m  10353\u001b[0m             )\n\u001b[1;32m  10354\u001b[0m         return self._reduce(\n\u001b[0;32m> 10355\u001b[0;31m             \u001b[0mfunc\u001b[0m\u001b[0;34m,\u001b[0m \u001b[0mname\u001b[0m\u001b[0;34m=\u001b[0m\u001b[0mname\u001b[0m\u001b[0;34m,\u001b[0m \u001b[0maxis\u001b[0m\u001b[0;34m=\u001b[0m\u001b[0maxis\u001b[0m\u001b[0;34m,\u001b[0m \u001b[0mskipna\u001b[0m\u001b[0;34m=\u001b[0m\u001b[0mskipna\u001b[0m\u001b[0;34m,\u001b[0m \u001b[0mnumeric_only\u001b[0m\u001b[0;34m=\u001b[0m\u001b[0mnumeric_only\u001b[0m\u001b[0;34m\u001b[0m\u001b[0;34m\u001b[0m\u001b[0m\n\u001b[0m\u001b[1;32m  10356\u001b[0m         )\n\u001b[1;32m  10357\u001b[0m \u001b[0;34m\u001b[0m\u001b[0m\n",
      "\u001b[0;32m/opt/anaconda3/lib/python3.7/site-packages/pandas/core/series.py\u001b[0m in \u001b[0;36m_reduce\u001b[0;34m(self, op, name, axis, skipna, numeric_only, filter_type, **kwds)\u001b[0m\n\u001b[1;32m   4390\u001b[0m                 )\n\u001b[1;32m   4391\u001b[0m             \u001b[0;32mwith\u001b[0m \u001b[0mnp\u001b[0m\u001b[0;34m.\u001b[0m\u001b[0merrstate\u001b[0m\u001b[0;34m(\u001b[0m\u001b[0mall\u001b[0m\u001b[0;34m=\u001b[0m\u001b[0;34m\"ignore\"\u001b[0m\u001b[0;34m)\u001b[0m\u001b[0;34m:\u001b[0m\u001b[0;34m\u001b[0m\u001b[0;34m\u001b[0m\u001b[0m\n\u001b[0;32m-> 4392\u001b[0;31m                 \u001b[0;32mreturn\u001b[0m \u001b[0mop\u001b[0m\u001b[0;34m(\u001b[0m\u001b[0mdelegate\u001b[0m\u001b[0;34m,\u001b[0m \u001b[0mskipna\u001b[0m\u001b[0;34m=\u001b[0m\u001b[0mskipna\u001b[0m\u001b[0;34m,\u001b[0m \u001b[0;34m**\u001b[0m\u001b[0mkwds\u001b[0m\u001b[0;34m)\u001b[0m\u001b[0;34m\u001b[0m\u001b[0;34m\u001b[0m\u001b[0m\n\u001b[0m\u001b[1;32m   4393\u001b[0m \u001b[0;34m\u001b[0m\u001b[0m\n\u001b[1;32m   4394\u001b[0m     def _reindex_indexer(\n",
      "\u001b[0;32m/opt/anaconda3/lib/python3.7/site-packages/pandas/core/nanops.py\u001b[0m in \u001b[0;36m_f\u001b[0;34m(*args, **kwargs)\u001b[0m\n\u001b[1;32m     92\u001b[0m             \u001b[0;32mtry\u001b[0m\u001b[0;34m:\u001b[0m\u001b[0;34m\u001b[0m\u001b[0;34m\u001b[0m\u001b[0m\n\u001b[1;32m     93\u001b[0m                 \u001b[0;32mwith\u001b[0m \u001b[0mnp\u001b[0m\u001b[0;34m.\u001b[0m\u001b[0merrstate\u001b[0m\u001b[0;34m(\u001b[0m\u001b[0minvalid\u001b[0m\u001b[0;34m=\u001b[0m\u001b[0;34m\"ignore\"\u001b[0m\u001b[0;34m)\u001b[0m\u001b[0;34m:\u001b[0m\u001b[0;34m\u001b[0m\u001b[0;34m\u001b[0m\u001b[0m\n\u001b[0;32m---> 94\u001b[0;31m                     \u001b[0;32mreturn\u001b[0m \u001b[0mf\u001b[0m\u001b[0;34m(\u001b[0m\u001b[0;34m*\u001b[0m\u001b[0margs\u001b[0m\u001b[0;34m,\u001b[0m \u001b[0;34m**\u001b[0m\u001b[0mkwargs\u001b[0m\u001b[0;34m)\u001b[0m\u001b[0;34m\u001b[0m\u001b[0;34m\u001b[0m\u001b[0m\n\u001b[0m\u001b[1;32m     95\u001b[0m             \u001b[0;32mexcept\u001b[0m \u001b[0mValueError\u001b[0m \u001b[0;32mas\u001b[0m \u001b[0me\u001b[0m\u001b[0;34m:\u001b[0m\u001b[0;34m\u001b[0m\u001b[0;34m\u001b[0m\u001b[0m\n\u001b[1;32m     96\u001b[0m                 \u001b[0;31m# we want to transform an object array\u001b[0m\u001b[0;34m\u001b[0m\u001b[0;34m\u001b[0m\u001b[0;34m\u001b[0m\u001b[0m\n",
      "\u001b[0;32m/opt/anaconda3/lib/python3.7/site-packages/pandas/core/nanops.py\u001b[0m in \u001b[0;36mf\u001b[0;34m(values, axis, skipna, **kwds)\u001b[0m\n\u001b[1;32m    154\u001b[0m                     \u001b[0mresult\u001b[0m \u001b[0;34m=\u001b[0m \u001b[0malt\u001b[0m\u001b[0;34m(\u001b[0m\u001b[0mvalues\u001b[0m\u001b[0;34m,\u001b[0m \u001b[0maxis\u001b[0m\u001b[0;34m=\u001b[0m\u001b[0maxis\u001b[0m\u001b[0;34m,\u001b[0m \u001b[0mskipna\u001b[0m\u001b[0;34m=\u001b[0m\u001b[0mskipna\u001b[0m\u001b[0;34m,\u001b[0m \u001b[0;34m**\u001b[0m\u001b[0mkwds\u001b[0m\u001b[0;34m)\u001b[0m\u001b[0;34m\u001b[0m\u001b[0;34m\u001b[0m\u001b[0m\n\u001b[1;32m    155\u001b[0m             \u001b[0;32melse\u001b[0m\u001b[0;34m:\u001b[0m\u001b[0;34m\u001b[0m\u001b[0;34m\u001b[0m\u001b[0m\n\u001b[0;32m--> 156\u001b[0;31m                 \u001b[0mresult\u001b[0m \u001b[0;34m=\u001b[0m \u001b[0malt\u001b[0m\u001b[0;34m(\u001b[0m\u001b[0mvalues\u001b[0m\u001b[0;34m,\u001b[0m \u001b[0maxis\u001b[0m\u001b[0;34m=\u001b[0m\u001b[0maxis\u001b[0m\u001b[0;34m,\u001b[0m \u001b[0mskipna\u001b[0m\u001b[0;34m=\u001b[0m\u001b[0mskipna\u001b[0m\u001b[0;34m,\u001b[0m \u001b[0;34m**\u001b[0m\u001b[0mkwds\u001b[0m\u001b[0;34m)\u001b[0m\u001b[0;34m\u001b[0m\u001b[0;34m\u001b[0m\u001b[0m\n\u001b[0m\u001b[1;32m    157\u001b[0m \u001b[0;34m\u001b[0m\u001b[0m\n\u001b[1;32m    158\u001b[0m             \u001b[0;32mreturn\u001b[0m \u001b[0mresult\u001b[0m\u001b[0;34m\u001b[0m\u001b[0;34m\u001b[0m\u001b[0m\n",
      "\u001b[0;32m/opt/anaconda3/lib/python3.7/site-packages/pandas/core/nanops.py\u001b[0m in \u001b[0;36mnew_func\u001b[0;34m(values, axis, skipna, mask, **kwargs)\u001b[0m\n\u001b[1;32m    409\u001b[0m             \u001b[0mmask\u001b[0m \u001b[0;34m=\u001b[0m \u001b[0misna\u001b[0m\u001b[0;34m(\u001b[0m\u001b[0mvalues\u001b[0m\u001b[0;34m)\u001b[0m\u001b[0;34m\u001b[0m\u001b[0;34m\u001b[0m\u001b[0m\n\u001b[1;32m    410\u001b[0m \u001b[0;34m\u001b[0m\u001b[0m\n\u001b[0;32m--> 411\u001b[0;31m         \u001b[0mresult\u001b[0m \u001b[0;34m=\u001b[0m \u001b[0mfunc\u001b[0m\u001b[0;34m(\u001b[0m\u001b[0mvalues\u001b[0m\u001b[0;34m,\u001b[0m \u001b[0maxis\u001b[0m\u001b[0;34m=\u001b[0m\u001b[0maxis\u001b[0m\u001b[0;34m,\u001b[0m \u001b[0mskipna\u001b[0m\u001b[0;34m=\u001b[0m\u001b[0mskipna\u001b[0m\u001b[0;34m,\u001b[0m \u001b[0mmask\u001b[0m\u001b[0;34m=\u001b[0m\u001b[0mmask\u001b[0m\u001b[0;34m,\u001b[0m \u001b[0;34m**\u001b[0m\u001b[0mkwargs\u001b[0m\u001b[0;34m)\u001b[0m\u001b[0;34m\u001b[0m\u001b[0;34m\u001b[0m\u001b[0m\n\u001b[0m\u001b[1;32m    412\u001b[0m \u001b[0;34m\u001b[0m\u001b[0m\n\u001b[1;32m    413\u001b[0m         \u001b[0;32mif\u001b[0m \u001b[0mdatetimelike\u001b[0m\u001b[0;34m:\u001b[0m\u001b[0;34m\u001b[0m\u001b[0;34m\u001b[0m\u001b[0m\n",
      "\u001b[0;32m/opt/anaconda3/lib/python3.7/site-packages/pandas/core/nanops.py\u001b[0m in \u001b[0;36mnanmean\u001b[0;34m(values, axis, skipna, mask)\u001b[0m\n\u001b[1;32m    664\u001b[0m \u001b[0;34m\u001b[0m\u001b[0m\n\u001b[1;32m    665\u001b[0m     \u001b[0mcount\u001b[0m \u001b[0;34m=\u001b[0m \u001b[0m_get_counts\u001b[0m\u001b[0;34m(\u001b[0m\u001b[0mvalues\u001b[0m\u001b[0;34m.\u001b[0m\u001b[0mshape\u001b[0m\u001b[0;34m,\u001b[0m \u001b[0mmask\u001b[0m\u001b[0;34m,\u001b[0m \u001b[0maxis\u001b[0m\u001b[0;34m,\u001b[0m \u001b[0mdtype\u001b[0m\u001b[0;34m=\u001b[0m\u001b[0mdtype_count\u001b[0m\u001b[0;34m)\u001b[0m\u001b[0;34m\u001b[0m\u001b[0;34m\u001b[0m\u001b[0m\n\u001b[0;32m--> 666\u001b[0;31m     \u001b[0mthe_sum\u001b[0m \u001b[0;34m=\u001b[0m \u001b[0m_ensure_numeric\u001b[0m\u001b[0;34m(\u001b[0m\u001b[0mvalues\u001b[0m\u001b[0;34m.\u001b[0m\u001b[0msum\u001b[0m\u001b[0;34m(\u001b[0m\u001b[0maxis\u001b[0m\u001b[0;34m,\u001b[0m \u001b[0mdtype\u001b[0m\u001b[0;34m=\u001b[0m\u001b[0mdtype_sum\u001b[0m\u001b[0;34m)\u001b[0m\u001b[0;34m)\u001b[0m\u001b[0;34m\u001b[0m\u001b[0;34m\u001b[0m\u001b[0m\n\u001b[0m\u001b[1;32m    667\u001b[0m \u001b[0;34m\u001b[0m\u001b[0m\n\u001b[1;32m    668\u001b[0m     \u001b[0;32mif\u001b[0m \u001b[0maxis\u001b[0m \u001b[0;32mis\u001b[0m \u001b[0;32mnot\u001b[0m \u001b[0;32mNone\u001b[0m \u001b[0;32mand\u001b[0m \u001b[0mgetattr\u001b[0m\u001b[0;34m(\u001b[0m\u001b[0mthe_sum\u001b[0m\u001b[0;34m,\u001b[0m \u001b[0;34m\"ndim\"\u001b[0m\u001b[0;34m,\u001b[0m \u001b[0;32mFalse\u001b[0m\u001b[0;34m)\u001b[0m\u001b[0;34m:\u001b[0m\u001b[0;34m\u001b[0m\u001b[0;34m\u001b[0m\u001b[0m\n",
      "\u001b[0;32m/opt/anaconda3/lib/python3.7/site-packages/pandas/core/nanops.py\u001b[0m in \u001b[0;36m_ensure_numeric\u001b[0;34m(x)\u001b[0m\n\u001b[1;32m   1608\u001b[0m             \u001b[0;32mexcept\u001b[0m \u001b[0mValueError\u001b[0m \u001b[0;32mas\u001b[0m \u001b[0merr\u001b[0m\u001b[0;34m:\u001b[0m\u001b[0;34m\u001b[0m\u001b[0;34m\u001b[0m\u001b[0m\n\u001b[1;32m   1609\u001b[0m                 \u001b[0;31m# e.g. \"foo\"\u001b[0m\u001b[0;34m\u001b[0m\u001b[0;34m\u001b[0m\u001b[0;34m\u001b[0m\u001b[0m\n\u001b[0;32m-> 1610\u001b[0;31m                 \u001b[0;32mraise\u001b[0m \u001b[0mTypeError\u001b[0m\u001b[0;34m(\u001b[0m\u001b[0;34mf\"Could not convert {x} to numeric\"\u001b[0m\u001b[0;34m)\u001b[0m \u001b[0;32mfrom\u001b[0m \u001b[0merr\u001b[0m\u001b[0;34m\u001b[0m\u001b[0;34m\u001b[0m\u001b[0m\n\u001b[0m\u001b[1;32m   1611\u001b[0m     \u001b[0;32mreturn\u001b[0m \u001b[0mx\u001b[0m\u001b[0;34m\u001b[0m\u001b[0;34m\u001b[0m\u001b[0m\n\u001b[1;32m   1612\u001b[0m \u001b[0;34m\u001b[0m\u001b[0m\n",
      "\u001b[0;31mTypeError\u001b[0m: Could not convert 0.4 kg to numeric"
     ]
    }
   ],
   "source": [
    "\n",
    "\n",
    "\n",
    "\n",
    "average_by_country = df.groupby('countries_1')['quantity'].mean().to_frame().reset_index()\n",
    "\n",
    "average_by_country = average_by_country[average_by_country['countries_1'] != 'en']\n",
    "average_by_country"
   ]
  },
  {
   "cell_type": "code",
   "execution_count": 141,
   "metadata": {},
   "outputs": [
    {
     "name": "stderr",
     "output_type": "stream",
     "text": [
      "\u001b[2m\u001b[36m(process_chunk pid=9147)\u001b[0m /opt/anaconda3/lib/python3.7/site-packages/ray/_private/workers/default_worker.py:108: FutureWarning: The default value of regex will change from True to False in a future version.\n",
      "\u001b[2m\u001b[36m(process_chunk pid=9147)\u001b[0m   \"--runtime-env-agent-port\",\n",
      "\u001b[2m\u001b[36m(process_chunk pid=9147)\u001b[0m /opt/anaconda3/lib/python3.7/site-packages/ray/_private/workers/default_worker.py:111: FutureWarning: The default value of regex will change from True to False in a future version.\n",
      "\u001b[2m\u001b[36m(process_chunk pid=9147)\u001b[0m   default=None,\n",
      "\u001b[2m\u001b[36m(process_chunk pid=9147)\u001b[0m /opt/anaconda3/lib/python3.7/site-packages/ray/_private/workers/default_worker.py:114: FutureWarning: The default value of regex will change from True to False in a future version.\n",
      "\u001b[2m\u001b[36m(process_chunk pid=9147)\u001b[0m   parser.add_argument(\n",
      "\u001b[2m\u001b[36m(process_chunk pid=9144)\u001b[0m /opt/anaconda3/lib/python3.7/site-packages/ray/_private/workers/default_worker.py:114: FutureWarning: The default value of regex will change from True to False in a future version.\u001b[32m [repeated 15x across cluster] (Ray deduplicates logs by default. Set RAY_DEDUP_LOGS=0 to disable log deduplication, or see https://docs.ray.io/en/master/ray-observability/ray-logging.html#log-deduplication for more options.)\u001b[0m\n",
      "\u001b[2m\u001b[36m(process_chunk pid=9144)\u001b[0m   \"--runtime-env-agent-port\",\u001b[32m [repeated 5x across cluster]\u001b[0m\n",
      "\u001b[2m\u001b[36m(process_chunk pid=9144)\u001b[0m   default=None,\u001b[32m [repeated 5x across cluster]\u001b[0m\n",
      "\u001b[2m\u001b[36m(process_chunk pid=9144)\u001b[0m   parser.add_argument(\u001b[32m [repeated 5x across cluster]\u001b[0m\n",
      "\u001b[2m\u001b[36m(process_chunk pid=9144)\u001b[0m /opt/anaconda3/lib/python3.7/site-packages/ray/_private/workers/default_worker.py:114: FutureWarning: The default value of regex will change from True to False in a future version.\u001b[32m [repeated 42x across cluster]\u001b[0m\n",
      "\u001b[2m\u001b[36m(process_chunk pid=9144)\u001b[0m   \"--runtime-env-agent-port\",\u001b[32m [repeated 14x across cluster]\u001b[0m\n",
      "\u001b[2m\u001b[36m(process_chunk pid=9144)\u001b[0m   default=None,\u001b[32m [repeated 14x across cluster]\u001b[0m\n",
      "\u001b[2m\u001b[36m(process_chunk pid=9144)\u001b[0m   parser.add_argument(\u001b[32m [repeated 14x across cluster]\u001b[0m\n"
     ]
    }
   ],
   "source": [
    "df = process_file(\n",
    "    file_path='small.csv',\n",
    "    selectCol='quantity',\n",
    "    dfMethod=countries_chunk,\n",
    "    aggMethod=countries_agg,\n",
    "    save=False\n",
    ")"
   ]
  },
  {
   "cell_type": "code",
   "execution_count": 142,
   "metadata": {},
   "outputs": [
    {
     "data": {
      "text/html": [
       "<div>\n",
       "<style scoped>\n",
       "    .dataframe tbody tr th:only-of-type {\n",
       "        vertical-align: middle;\n",
       "    }\n",
       "\n",
       "    .dataframe tbody tr th {\n",
       "        vertical-align: top;\n",
       "    }\n",
       "\n",
       "    .dataframe thead th {\n",
       "        text-align: right;\n",
       "    }\n",
       "</style>\n",
       "<table border=\"1\" class=\"dataframe\">\n",
       "  <thead>\n",
       "    <tr style=\"text-align: right;\">\n",
       "      <th></th>\n",
       "      <th>level_0</th>\n",
       "      <th>countries_1</th>\n",
       "      <th>code</th>\n",
       "      <th>url</th>\n",
       "      <th>creator</th>\n",
       "      <th>created_t</th>\n",
       "      <th>created_datetime</th>\n",
       "      <th>last_modified_t</th>\n",
       "      <th>last_modified_datetime</th>\n",
       "      <th>last_modified_by</th>\n",
       "      <th>...</th>\n",
       "      <th>water-hardness_100g</th>\n",
       "      <th>choline_100g</th>\n",
       "      <th>phylloquinone_100g</th>\n",
       "      <th>beta-glucan_100g</th>\n",
       "      <th>inositol_100g</th>\n",
       "      <th>carnitine_100g</th>\n",
       "      <th>sulphate_100g</th>\n",
       "      <th>nitrate_100g</th>\n",
       "      <th>acidity_100g</th>\n",
       "      <th>countries_en_c</th>\n",
       "    </tr>\n",
       "  </thead>\n",
       "  <tbody>\n",
       "    <tr>\n",
       "      <th>0</th>\n",
       "      <td>0</td>\n",
       "      <td>france</td>\n",
       "      <td>3596710517510</td>\n",
       "      <td>http://world-en.openfoodfacts.org/product/3596...</td>\n",
       "      <td>kiliweb</td>\n",
       "      <td>1682951305</td>\n",
       "      <td>2023-05-01T14:28:25Z</td>\n",
       "      <td>1709956237</td>\n",
       "      <td>2024-03-09T03:50:37Z</td>\n",
       "      <td>org-auchan-apaw</td>\n",
       "      <td>...</td>\n",
       "      <td>NaN</td>\n",
       "      <td>NaN</td>\n",
       "      <td>NaN</td>\n",
       "      <td>NaN</td>\n",
       "      <td>NaN</td>\n",
       "      <td>NaN</td>\n",
       "      <td>NaN</td>\n",
       "      <td>NaN</td>\n",
       "      <td>NaN</td>\n",
       "      <td>france,world</td>\n",
       "    </tr>\n",
       "    <tr>\n",
       "      <th>1</th>\n",
       "      <td>0</td>\n",
       "      <td>world</td>\n",
       "      <td>3596710517527</td>\n",
       "      <td>http://world-en.openfoodfacts.org/product/3596...</td>\n",
       "      <td>kiliweb</td>\n",
       "      <td>1672054652</td>\n",
       "      <td>2022-12-26T11:37:32Z</td>\n",
       "      <td>1708232344</td>\n",
       "      <td>2024-02-18T04:59:04Z</td>\n",
       "      <td>org-auchan-apaw</td>\n",
       "      <td>...</td>\n",
       "      <td>NaN</td>\n",
       "      <td>NaN</td>\n",
       "      <td>NaN</td>\n",
       "      <td>NaN</td>\n",
       "      <td>NaN</td>\n",
       "      <td>NaN</td>\n",
       "      <td>NaN</td>\n",
       "      <td>NaN</td>\n",
       "      <td>NaN</td>\n",
       "      <td>france,world</td>\n",
       "    </tr>\n",
       "    <tr>\n",
       "      <th>2</th>\n",
       "      <td>1</td>\n",
       "      <td>france</td>\n",
       "      <td>3596710517534</td>\n",
       "      <td>http://world-en.openfoodfacts.org/product/3596...</td>\n",
       "      <td>kiliweb</td>\n",
       "      <td>1682936768</td>\n",
       "      <td>2023-05-01T10:26:08Z</td>\n",
       "      <td>1708148079</td>\n",
       "      <td>2024-02-17T05:34:39Z</td>\n",
       "      <td>org-auchan-apaw</td>\n",
       "      <td>...</td>\n",
       "      <td>NaN</td>\n",
       "      <td>NaN</td>\n",
       "      <td>NaN</td>\n",
       "      <td>NaN</td>\n",
       "      <td>NaN</td>\n",
       "      <td>NaN</td>\n",
       "      <td>NaN</td>\n",
       "      <td>NaN</td>\n",
       "      <td>NaN</td>\n",
       "      <td>france,world</td>\n",
       "    </tr>\n",
       "    <tr>\n",
       "      <th>3</th>\n",
       "      <td>1</td>\n",
       "      <td>world</td>\n",
       "      <td>3596710517640</td>\n",
       "      <td>http://world-en.openfoodfacts.org/product/3596...</td>\n",
       "      <td>smoothie-app</td>\n",
       "      <td>1686043401</td>\n",
       "      <td>2023-06-06T09:23:21Z</td>\n",
       "      <td>1708103678</td>\n",
       "      <td>2024-02-16T17:14:38Z</td>\n",
       "      <td>org-auchan-apaw</td>\n",
       "      <td>...</td>\n",
       "      <td>NaN</td>\n",
       "      <td>NaN</td>\n",
       "      <td>NaN</td>\n",
       "      <td>NaN</td>\n",
       "      <td>NaN</td>\n",
       "      <td>NaN</td>\n",
       "      <td>NaN</td>\n",
       "      <td>NaN</td>\n",
       "      <td>NaN</td>\n",
       "      <td>france,world</td>\n",
       "    </tr>\n",
       "    <tr>\n",
       "      <th>4</th>\n",
       "      <td>2</td>\n",
       "      <td>france</td>\n",
       "      <td>3596710517657</td>\n",
       "      <td>http://world-en.openfoodfacts.org/product/3596...</td>\n",
       "      <td>kiliweb</td>\n",
       "      <td>1680188892</td>\n",
       "      <td>2023-03-30T15:08:12Z</td>\n",
       "      <td>1708147290</td>\n",
       "      <td>2024-02-17T05:21:30Z</td>\n",
       "      <td>org-auchan-apaw</td>\n",
       "      <td>...</td>\n",
       "      <td>NaN</td>\n",
       "      <td>NaN</td>\n",
       "      <td>NaN</td>\n",
       "      <td>NaN</td>\n",
       "      <td>NaN</td>\n",
       "      <td>NaN</td>\n",
       "      <td>NaN</td>\n",
       "      <td>NaN</td>\n",
       "      <td>NaN</td>\n",
       "      <td>france,world</td>\n",
       "    </tr>\n",
       "    <tr>\n",
       "      <th>...</th>\n",
       "      <td>...</td>\n",
       "      <td>...</td>\n",
       "      <td>...</td>\n",
       "      <td>...</td>\n",
       "      <td>...</td>\n",
       "      <td>...</td>\n",
       "      <td>...</td>\n",
       "      <td>...</td>\n",
       "      <td>...</td>\n",
       "      <td>...</td>\n",
       "      <td>...</td>\n",
       "      <td>...</td>\n",
       "      <td>...</td>\n",
       "      <td>...</td>\n",
       "      <td>...</td>\n",
       "      <td>...</td>\n",
       "      <td>...</td>\n",
       "      <td>...</td>\n",
       "      <td>...</td>\n",
       "      <td>...</td>\n",
       "      <td>...</td>\n",
       "    </tr>\n",
       "    <tr>\n",
       "      <th>994</th>\n",
       "      <td>636</td>\n",
       "      <td>france</td>\n",
       "      <td>3596854448435</td>\n",
       "      <td>http://world-en.openfoodfacts.org/product/3596...</td>\n",
       "      <td>kiliweb</td>\n",
       "      <td>1533574676</td>\n",
       "      <td>2018-08-06T16:57:56Z</td>\n",
       "      <td>1690903404</td>\n",
       "      <td>2023-08-01T15:23:24Z</td>\n",
       "      <td>org-auchan-apaw</td>\n",
       "      <td>...</td>\n",
       "      <td>NaN</td>\n",
       "      <td>NaN</td>\n",
       "      <td>NaN</td>\n",
       "      <td>NaN</td>\n",
       "      <td>NaN</td>\n",
       "      <td>NaN</td>\n",
       "      <td>NaN</td>\n",
       "      <td>NaN</td>\n",
       "      <td>NaN</td>\n",
       "      <td>france</td>\n",
       "    </tr>\n",
       "    <tr>\n",
       "      <th>995</th>\n",
       "      <td>637</td>\n",
       "      <td>france</td>\n",
       "      <td>3596854514956</td>\n",
       "      <td>http://world-en.openfoodfacts.org/product/3596...</td>\n",
       "      <td>kiliweb</td>\n",
       "      <td>1527154272</td>\n",
       "      <td>2018-05-24T09:31:12Z</td>\n",
       "      <td>1698344997</td>\n",
       "      <td>2023-10-26T18:29:57Z</td>\n",
       "      <td>teolemon</td>\n",
       "      <td>...</td>\n",
       "      <td>NaN</td>\n",
       "      <td>NaN</td>\n",
       "      <td>NaN</td>\n",
       "      <td>NaN</td>\n",
       "      <td>NaN</td>\n",
       "      <td>NaN</td>\n",
       "      <td>NaN</td>\n",
       "      <td>NaN</td>\n",
       "      <td>NaN</td>\n",
       "      <td>france</td>\n",
       "    </tr>\n",
       "    <tr>\n",
       "      <th>997</th>\n",
       "      <td>639</td>\n",
       "      <td>france</td>\n",
       "      <td>3596854646664</td>\n",
       "      <td>http://world-en.openfoodfacts.org/product/3596...</td>\n",
       "      <td>kiliweb</td>\n",
       "      <td>1507374534</td>\n",
       "      <td>2017-10-07T11:08:54Z</td>\n",
       "      <td>1690903405</td>\n",
       "      <td>2023-08-01T15:23:25Z</td>\n",
       "      <td>org-auchan-apaw</td>\n",
       "      <td>...</td>\n",
       "      <td>NaN</td>\n",
       "      <td>NaN</td>\n",
       "      <td>NaN</td>\n",
       "      <td>NaN</td>\n",
       "      <td>NaN</td>\n",
       "      <td>NaN</td>\n",
       "      <td>NaN</td>\n",
       "      <td>NaN</td>\n",
       "      <td>NaN</td>\n",
       "      <td>france</td>\n",
       "    </tr>\n",
       "    <tr>\n",
       "      <th>998</th>\n",
       "      <td>640</td>\n",
       "      <td>france</td>\n",
       "      <td>3596854647562</td>\n",
       "      <td>http://world-en.openfoodfacts.org/product/3596...</td>\n",
       "      <td>kiliweb</td>\n",
       "      <td>1576699442</td>\n",
       "      <td>2019-12-18T20:04:02Z</td>\n",
       "      <td>1690903405</td>\n",
       "      <td>2023-08-01T15:23:25Z</td>\n",
       "      <td>org-auchan-apaw</td>\n",
       "      <td>...</td>\n",
       "      <td>NaN</td>\n",
       "      <td>NaN</td>\n",
       "      <td>NaN</td>\n",
       "      <td>NaN</td>\n",
       "      <td>NaN</td>\n",
       "      <td>NaN</td>\n",
       "      <td>NaN</td>\n",
       "      <td>NaN</td>\n",
       "      <td>NaN</td>\n",
       "      <td>france</td>\n",
       "    </tr>\n",
       "    <tr>\n",
       "      <th>1008</th>\n",
       "      <td>1999</td>\n",
       "      <td>france</td>\n",
       "      <td>3597133075298</td>\n",
       "      <td>http://world-en.openfoodfacts.org/product/3597...</td>\n",
       "      <td>prepperapp</td>\n",
       "      <td>1673627070</td>\n",
       "      <td>2023-01-13T16:24:30Z</td>\n",
       "      <td>1673627070</td>\n",
       "      <td>2023-01-13T16:24:30Z</td>\n",
       "      <td>prepperapp</td>\n",
       "      <td>...</td>\n",
       "      <td>NaN</td>\n",
       "      <td>NaN</td>\n",
       "      <td>NaN</td>\n",
       "      <td>NaN</td>\n",
       "      <td>NaN</td>\n",
       "      <td>NaN</td>\n",
       "      <td>NaN</td>\n",
       "      <td>NaN</td>\n",
       "      <td>NaN</td>\n",
       "      <td>germany</td>\n",
       "    </tr>\n",
       "  </tbody>\n",
       "</table>\n",
       "<p>895 rows × 209 columns</p>\n",
       "</div>"
      ],
      "text/plain": [
       "      level_0 countries_1           code  \\\n",
       "0           0      france  3596710517510   \n",
       "1           0       world  3596710517527   \n",
       "2           1      france  3596710517534   \n",
       "3           1       world  3596710517640   \n",
       "4           2      france  3596710517657   \n",
       "...       ...         ...            ...   \n",
       "994       636      france  3596854448435   \n",
       "995       637      france  3596854514956   \n",
       "997       639      france  3596854646664   \n",
       "998       640      france  3596854647562   \n",
       "1008     1999      france  3597133075298   \n",
       "\n",
       "                                                    url       creator  \\\n",
       "0     http://world-en.openfoodfacts.org/product/3596...       kiliweb   \n",
       "1     http://world-en.openfoodfacts.org/product/3596...       kiliweb   \n",
       "2     http://world-en.openfoodfacts.org/product/3596...       kiliweb   \n",
       "3     http://world-en.openfoodfacts.org/product/3596...  smoothie-app   \n",
       "4     http://world-en.openfoodfacts.org/product/3596...       kiliweb   \n",
       "...                                                 ...           ...   \n",
       "994   http://world-en.openfoodfacts.org/product/3596...       kiliweb   \n",
       "995   http://world-en.openfoodfacts.org/product/3596...       kiliweb   \n",
       "997   http://world-en.openfoodfacts.org/product/3596...       kiliweb   \n",
       "998   http://world-en.openfoodfacts.org/product/3596...       kiliweb   \n",
       "1008  http://world-en.openfoodfacts.org/product/3597...    prepperapp   \n",
       "\n",
       "       created_t      created_datetime  last_modified_t  \\\n",
       "0     1682951305  2023-05-01T14:28:25Z       1709956237   \n",
       "1     1672054652  2022-12-26T11:37:32Z       1708232344   \n",
       "2     1682936768  2023-05-01T10:26:08Z       1708148079   \n",
       "3     1686043401  2023-06-06T09:23:21Z       1708103678   \n",
       "4     1680188892  2023-03-30T15:08:12Z       1708147290   \n",
       "...          ...                   ...              ...   \n",
       "994   1533574676  2018-08-06T16:57:56Z       1690903404   \n",
       "995   1527154272  2018-05-24T09:31:12Z       1698344997   \n",
       "997   1507374534  2017-10-07T11:08:54Z       1690903405   \n",
       "998   1576699442  2019-12-18T20:04:02Z       1690903405   \n",
       "1008  1673627070  2023-01-13T16:24:30Z       1673627070   \n",
       "\n",
       "     last_modified_datetime last_modified_by  ...  water-hardness_100g  \\\n",
       "0      2024-03-09T03:50:37Z  org-auchan-apaw  ...                  NaN   \n",
       "1      2024-02-18T04:59:04Z  org-auchan-apaw  ...                  NaN   \n",
       "2      2024-02-17T05:34:39Z  org-auchan-apaw  ...                  NaN   \n",
       "3      2024-02-16T17:14:38Z  org-auchan-apaw  ...                  NaN   \n",
       "4      2024-02-17T05:21:30Z  org-auchan-apaw  ...                  NaN   \n",
       "...                     ...              ...  ...                  ...   \n",
       "994    2023-08-01T15:23:24Z  org-auchan-apaw  ...                  NaN   \n",
       "995    2023-10-26T18:29:57Z         teolemon  ...                  NaN   \n",
       "997    2023-08-01T15:23:25Z  org-auchan-apaw  ...                  NaN   \n",
       "998    2023-08-01T15:23:25Z  org-auchan-apaw  ...                  NaN   \n",
       "1008   2023-01-13T16:24:30Z       prepperapp  ...                  NaN   \n",
       "\n",
       "     choline_100g phylloquinone_100g beta-glucan_100g inositol_100g  \\\n",
       "0             NaN                NaN              NaN           NaN   \n",
       "1             NaN                NaN              NaN           NaN   \n",
       "2             NaN                NaN              NaN           NaN   \n",
       "3             NaN                NaN              NaN           NaN   \n",
       "4             NaN                NaN              NaN           NaN   \n",
       "...           ...                ...              ...           ...   \n",
       "994           NaN                NaN              NaN           NaN   \n",
       "995           NaN                NaN              NaN           NaN   \n",
       "997           NaN                NaN              NaN           NaN   \n",
       "998           NaN                NaN              NaN           NaN   \n",
       "1008          NaN                NaN              NaN           NaN   \n",
       "\n",
       "     carnitine_100g sulphate_100g nitrate_100g acidity_100g countries_en_c  \n",
       "0               NaN           NaN          NaN          NaN   france,world  \n",
       "1               NaN           NaN          NaN          NaN   france,world  \n",
       "2               NaN           NaN          NaN          NaN   france,world  \n",
       "3               NaN           NaN          NaN          NaN   france,world  \n",
       "4               NaN           NaN          NaN          NaN   france,world  \n",
       "...             ...           ...          ...          ...            ...  \n",
       "994             NaN           NaN          NaN          NaN         france  \n",
       "995             NaN           NaN          NaN          NaN         france  \n",
       "997             NaN           NaN          NaN          NaN         france  \n",
       "998             NaN           NaN          NaN          NaN         france  \n",
       "1008            NaN           NaN          NaN          NaN        germany  \n",
       "\n",
       "[895 rows x 209 columns]"
      ]
     },
     "execution_count": 142,
     "metadata": {},
     "output_type": "execute_result"
    }
   ],
   "source": [
    "df"
   ]
  },
  {
   "cell_type": "code",
   "execution_count": 31,
   "metadata": {},
   "outputs": [
    {
     "name": "stdout",
     "output_type": "stream",
     "text": [
      "Collecting pycountry\n",
      "/opt/anaconda3/lib/python3.7/site-packages/cryptography/hazmat/backends/openssl/x509.py:17: CryptographyDeprecationWarning: This version of cryptography contains a temporary pyOpenSSL fallback path. Upgrade pyOpenSSL now.\n",
      "  utils.DeprecatedIn35,\n",
      "\u001b[?25l  Downloading https://files.pythonhosted.org/packages/33/24/033604d30f6cf82d661c0f9dfc2c71d52cafc2de516616f80d3b0600cb7c/pycountry-22.3.5.tar.gz (10.1MB)\n",
      "\u001b[K     |████████████████████████████████| 10.1MB 104kB/s eta 0:00:01\n",
      "\u001b[?25h  Installing build dependencies ... \u001b[?25ldone\n",
      "\u001b[?25h  Getting requirements to build wheel ... \u001b[?25ldone\n",
      "\u001b[?25h    Preparing wheel metadata ... \u001b[?25ldone\n",
      "\u001b[?25hRequirement already satisfied: setuptools in /opt/anaconda3/lib/python3.7/site-packages (from pycountry) (41.4.0)\n",
      "Building wheels for collected packages: pycountry\n",
      "  Building wheel for pycountry (PEP 517) ... \u001b[?25ldone\n",
      "\u001b[?25h  Created wheel for pycountry: filename=pycountry-22.3.5-cp37-none-any.whl size=10681832 sha256=a1638e5f561cbed8fabcd09b19ab7cf404c4642d8d30d026d007fcdc270c8338\n",
      "  Stored in directory: /Users/matthewbonner/Library/Caches/pip/wheels/7a/c3/f8/3e164430062ee08d5b8bc8fcd1b891ce54c7ad99871aa3adc1\n",
      "Successfully built pycountry\n",
      "Installing collected packages: pycountry\n",
      "Successfully installed pycountry-22.3.5\n"
     ]
    }
   ],
   "source": [
    "!pip install pycountry"
   ]
  },
  {
   "cell_type": "code",
   "execution_count": 130,
   "metadata": {},
   "outputs": [
    {
     "name": "stdout",
     "output_type": "stream",
     "text": [
      "No ISO code found for fr:schweiz. Dropping from DataFrame.\n",
      "No ISO code found for royaume-uni. Dropping from DataFrame.\n",
      "No ISO code found for world. Dropping from DataFrame.\n"
     ]
    },
    {
     "data": {
      "application/vnd.plotly.v1+json": {
       "config": {
        "plotlyServerURL": "https://plot.ly"
       },
       "data": [
        {
         "coloraxis": "coloraxis",
         "geo": "geo",
         "hovertemplate": "<b>%{hovertext}</b><br><br>ISO_Code=%{location}<br>quantity=%{z}<extra></extra>",
         "hovertext": [
          "afghanistan",
          "australia",
          "belgium",
          "benin",
          "bulgaria",
          "burkina faso",
          "canada",
          "czech republic",
          "côte d'ivoire",
          "finland",
          "france",
          "french polynesia",
          "germany",
          "guadeloupe",
          "guinea",
          "hungary",
          "ireland",
          "israel",
          "italy",
          "japan",
          "luxembourg",
          "mali",
          "martinique",
          "mexico",
          "morocco",
          "netherlands",
          "niger",
          "norway",
          "poland",
          "portugal",
          "réunion",
          "serbia",
          "seychelles",
          "spain",
          "switzerland",
          "togo",
          "united arab emirates",
          "united kingdom",
          "united states"
         ],
         "locations": [
          "AFG",
          "AUS",
          "BEL",
          "BEN",
          "BGR",
          "BFA",
          "CAN",
          "CZE",
          "CIV",
          "FIN",
          "FRA",
          "PYF",
          "DEU",
          "FRA",
          "GIN",
          "HUN",
          "IRL",
          "ISR",
          "ITA",
          "JPN",
          "LUX",
          "MLI",
          "FRA",
          "MEX",
          "MAR",
          "NLD",
          "NGA",
          "NOR",
          "POL",
          "PRT",
          "REU",
          "SRB",
          "SYC",
          "ESP",
          "CHE",
          "TGO",
          "ARE",
          "GBR",
          "USA"
         ],
         "name": "",
         "type": "choropleth",
         "z": [
          500,
          200,
          390.75,
          640,
          1000,
          1000,
          163.125,
          335,
          120,
          300,
          508.06622513840483,
          492,
          385.6578947368421,
          350,
          2000,
          900,
          115,
          220,
          335,
          1000,
          260,
          1000,
          183.33333333333334,
          540,
          263.3333333333333,
          262.5,
          1000,
          417.5,
          371.25,
          210,
          528.4717317647059,
          920,
          450,
          319.8529411764706,
          360.6063829787234,
          2000,
          25,
          306.4166666666667,
          286.6666666666667
         ]
        }
       ],
       "layout": {
        "coloraxis": {
         "colorbar": {
          "title": {
           "text": "quantity"
          }
         },
         "colorscale": [
          [
           0,
           "#0d0887"
          ],
          [
           0.1111111111111111,
           "#46039f"
          ],
          [
           0.2222222222222222,
           "#7201a8"
          ],
          [
           0.3333333333333333,
           "#9c179e"
          ],
          [
           0.4444444444444444,
           "#bd3786"
          ],
          [
           0.5555555555555556,
           "#d8576b"
          ],
          [
           0.6666666666666666,
           "#ed7953"
          ],
          [
           0.7777777777777778,
           "#fb9f3a"
          ],
          [
           0.8888888888888888,
           "#fdca26"
          ],
          [
           1,
           "#f0f921"
          ]
         ]
        },
        "geo": {
         "center": {},
         "domain": {
          "x": [
           0,
           1
          ],
          "y": [
           0,
           1
          ]
         }
        },
        "legend": {
         "tracegroupgap": 0
        },
        "template": {
         "data": {
          "bar": [
           {
            "error_x": {
             "color": "#2a3f5f"
            },
            "error_y": {
             "color": "#2a3f5f"
            },
            "marker": {
             "line": {
              "color": "#E5ECF6",
              "width": 0.5
             },
             "pattern": {
              "fillmode": "overlay",
              "size": 10,
              "solidity": 0.2
             }
            },
            "type": "bar"
           }
          ],
          "barpolar": [
           {
            "marker": {
             "line": {
              "color": "#E5ECF6",
              "width": 0.5
             },
             "pattern": {
              "fillmode": "overlay",
              "size": 10,
              "solidity": 0.2
             }
            },
            "type": "barpolar"
           }
          ],
          "carpet": [
           {
            "aaxis": {
             "endlinecolor": "#2a3f5f",
             "gridcolor": "white",
             "linecolor": "white",
             "minorgridcolor": "white",
             "startlinecolor": "#2a3f5f"
            },
            "baxis": {
             "endlinecolor": "#2a3f5f",
             "gridcolor": "white",
             "linecolor": "white",
             "minorgridcolor": "white",
             "startlinecolor": "#2a3f5f"
            },
            "type": "carpet"
           }
          ],
          "choropleth": [
           {
            "colorbar": {
             "outlinewidth": 0,
             "ticks": ""
            },
            "type": "choropleth"
           }
          ],
          "contour": [
           {
            "colorbar": {
             "outlinewidth": 0,
             "ticks": ""
            },
            "colorscale": [
             [
              0,
              "#0d0887"
             ],
             [
              0.1111111111111111,
              "#46039f"
             ],
             [
              0.2222222222222222,
              "#7201a8"
             ],
             [
              0.3333333333333333,
              "#9c179e"
             ],
             [
              0.4444444444444444,
              "#bd3786"
             ],
             [
              0.5555555555555556,
              "#d8576b"
             ],
             [
              0.6666666666666666,
              "#ed7953"
             ],
             [
              0.7777777777777778,
              "#fb9f3a"
             ],
             [
              0.8888888888888888,
              "#fdca26"
             ],
             [
              1,
              "#f0f921"
             ]
            ],
            "type": "contour"
           }
          ],
          "contourcarpet": [
           {
            "colorbar": {
             "outlinewidth": 0,
             "ticks": ""
            },
            "type": "contourcarpet"
           }
          ],
          "heatmap": [
           {
            "colorbar": {
             "outlinewidth": 0,
             "ticks": ""
            },
            "colorscale": [
             [
              0,
              "#0d0887"
             ],
             [
              0.1111111111111111,
              "#46039f"
             ],
             [
              0.2222222222222222,
              "#7201a8"
             ],
             [
              0.3333333333333333,
              "#9c179e"
             ],
             [
              0.4444444444444444,
              "#bd3786"
             ],
             [
              0.5555555555555556,
              "#d8576b"
             ],
             [
              0.6666666666666666,
              "#ed7953"
             ],
             [
              0.7777777777777778,
              "#fb9f3a"
             ],
             [
              0.8888888888888888,
              "#fdca26"
             ],
             [
              1,
              "#f0f921"
             ]
            ],
            "type": "heatmap"
           }
          ],
          "heatmapgl": [
           {
            "colorbar": {
             "outlinewidth": 0,
             "ticks": ""
            },
            "colorscale": [
             [
              0,
              "#0d0887"
             ],
             [
              0.1111111111111111,
              "#46039f"
             ],
             [
              0.2222222222222222,
              "#7201a8"
             ],
             [
              0.3333333333333333,
              "#9c179e"
             ],
             [
              0.4444444444444444,
              "#bd3786"
             ],
             [
              0.5555555555555556,
              "#d8576b"
             ],
             [
              0.6666666666666666,
              "#ed7953"
             ],
             [
              0.7777777777777778,
              "#fb9f3a"
             ],
             [
              0.8888888888888888,
              "#fdca26"
             ],
             [
              1,
              "#f0f921"
             ]
            ],
            "type": "heatmapgl"
           }
          ],
          "histogram": [
           {
            "marker": {
             "pattern": {
              "fillmode": "overlay",
              "size": 10,
              "solidity": 0.2
             }
            },
            "type": "histogram"
           }
          ],
          "histogram2d": [
           {
            "colorbar": {
             "outlinewidth": 0,
             "ticks": ""
            },
            "colorscale": [
             [
              0,
              "#0d0887"
             ],
             [
              0.1111111111111111,
              "#46039f"
             ],
             [
              0.2222222222222222,
              "#7201a8"
             ],
             [
              0.3333333333333333,
              "#9c179e"
             ],
             [
              0.4444444444444444,
              "#bd3786"
             ],
             [
              0.5555555555555556,
              "#d8576b"
             ],
             [
              0.6666666666666666,
              "#ed7953"
             ],
             [
              0.7777777777777778,
              "#fb9f3a"
             ],
             [
              0.8888888888888888,
              "#fdca26"
             ],
             [
              1,
              "#f0f921"
             ]
            ],
            "type": "histogram2d"
           }
          ],
          "histogram2dcontour": [
           {
            "colorbar": {
             "outlinewidth": 0,
             "ticks": ""
            },
            "colorscale": [
             [
              0,
              "#0d0887"
             ],
             [
              0.1111111111111111,
              "#46039f"
             ],
             [
              0.2222222222222222,
              "#7201a8"
             ],
             [
              0.3333333333333333,
              "#9c179e"
             ],
             [
              0.4444444444444444,
              "#bd3786"
             ],
             [
              0.5555555555555556,
              "#d8576b"
             ],
             [
              0.6666666666666666,
              "#ed7953"
             ],
             [
              0.7777777777777778,
              "#fb9f3a"
             ],
             [
              0.8888888888888888,
              "#fdca26"
             ],
             [
              1,
              "#f0f921"
             ]
            ],
            "type": "histogram2dcontour"
           }
          ],
          "mesh3d": [
           {
            "colorbar": {
             "outlinewidth": 0,
             "ticks": ""
            },
            "type": "mesh3d"
           }
          ],
          "parcoords": [
           {
            "line": {
             "colorbar": {
              "outlinewidth": 0,
              "ticks": ""
             }
            },
            "type": "parcoords"
           }
          ],
          "pie": [
           {
            "automargin": true,
            "type": "pie"
           }
          ],
          "scatter": [
           {
            "fillpattern": {
             "fillmode": "overlay",
             "size": 10,
             "solidity": 0.2
            },
            "type": "scatter"
           }
          ],
          "scatter3d": [
           {
            "line": {
             "colorbar": {
              "outlinewidth": 0,
              "ticks": ""
             }
            },
            "marker": {
             "colorbar": {
              "outlinewidth": 0,
              "ticks": ""
             }
            },
            "type": "scatter3d"
           }
          ],
          "scattercarpet": [
           {
            "marker": {
             "colorbar": {
              "outlinewidth": 0,
              "ticks": ""
             }
            },
            "type": "scattercarpet"
           }
          ],
          "scattergeo": [
           {
            "marker": {
             "colorbar": {
              "outlinewidth": 0,
              "ticks": ""
             }
            },
            "type": "scattergeo"
           }
          ],
          "scattergl": [
           {
            "marker": {
             "colorbar": {
              "outlinewidth": 0,
              "ticks": ""
             }
            },
            "type": "scattergl"
           }
          ],
          "scattermapbox": [
           {
            "marker": {
             "colorbar": {
              "outlinewidth": 0,
              "ticks": ""
             }
            },
            "type": "scattermapbox"
           }
          ],
          "scatterpolar": [
           {
            "marker": {
             "colorbar": {
              "outlinewidth": 0,
              "ticks": ""
             }
            },
            "type": "scatterpolar"
           }
          ],
          "scatterpolargl": [
           {
            "marker": {
             "colorbar": {
              "outlinewidth": 0,
              "ticks": ""
             }
            },
            "type": "scatterpolargl"
           }
          ],
          "scatterternary": [
           {
            "marker": {
             "colorbar": {
              "outlinewidth": 0,
              "ticks": ""
             }
            },
            "type": "scatterternary"
           }
          ],
          "surface": [
           {
            "colorbar": {
             "outlinewidth": 0,
             "ticks": ""
            },
            "colorscale": [
             [
              0,
              "#0d0887"
             ],
             [
              0.1111111111111111,
              "#46039f"
             ],
             [
              0.2222222222222222,
              "#7201a8"
             ],
             [
              0.3333333333333333,
              "#9c179e"
             ],
             [
              0.4444444444444444,
              "#bd3786"
             ],
             [
              0.5555555555555556,
              "#d8576b"
             ],
             [
              0.6666666666666666,
              "#ed7953"
             ],
             [
              0.7777777777777778,
              "#fb9f3a"
             ],
             [
              0.8888888888888888,
              "#fdca26"
             ],
             [
              1,
              "#f0f921"
             ]
            ],
            "type": "surface"
           }
          ],
          "table": [
           {
            "cells": {
             "fill": {
              "color": "#EBF0F8"
             },
             "line": {
              "color": "white"
             }
            },
            "header": {
             "fill": {
              "color": "#C8D4E3"
             },
             "line": {
              "color": "white"
             }
            },
            "type": "table"
           }
          ]
         },
         "layout": {
          "annotationdefaults": {
           "arrowcolor": "#2a3f5f",
           "arrowhead": 0,
           "arrowwidth": 1
          },
          "autotypenumbers": "strict",
          "coloraxis": {
           "colorbar": {
            "outlinewidth": 0,
            "ticks": ""
           }
          },
          "colorscale": {
           "diverging": [
            [
             0,
             "#8e0152"
            ],
            [
             0.1,
             "#c51b7d"
            ],
            [
             0.2,
             "#de77ae"
            ],
            [
             0.3,
             "#f1b6da"
            ],
            [
             0.4,
             "#fde0ef"
            ],
            [
             0.5,
             "#f7f7f7"
            ],
            [
             0.6,
             "#e6f5d0"
            ],
            [
             0.7,
             "#b8e186"
            ],
            [
             0.8,
             "#7fbc41"
            ],
            [
             0.9,
             "#4d9221"
            ],
            [
             1,
             "#276419"
            ]
           ],
           "sequential": [
            [
             0,
             "#0d0887"
            ],
            [
             0.1111111111111111,
             "#46039f"
            ],
            [
             0.2222222222222222,
             "#7201a8"
            ],
            [
             0.3333333333333333,
             "#9c179e"
            ],
            [
             0.4444444444444444,
             "#bd3786"
            ],
            [
             0.5555555555555556,
             "#d8576b"
            ],
            [
             0.6666666666666666,
             "#ed7953"
            ],
            [
             0.7777777777777778,
             "#fb9f3a"
            ],
            [
             0.8888888888888888,
             "#fdca26"
            ],
            [
             1,
             "#f0f921"
            ]
           ],
           "sequentialminus": [
            [
             0,
             "#0d0887"
            ],
            [
             0.1111111111111111,
             "#46039f"
            ],
            [
             0.2222222222222222,
             "#7201a8"
            ],
            [
             0.3333333333333333,
             "#9c179e"
            ],
            [
             0.4444444444444444,
             "#bd3786"
            ],
            [
             0.5555555555555556,
             "#d8576b"
            ],
            [
             0.6666666666666666,
             "#ed7953"
            ],
            [
             0.7777777777777778,
             "#fb9f3a"
            ],
            [
             0.8888888888888888,
             "#fdca26"
            ],
            [
             1,
             "#f0f921"
            ]
           ]
          },
          "colorway": [
           "#636efa",
           "#EF553B",
           "#00cc96",
           "#ab63fa",
           "#FFA15A",
           "#19d3f3",
           "#FF6692",
           "#B6E880",
           "#FF97FF",
           "#FECB52"
          ],
          "font": {
           "color": "#2a3f5f"
          },
          "geo": {
           "bgcolor": "white",
           "lakecolor": "white",
           "landcolor": "#E5ECF6",
           "showlakes": true,
           "showland": true,
           "subunitcolor": "white"
          },
          "hoverlabel": {
           "align": "left"
          },
          "hovermode": "closest",
          "mapbox": {
           "style": "light"
          },
          "paper_bgcolor": "white",
          "plot_bgcolor": "#E5ECF6",
          "polar": {
           "angularaxis": {
            "gridcolor": "white",
            "linecolor": "white",
            "ticks": ""
           },
           "bgcolor": "#E5ECF6",
           "radialaxis": {
            "gridcolor": "white",
            "linecolor": "white",
            "ticks": ""
           }
          },
          "scene": {
           "xaxis": {
            "backgroundcolor": "#E5ECF6",
            "gridcolor": "white",
            "gridwidth": 2,
            "linecolor": "white",
            "showbackground": true,
            "ticks": "",
            "zerolinecolor": "white"
           },
           "yaxis": {
            "backgroundcolor": "#E5ECF6",
            "gridcolor": "white",
            "gridwidth": 2,
            "linecolor": "white",
            "showbackground": true,
            "ticks": "",
            "zerolinecolor": "white"
           },
           "zaxis": {
            "backgroundcolor": "#E5ECF6",
            "gridcolor": "white",
            "gridwidth": 2,
            "linecolor": "white",
            "showbackground": true,
            "ticks": "",
            "zerolinecolor": "white"
           }
          },
          "shapedefaults": {
           "line": {
            "color": "#2a3f5f"
           }
          },
          "ternary": {
           "aaxis": {
            "gridcolor": "white",
            "linecolor": "white",
            "ticks": ""
           },
           "baxis": {
            "gridcolor": "white",
            "linecolor": "white",
            "ticks": ""
           },
           "bgcolor": "#E5ECF6",
           "caxis": {
            "gridcolor": "white",
            "linecolor": "white",
            "ticks": ""
           }
          },
          "title": {
           "x": 0.05
          },
          "xaxis": {
           "automargin": true,
           "gridcolor": "white",
           "linecolor": "white",
           "ticks": "",
           "title": {
            "standoff": 15
           },
           "zerolinecolor": "white",
           "zerolinewidth": 2
          },
          "yaxis": {
           "automargin": true,
           "gridcolor": "white",
           "linecolor": "white",
           "ticks": "",
           "title": {
            "standoff": 15
           },
           "zerolinecolor": "white",
           "zerolinewidth": 2
          }
         }
        },
        "title": {
         "text": "Scores by Country"
        }
       }
      },
      "text/html": [
       "<div>                            <div id=\"113ea9df-3be5-4c00-9f57-96bc92783331\" class=\"plotly-graph-div\" style=\"height:525px; width:100%;\"></div>            <script type=\"text/javascript\">                require([\"plotly\"], function(Plotly) {                    window.PLOTLYENV=window.PLOTLYENV || {};                                    if (document.getElementById(\"113ea9df-3be5-4c00-9f57-96bc92783331\")) {                    Plotly.newPlot(                        \"113ea9df-3be5-4c00-9f57-96bc92783331\",                        [{\"coloraxis\":\"coloraxis\",\"geo\":\"geo\",\"hovertemplate\":\"\\u003cb\\u003e%{hovertext}\\u003c\\u002fb\\u003e\\u003cbr\\u003e\\u003cbr\\u003eISO_Code=%{location}\\u003cbr\\u003equantity=%{z}\\u003cextra\\u003e\\u003c\\u002fextra\\u003e\",\"hovertext\":[\"afghanistan\",\"australia\",\"belgium\",\"benin\",\"bulgaria\",\"burkina faso\",\"canada\",\"czech republic\",\"c\\u00f4te d'ivoire\",\"finland\",\"france\",\"french polynesia\",\"germany\",\"guadeloupe\",\"guinea\",\"hungary\",\"ireland\",\"israel\",\"italy\",\"japan\",\"luxembourg\",\"mali\",\"martinique\",\"mexico\",\"morocco\",\"netherlands\",\"niger\",\"norway\",\"poland\",\"portugal\",\"r\\u00e9union\",\"serbia\",\"seychelles\",\"spain\",\"switzerland\",\"togo\",\"united arab emirates\",\"united kingdom\",\"united states\"],\"locations\":[\"AFG\",\"AUS\",\"BEL\",\"BEN\",\"BGR\",\"BFA\",\"CAN\",\"CZE\",\"CIV\",\"FIN\",\"FRA\",\"PYF\",\"DEU\",\"FRA\",\"GIN\",\"HUN\",\"IRL\",\"ISR\",\"ITA\",\"JPN\",\"LUX\",\"MLI\",\"FRA\",\"MEX\",\"MAR\",\"NLD\",\"NGA\",\"NOR\",\"POL\",\"PRT\",\"REU\",\"SRB\",\"SYC\",\"ESP\",\"CHE\",\"TGO\",\"ARE\",\"GBR\",\"USA\"],\"name\":\"\",\"z\":[500.0,200.0,390.75,640.0,1000.0,1000.0,163.125,335.0,120.0,300.0,508.06622513840483,492.0,385.6578947368421,350.0,2000.0,900.0,115.0,220.0,335.0,1000.0,260.0,1000.0,183.33333333333334,540.0,263.3333333333333,262.5,1000.0,417.5,371.25,210.0,528.4717317647059,920.0,450.0,319.8529411764706,360.6063829787234,2000.0,25.0,306.4166666666667,286.6666666666667],\"type\":\"choropleth\"}],                        {\"template\":{\"data\":{\"histogram2dcontour\":[{\"type\":\"histogram2dcontour\",\"colorbar\":{\"outlinewidth\":0,\"ticks\":\"\"},\"colorscale\":[[0.0,\"#0d0887\"],[0.1111111111111111,\"#46039f\"],[0.2222222222222222,\"#7201a8\"],[0.3333333333333333,\"#9c179e\"],[0.4444444444444444,\"#bd3786\"],[0.5555555555555556,\"#d8576b\"],[0.6666666666666666,\"#ed7953\"],[0.7777777777777778,\"#fb9f3a\"],[0.8888888888888888,\"#fdca26\"],[1.0,\"#f0f921\"]]}],\"choropleth\":[{\"type\":\"choropleth\",\"colorbar\":{\"outlinewidth\":0,\"ticks\":\"\"}}],\"histogram2d\":[{\"type\":\"histogram2d\",\"colorbar\":{\"outlinewidth\":0,\"ticks\":\"\"},\"colorscale\":[[0.0,\"#0d0887\"],[0.1111111111111111,\"#46039f\"],[0.2222222222222222,\"#7201a8\"],[0.3333333333333333,\"#9c179e\"],[0.4444444444444444,\"#bd3786\"],[0.5555555555555556,\"#d8576b\"],[0.6666666666666666,\"#ed7953\"],[0.7777777777777778,\"#fb9f3a\"],[0.8888888888888888,\"#fdca26\"],[1.0,\"#f0f921\"]]}],\"heatmap\":[{\"type\":\"heatmap\",\"colorbar\":{\"outlinewidth\":0,\"ticks\":\"\"},\"colorscale\":[[0.0,\"#0d0887\"],[0.1111111111111111,\"#46039f\"],[0.2222222222222222,\"#7201a8\"],[0.3333333333333333,\"#9c179e\"],[0.4444444444444444,\"#bd3786\"],[0.5555555555555556,\"#d8576b\"],[0.6666666666666666,\"#ed7953\"],[0.7777777777777778,\"#fb9f3a\"],[0.8888888888888888,\"#fdca26\"],[1.0,\"#f0f921\"]]}],\"heatmapgl\":[{\"type\":\"heatmapgl\",\"colorbar\":{\"outlinewidth\":0,\"ticks\":\"\"},\"colorscale\":[[0.0,\"#0d0887\"],[0.1111111111111111,\"#46039f\"],[0.2222222222222222,\"#7201a8\"],[0.3333333333333333,\"#9c179e\"],[0.4444444444444444,\"#bd3786\"],[0.5555555555555556,\"#d8576b\"],[0.6666666666666666,\"#ed7953\"],[0.7777777777777778,\"#fb9f3a\"],[0.8888888888888888,\"#fdca26\"],[1.0,\"#f0f921\"]]}],\"contourcarpet\":[{\"type\":\"contourcarpet\",\"colorbar\":{\"outlinewidth\":0,\"ticks\":\"\"}}],\"contour\":[{\"type\":\"contour\",\"colorbar\":{\"outlinewidth\":0,\"ticks\":\"\"},\"colorscale\":[[0.0,\"#0d0887\"],[0.1111111111111111,\"#46039f\"],[0.2222222222222222,\"#7201a8\"],[0.3333333333333333,\"#9c179e\"],[0.4444444444444444,\"#bd3786\"],[0.5555555555555556,\"#d8576b\"],[0.6666666666666666,\"#ed7953\"],[0.7777777777777778,\"#fb9f3a\"],[0.8888888888888888,\"#fdca26\"],[1.0,\"#f0f921\"]]}],\"surface\":[{\"type\":\"surface\",\"colorbar\":{\"outlinewidth\":0,\"ticks\":\"\"},\"colorscale\":[[0.0,\"#0d0887\"],[0.1111111111111111,\"#46039f\"],[0.2222222222222222,\"#7201a8\"],[0.3333333333333333,\"#9c179e\"],[0.4444444444444444,\"#bd3786\"],[0.5555555555555556,\"#d8576b\"],[0.6666666666666666,\"#ed7953\"],[0.7777777777777778,\"#fb9f3a\"],[0.8888888888888888,\"#fdca26\"],[1.0,\"#f0f921\"]]}],\"mesh3d\":[{\"type\":\"mesh3d\",\"colorbar\":{\"outlinewidth\":0,\"ticks\":\"\"}}],\"scatter\":[{\"fillpattern\":{\"fillmode\":\"overlay\",\"size\":10,\"solidity\":0.2},\"type\":\"scatter\"}],\"parcoords\":[{\"type\":\"parcoords\",\"line\":{\"colorbar\":{\"outlinewidth\":0,\"ticks\":\"\"}}}],\"scatterpolargl\":[{\"type\":\"scatterpolargl\",\"marker\":{\"colorbar\":{\"outlinewidth\":0,\"ticks\":\"\"}}}],\"bar\":[{\"error_x\":{\"color\":\"#2a3f5f\"},\"error_y\":{\"color\":\"#2a3f5f\"},\"marker\":{\"line\":{\"color\":\"#E5ECF6\",\"width\":0.5},\"pattern\":{\"fillmode\":\"overlay\",\"size\":10,\"solidity\":0.2}},\"type\":\"bar\"}],\"scattergeo\":[{\"type\":\"scattergeo\",\"marker\":{\"colorbar\":{\"outlinewidth\":0,\"ticks\":\"\"}}}],\"scatterpolar\":[{\"type\":\"scatterpolar\",\"marker\":{\"colorbar\":{\"outlinewidth\":0,\"ticks\":\"\"}}}],\"histogram\":[{\"marker\":{\"pattern\":{\"fillmode\":\"overlay\",\"size\":10,\"solidity\":0.2}},\"type\":\"histogram\"}],\"scattergl\":[{\"type\":\"scattergl\",\"marker\":{\"colorbar\":{\"outlinewidth\":0,\"ticks\":\"\"}}}],\"scatter3d\":[{\"type\":\"scatter3d\",\"line\":{\"colorbar\":{\"outlinewidth\":0,\"ticks\":\"\"}},\"marker\":{\"colorbar\":{\"outlinewidth\":0,\"ticks\":\"\"}}}],\"scattermapbox\":[{\"type\":\"scattermapbox\",\"marker\":{\"colorbar\":{\"outlinewidth\":0,\"ticks\":\"\"}}}],\"scatterternary\":[{\"type\":\"scatterternary\",\"marker\":{\"colorbar\":{\"outlinewidth\":0,\"ticks\":\"\"}}}],\"scattercarpet\":[{\"type\":\"scattercarpet\",\"marker\":{\"colorbar\":{\"outlinewidth\":0,\"ticks\":\"\"}}}],\"carpet\":[{\"aaxis\":{\"endlinecolor\":\"#2a3f5f\",\"gridcolor\":\"white\",\"linecolor\":\"white\",\"minorgridcolor\":\"white\",\"startlinecolor\":\"#2a3f5f\"},\"baxis\":{\"endlinecolor\":\"#2a3f5f\",\"gridcolor\":\"white\",\"linecolor\":\"white\",\"minorgridcolor\":\"white\",\"startlinecolor\":\"#2a3f5f\"},\"type\":\"carpet\"}],\"table\":[{\"cells\":{\"fill\":{\"color\":\"#EBF0F8\"},\"line\":{\"color\":\"white\"}},\"header\":{\"fill\":{\"color\":\"#C8D4E3\"},\"line\":{\"color\":\"white\"}},\"type\":\"table\"}],\"barpolar\":[{\"marker\":{\"line\":{\"color\":\"#E5ECF6\",\"width\":0.5},\"pattern\":{\"fillmode\":\"overlay\",\"size\":10,\"solidity\":0.2}},\"type\":\"barpolar\"}],\"pie\":[{\"automargin\":true,\"type\":\"pie\"}]},\"layout\":{\"autotypenumbers\":\"strict\",\"colorway\":[\"#636efa\",\"#EF553B\",\"#00cc96\",\"#ab63fa\",\"#FFA15A\",\"#19d3f3\",\"#FF6692\",\"#B6E880\",\"#FF97FF\",\"#FECB52\"],\"font\":{\"color\":\"#2a3f5f\"},\"hovermode\":\"closest\",\"hoverlabel\":{\"align\":\"left\"},\"paper_bgcolor\":\"white\",\"plot_bgcolor\":\"#E5ECF6\",\"polar\":{\"bgcolor\":\"#E5ECF6\",\"angularaxis\":{\"gridcolor\":\"white\",\"linecolor\":\"white\",\"ticks\":\"\"},\"radialaxis\":{\"gridcolor\":\"white\",\"linecolor\":\"white\",\"ticks\":\"\"}},\"ternary\":{\"bgcolor\":\"#E5ECF6\",\"aaxis\":{\"gridcolor\":\"white\",\"linecolor\":\"white\",\"ticks\":\"\"},\"baxis\":{\"gridcolor\":\"white\",\"linecolor\":\"white\",\"ticks\":\"\"},\"caxis\":{\"gridcolor\":\"white\",\"linecolor\":\"white\",\"ticks\":\"\"}},\"coloraxis\":{\"colorbar\":{\"outlinewidth\":0,\"ticks\":\"\"}},\"colorscale\":{\"sequential\":[[0.0,\"#0d0887\"],[0.1111111111111111,\"#46039f\"],[0.2222222222222222,\"#7201a8\"],[0.3333333333333333,\"#9c179e\"],[0.4444444444444444,\"#bd3786\"],[0.5555555555555556,\"#d8576b\"],[0.6666666666666666,\"#ed7953\"],[0.7777777777777778,\"#fb9f3a\"],[0.8888888888888888,\"#fdca26\"],[1.0,\"#f0f921\"]],\"sequentialminus\":[[0.0,\"#0d0887\"],[0.1111111111111111,\"#46039f\"],[0.2222222222222222,\"#7201a8\"],[0.3333333333333333,\"#9c179e\"],[0.4444444444444444,\"#bd3786\"],[0.5555555555555556,\"#d8576b\"],[0.6666666666666666,\"#ed7953\"],[0.7777777777777778,\"#fb9f3a\"],[0.8888888888888888,\"#fdca26\"],[1.0,\"#f0f921\"]],\"diverging\":[[0,\"#8e0152\"],[0.1,\"#c51b7d\"],[0.2,\"#de77ae\"],[0.3,\"#f1b6da\"],[0.4,\"#fde0ef\"],[0.5,\"#f7f7f7\"],[0.6,\"#e6f5d0\"],[0.7,\"#b8e186\"],[0.8,\"#7fbc41\"],[0.9,\"#4d9221\"],[1,\"#276419\"]]},\"xaxis\":{\"gridcolor\":\"white\",\"linecolor\":\"white\",\"ticks\":\"\",\"title\":{\"standoff\":15},\"zerolinecolor\":\"white\",\"automargin\":true,\"zerolinewidth\":2},\"yaxis\":{\"gridcolor\":\"white\",\"linecolor\":\"white\",\"ticks\":\"\",\"title\":{\"standoff\":15},\"zerolinecolor\":\"white\",\"automargin\":true,\"zerolinewidth\":2},\"scene\":{\"xaxis\":{\"backgroundcolor\":\"#E5ECF6\",\"gridcolor\":\"white\",\"linecolor\":\"white\",\"showbackground\":true,\"ticks\":\"\",\"zerolinecolor\":\"white\",\"gridwidth\":2},\"yaxis\":{\"backgroundcolor\":\"#E5ECF6\",\"gridcolor\":\"white\",\"linecolor\":\"white\",\"showbackground\":true,\"ticks\":\"\",\"zerolinecolor\":\"white\",\"gridwidth\":2},\"zaxis\":{\"backgroundcolor\":\"#E5ECF6\",\"gridcolor\":\"white\",\"linecolor\":\"white\",\"showbackground\":true,\"ticks\":\"\",\"zerolinecolor\":\"white\",\"gridwidth\":2}},\"shapedefaults\":{\"line\":{\"color\":\"#2a3f5f\"}},\"annotationdefaults\":{\"arrowcolor\":\"#2a3f5f\",\"arrowhead\":0,\"arrowwidth\":1},\"geo\":{\"bgcolor\":\"white\",\"landcolor\":\"#E5ECF6\",\"subunitcolor\":\"white\",\"showland\":true,\"showlakes\":true,\"lakecolor\":\"white\"},\"title\":{\"x\":0.05},\"mapbox\":{\"style\":\"light\"}}},\"geo\":{\"domain\":{\"x\":[0.0,1.0],\"y\":[0.0,1.0]},\"center\":{}},\"coloraxis\":{\"colorbar\":{\"title\":{\"text\":\"quantity\"}},\"colorscale\":[[0.0,\"#0d0887\"],[0.1111111111111111,\"#46039f\"],[0.2222222222222222,\"#7201a8\"],[0.3333333333333333,\"#9c179e\"],[0.4444444444444444,\"#bd3786\"],[0.5555555555555556,\"#d8576b\"],[0.6666666666666666,\"#ed7953\"],[0.7777777777777778,\"#fb9f3a\"],[0.8888888888888888,\"#fdca26\"],[1.0,\"#f0f921\"]]},\"legend\":{\"tracegroupgap\":0},\"title\":{\"text\":\"Scores by Country\"}},                        {\"responsive\": true}                    ).then(function(){\n",
       "                            \n",
       "var gd = document.getElementById('113ea9df-3be5-4c00-9f57-96bc92783331');\n",
       "var x = new MutationObserver(function (mutations, observer) {{\n",
       "        var display = window.getComputedStyle(gd).display;\n",
       "        if (!display || display === 'none') {{\n",
       "            console.log([gd, 'removed!']);\n",
       "            Plotly.purge(gd);\n",
       "            observer.disconnect();\n",
       "        }}\n",
       "}});\n",
       "\n",
       "// Listen for the removal of the full notebook cells\n",
       "var notebookContainer = gd.closest('#notebook-container');\n",
       "if (notebookContainer) {{\n",
       "    x.observe(notebookContainer, {childList: true});\n",
       "}}\n",
       "\n",
       "// Listen for the clearing of the current output cell\n",
       "var outputEl = gd.closest('.output');\n",
       "if (outputEl) {{\n",
       "    x.observe(outputEl, {childList: true});\n",
       "}}\n",
       "\n",
       "                        })                };                });            </script>        </div>"
      ]
     },
     "metadata": {},
     "output_type": "display_data"
    }
   ],
   "source": [
    "\n",
    "import pycountry\n",
    "import plotly.express as px\n",
    "\n",
    "iso_mapping = {}\n",
    "for country in average_by_country['countries_1']:\n",
    "    try:\n",
    "        country_data = pycountry.countries.search_fuzzy(country)[0]\n",
    "        iso_mapping[country] = country_data.alpha_3\n",
    "    except LookupError:\n",
    "        print(f\"No ISO code found for {country}. Dropping from DataFrame.\")\n",
    "        average_by_country = average_by_country[average_by_country['countries_1'] != country]\n",
    "\n",
    "# Add ISO codes to the DataFrame\n",
    "average_by_country['ISO_Code'] = average_by_country['countries_1'].map(iso_mapping)\n",
    "\n",
    "# Plot the scores on a geographical map\n",
    "fig = px.choropleth(average_by_country,\n",
    "                    locations=\"ISO_Code\",\n",
    "                    color=\"quantity\",\n",
    "                    hover_name=\"countries_1\",\n",
    "                    color_continuous_scale=px.colors.sequential.Plasma,\n",
    "                    title=\"Scores by Country\")\n",
    "fig.show()"
   ]
  },
  {
   "cell_type": "code",
   "execution_count": 131,
   "metadata": {},
   "outputs": [],
   "source": [
    "df_cats = df_packagings.dropna(subset=['main_category_en'])\n"
   ]
  },
  {
   "cell_type": "code",
   "execution_count": 132,
   "metadata": {},
   "outputs": [],
   "source": [
    "average_by_cat = df_cats.groupby('main_category_en')['quantity'].mean().to_frame().reset_index()\n"
   ]
  },
  {
   "cell_type": "code",
   "execution_count": 133,
   "metadata": {},
   "outputs": [
    {
     "data": {
      "text/html": [
       "<div>\n",
       "<style scoped>\n",
       "    .dataframe tbody tr th:only-of-type {\n",
       "        vertical-align: middle;\n",
       "    }\n",
       "\n",
       "    .dataframe tbody tr th {\n",
       "        vertical-align: top;\n",
       "    }\n",
       "\n",
       "    .dataframe thead th {\n",
       "        text-align: right;\n",
       "    }\n",
       "</style>\n",
       "<table border=\"1\" class=\"dataframe\">\n",
       "  <thead>\n",
       "    <tr style=\"text-align: right;\">\n",
       "      <th></th>\n",
       "      <th>main_category_en</th>\n",
       "      <th>quantity</th>\n",
       "    </tr>\n",
       "  </thead>\n",
       "  <tbody>\n",
       "    <tr>\n",
       "      <th>0</th>\n",
       "      <td>Acid gummy candies</td>\n",
       "      <td>105.000000</td>\n",
       "    </tr>\n",
       "    <tr>\n",
       "      <th>1</th>\n",
       "      <td>Advent calendars</td>\n",
       "      <td>200.000000</td>\n",
       "    </tr>\n",
       "    <tr>\n",
       "      <th>2</th>\n",
       "      <td>Alaska pollock</td>\n",
       "      <td>600.000000</td>\n",
       "    </tr>\n",
       "    <tr>\n",
       "      <th>3</th>\n",
       "      <td>Albacore</td>\n",
       "      <td>123.392857</td>\n",
       "    </tr>\n",
       "    <tr>\n",
       "      <th>4</th>\n",
       "      <td>Alimentos-y-bebidas-de-origen-vegetal-alimento...</td>\n",
       "      <td>335.000000</td>\n",
       "    </tr>\n",
       "  </tbody>\n",
       "</table>\n",
       "</div>"
      ],
      "text/plain": [
       "                                    main_category_en    quantity\n",
       "0                                 Acid gummy candies  105.000000\n",
       "1                                   Advent calendars  200.000000\n",
       "2                                     Alaska pollock  600.000000\n",
       "3                                           Albacore  123.392857\n",
       "4  Alimentos-y-bebidas-de-origen-vegetal-alimento...  335.000000"
      ]
     },
     "execution_count": 133,
     "metadata": {},
     "output_type": "execute_result"
    }
   ],
   "source": [
    "average_by_cat.head()"
   ]
  },
  {
   "cell_type": "code",
   "execution_count": 134,
   "metadata": {},
   "outputs": [
    {
     "data": {
      "application/vnd.plotly.v1+json": {
       "config": {
        "plotlyServerURL": "https://plot.ly"
       },
       "data": [
        {
         "branchvalues": "total",
         "customdata": [
          [
           "Acid gummy candies"
          ],
          [
           "Advent calendars"
          ],
          [
           "Alaska pollock"
          ],
          [
           "Albacore"
          ],
          [
           "Alimentos-y-bebidas-de-origen-vegetal-alimentos-de-origen-vegetal-untables-desayunos-untables-vegetales-untables-dulces-preparaciones-a-base-de-frutas-y-verduras-mermeladas-y-confituras-mermeladas-y-confituras-de-frutas-del-bosque-mermeladas-y-confituras-de-fresa"
          ],
          [
           "Almond butters"
          ],
          [
           "Almond flakes"
          ],
          [
           "Almond meal"
          ],
          [
           "Almond milk yogurts"
          ],
          [
           "Almond paste"
          ],
          [
           "Anchovy"
          ],
          [
           "Appetizers"
          ],
          [
           "Apple compotes"
          ],
          [
           "Apple turnovers"
          ],
          [
           "Apples"
          ],
          [
           "Apples jellies"
          ],
          [
           "Applesauces"
          ],
          [
           "Apricot Apple compotes"
          ],
          [
           "Apricot compotes"
          ],
          [
           "Apricot jams"
          ],
          [
           "Apricot yogurts"
          ],
          [
           "Arabica ground coffees"
          ],
          [
           "Artichoke hearts"
          ],
          [
           "Assorted chocolate candies"
          ],
          [
           "Assorted chocolates"
          ],
          [
           "Assorted jams"
          ],
          [
           "Assortiments-de-biscuits"
          ],
          [
           "Assortments-of-compotes"
          ],
          [
           "BCAA"
          ],
          [
           "Bacon"
          ],
          [
           "Baeri caviars"
          ],
          [
           "Baguettes"
          ],
          [
           "Baked beans in tomato sauce"
          ],
          [
           "Banana Apple compotes"
          ],
          [
           "Bars"
          ],
          [
           "Basil"
          ],
          [
           "Basmati rices"
          ],
          [
           "Basque cake with custard"
          ],
          [
           "Bass"
          ],
          [
           "Batonnets-de-poisson"
          ],
          [
           "Bayonne ham"
          ],
          [
           "Beef"
          ],
          [
           "Beef Cannelloni"
          ],
          [
           "Beef carpaccio"
          ],
          [
           "Beef dishes"
          ],
          [
           "Beef flank steak"
          ],
          [
           "Beef jerkies"
          ],
          [
           "Beef livers"
          ],
          [
           "Beef meat balls"
          ],
          [
           "Beef meat balls with tomato sauce"
          ],
          [
           "Beef merguez"
          ],
          [
           "Beef rib steak"
          ],
          [
           "Beef skewers"
          ],
          [
           "Beef steaks"
          ],
          [
           "Beet"
          ],
          [
           "Berry jams"
          ],
          [
           "Beverages"
          ],
          [
           "Bigarade orange marmelades"
          ],
          [
           "Bilberries jams"
          ],
          [
           "Biscuit with a chocolate bar covering"
          ],
          [
           "Biscuit with a milk chocolate bar covering"
          ],
          [
           "Biscuits"
          ],
          [
           "Biscuits and cakes"
          ],
          [
           "Black grapes"
          ],
          [
           "Black olives in oil"
          ],
          [
           "Black seedless grapes"
          ],
          [
           "Black truffles"
          ],
          [
           "Blackberry jams"
          ],
          [
           "Blackberry jellies"
          ],
          [
           "Blackcurrant jams"
          ],
          [
           "Blackcurrants jellies"
          ],
          [
           "Blackcurrent sorbets"
          ],
          [
           "Block of foie gras"
          ],
          [
           "Blonde lentils"
          ],
          [
           "Blueberry applesauces"
          ],
          [
           "Blueberry muffins"
          ],
          [
           "Boar terrines"
          ],
          [
           "Bodybuilding supplements"
          ],
          [
           "Bolognese Cannelloni"
          ],
          [
           "Bolognese lasagne"
          ],
          [
           "Bolognese sauces"
          ],
          [
           "Bonbons"
          ],
          [
           "Bonbons-bio"
          ],
          [
           "Bottarga"
          ],
          [
           "Bread crumbs"
          ],
          [
           "Bread flours"
          ],
          [
           "Breaded Alaska pollock"
          ],
          [
           "Breaded chicken"
          ],
          [
           "Breaded cod fish"
          ],
          [
           "Breaded fish"
          ],
          [
           "Breaded fish substitutes"
          ],
          [
           "Breaded hake fish"
          ],
          [
           "Breaded lemon sole"
          ],
          [
           "Breaded products"
          ],
          [
           "Breads"
          ],
          [
           "Breads with nuts"
          ],
          [
           "Breads with raisins"
          ],
          [
           "Breadsticks"
          ],
          [
           "Breakfast cereals"
          ],
          [
           "Bresaola"
          ],
          [
           "Bries"
          ],
          [
           "Brioche filled with chocolate drops"
          ],
          [
           "Brioches"
          ],
          [
           "Brookies"
          ],
          [
           "Brotaufstriche"
          ],
          [
           "Brownies"
          ],
          [
           "Brussels sprouts"
          ],
          [
           "Buffalo burrata"
          ],
          [
           "Bulgur"
          ],
          [
           "Burrata"
          ],
          [
           "Butter croissants"
          ],
          [
           "Bœufs bourguignons"
          ],
          [
           "Caen-style tripes"
          ],
          [
           "Cake mixes"
          ],
          [
           "Cakes"
          ],
          [
           "Calissons"
          ],
          [
           "Cambodia"
          ],
          [
           "Camemberts from pasteurized cow milk"
          ],
          [
           "Canary grass"
          ],
          [
           "Candied fruits"
          ],
          [
           "Candies"
          ],
          [
           "Candy meringues"
          ],
          [
           "Cane sugar"
          ],
          [
           "Canelés"
          ],
          [
           "Canned asparagus"
          ],
          [
           "Canned champignon mushrooms"
          ],
          [
           "Canned chickpeas"
          ],
          [
           "Canned corn"
          ],
          [
           "Canned foods"
          ],
          [
           "Canned green asparagus"
          ],
          [
           "Canned green beans"
          ],
          [
           "Canned meals"
          ],
          [
           "Canned mixed fruit in syrup"
          ],
          [
           "Canned peas and carrots"
          ],
          [
           "Canned prepared mixed tuna and vegetable salad"
          ],
          [
           "Canned raviolis"
          ],
          [
           "Canned sardines"
          ],
          [
           "Canned tunas"
          ],
          [
           "Canned vegetable soups"
          ],
          [
           "Canned vegetables"
          ],
          [
           "Canned white asparagus"
          ],
          [
           "Canned-kidney-common-beans"
          ],
          [
           "Cappuccino"
          ],
          [
           "Caramel spreads"
          ],
          [
           "Caramel yogurts"
          ],
          [
           "Caramelized peanuts"
          ],
          [
           "Caramels"
          ],
          [
           "Cardoons"
          ],
          [
           "Carrots"
          ],
          [
           "Cashew nuts"
          ],
          [
           "Cassoulets"
          ],
          [
           "Cassoulets with duck confit"
          ],
          [
           "Cayenne peppers"
          ],
          [
           "Cereal clusters with chocolate"
          ],
          [
           "Cereal clusters with nuts"
          ],
          [
           "Cereal grains"
          ],
          [
           "Cereal semolinas"
          ],
          [
           "Cereal variety packs"
          ],
          [
           "Cereal-milk-chocolates"
          ],
          [
           "Cereals and their products"
          ],
          [
           "Cereals and vegetables patties"
          ],
          [
           "Cervelat"
          ],
          [
           "Chaource"
          ],
          [
           "Cheese buche from goat's milk"
          ],
          [
           "Cheese pies"
          ],
          [
           "Cheese ravioli"
          ],
          [
           "Cheese sauces"
          ],
          [
           "Cheese spreads"
          ],
          [
           "Cheeseburgers"
          ],
          [
           "Cheeses"
          ],
          [
           "Cherry jams"
          ],
          [
           "Chestnut applesauces"
          ],
          [
           "Chestnut flours"
          ],
          [
           "Chestnut honey"
          ],
          [
           "Chestnut ice creams"
          ],
          [
           "Chestnut spreads"
          ],
          [
           "Chewing gum"
          ],
          [
           "Chia"
          ],
          [
           "Chicken breasts"
          ],
          [
           "Chicken couscous"
          ],
          [
           "Chicken curry"
          ],
          [
           "Chicken cutlets"
          ],
          [
           "Chicken nems"
          ],
          [
           "Chicken nuggets"
          ],
          [
           "Chicken rillettes"
          ],
          [
           "Chicken risottos"
          ],
          [
           "Chicken sandwiches"
          ],
          [
           "Chicken tajine"
          ],
          [
           "Chicken terrines"
          ],
          [
           "Chicken thighs"
          ],
          [
           "Chicken wings"
          ],
          [
           "Chickens"
          ],
          [
           "Chickpeas"
          ],
          [
           "Chinese noodles"
          ],
          [
           "Chinese nougats"
          ],
          [
           "Chipolatas"
          ],
          [
           "Chitterling sausage"
          ],
          [
           "Chives"
          ],
          [
           "Chocolate biscuits"
          ],
          [
           "Chocolate cakes"
          ],
          [
           "Chocolate cereals"
          ],
          [
           "Chocolate chip cookies"
          ],
          [
           "Chocolate covered almonds"
          ],
          [
           "Chocolate covered cranberries"
          ],
          [
           "Chocolate croissant"
          ],
          [
           "Chocolate filled with praline"
          ],
          [
           "Chocolate madeleines"
          ],
          [
           "Chocolate mousses"
          ],
          [
           "Chocolate powders"
          ],
          [
           "Chocolate rabbits"
          ],
          [
           "Chocolate stuffed wafers"
          ],
          [
           "Chocolate truffles"
          ],
          [
           "Chocolates"
          ],
          [
           "Chocolates with extra fine milk"
          ],
          [
           "Chocolates with praline"
          ],
          [
           "Chorizo"
          ],
          [
           "Chorizo pizzas"
          ],
          [
           "Cigarette Russes"
          ],
          [
           "Cinnamon powder"
          ],
          [
           "Clementines"
          ],
          [
           "Cloves"
          ],
          [
           "Cockerel in red wine sauce"
          ],
          [
           "Cockles"
          ],
          [
           "Cocktail sausage"
          ],
          [
           "Cocoa and chocolate powders"
          ],
          [
           "Cocoa and hazelnuts spreads"
          ],
          [
           "Cocoa butter"
          ],
          [
           "Cocoa powders"
          ],
          [
           "Coconut Macaroons"
          ],
          [
           "Coconut sugar"
          ],
          [
           "Coconutmilk yogurts"
          ],
          [
           "Cod fillets"
          ],
          [
           "Cod livers"
          ],
          [
           "Cods"
          ],
          [
           "Coffee desserts"
          ],
          [
           "Coffee tiramisu"
          ],
          [
           "Coffees"
          ],
          [
           "Cold starters"
          ],
          [
           "Compotes"
          ],
          [
           "Compotes to drink"
          ],
          [
           "Condiments-sauces-mayonnaises"
          ],
          [
           "Confectioneries"
          ],
          [
           "Confit"
          ],
          [
           "Cooked Prawns"
          ],
          [
           "Cooked chicken breast slices"
          ],
          [
           "Cooked ham choice"
          ],
          [
           "Cooked pork shoulder"
          ],
          [
           "Cooked shrimps"
          ],
          [
           "Cooked turkey breast slices"
          ],
          [
           "Cooked whelk"
          ],
          [
           "Cooked-drained-sauerkraut-without-garnish"
          ],
          [
           "Cooking helpers"
          ],
          [
           "Coppa"
          ],
          [
           "Coriander seeds"
          ],
          [
           "Corn chips"
          ],
          [
           "Corn flakes"
          ],
          [
           "Corn salad"
          ],
          [
           "Corn semolinas"
          ],
          [
           "Corn semolinas for polenta"
          ],
          [
           "Cotton candy"
          ],
          [
           "Coulommiers"
          ],
          [
           "Country terrines"
          ],
          [
           "Country-style Pâtés"
          ],
          [
           "Couscous with meat"
          ],
          [
           "Cow cheeses"
          ],
          [
           "Crackers"
          ],
          [
           "Cream cheeses"
          ],
          [
           "Cream of vegetable soups"
          ],
          [
           "Creamy puddings"
          ],
          [
           "Crepe filled with egg ham and cheese"
          ],
          [
           "Crisps"
          ],
          [
           "Croissants"
          ],
          [
           "Croutons"
          ],
          [
           "Crunchy muesli with chocolate not fortified with vitamins and chemical elements"
          ],
          [
           "Crunchy mueslis"
          ],
          [
           "Crunchy peanut butters"
          ],
          [
           "Crystallized ginger"
          ],
          [
           "Crème brûlée"
          ],
          [
           "Crêpes"
          ],
          [
           "Crêpes and galettes"
          ],
          [
           "Cured hams"
          ],
          [
           "Cured sausages"
          ],
          [
           "Curry powder"
          ],
          [
           "Cut"
          ],
          [
           "Dairies"
          ],
          [
           "Dairy chocolate desserts"
          ],
          [
           "Dairy desserts"
          ],
          [
           "Dark chocolate bar for cooking with more than 40% cocoa"
          ],
          [
           "Dark chocolate bar with less than 70% cocoa"
          ],
          [
           "Dark chocolate bar with more than 70% cocoa"
          ],
          [
           "Dark chocolates"
          ],
          [
           "Dark chocolates with hazelnuts"
          ],
          [
           "Dark chocolates with orange"
          ],
          [
           "Dark chocolates with praline"
          ],
          [
           "Dark chocolates with sweeteners"
          ],
          [
           "Date syrups"
          ],
          [
           "Dauphiné-style creamed potatoes au gratin"
          ],
          [
           "Decorticated red lentils"
          ],
          [
           "Deglet Noor dates"
          ],
          [
           "Dehydrated potato flakes with milk"
          ],
          [
           "Dehydrated soups"
          ],
          [
           "Dessert-mixes"
          ],
          [
           "Desserts"
          ],
          [
           "Diced ham"
          ],
          [
           "Dietary supplements"
          ],
          [
           "Dill"
          ],
          [
           "Double concentrate tomato paste"
          ],
          [
           "Double-concentre-de-tomate"
          ],
          [
           "Doughnuts"
          ],
          [
           "Dragées"
          ],
          [
           "Dried apples"
          ],
          [
           "Dried apricots"
          ],
          [
           "Dried cranberries"
          ],
          [
           "Dried figs"
          ],
          [
           "Dried fruits"
          ],
          [
           "Dried goji"
          ],
          [
           "Dried golden berries"
          ],
          [
           "Dried hams"
          ],
          [
           "Dried mangoes"
          ],
          [
           "Dried prunes"
          ],
          [
           "Dried shiitake mushrooms"
          ],
          [
           "Dried tomato in oil"
          ],
          [
           "Drinkable yogurts"
          ],
          [
           "Dry egg pastas"
          ],
          [
           "Dry pastas"
          ],
          [
           "Dry sausages"
          ],
          [
           "Duck breasts"
          ],
          [
           "Duck dishes"
          ],
          [
           "Duck fillets"
          ],
          [
           "Duck gizzards"
          ],
          [
           "Duck liver foie gras without pieces"
          ],
          [
           "Duck mousse"
          ],
          [
           "Duck rillettes"
          ],
          [
           "Duck sausages"
          ],
          [
           "Duck terrines"
          ],
          [
           "Durum wheat macaroni"
          ],
          [
           "Durum wheat pasta"
          ],
          [
           "Durum wheat pasta with egg"
          ],
          [
           "Durum wheat semolinas"
          ],
          [
           "Durum wheat semolinas for couscous"
          ],
          [
           "Durum wheat spaghetti"
          ],
          [
           "Easter eggs"
          ],
          [
           "Easter food"
          ],
          [
           "Eastern tabbouleh"
          ],
          [
           "Eclairs"
          ],
          [
           "Egg pastas"
          ],
          [
           "Egg roll with cooked shrimp"
          ],
          [
           "Egg tagliatelle"
          ],
          [
           "Eggplant Gratin"
          ],
          [
           "Eggplant caviar"
          ],
          [
           "Emmentaler"
          ],
          [
           "Energy bars"
          ],
          [
           "English muffins"
          ],
          [
           "Epicerie"
          ],
          [
           "Extra fine dark chocolates"
          ],
          [
           "Extruded crispbreads"
          ],
          [
           "Extruded flakes"
          ],
          [
           "Faiselles"
          ],
          [
           "Fajitas"
          ],
          [
           "Falafels"
          ],
          [
           "Fennel seeds"
          ],
          [
           "Fermented foods"
          ],
          [
           "Fig chutneys"
          ],
          [
           "Figs"
          ],
          [
           "Figs jams"
          ],
          [
           "Filets-de-poulet"
          ],
          [
           "Filled biscuits"
          ],
          [
           "Filled cakes"
          ],
          [
           "Filled cereals"
          ],
          [
           "Filled chocolate eggs"
          ],
          [
           "Filled crêpes with chocolate"
          ],
          [
           "Filled dark chocolates"
          ],
          [
           "Filled milk chocolates"
          ],
          [
           "Filled sponge cake slices"
          ],
          [
           "Filled-sponge-cake-rolls"
          ],
          [
           "Financiers"
          ],
          [
           "Fish fingers"
          ],
          [
           "Fish hamburgers"
          ],
          [
           "Fish patties"
          ],
          [
           "Fish rillettes"
          ],
          [
           "Fish soups"
          ],
          [
           "Fish spreads"
          ],
          [
           "Fish-croquette-fritter"
          ],
          [
           "Fishes"
          ],
          [
           "Flavored and colored dry pastas"
          ],
          [
           "Flavoured white chocolates"
          ],
          [
           "Flavoured yogurts"
          ],
          [
           "Flower honeys"
          ],
          [
           "Focaccia"
          ],
          [
           "Foies gras"
          ],
          [
           "Foies gras from ducks"
          ],
          [
           "Foies gras from gooses"
          ],
          [
           "Foies gras pâtés"
          ],
          [
           "Fondants"
          ],
          [
           "Food colorings"
          ],
          [
           "Food decorations"
          ],
          [
           "Fortune-cookies"
          ],
          [
           "Four Cheese Pizza"
          ],
          [
           "Fourme d'Ambert cheese from cow's milk"
          ],
          [
           "Frankfurter sausages"
          ],
          [
           "French bread ball with yeast"
          ],
          [
           "French candies"
          ],
          [
           "French confectioneries"
          ],
          [
           "Fresh Brussels sprouts"
          ],
          [
           "Fresh apples"
          ],
          [
           "Fresh apricots"
          ],
          [
           "Fresh aubergines"
          ],
          [
           "Fresh blueberries"
          ],
          [
           "Fresh broccoli"
          ],
          [
           "Fresh carrots"
          ],
          [
           "Fresh clementines"
          ],
          [
           "Fresh grapes"
          ],
          [
           "Fresh green beans"
          ],
          [
           "Fresh ground beef preparations"
          ],
          [
           "Fresh ground beef steaks"
          ],
          [
           "Fresh kiwifruits"
          ],
          [
           "Fresh leeks"
          ],
          [
           "Fresh lemons"
          ],
          [
           "Fresh mandarin oranges"
          ],
          [
           "Fresh meals"
          ],
          [
           "Fresh meats"
          ],
          [
           "Fresh nectarines"
          ],
          [
           "Fresh onions"
          ],
          [
           "Fresh oranges"
          ],
          [
           "Fresh peaches"
          ],
          [
           "Fresh pears"
          ],
          [
           "Fresh plant-based foods"
          ],
          [
           "Fresh plums"
          ],
          [
           "Fresh raspberries"
          ],
          [
           "Fresh red onions"
          ],
          [
           "Fresh red radishes"
          ],
          [
           "Fresh spinachs"
          ],
          [
           "Fresh strawberries"
          ],
          [
           "Fresh sweet corn"
          ],
          [
           "Fresh sweet peppers"
          ],
          [
           "Fresh tabbouleh"
          ],
          [
           "Fresh tomatoes"
          ],
          [
           "Fresh turnips"
          ],
          [
           "Fresh zucchini"
          ],
          [
           "Fried foods"
          ],
          [
           "Fried rice"
          ],
          [
           "Fromages-fondus"
          ],
          [
           "Frozen baby carrots"
          ],
          [
           "Frozen basil"
          ],
          [
           "Frozen broccolis"
          ],
          [
           "Frozen cauliflower florets"
          ],
          [
           "Frozen cooked dauphine potato"
          ],
          [
           "Frozen cooked duchesse potato"
          ],
          [
           "Frozen cooked pre-fried potato cubes"
          ],
          [
           "Frozen duchesse potatoes"
          ],
          [
           "Frozen fish in sauce"
          ],
          [
           "Frozen fishes"
          ],
          [
           "Frozen foods"
          ],
          [
           "Frozen fries"
          ],
          [
           "Frozen green beans"
          ],
          [
           "Frozen ground beef preparations"
          ],
          [
           "Frozen ground beef steaks"
          ],
          [
           "Frozen hake fillet"
          ],
          [
           "Frozen lasagne"
          ],
          [
           "Frozen leeks"
          ],
          [
           "Frozen meat preparations"
          ],
          [
           "Frozen microwave fries"
          ],
          [
           "Frozen mixed vegetables"
          ],
          [
           "Frozen pizzas"
          ],
          [
           "Frozen potato rostis"
          ],
          [
           "Frozen potatoes"
          ],
          [
           "Frozen pre-fried mashed potato balls"
          ],
          [
           "Frozen ready-made meals"
          ],
          [
           "Frozen roasted French fries"
          ],
          [
           "Frozen snacks and starters"
          ],
          [
           "Frozen spinachs"
          ],
          [
           "Frozen vegetable soups"
          ],
          [
           "Frozen vegetables"
          ],
          [
           "Frozen-pre-fried-potato-cubes"
          ],
          [
           "Fruit and vegetable preserves"
          ],
          [
           "Fruit cakes"
          ],
          [
           "Fruit curds"
          ],
          [
           "Fruit jellies"
          ],
          [
           "Fruit muffins"
          ],
          [
           "Fruit pastes"
          ],
          [
           "Fruit skyrs"
          ],
          [
           "Fruit stirred yogurts"
          ],
          [
           "Fruit yogurts"
          ],
          [
           "Fruit yogurts with fruit chunks"
          ],
          [
           "Fruit-based beverages"
          ],
          [
           "Fruits"
          ],
          [
           "Fruits based foods"
          ],
          [
           "Fruits compote with reduced sugar"
          ],
          [
           "Fruits desserts"
          ],
          [
           "Fruits puree without sugar added"
          ],
          [
           "Fusilli"
          ],
          [
           "Gala apples"
          ],
          [
           "Garlic sausage"
          ],
          [
           "Gateaux"
          ],
          [
           "Gateaux-marbres"
          ],
          [
           "Gaufrettes-fourres-vanille"
          ],
          [
           "Gelatin"
          ],
          [
           "Gherkins"
          ],
          [
           "Ginger"
          ],
          [
           "Ginger powder"
          ],
          [
           "Gingerbreads"
          ],
          [
           "Gluten-free breads"
          ],
          [
           "Gluten-free sliced breads"
          ],
          [
           "Gnocchi"
          ],
          [
           "Goat cheeses"
          ],
          [
           "Golden Delicious apples"
          ],
          [
           "Goose rillettes"
          ],
          [
           "Gouda"
          ],
          [
           "Grana Padano"
          ],
          [
           "Granulated sugars"
          ],
          [
           "Grated cheese"
          ],
          [
           "Grated coconut"
          ],
          [
           "Grated emmentaler"
          ],
          [
           "Greek-style yogurts"
          ],
          [
           "Green asparagus"
          ],
          [
           "Green beans"
          ],
          [
           "Green grapes"
          ],
          [
           "Green lentils"
          ],
          [
           "Green olives stuffed of peppers"
          ],
          [
           "Green pitted olives"
          ],
          [
           "Green seedless grapes"
          ],
          [
           "Green tapenades"
          ],
          [
           "Green teas with mint"
          ],
          [
           "Greengage plum jams"
          ],
          [
           "Grenaille potatoes"
          ],
          [
           "Grilled peppers"
          ],
          [
           "Groceries"
          ],
          [
           "Ground beef meats"
          ],
          [
           "Ground beef preparations"
          ],
          [
           "Ground beef steaks"
          ],
          [
           "Ground black peppers"
          ],
          [
           "Ground coffees"
          ],
          [
           "Ground cumin seedskumin"
          ],
          [
           "Ground meat preparations"
          ],
          [
           "Ground meats"
          ],
          [
           "Ground white peppers"
          ],
          [
           "Grounded grey peppers"
          ],
          [
           "Gummi candies"
          ],
          [
           "Half-salted butter"
          ],
          [
           "Halloween foods and drinks"
          ],
          [
           "Ham and butter sandwiches"
          ],
          [
           "Hams"
          ],
          [
           "Hazelnut spreads"
          ],
          [
           "Hazelnuts powder"
          ],
          [
           "Head cheese"
          ],
          [
           "Herbal teas"
          ],
          [
           "Herbes de Provence"
          ],
          [
           "Herbs"
          ],
          [
           "Herring fillets"
          ],
          [
           "Hollow chocolate eggs"
          ],
          [
           "Honey candies"
          ],
          [
           "Honeys"
          ],
          [
           "Honeys from France"
          ],
          [
           "Honeys from the mountains"
          ],
          [
           "Hot dog sandwiches"
          ],
          [
           "Hummus"
          ],
          [
           "Ice cream bars"
          ],
          [
           "Ice cream cones"
          ],
          [
           "Ice creams"
          ],
          [
           "Industrial cheese"
          ],
          [
           "Industrial knacks"
          ],
          [
           "Instant noodle soups"
          ],
          [
           "Instant noodles"
          ],
          [
           "Jaffa cakes"
          ],
          [
           "Jams"
          ],
          [
           "Japanese ravioli"
          ],
          [
           "Jasmine rice"
          ],
          [
           "Jelly beans"
          ],
          [
           "King cakes"
          ],
          [
           "Kiwifruits"
          ],
          [
           "Knuckle of ham cooked"
          ],
          [
           "Kumquats"
          ],
          [
           "Labeled-cheeses"
          ],
          [
           "Lamb meat"
          ],
          [
           "Lardons"
          ],
          [
           "Lasagna sheets"
          ],
          [
           "Latte macchiato"
          ],
          [
           "Leaf salads"
          ],
          [
           "Leek quiche"
          ],
          [
           "Leeks fondue"
          ],
          [
           "Legume flours"
          ],
          [
           "Lemon curds"
          ],
          [
           "Lemon sorbets"
          ],
          [
           "Lemon tarts"
          ],
          [
           "Lentils"
          ],
          [
           "Lettuces"
          ],
          [
           "Licensed products"
          ],
          [
           "Light compotes"
          ],
          [
           "Linguine"
          ],
          [
           "Liquid caramel"
          ],
          [
           "Lollipops"
          ],
          [
           "Long grain rices"
          ],
          [
           "Lorraine quiche"
          ],
          [
           "Low sugar fruit jam"
          ],
          [
           "Lump sugar"
          ],
          [
           "Luxury ice cream in a box"
          ],
          [
           "Macarons"
          ],
          [
           "Mackerel"
          ],
          [
           "Mackerel fillets"
          ],
          [
           "Mackerel fillets in mustard sauce"
          ],
          [
           "Mackerel fillets in white wine and herbs"
          ],
          [
           "Mackerel rillettes"
          ],
          [
           "Mackerels"
          ],
          [
           "Madeleines"
          ],
          [
           "Mandarin jams"
          ],
          [
           "Mandarin sorbets"
          ],
          [
           "Mango applesauces"
          ],
          [
           "Mango chutneys"
          ],
          [
           "Mango compotes"
          ],
          [
           "Mangoes in syrup"
          ],
          [
           "Manuka honeys"
          ],
          [
           "Marble cakes"
          ],
          [
           "Margarines"
          ],
          [
           "Margherita Pizza"
          ],
          [
           "Marinated anchovy fillets with vegetable oil"
          ],
          [
           "Marmalades"
          ],
          [
           "Marrons glacés"
          ],
          [
           "Marshmallows"
          ],
          [
           "Marshmallows coated with chocolate"
          ],
          [
           "Mayonnaises"
          ],
          [
           "Mazafati dates"
          ],
          [
           "Meals"
          ],
          [
           "Meals with chicken"
          ],
          [
           "Meals with fish"
          ],
          [
           "Meals with meat"
          ],
          [
           "Meat analogues"
          ],
          [
           "Meat patties"
          ],
          [
           "Meat preparations"
          ],
          [
           "Meats"
          ],
          [
           "Melon jams"
          ],
          [
           "Melon sorbets"
          ],
          [
           "Melted cheese"
          ],
          [
           "Meringues"
          ],
          [
           "Microwave fries"
          ],
          [
           "Microwave meals"
          ],
          [
           "Milk bread rolls"
          ],
          [
           "Milk bread rolls with chocolate"
          ],
          [
           "Milk chocolate candies"
          ],
          [
           "Milk chocolate with caramel"
          ],
          [
           "Milk chocolates"
          ],
          [
           "Milk chocolates with fleur de sel"
          ],
          [
           "Milk chocolates with hazelnuts"
          ],
          [
           "Milk chocolates with sweeteners"
          ],
          [
           "Milk-chocolate-with-orange-oil"
          ],
          [
           "Minced beef steak with 15% fat"
          ],
          [
           "Minced beef steak with 5% fat"
          ],
          [
           "Mint"
          ],
          [
           "Mirabelle plum jams"
          ],
          [
           "Mix of cereals and legumes"
          ],
          [
           "Mixed berry jams"
          ],
          [
           "Mixed fruit jams"
          ],
          [
           "Mixes for panna cotta"
          ],
          [
           "Mochi"
          ],
          [
           "Molded butters"
          ],
          [
           "Molten chocolate cakes"
          ],
          [
           "Mortadella with pistachios pure pork"
          ],
          [
           "Mozzarella"
          ],
          [
           "Mozzarella di Bufala Campana"
          ],
          [
           "Mueslis"
          ],
          [
           "Mueslis with chocolate"
          ],
          [
           "Mueslis with fruits"
          ],
          [
           "Multifruit pastes"
          ],
          [
           "Multifruit sorbets"
          ],
          [
           "Multigrain sliced breads"
          ],
          [
           "Munster"
          ],
          [
           "Nems"
          ],
          [
           "Non-dairy desserts"
          ],
          [
           "Non-dairy yogurts"
          ],
          [
           "Noodles"
          ],
          [
           "Nori seaweeds"
          ],
          [
           "Norman-style pies"
          ],
          [
           "Nougats"
          ],
          [
           "Nutmeg"
          ],
          [
           "Nuts"
          ],
          [
           "Nuts and their products"
          ],
          [
           "Old Goudas"
          ],
          [
           "Olive veal"
          ],
          [
           "Open Beauty Facts"
          ],
          [
           "Open pies"
          ],
          [
           "Orange jams"
          ],
          [
           "Oranges"
          ],
          [
           "Oregano"
          ],
          [
           "Paella"
          ],
          [
           "Pains de campagne"
          ],
          [
           "Pains-au-lait-natures"
          ],
          [
           "Pan-fried dishes"
          ],
          [
           "Paprika"
          ],
          [
           "Parboiled rices"
          ],
          [
           "Parmigiano-Reggiano"
          ],
          [
           "Parsley"
          ],
          [
           "Pasta dishes"
          ],
          [
           "Pasta gratin"
          ],
          [
           "Pastas"
          ],
          [
           "Pasteurized cheeses"
          ],
          [
           "Peach applesauce"
          ],
          [
           "Peach jams"
          ],
          [
           "Peanut butters"
          ],
          [
           "Peanuts"
          ],
          [
           "Pear applesauces"
          ],
          [
           "Pear jams"
          ],
          [
           "Pear sorbets"
          ],
          [
           "Pecan nuts"
          ],
          [
           "Peeled tomatoes"
          ],
          [
           "Penne rigate"
          ],
          [
           "Pepperoni pizzas"
          ],
          [
           "Petit-Beurre"
          ],
          [
           "Pheasant terrines"
          ],
          [
           "Pickled gherkins"
          ],
          [
           "Pine nuts"
          ],
          [
           "Pineapple in syrup"
          ],
          [
           "Pineapple jams"
          ],
          [
           "Pistachio ice cream tubs"
          ],
          [
           "Pitted dates"
          ],
          [
           "Pizza with ham and cheese"
          ],
          [
           "Pizzas"
          ],
          [
           "Plain buckwheat crepes"
          ],
          [
           "Plain corn flakes"
          ],
          [
           "Plain corn flakes fortified with vitamins and chemical elements"
          ],
          [
           "Plain crepes"
          ],
          [
           "Plain lardons"
          ],
          [
           "Plain madeleines"
          ],
          [
           "Plain salty snacks"
          ],
          [
           "Plain skyrs"
          ],
          [
           "Plain sprits biscuits"
          ],
          [
           "Plain yogurt with sugar"
          ],
          [
           "Plant milk chocolates"
          ],
          [
           "Plant-based foods"
          ],
          [
           "Plant-based meals"
          ],
          [
           "Plant-based pâtés"
          ],
          [
           "Plum sorbets"
          ],
          [
           "Polenta"
          ],
          [
           "Pollock fillets"
          ],
          [
           "Pork"
          ],
          [
           "Pork belly"
          ],
          [
           "Pork filet mignon"
          ],
          [
           "Pork knuckle"
          ],
          [
           "Pork meals"
          ],
          [
           "Pork nems"
          ],
          [
           "Pork racks"
          ],
          [
           "Pork ribs"
          ],
          [
           "Pork rillettes"
          ],
          [
           "Pork roasts"
          ],
          [
           "Pork salami"
          ],
          [
           "Pork shoulders"
          ],
          [
           "Pork terrines"
          ],
          [
           "Potato crisps in sunflower oil"
          ],
          [
           "Potato gnocchi"
          ],
          [
           "Potatoes"
          ],
          [
           "Potted parsley"
          ],
          [
           "Poultry hams"
          ],
          [
           "Poultry sausages"
          ],
          [
           "Poultry terrines"
          ],
          [
           "Pound Cake"
          ],
          [
           "Powdered sugars"
          ],
          [
           "Preparations made from crabs"
          ],
          [
           "Preparations-made-from-fish-meat"
          ],
          [
           "Prepared bruschetta toasts"
          ],
          [
           "Prepared couscous"
          ],
          [
           "Prepared meats"
          ],
          [
           "Prepared rices"
          ],
          [
           "Preserved pork liver"
          ],
          [
           "Preserved poultry liver"
          ],
          [
           "Pretzel"
          ],
          [
           "Produits-laitiers"
          ],
          [
           "Protein bars"
          ],
          [
           "Protein powders"
          ],
          [
           "Puff pastry sheets"
          ],
          [
           "Puffed corn cakes"
          ],
          [
           "Puffed corn cakes with black chocolate"
          ],
          [
           "Puffed multigrain cakes"
          ],
          [
           "Puffed rice"
          ],
          [
           "Puffed rice cakes"
          ],
          [
           "Puffed rice cakes with black chocolate"
          ],
          [
           "Puffed rice cakes with milk chocolate"
          ],
          [
           "Puffed salty snacks"
          ],
          [
           "Puffed salty snacks made from maize"
          ],
          [
           "Puffed spelt cakes"
          ],
          [
           "Puffed wholegrain rice cakes"
          ],
          [
           "Pulses"
          ],
          [
           "Pumpkin seeds"
          ],
          [
           "Pure beef merguez sausage"
          ],
          [
           "Pure butter brioche"
          ],
          [
           "Purple asparagus"
          ],
          [
           "Pâté in crust"
          ],
          [
           "Quiches"
          ],
          [
           "Quince jellies"
          ],
          [
           "Quinoa"
          ],
          [
           "Quinoa dishes"
          ],
          [
           "Rabbit terrines"
          ],
          [
           "Raclette"
          ],
          [
           "Raisins"
          ],
          [
           "Ras el hanout"
          ],
          [
           "Raspberry applesauces"
          ],
          [
           "Raspberry jams"
          ],
          [
           "Raspberry yogurts"
          ],
          [
           "Ratatouille"
          ],
          [
           "Ravioli"
          ],
          [
           "Ravioli with ricotta and spinach"
          ],
          [
           "Raw-cured-ham"
          ],
          [
           "Raw-sausage-meat-with-pure-pork"
          ],
          [
           "Raw-spinach-young-leaves"
          ],
          [
           "Reblochon"
          ],
          [
           "Reconstituted turkey breast slices"
          ],
          [
           "Red beans"
          ],
          [
           "Redcurrants jams"
          ],
          [
           "Redcurrants jellies"
          ],
          [
           "Refrigerated chocolate creamy puddings"
          ],
          [
           "Refrigerated falafel"
          ],
          [
           "Refrigerated fruits compote with reduced sugar"
          ],
          [
           "Refrigerated meals"
          ],
          [
           "Regina pizza"
          ],
          [
           "Relish"
          ],
          [
           "Rhubarb applesauces"
          ],
          [
           "Rhubarb jams"
          ],
          [
           "Rhubarbs"
          ],
          [
           "Rice flours"
          ],
          [
           "Rice paper"
          ],
          [
           "Rice puddings"
          ],
          [
           "Rice vermicelli"
          ],
          [
           "Rices"
          ],
          [
           "Rigatoni"
          ],
          [
           "Rillettes from Mans"
          ],
          [
           "Rillettes pure pork"
          ],
          [
           "Risotto with seafood"
          ],
          [
           "Riz-au-lait-saveur-vanille"
          ],
          [
           "Roasted hazelnuts"
          ],
          [
           "Roasted peanuts"
          ],
          [
           "Roasted pistachios"
          ],
          [
           "Rocket"
          ],
          [
           "Rolled oats"
          ],
          [
           "Rosehip jams"
          ],
          [
           "Rosette dry sausage"
          ],
          [
           "Rostis"
          ],
          [
           "Rum baba"
          ],
          [
           "Rye breads"
          ],
          [
           "Saint-Marcellin"
          ],
          [
           "Saint-Paulin cheese"
          ],
          [
           "Saithe"
          ],
          [
           "Salads"
          ],
          [
           "Salami"
          ],
          [
           "Salmon fillets"
          ],
          [
           "Salmon pizza"
          ],
          [
           "Salmon roe"
          ],
          [
           "Salmon steaks"
          ],
          [
           "Salmons"
          ],
          [
           "Salmons from farming"
          ],
          [
           "Salt-cured pork belly with lentils"
          ],
          [
           "Salted butter caramels"
          ],
          [
           "Salted peanuts"
          ],
          [
           "Salted pistachios"
          ],
          [
           "Salted spreads"
          ],
          [
           "Salts"
          ],
          [
           "Salty Fritters"
          ],
          [
           "Salty palmiers"
          ],
          [
           "Salty snacks"
          ],
          [
           "Salty snacks made from potato"
          ],
          [
           "Samosas"
          ],
          [
           "Sardine fillets"
          ],
          [
           "Sardine fillets in olive oil"
          ],
          [
           "Sardines in oil"
          ],
          [
           "Sardines in oil and chili"
          ],
          [
           "Sardines in oil and lemon"
          ],
          [
           "Sardines in olive oil"
          ],
          [
           "Sardines in sunflower oil"
          ],
          [
           "Sardines in tomato sauce"
          ],
          [
           "Sauces"
          ],
          [
           "Sausage meat"
          ],
          [
           "Sausages"
          ],
          [
           "Sausages with lentils"
          ],
          [
           "Sautéed Potatoes"
          ],
          [
           "Sautéed black pudding"
          ],
          [
           "Savory mousses"
          ],
          [
           "Savoury-cake-with-cheese-vegetables-meat-fish-poultry"
          ],
          [
           "Savoy-style sponge cake"
          ],
          [
           "Scallop"
          ],
          [
           "Seafood"
          ],
          [
           "Semolina puddings"
          ],
          [
           "Serrano ham"
          ],
          [
           "Sheep dishes"
          ],
          [
           "Sheep meat"
          ],
          [
           "Shelled almonds"
          ],
          [
           "Shelled hazelnuts"
          ],
          [
           "Shepherd's pie"
          ],
          [
           "Shepherd's pie with duck"
          ],
          [
           "Shortbread"
          ],
          [
           "Shortbread cookies"
          ],
          [
           "Shortbread cookies from Brittany"
          ],
          [
           "Shrimp risottos"
          ],
          [
           "Shrimps"
          ],
          [
           "Skewers"
          ],
          [
           "Skipjack tuna"
          ],
          [
           "Skyrs"
          ],
          [
           "Sliced breads"
          ],
          [
           "Sliced cheeses"
          ],
          [
           "Small brioches"
          ],
          [
           "Smoked cured hams"
          ],
          [
           "Smoked lardons"
          ],
          [
           "Smoked salmons"
          ],
          [
           "Smoked salmons from farming"
          ],
          [
           "Smoked sausages"
          ],
          [
           "Smoked trouts"
          ],
          [
           "Smoked tunas"
          ],
          [
           "Smoked-duck-brests"
          ],
          [
           "Snacks"
          ],
          [
           "Snacks variety packs"
          ],
          [
           "Snacks-snacks-sucres-cacao-et-derives-chocolats-chocolats-noirs"
          ],
          [
           "Snacks-sucres"
          ],
          [
           "Snails"
          ],
          [
           "Sorbets"
          ],
          [
           "Soups"
          ],
          [
           "Spaghetti"
          ],
          [
           "Spanish omelettes"
          ],
          [
           "Speculoos"
          ],
          [
           "Spice Mix"
          ],
          [
           "Spinach with cream sauce"
          ],
          [
           "Spinachs"
          ],
          [
           "Spirulina"
          ],
          [
           "Sponge fingers biscuit"
          ],
          [
           "Sponge sandwich cake filled and topped with strawberries"
          ],
          [
           "Sprits biscuits"
          ],
          [
           "Star anise"
          ],
          [
           "Starches"
          ],
          [
           "Strasbourg sausages"
          ],
          [
           "Strawberries"
          ],
          [
           "Strawberry applesauces"
          ],
          [
           "Strawberry jams"
          ],
          [
           "Stuffed pastas"
          ],
          [
           "Stuffed tomatoes"
          ],
          [
           "Stuffed waffles"
          ],
          [
           "Stuffing"
          ],
          [
           "Sugared crêpes"
          ],
          [
           "Sugared popcorn"
          ],
          [
           "Sugars"
          ],
          [
           "Sunflower seeds"
          ],
          [
           "Surimi"
          ],
          [
           "Surimi on sticks"
          ],
          [
           "Swedish-style pork and beef meat balls"
          ],
          [
           "Sweet Fritters"
          ],
          [
           "Sweet and sour sauces"
          ],
          [
           "Sweet cream butters"
          ],
          [
           "Sweet mousses"
          ],
          [
           "Sweet potatoes"
          ],
          [
           "Sweet snacks"
          ],
          [
           "Sweetened beverages"
          ],
          [
           "Sweeteners"
          ],
          [
           "Syrups"
          ],
          [
           "Tabbouleh"
          ],
          [
           "Tagliatelle"
          ],
          [
           "Tapenades"
          ],
          [
           "Tapioca"
          ],
          [
           "Taramasalata"
          ],
          [
           "Tarragon"
          ],
          [
           "Tartiflettes"
          ],
          [
           "Tartlet biscuits with fruit preparation"
          ],
          [
           "Teas"
          ],
          [
           "Teriyaki sauces"
          ],
          [
           "Terrines"
          ],
          [
           "Three Cheese Pizza"
          ],
          [
           "Thyme"
          ],
          [
           "Tinned Mackerels"
          ],
          [
           "Tiramisu"
          ],
          [
           "Toasted bread rolls"
          ],
          [
           "Toasted ham sandwich topped with grated cheese"
          ],
          [
           "Toasts"
          ],
          [
           "Tomato jams"
          ],
          [
           "Tomato pastes"
          ],
          [
           "Tomato pulps"
          ],
          [
           "Tomato sauces"
          ],
          [
           "Tomatoes"
          ],
          [
           "Tortellini"
          ],
          [
           "Toulouse sausages"
          ],
          [
           "Traditional French baguette"
          ],
          [
           "Tripe"
          ],
          [
           "Tripoux"
          ],
          [
           "Tropical fruit jams"
          ],
          [
           "Trout rillettes"
          ],
          [
           "Trout terrines"
          ],
          [
           "Trouts"
          ],
          [
           "Tuna chunks"
          ],
          [
           "Tuna fillets"
          ],
          [
           "Tuna in Catalan-style"
          ],
          [
           "Tuna in brine"
          ],
          [
           "Tuna lasagna"
          ],
          [
           "Tuna samosas"
          ],
          [
           "Tuna spreads"
          ],
          [
           "Tunas"
          ],
          [
           "Tunas in oil"
          ],
          [
           "Tunas in sunflower oil"
          ],
          [
           "Turkey cordons bleus"
          ],
          [
           "Turkeys"
          ],
          [
           "Turmeric powder"
          ],
          [
           "Udon"
          ],
          [
           "Unsalted butters"
          ],
          [
           "Unsweetened beverages"
          ],
          [
           "Vanilla flavored rice pudding"
          ],
          [
           "Vanilla ice cream tubs"
          ],
          [
           "Vanilla sugars"
          ],
          [
           "Veal blanquette"
          ],
          [
           "Veal sausages"
          ],
          [
           "Vegan chocolate mousses"
          ],
          [
           "Vegan creamy puddings"
          ],
          [
           "Vegetable cakes"
          ],
          [
           "Vegetable gyoza"
          ],
          [
           "Vegetable nems"
          ],
          [
           "Vegetable-jams"
          ],
          [
           "Vegetables terrines"
          ],
          [
           "Vegetarian balls"
          ],
          [
           "Vegetarian patties"
          ],
          [
           "Viande"
          ],
          [
           "Viandes"
          ],
          [
           "Viandes-charcuteries-jambons-jambons-blancs"
          ],
          [
           "Vienna bread"
          ],
          [
           "Viennoiseries"
          ],
          [
           "Wafers"
          ],
          [
           "Walnut kernels"
          ],
          [
           "Walnuts"
          ],
          [
           "Watermelon jams"
          ],
          [
           "Wheat flour type 55 for bread"
          ],
          [
           "Wheat flour type 65"
          ],
          [
           "Wheat semolinas"
          ],
          [
           "Wheats"
          ],
          [
           "Whisky"
          ],
          [
           "White Basmati rices"
          ],
          [
           "White Jasmine rices"
          ],
          [
           "White beans"
          ],
          [
           "White chocolates"
          ],
          [
           "White hams"
          ],
          [
           "White hams with less salt"
          ],
          [
           "White rices"
          ],
          [
           "White smoked hams"
          ],
          [
           "White wheat flours"
          ],
          [
           "Whole almonds"
          ],
          [
           "Whole black olives"
          ],
          [
           "Whole champignon mushrooms"
          ],
          [
           "Whole cumin seeds"
          ],
          [
           "Whole foies gras"
          ],
          [
           "Whole foies gras from ducks"
          ],
          [
           "Whole green olives"
          ],
          [
           "Whole or semi-whole durum wheat farfalle"
          ],
          [
           "Whole-wheat-spaghetti"
          ],
          [
           "Wild boars"
          ],
          [
           "Wild salmons"
          ],
          [
           "Yogurt cake"
          ],
          [
           "Yogurt with fruits no 0% fat"
          ],
          [
           "Yogurts"
          ],
          [
           "Yogurts high in protein on a fruit layer"
          ],
          [
           "bg:Картофени ноазети"
          ],
          [
           "de:Schwarzwälder Schinken"
          ],
          [
           "de:instant-suppe"
          ],
          [
           "de:tafelschokolade"
          ],
          [
           "es:Fusilli de trigo duro"
          ],
          [
           "es:Salchichón de Vic"
          ],
          [
           "es:galletas-con-tableta-de-chocolate-con-leche"
          ],
          [
           "fr:Aiguillettes de poulet"
          ],
          [
           "fr:Allumettes de porc"
          ],
          [
           "fr:Andouillettes"
          ],
          [
           "fr:Andouillettes de Troyes"
          ],
          [
           "fr:Andouillettes provençales"
          ],
          [
           "fr:Arômes pâtisserie"
          ],
          [
           "fr:Assortiments chipolatas et merguez"
          ],
          [
           "fr:Barres aux fruits"
          ],
          [
           "fr:Barres chocolatées fourrées aux fruits"
          ],
          [
           "fr:Bigorneaux"
          ],
          [
           "fr:Biscottes de froment"
          ],
          [
           "fr:Blancs de poulet aux herbes"
          ],
          [
           "fr:Blinis"
          ],
          [
           "fr:Bloc de foie gras avec morceaux"
          ],
          [
           "fr:Boulettes de poissons"
          ],
          [
           "fr:Brillat-Savarin"
          ],
          [
           "fr:Brioches Vendéennes"
          ],
          [
           "fr:Brioches aux fruits"
          ],
          [
           "fr:Brioches tranchées"
          ],
          [
           "fr:Brioches tressées"
          ],
          [
           "fr:Charcuteries cuites"
          ],
          [
           "fr:Charcuteries à cuire"
          ],
          [
           "fr:Chipolatas aux herbes"
          ],
          [
           "fr:Compotes pommes pruneau"
          ],
          [
           "fr:Compotes pommes vanille"
          ],
          [
           "fr:Compotes sans sucres"
          ],
          [
           "fr:Coquillettes"
          ],
          [
           "fr:Coquillettes de blé dur"
          ],
          [
           "fr:Crevettes décortiquées"
          ],
          [
           "fr:Croissants ordinaires"
          ],
          [
           "fr:Croquettes de pommes de terre surgelées"
          ],
          [
           "fr:Crêpes au jambon"
          ],
          [
           "fr:Crêpes de froment"
          ],
          [
           "fr:Céréales préparées"
          ],
          [
           "fr:Farfalles"
          ],
          [
           "fr:Farines de patate douce"
          ],
          [
           "fr:Filets d'anchois marinés à la Provençale"
          ],
          [
           "fr:Filets de lieu noir"
          ],
          [
           "fr:Filets de truite"
          ],
          [
           "fr:Foies de lotte"
          ],
          [
           "fr:Foies gras mi-cuits"
          ],
          [
           "fr:Fondant au chocolat"
          ],
          [
           "fr:Fougasses aux lardons"
          ],
          [
           "fr:Fromages blancs"
          ],
          [
           "fr:Fromages blancs aromatisés"
          ],
          [
           "fr:Fromages blancs natures"
          ],
          [
           "fr:Glaces aux noisettes"
          ],
          [
           "fr:Grattons de canard"
          ],
          [
           "fr:Gâche vendéenne"
          ],
          [
           "fr:Gâches"
          ],
          [
           "fr:Laits entiers concentrés"
          ],
          [
           "fr:Lentille verte du Puy"
          ],
          [
           "fr:Lot"
          ],
          [
           "fr:Lunettes à la myrtille"
          ],
          [
           "fr:Merguez"
          ],
          [
           "fr:Mousses au chocolat noir"
          ],
          [
           "fr:Mousses de foies"
          ],
          [
           "fr:Mousses de foies de volailles"
          ],
          [
           "fr:Orangettes"
          ],
          [
           "fr:Pains d'épices au miel"
          ],
          [
           "fr:Pains multicéréales"
          ],
          [
           "fr:Plats susceptibles de contenir de la viande de cheval - lots retirés de la vente en février 2013"
          ],
          [
           "fr:Pommes dauphines"
          ],
          [
           "fr:Poêlées à la landaise"
          ],
          [
           "fr:Poêlées à la sarladaise"
          ],
          [
           "fr:Pruneaux d'Agen"
          ],
          [
           "fr:Préfous"
          ],
          [
           "fr:Ravioles"
          ],
          [
           "fr:Rillettes de Saint-Jacques"
          ],
          [
           "fr:Rillettes de poulet rôti"
          ],
          [
           "fr:Rochers au chocolat"
          ],
          [
           "fr:Rochers au chocolat au lait"
          ],
          [
           "fr:Rochers au chocolat noir"
          ],
          [
           "fr:Sardines à l'ancienne"
          ],
          [
           "fr:Saucisses sèches"
          ],
          [
           "fr:Saucissons cuits"
          ],
          [
           "fr:Sels fins"
          ],
          [
           "fr:Terrines de foie de volaille"
          ],
          [
           "fr:Thon-crudités"
          ],
          [
           "fr:Thons albacore au naturel"
          ],
          [
           "fr:Thons blancs au naturel"
          ],
          [
           "fr:Tomates entières pelées au jus"
          ],
          [
           "fr:Tortellini au fromage"
          ],
          [
           "fr:Tuile aux amandes"
          ],
          [
           "fr:Veloutés de légumes verts"
          ],
          [
           "fr:Yaourts multifruits"
          ],
          [
           "fr:algues-grillees"
          ],
          [
           "fr:aliments-a-base-de-plantes-seches"
          ],
          [
           "fr:amandes-de-mer"
          ],
          [
           "fr:amandine-aux-poires"
          ],
          [
           "fr:aromates"
          ],
          [
           "fr:axoa-de-canard"
          ],
          [
           "fr:beignets"
          ],
          [
           "fr:beignets-a-l-abricot"
          ],
          [
           "fr:beignets-au-chocolat"
          ],
          [
           "fr:bisque"
          ],
          [
           "fr:bloc-de-foie-gras-de-canard-du-sud-ouest"
          ],
          [
           "fr:bo-bun"
          ],
          [
           "fr:bonbons-a-la-menthe"
          ],
          [
           "fr:bonbons-aux-fruits"
          ],
          [
           "fr:boucherie"
          ],
          [
           "fr:brioches-aux-pralines"
          ],
          [
           "fr:brioches-de-saint-genix"
          ],
          [
           "fr:broyes-poitevins"
          ],
          [
           "fr:carpaccio"
          ],
          [
           "fr:carpaccios"
          ],
          [
           "fr:carre-de-porc-pour-plancha-et-pierre-a-griller"
          ],
          [
           "fr:cerises-confites"
          ],
          [
           "fr:chicken-cordons-bleus"
          ],
          [
           "fr:chicken-pies"
          ],
          [
           "fr:chocolats-noir-a-croquer"
          ],
          [
           "fr:colin-sauce-bio-basquaise"
          ],
          [
           "fr:comple"
          ],
          [
           "fr:compotes-de-cerise"
          ],
          [
           "fr:compotes-de-figues"
          ],
          [
           "fr:confiserie-aromatisee"
          ],
          [
           "fr:confiseries-aromatisees"
          ],
          [
           "fr:confitures-a-la-clementine-de-corse"
          ],
          [
           "fr:cookie-brownie"
          ],
          [
           "fr:coquillettes-au-ble-dur-complet"
          ],
          [
           "fr:corail-d-oursin"
          ],
          [
           "fr:cotriade"
          ],
          [
           "fr:couteaux"
          ],
          [
           "fr:crackers-emmental-graines-de-courge"
          ],
          [
           "fr:crakers"
          ],
          [
           "fr:craquants"
          ],
          [
           "fr:creme-au-chocolat"
          ],
          [
           "fr:creme-au-foie-de-canard"
          ],
          [
           "fr:crudites"
          ],
          [
           "fr:des-de-volaille"
          ],
          [
           "fr:dessert-fruitier"
          ],
          [
           "fr:dessert-pomme-cerise"
          ],
          [
           "fr:dos-de-cabillaud"
          ],
          [
           "fr:emiette"
          ],
          [
           "fr:emiette-de-maquereau"
          ],
          [
           "fr:emiette-de-thon"
          ],
          [
           "fr:eminces-de-poulet"
          ],
          [
           "fr:entrees-chaudes"
          ],
          [
           "fr:epinards-cuisines"
          ],
          [
           "fr:epinards-haches"
          ],
          [
           "fr:epinards-haches-a-la-creme-surgeles"
          ],
          [
           "fr:farines-de-chanvre"
          ],
          [
           "fr:filet-de-colin-d-alaska"
          ],
          [
           "fr:filets-de-maquereaux-au-curry"
          ],
          [
           "fr:foie-gras-d-oie-entier"
          ],
          [
           "fr:foie-gras-de-canard-entier-du-sud-ouest"
          ],
          [
           "fr:friandises"
          ],
          [
           "fr:fromage-frais-nature-a-3-de-matieres-grasses-environ"
          ],
          [
           "fr:fromages-a-pate-dure-cuite"
          ],
          [
           "fr:fruits-en-compote"
          ],
          [
           "fr:fuet-catalan"
          ],
          [
           "fr:galettes-sablees"
          ],
          [
           "fr:gateau-basque"
          ],
          [
           "fr:gateaux-aux-fruits"
          ],
          [
           "fr:gateaux-aux-noisettes"
          ],
          [
           "fr:gelees-de-fraises"
          ],
          [
           "fr:gratin-de-courgettes"
          ],
          [
           "fr:gyozas-au-poulet"
          ],
          [
           "fr:herbes"
          ],
          [
           "fr:jambonneaux"
          ],
          [
           "fr:jambons-a-griller"
          ],
          [
           "fr:jeunes-pousses"
          ],
          [
           "fr:legume-en-bocal"
          ],
          [
           "fr:lentilles-cuisinees"
          ],
          [
           "fr:lieu"
          ],
          [
           "fr:linguine-aux-oeufs"
          ],
          [
           "fr:magret-de-canard-du-sud-ouest"
          ],
          [
           "fr:maquereaux-a-l-huile-d-olive"
          ],
          [
           "fr:maquereaux-a-la-biere"
          ],
          [
           "fr:maquereaux-a-la-moutarde"
          ],
          [
           "fr:maquereaux-a-la-tomate"
          ],
          [
           "fr:maquereaux-au-citron"
          ],
          [
           "fr:maquereaux-curry-et-amandes"
          ],
          [
           "fr:maquereaux-marines-au-vin-blanc"
          ],
          [
           "fr:marinade"
          ],
          [
           "fr:marinades"
          ],
          [
           "fr:mayonnaises-legeres"
          ],
          [
           "fr:melanges-de-biscuits-souffles"
          ],
          [
           "fr:melanges-de-cereales"
          ],
          [
           "fr:melanges-de-salades"
          ],
          [
           "fr:menu-fraicheur"
          ],
          [
           "fr:meta-category"
          ],
          [
           "fr:miettes-de-thon-blanc-a-la-tomate"
          ],
          [
           "fr:mijotee"
          ],
          [
           "fr:mirabelles"
          ],
          [
           "fr:moules-au-vin-blanc"
          ],
          [
           "fr:mousse"
          ],
          [
           "fr:mousse-de-homard"
          ],
          [
           "fr:mousse-de-poissons"
          ],
          [
           "fr:mousses-de-homard"
          ],
          [
           "fr:muffins-sales"
          ],
          [
           "fr:noix-de-coco-en-cubes"
          ],
          [
           "fr:nouilles-de-riz"
          ],
          [
           "fr:oranges-sanguines"
          ],
          [
           "fr:ovo-produits"
          ],
          [
           "fr:pain-d-epices-foie-gras"
          ],
          [
           "fr:pains-au-levain"
          ],
          [
           "fr:pains-d-epices-aux-figues"
          ],
          [
           "fr:palmiers-aux-olives"
          ],
          [
           "fr:parmentier-de-thon"
          ],
          [
           "fr:pates-de-sate"
          ],
          [
           "fr:paupiettes-de-porc"
          ],
          [
           "fr:paves-de-boeuf"
          ],
          [
           "fr:peches-jaunes"
          ],
          [
           "fr:pipe-rigate"
          ],
          [
           "fr:plat"
          ],
          [
           "fr:poissonnerie-sauricerie-negoce"
          ],
          [
           "fr:poissons-panes-de-saumon"
          ],
          [
           "fr:poissons-prepares"
          ],
          [
           "fr:poitrines-fumees"
          ],
          [
           "fr:pomme-de-terre-mac-cain"
          ],
          [
           "fr:pommes-rissolees-surgelees"
          ],
          [
           "fr:poudre-de-baobab"
          ],
          [
           "fr:poudres-de-maca"
          ],
          [
           "fr:preparation-en-cacao-maigre"
          ],
          [
           "fr:preparations-a-tartiner-a-base-de-poisson"
          ],
          [
           "fr:preparations-pour-sandwiches"
          ],
          [
           "fr:preparations-pour-tabloules"
          ],
          [
           "fr:produits-labellises"
          ],
          [
           "fr:prune-rouge"
          ],
          [
           "fr:quinoa-parfume-aux-epices-douces"
          ],
          [
           "fr:rouille"
          ],
          [
           "fr:rouilles"
          ],
          [
           "fr:ruban-autocollant"
          ],
          [
           "fr:salades"
          ],
          [
           "fr:salades-au-maquereau"
          ],
          [
           "fr:sardinade"
          ],
          [
           "fr:sardines-a-l-huile-d-arachide"
          ],
          [
           "fr:sardines-a-la-tapenade"
          ],
          [
           "fr:sardines-au-muscadet-et-aux-aromates"
          ],
          [
           "fr:sardines-aux-olives"
          ],
          [
           "fr:sardines-chaudes"
          ],
          [
           "fr:sardines-marinees-au-muscadet-et-aux-aromates"
          ],
          [
           "fr:sauce-a-l-armagnac"
          ],
          [
           "fr:sauces-au-basilic"
          ],
          [
           "fr:sauces-crudites"
          ],
          [
           "fr:saumon-fume-de-norvege"
          ],
          [
           "fr:saumon-sauvage-du-pacifique"
          ],
          [
           "fr:saumon-surgele"
          ],
          [
           "fr:saumons-atlantique-fumes"
          ],
          [
           "fr:saumons-fondues-de-poireaux"
          ],
          [
           "fr:saumure"
          ],
          [
           "fr:semoule-de-ble-dur-precuite-pour-couscous"
          ],
          [
           "fr:sichuan"
          ],
          [
           "fr:sirops-de-glucose"
          ],
          [
           "fr:snaks"
          ],
          [
           "fr:sorbets-a-l-argousier"
          ],
          [
           "fr:soupe-artichaut-sarrasin-et-algues-de-bretagne"
          ],
          [
           "fr:soupe-de-thon"
          ],
          [
           "fr:specialite-de-pommes-d-abricots-et-d-acerola-sans-sucres-ajoutes"
          ],
          [
           "fr:sucettes-sucrees"
          ],
          [
           "fr:tablette-de-chocolat"
          ],
          [
           "fr:tarama-au-caviar"
          ],
          [
           "fr:taramas-aux-oeufs-de-truite"
          ],
          [
           "fr:tartare-aux-algues"
          ],
          [
           "fr:terrine-campagnarde"
          ],
          [
           "fr:terrine-de-campagne-au-piment-d-espelette"
          ],
          [
           "fr:terrine-rustique-de-canard"
          ],
          [
           "fr:terrines-d-oie"
          ],
          [
           "fr:terrines-de-dinde"
          ],
          [
           "fr:terrines-de-lievre"
          ],
          [
           "fr:terrines-de-pintade"
          ],
          [
           "fr:terrines-de-sardine"
          ],
          [
           "fr:the-vert-de-chine"
          ],
          [
           "fr:thon-aux-epices"
          ],
          [
           "fr:toast-chaud"
          ],
          [
           "fr:tomates-cerise-olivette-bio"
          ],
          [
           "fr:torsettes"
          ],
          [
           "fr:vache"
          ],
          [
           "fr:vegetarien"
          ],
          [
           "fr:vegetarien-vegetalien"
          ],
          [
           "fr:veloutes-de-crustaces"
          ],
          [
           "fr:veloutes-de-homard"
          ],
          [
           "fr:vermicelles-haricot-mungo"
          ],
          [
           "fr:verrine"
          ],
          [
           "fr:viandes-marinees"
          ],
          [
           "fr:wasabi-coated-green-peas"
          ],
          [
           "hu:Sertés Májkolbászok"
          ],
          [
           "it:Calzone"
          ],
          [
           "it:Fettuccine"
          ],
          [
           "pt:avion"
          ],
          [
           "Десерт"
          ]
         ],
         "domain": {
          "x": [
           0,
           1
          ],
          "y": [
           0,
           1
          ]
         },
         "hovertemplate": "labels=%{label}<br>quantity=%{value}<br>parent=%{parent}<br>id=%{id}<br>main_category_en=%{customdata[0]}<extra></extra>",
         "ids": [
          "Acid gummy candies",
          "Advent calendars",
          "Alaska pollock",
          "Albacore",
          "Alimentos-y-bebidas-de-origen-vegetal-alimentos-de-origen-vegetal-untables-desayunos-untables-vegetales-untables-dulces-preparaciones-a-base-de-frutas-y-verduras-mermeladas-y-confituras-mermeladas-y-confituras-de-frutas-del-bosque-mermeladas-y-confituras-de-fresa",
          "Almond butters",
          "Almond flakes",
          "Almond meal",
          "Almond milk yogurts",
          "Almond paste",
          "Anchovy",
          "Appetizers",
          "Apple compotes",
          "Apple turnovers",
          "Apples",
          "Apples jellies",
          "Applesauces",
          "Apricot Apple compotes",
          "Apricot compotes",
          "Apricot jams",
          "Apricot yogurts",
          "Arabica ground coffees",
          "Artichoke hearts",
          "Assorted chocolate candies",
          "Assorted chocolates",
          "Assorted jams",
          "Assortiments-de-biscuits",
          "Assortments-of-compotes",
          "BCAA",
          "Bacon",
          "Baeri caviars",
          "Baguettes",
          "Baked beans in tomato sauce",
          "Banana Apple compotes",
          "Bars",
          "Basil",
          "Basmati rices",
          "Basque cake with custard",
          "Bass",
          "Batonnets-de-poisson",
          "Bayonne ham",
          "Beef",
          "Beef Cannelloni",
          "Beef carpaccio",
          "Beef dishes",
          "Beef flank steak",
          "Beef jerkies",
          "Beef livers",
          "Beef meat balls",
          "Beef meat balls with tomato sauce",
          "Beef merguez",
          "Beef rib steak",
          "Beef skewers",
          "Beef steaks",
          "Beet",
          "Berry jams",
          "Beverages",
          "Bigarade orange marmelades",
          "Bilberries jams",
          "Biscuit with a chocolate bar covering",
          "Biscuit with a milk chocolate bar covering",
          "Biscuits",
          "Biscuits and cakes",
          "Black grapes",
          "Black olives in oil",
          "Black seedless grapes",
          "Black truffles",
          "Blackberry jams",
          "Blackberry jellies",
          "Blackcurrant jams",
          "Blackcurrants jellies",
          "Blackcurrent sorbets",
          "Block of foie gras",
          "Blonde lentils",
          "Blueberry applesauces",
          "Blueberry muffins",
          "Boar terrines",
          "Bodybuilding supplements",
          "Bolognese Cannelloni",
          "Bolognese lasagne",
          "Bolognese sauces",
          "Bonbons",
          "Bonbons-bio",
          "Bottarga",
          "Bread crumbs",
          "Bread flours",
          "Breaded Alaska pollock",
          "Breaded chicken",
          "Breaded cod fish",
          "Breaded fish",
          "Breaded fish substitutes",
          "Breaded hake fish",
          "Breaded lemon sole",
          "Breaded products",
          "Breads",
          "Breads with nuts",
          "Breads with raisins",
          "Breadsticks",
          "Breakfast cereals",
          "Bresaola",
          "Bries",
          "Brioche filled with chocolate drops",
          "Brioches",
          "Brookies",
          "Brotaufstriche",
          "Brownies",
          "Brussels sprouts",
          "Buffalo burrata",
          "Bulgur",
          "Burrata",
          "Butter croissants",
          "Bœufs bourguignons",
          "Caen-style tripes",
          "Cake mixes",
          "Cakes",
          "Calissons",
          "Cambodia",
          "Camemberts from pasteurized cow milk",
          "Canary grass",
          "Candied fruits",
          "Candies",
          "Candy meringues",
          "Cane sugar",
          "Canelés",
          "Canned asparagus",
          "Canned champignon mushrooms",
          "Canned chickpeas",
          "Canned corn",
          "Canned foods",
          "Canned green asparagus",
          "Canned green beans",
          "Canned meals",
          "Canned mixed fruit in syrup",
          "Canned peas and carrots",
          "Canned prepared mixed tuna and vegetable salad",
          "Canned raviolis",
          "Canned sardines",
          "Canned tunas",
          "Canned vegetable soups",
          "Canned vegetables",
          "Canned white asparagus",
          "Canned-kidney-common-beans",
          "Cappuccino",
          "Caramel spreads",
          "Caramel yogurts",
          "Caramelized peanuts",
          "Caramels",
          "Cardoons",
          "Carrots",
          "Cashew nuts",
          "Cassoulets",
          "Cassoulets with duck confit",
          "Cayenne peppers",
          "Cereal clusters with chocolate",
          "Cereal clusters with nuts",
          "Cereal grains",
          "Cereal semolinas",
          "Cereal variety packs",
          "Cereal-milk-chocolates",
          "Cereals and their products",
          "Cereals and vegetables patties",
          "Cervelat",
          "Chaource",
          "Cheese buche from goat's milk",
          "Cheese pies",
          "Cheese ravioli",
          "Cheese sauces",
          "Cheese spreads",
          "Cheeseburgers",
          "Cheeses",
          "Cherry jams",
          "Chestnut applesauces",
          "Chestnut flours",
          "Chestnut honey",
          "Chestnut ice creams",
          "Chestnut spreads",
          "Chewing gum",
          "Chia",
          "Chicken breasts",
          "Chicken couscous",
          "Chicken curry",
          "Chicken cutlets",
          "Chicken nems",
          "Chicken nuggets",
          "Chicken rillettes",
          "Chicken risottos",
          "Chicken sandwiches",
          "Chicken tajine",
          "Chicken terrines",
          "Chicken thighs",
          "Chicken wings",
          "Chickens",
          "Chickpeas",
          "Chinese noodles",
          "Chinese nougats",
          "Chipolatas",
          "Chitterling sausage",
          "Chives",
          "Chocolate biscuits",
          "Chocolate cakes",
          "Chocolate cereals",
          "Chocolate chip cookies",
          "Chocolate covered almonds",
          "Chocolate covered cranberries",
          "Chocolate croissant",
          "Chocolate filled with praline",
          "Chocolate madeleines",
          "Chocolate mousses",
          "Chocolate powders",
          "Chocolate rabbits",
          "Chocolate stuffed wafers",
          "Chocolate truffles",
          "Chocolates",
          "Chocolates with extra fine milk",
          "Chocolates with praline",
          "Chorizo",
          "Chorizo pizzas",
          "Cigarette Russes",
          "Cinnamon powder",
          "Clementines",
          "Cloves",
          "Cockerel in red wine sauce",
          "Cockles",
          "Cocktail sausage",
          "Cocoa and chocolate powders",
          "Cocoa and hazelnuts spreads",
          "Cocoa butter",
          "Cocoa powders",
          "Coconut Macaroons",
          "Coconut sugar",
          "Coconutmilk yogurts",
          "Cod fillets",
          "Cod livers",
          "Cods",
          "Coffee desserts",
          "Coffee tiramisu",
          "Coffees",
          "Cold starters",
          "Compotes",
          "Compotes to drink",
          "Condiments-sauces-mayonnaises",
          "Confectioneries",
          "Confit",
          "Cooked Prawns",
          "Cooked chicken breast slices",
          "Cooked ham choice",
          "Cooked pork shoulder",
          "Cooked shrimps",
          "Cooked turkey breast slices",
          "Cooked whelk",
          "Cooked-drained-sauerkraut-without-garnish",
          "Cooking helpers",
          "Coppa",
          "Coriander seeds",
          "Corn chips",
          "Corn flakes",
          "Corn salad",
          "Corn semolinas",
          "Corn semolinas for polenta",
          "Cotton candy",
          "Coulommiers",
          "Country terrines",
          "Country-style Pâtés",
          "Couscous with meat",
          "Cow cheeses",
          "Crackers",
          "Cream cheeses",
          "Cream of vegetable soups",
          "Creamy puddings",
          "Crepe filled with egg ham and cheese",
          "Crisps",
          "Croissants",
          "Croutons",
          "Crunchy muesli with chocolate not fortified with vitamins and chemical elements",
          "Crunchy mueslis",
          "Crunchy peanut butters",
          "Crystallized ginger",
          "Crème brûlée",
          "Crêpes",
          "Crêpes and galettes",
          "Cured hams",
          "Cured sausages",
          "Curry powder",
          "Cut",
          "Dairies",
          "Dairy chocolate desserts",
          "Dairy desserts",
          "Dark chocolate bar for cooking with more than 40% cocoa",
          "Dark chocolate bar with less than 70% cocoa",
          "Dark chocolate bar with more than 70% cocoa",
          "Dark chocolates",
          "Dark chocolates with hazelnuts",
          "Dark chocolates with orange",
          "Dark chocolates with praline",
          "Dark chocolates with sweeteners",
          "Date syrups",
          "Dauphiné-style creamed potatoes au gratin",
          "Decorticated red lentils",
          "Deglet Noor dates",
          "Dehydrated potato flakes with milk",
          "Dehydrated soups",
          "Dessert-mixes",
          "Desserts",
          "Diced ham",
          "Dietary supplements",
          "Dill",
          "Double concentrate tomato paste",
          "Double-concentre-de-tomate",
          "Doughnuts",
          "Dragées",
          "Dried apples",
          "Dried apricots",
          "Dried cranberries",
          "Dried figs",
          "Dried fruits",
          "Dried goji",
          "Dried golden berries",
          "Dried hams",
          "Dried mangoes",
          "Dried prunes",
          "Dried shiitake mushrooms",
          "Dried tomato in oil",
          "Drinkable yogurts",
          "Dry egg pastas",
          "Dry pastas",
          "Dry sausages",
          "Duck breasts",
          "Duck dishes",
          "Duck fillets",
          "Duck gizzards",
          "Duck liver foie gras without pieces",
          "Duck mousse",
          "Duck rillettes",
          "Duck sausages",
          "Duck terrines",
          "Durum wheat macaroni",
          "Durum wheat pasta",
          "Durum wheat pasta with egg",
          "Durum wheat semolinas",
          "Durum wheat semolinas for couscous",
          "Durum wheat spaghetti",
          "Easter eggs",
          "Easter food",
          "Eastern tabbouleh",
          "Eclairs",
          "Egg pastas",
          "Egg roll with cooked shrimp",
          "Egg tagliatelle",
          "Eggplant Gratin",
          "Eggplant caviar",
          "Emmentaler",
          "Energy bars",
          "English muffins",
          "Epicerie",
          "Extra fine dark chocolates",
          "Extruded crispbreads",
          "Extruded flakes",
          "Faiselles",
          "Fajitas",
          "Falafels",
          "Fennel seeds",
          "Fermented foods",
          "Fig chutneys",
          "Figs",
          "Figs jams",
          "Filets-de-poulet",
          "Filled biscuits",
          "Filled cakes",
          "Filled cereals",
          "Filled chocolate eggs",
          "Filled crêpes with chocolate",
          "Filled dark chocolates",
          "Filled milk chocolates",
          "Filled sponge cake slices",
          "Filled-sponge-cake-rolls",
          "Financiers",
          "Fish fingers",
          "Fish hamburgers",
          "Fish patties",
          "Fish rillettes",
          "Fish soups",
          "Fish spreads",
          "Fish-croquette-fritter",
          "Fishes",
          "Flavored and colored dry pastas",
          "Flavoured white chocolates",
          "Flavoured yogurts",
          "Flower honeys",
          "Focaccia",
          "Foies gras",
          "Foies gras from ducks",
          "Foies gras from gooses",
          "Foies gras pâtés",
          "Fondants",
          "Food colorings",
          "Food decorations",
          "Fortune-cookies",
          "Four Cheese Pizza",
          "Fourme d'Ambert cheese from cow's milk",
          "Frankfurter sausages",
          "French bread ball with yeast",
          "French candies",
          "French confectioneries",
          "Fresh Brussels sprouts",
          "Fresh apples",
          "Fresh apricots",
          "Fresh aubergines",
          "Fresh blueberries",
          "Fresh broccoli",
          "Fresh carrots",
          "Fresh clementines",
          "Fresh grapes",
          "Fresh green beans",
          "Fresh ground beef preparations",
          "Fresh ground beef steaks",
          "Fresh kiwifruits",
          "Fresh leeks",
          "Fresh lemons",
          "Fresh mandarin oranges",
          "Fresh meals",
          "Fresh meats",
          "Fresh nectarines",
          "Fresh onions",
          "Fresh oranges",
          "Fresh peaches",
          "Fresh pears",
          "Fresh plant-based foods",
          "Fresh plums",
          "Fresh raspberries",
          "Fresh red onions",
          "Fresh red radishes",
          "Fresh spinachs",
          "Fresh strawberries",
          "Fresh sweet corn",
          "Fresh sweet peppers",
          "Fresh tabbouleh",
          "Fresh tomatoes",
          "Fresh turnips",
          "Fresh zucchini",
          "Fried foods",
          "Fried rice",
          "Fromages-fondus",
          "Frozen baby carrots",
          "Frozen basil",
          "Frozen broccolis",
          "Frozen cauliflower florets",
          "Frozen cooked dauphine potato",
          "Frozen cooked duchesse potato",
          "Frozen cooked pre-fried potato cubes",
          "Frozen duchesse potatoes",
          "Frozen fish in sauce",
          "Frozen fishes",
          "Frozen foods",
          "Frozen fries",
          "Frozen green beans",
          "Frozen ground beef preparations",
          "Frozen ground beef steaks",
          "Frozen hake fillet",
          "Frozen lasagne",
          "Frozen leeks",
          "Frozen meat preparations",
          "Frozen microwave fries",
          "Frozen mixed vegetables",
          "Frozen pizzas",
          "Frozen potato rostis",
          "Frozen potatoes",
          "Frozen pre-fried mashed potato balls",
          "Frozen ready-made meals",
          "Frozen roasted French fries",
          "Frozen snacks and starters",
          "Frozen spinachs",
          "Frozen vegetable soups",
          "Frozen vegetables",
          "Frozen-pre-fried-potato-cubes",
          "Fruit and vegetable preserves",
          "Fruit cakes",
          "Fruit curds",
          "Fruit jellies",
          "Fruit muffins",
          "Fruit pastes",
          "Fruit skyrs",
          "Fruit stirred yogurts",
          "Fruit yogurts",
          "Fruit yogurts with fruit chunks",
          "Fruit-based beverages",
          "Fruits",
          "Fruits based foods",
          "Fruits compote with reduced sugar",
          "Fruits desserts",
          "Fruits puree without sugar added",
          "Fusilli",
          "Gala apples",
          "Garlic sausage",
          "Gateaux",
          "Gateaux-marbres",
          "Gaufrettes-fourres-vanille",
          "Gelatin",
          "Gherkins",
          "Ginger",
          "Ginger powder",
          "Gingerbreads",
          "Gluten-free breads",
          "Gluten-free sliced breads",
          "Gnocchi",
          "Goat cheeses",
          "Golden Delicious apples",
          "Goose rillettes",
          "Gouda",
          "Grana Padano",
          "Granulated sugars",
          "Grated cheese",
          "Grated coconut",
          "Grated emmentaler",
          "Greek-style yogurts",
          "Green asparagus",
          "Green beans",
          "Green grapes",
          "Green lentils",
          "Green olives stuffed of peppers",
          "Green pitted olives",
          "Green seedless grapes",
          "Green tapenades",
          "Green teas with mint",
          "Greengage plum jams",
          "Grenaille potatoes",
          "Grilled peppers",
          "Groceries",
          "Ground beef meats",
          "Ground beef preparations",
          "Ground beef steaks",
          "Ground black peppers",
          "Ground coffees",
          "Ground cumin seedskumin",
          "Ground meat preparations",
          "Ground meats",
          "Ground white peppers",
          "Grounded grey peppers",
          "Gummi candies",
          "Half-salted butter",
          "Halloween foods and drinks",
          "Ham and butter sandwiches",
          "Hams",
          "Hazelnut spreads",
          "Hazelnuts powder",
          "Head cheese",
          "Herbal teas",
          "Herbes de Provence",
          "Herbs",
          "Herring fillets",
          "Hollow chocolate eggs",
          "Honey candies",
          "Honeys",
          "Honeys from France",
          "Honeys from the mountains",
          "Hot dog sandwiches",
          "Hummus",
          "Ice cream bars",
          "Ice cream cones",
          "Ice creams",
          "Industrial cheese",
          "Industrial knacks",
          "Instant noodle soups",
          "Instant noodles",
          "Jaffa cakes",
          "Jams",
          "Japanese ravioli",
          "Jasmine rice",
          "Jelly beans",
          "King cakes",
          "Kiwifruits",
          "Knuckle of ham cooked",
          "Kumquats",
          "Labeled-cheeses",
          "Lamb meat",
          "Lardons",
          "Lasagna sheets",
          "Latte macchiato",
          "Leaf salads",
          "Leek quiche",
          "Leeks fondue",
          "Legume flours",
          "Lemon curds",
          "Lemon sorbets",
          "Lemon tarts",
          "Lentils",
          "Lettuces",
          "Licensed products",
          "Light compotes",
          "Linguine",
          "Liquid caramel",
          "Lollipops",
          "Long grain rices",
          "Lorraine quiche",
          "Low sugar fruit jam",
          "Lump sugar",
          "Luxury ice cream in a box",
          "Macarons",
          "Mackerel",
          "Mackerel fillets",
          "Mackerel fillets in mustard sauce",
          "Mackerel fillets in white wine and herbs",
          "Mackerel rillettes",
          "Mackerels",
          "Madeleines",
          "Mandarin jams",
          "Mandarin sorbets",
          "Mango applesauces",
          "Mango chutneys",
          "Mango compotes",
          "Mangoes in syrup",
          "Manuka honeys",
          "Marble cakes",
          "Margarines",
          "Margherita Pizza",
          "Marinated anchovy fillets with vegetable oil",
          "Marmalades",
          "Marrons glacés",
          "Marshmallows",
          "Marshmallows coated with chocolate",
          "Mayonnaises",
          "Mazafati dates",
          "Meals",
          "Meals with chicken",
          "Meals with fish",
          "Meals with meat",
          "Meat analogues",
          "Meat patties",
          "Meat preparations",
          "Meats",
          "Melon jams",
          "Melon sorbets",
          "Melted cheese",
          "Meringues",
          "Microwave fries",
          "Microwave meals",
          "Milk bread rolls",
          "Milk bread rolls with chocolate",
          "Milk chocolate candies",
          "Milk chocolate with caramel",
          "Milk chocolates",
          "Milk chocolates with fleur de sel",
          "Milk chocolates with hazelnuts",
          "Milk chocolates with sweeteners",
          "Milk-chocolate-with-orange-oil",
          "Minced beef steak with 15% fat",
          "Minced beef steak with 5% fat",
          "Mint",
          "Mirabelle plum jams",
          "Mix of cereals and legumes",
          "Mixed berry jams",
          "Mixed fruit jams",
          "Mixes for panna cotta",
          "Mochi",
          "Molded butters",
          "Molten chocolate cakes",
          "Mortadella with pistachios pure pork",
          "Mozzarella",
          "Mozzarella di Bufala Campana",
          "Mueslis",
          "Mueslis with chocolate",
          "Mueslis with fruits",
          "Multifruit pastes",
          "Multifruit sorbets",
          "Multigrain sliced breads",
          "Munster",
          "Nems",
          "Non-dairy desserts",
          "Non-dairy yogurts",
          "Noodles",
          "Nori seaweeds",
          "Norman-style pies",
          "Nougats",
          "Nutmeg",
          "Nuts",
          "Nuts and their products",
          "Old Goudas",
          "Olive veal",
          "Open Beauty Facts",
          "Open pies",
          "Orange jams",
          "Oranges",
          "Oregano",
          "Paella",
          "Pains de campagne",
          "Pains-au-lait-natures",
          "Pan-fried dishes",
          "Paprika",
          "Parboiled rices",
          "Parmigiano-Reggiano",
          "Parsley",
          "Pasta dishes",
          "Pasta gratin",
          "Pastas",
          "Pasteurized cheeses",
          "Peach applesauce",
          "Peach jams",
          "Peanut butters",
          "Peanuts",
          "Pear applesauces",
          "Pear jams",
          "Pear sorbets",
          "Pecan nuts",
          "Peeled tomatoes",
          "Penne rigate",
          "Pepperoni pizzas",
          "Petit-Beurre",
          "Pheasant terrines",
          "Pickled gherkins",
          "Pine nuts",
          "Pineapple in syrup",
          "Pineapple jams",
          "Pistachio ice cream tubs",
          "Pitted dates",
          "Pizza with ham and cheese",
          "Pizzas",
          "Plain buckwheat crepes",
          "Plain corn flakes",
          "Plain corn flakes fortified with vitamins and chemical elements",
          "Plain crepes",
          "Plain lardons",
          "Plain madeleines",
          "Plain salty snacks",
          "Plain skyrs",
          "Plain sprits biscuits",
          "Plain yogurt with sugar",
          "Plant milk chocolates",
          "Plant-based foods",
          "Plant-based meals",
          "Plant-based pâtés",
          "Plum sorbets",
          "Polenta",
          "Pollock fillets",
          "Pork",
          "Pork belly",
          "Pork filet mignon",
          "Pork knuckle",
          "Pork meals",
          "Pork nems",
          "Pork racks",
          "Pork ribs",
          "Pork rillettes",
          "Pork roasts",
          "Pork salami",
          "Pork shoulders",
          "Pork terrines",
          "Potato crisps in sunflower oil",
          "Potato gnocchi",
          "Potatoes",
          "Potted parsley",
          "Poultry hams",
          "Poultry sausages",
          "Poultry terrines",
          "Pound Cake",
          "Powdered sugars",
          "Preparations made from crabs",
          "Preparations-made-from-fish-meat",
          "Prepared bruschetta toasts",
          "Prepared couscous",
          "Prepared meats",
          "Prepared rices",
          "Preserved pork liver",
          "Preserved poultry liver",
          "Pretzel",
          "Produits-laitiers",
          "Protein bars",
          "Protein powders",
          "Puff pastry sheets",
          "Puffed corn cakes",
          "Puffed corn cakes with black chocolate",
          "Puffed multigrain cakes",
          "Puffed rice",
          "Puffed rice cakes",
          "Puffed rice cakes with black chocolate",
          "Puffed rice cakes with milk chocolate",
          "Puffed salty snacks",
          "Puffed salty snacks made from maize",
          "Puffed spelt cakes",
          "Puffed wholegrain rice cakes",
          "Pulses",
          "Pumpkin seeds",
          "Pure beef merguez sausage",
          "Pure butter brioche",
          "Purple asparagus",
          "Pâté in crust",
          "Quiches",
          "Quince jellies",
          "Quinoa",
          "Quinoa dishes",
          "Rabbit terrines",
          "Raclette",
          "Raisins",
          "Ras el hanout",
          "Raspberry applesauces",
          "Raspberry jams",
          "Raspberry yogurts",
          "Ratatouille",
          "Ravioli",
          "Ravioli with ricotta and spinach",
          "Raw-cured-ham",
          "Raw-sausage-meat-with-pure-pork",
          "Raw-spinach-young-leaves",
          "Reblochon",
          "Reconstituted turkey breast slices",
          "Red beans",
          "Redcurrants jams",
          "Redcurrants jellies",
          "Refrigerated chocolate creamy puddings",
          "Refrigerated falafel",
          "Refrigerated fruits compote with reduced sugar",
          "Refrigerated meals",
          "Regina pizza",
          "Relish",
          "Rhubarb applesauces",
          "Rhubarb jams",
          "Rhubarbs",
          "Rice flours",
          "Rice paper",
          "Rice puddings",
          "Rice vermicelli",
          "Rices",
          "Rigatoni",
          "Rillettes from Mans",
          "Rillettes pure pork",
          "Risotto with seafood",
          "Riz-au-lait-saveur-vanille",
          "Roasted hazelnuts",
          "Roasted peanuts",
          "Roasted pistachios",
          "Rocket",
          "Rolled oats",
          "Rosehip jams",
          "Rosette dry sausage",
          "Rostis",
          "Rum baba",
          "Rye breads",
          "Saint-Marcellin",
          "Saint-Paulin cheese",
          "Saithe",
          "Salads",
          "Salami",
          "Salmon fillets",
          "Salmon pizza",
          "Salmon roe",
          "Salmon steaks",
          "Salmons",
          "Salmons from farming",
          "Salt-cured pork belly with lentils",
          "Salted butter caramels",
          "Salted peanuts",
          "Salted pistachios",
          "Salted spreads",
          "Salts",
          "Salty Fritters",
          "Salty palmiers",
          "Salty snacks",
          "Salty snacks made from potato",
          "Samosas",
          "Sardine fillets",
          "Sardine fillets in olive oil",
          "Sardines in oil",
          "Sardines in oil and chili",
          "Sardines in oil and lemon",
          "Sardines in olive oil",
          "Sardines in sunflower oil",
          "Sardines in tomato sauce",
          "Sauces",
          "Sausage meat",
          "Sausages",
          "Sausages with lentils",
          "Sautéed Potatoes",
          "Sautéed black pudding",
          "Savory mousses",
          "Savoury-cake-with-cheese-vegetables-meat-fish-poultry",
          "Savoy-style sponge cake",
          "Scallop",
          "Seafood",
          "Semolina puddings",
          "Serrano ham",
          "Sheep dishes",
          "Sheep meat",
          "Shelled almonds",
          "Shelled hazelnuts",
          "Shepherd's pie",
          "Shepherd's pie with duck",
          "Shortbread",
          "Shortbread cookies",
          "Shortbread cookies from Brittany",
          "Shrimp risottos",
          "Shrimps",
          "Skewers",
          "Skipjack tuna",
          "Skyrs",
          "Sliced breads",
          "Sliced cheeses",
          "Small brioches",
          "Smoked cured hams",
          "Smoked lardons",
          "Smoked salmons",
          "Smoked salmons from farming",
          "Smoked sausages",
          "Smoked trouts",
          "Smoked tunas",
          "Smoked-duck-brests",
          "Snacks",
          "Snacks variety packs",
          "Snacks-snacks-sucres-cacao-et-derives-chocolats-chocolats-noirs",
          "Snacks-sucres",
          "Snails",
          "Sorbets",
          "Soups",
          "Spaghetti",
          "Spanish omelettes",
          "Speculoos",
          "Spice Mix",
          "Spinach with cream sauce",
          "Spinachs",
          "Spirulina",
          "Sponge fingers biscuit",
          "Sponge sandwich cake filled and topped with strawberries",
          "Sprits biscuits",
          "Star anise",
          "Starches",
          "Strasbourg sausages",
          "Strawberries",
          "Strawberry applesauces",
          "Strawberry jams",
          "Stuffed pastas",
          "Stuffed tomatoes",
          "Stuffed waffles",
          "Stuffing",
          "Sugared crêpes",
          "Sugared popcorn",
          "Sugars",
          "Sunflower seeds",
          "Surimi",
          "Surimi on sticks",
          "Swedish-style pork and beef meat balls",
          "Sweet Fritters",
          "Sweet and sour sauces",
          "Sweet cream butters",
          "Sweet mousses",
          "Sweet potatoes",
          "Sweet snacks",
          "Sweetened beverages",
          "Sweeteners",
          "Syrups",
          "Tabbouleh",
          "Tagliatelle",
          "Tapenades",
          "Tapioca",
          "Taramasalata",
          "Tarragon",
          "Tartiflettes",
          "Tartlet biscuits with fruit preparation",
          "Teas",
          "Teriyaki sauces",
          "Terrines",
          "Three Cheese Pizza",
          "Thyme",
          "Tinned Mackerels",
          "Tiramisu",
          "Toasted bread rolls",
          "Toasted ham sandwich topped with grated cheese",
          "Toasts",
          "Tomato jams",
          "Tomato pastes",
          "Tomato pulps",
          "Tomato sauces",
          "Tomatoes",
          "Tortellini",
          "Toulouse sausages",
          "Traditional French baguette",
          "Tripe",
          "Tripoux",
          "Tropical fruit jams",
          "Trout rillettes",
          "Trout terrines",
          "Trouts",
          "Tuna chunks",
          "Tuna fillets",
          "Tuna in Catalan-style",
          "Tuna in brine",
          "Tuna lasagna",
          "Tuna samosas",
          "Tuna spreads",
          "Tunas",
          "Tunas in oil",
          "Tunas in sunflower oil",
          "Turkey cordons bleus",
          "Turkeys",
          "Turmeric powder",
          "Udon",
          "Unsalted butters",
          "Unsweetened beverages",
          "Vanilla flavored rice pudding",
          "Vanilla ice cream tubs",
          "Vanilla sugars",
          "Veal blanquette",
          "Veal sausages",
          "Vegan chocolate mousses",
          "Vegan creamy puddings",
          "Vegetable cakes",
          "Vegetable gyoza",
          "Vegetable nems",
          "Vegetable-jams",
          "Vegetables terrines",
          "Vegetarian balls",
          "Vegetarian patties",
          "Viande",
          "Viandes",
          "Viandes-charcuteries-jambons-jambons-blancs",
          "Vienna bread",
          "Viennoiseries",
          "Wafers",
          "Walnut kernels",
          "Walnuts",
          "Watermelon jams",
          "Wheat flour type 55 for bread",
          "Wheat flour type 65",
          "Wheat semolinas",
          "Wheats",
          "Whisky",
          "White Basmati rices",
          "White Jasmine rices",
          "White beans",
          "White chocolates",
          "White hams",
          "White hams with less salt",
          "White rices",
          "White smoked hams",
          "White wheat flours",
          "Whole almonds",
          "Whole black olives",
          "Whole champignon mushrooms",
          "Whole cumin seeds",
          "Whole foies gras",
          "Whole foies gras from ducks",
          "Whole green olives",
          "Whole or semi-whole durum wheat farfalle",
          "Whole-wheat-spaghetti",
          "Wild boars",
          "Wild salmons",
          "Yogurt cake",
          "Yogurt with fruits no 0% fat",
          "Yogurts",
          "Yogurts high in protein on a fruit layer",
          "bg:Картофени ноазети",
          "de:Schwarzwälder Schinken",
          "de:instant-suppe",
          "de:tafelschokolade",
          "es:Fusilli de trigo duro",
          "es:Salchichón de Vic",
          "es:galletas-con-tableta-de-chocolate-con-leche",
          "fr:Aiguillettes de poulet",
          "fr:Allumettes de porc",
          "fr:Andouillettes",
          "fr:Andouillettes de Troyes",
          "fr:Andouillettes provençales",
          "fr:Arômes pâtisserie",
          "fr:Assortiments chipolatas et merguez",
          "fr:Barres aux fruits",
          "fr:Barres chocolatées fourrées aux fruits",
          "fr:Bigorneaux",
          "fr:Biscottes de froment",
          "fr:Blancs de poulet aux herbes",
          "fr:Blinis",
          "fr:Bloc de foie gras avec morceaux",
          "fr:Boulettes de poissons",
          "fr:Brillat-Savarin",
          "fr:Brioches Vendéennes",
          "fr:Brioches aux fruits",
          "fr:Brioches tranchées",
          "fr:Brioches tressées",
          "fr:Charcuteries cuites",
          "fr:Charcuteries à cuire",
          "fr:Chipolatas aux herbes",
          "fr:Compotes pommes pruneau",
          "fr:Compotes pommes vanille",
          "fr:Compotes sans sucres",
          "fr:Coquillettes",
          "fr:Coquillettes de blé dur",
          "fr:Crevettes décortiquées",
          "fr:Croissants ordinaires",
          "fr:Croquettes de pommes de terre surgelées",
          "fr:Crêpes au jambon",
          "fr:Crêpes de froment",
          "fr:Céréales préparées",
          "fr:Farfalles",
          "fr:Farines de patate douce",
          "fr:Filets d'anchois marinés à la Provençale",
          "fr:Filets de lieu noir",
          "fr:Filets de truite",
          "fr:Foies de lotte",
          "fr:Foies gras mi-cuits",
          "fr:Fondant au chocolat",
          "fr:Fougasses aux lardons",
          "fr:Fromages blancs",
          "fr:Fromages blancs aromatisés",
          "fr:Fromages blancs natures",
          "fr:Glaces aux noisettes",
          "fr:Grattons de canard",
          "fr:Gâche vendéenne",
          "fr:Gâches",
          "fr:Laits entiers concentrés",
          "fr:Lentille verte du Puy",
          "fr:Lot",
          "fr:Lunettes à la myrtille",
          "fr:Merguez",
          "fr:Mousses au chocolat noir",
          "fr:Mousses de foies",
          "fr:Mousses de foies de volailles",
          "fr:Orangettes",
          "fr:Pains d'épices au miel",
          "fr:Pains multicéréales",
          "fr:Plats susceptibles de contenir de la viande de cheval - lots retirés de la vente en février 2013",
          "fr:Pommes dauphines",
          "fr:Poêlées à la landaise",
          "fr:Poêlées à la sarladaise",
          "fr:Pruneaux d'Agen",
          "fr:Préfous",
          "fr:Ravioles",
          "fr:Rillettes de Saint-Jacques",
          "fr:Rillettes de poulet rôti",
          "fr:Rochers au chocolat",
          "fr:Rochers au chocolat au lait",
          "fr:Rochers au chocolat noir",
          "fr:Sardines à l'ancienne",
          "fr:Saucisses sèches",
          "fr:Saucissons cuits",
          "fr:Sels fins",
          "fr:Terrines de foie de volaille",
          "fr:Thon-crudités",
          "fr:Thons albacore au naturel",
          "fr:Thons blancs au naturel",
          "fr:Tomates entières pelées au jus",
          "fr:Tortellini au fromage",
          "fr:Tuile aux amandes",
          "fr:Veloutés de légumes verts",
          "fr:Yaourts multifruits",
          "fr:algues-grillees",
          "fr:aliments-a-base-de-plantes-seches",
          "fr:amandes-de-mer",
          "fr:amandine-aux-poires",
          "fr:aromates",
          "fr:axoa-de-canard",
          "fr:beignets",
          "fr:beignets-a-l-abricot",
          "fr:beignets-au-chocolat",
          "fr:bisque",
          "fr:bloc-de-foie-gras-de-canard-du-sud-ouest",
          "fr:bo-bun",
          "fr:bonbons-a-la-menthe",
          "fr:bonbons-aux-fruits",
          "fr:boucherie",
          "fr:brioches-aux-pralines",
          "fr:brioches-de-saint-genix",
          "fr:broyes-poitevins",
          "fr:carpaccio",
          "fr:carpaccios",
          "fr:carre-de-porc-pour-plancha-et-pierre-a-griller",
          "fr:cerises-confites",
          "fr:chicken-cordons-bleus",
          "fr:chicken-pies",
          "fr:chocolats-noir-a-croquer",
          "fr:colin-sauce-bio-basquaise",
          "fr:comple",
          "fr:compotes-de-cerise",
          "fr:compotes-de-figues",
          "fr:confiserie-aromatisee",
          "fr:confiseries-aromatisees",
          "fr:confitures-a-la-clementine-de-corse",
          "fr:cookie-brownie",
          "fr:coquillettes-au-ble-dur-complet",
          "fr:corail-d-oursin",
          "fr:cotriade",
          "fr:couteaux",
          "fr:crackers-emmental-graines-de-courge",
          "fr:crakers",
          "fr:craquants",
          "fr:creme-au-chocolat",
          "fr:creme-au-foie-de-canard",
          "fr:crudites",
          "fr:des-de-volaille",
          "fr:dessert-fruitier",
          "fr:dessert-pomme-cerise",
          "fr:dos-de-cabillaud",
          "fr:emiette",
          "fr:emiette-de-maquereau",
          "fr:emiette-de-thon",
          "fr:eminces-de-poulet",
          "fr:entrees-chaudes",
          "fr:epinards-cuisines",
          "fr:epinards-haches",
          "fr:epinards-haches-a-la-creme-surgeles",
          "fr:farines-de-chanvre",
          "fr:filet-de-colin-d-alaska",
          "fr:filets-de-maquereaux-au-curry",
          "fr:foie-gras-d-oie-entier",
          "fr:foie-gras-de-canard-entier-du-sud-ouest",
          "fr:friandises",
          "fr:fromage-frais-nature-a-3-de-matieres-grasses-environ",
          "fr:fromages-a-pate-dure-cuite",
          "fr:fruits-en-compote",
          "fr:fuet-catalan",
          "fr:galettes-sablees",
          "fr:gateau-basque",
          "fr:gateaux-aux-fruits",
          "fr:gateaux-aux-noisettes",
          "fr:gelees-de-fraises",
          "fr:gratin-de-courgettes",
          "fr:gyozas-au-poulet",
          "fr:herbes",
          "fr:jambonneaux",
          "fr:jambons-a-griller",
          "fr:jeunes-pousses",
          "fr:legume-en-bocal",
          "fr:lentilles-cuisinees",
          "fr:lieu",
          "fr:linguine-aux-oeufs",
          "fr:magret-de-canard-du-sud-ouest",
          "fr:maquereaux-a-l-huile-d-olive",
          "fr:maquereaux-a-la-biere",
          "fr:maquereaux-a-la-moutarde",
          "fr:maquereaux-a-la-tomate",
          "fr:maquereaux-au-citron",
          "fr:maquereaux-curry-et-amandes",
          "fr:maquereaux-marines-au-vin-blanc",
          "fr:marinade",
          "fr:marinades",
          "fr:mayonnaises-legeres",
          "fr:melanges-de-biscuits-souffles",
          "fr:melanges-de-cereales",
          "fr:melanges-de-salades",
          "fr:menu-fraicheur",
          "fr:meta-category",
          "fr:miettes-de-thon-blanc-a-la-tomate",
          "fr:mijotee",
          "fr:mirabelles",
          "fr:moules-au-vin-blanc",
          "fr:mousse",
          "fr:mousse-de-homard",
          "fr:mousse-de-poissons",
          "fr:mousses-de-homard",
          "fr:muffins-sales",
          "fr:noix-de-coco-en-cubes",
          "fr:nouilles-de-riz",
          "fr:oranges-sanguines",
          "fr:ovo-produits",
          "fr:pain-d-epices-foie-gras",
          "fr:pains-au-levain",
          "fr:pains-d-epices-aux-figues",
          "fr:palmiers-aux-olives",
          "fr:parmentier-de-thon",
          "fr:pates-de-sate",
          "fr:paupiettes-de-porc",
          "fr:paves-de-boeuf",
          "fr:peches-jaunes",
          "fr:pipe-rigate",
          "fr:plat",
          "fr:poissonnerie-sauricerie-negoce",
          "fr:poissons-panes-de-saumon",
          "fr:poissons-prepares",
          "fr:poitrines-fumees",
          "fr:pomme-de-terre-mac-cain",
          "fr:pommes-rissolees-surgelees",
          "fr:poudre-de-baobab",
          "fr:poudres-de-maca",
          "fr:preparation-en-cacao-maigre",
          "fr:preparations-a-tartiner-a-base-de-poisson",
          "fr:preparations-pour-sandwiches",
          "fr:preparations-pour-tabloules",
          "fr:produits-labellises",
          "fr:prune-rouge",
          "fr:quinoa-parfume-aux-epices-douces",
          "fr:rouille",
          "fr:rouilles",
          "fr:ruban-autocollant",
          "fr:salades",
          "fr:salades-au-maquereau",
          "fr:sardinade",
          "fr:sardines-a-l-huile-d-arachide",
          "fr:sardines-a-la-tapenade",
          "fr:sardines-au-muscadet-et-aux-aromates",
          "fr:sardines-aux-olives",
          "fr:sardines-chaudes",
          "fr:sardines-marinees-au-muscadet-et-aux-aromates",
          "fr:sauce-a-l-armagnac",
          "fr:sauces-au-basilic",
          "fr:sauces-crudites",
          "fr:saumon-fume-de-norvege",
          "fr:saumon-sauvage-du-pacifique",
          "fr:saumon-surgele",
          "fr:saumons-atlantique-fumes",
          "fr:saumons-fondues-de-poireaux",
          "fr:saumure",
          "fr:semoule-de-ble-dur-precuite-pour-couscous",
          "fr:sichuan",
          "fr:sirops-de-glucose",
          "fr:snaks",
          "fr:sorbets-a-l-argousier",
          "fr:soupe-artichaut-sarrasin-et-algues-de-bretagne",
          "fr:soupe-de-thon",
          "fr:specialite-de-pommes-d-abricots-et-d-acerola-sans-sucres-ajoutes",
          "fr:sucettes-sucrees",
          "fr:tablette-de-chocolat",
          "fr:tarama-au-caviar",
          "fr:taramas-aux-oeufs-de-truite",
          "fr:tartare-aux-algues",
          "fr:terrine-campagnarde",
          "fr:terrine-de-campagne-au-piment-d-espelette",
          "fr:terrine-rustique-de-canard",
          "fr:terrines-d-oie",
          "fr:terrines-de-dinde",
          "fr:terrines-de-lievre",
          "fr:terrines-de-pintade",
          "fr:terrines-de-sardine",
          "fr:the-vert-de-chine",
          "fr:thon-aux-epices",
          "fr:toast-chaud",
          "fr:tomates-cerise-olivette-bio",
          "fr:torsettes",
          "fr:vache",
          "fr:vegetarien",
          "fr:vegetarien-vegetalien",
          "fr:veloutes-de-crustaces",
          "fr:veloutes-de-homard",
          "fr:vermicelles-haricot-mungo",
          "fr:verrine",
          "fr:viandes-marinees",
          "fr:wasabi-coated-green-peas",
          "hu:Sertés Májkolbászok",
          "it:Calzone",
          "it:Fettuccine",
          "pt:avion",
          "Десерт"
         ],
         "labels": [
          "Acid gummy candies",
          "Advent calendars",
          "Alaska pollock",
          "Albacore",
          "Alimentos-y-bebidas-de-origen-vegetal-alimentos-de-origen-vegetal-untables-desayunos-untables-vegetales-untables-dulces-preparaciones-a-base-de-frutas-y-verduras-mermeladas-y-confituras-mermeladas-y-confituras-de-frutas-del-bosque-mermeladas-y-confituras-de-fresa",
          "Almond butters",
          "Almond flakes",
          "Almond meal",
          "Almond milk yogurts",
          "Almond paste",
          "Anchovy",
          "Appetizers",
          "Apple compotes",
          "Apple turnovers",
          "Apples",
          "Apples jellies",
          "Applesauces",
          "Apricot Apple compotes",
          "Apricot compotes",
          "Apricot jams",
          "Apricot yogurts",
          "Arabica ground coffees",
          "Artichoke hearts",
          "Assorted chocolate candies",
          "Assorted chocolates",
          "Assorted jams",
          "Assortiments-de-biscuits",
          "Assortments-of-compotes",
          "BCAA",
          "Bacon",
          "Baeri caviars",
          "Baguettes",
          "Baked beans in tomato sauce",
          "Banana Apple compotes",
          "Bars",
          "Basil",
          "Basmati rices",
          "Basque cake with custard",
          "Bass",
          "Batonnets-de-poisson",
          "Bayonne ham",
          "Beef",
          "Beef Cannelloni",
          "Beef carpaccio",
          "Beef dishes",
          "Beef flank steak",
          "Beef jerkies",
          "Beef livers",
          "Beef meat balls",
          "Beef meat balls with tomato sauce",
          "Beef merguez",
          "Beef rib steak",
          "Beef skewers",
          "Beef steaks",
          "Beet",
          "Berry jams",
          "Beverages",
          "Bigarade orange marmelades",
          "Bilberries jams",
          "Biscuit with a chocolate bar covering",
          "Biscuit with a milk chocolate bar covering",
          "Biscuits",
          "Biscuits and cakes",
          "Black grapes",
          "Black olives in oil",
          "Black seedless grapes",
          "Black truffles",
          "Blackberry jams",
          "Blackberry jellies",
          "Blackcurrant jams",
          "Blackcurrants jellies",
          "Blackcurrent sorbets",
          "Block of foie gras",
          "Blonde lentils",
          "Blueberry applesauces",
          "Blueberry muffins",
          "Boar terrines",
          "Bodybuilding supplements",
          "Bolognese Cannelloni",
          "Bolognese lasagne",
          "Bolognese sauces",
          "Bonbons",
          "Bonbons-bio",
          "Bottarga",
          "Bread crumbs",
          "Bread flours",
          "Breaded Alaska pollock",
          "Breaded chicken",
          "Breaded cod fish",
          "Breaded fish",
          "Breaded fish substitutes",
          "Breaded hake fish",
          "Breaded lemon sole",
          "Breaded products",
          "Breads",
          "Breads with nuts",
          "Breads with raisins",
          "Breadsticks",
          "Breakfast cereals",
          "Bresaola",
          "Bries",
          "Brioche filled with chocolate drops",
          "Brioches",
          "Brookies",
          "Brotaufstriche",
          "Brownies",
          "Brussels sprouts",
          "Buffalo burrata",
          "Bulgur",
          "Burrata",
          "Butter croissants",
          "Bœufs bourguignons",
          "Caen-style tripes",
          "Cake mixes",
          "Cakes",
          "Calissons",
          "Cambodia",
          "Camemberts from pasteurized cow milk",
          "Canary grass",
          "Candied fruits",
          "Candies",
          "Candy meringues",
          "Cane sugar",
          "Canelés",
          "Canned asparagus",
          "Canned champignon mushrooms",
          "Canned chickpeas",
          "Canned corn",
          "Canned foods",
          "Canned green asparagus",
          "Canned green beans",
          "Canned meals",
          "Canned mixed fruit in syrup",
          "Canned peas and carrots",
          "Canned prepared mixed tuna and vegetable salad",
          "Canned raviolis",
          "Canned sardines",
          "Canned tunas",
          "Canned vegetable soups",
          "Canned vegetables",
          "Canned white asparagus",
          "Canned-kidney-common-beans",
          "Cappuccino",
          "Caramel spreads",
          "Caramel yogurts",
          "Caramelized peanuts",
          "Caramels",
          "Cardoons",
          "Carrots",
          "Cashew nuts",
          "Cassoulets",
          "Cassoulets with duck confit",
          "Cayenne peppers",
          "Cereal clusters with chocolate",
          "Cereal clusters with nuts",
          "Cereal grains",
          "Cereal semolinas",
          "Cereal variety packs",
          "Cereal-milk-chocolates",
          "Cereals and their products",
          "Cereals and vegetables patties",
          "Cervelat",
          "Chaource",
          "Cheese buche from goat's milk",
          "Cheese pies",
          "Cheese ravioli",
          "Cheese sauces",
          "Cheese spreads",
          "Cheeseburgers",
          "Cheeses",
          "Cherry jams",
          "Chestnut applesauces",
          "Chestnut flours",
          "Chestnut honey",
          "Chestnut ice creams",
          "Chestnut spreads",
          "Chewing gum",
          "Chia",
          "Chicken breasts",
          "Chicken couscous",
          "Chicken curry",
          "Chicken cutlets",
          "Chicken nems",
          "Chicken nuggets",
          "Chicken rillettes",
          "Chicken risottos",
          "Chicken sandwiches",
          "Chicken tajine",
          "Chicken terrines",
          "Chicken thighs",
          "Chicken wings",
          "Chickens",
          "Chickpeas",
          "Chinese noodles",
          "Chinese nougats",
          "Chipolatas",
          "Chitterling sausage",
          "Chives",
          "Chocolate biscuits",
          "Chocolate cakes",
          "Chocolate cereals",
          "Chocolate chip cookies",
          "Chocolate covered almonds",
          "Chocolate covered cranberries",
          "Chocolate croissant",
          "Chocolate filled with praline",
          "Chocolate madeleines",
          "Chocolate mousses",
          "Chocolate powders",
          "Chocolate rabbits",
          "Chocolate stuffed wafers",
          "Chocolate truffles",
          "Chocolates",
          "Chocolates with extra fine milk",
          "Chocolates with praline",
          "Chorizo",
          "Chorizo pizzas",
          "Cigarette Russes",
          "Cinnamon powder",
          "Clementines",
          "Cloves",
          "Cockerel in red wine sauce",
          "Cockles",
          "Cocktail sausage",
          "Cocoa and chocolate powders",
          "Cocoa and hazelnuts spreads",
          "Cocoa butter",
          "Cocoa powders",
          "Coconut Macaroons",
          "Coconut sugar",
          "Coconutmilk yogurts",
          "Cod fillets",
          "Cod livers",
          "Cods",
          "Coffee desserts",
          "Coffee tiramisu",
          "Coffees",
          "Cold starters",
          "Compotes",
          "Compotes to drink",
          "Condiments-sauces-mayonnaises",
          "Confectioneries",
          "Confit",
          "Cooked Prawns",
          "Cooked chicken breast slices",
          "Cooked ham choice",
          "Cooked pork shoulder",
          "Cooked shrimps",
          "Cooked turkey breast slices",
          "Cooked whelk",
          "Cooked-drained-sauerkraut-without-garnish",
          "Cooking helpers",
          "Coppa",
          "Coriander seeds",
          "Corn chips",
          "Corn flakes",
          "Corn salad",
          "Corn semolinas",
          "Corn semolinas for polenta",
          "Cotton candy",
          "Coulommiers",
          "Country terrines",
          "Country-style Pâtés",
          "Couscous with meat",
          "Cow cheeses",
          "Crackers",
          "Cream cheeses",
          "Cream of vegetable soups",
          "Creamy puddings",
          "Crepe filled with egg ham and cheese",
          "Crisps",
          "Croissants",
          "Croutons",
          "Crunchy muesli with chocolate not fortified with vitamins and chemical elements",
          "Crunchy mueslis",
          "Crunchy peanut butters",
          "Crystallized ginger",
          "Crème brûlée",
          "Crêpes",
          "Crêpes and galettes",
          "Cured hams",
          "Cured sausages",
          "Curry powder",
          "Cut",
          "Dairies",
          "Dairy chocolate desserts",
          "Dairy desserts",
          "Dark chocolate bar for cooking with more than 40% cocoa",
          "Dark chocolate bar with less than 70% cocoa",
          "Dark chocolate bar with more than 70% cocoa",
          "Dark chocolates",
          "Dark chocolates with hazelnuts",
          "Dark chocolates with orange",
          "Dark chocolates with praline",
          "Dark chocolates with sweeteners",
          "Date syrups",
          "Dauphiné-style creamed potatoes au gratin",
          "Decorticated red lentils",
          "Deglet Noor dates",
          "Dehydrated potato flakes with milk",
          "Dehydrated soups",
          "Dessert-mixes",
          "Desserts",
          "Diced ham",
          "Dietary supplements",
          "Dill",
          "Double concentrate tomato paste",
          "Double-concentre-de-tomate",
          "Doughnuts",
          "Dragées",
          "Dried apples",
          "Dried apricots",
          "Dried cranberries",
          "Dried figs",
          "Dried fruits",
          "Dried goji",
          "Dried golden berries",
          "Dried hams",
          "Dried mangoes",
          "Dried prunes",
          "Dried shiitake mushrooms",
          "Dried tomato in oil",
          "Drinkable yogurts",
          "Dry egg pastas",
          "Dry pastas",
          "Dry sausages",
          "Duck breasts",
          "Duck dishes",
          "Duck fillets",
          "Duck gizzards",
          "Duck liver foie gras without pieces",
          "Duck mousse",
          "Duck rillettes",
          "Duck sausages",
          "Duck terrines",
          "Durum wheat macaroni",
          "Durum wheat pasta",
          "Durum wheat pasta with egg",
          "Durum wheat semolinas",
          "Durum wheat semolinas for couscous",
          "Durum wheat spaghetti",
          "Easter eggs",
          "Easter food",
          "Eastern tabbouleh",
          "Eclairs",
          "Egg pastas",
          "Egg roll with cooked shrimp",
          "Egg tagliatelle",
          "Eggplant Gratin",
          "Eggplant caviar",
          "Emmentaler",
          "Energy bars",
          "English muffins",
          "Epicerie",
          "Extra fine dark chocolates",
          "Extruded crispbreads",
          "Extruded flakes",
          "Faiselles",
          "Fajitas",
          "Falafels",
          "Fennel seeds",
          "Fermented foods",
          "Fig chutneys",
          "Figs",
          "Figs jams",
          "Filets-de-poulet",
          "Filled biscuits",
          "Filled cakes",
          "Filled cereals",
          "Filled chocolate eggs",
          "Filled crêpes with chocolate",
          "Filled dark chocolates",
          "Filled milk chocolates",
          "Filled sponge cake slices",
          "Filled-sponge-cake-rolls",
          "Financiers",
          "Fish fingers",
          "Fish hamburgers",
          "Fish patties",
          "Fish rillettes",
          "Fish soups",
          "Fish spreads",
          "Fish-croquette-fritter",
          "Fishes",
          "Flavored and colored dry pastas",
          "Flavoured white chocolates",
          "Flavoured yogurts",
          "Flower honeys",
          "Focaccia",
          "Foies gras",
          "Foies gras from ducks",
          "Foies gras from gooses",
          "Foies gras pâtés",
          "Fondants",
          "Food colorings",
          "Food decorations",
          "Fortune-cookies",
          "Four Cheese Pizza",
          "Fourme d'Ambert cheese from cow's milk",
          "Frankfurter sausages",
          "French bread ball with yeast",
          "French candies",
          "French confectioneries",
          "Fresh Brussels sprouts",
          "Fresh apples",
          "Fresh apricots",
          "Fresh aubergines",
          "Fresh blueberries",
          "Fresh broccoli",
          "Fresh carrots",
          "Fresh clementines",
          "Fresh grapes",
          "Fresh green beans",
          "Fresh ground beef preparations",
          "Fresh ground beef steaks",
          "Fresh kiwifruits",
          "Fresh leeks",
          "Fresh lemons",
          "Fresh mandarin oranges",
          "Fresh meals",
          "Fresh meats",
          "Fresh nectarines",
          "Fresh onions",
          "Fresh oranges",
          "Fresh peaches",
          "Fresh pears",
          "Fresh plant-based foods",
          "Fresh plums",
          "Fresh raspberries",
          "Fresh red onions",
          "Fresh red radishes",
          "Fresh spinachs",
          "Fresh strawberries",
          "Fresh sweet corn",
          "Fresh sweet peppers",
          "Fresh tabbouleh",
          "Fresh tomatoes",
          "Fresh turnips",
          "Fresh zucchini",
          "Fried foods",
          "Fried rice",
          "Fromages-fondus",
          "Frozen baby carrots",
          "Frozen basil",
          "Frozen broccolis",
          "Frozen cauliflower florets",
          "Frozen cooked dauphine potato",
          "Frozen cooked duchesse potato",
          "Frozen cooked pre-fried potato cubes",
          "Frozen duchesse potatoes",
          "Frozen fish in sauce",
          "Frozen fishes",
          "Frozen foods",
          "Frozen fries",
          "Frozen green beans",
          "Frozen ground beef preparations",
          "Frozen ground beef steaks",
          "Frozen hake fillet",
          "Frozen lasagne",
          "Frozen leeks",
          "Frozen meat preparations",
          "Frozen microwave fries",
          "Frozen mixed vegetables",
          "Frozen pizzas",
          "Frozen potato rostis",
          "Frozen potatoes",
          "Frozen pre-fried mashed potato balls",
          "Frozen ready-made meals",
          "Frozen roasted French fries",
          "Frozen snacks and starters",
          "Frozen spinachs",
          "Frozen vegetable soups",
          "Frozen vegetables",
          "Frozen-pre-fried-potato-cubes",
          "Fruit and vegetable preserves",
          "Fruit cakes",
          "Fruit curds",
          "Fruit jellies",
          "Fruit muffins",
          "Fruit pastes",
          "Fruit skyrs",
          "Fruit stirred yogurts",
          "Fruit yogurts",
          "Fruit yogurts with fruit chunks",
          "Fruit-based beverages",
          "Fruits",
          "Fruits based foods",
          "Fruits compote with reduced sugar",
          "Fruits desserts",
          "Fruits puree without sugar added",
          "Fusilli",
          "Gala apples",
          "Garlic sausage",
          "Gateaux",
          "Gateaux-marbres",
          "Gaufrettes-fourres-vanille",
          "Gelatin",
          "Gherkins",
          "Ginger",
          "Ginger powder",
          "Gingerbreads",
          "Gluten-free breads",
          "Gluten-free sliced breads",
          "Gnocchi",
          "Goat cheeses",
          "Golden Delicious apples",
          "Goose rillettes",
          "Gouda",
          "Grana Padano",
          "Granulated sugars",
          "Grated cheese",
          "Grated coconut",
          "Grated emmentaler",
          "Greek-style yogurts",
          "Green asparagus",
          "Green beans",
          "Green grapes",
          "Green lentils",
          "Green olives stuffed of peppers",
          "Green pitted olives",
          "Green seedless grapes",
          "Green tapenades",
          "Green teas with mint",
          "Greengage plum jams",
          "Grenaille potatoes",
          "Grilled peppers",
          "Groceries",
          "Ground beef meats",
          "Ground beef preparations",
          "Ground beef steaks",
          "Ground black peppers",
          "Ground coffees",
          "Ground cumin seedskumin",
          "Ground meat preparations",
          "Ground meats",
          "Ground white peppers",
          "Grounded grey peppers",
          "Gummi candies",
          "Half-salted butter",
          "Halloween foods and drinks",
          "Ham and butter sandwiches",
          "Hams",
          "Hazelnut spreads",
          "Hazelnuts powder",
          "Head cheese",
          "Herbal teas",
          "Herbes de Provence",
          "Herbs",
          "Herring fillets",
          "Hollow chocolate eggs",
          "Honey candies",
          "Honeys",
          "Honeys from France",
          "Honeys from the mountains",
          "Hot dog sandwiches",
          "Hummus",
          "Ice cream bars",
          "Ice cream cones",
          "Ice creams",
          "Industrial cheese",
          "Industrial knacks",
          "Instant noodle soups",
          "Instant noodles",
          "Jaffa cakes",
          "Jams",
          "Japanese ravioli",
          "Jasmine rice",
          "Jelly beans",
          "King cakes",
          "Kiwifruits",
          "Knuckle of ham cooked",
          "Kumquats",
          "Labeled-cheeses",
          "Lamb meat",
          "Lardons",
          "Lasagna sheets",
          "Latte macchiato",
          "Leaf salads",
          "Leek quiche",
          "Leeks fondue",
          "Legume flours",
          "Lemon curds",
          "Lemon sorbets",
          "Lemon tarts",
          "Lentils",
          "Lettuces",
          "Licensed products",
          "Light compotes",
          "Linguine",
          "Liquid caramel",
          "Lollipops",
          "Long grain rices",
          "Lorraine quiche",
          "Low sugar fruit jam",
          "Lump sugar",
          "Luxury ice cream in a box",
          "Macarons",
          "Mackerel",
          "Mackerel fillets",
          "Mackerel fillets in mustard sauce",
          "Mackerel fillets in white wine and herbs",
          "Mackerel rillettes",
          "Mackerels",
          "Madeleines",
          "Mandarin jams",
          "Mandarin sorbets",
          "Mango applesauces",
          "Mango chutneys",
          "Mango compotes",
          "Mangoes in syrup",
          "Manuka honeys",
          "Marble cakes",
          "Margarines",
          "Margherita Pizza",
          "Marinated anchovy fillets with vegetable oil",
          "Marmalades",
          "Marrons glacés",
          "Marshmallows",
          "Marshmallows coated with chocolate",
          "Mayonnaises",
          "Mazafati dates",
          "Meals",
          "Meals with chicken",
          "Meals with fish",
          "Meals with meat",
          "Meat analogues",
          "Meat patties",
          "Meat preparations",
          "Meats",
          "Melon jams",
          "Melon sorbets",
          "Melted cheese",
          "Meringues",
          "Microwave fries",
          "Microwave meals",
          "Milk bread rolls",
          "Milk bread rolls with chocolate",
          "Milk chocolate candies",
          "Milk chocolate with caramel",
          "Milk chocolates",
          "Milk chocolates with fleur de sel",
          "Milk chocolates with hazelnuts",
          "Milk chocolates with sweeteners",
          "Milk-chocolate-with-orange-oil",
          "Minced beef steak with 15% fat",
          "Minced beef steak with 5% fat",
          "Mint",
          "Mirabelle plum jams",
          "Mix of cereals and legumes",
          "Mixed berry jams",
          "Mixed fruit jams",
          "Mixes for panna cotta",
          "Mochi",
          "Molded butters",
          "Molten chocolate cakes",
          "Mortadella with pistachios pure pork",
          "Mozzarella",
          "Mozzarella di Bufala Campana",
          "Mueslis",
          "Mueslis with chocolate",
          "Mueslis with fruits",
          "Multifruit pastes",
          "Multifruit sorbets",
          "Multigrain sliced breads",
          "Munster",
          "Nems",
          "Non-dairy desserts",
          "Non-dairy yogurts",
          "Noodles",
          "Nori seaweeds",
          "Norman-style pies",
          "Nougats",
          "Nutmeg",
          "Nuts",
          "Nuts and their products",
          "Old Goudas",
          "Olive veal",
          "Open Beauty Facts",
          "Open pies",
          "Orange jams",
          "Oranges",
          "Oregano",
          "Paella",
          "Pains de campagne",
          "Pains-au-lait-natures",
          "Pan-fried dishes",
          "Paprika",
          "Parboiled rices",
          "Parmigiano-Reggiano",
          "Parsley",
          "Pasta dishes",
          "Pasta gratin",
          "Pastas",
          "Pasteurized cheeses",
          "Peach applesauce",
          "Peach jams",
          "Peanut butters",
          "Peanuts",
          "Pear applesauces",
          "Pear jams",
          "Pear sorbets",
          "Pecan nuts",
          "Peeled tomatoes",
          "Penne rigate",
          "Pepperoni pizzas",
          "Petit-Beurre",
          "Pheasant terrines",
          "Pickled gherkins",
          "Pine nuts",
          "Pineapple in syrup",
          "Pineapple jams",
          "Pistachio ice cream tubs",
          "Pitted dates",
          "Pizza with ham and cheese",
          "Pizzas",
          "Plain buckwheat crepes",
          "Plain corn flakes",
          "Plain corn flakes fortified with vitamins and chemical elements",
          "Plain crepes",
          "Plain lardons",
          "Plain madeleines",
          "Plain salty snacks",
          "Plain skyrs",
          "Plain sprits biscuits",
          "Plain yogurt with sugar",
          "Plant milk chocolates",
          "Plant-based foods",
          "Plant-based meals",
          "Plant-based pâtés",
          "Plum sorbets",
          "Polenta",
          "Pollock fillets",
          "Pork",
          "Pork belly",
          "Pork filet mignon",
          "Pork knuckle",
          "Pork meals",
          "Pork nems",
          "Pork racks",
          "Pork ribs",
          "Pork rillettes",
          "Pork roasts",
          "Pork salami",
          "Pork shoulders",
          "Pork terrines",
          "Potato crisps in sunflower oil",
          "Potato gnocchi",
          "Potatoes",
          "Potted parsley",
          "Poultry hams",
          "Poultry sausages",
          "Poultry terrines",
          "Pound Cake",
          "Powdered sugars",
          "Preparations made from crabs",
          "Preparations-made-from-fish-meat",
          "Prepared bruschetta toasts",
          "Prepared couscous",
          "Prepared meats",
          "Prepared rices",
          "Preserved pork liver",
          "Preserved poultry liver",
          "Pretzel",
          "Produits-laitiers",
          "Protein bars",
          "Protein powders",
          "Puff pastry sheets",
          "Puffed corn cakes",
          "Puffed corn cakes with black chocolate",
          "Puffed multigrain cakes",
          "Puffed rice",
          "Puffed rice cakes",
          "Puffed rice cakes with black chocolate",
          "Puffed rice cakes with milk chocolate",
          "Puffed salty snacks",
          "Puffed salty snacks made from maize",
          "Puffed spelt cakes",
          "Puffed wholegrain rice cakes",
          "Pulses",
          "Pumpkin seeds",
          "Pure beef merguez sausage",
          "Pure butter brioche",
          "Purple asparagus",
          "Pâté in crust",
          "Quiches",
          "Quince jellies",
          "Quinoa",
          "Quinoa dishes",
          "Rabbit terrines",
          "Raclette",
          "Raisins",
          "Ras el hanout",
          "Raspberry applesauces",
          "Raspberry jams",
          "Raspberry yogurts",
          "Ratatouille",
          "Ravioli",
          "Ravioli with ricotta and spinach",
          "Raw-cured-ham",
          "Raw-sausage-meat-with-pure-pork",
          "Raw-spinach-young-leaves",
          "Reblochon",
          "Reconstituted turkey breast slices",
          "Red beans",
          "Redcurrants jams",
          "Redcurrants jellies",
          "Refrigerated chocolate creamy puddings",
          "Refrigerated falafel",
          "Refrigerated fruits compote with reduced sugar",
          "Refrigerated meals",
          "Regina pizza",
          "Relish",
          "Rhubarb applesauces",
          "Rhubarb jams",
          "Rhubarbs",
          "Rice flours",
          "Rice paper",
          "Rice puddings",
          "Rice vermicelli",
          "Rices",
          "Rigatoni",
          "Rillettes from Mans",
          "Rillettes pure pork",
          "Risotto with seafood",
          "Riz-au-lait-saveur-vanille",
          "Roasted hazelnuts",
          "Roasted peanuts",
          "Roasted pistachios",
          "Rocket",
          "Rolled oats",
          "Rosehip jams",
          "Rosette dry sausage",
          "Rostis",
          "Rum baba",
          "Rye breads",
          "Saint-Marcellin",
          "Saint-Paulin cheese",
          "Saithe",
          "Salads",
          "Salami",
          "Salmon fillets",
          "Salmon pizza",
          "Salmon roe",
          "Salmon steaks",
          "Salmons",
          "Salmons from farming",
          "Salt-cured pork belly with lentils",
          "Salted butter caramels",
          "Salted peanuts",
          "Salted pistachios",
          "Salted spreads",
          "Salts",
          "Salty Fritters",
          "Salty palmiers",
          "Salty snacks",
          "Salty snacks made from potato",
          "Samosas",
          "Sardine fillets",
          "Sardine fillets in olive oil",
          "Sardines in oil",
          "Sardines in oil and chili",
          "Sardines in oil and lemon",
          "Sardines in olive oil",
          "Sardines in sunflower oil",
          "Sardines in tomato sauce",
          "Sauces",
          "Sausage meat",
          "Sausages",
          "Sausages with lentils",
          "Sautéed Potatoes",
          "Sautéed black pudding",
          "Savory mousses",
          "Savoury-cake-with-cheese-vegetables-meat-fish-poultry",
          "Savoy-style sponge cake",
          "Scallop",
          "Seafood",
          "Semolina puddings",
          "Serrano ham",
          "Sheep dishes",
          "Sheep meat",
          "Shelled almonds",
          "Shelled hazelnuts",
          "Shepherd's pie",
          "Shepherd's pie with duck",
          "Shortbread",
          "Shortbread cookies",
          "Shortbread cookies from Brittany",
          "Shrimp risottos",
          "Shrimps",
          "Skewers",
          "Skipjack tuna",
          "Skyrs",
          "Sliced breads",
          "Sliced cheeses",
          "Small brioches",
          "Smoked cured hams",
          "Smoked lardons",
          "Smoked salmons",
          "Smoked salmons from farming",
          "Smoked sausages",
          "Smoked trouts",
          "Smoked tunas",
          "Smoked-duck-brests",
          "Snacks",
          "Snacks variety packs",
          "Snacks-snacks-sucres-cacao-et-derives-chocolats-chocolats-noirs",
          "Snacks-sucres",
          "Snails",
          "Sorbets",
          "Soups",
          "Spaghetti",
          "Spanish omelettes",
          "Speculoos",
          "Spice Mix",
          "Spinach with cream sauce",
          "Spinachs",
          "Spirulina",
          "Sponge fingers biscuit",
          "Sponge sandwich cake filled and topped with strawberries",
          "Sprits biscuits",
          "Star anise",
          "Starches",
          "Strasbourg sausages",
          "Strawberries",
          "Strawberry applesauces",
          "Strawberry jams",
          "Stuffed pastas",
          "Stuffed tomatoes",
          "Stuffed waffles",
          "Stuffing",
          "Sugared crêpes",
          "Sugared popcorn",
          "Sugars",
          "Sunflower seeds",
          "Surimi",
          "Surimi on sticks",
          "Swedish-style pork and beef meat balls",
          "Sweet Fritters",
          "Sweet and sour sauces",
          "Sweet cream butters",
          "Sweet mousses",
          "Sweet potatoes",
          "Sweet snacks",
          "Sweetened beverages",
          "Sweeteners",
          "Syrups",
          "Tabbouleh",
          "Tagliatelle",
          "Tapenades",
          "Tapioca",
          "Taramasalata",
          "Tarragon",
          "Tartiflettes",
          "Tartlet biscuits with fruit preparation",
          "Teas",
          "Teriyaki sauces",
          "Terrines",
          "Three Cheese Pizza",
          "Thyme",
          "Tinned Mackerels",
          "Tiramisu",
          "Toasted bread rolls",
          "Toasted ham sandwich topped with grated cheese",
          "Toasts",
          "Tomato jams",
          "Tomato pastes",
          "Tomato pulps",
          "Tomato sauces",
          "Tomatoes",
          "Tortellini",
          "Toulouse sausages",
          "Traditional French baguette",
          "Tripe",
          "Tripoux",
          "Tropical fruit jams",
          "Trout rillettes",
          "Trout terrines",
          "Trouts",
          "Tuna chunks",
          "Tuna fillets",
          "Tuna in Catalan-style",
          "Tuna in brine",
          "Tuna lasagna",
          "Tuna samosas",
          "Tuna spreads",
          "Tunas",
          "Tunas in oil",
          "Tunas in sunflower oil",
          "Turkey cordons bleus",
          "Turkeys",
          "Turmeric powder",
          "Udon",
          "Unsalted butters",
          "Unsweetened beverages",
          "Vanilla flavored rice pudding",
          "Vanilla ice cream tubs",
          "Vanilla sugars",
          "Veal blanquette",
          "Veal sausages",
          "Vegan chocolate mousses",
          "Vegan creamy puddings",
          "Vegetable cakes",
          "Vegetable gyoza",
          "Vegetable nems",
          "Vegetable-jams",
          "Vegetables terrines",
          "Vegetarian balls",
          "Vegetarian patties",
          "Viande",
          "Viandes",
          "Viandes-charcuteries-jambons-jambons-blancs",
          "Vienna bread",
          "Viennoiseries",
          "Wafers",
          "Walnut kernels",
          "Walnuts",
          "Watermelon jams",
          "Wheat flour type 55 for bread",
          "Wheat flour type 65",
          "Wheat semolinas",
          "Wheats",
          "Whisky",
          "White Basmati rices",
          "White Jasmine rices",
          "White beans",
          "White chocolates",
          "White hams",
          "White hams with less salt",
          "White rices",
          "White smoked hams",
          "White wheat flours",
          "Whole almonds",
          "Whole black olives",
          "Whole champignon mushrooms",
          "Whole cumin seeds",
          "Whole foies gras",
          "Whole foies gras from ducks",
          "Whole green olives",
          "Whole or semi-whole durum wheat farfalle",
          "Whole-wheat-spaghetti",
          "Wild boars",
          "Wild salmons",
          "Yogurt cake",
          "Yogurt with fruits no 0% fat",
          "Yogurts",
          "Yogurts high in protein on a fruit layer",
          "bg:Картофени ноазети",
          "de:Schwarzwälder Schinken",
          "de:instant-suppe",
          "de:tafelschokolade",
          "es:Fusilli de trigo duro",
          "es:Salchichón de Vic",
          "es:galletas-con-tableta-de-chocolate-con-leche",
          "fr:Aiguillettes de poulet",
          "fr:Allumettes de porc",
          "fr:Andouillettes",
          "fr:Andouillettes de Troyes",
          "fr:Andouillettes provençales",
          "fr:Arômes pâtisserie",
          "fr:Assortiments chipolatas et merguez",
          "fr:Barres aux fruits",
          "fr:Barres chocolatées fourrées aux fruits",
          "fr:Bigorneaux",
          "fr:Biscottes de froment",
          "fr:Blancs de poulet aux herbes",
          "fr:Blinis",
          "fr:Bloc de foie gras avec morceaux",
          "fr:Boulettes de poissons",
          "fr:Brillat-Savarin",
          "fr:Brioches Vendéennes",
          "fr:Brioches aux fruits",
          "fr:Brioches tranchées",
          "fr:Brioches tressées",
          "fr:Charcuteries cuites",
          "fr:Charcuteries à cuire",
          "fr:Chipolatas aux herbes",
          "fr:Compotes pommes pruneau",
          "fr:Compotes pommes vanille",
          "fr:Compotes sans sucres",
          "fr:Coquillettes",
          "fr:Coquillettes de blé dur",
          "fr:Crevettes décortiquées",
          "fr:Croissants ordinaires",
          "fr:Croquettes de pommes de terre surgelées",
          "fr:Crêpes au jambon",
          "fr:Crêpes de froment",
          "fr:Céréales préparées",
          "fr:Farfalles",
          "fr:Farines de patate douce",
          "fr:Filets d'anchois marinés à la Provençale",
          "fr:Filets de lieu noir",
          "fr:Filets de truite",
          "fr:Foies de lotte",
          "fr:Foies gras mi-cuits",
          "fr:Fondant au chocolat",
          "fr:Fougasses aux lardons",
          "fr:Fromages blancs",
          "fr:Fromages blancs aromatisés",
          "fr:Fromages blancs natures",
          "fr:Glaces aux noisettes",
          "fr:Grattons de canard",
          "fr:Gâche vendéenne",
          "fr:Gâches",
          "fr:Laits entiers concentrés",
          "fr:Lentille verte du Puy",
          "fr:Lot",
          "fr:Lunettes à la myrtille",
          "fr:Merguez",
          "fr:Mousses au chocolat noir",
          "fr:Mousses de foies",
          "fr:Mousses de foies de volailles",
          "fr:Orangettes",
          "fr:Pains d'épices au miel",
          "fr:Pains multicéréales",
          "fr:Plats susceptibles de contenir de la viande de cheval - lots retirés de la vente en février 2013",
          "fr:Pommes dauphines",
          "fr:Poêlées à la landaise",
          "fr:Poêlées à la sarladaise",
          "fr:Pruneaux d'Agen",
          "fr:Préfous",
          "fr:Ravioles",
          "fr:Rillettes de Saint-Jacques",
          "fr:Rillettes de poulet rôti",
          "fr:Rochers au chocolat",
          "fr:Rochers au chocolat au lait",
          "fr:Rochers au chocolat noir",
          "fr:Sardines à l'ancienne",
          "fr:Saucisses sèches",
          "fr:Saucissons cuits",
          "fr:Sels fins",
          "fr:Terrines de foie de volaille",
          "fr:Thon-crudités",
          "fr:Thons albacore au naturel",
          "fr:Thons blancs au naturel",
          "fr:Tomates entières pelées au jus",
          "fr:Tortellini au fromage",
          "fr:Tuile aux amandes",
          "fr:Veloutés de légumes verts",
          "fr:Yaourts multifruits",
          "fr:algues-grillees",
          "fr:aliments-a-base-de-plantes-seches",
          "fr:amandes-de-mer",
          "fr:amandine-aux-poires",
          "fr:aromates",
          "fr:axoa-de-canard",
          "fr:beignets",
          "fr:beignets-a-l-abricot",
          "fr:beignets-au-chocolat",
          "fr:bisque",
          "fr:bloc-de-foie-gras-de-canard-du-sud-ouest",
          "fr:bo-bun",
          "fr:bonbons-a-la-menthe",
          "fr:bonbons-aux-fruits",
          "fr:boucherie",
          "fr:brioches-aux-pralines",
          "fr:brioches-de-saint-genix",
          "fr:broyes-poitevins",
          "fr:carpaccio",
          "fr:carpaccios",
          "fr:carre-de-porc-pour-plancha-et-pierre-a-griller",
          "fr:cerises-confites",
          "fr:chicken-cordons-bleus",
          "fr:chicken-pies",
          "fr:chocolats-noir-a-croquer",
          "fr:colin-sauce-bio-basquaise",
          "fr:comple",
          "fr:compotes-de-cerise",
          "fr:compotes-de-figues",
          "fr:confiserie-aromatisee",
          "fr:confiseries-aromatisees",
          "fr:confitures-a-la-clementine-de-corse",
          "fr:cookie-brownie",
          "fr:coquillettes-au-ble-dur-complet",
          "fr:corail-d-oursin",
          "fr:cotriade",
          "fr:couteaux",
          "fr:crackers-emmental-graines-de-courge",
          "fr:crakers",
          "fr:craquants",
          "fr:creme-au-chocolat",
          "fr:creme-au-foie-de-canard",
          "fr:crudites",
          "fr:des-de-volaille",
          "fr:dessert-fruitier",
          "fr:dessert-pomme-cerise",
          "fr:dos-de-cabillaud",
          "fr:emiette",
          "fr:emiette-de-maquereau",
          "fr:emiette-de-thon",
          "fr:eminces-de-poulet",
          "fr:entrees-chaudes",
          "fr:epinards-cuisines",
          "fr:epinards-haches",
          "fr:epinards-haches-a-la-creme-surgeles",
          "fr:farines-de-chanvre",
          "fr:filet-de-colin-d-alaska",
          "fr:filets-de-maquereaux-au-curry",
          "fr:foie-gras-d-oie-entier",
          "fr:foie-gras-de-canard-entier-du-sud-ouest",
          "fr:friandises",
          "fr:fromage-frais-nature-a-3-de-matieres-grasses-environ",
          "fr:fromages-a-pate-dure-cuite",
          "fr:fruits-en-compote",
          "fr:fuet-catalan",
          "fr:galettes-sablees",
          "fr:gateau-basque",
          "fr:gateaux-aux-fruits",
          "fr:gateaux-aux-noisettes",
          "fr:gelees-de-fraises",
          "fr:gratin-de-courgettes",
          "fr:gyozas-au-poulet",
          "fr:herbes",
          "fr:jambonneaux",
          "fr:jambons-a-griller",
          "fr:jeunes-pousses",
          "fr:legume-en-bocal",
          "fr:lentilles-cuisinees",
          "fr:lieu",
          "fr:linguine-aux-oeufs",
          "fr:magret-de-canard-du-sud-ouest",
          "fr:maquereaux-a-l-huile-d-olive",
          "fr:maquereaux-a-la-biere",
          "fr:maquereaux-a-la-moutarde",
          "fr:maquereaux-a-la-tomate",
          "fr:maquereaux-au-citron",
          "fr:maquereaux-curry-et-amandes",
          "fr:maquereaux-marines-au-vin-blanc",
          "fr:marinade",
          "fr:marinades",
          "fr:mayonnaises-legeres",
          "fr:melanges-de-biscuits-souffles",
          "fr:melanges-de-cereales",
          "fr:melanges-de-salades",
          "fr:menu-fraicheur",
          "fr:meta-category",
          "fr:miettes-de-thon-blanc-a-la-tomate",
          "fr:mijotee",
          "fr:mirabelles",
          "fr:moules-au-vin-blanc",
          "fr:mousse",
          "fr:mousse-de-homard",
          "fr:mousse-de-poissons",
          "fr:mousses-de-homard",
          "fr:muffins-sales",
          "fr:noix-de-coco-en-cubes",
          "fr:nouilles-de-riz",
          "fr:oranges-sanguines",
          "fr:ovo-produits",
          "fr:pain-d-epices-foie-gras",
          "fr:pains-au-levain",
          "fr:pains-d-epices-aux-figues",
          "fr:palmiers-aux-olives",
          "fr:parmentier-de-thon",
          "fr:pates-de-sate",
          "fr:paupiettes-de-porc",
          "fr:paves-de-boeuf",
          "fr:peches-jaunes",
          "fr:pipe-rigate",
          "fr:plat",
          "fr:poissonnerie-sauricerie-negoce",
          "fr:poissons-panes-de-saumon",
          "fr:poissons-prepares",
          "fr:poitrines-fumees",
          "fr:pomme-de-terre-mac-cain",
          "fr:pommes-rissolees-surgelees",
          "fr:poudre-de-baobab",
          "fr:poudres-de-maca",
          "fr:preparation-en-cacao-maigre",
          "fr:preparations-a-tartiner-a-base-de-poisson",
          "fr:preparations-pour-sandwiches",
          "fr:preparations-pour-tabloules",
          "fr:produits-labellises",
          "fr:prune-rouge",
          "fr:quinoa-parfume-aux-epices-douces",
          "fr:rouille",
          "fr:rouilles",
          "fr:ruban-autocollant",
          "fr:salades",
          "fr:salades-au-maquereau",
          "fr:sardinade",
          "fr:sardines-a-l-huile-d-arachide",
          "fr:sardines-a-la-tapenade",
          "fr:sardines-au-muscadet-et-aux-aromates",
          "fr:sardines-aux-olives",
          "fr:sardines-chaudes",
          "fr:sardines-marinees-au-muscadet-et-aux-aromates",
          "fr:sauce-a-l-armagnac",
          "fr:sauces-au-basilic",
          "fr:sauces-crudites",
          "fr:saumon-fume-de-norvege",
          "fr:saumon-sauvage-du-pacifique",
          "fr:saumon-surgele",
          "fr:saumons-atlantique-fumes",
          "fr:saumons-fondues-de-poireaux",
          "fr:saumure",
          "fr:semoule-de-ble-dur-precuite-pour-couscous",
          "fr:sichuan",
          "fr:sirops-de-glucose",
          "fr:snaks",
          "fr:sorbets-a-l-argousier",
          "fr:soupe-artichaut-sarrasin-et-algues-de-bretagne",
          "fr:soupe-de-thon",
          "fr:specialite-de-pommes-d-abricots-et-d-acerola-sans-sucres-ajoutes",
          "fr:sucettes-sucrees",
          "fr:tablette-de-chocolat",
          "fr:tarama-au-caviar",
          "fr:taramas-aux-oeufs-de-truite",
          "fr:tartare-aux-algues",
          "fr:terrine-campagnarde",
          "fr:terrine-de-campagne-au-piment-d-espelette",
          "fr:terrine-rustique-de-canard",
          "fr:terrines-d-oie",
          "fr:terrines-de-dinde",
          "fr:terrines-de-lievre",
          "fr:terrines-de-pintade",
          "fr:terrines-de-sardine",
          "fr:the-vert-de-chine",
          "fr:thon-aux-epices",
          "fr:toast-chaud",
          "fr:tomates-cerise-olivette-bio",
          "fr:torsettes",
          "fr:vache",
          "fr:vegetarien",
          "fr:vegetarien-vegetalien",
          "fr:veloutes-de-crustaces",
          "fr:veloutes-de-homard",
          "fr:vermicelles-haricot-mungo",
          "fr:verrine",
          "fr:viandes-marinees",
          "fr:wasabi-coated-green-peas",
          "hu:Sertés Májkolbászok",
          "it:Calzone",
          "it:Fettuccine",
          "pt:avion",
          "Десерт"
         ],
         "marker": {
          "colors": [
           "#636efa",
           "#EF553B",
           "#00cc96",
           "#ab63fa",
           "#FFA15A",
           "#19d3f3",
           "#FF6692",
           "#B6E880",
           "#FF97FF",
           "#FECB52",
           "#636efa",
           "#EF553B",
           "#00cc96",
           "#ab63fa",
           "#FFA15A",
           "#19d3f3",
           "#FF6692",
           "#B6E880",
           "#FF97FF",
           "#FECB52",
           "#636efa",
           "#EF553B",
           "#00cc96",
           "#ab63fa",
           "#FFA15A",
           "#19d3f3",
           "#FF6692",
           "#B6E880",
           "#FF97FF",
           "#FECB52",
           "#636efa",
           "#EF553B",
           "#00cc96",
           "#ab63fa",
           "#FFA15A",
           "#19d3f3",
           "#FF6692",
           "#B6E880",
           "#FF97FF",
           "#FECB52",
           "#636efa",
           "#EF553B",
           "#00cc96",
           "#ab63fa",
           "#FFA15A",
           "#19d3f3",
           "#FF6692",
           "#B6E880",
           "#FF97FF",
           "#FECB52",
           "#636efa",
           "#EF553B",
           "#00cc96",
           "#ab63fa",
           "#FFA15A",
           "#19d3f3",
           "#FF6692",
           "#B6E880",
           "#FF97FF",
           "#FECB52",
           "#636efa",
           "#EF553B",
           "#00cc96",
           "#ab63fa",
           "#FFA15A",
           "#19d3f3",
           "#FF6692",
           "#B6E880",
           "#FF97FF",
           "#FECB52",
           "#636efa",
           "#EF553B",
           "#00cc96",
           "#ab63fa",
           "#FFA15A",
           "#19d3f3",
           "#FF6692",
           "#B6E880",
           "#FF97FF",
           "#FECB52",
           "#636efa",
           "#EF553B",
           "#00cc96",
           "#ab63fa",
           "#FFA15A",
           "#19d3f3",
           "#FF6692",
           "#B6E880",
           "#FF97FF",
           "#FECB52",
           "#636efa",
           "#EF553B",
           "#00cc96",
           "#ab63fa",
           "#FFA15A",
           "#19d3f3",
           "#FF6692",
           "#B6E880",
           "#FF97FF",
           "#FECB52",
           "#636efa",
           "#EF553B",
           "#00cc96",
           "#ab63fa",
           "#FFA15A",
           "#19d3f3",
           "#FF6692",
           "#B6E880",
           "#FF97FF",
           "#FECB52",
           "#636efa",
           "#EF553B",
           "#00cc96",
           "#ab63fa",
           "#FFA15A",
           "#19d3f3",
           "#FF6692",
           "#B6E880",
           "#FF97FF",
           "#FECB52",
           "#636efa",
           "#EF553B",
           "#00cc96",
           "#ab63fa",
           "#FFA15A",
           "#19d3f3",
           "#FF6692",
           "#B6E880",
           "#FF97FF",
           "#FECB52",
           "#636efa",
           "#EF553B",
           "#00cc96",
           "#ab63fa",
           "#FFA15A",
           "#19d3f3",
           "#FF6692",
           "#B6E880",
           "#FF97FF",
           "#FECB52",
           "#636efa",
           "#EF553B",
           "#00cc96",
           "#ab63fa",
           "#FFA15A",
           "#19d3f3",
           "#FF6692",
           "#B6E880",
           "#FF97FF",
           "#FECB52",
           "#636efa",
           "#EF553B",
           "#00cc96",
           "#ab63fa",
           "#FFA15A",
           "#19d3f3",
           "#FF6692",
           "#B6E880",
           "#FF97FF",
           "#FECB52",
           "#636efa",
           "#EF553B",
           "#00cc96",
           "#ab63fa",
           "#FFA15A",
           "#19d3f3",
           "#FF6692",
           "#B6E880",
           "#FF97FF",
           "#FECB52",
           "#636efa",
           "#EF553B",
           "#00cc96",
           "#ab63fa",
           "#FFA15A",
           "#19d3f3",
           "#FF6692",
           "#B6E880",
           "#FF97FF",
           "#FECB52",
           "#636efa",
           "#EF553B",
           "#00cc96",
           "#ab63fa",
           "#FFA15A",
           "#19d3f3",
           "#FF6692",
           "#B6E880",
           "#FF97FF",
           "#FECB52",
           "#636efa",
           "#EF553B",
           "#00cc96",
           "#ab63fa",
           "#FFA15A",
           "#19d3f3",
           "#FF6692",
           "#B6E880",
           "#FF97FF",
           "#FECB52",
           "#636efa",
           "#EF553B",
           "#00cc96",
           "#ab63fa",
           "#FFA15A",
           "#19d3f3",
           "#FF6692",
           "#B6E880",
           "#FF97FF",
           "#FECB52",
           "#636efa",
           "#EF553B",
           "#00cc96",
           "#ab63fa",
           "#FFA15A",
           "#19d3f3",
           "#FF6692",
           "#B6E880",
           "#FF97FF",
           "#FECB52",
           "#636efa",
           "#EF553B",
           "#00cc96",
           "#ab63fa",
           "#FFA15A",
           "#19d3f3",
           "#FF6692",
           "#B6E880",
           "#FF97FF",
           "#FECB52",
           "#636efa",
           "#EF553B",
           "#00cc96",
           "#ab63fa",
           "#FFA15A",
           "#19d3f3",
           "#FF6692",
           "#B6E880",
           "#FF97FF",
           "#FECB52",
           "#636efa",
           "#EF553B",
           "#00cc96",
           "#ab63fa",
           "#FFA15A",
           "#19d3f3",
           "#FF6692",
           "#B6E880",
           "#FF97FF",
           "#FECB52",
           "#636efa",
           "#EF553B",
           "#00cc96",
           "#ab63fa",
           "#FFA15A",
           "#19d3f3",
           "#FF6692",
           "#B6E880",
           "#FF97FF",
           "#FECB52",
           "#636efa",
           "#EF553B",
           "#00cc96",
           "#ab63fa",
           "#FFA15A",
           "#19d3f3",
           "#FF6692",
           "#B6E880",
           "#FF97FF",
           "#FECB52",
           "#636efa",
           "#EF553B",
           "#00cc96",
           "#ab63fa",
           "#FFA15A",
           "#19d3f3",
           "#FF6692",
           "#B6E880",
           "#FF97FF",
           "#FECB52",
           "#636efa",
           "#EF553B",
           "#00cc96",
           "#ab63fa",
           "#FFA15A",
           "#19d3f3",
           "#FF6692",
           "#B6E880",
           "#FF97FF",
           "#FECB52",
           "#636efa",
           "#EF553B",
           "#00cc96",
           "#ab63fa",
           "#FFA15A",
           "#19d3f3",
           "#FF6692",
           "#B6E880",
           "#FF97FF",
           "#FECB52",
           "#636efa",
           "#EF553B",
           "#00cc96",
           "#ab63fa",
           "#FFA15A",
           "#19d3f3",
           "#FF6692",
           "#B6E880",
           "#FF97FF",
           "#FECB52",
           "#636efa",
           "#EF553B",
           "#00cc96",
           "#ab63fa",
           "#FFA15A",
           "#19d3f3",
           "#FF6692",
           "#B6E880",
           "#FF97FF",
           "#FECB52",
           "#636efa",
           "#EF553B",
           "#00cc96",
           "#ab63fa",
           "#FFA15A",
           "#19d3f3",
           "#FF6692",
           "#B6E880",
           "#FF97FF",
           "#FECB52",
           "#636efa",
           "#EF553B",
           "#00cc96",
           "#ab63fa",
           "#FFA15A",
           "#19d3f3",
           "#FF6692",
           "#B6E880",
           "#FF97FF",
           "#FECB52",
           "#636efa",
           "#EF553B",
           "#00cc96",
           "#ab63fa",
           "#FFA15A",
           "#19d3f3",
           "#FF6692",
           "#B6E880",
           "#FF97FF",
           "#FECB52",
           "#636efa",
           "#EF553B",
           "#00cc96",
           "#ab63fa",
           "#FFA15A",
           "#19d3f3",
           "#FF6692",
           "#B6E880",
           "#FF97FF",
           "#FECB52",
           "#636efa",
           "#EF553B",
           "#00cc96",
           "#ab63fa",
           "#FFA15A",
           "#19d3f3",
           "#FF6692",
           "#B6E880",
           "#FF97FF",
           "#FECB52",
           "#636efa",
           "#EF553B",
           "#00cc96",
           "#ab63fa",
           "#FFA15A",
           "#19d3f3",
           "#FF6692",
           "#B6E880",
           "#FF97FF",
           "#FECB52",
           "#636efa",
           "#EF553B",
           "#00cc96",
           "#ab63fa",
           "#FFA15A",
           "#19d3f3",
           "#FF6692",
           "#B6E880",
           "#FF97FF",
           "#FECB52",
           "#636efa",
           "#EF553B",
           "#00cc96",
           "#ab63fa",
           "#FFA15A",
           "#19d3f3",
           "#FF6692",
           "#B6E880",
           "#FF97FF",
           "#FECB52",
           "#636efa",
           "#EF553B",
           "#00cc96",
           "#ab63fa",
           "#FFA15A",
           "#19d3f3",
           "#FF6692",
           "#B6E880",
           "#FF97FF",
           "#FECB52",
           "#636efa",
           "#EF553B",
           "#00cc96",
           "#ab63fa",
           "#FFA15A",
           "#19d3f3",
           "#FF6692",
           "#B6E880",
           "#FF97FF",
           "#FECB52",
           "#636efa",
           "#EF553B",
           "#00cc96",
           "#ab63fa",
           "#FFA15A",
           "#19d3f3",
           "#FF6692",
           "#B6E880",
           "#FF97FF",
           "#FECB52",
           "#636efa",
           "#EF553B",
           "#00cc96",
           "#ab63fa",
           "#FFA15A",
           "#19d3f3",
           "#FF6692",
           "#B6E880",
           "#FF97FF",
           "#FECB52",
           "#636efa",
           "#EF553B",
           "#00cc96",
           "#ab63fa",
           "#FFA15A",
           "#19d3f3",
           "#FF6692",
           "#B6E880",
           "#FF97FF",
           "#FECB52",
           "#636efa",
           "#EF553B",
           "#00cc96",
           "#ab63fa",
           "#FFA15A",
           "#19d3f3",
           "#FF6692",
           "#B6E880",
           "#FF97FF",
           "#FECB52",
           "#636efa",
           "#EF553B",
           "#00cc96",
           "#ab63fa",
           "#FFA15A",
           "#19d3f3",
           "#FF6692",
           "#B6E880",
           "#FF97FF",
           "#FECB52",
           "#636efa",
           "#EF553B",
           "#00cc96",
           "#ab63fa",
           "#FFA15A",
           "#19d3f3",
           "#FF6692",
           "#B6E880",
           "#FF97FF",
           "#FECB52",
           "#636efa",
           "#EF553B",
           "#00cc96",
           "#ab63fa",
           "#FFA15A",
           "#19d3f3",
           "#FF6692",
           "#B6E880",
           "#FF97FF",
           "#FECB52",
           "#636efa",
           "#EF553B",
           "#00cc96",
           "#ab63fa",
           "#FFA15A",
           "#19d3f3",
           "#FF6692",
           "#B6E880",
           "#FF97FF",
           "#FECB52",
           "#636efa",
           "#EF553B",
           "#00cc96",
           "#ab63fa",
           "#FFA15A",
           "#19d3f3",
           "#FF6692",
           "#B6E880",
           "#FF97FF",
           "#FECB52",
           "#636efa",
           "#EF553B",
           "#00cc96",
           "#ab63fa",
           "#FFA15A",
           "#19d3f3",
           "#FF6692",
           "#B6E880",
           "#FF97FF",
           "#FECB52",
           "#636efa",
           "#EF553B",
           "#00cc96",
           "#ab63fa",
           "#FFA15A",
           "#19d3f3",
           "#FF6692",
           "#B6E880",
           "#FF97FF",
           "#FECB52",
           "#636efa",
           "#EF553B",
           "#00cc96",
           "#ab63fa",
           "#FFA15A",
           "#19d3f3",
           "#FF6692",
           "#B6E880",
           "#FF97FF",
           "#FECB52",
           "#636efa",
           "#EF553B",
           "#00cc96",
           "#ab63fa",
           "#FFA15A",
           "#19d3f3",
           "#FF6692",
           "#B6E880",
           "#FF97FF",
           "#FECB52",
           "#636efa",
           "#EF553B",
           "#00cc96",
           "#ab63fa",
           "#FFA15A",
           "#19d3f3",
           "#FF6692",
           "#B6E880",
           "#FF97FF",
           "#FECB52",
           "#636efa",
           "#EF553B",
           "#00cc96",
           "#ab63fa",
           "#FFA15A",
           "#19d3f3",
           "#FF6692",
           "#B6E880",
           "#FF97FF",
           "#FECB52",
           "#636efa",
           "#EF553B",
           "#00cc96",
           "#ab63fa",
           "#FFA15A",
           "#19d3f3",
           "#FF6692",
           "#B6E880",
           "#FF97FF",
           "#FECB52",
           "#636efa",
           "#EF553B",
           "#00cc96",
           "#ab63fa",
           "#FFA15A",
           "#19d3f3",
           "#FF6692",
           "#B6E880",
           "#FF97FF",
           "#FECB52",
           "#636efa",
           "#EF553B",
           "#00cc96",
           "#ab63fa",
           "#FFA15A",
           "#19d3f3",
           "#FF6692",
           "#B6E880",
           "#FF97FF",
           "#FECB52",
           "#636efa",
           "#EF553B",
           "#00cc96",
           "#ab63fa",
           "#FFA15A",
           "#19d3f3",
           "#FF6692",
           "#B6E880",
           "#FF97FF",
           "#FECB52",
           "#636efa",
           "#EF553B",
           "#00cc96",
           "#ab63fa",
           "#FFA15A",
           "#19d3f3",
           "#FF6692",
           "#B6E880",
           "#FF97FF",
           "#FECB52",
           "#636efa",
           "#EF553B",
           "#00cc96",
           "#ab63fa",
           "#FFA15A",
           "#19d3f3",
           "#FF6692",
           "#B6E880",
           "#FF97FF",
           "#FECB52",
           "#636efa",
           "#EF553B",
           "#00cc96",
           "#ab63fa",
           "#FFA15A",
           "#19d3f3",
           "#FF6692",
           "#B6E880",
           "#FF97FF",
           "#FECB52",
           "#636efa",
           "#EF553B",
           "#00cc96",
           "#ab63fa",
           "#FFA15A",
           "#19d3f3",
           "#FF6692",
           "#B6E880",
           "#FF97FF",
           "#FECB52",
           "#636efa",
           "#EF553B",
           "#00cc96",
           "#ab63fa",
           "#FFA15A",
           "#19d3f3",
           "#FF6692",
           "#B6E880",
           "#FF97FF",
           "#FECB52",
           "#636efa",
           "#EF553B",
           "#00cc96",
           "#ab63fa",
           "#FFA15A",
           "#19d3f3",
           "#FF6692",
           "#B6E880",
           "#FF97FF",
           "#FECB52",
           "#636efa",
           "#EF553B",
           "#00cc96",
           "#ab63fa",
           "#FFA15A",
           "#19d3f3",
           "#FF6692",
           "#B6E880",
           "#FF97FF",
           "#FECB52",
           "#636efa",
           "#EF553B",
           "#00cc96",
           "#ab63fa",
           "#FFA15A",
           "#19d3f3",
           "#FF6692",
           "#B6E880",
           "#FF97FF",
           "#FECB52",
           "#636efa",
           "#EF553B",
           "#00cc96",
           "#ab63fa",
           "#FFA15A",
           "#19d3f3",
           "#FF6692",
           "#B6E880",
           "#FF97FF",
           "#FECB52",
           "#636efa",
           "#EF553B",
           "#00cc96",
           "#ab63fa",
           "#FFA15A",
           "#19d3f3",
           "#FF6692",
           "#B6E880",
           "#FF97FF",
           "#FECB52",
           "#636efa",
           "#EF553B",
           "#00cc96",
           "#ab63fa",
           "#FFA15A",
           "#19d3f3",
           "#FF6692",
           "#B6E880",
           "#FF97FF",
           "#FECB52",
           "#636efa",
           "#EF553B",
           "#00cc96",
           "#ab63fa",
           "#FFA15A",
           "#19d3f3",
           "#FF6692",
           "#B6E880",
           "#FF97FF",
           "#FECB52",
           "#636efa",
           "#EF553B",
           "#00cc96",
           "#ab63fa",
           "#FFA15A",
           "#19d3f3",
           "#FF6692",
           "#B6E880",
           "#FF97FF",
           "#FECB52",
           "#636efa",
           "#EF553B",
           "#00cc96",
           "#ab63fa",
           "#FFA15A",
           "#19d3f3",
           "#FF6692",
           "#B6E880",
           "#FF97FF",
           "#FECB52",
           "#636efa",
           "#EF553B",
           "#00cc96",
           "#ab63fa",
           "#FFA15A",
           "#19d3f3",
           "#FF6692",
           "#B6E880",
           "#FF97FF",
           "#FECB52",
           "#636efa",
           "#EF553B",
           "#00cc96",
           "#ab63fa",
           "#FFA15A",
           "#19d3f3",
           "#FF6692",
           "#B6E880",
           "#FF97FF",
           "#FECB52",
           "#636efa",
           "#EF553B",
           "#00cc96",
           "#ab63fa",
           "#FFA15A",
           "#19d3f3",
           "#FF6692",
           "#B6E880",
           "#FF97FF",
           "#FECB52",
           "#636efa",
           "#EF553B",
           "#00cc96",
           "#ab63fa",
           "#FFA15A",
           "#19d3f3",
           "#FF6692",
           "#B6E880",
           "#FF97FF",
           "#FECB52",
           "#636efa",
           "#EF553B",
           "#00cc96",
           "#ab63fa",
           "#FFA15A",
           "#19d3f3",
           "#FF6692",
           "#B6E880",
           "#FF97FF",
           "#FECB52",
           "#636efa",
           "#EF553B",
           "#00cc96",
           "#ab63fa",
           "#FFA15A",
           "#19d3f3",
           "#FF6692",
           "#B6E880",
           "#FF97FF",
           "#FECB52",
           "#636efa",
           "#EF553B",
           "#00cc96",
           "#ab63fa",
           "#FFA15A",
           "#19d3f3",
           "#FF6692",
           "#B6E880",
           "#FF97FF",
           "#FECB52",
           "#636efa",
           "#EF553B",
           "#00cc96",
           "#ab63fa",
           "#FFA15A",
           "#19d3f3",
           "#FF6692",
           "#B6E880",
           "#FF97FF",
           "#FECB52",
           "#636efa",
           "#EF553B",
           "#00cc96",
           "#ab63fa",
           "#FFA15A",
           "#19d3f3",
           "#FF6692",
           "#B6E880",
           "#FF97FF",
           "#FECB52",
           "#636efa",
           "#EF553B",
           "#00cc96",
           "#ab63fa",
           "#FFA15A",
           "#19d3f3",
           "#FF6692",
           "#B6E880",
           "#FF97FF",
           "#FECB52",
           "#636efa",
           "#EF553B",
           "#00cc96",
           "#ab63fa",
           "#FFA15A",
           "#19d3f3",
           "#FF6692",
           "#B6E880",
           "#FF97FF",
           "#FECB52",
           "#636efa",
           "#EF553B",
           "#00cc96",
           "#ab63fa",
           "#FFA15A",
           "#19d3f3",
           "#FF6692",
           "#B6E880",
           "#FF97FF",
           "#FECB52",
           "#636efa",
           "#EF553B",
           "#00cc96",
           "#ab63fa",
           "#FFA15A",
           "#19d3f3",
           "#FF6692",
           "#B6E880",
           "#FF97FF",
           "#FECB52",
           "#636efa",
           "#EF553B",
           "#00cc96",
           "#ab63fa",
           "#FFA15A",
           "#19d3f3",
           "#FF6692",
           "#B6E880",
           "#FF97FF",
           "#FECB52",
           "#636efa",
           "#EF553B",
           "#00cc96",
           "#ab63fa",
           "#FFA15A",
           "#19d3f3",
           "#FF6692",
           "#B6E880",
           "#FF97FF",
           "#FECB52",
           "#636efa",
           "#EF553B",
           "#00cc96",
           "#ab63fa",
           "#FFA15A",
           "#19d3f3",
           "#FF6692",
           "#B6E880",
           "#FF97FF",
           "#FECB52",
           "#636efa",
           "#EF553B",
           "#00cc96",
           "#ab63fa",
           "#FFA15A",
           "#19d3f3",
           "#FF6692",
           "#B6E880",
           "#FF97FF",
           "#FECB52",
           "#636efa",
           "#EF553B",
           "#00cc96",
           "#ab63fa",
           "#FFA15A",
           "#19d3f3",
           "#FF6692",
           "#B6E880",
           "#FF97FF",
           "#FECB52",
           "#636efa",
           "#EF553B",
           "#00cc96",
           "#ab63fa",
           "#FFA15A",
           "#19d3f3",
           "#FF6692",
           "#B6E880",
           "#FF97FF",
           "#FECB52",
           "#636efa",
           "#EF553B",
           "#00cc96",
           "#ab63fa",
           "#FFA15A",
           "#19d3f3",
           "#FF6692",
           "#B6E880",
           "#FF97FF",
           "#FECB52",
           "#636efa",
           "#EF553B",
           "#00cc96",
           "#ab63fa",
           "#FFA15A",
           "#19d3f3",
           "#FF6692",
           "#B6E880",
           "#FF97FF",
           "#FECB52",
           "#636efa",
           "#EF553B",
           "#00cc96",
           "#ab63fa",
           "#FFA15A",
           "#19d3f3",
           "#FF6692",
           "#B6E880",
           "#FF97FF",
           "#FECB52",
           "#636efa",
           "#EF553B",
           "#00cc96",
           "#ab63fa",
           "#FFA15A",
           "#19d3f3",
           "#FF6692",
           "#B6E880",
           "#FF97FF",
           "#FECB52",
           "#636efa",
           "#EF553B",
           "#00cc96",
           "#ab63fa",
           "#FFA15A",
           "#19d3f3",
           "#FF6692",
           "#B6E880",
           "#FF97FF",
           "#FECB52",
           "#636efa",
           "#EF553B",
           "#00cc96",
           "#ab63fa",
           "#FFA15A",
           "#19d3f3",
           "#FF6692",
           "#B6E880",
           "#FF97FF",
           "#FECB52",
           "#636efa",
           "#EF553B",
           "#00cc96",
           "#ab63fa",
           "#FFA15A",
           "#19d3f3",
           "#FF6692",
           "#B6E880",
           "#FF97FF",
           "#FECB52",
           "#636efa",
           "#EF553B",
           "#00cc96",
           "#ab63fa",
           "#FFA15A",
           "#19d3f3",
           "#FF6692",
           "#B6E880",
           "#FF97FF",
           "#FECB52",
           "#636efa",
           "#EF553B",
           "#00cc96",
           "#ab63fa",
           "#FFA15A",
           "#19d3f3",
           "#FF6692",
           "#B6E880",
           "#FF97FF",
           "#FECB52",
           "#636efa",
           "#EF553B",
           "#00cc96",
           "#ab63fa",
           "#FFA15A",
           "#19d3f3",
           "#FF6692",
           "#B6E880",
           "#FF97FF",
           "#FECB52",
           "#636efa",
           "#EF553B",
           "#00cc96",
           "#ab63fa",
           "#FFA15A",
           "#19d3f3",
           "#FF6692",
           "#B6E880",
           "#FF97FF",
           "#FECB52",
           "#636efa",
           "#EF553B",
           "#00cc96",
           "#ab63fa",
           "#FFA15A",
           "#19d3f3",
           "#FF6692",
           "#B6E880",
           "#FF97FF",
           "#FECB52",
           "#636efa",
           "#EF553B",
           "#00cc96",
           "#ab63fa",
           "#FFA15A",
           "#19d3f3",
           "#FF6692",
           "#B6E880",
           "#FF97FF",
           "#FECB52",
           "#636efa",
           "#EF553B",
           "#00cc96",
           "#ab63fa",
           "#FFA15A",
           "#19d3f3",
           "#FF6692",
           "#B6E880",
           "#FF97FF",
           "#FECB52",
           "#636efa",
           "#EF553B",
           "#00cc96",
           "#ab63fa",
           "#FFA15A",
           "#19d3f3",
           "#FF6692",
           "#B6E880",
           "#FF97FF",
           "#FECB52",
           "#636efa",
           "#EF553B",
           "#00cc96",
           "#ab63fa",
           "#FFA15A",
           "#19d3f3",
           "#FF6692",
           "#B6E880",
           "#FF97FF",
           "#FECB52",
           "#636efa",
           "#EF553B",
           "#00cc96",
           "#ab63fa",
           "#FFA15A",
           "#19d3f3",
           "#FF6692",
           "#B6E880",
           "#FF97FF",
           "#FECB52",
           "#636efa",
           "#EF553B",
           "#00cc96",
           "#ab63fa",
           "#FFA15A",
           "#19d3f3",
           "#FF6692",
           "#B6E880",
           "#FF97FF",
           "#FECB52",
           "#636efa",
           "#EF553B",
           "#00cc96",
           "#ab63fa",
           "#FFA15A",
           "#19d3f3",
           "#FF6692",
           "#B6E880",
           "#FF97FF",
           "#FECB52",
           "#636efa",
           "#EF553B",
           "#00cc96",
           "#ab63fa",
           "#FFA15A",
           "#19d3f3",
           "#FF6692",
           "#B6E880",
           "#FF97FF",
           "#FECB52",
           "#636efa",
           "#EF553B",
           "#00cc96",
           "#ab63fa",
           "#FFA15A",
           "#19d3f3",
           "#FF6692",
           "#B6E880",
           "#FF97FF",
           "#FECB52",
           "#636efa",
           "#EF553B",
           "#00cc96",
           "#ab63fa",
           "#FFA15A",
           "#19d3f3",
           "#FF6692",
           "#B6E880",
           "#FF97FF",
           "#FECB52",
           "#636efa",
           "#EF553B",
           "#00cc96",
           "#ab63fa",
           "#FFA15A",
           "#19d3f3",
           "#FF6692",
           "#B6E880",
           "#FF97FF",
           "#FECB52",
           "#636efa",
           "#EF553B",
           "#00cc96",
           "#ab63fa",
           "#FFA15A",
           "#19d3f3",
           "#FF6692",
           "#B6E880",
           "#FF97FF",
           "#FECB52",
           "#636efa",
           "#EF553B",
           "#00cc96",
           "#ab63fa",
           "#FFA15A",
           "#19d3f3",
           "#FF6692",
           "#B6E880",
           "#FF97FF",
           "#FECB52",
           "#636efa",
           "#EF553B",
           "#00cc96",
           "#ab63fa",
           "#FFA15A",
           "#19d3f3",
           "#FF6692",
           "#B6E880",
           "#FF97FF",
           "#FECB52",
           "#636efa",
           "#EF553B",
           "#00cc96",
           "#ab63fa",
           "#FFA15A",
           "#19d3f3",
           "#FF6692",
           "#B6E880",
           "#FF97FF",
           "#FECB52",
           "#636efa",
           "#EF553B",
           "#00cc96",
           "#ab63fa",
           "#FFA15A",
           "#19d3f3",
           "#FF6692",
           "#B6E880",
           "#FF97FF",
           "#FECB52",
           "#636efa",
           "#EF553B",
           "#00cc96",
           "#ab63fa",
           "#FFA15A",
           "#19d3f3",
           "#FF6692",
           "#B6E880",
           "#FF97FF",
           "#FECB52",
           "#636efa",
           "#EF553B",
           "#00cc96",
           "#ab63fa",
           "#FFA15A",
           "#19d3f3",
           "#FF6692",
           "#B6E880",
           "#FF97FF",
           "#FECB52",
           "#636efa",
           "#EF553B",
           "#00cc96",
           "#ab63fa",
           "#FFA15A",
           "#19d3f3",
           "#FF6692",
           "#B6E880",
           "#FF97FF",
           "#FECB52",
           "#636efa",
           "#EF553B",
           "#00cc96",
           "#ab63fa",
           "#FFA15A",
           "#19d3f3",
           "#FF6692",
           "#B6E880",
           "#FF97FF",
           "#FECB52",
           "#636efa",
           "#EF553B",
           "#00cc96",
           "#ab63fa",
           "#FFA15A",
           "#19d3f3",
           "#FF6692",
           "#B6E880",
           "#FF97FF",
           "#FECB52",
           "#636efa",
           "#EF553B",
           "#00cc96",
           "#ab63fa",
           "#FFA15A",
           "#19d3f3",
           "#FF6692",
           "#B6E880",
           "#FF97FF",
           "#FECB52",
           "#636efa",
           "#EF553B",
           "#00cc96",
           "#ab63fa",
           "#FFA15A",
           "#19d3f3",
           "#FF6692",
           "#B6E880",
           "#FF97FF",
           "#FECB52",
           "#636efa",
           "#EF553B",
           "#00cc96",
           "#ab63fa",
           "#FFA15A",
           "#19d3f3",
           "#FF6692",
           "#B6E880",
           "#FF97FF",
           "#FECB52",
           "#636efa",
           "#EF553B",
           "#00cc96",
           "#ab63fa",
           "#FFA15A",
           "#19d3f3",
           "#FF6692",
           "#B6E880",
           "#FF97FF",
           "#FECB52",
           "#636efa",
           "#EF553B",
           "#00cc96",
           "#ab63fa",
           "#FFA15A",
           "#19d3f3",
           "#FF6692",
           "#B6E880",
           "#FF97FF",
           "#FECB52",
           "#636efa",
           "#EF553B",
           "#00cc96",
           "#ab63fa",
           "#FFA15A",
           "#19d3f3",
           "#FF6692",
           "#B6E880",
           "#FF97FF",
           "#FECB52",
           "#636efa",
           "#EF553B",
           "#00cc96",
           "#ab63fa",
           "#FFA15A"
          ]
         },
         "name": "",
         "parents": [
          "",
          "",
          "",
          "",
          "",
          "",
          "",
          "",
          "",
          "",
          "",
          "",
          "",
          "",
          "",
          "",
          "",
          "",
          "",
          "",
          "",
          "",
          "",
          "",
          "",
          "",
          "",
          "",
          "",
          "",
          "",
          "",
          "",
          "",
          "",
          "",
          "",
          "",
          "",
          "",
          "",
          "",
          "",
          "",
          "",
          "",
          "",
          "",
          "",
          "",
          "",
          "",
          "",
          "",
          "",
          "",
          "",
          "",
          "",
          "",
          "",
          "",
          "",
          "",
          "",
          "",
          "",
          "",
          "",
          "",
          "",
          "",
          "",
          "",
          "",
          "",
          "",
          "",
          "",
          "",
          "",
          "",
          "",
          "",
          "",
          "",
          "",
          "",
          "",
          "",
          "",
          "",
          "",
          "",
          "",
          "",
          "",
          "",
          "",
          "",
          "",
          "",
          "",
          "",
          "",
          "",
          "",
          "",
          "",
          "",
          "",
          "",
          "",
          "",
          "",
          "",
          "",
          "",
          "",
          "",
          "",
          "",
          "",
          "",
          "",
          "",
          "",
          "",
          "",
          "",
          "",
          "",
          "",
          "",
          "",
          "",
          "",
          "",
          "",
          "",
          "",
          "",
          "",
          "",
          "",
          "",
          "",
          "",
          "",
          "",
          "",
          "",
          "",
          "",
          "",
          "",
          "",
          "",
          "",
          "",
          "",
          "",
          "",
          "",
          "",
          "",
          "",
          "",
          "",
          "",
          "",
          "",
          "",
          "",
          "",
          "",
          "",
          "",
          "",
          "",
          "",
          "",
          "",
          "",
          "",
          "",
          "",
          "",
          "",
          "",
          "",
          "",
          "",
          "",
          "",
          "",
          "",
          "",
          "",
          "",
          "",
          "",
          "",
          "",
          "",
          "",
          "",
          "",
          "",
          "",
          "",
          "",
          "",
          "",
          "",
          "",
          "",
          "",
          "",
          "",
          "",
          "",
          "",
          "",
          "",
          "",
          "",
          "",
          "",
          "",
          "",
          "",
          "",
          "",
          "",
          "",
          "",
          "",
          "",
          "",
          "",
          "",
          "",
          "",
          "",
          "",
          "",
          "",
          "",
          "",
          "",
          "",
          "",
          "",
          "",
          "",
          "",
          "",
          "",
          "",
          "",
          "",
          "",
          "",
          "",
          "",
          "",
          "",
          "",
          "",
          "",
          "",
          "",
          "",
          "",
          "",
          "",
          "",
          "",
          "",
          "",
          "",
          "",
          "",
          "",
          "",
          "",
          "",
          "",
          "",
          "",
          "",
          "",
          "",
          "",
          "",
          "",
          "",
          "",
          "",
          "",
          "",
          "",
          "",
          "",
          "",
          "",
          "",
          "",
          "",
          "",
          "",
          "",
          "",
          "",
          "",
          "",
          "",
          "",
          "",
          "",
          "",
          "",
          "",
          "",
          "",
          "",
          "",
          "",
          "",
          "",
          "",
          "",
          "",
          "",
          "",
          "",
          "",
          "",
          "",
          "",
          "",
          "",
          "",
          "",
          "",
          "",
          "",
          "",
          "",
          "",
          "",
          "",
          "",
          "",
          "",
          "",
          "",
          "",
          "",
          "",
          "",
          "",
          "",
          "",
          "",
          "",
          "",
          "",
          "",
          "",
          "",
          "",
          "",
          "",
          "",
          "",
          "",
          "",
          "",
          "",
          "",
          "",
          "",
          "",
          "",
          "",
          "",
          "",
          "",
          "",
          "",
          "",
          "",
          "",
          "",
          "",
          "",
          "",
          "",
          "",
          "",
          "",
          "",
          "",
          "",
          "",
          "",
          "",
          "",
          "",
          "",
          "",
          "",
          "",
          "",
          "",
          "",
          "",
          "",
          "",
          "",
          "",
          "",
          "",
          "",
          "",
          "",
          "",
          "",
          "",
          "",
          "",
          "",
          "",
          "",
          "",
          "",
          "",
          "",
          "",
          "",
          "",
          "",
          "",
          "",
          "",
          "",
          "",
          "",
          "",
          "",
          "",
          "",
          "",
          "",
          "",
          "",
          "",
          "",
          "",
          "",
          "",
          "",
          "",
          "",
          "",
          "",
          "",
          "",
          "",
          "",
          "",
          "",
          "",
          "",
          "",
          "",
          "",
          "",
          "",
          "",
          "",
          "",
          "",
          "",
          "",
          "",
          "",
          "",
          "",
          "",
          "",
          "",
          "",
          "",
          "",
          "",
          "",
          "",
          "",
          "",
          "",
          "",
          "",
          "",
          "",
          "",
          "",
          "",
          "",
          "",
          "",
          "",
          "",
          "",
          "",
          "",
          "",
          "",
          "",
          "",
          "",
          "",
          "",
          "",
          "",
          "",
          "",
          "",
          "",
          "",
          "",
          "",
          "",
          "",
          "",
          "",
          "",
          "",
          "",
          "",
          "",
          "",
          "",
          "",
          "",
          "",
          "",
          "",
          "",
          "",
          "",
          "",
          "",
          "",
          "",
          "",
          "",
          "",
          "",
          "",
          "",
          "",
          "",
          "",
          "",
          "",
          "",
          "",
          "",
          "",
          "",
          "",
          "",
          "",
          "",
          "",
          "",
          "",
          "",
          "",
          "",
          "",
          "",
          "",
          "",
          "",
          "",
          "",
          "",
          "",
          "",
          "",
          "",
          "",
          "",
          "",
          "",
          "",
          "",
          "",
          "",
          "",
          "",
          "",
          "",
          "",
          "",
          "",
          "",
          "",
          "",
          "",
          "",
          "",
          "",
          "",
          "",
          "",
          "",
          "",
          "",
          "",
          "",
          "",
          "",
          "",
          "",
          "",
          "",
          "",
          "",
          "",
          "",
          "",
          "",
          "",
          "",
          "",
          "",
          "",
          "",
          "",
          "",
          "",
          "",
          "",
          "",
          "",
          "",
          "",
          "",
          "",
          "",
          "",
          "",
          "",
          "",
          "",
          "",
          "",
          "",
          "",
          "",
          "",
          "",
          "",
          "",
          "",
          "",
          "",
          "",
          "",
          "",
          "",
          "",
          "",
          "",
          "",
          "",
          "",
          "",
          "",
          "",
          "",
          "",
          "",
          "",
          "",
          "",
          "",
          "",
          "",
          "",
          "",
          "",
          "",
          "",
          "",
          "",
          "",
          "",
          "",
          "",
          "",
          "",
          "",
          "",
          "",
          "",
          "",
          "",
          "",
          "",
          "",
          "",
          "",
          "",
          "",
          "",
          "",
          "",
          "",
          "",
          "",
          "",
          "",
          "",
          "",
          "",
          "",
          "",
          "",
          "",
          "",
          "",
          "",
          "",
          "",
          "",
          "",
          "",
          "",
          "",
          "",
          "",
          "",
          "",
          "",
          "",
          "",
          "",
          "",
          "",
          "",
          "",
          "",
          "",
          "",
          "",
          "",
          "",
          "",
          "",
          "",
          "",
          "",
          "",
          "",
          "",
          "",
          "",
          "",
          "",
          "",
          "",
          "",
          "",
          "",
          "",
          "",
          "",
          "",
          "",
          "",
          "",
          "",
          "",
          "",
          "",
          "",
          "",
          "",
          "",
          "",
          "",
          "",
          "",
          "",
          "",
          "",
          "",
          "",
          "",
          "",
          "",
          "",
          "",
          "",
          "",
          "",
          "",
          "",
          "",
          "",
          "",
          "",
          "",
          "",
          "",
          "",
          "",
          "",
          "",
          "",
          "",
          "",
          "",
          "",
          "",
          "",
          "",
          "",
          "",
          "",
          "",
          "",
          "",
          "",
          "",
          "",
          "",
          "",
          "",
          "",
          "",
          "",
          "",
          "",
          "",
          "",
          "",
          "",
          "",
          "",
          "",
          "",
          "",
          "",
          "",
          "",
          "",
          "",
          "",
          "",
          "",
          "",
          "",
          "",
          "",
          "",
          "",
          "",
          "",
          "",
          "",
          "",
          "",
          "",
          "",
          "",
          "",
          "",
          "",
          "",
          "",
          "",
          "",
          "",
          "",
          "",
          "",
          "",
          "",
          "",
          "",
          "",
          "",
          "",
          "",
          "",
          "",
          "",
          "",
          "",
          "",
          "",
          "",
          "",
          "",
          "",
          "",
          "",
          "",
          "",
          "",
          "",
          "",
          "",
          "",
          "",
          "",
          "",
          "",
          "",
          "",
          "",
          "",
          "",
          "",
          "",
          "",
          "",
          "",
          "",
          "",
          "",
          "",
          "",
          "",
          "",
          "",
          "",
          "",
          "",
          "",
          "",
          "",
          "",
          "",
          "",
          "",
          "",
          "",
          "",
          "",
          "",
          "",
          "",
          "",
          "",
          "",
          "",
          "",
          "",
          "",
          "",
          "",
          "",
          "",
          "",
          "",
          "",
          "",
          "",
          "",
          "",
          "",
          "",
          "",
          "",
          "",
          "",
          "",
          "",
          "",
          "",
          "",
          "",
          "",
          "",
          "",
          "",
          "",
          "",
          "",
          "",
          "",
          "",
          "",
          "",
          "",
          "",
          "",
          "",
          "",
          "",
          "",
          "",
          "",
          "",
          "",
          "",
          "",
          "",
          "",
          "",
          "",
          "",
          "",
          "",
          "",
          "",
          "",
          "",
          "",
          "",
          "",
          "",
          "",
          "",
          "",
          "",
          "",
          "",
          "",
          "",
          "",
          "",
          "",
          "",
          "",
          "",
          "",
          "",
          "",
          "",
          "",
          "",
          "",
          "",
          "",
          "",
          "",
          "",
          "",
          "",
          "",
          "",
          "",
          "",
          "",
          "",
          "",
          "",
          "",
          "",
          "",
          "",
          "",
          "",
          "",
          "",
          "",
          "",
          "",
          "",
          "",
          "",
          "",
          "",
          "",
          "",
          "",
          "",
          "",
          "",
          "",
          "",
          "",
          "",
          "",
          "",
          "",
          "",
          "",
          "",
          "",
          "",
          "",
          "",
          "",
          "",
          "",
          "",
          "",
          "",
          "",
          "",
          "",
          "",
          "",
          "",
          "",
          "",
          "",
          "",
          "",
          "",
          "",
          "",
          "",
          "",
          "",
          "",
          "",
          "",
          "",
          "",
          "",
          "",
          "",
          "",
          "",
          "",
          "",
          "",
          "",
          "",
          "",
          "",
          "",
          "",
          "",
          "",
          "",
          "",
          "",
          "",
          "",
          "",
          "",
          "",
          "",
          "",
          "",
          "",
          "",
          "",
          "",
          "",
          "",
          "",
          "",
          "",
          "",
          "",
          "",
          "",
          "",
          "",
          "",
          "",
          "",
          "",
          "",
          "",
          "",
          "",
          "",
          "",
          "",
          "",
          "",
          "",
          "",
          "",
          "",
          "",
          "",
          "",
          "",
          "",
          "",
          "",
          "",
          "",
          "",
          "",
          "",
          "",
          "",
          "",
          "",
          "",
          "",
          "",
          "",
          "",
          "",
          "",
          "",
          "",
          "",
          "",
          "",
          "",
          "",
          "",
          "",
          "",
          "",
          "",
          "",
          "",
          "",
          "",
          "",
          "",
          "",
          "",
          "",
          "",
          "",
          "",
          "",
          "",
          "",
          "",
          "",
          "",
          "",
          "",
          "",
          "",
          "",
          "",
          "",
          "",
          "",
          "",
          "",
          "",
          "",
          "",
          "",
          "",
          "",
          "",
          "",
          "",
          "",
          "",
          "",
          "",
          "",
          "",
          "",
          "",
          "",
          "",
          "",
          "",
          "",
          "",
          "",
          "",
          "",
          "",
          "",
          "",
          "",
          "",
          "",
          "",
          "",
          "",
          "",
          "",
          "",
          "",
          "",
          "",
          "",
          "",
          "",
          "",
          "",
          "",
          "",
          "",
          "",
          "",
          "",
          "",
          "",
          "",
          "",
          "",
          "",
          "",
          "",
          "",
          "",
          "",
          "",
          "",
          "",
          "",
          "",
          "",
          "",
          "",
          "",
          "",
          "",
          "",
          "",
          "",
          "",
          "",
          "",
          "",
          ""
         ],
         "type": "treemap",
         "values": [
          105,
          200,
          600,
          123.39285714285714,
          335,
          350,
          1000,
          575,
          400,
          5000,
          115,
          700,
          431.4736842105263,
          360,
          900,
          370,
          612.5,
          575,
          380,
          433.2894736842105,
          125,
          250,
          210,
          355,
          200,
          690,
          500,
          1600,
          333.3333333333333,
          60,
          20,
          250,
          800,
          250,
          74.33333333333333,
          12,
          687.5,
          705,
          180,
          450,
          100,
          260,
          800,
          200,
          300,
          230,
          80,
          300,
          900,
          300,
          1000,
          290,
          461.25,
          240,
          800,
          315,
          901.5,
          352.5,
          280,
          150,
          150,
          178.125,
          275,
          500,
          400,
          500,
          15,
          388.5,
          370,
          362,
          335,
          450,
          136.38888888888889,
          400,
          400,
          125,
          76.66666666666667,
          750,
          400,
          866.6666666666666,
          710,
          232.64285714285714,
          100,
          100,
          425,
          2000,
          509.3333333333333,
          469,
          212,
          346.6666666666667,
          300,
          418.61538461538464,
          200,
          284,
          263.3333333333333,
          300,
          132.5,
          125,
          600,
          70,
          666.6666666666666,
          475,
          458.3333333333333,
          322,
          375,
          339.64285714285717,
          375,
          200,
          525,
          100,
          135,
          400,
          500,
          330,
          217.4,
          108.33333333333333,
          5000,
          250,
          1000,
          1000,
          351.4864864864865,
          80,
          1000,
          197.5,
          125,
          496.6666666666667,
          200,
          300,
          170,
          450,
          426.6666666666667,
          140,
          565,
          800,
          175,
          720,
          135,
          115,
          480,
          277.5,
          540,
          350,
          192,
          215,
          95,
          200,
          50,
          540,
          2000,
          408.3333333333333,
          834,
          780,
          38,
          500,
          500,
          441.6666666666667,
          290,
          700,
          85,
          625,
          200,
          350,
          250,
          575,
          290,
          250,
          260,
          150,
          535,
          190,
          303.2,
          785,
          500,
          400,
          450,
          503.55555555555554,
          214,
          250,
          1000,
          1200,
          310,
          700,
          370,
          432.5,
          115,
          310,
          187.5,
          55,
          140,
          5500,
          400,
          180,
          446.6666666666667,
          450,
          250,
          535.8333333333334,
          300,
          5,
          389.2857142857143,
          293.59375,
          250,
          208.33333333333334,
          150,
          100,
          332.5,
          180,
          325,
          364,
          514.5454545454545,
          91.66666666666667,
          150,
          250,
          142.85714285714286,
          285,
          200,
          182.5,
          450,
          135,
          32,
          1000,
          23,
          350,
          500,
          300,
          800,
          747.1428571428571,
          250,
          500,
          400,
          250,
          434.2857142857143,
          580,
          121,
          440,
          240,
          180,
          580,
          80,
          417.53846153846155,
          117,
          770,
          169.33333333333334,
          540,
          500,
          154.11764705882354,
          200,
          350,
          300,
          158.57142857142858,
          500,
          920,
          250,
          70,
          22,
          185,
          500,
          133.33333333333334,
          700,
          400,
          85,
          320,
          133.33333333333334,
          194,
          300,
          393.3333333333333,
          80.83333333333333,
          801.25,
          900,
          2280,
          210,
          50,
          160,
          98.33333333333333,
          350,
          350,
          420,
          125,
          100,
          450,
          480,
          150,
          110,
          42,
          200,
          200,
          360,
          380,
          200,
          100,
          85,
          167.76923076923077,
          200,
          115,
          250,
          100,
          250,
          750,
          500,
          337.5,
          1000,
          173,
          2000,
          288,
          187.5,
          671.4316666666667,
          12,
          220,
          440,
          241.23076923076923,
          363.1578947368421,
          50,
          316.6666666666667,
          175,
          200,
          40,
          300,
          100,
          90,
          100,
          333.3333333333333,
          80,
          120,
          266,
          375,
          546.875,
          303.3333333333333,
          90,
          175,
          380,
          200,
          65,
          150,
          121.66666666666667,
          240,
          123.46153846153847,
          690,
          821.4285714285714,
          425,
          1800,
          593.0769230769231,
          450,
          200,
          180,
          325,
          450,
          376.6666666666667,
          580,
          250,
          400,
          115,
          105.5,
          62.5,
          250,
          260,
          475,
          250,
          65,
          1000,
          240,
          500,
          30,
          170,
          116.66666666666667,
          350,
          337.2857142857143,
          120,
          314,
          448,
          518.75,
          50,
          280,
          115,
          112,
          209.375,
          250,
          200,
          508.8333333333333,
          227,
          180,
          70,
          554.7368421052631,
          180,
          1000,
          180,
          400,
          85,
          460,
          375,
          225,
          147.5,
          185,
          120,
          180,
          250,
          12.666666666666666,
          250,
          50,
          400,
          200,
          240,
          450,
          396.6666666666667,
          265,
          416.6666666666667,
          15000,
          500,
          500,
          125,
          500,
          1100,
          916.6666666666666,
          1437.5,
          450,
          362.5,
          284.2857142857143,
          1000,
          500,
          500,
          1000,
          225,
          260,
          1500,
          250,
          1400,
          500,
          1000,
          5000,
          500,
          125,
          500,
          225,
          500,
          600,
          400,
          433.3333333333333,
          500,
          557.1428571428571,
          500,
          1125,
          490,
          383.3333333333333,
          400,
          300,
          250,
          400,
          400,
          300,
          450,
          1000,
          420,
          250,
          425,
          343.35,
          360,
          1000,
          1000,
          650,
          400,
          450,
          1000,
          400,
          95,
          400,
          510,
          600,
          350,
          820,
          484.44444444444446,
          600,
          250,
          712.5,
          600,
          775,
          760,
          335,
          352,
          370,
          435,
          360,
          119.06666666666666,
          480,
          250,
          875,
          562.5,
          2000,
          1025,
          33,
          80,
          400,
          16,
          500,
          2000,
          292.85714285714283,
          150,
          260,
          150,
          525,
          660,
          190,
          27,
          252.5,
          300,
          400,
          500,
          111.66666666666667,
          2000,
          86.25,
          175,
          250,
          1000,
          600,
          125,
          466.6666666666667,
          125,
          500,
          400,
          500,
          500,
          320,
          1295,
          500,
          110,
          32,
          408.5,
          800,
          110,
          287.125,
          637.5,
          416.6666666666667,
          547.8571428571429,
          38,
          530,
          32,
          616.6666666666666,
          425,
          36,
          36,
          155.35714285714286,
          200,
          475,
          125,
          262.5,
          220,
          250,
          240,
          154.16666666666666,
          18,
          40,
          150,
          150,
          60,
          263.75,
          400,
          125,
          210,
          156.66666666666666,
          150,
          426,
          359.5,
          287.5,
          364,
          173,
          170,
          300,
          348.8888888888889,
          300,
          1500,
          30,
          630,
          552.5,
          340,
          40,
          450,
          90,
          150,
          250,
          192,
          125,
          400,
          450,
          1000,
          360,
          450,
          90,
          360,
          125,
          65,
          845,
          500,
          320,
          238.625,
          1000,
          315,
          360,
          1000,
          450,
          300,
          60,
          169,
          169,
          176,
          107.5,
          115,
          500,
          210,
          450,
          440,
          300,
          410,
          425,
          187.5,
          494.15,
          500,
          650,
          80,
          357.5,
          360,
          200,
          1000,
          175,
          400,
          283.3333333333333,
          442.5,
          207.5,
          297.5,
          200,
          1000,
          300,
          392.5,
          370,
          450,
          250,
          74.16666666666667,
          95,
          474.2857142857143,
          280,
          210,
          70,
          90,
          156.5,
          30,
          123.75,
          100,
          125,
          400,
          200,
          20,
          346.2857142857143,
          400,
          353.84615384615387,
          345.7142857142857,
          40,
          210,
          250,
          90,
          400,
          375,
          175,
          510,
          783.3333333333334,
          350,
          180,
          300,
          400,
          200,
          230,
          240,
          240,
          173,
          25,
          750,
          408.3333333333333,
          18,
          250,
          140,
          162.5,
          585,
          44.5,
          597.5,
          318.5,
          1000,
          9,
          700,
          750,
          350,
          2000,
          40,
          1000,
          76.66666666666667,
          6,
          306.6666666666667,
          290,
          583.3333333333334,
          323.75,
          400,
          275,
          407.5,
          1000,
          442,
          330,
          450,
          140,
          537.5,
          2225,
          450,
          175,
          140,
          715,
          180,
          565,
          285,
          6000,
          250,
          800,
          387.77777777777777,
          200,
          750,
          750,
          400,
          180,
          250,
          70,
          480,
          400,
          125,
          100,
          209,
          516.6666666666666,
          252.33333333333334,
          450,
          275,
          376,
          313.3333333333333,
          247.22222222222223,
          990,
          700,
          303.3333333333333,
          283.3333333333333,
          440,
          916.6666666666666,
          154,
          372.99117647058824,
          160,
          240,
          70,
          200,
          425,
          578.5714285714286,
          80,
          400,
          233.33333333333334,
          121.25,
          300,
          180,
          200,
          162.89473684210526,
          90,
          800,
          420,
          250,
          180,
          180,
          212.5,
          3000,
          166.875,
          973.4375,
          230,
          130,
          100,
          130,
          1000,
          150,
          100,
          75,
          50,
          50,
          100,
          115,
          490,
          1000,
          350,
          470,
          500,
          200,
          180,
          370,
          585.7142857142857,
          250,
          110,
          600,
          2000,
          38,
          400,
          334.2857142857143,
          393,
          513.75,
          525,
          250,
          185,
          600,
          122.5,
          450,
          450,
          500,
          340,
          392.5,
          500,
          575,
          400,
          395,
          480,
          50,
          487.5,
          318,
          250,
          500,
          266.6666666666667,
          243.33333333333334,
          337.5,
          700,
          1750,
          234,
          220,
          300,
          100,
          1000,
          270,
          290,
          132.14285714285714,
          580,
          210,
          325,
          420,
          250.5,
          625,
          140,
          200,
          25,
          165,
          166.66666666666666,
          100,
          380,
          50,
          339,
          375,
          170,
          530,
          104.54545454545455,
          250,
          200,
          200,
          100,
          170,
          60,
          260,
          160,
          230,
          100,
          100,
          488,
          115,
          107.92307692307692,
          110.65,
          120,
          115.9090909090909,
          140,
          500,
          393.3333333333333,
          523.3333333333334,
          475,
          420.8333333333333,
          60,
          260,
          350,
          300,
          600,
          800,
          76.67314666666667,
          380,
          300,
          175.25,
          100,
          320,
          315,
          130,
          230,
          350,
          300,
          200.33333333333334,
          380,
          292.5,
          480,
          400,
          226.66666666666666,
          400,
          200,
          448.3333333333333,
          180,
          200,
          481.6666666666667,
          140,
          115,
          80,
          125,
          232.77777777777777,
          190,
          215,
          89,
          600,
          600,
          475,
          500,
          230,
          500,
          646.6666666666666,
          100,
          225,
          278.57142857142856,
          100,
          287.5,
          14,
          350,
          332,
          500,
          310.55555555555554,
          366.40909090909093,
          245,
          900,
          300,
          533.3333333333334,
          343.3333333333333,
          75,
          590,
          150,
          400,
          400,
          300,
          556,
          330,
          250,
          160,
          500,
          32.5,
          365,
          39,
          70,
          606.6666666666666,
          440,
          150,
          225,
          90,
          7,
          900,
          165,
          257.14285714285717,
          43,
          70,
          475,
          14,
          135.42857142857142,
          483.3333333333333,
          220,
          350,
          60,
          370,
          170,
          400,
          363.3333333333333,
          250,
          300,
          562.5,
          250,
          750,
          400,
          333.75,
          200,
          200,
          250,
          102.5,
          69,
          120,
          560,
          1000,
          150,
          120,
          120,
          800,
          172.5,
          600,
          350,
          37,
          173,
          150,
          105,
          500,
          766.6666666666666,
          167.5,
          310,
          330,
          220,
          120,
          260,
          600,
          700,
          347,
          200,
          280,
          200,
          280,
          212.5,
          320,
          270,
          100,
          150,
          855,
          1000,
          370,
          1000,
          2333.3333333333335,
          5000,
          400,
          60,
          700,
          2333.3333333333335,
          800,
          414,
          236.4814814814815,
          161.25,
          1000,
          170,
          1000,
          500,
          400,
          500,
          35,
          135,
          171.11111111111111,
          650,
          400,
          500,
          180,
          383.3333333333333,
          300,
          450,
          424,
          500,
          480,
          100,
          320,
          100,
          325,
          300,
          150,
          250,
          600,
          606.6666666666666,
          280,
          420,
          330,
          605,
          30,
          230,
          500,
          525,
          120,
          135,
          70,
          228,
          200,
          480,
          550,
          450,
          625,
          194.28571428571428,
          482.5,
          551.6666666666666,
          400,
          195,
          300,
          700,
          500,
          500,
          400,
          550,
          325,
          400,
          280,
          450,
          1000,
          1000,
          500,
          400,
          110,
          238.57142857142858,
          160,
          350,
          1000,
          385,
          875,
          450,
          90,
          1000,
          716.6666666666666,
          397,
          400,
          756,
          175,
          494,
          240,
          191.42857142857142,
          220,
          280,
          263.3333333333333,
          250,
          600,
          1000,
          900,
          1000,
          452.5,
          283.3333333333333,
          250,
          100,
          310,
          490,
          245,
          245,
          115,
          200,
          300,
          750,
          133.33333333333334,
          230,
          140,
          174.14285714285714,
          800,
          250,
          175,
          900,
          500,
          14,
          2600,
          500,
          550,
          115,
          400,
          260,
          700,
          300,
          628.5714285714286,
          112.5,
          450,
          506,
          580,
          780,
          350,
          500,
          200,
          200,
          200,
          260,
          1000,
          200,
          180,
          100,
          380,
          3000,
          385,
          385,
          515,
          580,
          370,
          184,
          400,
          50,
          628.5714285714286,
          500,
          200,
          70,
          150,
          280,
          120,
          500,
          200,
          340,
          400,
          340,
          106.66666666666667,
          80,
          112,
          200,
          375,
          450,
          450,
          500,
          250,
          405,
          176,
          70,
          130,
          35,
          150,
          100,
          400,
          160,
          315,
          900,
          400,
          480,
          370,
          550,
          300,
          27.5,
          250,
          320,
          125,
          400,
          264,
          115,
          250,
          140,
          147,
          120,
          176,
          176,
          118,
          176,
          147,
          200,
          200,
          420,
          160,
          240,
          250,
          500,
          160,
          80,
          350,
          500,
          900,
          60,
          106.66666666666667,
          200,
          60,
          120,
          1000,
          300,
          1000,
          1000,
          140,
          400,
          360,
          60,
          200,
          250,
          585,
          240,
          2000,
          500,
          300,
          250,
          250,
          400,
          250,
          100,
          500,
          250,
          400,
          800,
          115,
          115,
          385,
          260,
          1000,
          250,
          80,
          240,
          250,
          165,
          165,
          60,
          101.85714285714286,
          115,
          115,
          115,
          115,
          115,
          240,
          110,
          290,
          150,
          400,
          440,
          200,
          400,
          450,
          260,
          95,
          300,
          214,
          450,
          380,
          390,
          400,
          180,
          95,
          90,
          90,
          100,
          77.5,
          150,
          90,
          98.33333333333333,
          140,
          140,
          200,
          90,
          200,
          160,
          105,
          250,
          400,
          280,
          300,
          250,
          400,
          400,
          250,
          105,
          350,
          140,
          525,
          380,
          300,
          50,
          200
         ]
        }
       ],
       "layout": {
        "legend": {
         "tracegroupgap": 0
        },
        "margin": {
         "b": 25,
         "l": 25,
         "r": 25,
         "t": 50
        },
        "template": {
         "data": {
          "bar": [
           {
            "error_x": {
             "color": "#2a3f5f"
            },
            "error_y": {
             "color": "#2a3f5f"
            },
            "marker": {
             "line": {
              "color": "#E5ECF6",
              "width": 0.5
             },
             "pattern": {
              "fillmode": "overlay",
              "size": 10,
              "solidity": 0.2
             }
            },
            "type": "bar"
           }
          ],
          "barpolar": [
           {
            "marker": {
             "line": {
              "color": "#E5ECF6",
              "width": 0.5
             },
             "pattern": {
              "fillmode": "overlay",
              "size": 10,
              "solidity": 0.2
             }
            },
            "type": "barpolar"
           }
          ],
          "carpet": [
           {
            "aaxis": {
             "endlinecolor": "#2a3f5f",
             "gridcolor": "white",
             "linecolor": "white",
             "minorgridcolor": "white",
             "startlinecolor": "#2a3f5f"
            },
            "baxis": {
             "endlinecolor": "#2a3f5f",
             "gridcolor": "white",
             "linecolor": "white",
             "minorgridcolor": "white",
             "startlinecolor": "#2a3f5f"
            },
            "type": "carpet"
           }
          ],
          "choropleth": [
           {
            "colorbar": {
             "outlinewidth": 0,
             "ticks": ""
            },
            "type": "choropleth"
           }
          ],
          "contour": [
           {
            "colorbar": {
             "outlinewidth": 0,
             "ticks": ""
            },
            "colorscale": [
             [
              0,
              "#0d0887"
             ],
             [
              0.1111111111111111,
              "#46039f"
             ],
             [
              0.2222222222222222,
              "#7201a8"
             ],
             [
              0.3333333333333333,
              "#9c179e"
             ],
             [
              0.4444444444444444,
              "#bd3786"
             ],
             [
              0.5555555555555556,
              "#d8576b"
             ],
             [
              0.6666666666666666,
              "#ed7953"
             ],
             [
              0.7777777777777778,
              "#fb9f3a"
             ],
             [
              0.8888888888888888,
              "#fdca26"
             ],
             [
              1,
              "#f0f921"
             ]
            ],
            "type": "contour"
           }
          ],
          "contourcarpet": [
           {
            "colorbar": {
             "outlinewidth": 0,
             "ticks": ""
            },
            "type": "contourcarpet"
           }
          ],
          "heatmap": [
           {
            "colorbar": {
             "outlinewidth": 0,
             "ticks": ""
            },
            "colorscale": [
             [
              0,
              "#0d0887"
             ],
             [
              0.1111111111111111,
              "#46039f"
             ],
             [
              0.2222222222222222,
              "#7201a8"
             ],
             [
              0.3333333333333333,
              "#9c179e"
             ],
             [
              0.4444444444444444,
              "#bd3786"
             ],
             [
              0.5555555555555556,
              "#d8576b"
             ],
             [
              0.6666666666666666,
              "#ed7953"
             ],
             [
              0.7777777777777778,
              "#fb9f3a"
             ],
             [
              0.8888888888888888,
              "#fdca26"
             ],
             [
              1,
              "#f0f921"
             ]
            ],
            "type": "heatmap"
           }
          ],
          "heatmapgl": [
           {
            "colorbar": {
             "outlinewidth": 0,
             "ticks": ""
            },
            "colorscale": [
             [
              0,
              "#0d0887"
             ],
             [
              0.1111111111111111,
              "#46039f"
             ],
             [
              0.2222222222222222,
              "#7201a8"
             ],
             [
              0.3333333333333333,
              "#9c179e"
             ],
             [
              0.4444444444444444,
              "#bd3786"
             ],
             [
              0.5555555555555556,
              "#d8576b"
             ],
             [
              0.6666666666666666,
              "#ed7953"
             ],
             [
              0.7777777777777778,
              "#fb9f3a"
             ],
             [
              0.8888888888888888,
              "#fdca26"
             ],
             [
              1,
              "#f0f921"
             ]
            ],
            "type": "heatmapgl"
           }
          ],
          "histogram": [
           {
            "marker": {
             "pattern": {
              "fillmode": "overlay",
              "size": 10,
              "solidity": 0.2
             }
            },
            "type": "histogram"
           }
          ],
          "histogram2d": [
           {
            "colorbar": {
             "outlinewidth": 0,
             "ticks": ""
            },
            "colorscale": [
             [
              0,
              "#0d0887"
             ],
             [
              0.1111111111111111,
              "#46039f"
             ],
             [
              0.2222222222222222,
              "#7201a8"
             ],
             [
              0.3333333333333333,
              "#9c179e"
             ],
             [
              0.4444444444444444,
              "#bd3786"
             ],
             [
              0.5555555555555556,
              "#d8576b"
             ],
             [
              0.6666666666666666,
              "#ed7953"
             ],
             [
              0.7777777777777778,
              "#fb9f3a"
             ],
             [
              0.8888888888888888,
              "#fdca26"
             ],
             [
              1,
              "#f0f921"
             ]
            ],
            "type": "histogram2d"
           }
          ],
          "histogram2dcontour": [
           {
            "colorbar": {
             "outlinewidth": 0,
             "ticks": ""
            },
            "colorscale": [
             [
              0,
              "#0d0887"
             ],
             [
              0.1111111111111111,
              "#46039f"
             ],
             [
              0.2222222222222222,
              "#7201a8"
             ],
             [
              0.3333333333333333,
              "#9c179e"
             ],
             [
              0.4444444444444444,
              "#bd3786"
             ],
             [
              0.5555555555555556,
              "#d8576b"
             ],
             [
              0.6666666666666666,
              "#ed7953"
             ],
             [
              0.7777777777777778,
              "#fb9f3a"
             ],
             [
              0.8888888888888888,
              "#fdca26"
             ],
             [
              1,
              "#f0f921"
             ]
            ],
            "type": "histogram2dcontour"
           }
          ],
          "mesh3d": [
           {
            "colorbar": {
             "outlinewidth": 0,
             "ticks": ""
            },
            "type": "mesh3d"
           }
          ],
          "parcoords": [
           {
            "line": {
             "colorbar": {
              "outlinewidth": 0,
              "ticks": ""
             }
            },
            "type": "parcoords"
           }
          ],
          "pie": [
           {
            "automargin": true,
            "type": "pie"
           }
          ],
          "scatter": [
           {
            "fillpattern": {
             "fillmode": "overlay",
             "size": 10,
             "solidity": 0.2
            },
            "type": "scatter"
           }
          ],
          "scatter3d": [
           {
            "line": {
             "colorbar": {
              "outlinewidth": 0,
              "ticks": ""
             }
            },
            "marker": {
             "colorbar": {
              "outlinewidth": 0,
              "ticks": ""
             }
            },
            "type": "scatter3d"
           }
          ],
          "scattercarpet": [
           {
            "marker": {
             "colorbar": {
              "outlinewidth": 0,
              "ticks": ""
             }
            },
            "type": "scattercarpet"
           }
          ],
          "scattergeo": [
           {
            "marker": {
             "colorbar": {
              "outlinewidth": 0,
              "ticks": ""
             }
            },
            "type": "scattergeo"
           }
          ],
          "scattergl": [
           {
            "marker": {
             "colorbar": {
              "outlinewidth": 0,
              "ticks": ""
             }
            },
            "type": "scattergl"
           }
          ],
          "scattermapbox": [
           {
            "marker": {
             "colorbar": {
              "outlinewidth": 0,
              "ticks": ""
             }
            },
            "type": "scattermapbox"
           }
          ],
          "scatterpolar": [
           {
            "marker": {
             "colorbar": {
              "outlinewidth": 0,
              "ticks": ""
             }
            },
            "type": "scatterpolar"
           }
          ],
          "scatterpolargl": [
           {
            "marker": {
             "colorbar": {
              "outlinewidth": 0,
              "ticks": ""
             }
            },
            "type": "scatterpolargl"
           }
          ],
          "scatterternary": [
           {
            "marker": {
             "colorbar": {
              "outlinewidth": 0,
              "ticks": ""
             }
            },
            "type": "scatterternary"
           }
          ],
          "surface": [
           {
            "colorbar": {
             "outlinewidth": 0,
             "ticks": ""
            },
            "colorscale": [
             [
              0,
              "#0d0887"
             ],
             [
              0.1111111111111111,
              "#46039f"
             ],
             [
              0.2222222222222222,
              "#7201a8"
             ],
             [
              0.3333333333333333,
              "#9c179e"
             ],
             [
              0.4444444444444444,
              "#bd3786"
             ],
             [
              0.5555555555555556,
              "#d8576b"
             ],
             [
              0.6666666666666666,
              "#ed7953"
             ],
             [
              0.7777777777777778,
              "#fb9f3a"
             ],
             [
              0.8888888888888888,
              "#fdca26"
             ],
             [
              1,
              "#f0f921"
             ]
            ],
            "type": "surface"
           }
          ],
          "table": [
           {
            "cells": {
             "fill": {
              "color": "#EBF0F8"
             },
             "line": {
              "color": "white"
             }
            },
            "header": {
             "fill": {
              "color": "#C8D4E3"
             },
             "line": {
              "color": "white"
             }
            },
            "type": "table"
           }
          ]
         },
         "layout": {
          "annotationdefaults": {
           "arrowcolor": "#2a3f5f",
           "arrowhead": 0,
           "arrowwidth": 1
          },
          "autotypenumbers": "strict",
          "coloraxis": {
           "colorbar": {
            "outlinewidth": 0,
            "ticks": ""
           }
          },
          "colorscale": {
           "diverging": [
            [
             0,
             "#8e0152"
            ],
            [
             0.1,
             "#c51b7d"
            ],
            [
             0.2,
             "#de77ae"
            ],
            [
             0.3,
             "#f1b6da"
            ],
            [
             0.4,
             "#fde0ef"
            ],
            [
             0.5,
             "#f7f7f7"
            ],
            [
             0.6,
             "#e6f5d0"
            ],
            [
             0.7,
             "#b8e186"
            ],
            [
             0.8,
             "#7fbc41"
            ],
            [
             0.9,
             "#4d9221"
            ],
            [
             1,
             "#276419"
            ]
           ],
           "sequential": [
            [
             0,
             "#0d0887"
            ],
            [
             0.1111111111111111,
             "#46039f"
            ],
            [
             0.2222222222222222,
             "#7201a8"
            ],
            [
             0.3333333333333333,
             "#9c179e"
            ],
            [
             0.4444444444444444,
             "#bd3786"
            ],
            [
             0.5555555555555556,
             "#d8576b"
            ],
            [
             0.6666666666666666,
             "#ed7953"
            ],
            [
             0.7777777777777778,
             "#fb9f3a"
            ],
            [
             0.8888888888888888,
             "#fdca26"
            ],
            [
             1,
             "#f0f921"
            ]
           ],
           "sequentialminus": [
            [
             0,
             "#0d0887"
            ],
            [
             0.1111111111111111,
             "#46039f"
            ],
            [
             0.2222222222222222,
             "#7201a8"
            ],
            [
             0.3333333333333333,
             "#9c179e"
            ],
            [
             0.4444444444444444,
             "#bd3786"
            ],
            [
             0.5555555555555556,
             "#d8576b"
            ],
            [
             0.6666666666666666,
             "#ed7953"
            ],
            [
             0.7777777777777778,
             "#fb9f3a"
            ],
            [
             0.8888888888888888,
             "#fdca26"
            ],
            [
             1,
             "#f0f921"
            ]
           ]
          },
          "colorway": [
           "#636efa",
           "#EF553B",
           "#00cc96",
           "#ab63fa",
           "#FFA15A",
           "#19d3f3",
           "#FF6692",
           "#B6E880",
           "#FF97FF",
           "#FECB52"
          ],
          "font": {
           "color": "#2a3f5f"
          },
          "geo": {
           "bgcolor": "white",
           "lakecolor": "white",
           "landcolor": "#E5ECF6",
           "showlakes": true,
           "showland": true,
           "subunitcolor": "white"
          },
          "hoverlabel": {
           "align": "left"
          },
          "hovermode": "closest",
          "mapbox": {
           "style": "light"
          },
          "paper_bgcolor": "white",
          "plot_bgcolor": "#E5ECF6",
          "polar": {
           "angularaxis": {
            "gridcolor": "white",
            "linecolor": "white",
            "ticks": ""
           },
           "bgcolor": "#E5ECF6",
           "radialaxis": {
            "gridcolor": "white",
            "linecolor": "white",
            "ticks": ""
           }
          },
          "scene": {
           "xaxis": {
            "backgroundcolor": "#E5ECF6",
            "gridcolor": "white",
            "gridwidth": 2,
            "linecolor": "white",
            "showbackground": true,
            "ticks": "",
            "zerolinecolor": "white"
           },
           "yaxis": {
            "backgroundcolor": "#E5ECF6",
            "gridcolor": "white",
            "gridwidth": 2,
            "linecolor": "white",
            "showbackground": true,
            "ticks": "",
            "zerolinecolor": "white"
           },
           "zaxis": {
            "backgroundcolor": "#E5ECF6",
            "gridcolor": "white",
            "gridwidth": 2,
            "linecolor": "white",
            "showbackground": true,
            "ticks": "",
            "zerolinecolor": "white"
           }
          },
          "shapedefaults": {
           "line": {
            "color": "#2a3f5f"
           }
          },
          "ternary": {
           "aaxis": {
            "gridcolor": "white",
            "linecolor": "white",
            "ticks": ""
           },
           "baxis": {
            "gridcolor": "white",
            "linecolor": "white",
            "ticks": ""
           },
           "bgcolor": "#E5ECF6",
           "caxis": {
            "gridcolor": "white",
            "linecolor": "white",
            "ticks": ""
           }
          },
          "title": {
           "x": 0.05
          },
          "xaxis": {
           "automargin": true,
           "gridcolor": "white",
           "linecolor": "white",
           "ticks": "",
           "title": {
            "standoff": 15
           },
           "zerolinecolor": "white",
           "zerolinewidth": 2
          },
          "yaxis": {
           "automargin": true,
           "gridcolor": "white",
           "linecolor": "white",
           "ticks": "",
           "title": {
            "standoff": 15
           },
           "zerolinecolor": "white",
           "zerolinewidth": 2
          }
         }
        }
       }
      },
      "text/html": [
       "<div>                            <div id=\"5175da22-a064-424f-8075-a98b1b9a5824\" class=\"plotly-graph-div\" style=\"height:525px; width:100%;\"></div>            <script type=\"text/javascript\">                require([\"plotly\"], function(Plotly) {                    window.PLOTLYENV=window.PLOTLYENV || {};                                    if (document.getElementById(\"5175da22-a064-424f-8075-a98b1b9a5824\")) {                    Plotly.newPlot(                        \"5175da22-a064-424f-8075-a98b1b9a5824\",                        [{\"branchvalues\":\"total\",\"customdata\":[[\"Acid gummy candies\"],[\"Advent calendars\"],[\"Alaska pollock\"],[\"Albacore\"],[\"Alimentos-y-bebidas-de-origen-vegetal-alimentos-de-origen-vegetal-untables-desayunos-untables-vegetales-untables-dulces-preparaciones-a-base-de-frutas-y-verduras-mermeladas-y-confituras-mermeladas-y-confituras-de-frutas-del-bosque-mermeladas-y-confituras-de-fresa\"],[\"Almond butters\"],[\"Almond flakes\"],[\"Almond meal\"],[\"Almond milk yogurts\"],[\"Almond paste\"],[\"Anchovy\"],[\"Appetizers\"],[\"Apple compotes\"],[\"Apple turnovers\"],[\"Apples\"],[\"Apples jellies\"],[\"Applesauces\"],[\"Apricot Apple compotes\"],[\"Apricot compotes\"],[\"Apricot jams\"],[\"Apricot yogurts\"],[\"Arabica ground coffees\"],[\"Artichoke hearts\"],[\"Assorted chocolate candies\"],[\"Assorted chocolates\"],[\"Assorted jams\"],[\"Assortiments-de-biscuits\"],[\"Assortments-of-compotes\"],[\"BCAA\"],[\"Bacon\"],[\"Baeri caviars\"],[\"Baguettes\"],[\"Baked beans in tomato sauce\"],[\"Banana Apple compotes\"],[\"Bars\"],[\"Basil\"],[\"Basmati rices\"],[\"Basque cake with custard\"],[\"Bass\"],[\"Batonnets-de-poisson\"],[\"Bayonne ham\"],[\"Beef\"],[\"Beef Cannelloni\"],[\"Beef carpaccio\"],[\"Beef dishes\"],[\"Beef flank steak\"],[\"Beef jerkies\"],[\"Beef livers\"],[\"Beef meat balls\"],[\"Beef meat balls with tomato sauce\"],[\"Beef merguez\"],[\"Beef rib steak\"],[\"Beef skewers\"],[\"Beef steaks\"],[\"Beet\"],[\"Berry jams\"],[\"Beverages\"],[\"Bigarade orange marmelades\"],[\"Bilberries jams\"],[\"Biscuit with a chocolate bar covering\"],[\"Biscuit with a milk chocolate bar covering\"],[\"Biscuits\"],[\"Biscuits and cakes\"],[\"Black grapes\"],[\"Black olives in oil\"],[\"Black seedless grapes\"],[\"Black truffles\"],[\"Blackberry jams\"],[\"Blackberry jellies\"],[\"Blackcurrant jams\"],[\"Blackcurrants jellies\"],[\"Blackcurrent sorbets\"],[\"Block of foie gras\"],[\"Blonde lentils\"],[\"Blueberry applesauces\"],[\"Blueberry muffins\"],[\"Boar terrines\"],[\"Bodybuilding supplements\"],[\"Bolognese Cannelloni\"],[\"Bolognese lasagne\"],[\"Bolognese sauces\"],[\"Bonbons\"],[\"Bonbons-bio\"],[\"Bottarga\"],[\"Bread crumbs\"],[\"Bread flours\"],[\"Breaded Alaska pollock\"],[\"Breaded chicken\"],[\"Breaded cod fish\"],[\"Breaded fish\"],[\"Breaded fish substitutes\"],[\"Breaded hake fish\"],[\"Breaded lemon sole\"],[\"Breaded products\"],[\"Breads\"],[\"Breads with nuts\"],[\"Breads with raisins\"],[\"Breadsticks\"],[\"Breakfast cereals\"],[\"Bresaola\"],[\"Bries\"],[\"Brioche filled with chocolate drops\"],[\"Brioches\"],[\"Brookies\"],[\"Brotaufstriche\"],[\"Brownies\"],[\"Brussels sprouts\"],[\"Buffalo burrata\"],[\"Bulgur\"],[\"Burrata\"],[\"Butter croissants\"],[\"B\\u0153ufs bourguignons\"],[\"Caen-style tripes\"],[\"Cake mixes\"],[\"Cakes\"],[\"Calissons\"],[\"Cambodia\"],[\"Camemberts from pasteurized cow milk\"],[\"Canary grass\"],[\"Candied fruits\"],[\"Candies\"],[\"Candy meringues\"],[\"Cane sugar\"],[\"Canel\\u00e9s\"],[\"Canned asparagus\"],[\"Canned champignon mushrooms\"],[\"Canned chickpeas\"],[\"Canned corn\"],[\"Canned foods\"],[\"Canned green asparagus\"],[\"Canned green beans\"],[\"Canned meals\"],[\"Canned mixed fruit in syrup\"],[\"Canned peas and carrots\"],[\"Canned prepared mixed tuna and vegetable salad\"],[\"Canned raviolis\"],[\"Canned sardines\"],[\"Canned tunas\"],[\"Canned vegetable soups\"],[\"Canned vegetables\"],[\"Canned white asparagus\"],[\"Canned-kidney-common-beans\"],[\"Cappuccino\"],[\"Caramel spreads\"],[\"Caramel yogurts\"],[\"Caramelized peanuts\"],[\"Caramels\"],[\"Cardoons\"],[\"Carrots\"],[\"Cashew nuts\"],[\"Cassoulets\"],[\"Cassoulets with duck confit\"],[\"Cayenne peppers\"],[\"Cereal clusters with chocolate\"],[\"Cereal clusters with nuts\"],[\"Cereal grains\"],[\"Cereal semolinas\"],[\"Cereal variety packs\"],[\"Cereal-milk-chocolates\"],[\"Cereals and their products\"],[\"Cereals and vegetables patties\"],[\"Cervelat\"],[\"Chaource\"],[\"Cheese buche from goat's milk\"],[\"Cheese pies\"],[\"Cheese ravioli\"],[\"Cheese sauces\"],[\"Cheese spreads\"],[\"Cheeseburgers\"],[\"Cheeses\"],[\"Cherry jams\"],[\"Chestnut applesauces\"],[\"Chestnut flours\"],[\"Chestnut honey\"],[\"Chestnut ice creams\"],[\"Chestnut spreads\"],[\"Chewing gum\"],[\"Chia\"],[\"Chicken breasts\"],[\"Chicken couscous\"],[\"Chicken curry\"],[\"Chicken cutlets\"],[\"Chicken nems\"],[\"Chicken nuggets\"],[\"Chicken rillettes\"],[\"Chicken risottos\"],[\"Chicken sandwiches\"],[\"Chicken tajine\"],[\"Chicken terrines\"],[\"Chicken thighs\"],[\"Chicken wings\"],[\"Chickens\"],[\"Chickpeas\"],[\"Chinese noodles\"],[\"Chinese nougats\"],[\"Chipolatas\"],[\"Chitterling sausage\"],[\"Chives\"],[\"Chocolate biscuits\"],[\"Chocolate cakes\"],[\"Chocolate cereals\"],[\"Chocolate chip cookies\"],[\"Chocolate covered almonds\"],[\"Chocolate covered cranberries\"],[\"Chocolate croissant\"],[\"Chocolate filled with praline\"],[\"Chocolate madeleines\"],[\"Chocolate mousses\"],[\"Chocolate powders\"],[\"Chocolate rabbits\"],[\"Chocolate stuffed wafers\"],[\"Chocolate truffles\"],[\"Chocolates\"],[\"Chocolates with extra fine milk\"],[\"Chocolates with praline\"],[\"Chorizo\"],[\"Chorizo pizzas\"],[\"Cigarette Russes\"],[\"Cinnamon powder\"],[\"Clementines\"],[\"Cloves\"],[\"Cockerel in red wine sauce\"],[\"Cockles\"],[\"Cocktail sausage\"],[\"Cocoa and chocolate powders\"],[\"Cocoa and hazelnuts spreads\"],[\"Cocoa butter\"],[\"Cocoa powders\"],[\"Coconut Macaroons\"],[\"Coconut sugar\"],[\"Coconutmilk yogurts\"],[\"Cod fillets\"],[\"Cod livers\"],[\"Cods\"],[\"Coffee desserts\"],[\"Coffee tiramisu\"],[\"Coffees\"],[\"Cold starters\"],[\"Compotes\"],[\"Compotes to drink\"],[\"Condiments-sauces-mayonnaises\"],[\"Confectioneries\"],[\"Confit\"],[\"Cooked Prawns\"],[\"Cooked chicken breast slices\"],[\"Cooked ham choice\"],[\"Cooked pork shoulder\"],[\"Cooked shrimps\"],[\"Cooked turkey breast slices\"],[\"Cooked whelk\"],[\"Cooked-drained-sauerkraut-without-garnish\"],[\"Cooking helpers\"],[\"Coppa\"],[\"Coriander seeds\"],[\"Corn chips\"],[\"Corn flakes\"],[\"Corn salad\"],[\"Corn semolinas\"],[\"Corn semolinas for polenta\"],[\"Cotton candy\"],[\"Coulommiers\"],[\"Country terrines\"],[\"Country-style P\\u00e2t\\u00e9s\"],[\"Couscous with meat\"],[\"Cow cheeses\"],[\"Crackers\"],[\"Cream cheeses\"],[\"Cream of vegetable soups\"],[\"Creamy puddings\"],[\"Crepe filled with egg ham and cheese\"],[\"Crisps\"],[\"Croissants\"],[\"Croutons\"],[\"Crunchy muesli with chocolate not fortified with vitamins and chemical elements\"],[\"Crunchy mueslis\"],[\"Crunchy peanut butters\"],[\"Crystallized ginger\"],[\"Cr\\u00e8me br\\u00fbl\\u00e9e\"],[\"Cr\\u00eapes\"],[\"Cr\\u00eapes and galettes\"],[\"Cured hams\"],[\"Cured sausages\"],[\"Curry powder\"],[\"Cut\"],[\"Dairies\"],[\"Dairy chocolate desserts\"],[\"Dairy desserts\"],[\"Dark chocolate bar for cooking with more than 40% cocoa\"],[\"Dark chocolate bar with less than 70% cocoa\"],[\"Dark chocolate bar with more than 70% cocoa\"],[\"Dark chocolates\"],[\"Dark chocolates with hazelnuts\"],[\"Dark chocolates with orange\"],[\"Dark chocolates with praline\"],[\"Dark chocolates with sweeteners\"],[\"Date syrups\"],[\"Dauphin\\u00e9-style creamed potatoes au gratin\"],[\"Decorticated red lentils\"],[\"Deglet Noor dates\"],[\"Dehydrated potato flakes with milk\"],[\"Dehydrated soups\"],[\"Dessert-mixes\"],[\"Desserts\"],[\"Diced ham\"],[\"Dietary supplements\"],[\"Dill\"],[\"Double concentrate tomato paste\"],[\"Double-concentre-de-tomate\"],[\"Doughnuts\"],[\"Drag\\u00e9es\"],[\"Dried apples\"],[\"Dried apricots\"],[\"Dried cranberries\"],[\"Dried figs\"],[\"Dried fruits\"],[\"Dried goji\"],[\"Dried golden berries\"],[\"Dried hams\"],[\"Dried mangoes\"],[\"Dried prunes\"],[\"Dried shiitake mushrooms\"],[\"Dried tomato in oil\"],[\"Drinkable yogurts\"],[\"Dry egg pastas\"],[\"Dry pastas\"],[\"Dry sausages\"],[\"Duck breasts\"],[\"Duck dishes\"],[\"Duck fillets\"],[\"Duck gizzards\"],[\"Duck liver foie gras without pieces\"],[\"Duck mousse\"],[\"Duck rillettes\"],[\"Duck sausages\"],[\"Duck terrines\"],[\"Durum wheat macaroni\"],[\"Durum wheat pasta\"],[\"Durum wheat pasta with egg\"],[\"Durum wheat semolinas\"],[\"Durum wheat semolinas for couscous\"],[\"Durum wheat spaghetti\"],[\"Easter eggs\"],[\"Easter food\"],[\"Eastern tabbouleh\"],[\"Eclairs\"],[\"Egg pastas\"],[\"Egg roll with cooked shrimp\"],[\"Egg tagliatelle\"],[\"Eggplant Gratin\"],[\"Eggplant caviar\"],[\"Emmentaler\"],[\"Energy bars\"],[\"English muffins\"],[\"Epicerie\"],[\"Extra fine dark chocolates\"],[\"Extruded crispbreads\"],[\"Extruded flakes\"],[\"Faiselles\"],[\"Fajitas\"],[\"Falafels\"],[\"Fennel seeds\"],[\"Fermented foods\"],[\"Fig chutneys\"],[\"Figs\"],[\"Figs jams\"],[\"Filets-de-poulet\"],[\"Filled biscuits\"],[\"Filled cakes\"],[\"Filled cereals\"],[\"Filled chocolate eggs\"],[\"Filled cr\\u00eapes with chocolate\"],[\"Filled dark chocolates\"],[\"Filled milk chocolates\"],[\"Filled sponge cake slices\"],[\"Filled-sponge-cake-rolls\"],[\"Financiers\"],[\"Fish fingers\"],[\"Fish hamburgers\"],[\"Fish patties\"],[\"Fish rillettes\"],[\"Fish soups\"],[\"Fish spreads\"],[\"Fish-croquette-fritter\"],[\"Fishes\"],[\"Flavored and colored dry pastas\"],[\"Flavoured white chocolates\"],[\"Flavoured yogurts\"],[\"Flower honeys\"],[\"Focaccia\"],[\"Foies gras\"],[\"Foies gras from ducks\"],[\"Foies gras from gooses\"],[\"Foies gras p\\u00e2t\\u00e9s\"],[\"Fondants\"],[\"Food colorings\"],[\"Food decorations\"],[\"Fortune-cookies\"],[\"Four Cheese Pizza\"],[\"Fourme d'Ambert cheese from cow's milk\"],[\"Frankfurter sausages\"],[\"French bread ball with yeast\"],[\"French candies\"],[\"French confectioneries\"],[\"Fresh Brussels sprouts\"],[\"Fresh apples\"],[\"Fresh apricots\"],[\"Fresh aubergines\"],[\"Fresh blueberries\"],[\"Fresh broccoli\"],[\"Fresh carrots\"],[\"Fresh clementines\"],[\"Fresh grapes\"],[\"Fresh green beans\"],[\"Fresh ground beef preparations\"],[\"Fresh ground beef steaks\"],[\"Fresh kiwifruits\"],[\"Fresh leeks\"],[\"Fresh lemons\"],[\"Fresh mandarin oranges\"],[\"Fresh meals\"],[\"Fresh meats\"],[\"Fresh nectarines\"],[\"Fresh onions\"],[\"Fresh oranges\"],[\"Fresh peaches\"],[\"Fresh pears\"],[\"Fresh plant-based foods\"],[\"Fresh plums\"],[\"Fresh raspberries\"],[\"Fresh red onions\"],[\"Fresh red radishes\"],[\"Fresh spinachs\"],[\"Fresh strawberries\"],[\"Fresh sweet corn\"],[\"Fresh sweet peppers\"],[\"Fresh tabbouleh\"],[\"Fresh tomatoes\"],[\"Fresh turnips\"],[\"Fresh zucchini\"],[\"Fried foods\"],[\"Fried rice\"],[\"Fromages-fondus\"],[\"Frozen baby carrots\"],[\"Frozen basil\"],[\"Frozen broccolis\"],[\"Frozen cauliflower florets\"],[\"Frozen cooked dauphine potato\"],[\"Frozen cooked duchesse potato\"],[\"Frozen cooked pre-fried potato cubes\"],[\"Frozen duchesse potatoes\"],[\"Frozen fish in sauce\"],[\"Frozen fishes\"],[\"Frozen foods\"],[\"Frozen fries\"],[\"Frozen green beans\"],[\"Frozen ground beef preparations\"],[\"Frozen ground beef steaks\"],[\"Frozen hake fillet\"],[\"Frozen lasagne\"],[\"Frozen leeks\"],[\"Frozen meat preparations\"],[\"Frozen microwave fries\"],[\"Frozen mixed vegetables\"],[\"Frozen pizzas\"],[\"Frozen potato rostis\"],[\"Frozen potatoes\"],[\"Frozen pre-fried mashed potato balls\"],[\"Frozen ready-made meals\"],[\"Frozen roasted French fries\"],[\"Frozen snacks and starters\"],[\"Frozen spinachs\"],[\"Frozen vegetable soups\"],[\"Frozen vegetables\"],[\"Frozen-pre-fried-potato-cubes\"],[\"Fruit and vegetable preserves\"],[\"Fruit cakes\"],[\"Fruit curds\"],[\"Fruit jellies\"],[\"Fruit muffins\"],[\"Fruit pastes\"],[\"Fruit skyrs\"],[\"Fruit stirred yogurts\"],[\"Fruit yogurts\"],[\"Fruit yogurts with fruit chunks\"],[\"Fruit-based beverages\"],[\"Fruits\"],[\"Fruits based foods\"],[\"Fruits compote with reduced sugar\"],[\"Fruits desserts\"],[\"Fruits puree without sugar added\"],[\"Fusilli\"],[\"Gala apples\"],[\"Garlic sausage\"],[\"Gateaux\"],[\"Gateaux-marbres\"],[\"Gaufrettes-fourres-vanille\"],[\"Gelatin\"],[\"Gherkins\"],[\"Ginger\"],[\"Ginger powder\"],[\"Gingerbreads\"],[\"Gluten-free breads\"],[\"Gluten-free sliced breads\"],[\"Gnocchi\"],[\"Goat cheeses\"],[\"Golden Delicious apples\"],[\"Goose rillettes\"],[\"Gouda\"],[\"Grana Padano\"],[\"Granulated sugars\"],[\"Grated cheese\"],[\"Grated coconut\"],[\"Grated emmentaler\"],[\"Greek-style yogurts\"],[\"Green asparagus\"],[\"Green beans\"],[\"Green grapes\"],[\"Green lentils\"],[\"Green olives stuffed of peppers\"],[\"Green pitted olives\"],[\"Green seedless grapes\"],[\"Green tapenades\"],[\"Green teas with mint\"],[\"Greengage plum jams\"],[\"Grenaille potatoes\"],[\"Grilled peppers\"],[\"Groceries\"],[\"Ground beef meats\"],[\"Ground beef preparations\"],[\"Ground beef steaks\"],[\"Ground black peppers\"],[\"Ground coffees\"],[\"Ground cumin seedskumin\"],[\"Ground meat preparations\"],[\"Ground meats\"],[\"Ground white peppers\"],[\"Grounded grey peppers\"],[\"Gummi candies\"],[\"Half-salted butter\"],[\"Halloween foods and drinks\"],[\"Ham and butter sandwiches\"],[\"Hams\"],[\"Hazelnut spreads\"],[\"Hazelnuts powder\"],[\"Head cheese\"],[\"Herbal teas\"],[\"Herbes de Provence\"],[\"Herbs\"],[\"Herring fillets\"],[\"Hollow chocolate eggs\"],[\"Honey candies\"],[\"Honeys\"],[\"Honeys from France\"],[\"Honeys from the mountains\"],[\"Hot dog sandwiches\"],[\"Hummus\"],[\"Ice cream bars\"],[\"Ice cream cones\"],[\"Ice creams\"],[\"Industrial cheese\"],[\"Industrial knacks\"],[\"Instant noodle soups\"],[\"Instant noodles\"],[\"Jaffa cakes\"],[\"Jams\"],[\"Japanese ravioli\"],[\"Jasmine rice\"],[\"Jelly beans\"],[\"King cakes\"],[\"Kiwifruits\"],[\"Knuckle of ham cooked\"],[\"Kumquats\"],[\"Labeled-cheeses\"],[\"Lamb meat\"],[\"Lardons\"],[\"Lasagna sheets\"],[\"Latte macchiato\"],[\"Leaf salads\"],[\"Leek quiche\"],[\"Leeks fondue\"],[\"Legume flours\"],[\"Lemon curds\"],[\"Lemon sorbets\"],[\"Lemon tarts\"],[\"Lentils\"],[\"Lettuces\"],[\"Licensed products\"],[\"Light compotes\"],[\"Linguine\"],[\"Liquid caramel\"],[\"Lollipops\"],[\"Long grain rices\"],[\"Lorraine quiche\"],[\"Low sugar fruit jam\"],[\"Lump sugar\"],[\"Luxury ice cream in a box\"],[\"Macarons\"],[\"Mackerel\"],[\"Mackerel fillets\"],[\"Mackerel fillets in mustard sauce\"],[\"Mackerel fillets in white wine and herbs\"],[\"Mackerel rillettes\"],[\"Mackerels\"],[\"Madeleines\"],[\"Mandarin jams\"],[\"Mandarin sorbets\"],[\"Mango applesauces\"],[\"Mango chutneys\"],[\"Mango compotes\"],[\"Mangoes in syrup\"],[\"Manuka honeys\"],[\"Marble cakes\"],[\"Margarines\"],[\"Margherita Pizza\"],[\"Marinated anchovy fillets with vegetable oil\"],[\"Marmalades\"],[\"Marrons glac\\u00e9s\"],[\"Marshmallows\"],[\"Marshmallows coated with chocolate\"],[\"Mayonnaises\"],[\"Mazafati dates\"],[\"Meals\"],[\"Meals with chicken\"],[\"Meals with fish\"],[\"Meals with meat\"],[\"Meat analogues\"],[\"Meat patties\"],[\"Meat preparations\"],[\"Meats\"],[\"Melon jams\"],[\"Melon sorbets\"],[\"Melted cheese\"],[\"Meringues\"],[\"Microwave fries\"],[\"Microwave meals\"],[\"Milk bread rolls\"],[\"Milk bread rolls with chocolate\"],[\"Milk chocolate candies\"],[\"Milk chocolate with caramel\"],[\"Milk chocolates\"],[\"Milk chocolates with fleur de sel\"],[\"Milk chocolates with hazelnuts\"],[\"Milk chocolates with sweeteners\"],[\"Milk-chocolate-with-orange-oil\"],[\"Minced beef steak with 15% fat\"],[\"Minced beef steak with 5% fat\"],[\"Mint\"],[\"Mirabelle plum jams\"],[\"Mix of cereals and legumes\"],[\"Mixed berry jams\"],[\"Mixed fruit jams\"],[\"Mixes for panna cotta\"],[\"Mochi\"],[\"Molded butters\"],[\"Molten chocolate cakes\"],[\"Mortadella with pistachios pure pork\"],[\"Mozzarella\"],[\"Mozzarella di Bufala Campana\"],[\"Mueslis\"],[\"Mueslis with chocolate\"],[\"Mueslis with fruits\"],[\"Multifruit pastes\"],[\"Multifruit sorbets\"],[\"Multigrain sliced breads\"],[\"Munster\"],[\"Nems\"],[\"Non-dairy desserts\"],[\"Non-dairy yogurts\"],[\"Noodles\"],[\"Nori seaweeds\"],[\"Norman-style pies\"],[\"Nougats\"],[\"Nutmeg\"],[\"Nuts\"],[\"Nuts and their products\"],[\"Old Goudas\"],[\"Olive veal\"],[\"Open Beauty Facts\"],[\"Open pies\"],[\"Orange jams\"],[\"Oranges\"],[\"Oregano\"],[\"Paella\"],[\"Pains de campagne\"],[\"Pains-au-lait-natures\"],[\"Pan-fried dishes\"],[\"Paprika\"],[\"Parboiled rices\"],[\"Parmigiano-Reggiano\"],[\"Parsley\"],[\"Pasta dishes\"],[\"Pasta gratin\"],[\"Pastas\"],[\"Pasteurized cheeses\"],[\"Peach applesauce\"],[\"Peach jams\"],[\"Peanut butters\"],[\"Peanuts\"],[\"Pear applesauces\"],[\"Pear jams\"],[\"Pear sorbets\"],[\"Pecan nuts\"],[\"Peeled tomatoes\"],[\"Penne rigate\"],[\"Pepperoni pizzas\"],[\"Petit-Beurre\"],[\"Pheasant terrines\"],[\"Pickled gherkins\"],[\"Pine nuts\"],[\"Pineapple in syrup\"],[\"Pineapple jams\"],[\"Pistachio ice cream tubs\"],[\"Pitted dates\"],[\"Pizza with ham and cheese\"],[\"Pizzas\"],[\"Plain buckwheat crepes\"],[\"Plain corn flakes\"],[\"Plain corn flakes fortified with vitamins and chemical elements\"],[\"Plain crepes\"],[\"Plain lardons\"],[\"Plain madeleines\"],[\"Plain salty snacks\"],[\"Plain skyrs\"],[\"Plain sprits biscuits\"],[\"Plain yogurt with sugar\"],[\"Plant milk chocolates\"],[\"Plant-based foods\"],[\"Plant-based meals\"],[\"Plant-based p\\u00e2t\\u00e9s\"],[\"Plum sorbets\"],[\"Polenta\"],[\"Pollock fillets\"],[\"Pork\"],[\"Pork belly\"],[\"Pork filet mignon\"],[\"Pork knuckle\"],[\"Pork meals\"],[\"Pork nems\"],[\"Pork racks\"],[\"Pork ribs\"],[\"Pork rillettes\"],[\"Pork roasts\"],[\"Pork salami\"],[\"Pork shoulders\"],[\"Pork terrines\"],[\"Potato crisps in sunflower oil\"],[\"Potato gnocchi\"],[\"Potatoes\"],[\"Potted parsley\"],[\"Poultry hams\"],[\"Poultry sausages\"],[\"Poultry terrines\"],[\"Pound Cake\"],[\"Powdered sugars\"],[\"Preparations made from crabs\"],[\"Preparations-made-from-fish-meat\"],[\"Prepared bruschetta toasts\"],[\"Prepared couscous\"],[\"Prepared meats\"],[\"Prepared rices\"],[\"Preserved pork liver\"],[\"Preserved poultry liver\"],[\"Pretzel\"],[\"Produits-laitiers\"],[\"Protein bars\"],[\"Protein powders\"],[\"Puff pastry sheets\"],[\"Puffed corn cakes\"],[\"Puffed corn cakes with black chocolate\"],[\"Puffed multigrain cakes\"],[\"Puffed rice\"],[\"Puffed rice cakes\"],[\"Puffed rice cakes with black chocolate\"],[\"Puffed rice cakes with milk chocolate\"],[\"Puffed salty snacks\"],[\"Puffed salty snacks made from maize\"],[\"Puffed spelt cakes\"],[\"Puffed wholegrain rice cakes\"],[\"Pulses\"],[\"Pumpkin seeds\"],[\"Pure beef merguez sausage\"],[\"Pure butter brioche\"],[\"Purple asparagus\"],[\"P\\u00e2t\\u00e9 in crust\"],[\"Quiches\"],[\"Quince jellies\"],[\"Quinoa\"],[\"Quinoa dishes\"],[\"Rabbit terrines\"],[\"Raclette\"],[\"Raisins\"],[\"Ras el hanout\"],[\"Raspberry applesauces\"],[\"Raspberry jams\"],[\"Raspberry yogurts\"],[\"Ratatouille\"],[\"Ravioli\"],[\"Ravioli with ricotta and spinach\"],[\"Raw-cured-ham\"],[\"Raw-sausage-meat-with-pure-pork\"],[\"Raw-spinach-young-leaves\"],[\"Reblochon\"],[\"Reconstituted turkey breast slices\"],[\"Red beans\"],[\"Redcurrants jams\"],[\"Redcurrants jellies\"],[\"Refrigerated chocolate creamy puddings\"],[\"Refrigerated falafel\"],[\"Refrigerated fruits compote with reduced sugar\"],[\"Refrigerated meals\"],[\"Regina pizza\"],[\"Relish\"],[\"Rhubarb applesauces\"],[\"Rhubarb jams\"],[\"Rhubarbs\"],[\"Rice flours\"],[\"Rice paper\"],[\"Rice puddings\"],[\"Rice vermicelli\"],[\"Rices\"],[\"Rigatoni\"],[\"Rillettes from Mans\"],[\"Rillettes pure pork\"],[\"Risotto with seafood\"],[\"Riz-au-lait-saveur-vanille\"],[\"Roasted hazelnuts\"],[\"Roasted peanuts\"],[\"Roasted pistachios\"],[\"Rocket\"],[\"Rolled oats\"],[\"Rosehip jams\"],[\"Rosette dry sausage\"],[\"Rostis\"],[\"Rum baba\"],[\"Rye breads\"],[\"Saint-Marcellin\"],[\"Saint-Paulin cheese\"],[\"Saithe\"],[\"Salads\"],[\"Salami\"],[\"Salmon fillets\"],[\"Salmon pizza\"],[\"Salmon roe\"],[\"Salmon steaks\"],[\"Salmons\"],[\"Salmons from farming\"],[\"Salt-cured pork belly with lentils\"],[\"Salted butter caramels\"],[\"Salted peanuts\"],[\"Salted pistachios\"],[\"Salted spreads\"],[\"Salts\"],[\"Salty Fritters\"],[\"Salty palmiers\"],[\"Salty snacks\"],[\"Salty snacks made from potato\"],[\"Samosas\"],[\"Sardine fillets\"],[\"Sardine fillets in olive oil\"],[\"Sardines in oil\"],[\"Sardines in oil and chili\"],[\"Sardines in oil and lemon\"],[\"Sardines in olive oil\"],[\"Sardines in sunflower oil\"],[\"Sardines in tomato sauce\"],[\"Sauces\"],[\"Sausage meat\"],[\"Sausages\"],[\"Sausages with lentils\"],[\"Saut\\u00e9ed Potatoes\"],[\"Saut\\u00e9ed black pudding\"],[\"Savory mousses\"],[\"Savoury-cake-with-cheese-vegetables-meat-fish-poultry\"],[\"Savoy-style sponge cake\"],[\"Scallop\"],[\"Seafood\"],[\"Semolina puddings\"],[\"Serrano ham\"],[\"Sheep dishes\"],[\"Sheep meat\"],[\"Shelled almonds\"],[\"Shelled hazelnuts\"],[\"Shepherd's pie\"],[\"Shepherd's pie with duck\"],[\"Shortbread\"],[\"Shortbread cookies\"],[\"Shortbread cookies from Brittany\"],[\"Shrimp risottos\"],[\"Shrimps\"],[\"Skewers\"],[\"Skipjack tuna\"],[\"Skyrs\"],[\"Sliced breads\"],[\"Sliced cheeses\"],[\"Small brioches\"],[\"Smoked cured hams\"],[\"Smoked lardons\"],[\"Smoked salmons\"],[\"Smoked salmons from farming\"],[\"Smoked sausages\"],[\"Smoked trouts\"],[\"Smoked tunas\"],[\"Smoked-duck-brests\"],[\"Snacks\"],[\"Snacks variety packs\"],[\"Snacks-snacks-sucres-cacao-et-derives-chocolats-chocolats-noirs\"],[\"Snacks-sucres\"],[\"Snails\"],[\"Sorbets\"],[\"Soups\"],[\"Spaghetti\"],[\"Spanish omelettes\"],[\"Speculoos\"],[\"Spice Mix\"],[\"Spinach with cream sauce\"],[\"Spinachs\"],[\"Spirulina\"],[\"Sponge fingers biscuit\"],[\"Sponge sandwich cake filled and topped with strawberries\"],[\"Sprits biscuits\"],[\"Star anise\"],[\"Starches\"],[\"Strasbourg sausages\"],[\"Strawberries\"],[\"Strawberry applesauces\"],[\"Strawberry jams\"],[\"Stuffed pastas\"],[\"Stuffed tomatoes\"],[\"Stuffed waffles\"],[\"Stuffing\"],[\"Sugared cr\\u00eapes\"],[\"Sugared popcorn\"],[\"Sugars\"],[\"Sunflower seeds\"],[\"Surimi\"],[\"Surimi on sticks\"],[\"Swedish-style pork and beef meat balls\"],[\"Sweet Fritters\"],[\"Sweet and sour sauces\"],[\"Sweet cream butters\"],[\"Sweet mousses\"],[\"Sweet potatoes\"],[\"Sweet snacks\"],[\"Sweetened beverages\"],[\"Sweeteners\"],[\"Syrups\"],[\"Tabbouleh\"],[\"Tagliatelle\"],[\"Tapenades\"],[\"Tapioca\"],[\"Taramasalata\"],[\"Tarragon\"],[\"Tartiflettes\"],[\"Tartlet biscuits with fruit preparation\"],[\"Teas\"],[\"Teriyaki sauces\"],[\"Terrines\"],[\"Three Cheese Pizza\"],[\"Thyme\"],[\"Tinned Mackerels\"],[\"Tiramisu\"],[\"Toasted bread rolls\"],[\"Toasted ham sandwich topped with grated cheese\"],[\"Toasts\"],[\"Tomato jams\"],[\"Tomato pastes\"],[\"Tomato pulps\"],[\"Tomato sauces\"],[\"Tomatoes\"],[\"Tortellini\"],[\"Toulouse sausages\"],[\"Traditional French baguette\"],[\"Tripe\"],[\"Tripoux\"],[\"Tropical fruit jams\"],[\"Trout rillettes\"],[\"Trout terrines\"],[\"Trouts\"],[\"Tuna chunks\"],[\"Tuna fillets\"],[\"Tuna in Catalan-style\"],[\"Tuna in brine\"],[\"Tuna lasagna\"],[\"Tuna samosas\"],[\"Tuna spreads\"],[\"Tunas\"],[\"Tunas in oil\"],[\"Tunas in sunflower oil\"],[\"Turkey cordons bleus\"],[\"Turkeys\"],[\"Turmeric powder\"],[\"Udon\"],[\"Unsalted butters\"],[\"Unsweetened beverages\"],[\"Vanilla flavored rice pudding\"],[\"Vanilla ice cream tubs\"],[\"Vanilla sugars\"],[\"Veal blanquette\"],[\"Veal sausages\"],[\"Vegan chocolate mousses\"],[\"Vegan creamy puddings\"],[\"Vegetable cakes\"],[\"Vegetable gyoza\"],[\"Vegetable nems\"],[\"Vegetable-jams\"],[\"Vegetables terrines\"],[\"Vegetarian balls\"],[\"Vegetarian patties\"],[\"Viande\"],[\"Viandes\"],[\"Viandes-charcuteries-jambons-jambons-blancs\"],[\"Vienna bread\"],[\"Viennoiseries\"],[\"Wafers\"],[\"Walnut kernels\"],[\"Walnuts\"],[\"Watermelon jams\"],[\"Wheat flour type 55 for bread\"],[\"Wheat flour type 65\"],[\"Wheat semolinas\"],[\"Wheats\"],[\"Whisky\"],[\"White Basmati rices\"],[\"White Jasmine rices\"],[\"White beans\"],[\"White chocolates\"],[\"White hams\"],[\"White hams with less salt\"],[\"White rices\"],[\"White smoked hams\"],[\"White wheat flours\"],[\"Whole almonds\"],[\"Whole black olives\"],[\"Whole champignon mushrooms\"],[\"Whole cumin seeds\"],[\"Whole foies gras\"],[\"Whole foies gras from ducks\"],[\"Whole green olives\"],[\"Whole or semi-whole durum wheat farfalle\"],[\"Whole-wheat-spaghetti\"],[\"Wild boars\"],[\"Wild salmons\"],[\"Yogurt cake\"],[\"Yogurt with fruits no 0% fat\"],[\"Yogurts\"],[\"Yogurts high in protein on a fruit layer\"],[\"bg:\\u041a\\u0430\\u0440\\u0442\\u043e\\u0444\\u0435\\u043d\\u0438 \\u043d\\u043e\\u0430\\u0437\\u0435\\u0442\\u0438\"],[\"de:Schwarzw\\u00e4lder Schinken\"],[\"de:instant-suppe\"],[\"de:tafelschokolade\"],[\"es:Fusilli de trigo duro\"],[\"es:Salchich\\u00f3n de Vic\"],[\"es:galletas-con-tableta-de-chocolate-con-leche\"],[\"fr:Aiguillettes de poulet\"],[\"fr:Allumettes de porc\"],[\"fr:Andouillettes\"],[\"fr:Andouillettes de Troyes\"],[\"fr:Andouillettes proven\\u00e7ales\"],[\"fr:Ar\\u00f4mes p\\u00e2tisserie\"],[\"fr:Assortiments chipolatas et merguez\"],[\"fr:Barres aux fruits\"],[\"fr:Barres chocolat\\u00e9es fourr\\u00e9es aux fruits\"],[\"fr:Bigorneaux\"],[\"fr:Biscottes de froment\"],[\"fr:Blancs de poulet aux herbes\"],[\"fr:Blinis\"],[\"fr:Bloc de foie gras avec morceaux\"],[\"fr:Boulettes de poissons\"],[\"fr:Brillat-Savarin\"],[\"fr:Brioches Vend\\u00e9ennes\"],[\"fr:Brioches aux fruits\"],[\"fr:Brioches tranch\\u00e9es\"],[\"fr:Brioches tress\\u00e9es\"],[\"fr:Charcuteries cuites\"],[\"fr:Charcuteries \\u00e0 cuire\"],[\"fr:Chipolatas aux herbes\"],[\"fr:Compotes pommes pruneau\"],[\"fr:Compotes pommes vanille\"],[\"fr:Compotes sans sucres\"],[\"fr:Coquillettes\"],[\"fr:Coquillettes de bl\\u00e9 dur\"],[\"fr:Crevettes d\\u00e9cortiqu\\u00e9es\"],[\"fr:Croissants ordinaires\"],[\"fr:Croquettes de pommes de terre surgel\\u00e9es\"],[\"fr:Cr\\u00eapes au jambon\"],[\"fr:Cr\\u00eapes de froment\"],[\"fr:C\\u00e9r\\u00e9ales pr\\u00e9par\\u00e9es\"],[\"fr:Farfalles\"],[\"fr:Farines de patate douce\"],[\"fr:Filets d'anchois marin\\u00e9s \\u00e0 la Proven\\u00e7ale\"],[\"fr:Filets de lieu noir\"],[\"fr:Filets de truite\"],[\"fr:Foies de lotte\"],[\"fr:Foies gras mi-cuits\"],[\"fr:Fondant au chocolat\"],[\"fr:Fougasses aux lardons\"],[\"fr:Fromages blancs\"],[\"fr:Fromages blancs aromatis\\u00e9s\"],[\"fr:Fromages blancs natures\"],[\"fr:Glaces aux noisettes\"],[\"fr:Grattons de canard\"],[\"fr:G\\u00e2che vend\\u00e9enne\"],[\"fr:G\\u00e2ches\"],[\"fr:Laits entiers concentr\\u00e9s\"],[\"fr:Lentille verte du Puy\"],[\"fr:Lot\"],[\"fr:Lunettes \\u00e0 la myrtille\"],[\"fr:Merguez\"],[\"fr:Mousses au chocolat noir\"],[\"fr:Mousses de foies\"],[\"fr:Mousses de foies de volailles\"],[\"fr:Orangettes\"],[\"fr:Pains d'\\u00e9pices au miel\"],[\"fr:Pains multic\\u00e9r\\u00e9ales\"],[\"fr:Plats susceptibles de contenir de la viande de cheval - lots retir\\u00e9s de la vente en f\\u00e9vrier 2013\"],[\"fr:Pommes dauphines\"],[\"fr:Po\\u00eal\\u00e9es \\u00e0 la landaise\"],[\"fr:Po\\u00eal\\u00e9es \\u00e0 la sarladaise\"],[\"fr:Pruneaux d'Agen\"],[\"fr:Pr\\u00e9fous\"],[\"fr:Ravioles\"],[\"fr:Rillettes de Saint-Jacques\"],[\"fr:Rillettes de poulet r\\u00f4ti\"],[\"fr:Rochers au chocolat\"],[\"fr:Rochers au chocolat au lait\"],[\"fr:Rochers au chocolat noir\"],[\"fr:Sardines \\u00e0 l'ancienne\"],[\"fr:Saucisses s\\u00e8ches\"],[\"fr:Saucissons cuits\"],[\"fr:Sels fins\"],[\"fr:Terrines de foie de volaille\"],[\"fr:Thon-crudit\\u00e9s\"],[\"fr:Thons albacore au naturel\"],[\"fr:Thons blancs au naturel\"],[\"fr:Tomates enti\\u00e8res pel\\u00e9es au jus\"],[\"fr:Tortellini au fromage\"],[\"fr:Tuile aux amandes\"],[\"fr:Velout\\u00e9s de l\\u00e9gumes verts\"],[\"fr:Yaourts multifruits\"],[\"fr:algues-grillees\"],[\"fr:aliments-a-base-de-plantes-seches\"],[\"fr:amandes-de-mer\"],[\"fr:amandine-aux-poires\"],[\"fr:aromates\"],[\"fr:axoa-de-canard\"],[\"fr:beignets\"],[\"fr:beignets-a-l-abricot\"],[\"fr:beignets-au-chocolat\"],[\"fr:bisque\"],[\"fr:bloc-de-foie-gras-de-canard-du-sud-ouest\"],[\"fr:bo-bun\"],[\"fr:bonbons-a-la-menthe\"],[\"fr:bonbons-aux-fruits\"],[\"fr:boucherie\"],[\"fr:brioches-aux-pralines\"],[\"fr:brioches-de-saint-genix\"],[\"fr:broyes-poitevins\"],[\"fr:carpaccio\"],[\"fr:carpaccios\"],[\"fr:carre-de-porc-pour-plancha-et-pierre-a-griller\"],[\"fr:cerises-confites\"],[\"fr:chicken-cordons-bleus\"],[\"fr:chicken-pies\"],[\"fr:chocolats-noir-a-croquer\"],[\"fr:colin-sauce-bio-basquaise\"],[\"fr:comple\"],[\"fr:compotes-de-cerise\"],[\"fr:compotes-de-figues\"],[\"fr:confiserie-aromatisee\"],[\"fr:confiseries-aromatisees\"],[\"fr:confitures-a-la-clementine-de-corse\"],[\"fr:cookie-brownie\"],[\"fr:coquillettes-au-ble-dur-complet\"],[\"fr:corail-d-oursin\"],[\"fr:cotriade\"],[\"fr:couteaux\"],[\"fr:crackers-emmental-graines-de-courge\"],[\"fr:crakers\"],[\"fr:craquants\"],[\"fr:creme-au-chocolat\"],[\"fr:creme-au-foie-de-canard\"],[\"fr:crudites\"],[\"fr:des-de-volaille\"],[\"fr:dessert-fruitier\"],[\"fr:dessert-pomme-cerise\"],[\"fr:dos-de-cabillaud\"],[\"fr:emiette\"],[\"fr:emiette-de-maquereau\"],[\"fr:emiette-de-thon\"],[\"fr:eminces-de-poulet\"],[\"fr:entrees-chaudes\"],[\"fr:epinards-cuisines\"],[\"fr:epinards-haches\"],[\"fr:epinards-haches-a-la-creme-surgeles\"],[\"fr:farines-de-chanvre\"],[\"fr:filet-de-colin-d-alaska\"],[\"fr:filets-de-maquereaux-au-curry\"],[\"fr:foie-gras-d-oie-entier\"],[\"fr:foie-gras-de-canard-entier-du-sud-ouest\"],[\"fr:friandises\"],[\"fr:fromage-frais-nature-a-3-de-matieres-grasses-environ\"],[\"fr:fromages-a-pate-dure-cuite\"],[\"fr:fruits-en-compote\"],[\"fr:fuet-catalan\"],[\"fr:galettes-sablees\"],[\"fr:gateau-basque\"],[\"fr:gateaux-aux-fruits\"],[\"fr:gateaux-aux-noisettes\"],[\"fr:gelees-de-fraises\"],[\"fr:gratin-de-courgettes\"],[\"fr:gyozas-au-poulet\"],[\"fr:herbes\"],[\"fr:jambonneaux\"],[\"fr:jambons-a-griller\"],[\"fr:jeunes-pousses\"],[\"fr:legume-en-bocal\"],[\"fr:lentilles-cuisinees\"],[\"fr:lieu\"],[\"fr:linguine-aux-oeufs\"],[\"fr:magret-de-canard-du-sud-ouest\"],[\"fr:maquereaux-a-l-huile-d-olive\"],[\"fr:maquereaux-a-la-biere\"],[\"fr:maquereaux-a-la-moutarde\"],[\"fr:maquereaux-a-la-tomate\"],[\"fr:maquereaux-au-citron\"],[\"fr:maquereaux-curry-et-amandes\"],[\"fr:maquereaux-marines-au-vin-blanc\"],[\"fr:marinade\"],[\"fr:marinades\"],[\"fr:mayonnaises-legeres\"],[\"fr:melanges-de-biscuits-souffles\"],[\"fr:melanges-de-cereales\"],[\"fr:melanges-de-salades\"],[\"fr:menu-fraicheur\"],[\"fr:meta-category\"],[\"fr:miettes-de-thon-blanc-a-la-tomate\"],[\"fr:mijotee\"],[\"fr:mirabelles\"],[\"fr:moules-au-vin-blanc\"],[\"fr:mousse\"],[\"fr:mousse-de-homard\"],[\"fr:mousse-de-poissons\"],[\"fr:mousses-de-homard\"],[\"fr:muffins-sales\"],[\"fr:noix-de-coco-en-cubes\"],[\"fr:nouilles-de-riz\"],[\"fr:oranges-sanguines\"],[\"fr:ovo-produits\"],[\"fr:pain-d-epices-foie-gras\"],[\"fr:pains-au-levain\"],[\"fr:pains-d-epices-aux-figues\"],[\"fr:palmiers-aux-olives\"],[\"fr:parmentier-de-thon\"],[\"fr:pates-de-sate\"],[\"fr:paupiettes-de-porc\"],[\"fr:paves-de-boeuf\"],[\"fr:peches-jaunes\"],[\"fr:pipe-rigate\"],[\"fr:plat\"],[\"fr:poissonnerie-sauricerie-negoce\"],[\"fr:poissons-panes-de-saumon\"],[\"fr:poissons-prepares\"],[\"fr:poitrines-fumees\"],[\"fr:pomme-de-terre-mac-cain\"],[\"fr:pommes-rissolees-surgelees\"],[\"fr:poudre-de-baobab\"],[\"fr:poudres-de-maca\"],[\"fr:preparation-en-cacao-maigre\"],[\"fr:preparations-a-tartiner-a-base-de-poisson\"],[\"fr:preparations-pour-sandwiches\"],[\"fr:preparations-pour-tabloules\"],[\"fr:produits-labellises\"],[\"fr:prune-rouge\"],[\"fr:quinoa-parfume-aux-epices-douces\"],[\"fr:rouille\"],[\"fr:rouilles\"],[\"fr:ruban-autocollant\"],[\"fr:salades\"],[\"fr:salades-au-maquereau\"],[\"fr:sardinade\"],[\"fr:sardines-a-l-huile-d-arachide\"],[\"fr:sardines-a-la-tapenade\"],[\"fr:sardines-au-muscadet-et-aux-aromates\"],[\"fr:sardines-aux-olives\"],[\"fr:sardines-chaudes\"],[\"fr:sardines-marinees-au-muscadet-et-aux-aromates\"],[\"fr:sauce-a-l-armagnac\"],[\"fr:sauces-au-basilic\"],[\"fr:sauces-crudites\"],[\"fr:saumon-fume-de-norvege\"],[\"fr:saumon-sauvage-du-pacifique\"],[\"fr:saumon-surgele\"],[\"fr:saumons-atlantique-fumes\"],[\"fr:saumons-fondues-de-poireaux\"],[\"fr:saumure\"],[\"fr:semoule-de-ble-dur-precuite-pour-couscous\"],[\"fr:sichuan\"],[\"fr:sirops-de-glucose\"],[\"fr:snaks\"],[\"fr:sorbets-a-l-argousier\"],[\"fr:soupe-artichaut-sarrasin-et-algues-de-bretagne\"],[\"fr:soupe-de-thon\"],[\"fr:specialite-de-pommes-d-abricots-et-d-acerola-sans-sucres-ajoutes\"],[\"fr:sucettes-sucrees\"],[\"fr:tablette-de-chocolat\"],[\"fr:tarama-au-caviar\"],[\"fr:taramas-aux-oeufs-de-truite\"],[\"fr:tartare-aux-algues\"],[\"fr:terrine-campagnarde\"],[\"fr:terrine-de-campagne-au-piment-d-espelette\"],[\"fr:terrine-rustique-de-canard\"],[\"fr:terrines-d-oie\"],[\"fr:terrines-de-dinde\"],[\"fr:terrines-de-lievre\"],[\"fr:terrines-de-pintade\"],[\"fr:terrines-de-sardine\"],[\"fr:the-vert-de-chine\"],[\"fr:thon-aux-epices\"],[\"fr:toast-chaud\"],[\"fr:tomates-cerise-olivette-bio\"],[\"fr:torsettes\"],[\"fr:vache\"],[\"fr:vegetarien\"],[\"fr:vegetarien-vegetalien\"],[\"fr:veloutes-de-crustaces\"],[\"fr:veloutes-de-homard\"],[\"fr:vermicelles-haricot-mungo\"],[\"fr:verrine\"],[\"fr:viandes-marinees\"],[\"fr:wasabi-coated-green-peas\"],[\"hu:Sert\\u00e9s M\\u00e1jkolb\\u00e1szok\"],[\"it:Calzone\"],[\"it:Fettuccine\"],[\"pt:avion\"],[\"\\u0414\\u0435\\u0441\\u0435\\u0440\\u0442\"]],\"domain\":{\"x\":[0.0,1.0],\"y\":[0.0,1.0]},\"hovertemplate\":\"labels=%{label}\\u003cbr\\u003equantity=%{value}\\u003cbr\\u003eparent=%{parent}\\u003cbr\\u003eid=%{id}\\u003cbr\\u003emain_category_en=%{customdata[0]}\\u003cextra\\u003e\\u003c\\u002fextra\\u003e\",\"ids\":[\"Acid gummy candies\",\"Advent calendars\",\"Alaska pollock\",\"Albacore\",\"Alimentos-y-bebidas-de-origen-vegetal-alimentos-de-origen-vegetal-untables-desayunos-untables-vegetales-untables-dulces-preparaciones-a-base-de-frutas-y-verduras-mermeladas-y-confituras-mermeladas-y-confituras-de-frutas-del-bosque-mermeladas-y-confituras-de-fresa\",\"Almond butters\",\"Almond flakes\",\"Almond meal\",\"Almond milk yogurts\",\"Almond paste\",\"Anchovy\",\"Appetizers\",\"Apple compotes\",\"Apple turnovers\",\"Apples\",\"Apples jellies\",\"Applesauces\",\"Apricot Apple compotes\",\"Apricot compotes\",\"Apricot jams\",\"Apricot yogurts\",\"Arabica ground coffees\",\"Artichoke hearts\",\"Assorted chocolate candies\",\"Assorted chocolates\",\"Assorted jams\",\"Assortiments-de-biscuits\",\"Assortments-of-compotes\",\"BCAA\",\"Bacon\",\"Baeri caviars\",\"Baguettes\",\"Baked beans in tomato sauce\",\"Banana Apple compotes\",\"Bars\",\"Basil\",\"Basmati rices\",\"Basque cake with custard\",\"Bass\",\"Batonnets-de-poisson\",\"Bayonne ham\",\"Beef\",\"Beef Cannelloni\",\"Beef carpaccio\",\"Beef dishes\",\"Beef flank steak\",\"Beef jerkies\",\"Beef livers\",\"Beef meat balls\",\"Beef meat balls with tomato sauce\",\"Beef merguez\",\"Beef rib steak\",\"Beef skewers\",\"Beef steaks\",\"Beet\",\"Berry jams\",\"Beverages\",\"Bigarade orange marmelades\",\"Bilberries jams\",\"Biscuit with a chocolate bar covering\",\"Biscuit with a milk chocolate bar covering\",\"Biscuits\",\"Biscuits and cakes\",\"Black grapes\",\"Black olives in oil\",\"Black seedless grapes\",\"Black truffles\",\"Blackberry jams\",\"Blackberry jellies\",\"Blackcurrant jams\",\"Blackcurrants jellies\",\"Blackcurrent sorbets\",\"Block of foie gras\",\"Blonde lentils\",\"Blueberry applesauces\",\"Blueberry muffins\",\"Boar terrines\",\"Bodybuilding supplements\",\"Bolognese Cannelloni\",\"Bolognese lasagne\",\"Bolognese sauces\",\"Bonbons\",\"Bonbons-bio\",\"Bottarga\",\"Bread crumbs\",\"Bread flours\",\"Breaded Alaska pollock\",\"Breaded chicken\",\"Breaded cod fish\",\"Breaded fish\",\"Breaded fish substitutes\",\"Breaded hake fish\",\"Breaded lemon sole\",\"Breaded products\",\"Breads\",\"Breads with nuts\",\"Breads with raisins\",\"Breadsticks\",\"Breakfast cereals\",\"Bresaola\",\"Bries\",\"Brioche filled with chocolate drops\",\"Brioches\",\"Brookies\",\"Brotaufstriche\",\"Brownies\",\"Brussels sprouts\",\"Buffalo burrata\",\"Bulgur\",\"Burrata\",\"Butter croissants\",\"B\\u0153ufs bourguignons\",\"Caen-style tripes\",\"Cake mixes\",\"Cakes\",\"Calissons\",\"Cambodia\",\"Camemberts from pasteurized cow milk\",\"Canary grass\",\"Candied fruits\",\"Candies\",\"Candy meringues\",\"Cane sugar\",\"Canel\\u00e9s\",\"Canned asparagus\",\"Canned champignon mushrooms\",\"Canned chickpeas\",\"Canned corn\",\"Canned foods\",\"Canned green asparagus\",\"Canned green beans\",\"Canned meals\",\"Canned mixed fruit in syrup\",\"Canned peas and carrots\",\"Canned prepared mixed tuna and vegetable salad\",\"Canned raviolis\",\"Canned sardines\",\"Canned tunas\",\"Canned vegetable soups\",\"Canned vegetables\",\"Canned white asparagus\",\"Canned-kidney-common-beans\",\"Cappuccino\",\"Caramel spreads\",\"Caramel yogurts\",\"Caramelized peanuts\",\"Caramels\",\"Cardoons\",\"Carrots\",\"Cashew nuts\",\"Cassoulets\",\"Cassoulets with duck confit\",\"Cayenne peppers\",\"Cereal clusters with chocolate\",\"Cereal clusters with nuts\",\"Cereal grains\",\"Cereal semolinas\",\"Cereal variety packs\",\"Cereal-milk-chocolates\",\"Cereals and their products\",\"Cereals and vegetables patties\",\"Cervelat\",\"Chaource\",\"Cheese buche from goat's milk\",\"Cheese pies\",\"Cheese ravioli\",\"Cheese sauces\",\"Cheese spreads\",\"Cheeseburgers\",\"Cheeses\",\"Cherry jams\",\"Chestnut applesauces\",\"Chestnut flours\",\"Chestnut honey\",\"Chestnut ice creams\",\"Chestnut spreads\",\"Chewing gum\",\"Chia\",\"Chicken breasts\",\"Chicken couscous\",\"Chicken curry\",\"Chicken cutlets\",\"Chicken nems\",\"Chicken nuggets\",\"Chicken rillettes\",\"Chicken risottos\",\"Chicken sandwiches\",\"Chicken tajine\",\"Chicken terrines\",\"Chicken thighs\",\"Chicken wings\",\"Chickens\",\"Chickpeas\",\"Chinese noodles\",\"Chinese nougats\",\"Chipolatas\",\"Chitterling sausage\",\"Chives\",\"Chocolate biscuits\",\"Chocolate cakes\",\"Chocolate cereals\",\"Chocolate chip cookies\",\"Chocolate covered almonds\",\"Chocolate covered cranberries\",\"Chocolate croissant\",\"Chocolate filled with praline\",\"Chocolate madeleines\",\"Chocolate mousses\",\"Chocolate powders\",\"Chocolate rabbits\",\"Chocolate stuffed wafers\",\"Chocolate truffles\",\"Chocolates\",\"Chocolates with extra fine milk\",\"Chocolates with praline\",\"Chorizo\",\"Chorizo pizzas\",\"Cigarette Russes\",\"Cinnamon powder\",\"Clementines\",\"Cloves\",\"Cockerel in red wine sauce\",\"Cockles\",\"Cocktail sausage\",\"Cocoa and chocolate powders\",\"Cocoa and hazelnuts spreads\",\"Cocoa butter\",\"Cocoa powders\",\"Coconut Macaroons\",\"Coconut sugar\",\"Coconutmilk yogurts\",\"Cod fillets\",\"Cod livers\",\"Cods\",\"Coffee desserts\",\"Coffee tiramisu\",\"Coffees\",\"Cold starters\",\"Compotes\",\"Compotes to drink\",\"Condiments-sauces-mayonnaises\",\"Confectioneries\",\"Confit\",\"Cooked Prawns\",\"Cooked chicken breast slices\",\"Cooked ham choice\",\"Cooked pork shoulder\",\"Cooked shrimps\",\"Cooked turkey breast slices\",\"Cooked whelk\",\"Cooked-drained-sauerkraut-without-garnish\",\"Cooking helpers\",\"Coppa\",\"Coriander seeds\",\"Corn chips\",\"Corn flakes\",\"Corn salad\",\"Corn semolinas\",\"Corn semolinas for polenta\",\"Cotton candy\",\"Coulommiers\",\"Country terrines\",\"Country-style P\\u00e2t\\u00e9s\",\"Couscous with meat\",\"Cow cheeses\",\"Crackers\",\"Cream cheeses\",\"Cream of vegetable soups\",\"Creamy puddings\",\"Crepe filled with egg ham and cheese\",\"Crisps\",\"Croissants\",\"Croutons\",\"Crunchy muesli with chocolate not fortified with vitamins and chemical elements\",\"Crunchy mueslis\",\"Crunchy peanut butters\",\"Crystallized ginger\",\"Cr\\u00e8me br\\u00fbl\\u00e9e\",\"Cr\\u00eapes\",\"Cr\\u00eapes and galettes\",\"Cured hams\",\"Cured sausages\",\"Curry powder\",\"Cut\",\"Dairies\",\"Dairy chocolate desserts\",\"Dairy desserts\",\"Dark chocolate bar for cooking with more than 40% cocoa\",\"Dark chocolate bar with less than 70% cocoa\",\"Dark chocolate bar with more than 70% cocoa\",\"Dark chocolates\",\"Dark chocolates with hazelnuts\",\"Dark chocolates with orange\",\"Dark chocolates with praline\",\"Dark chocolates with sweeteners\",\"Date syrups\",\"Dauphin\\u00e9-style creamed potatoes au gratin\",\"Decorticated red lentils\",\"Deglet Noor dates\",\"Dehydrated potato flakes with milk\",\"Dehydrated soups\",\"Dessert-mixes\",\"Desserts\",\"Diced ham\",\"Dietary supplements\",\"Dill\",\"Double concentrate tomato paste\",\"Double-concentre-de-tomate\",\"Doughnuts\",\"Drag\\u00e9es\",\"Dried apples\",\"Dried apricots\",\"Dried cranberries\",\"Dried figs\",\"Dried fruits\",\"Dried goji\",\"Dried golden berries\",\"Dried hams\",\"Dried mangoes\",\"Dried prunes\",\"Dried shiitake mushrooms\",\"Dried tomato in oil\",\"Drinkable yogurts\",\"Dry egg pastas\",\"Dry pastas\",\"Dry sausages\",\"Duck breasts\",\"Duck dishes\",\"Duck fillets\",\"Duck gizzards\",\"Duck liver foie gras without pieces\",\"Duck mousse\",\"Duck rillettes\",\"Duck sausages\",\"Duck terrines\",\"Durum wheat macaroni\",\"Durum wheat pasta\",\"Durum wheat pasta with egg\",\"Durum wheat semolinas\",\"Durum wheat semolinas for couscous\",\"Durum wheat spaghetti\",\"Easter eggs\",\"Easter food\",\"Eastern tabbouleh\",\"Eclairs\",\"Egg pastas\",\"Egg roll with cooked shrimp\",\"Egg tagliatelle\",\"Eggplant Gratin\",\"Eggplant caviar\",\"Emmentaler\",\"Energy bars\",\"English muffins\",\"Epicerie\",\"Extra fine dark chocolates\",\"Extruded crispbreads\",\"Extruded flakes\",\"Faiselles\",\"Fajitas\",\"Falafels\",\"Fennel seeds\",\"Fermented foods\",\"Fig chutneys\",\"Figs\",\"Figs jams\",\"Filets-de-poulet\",\"Filled biscuits\",\"Filled cakes\",\"Filled cereals\",\"Filled chocolate eggs\",\"Filled cr\\u00eapes with chocolate\",\"Filled dark chocolates\",\"Filled milk chocolates\",\"Filled sponge cake slices\",\"Filled-sponge-cake-rolls\",\"Financiers\",\"Fish fingers\",\"Fish hamburgers\",\"Fish patties\",\"Fish rillettes\",\"Fish soups\",\"Fish spreads\",\"Fish-croquette-fritter\",\"Fishes\",\"Flavored and colored dry pastas\",\"Flavoured white chocolates\",\"Flavoured yogurts\",\"Flower honeys\",\"Focaccia\",\"Foies gras\",\"Foies gras from ducks\",\"Foies gras from gooses\",\"Foies gras p\\u00e2t\\u00e9s\",\"Fondants\",\"Food colorings\",\"Food decorations\",\"Fortune-cookies\",\"Four Cheese Pizza\",\"Fourme d'Ambert cheese from cow's milk\",\"Frankfurter sausages\",\"French bread ball with yeast\",\"French candies\",\"French confectioneries\",\"Fresh Brussels sprouts\",\"Fresh apples\",\"Fresh apricots\",\"Fresh aubergines\",\"Fresh blueberries\",\"Fresh broccoli\",\"Fresh carrots\",\"Fresh clementines\",\"Fresh grapes\",\"Fresh green beans\",\"Fresh ground beef preparations\",\"Fresh ground beef steaks\",\"Fresh kiwifruits\",\"Fresh leeks\",\"Fresh lemons\",\"Fresh mandarin oranges\",\"Fresh meals\",\"Fresh meats\",\"Fresh nectarines\",\"Fresh onions\",\"Fresh oranges\",\"Fresh peaches\",\"Fresh pears\",\"Fresh plant-based foods\",\"Fresh plums\",\"Fresh raspberries\",\"Fresh red onions\",\"Fresh red radishes\",\"Fresh spinachs\",\"Fresh strawberries\",\"Fresh sweet corn\",\"Fresh sweet peppers\",\"Fresh tabbouleh\",\"Fresh tomatoes\",\"Fresh turnips\",\"Fresh zucchini\",\"Fried foods\",\"Fried rice\",\"Fromages-fondus\",\"Frozen baby carrots\",\"Frozen basil\",\"Frozen broccolis\",\"Frozen cauliflower florets\",\"Frozen cooked dauphine potato\",\"Frozen cooked duchesse potato\",\"Frozen cooked pre-fried potato cubes\",\"Frozen duchesse potatoes\",\"Frozen fish in sauce\",\"Frozen fishes\",\"Frozen foods\",\"Frozen fries\",\"Frozen green beans\",\"Frozen ground beef preparations\",\"Frozen ground beef steaks\",\"Frozen hake fillet\",\"Frozen lasagne\",\"Frozen leeks\",\"Frozen meat preparations\",\"Frozen microwave fries\",\"Frozen mixed vegetables\",\"Frozen pizzas\",\"Frozen potato rostis\",\"Frozen potatoes\",\"Frozen pre-fried mashed potato balls\",\"Frozen ready-made meals\",\"Frozen roasted French fries\",\"Frozen snacks and starters\",\"Frozen spinachs\",\"Frozen vegetable soups\",\"Frozen vegetables\",\"Frozen-pre-fried-potato-cubes\",\"Fruit and vegetable preserves\",\"Fruit cakes\",\"Fruit curds\",\"Fruit jellies\",\"Fruit muffins\",\"Fruit pastes\",\"Fruit skyrs\",\"Fruit stirred yogurts\",\"Fruit yogurts\",\"Fruit yogurts with fruit chunks\",\"Fruit-based beverages\",\"Fruits\",\"Fruits based foods\",\"Fruits compote with reduced sugar\",\"Fruits desserts\",\"Fruits puree without sugar added\",\"Fusilli\",\"Gala apples\",\"Garlic sausage\",\"Gateaux\",\"Gateaux-marbres\",\"Gaufrettes-fourres-vanille\",\"Gelatin\",\"Gherkins\",\"Ginger\",\"Ginger powder\",\"Gingerbreads\",\"Gluten-free breads\",\"Gluten-free sliced breads\",\"Gnocchi\",\"Goat cheeses\",\"Golden Delicious apples\",\"Goose rillettes\",\"Gouda\",\"Grana Padano\",\"Granulated sugars\",\"Grated cheese\",\"Grated coconut\",\"Grated emmentaler\",\"Greek-style yogurts\",\"Green asparagus\",\"Green beans\",\"Green grapes\",\"Green lentils\",\"Green olives stuffed of peppers\",\"Green pitted olives\",\"Green seedless grapes\",\"Green tapenades\",\"Green teas with mint\",\"Greengage plum jams\",\"Grenaille potatoes\",\"Grilled peppers\",\"Groceries\",\"Ground beef meats\",\"Ground beef preparations\",\"Ground beef steaks\",\"Ground black peppers\",\"Ground coffees\",\"Ground cumin seedskumin\",\"Ground meat preparations\",\"Ground meats\",\"Ground white peppers\",\"Grounded grey peppers\",\"Gummi candies\",\"Half-salted butter\",\"Halloween foods and drinks\",\"Ham and butter sandwiches\",\"Hams\",\"Hazelnut spreads\",\"Hazelnuts powder\",\"Head cheese\",\"Herbal teas\",\"Herbes de Provence\",\"Herbs\",\"Herring fillets\",\"Hollow chocolate eggs\",\"Honey candies\",\"Honeys\",\"Honeys from France\",\"Honeys from the mountains\",\"Hot dog sandwiches\",\"Hummus\",\"Ice cream bars\",\"Ice cream cones\",\"Ice creams\",\"Industrial cheese\",\"Industrial knacks\",\"Instant noodle soups\",\"Instant noodles\",\"Jaffa cakes\",\"Jams\",\"Japanese ravioli\",\"Jasmine rice\",\"Jelly beans\",\"King cakes\",\"Kiwifruits\",\"Knuckle of ham cooked\",\"Kumquats\",\"Labeled-cheeses\",\"Lamb meat\",\"Lardons\",\"Lasagna sheets\",\"Latte macchiato\",\"Leaf salads\",\"Leek quiche\",\"Leeks fondue\",\"Legume flours\",\"Lemon curds\",\"Lemon sorbets\",\"Lemon tarts\",\"Lentils\",\"Lettuces\",\"Licensed products\",\"Light compotes\",\"Linguine\",\"Liquid caramel\",\"Lollipops\",\"Long grain rices\",\"Lorraine quiche\",\"Low sugar fruit jam\",\"Lump sugar\",\"Luxury ice cream in a box\",\"Macarons\",\"Mackerel\",\"Mackerel fillets\",\"Mackerel fillets in mustard sauce\",\"Mackerel fillets in white wine and herbs\",\"Mackerel rillettes\",\"Mackerels\",\"Madeleines\",\"Mandarin jams\",\"Mandarin sorbets\",\"Mango applesauces\",\"Mango chutneys\",\"Mango compotes\",\"Mangoes in syrup\",\"Manuka honeys\",\"Marble cakes\",\"Margarines\",\"Margherita Pizza\",\"Marinated anchovy fillets with vegetable oil\",\"Marmalades\",\"Marrons glac\\u00e9s\",\"Marshmallows\",\"Marshmallows coated with chocolate\",\"Mayonnaises\",\"Mazafati dates\",\"Meals\",\"Meals with chicken\",\"Meals with fish\",\"Meals with meat\",\"Meat analogues\",\"Meat patties\",\"Meat preparations\",\"Meats\",\"Melon jams\",\"Melon sorbets\",\"Melted cheese\",\"Meringues\",\"Microwave fries\",\"Microwave meals\",\"Milk bread rolls\",\"Milk bread rolls with chocolate\",\"Milk chocolate candies\",\"Milk chocolate with caramel\",\"Milk chocolates\",\"Milk chocolates with fleur de sel\",\"Milk chocolates with hazelnuts\",\"Milk chocolates with sweeteners\",\"Milk-chocolate-with-orange-oil\",\"Minced beef steak with 15% fat\",\"Minced beef steak with 5% fat\",\"Mint\",\"Mirabelle plum jams\",\"Mix of cereals and legumes\",\"Mixed berry jams\",\"Mixed fruit jams\",\"Mixes for panna cotta\",\"Mochi\",\"Molded butters\",\"Molten chocolate cakes\",\"Mortadella with pistachios pure pork\",\"Mozzarella\",\"Mozzarella di Bufala Campana\",\"Mueslis\",\"Mueslis with chocolate\",\"Mueslis with fruits\",\"Multifruit pastes\",\"Multifruit sorbets\",\"Multigrain sliced breads\",\"Munster\",\"Nems\",\"Non-dairy desserts\",\"Non-dairy yogurts\",\"Noodles\",\"Nori seaweeds\",\"Norman-style pies\",\"Nougats\",\"Nutmeg\",\"Nuts\",\"Nuts and their products\",\"Old Goudas\",\"Olive veal\",\"Open Beauty Facts\",\"Open pies\",\"Orange jams\",\"Oranges\",\"Oregano\",\"Paella\",\"Pains de campagne\",\"Pains-au-lait-natures\",\"Pan-fried dishes\",\"Paprika\",\"Parboiled rices\",\"Parmigiano-Reggiano\",\"Parsley\",\"Pasta dishes\",\"Pasta gratin\",\"Pastas\",\"Pasteurized cheeses\",\"Peach applesauce\",\"Peach jams\",\"Peanut butters\",\"Peanuts\",\"Pear applesauces\",\"Pear jams\",\"Pear sorbets\",\"Pecan nuts\",\"Peeled tomatoes\",\"Penne rigate\",\"Pepperoni pizzas\",\"Petit-Beurre\",\"Pheasant terrines\",\"Pickled gherkins\",\"Pine nuts\",\"Pineapple in syrup\",\"Pineapple jams\",\"Pistachio ice cream tubs\",\"Pitted dates\",\"Pizza with ham and cheese\",\"Pizzas\",\"Plain buckwheat crepes\",\"Plain corn flakes\",\"Plain corn flakes fortified with vitamins and chemical elements\",\"Plain crepes\",\"Plain lardons\",\"Plain madeleines\",\"Plain salty snacks\",\"Plain skyrs\",\"Plain sprits biscuits\",\"Plain yogurt with sugar\",\"Plant milk chocolates\",\"Plant-based foods\",\"Plant-based meals\",\"Plant-based p\\u00e2t\\u00e9s\",\"Plum sorbets\",\"Polenta\",\"Pollock fillets\",\"Pork\",\"Pork belly\",\"Pork filet mignon\",\"Pork knuckle\",\"Pork meals\",\"Pork nems\",\"Pork racks\",\"Pork ribs\",\"Pork rillettes\",\"Pork roasts\",\"Pork salami\",\"Pork shoulders\",\"Pork terrines\",\"Potato crisps in sunflower oil\",\"Potato gnocchi\",\"Potatoes\",\"Potted parsley\",\"Poultry hams\",\"Poultry sausages\",\"Poultry terrines\",\"Pound Cake\",\"Powdered sugars\",\"Preparations made from crabs\",\"Preparations-made-from-fish-meat\",\"Prepared bruschetta toasts\",\"Prepared couscous\",\"Prepared meats\",\"Prepared rices\",\"Preserved pork liver\",\"Preserved poultry liver\",\"Pretzel\",\"Produits-laitiers\",\"Protein bars\",\"Protein powders\",\"Puff pastry sheets\",\"Puffed corn cakes\",\"Puffed corn cakes with black chocolate\",\"Puffed multigrain cakes\",\"Puffed rice\",\"Puffed rice cakes\",\"Puffed rice cakes with black chocolate\",\"Puffed rice cakes with milk chocolate\",\"Puffed salty snacks\",\"Puffed salty snacks made from maize\",\"Puffed spelt cakes\",\"Puffed wholegrain rice cakes\",\"Pulses\",\"Pumpkin seeds\",\"Pure beef merguez sausage\",\"Pure butter brioche\",\"Purple asparagus\",\"P\\u00e2t\\u00e9 in crust\",\"Quiches\",\"Quince jellies\",\"Quinoa\",\"Quinoa dishes\",\"Rabbit terrines\",\"Raclette\",\"Raisins\",\"Ras el hanout\",\"Raspberry applesauces\",\"Raspberry jams\",\"Raspberry yogurts\",\"Ratatouille\",\"Ravioli\",\"Ravioli with ricotta and spinach\",\"Raw-cured-ham\",\"Raw-sausage-meat-with-pure-pork\",\"Raw-spinach-young-leaves\",\"Reblochon\",\"Reconstituted turkey breast slices\",\"Red beans\",\"Redcurrants jams\",\"Redcurrants jellies\",\"Refrigerated chocolate creamy puddings\",\"Refrigerated falafel\",\"Refrigerated fruits compote with reduced sugar\",\"Refrigerated meals\",\"Regina pizza\",\"Relish\",\"Rhubarb applesauces\",\"Rhubarb jams\",\"Rhubarbs\",\"Rice flours\",\"Rice paper\",\"Rice puddings\",\"Rice vermicelli\",\"Rices\",\"Rigatoni\",\"Rillettes from Mans\",\"Rillettes pure pork\",\"Risotto with seafood\",\"Riz-au-lait-saveur-vanille\",\"Roasted hazelnuts\",\"Roasted peanuts\",\"Roasted pistachios\",\"Rocket\",\"Rolled oats\",\"Rosehip jams\",\"Rosette dry sausage\",\"Rostis\",\"Rum baba\",\"Rye breads\",\"Saint-Marcellin\",\"Saint-Paulin cheese\",\"Saithe\",\"Salads\",\"Salami\",\"Salmon fillets\",\"Salmon pizza\",\"Salmon roe\",\"Salmon steaks\",\"Salmons\",\"Salmons from farming\",\"Salt-cured pork belly with lentils\",\"Salted butter caramels\",\"Salted peanuts\",\"Salted pistachios\",\"Salted spreads\",\"Salts\",\"Salty Fritters\",\"Salty palmiers\",\"Salty snacks\",\"Salty snacks made from potato\",\"Samosas\",\"Sardine fillets\",\"Sardine fillets in olive oil\",\"Sardines in oil\",\"Sardines in oil and chili\",\"Sardines in oil and lemon\",\"Sardines in olive oil\",\"Sardines in sunflower oil\",\"Sardines in tomato sauce\",\"Sauces\",\"Sausage meat\",\"Sausages\",\"Sausages with lentils\",\"Saut\\u00e9ed Potatoes\",\"Saut\\u00e9ed black pudding\",\"Savory mousses\",\"Savoury-cake-with-cheese-vegetables-meat-fish-poultry\",\"Savoy-style sponge cake\",\"Scallop\",\"Seafood\",\"Semolina puddings\",\"Serrano ham\",\"Sheep dishes\",\"Sheep meat\",\"Shelled almonds\",\"Shelled hazelnuts\",\"Shepherd's pie\",\"Shepherd's pie with duck\",\"Shortbread\",\"Shortbread cookies\",\"Shortbread cookies from Brittany\",\"Shrimp risottos\",\"Shrimps\",\"Skewers\",\"Skipjack tuna\",\"Skyrs\",\"Sliced breads\",\"Sliced cheeses\",\"Small brioches\",\"Smoked cured hams\",\"Smoked lardons\",\"Smoked salmons\",\"Smoked salmons from farming\",\"Smoked sausages\",\"Smoked trouts\",\"Smoked tunas\",\"Smoked-duck-brests\",\"Snacks\",\"Snacks variety packs\",\"Snacks-snacks-sucres-cacao-et-derives-chocolats-chocolats-noirs\",\"Snacks-sucres\",\"Snails\",\"Sorbets\",\"Soups\",\"Spaghetti\",\"Spanish omelettes\",\"Speculoos\",\"Spice Mix\",\"Spinach with cream sauce\",\"Spinachs\",\"Spirulina\",\"Sponge fingers biscuit\",\"Sponge sandwich cake filled and topped with strawberries\",\"Sprits biscuits\",\"Star anise\",\"Starches\",\"Strasbourg sausages\",\"Strawberries\",\"Strawberry applesauces\",\"Strawberry jams\",\"Stuffed pastas\",\"Stuffed tomatoes\",\"Stuffed waffles\",\"Stuffing\",\"Sugared cr\\u00eapes\",\"Sugared popcorn\",\"Sugars\",\"Sunflower seeds\",\"Surimi\",\"Surimi on sticks\",\"Swedish-style pork and beef meat balls\",\"Sweet Fritters\",\"Sweet and sour sauces\",\"Sweet cream butters\",\"Sweet mousses\",\"Sweet potatoes\",\"Sweet snacks\",\"Sweetened beverages\",\"Sweeteners\",\"Syrups\",\"Tabbouleh\",\"Tagliatelle\",\"Tapenades\",\"Tapioca\",\"Taramasalata\",\"Tarragon\",\"Tartiflettes\",\"Tartlet biscuits with fruit preparation\",\"Teas\",\"Teriyaki sauces\",\"Terrines\",\"Three Cheese Pizza\",\"Thyme\",\"Tinned Mackerels\",\"Tiramisu\",\"Toasted bread rolls\",\"Toasted ham sandwich topped with grated cheese\",\"Toasts\",\"Tomato jams\",\"Tomato pastes\",\"Tomato pulps\",\"Tomato sauces\",\"Tomatoes\",\"Tortellini\",\"Toulouse sausages\",\"Traditional French baguette\",\"Tripe\",\"Tripoux\",\"Tropical fruit jams\",\"Trout rillettes\",\"Trout terrines\",\"Trouts\",\"Tuna chunks\",\"Tuna fillets\",\"Tuna in Catalan-style\",\"Tuna in brine\",\"Tuna lasagna\",\"Tuna samosas\",\"Tuna spreads\",\"Tunas\",\"Tunas in oil\",\"Tunas in sunflower oil\",\"Turkey cordons bleus\",\"Turkeys\",\"Turmeric powder\",\"Udon\",\"Unsalted butters\",\"Unsweetened beverages\",\"Vanilla flavored rice pudding\",\"Vanilla ice cream tubs\",\"Vanilla sugars\",\"Veal blanquette\",\"Veal sausages\",\"Vegan chocolate mousses\",\"Vegan creamy puddings\",\"Vegetable cakes\",\"Vegetable gyoza\",\"Vegetable nems\",\"Vegetable-jams\",\"Vegetables terrines\",\"Vegetarian balls\",\"Vegetarian patties\",\"Viande\",\"Viandes\",\"Viandes-charcuteries-jambons-jambons-blancs\",\"Vienna bread\",\"Viennoiseries\",\"Wafers\",\"Walnut kernels\",\"Walnuts\",\"Watermelon jams\",\"Wheat flour type 55 for bread\",\"Wheat flour type 65\",\"Wheat semolinas\",\"Wheats\",\"Whisky\",\"White Basmati rices\",\"White Jasmine rices\",\"White beans\",\"White chocolates\",\"White hams\",\"White hams with less salt\",\"White rices\",\"White smoked hams\",\"White wheat flours\",\"Whole almonds\",\"Whole black olives\",\"Whole champignon mushrooms\",\"Whole cumin seeds\",\"Whole foies gras\",\"Whole foies gras from ducks\",\"Whole green olives\",\"Whole or semi-whole durum wheat farfalle\",\"Whole-wheat-spaghetti\",\"Wild boars\",\"Wild salmons\",\"Yogurt cake\",\"Yogurt with fruits no 0% fat\",\"Yogurts\",\"Yogurts high in protein on a fruit layer\",\"bg:\\u041a\\u0430\\u0440\\u0442\\u043e\\u0444\\u0435\\u043d\\u0438 \\u043d\\u043e\\u0430\\u0437\\u0435\\u0442\\u0438\",\"de:Schwarzw\\u00e4lder Schinken\",\"de:instant-suppe\",\"de:tafelschokolade\",\"es:Fusilli de trigo duro\",\"es:Salchich\\u00f3n de Vic\",\"es:galletas-con-tableta-de-chocolate-con-leche\",\"fr:Aiguillettes de poulet\",\"fr:Allumettes de porc\",\"fr:Andouillettes\",\"fr:Andouillettes de Troyes\",\"fr:Andouillettes proven\\u00e7ales\",\"fr:Ar\\u00f4mes p\\u00e2tisserie\",\"fr:Assortiments chipolatas et merguez\",\"fr:Barres aux fruits\",\"fr:Barres chocolat\\u00e9es fourr\\u00e9es aux fruits\",\"fr:Bigorneaux\",\"fr:Biscottes de froment\",\"fr:Blancs de poulet aux herbes\",\"fr:Blinis\",\"fr:Bloc de foie gras avec morceaux\",\"fr:Boulettes de poissons\",\"fr:Brillat-Savarin\",\"fr:Brioches Vend\\u00e9ennes\",\"fr:Brioches aux fruits\",\"fr:Brioches tranch\\u00e9es\",\"fr:Brioches tress\\u00e9es\",\"fr:Charcuteries cuites\",\"fr:Charcuteries \\u00e0 cuire\",\"fr:Chipolatas aux herbes\",\"fr:Compotes pommes pruneau\",\"fr:Compotes pommes vanille\",\"fr:Compotes sans sucres\",\"fr:Coquillettes\",\"fr:Coquillettes de bl\\u00e9 dur\",\"fr:Crevettes d\\u00e9cortiqu\\u00e9es\",\"fr:Croissants ordinaires\",\"fr:Croquettes de pommes de terre surgel\\u00e9es\",\"fr:Cr\\u00eapes au jambon\",\"fr:Cr\\u00eapes de froment\",\"fr:C\\u00e9r\\u00e9ales pr\\u00e9par\\u00e9es\",\"fr:Farfalles\",\"fr:Farines de patate douce\",\"fr:Filets d'anchois marin\\u00e9s \\u00e0 la Proven\\u00e7ale\",\"fr:Filets de lieu noir\",\"fr:Filets de truite\",\"fr:Foies de lotte\",\"fr:Foies gras mi-cuits\",\"fr:Fondant au chocolat\",\"fr:Fougasses aux lardons\",\"fr:Fromages blancs\",\"fr:Fromages blancs aromatis\\u00e9s\",\"fr:Fromages blancs natures\",\"fr:Glaces aux noisettes\",\"fr:Grattons de canard\",\"fr:G\\u00e2che vend\\u00e9enne\",\"fr:G\\u00e2ches\",\"fr:Laits entiers concentr\\u00e9s\",\"fr:Lentille verte du Puy\",\"fr:Lot\",\"fr:Lunettes \\u00e0 la myrtille\",\"fr:Merguez\",\"fr:Mousses au chocolat noir\",\"fr:Mousses de foies\",\"fr:Mousses de foies de volailles\",\"fr:Orangettes\",\"fr:Pains d'\\u00e9pices au miel\",\"fr:Pains multic\\u00e9r\\u00e9ales\",\"fr:Plats susceptibles de contenir de la viande de cheval - lots retir\\u00e9s de la vente en f\\u00e9vrier 2013\",\"fr:Pommes dauphines\",\"fr:Po\\u00eal\\u00e9es \\u00e0 la landaise\",\"fr:Po\\u00eal\\u00e9es \\u00e0 la sarladaise\",\"fr:Pruneaux d'Agen\",\"fr:Pr\\u00e9fous\",\"fr:Ravioles\",\"fr:Rillettes de Saint-Jacques\",\"fr:Rillettes de poulet r\\u00f4ti\",\"fr:Rochers au chocolat\",\"fr:Rochers au chocolat au lait\",\"fr:Rochers au chocolat noir\",\"fr:Sardines \\u00e0 l'ancienne\",\"fr:Saucisses s\\u00e8ches\",\"fr:Saucissons cuits\",\"fr:Sels fins\",\"fr:Terrines de foie de volaille\",\"fr:Thon-crudit\\u00e9s\",\"fr:Thons albacore au naturel\",\"fr:Thons blancs au naturel\",\"fr:Tomates enti\\u00e8res pel\\u00e9es au jus\",\"fr:Tortellini au fromage\",\"fr:Tuile aux amandes\",\"fr:Velout\\u00e9s de l\\u00e9gumes verts\",\"fr:Yaourts multifruits\",\"fr:algues-grillees\",\"fr:aliments-a-base-de-plantes-seches\",\"fr:amandes-de-mer\",\"fr:amandine-aux-poires\",\"fr:aromates\",\"fr:axoa-de-canard\",\"fr:beignets\",\"fr:beignets-a-l-abricot\",\"fr:beignets-au-chocolat\",\"fr:bisque\",\"fr:bloc-de-foie-gras-de-canard-du-sud-ouest\",\"fr:bo-bun\",\"fr:bonbons-a-la-menthe\",\"fr:bonbons-aux-fruits\",\"fr:boucherie\",\"fr:brioches-aux-pralines\",\"fr:brioches-de-saint-genix\",\"fr:broyes-poitevins\",\"fr:carpaccio\",\"fr:carpaccios\",\"fr:carre-de-porc-pour-plancha-et-pierre-a-griller\",\"fr:cerises-confites\",\"fr:chicken-cordons-bleus\",\"fr:chicken-pies\",\"fr:chocolats-noir-a-croquer\",\"fr:colin-sauce-bio-basquaise\",\"fr:comple\",\"fr:compotes-de-cerise\",\"fr:compotes-de-figues\",\"fr:confiserie-aromatisee\",\"fr:confiseries-aromatisees\",\"fr:confitures-a-la-clementine-de-corse\",\"fr:cookie-brownie\",\"fr:coquillettes-au-ble-dur-complet\",\"fr:corail-d-oursin\",\"fr:cotriade\",\"fr:couteaux\",\"fr:crackers-emmental-graines-de-courge\",\"fr:crakers\",\"fr:craquants\",\"fr:creme-au-chocolat\",\"fr:creme-au-foie-de-canard\",\"fr:crudites\",\"fr:des-de-volaille\",\"fr:dessert-fruitier\",\"fr:dessert-pomme-cerise\",\"fr:dos-de-cabillaud\",\"fr:emiette\",\"fr:emiette-de-maquereau\",\"fr:emiette-de-thon\",\"fr:eminces-de-poulet\",\"fr:entrees-chaudes\",\"fr:epinards-cuisines\",\"fr:epinards-haches\",\"fr:epinards-haches-a-la-creme-surgeles\",\"fr:farines-de-chanvre\",\"fr:filet-de-colin-d-alaska\",\"fr:filets-de-maquereaux-au-curry\",\"fr:foie-gras-d-oie-entier\",\"fr:foie-gras-de-canard-entier-du-sud-ouest\",\"fr:friandises\",\"fr:fromage-frais-nature-a-3-de-matieres-grasses-environ\",\"fr:fromages-a-pate-dure-cuite\",\"fr:fruits-en-compote\",\"fr:fuet-catalan\",\"fr:galettes-sablees\",\"fr:gateau-basque\",\"fr:gateaux-aux-fruits\",\"fr:gateaux-aux-noisettes\",\"fr:gelees-de-fraises\",\"fr:gratin-de-courgettes\",\"fr:gyozas-au-poulet\",\"fr:herbes\",\"fr:jambonneaux\",\"fr:jambons-a-griller\",\"fr:jeunes-pousses\",\"fr:legume-en-bocal\",\"fr:lentilles-cuisinees\",\"fr:lieu\",\"fr:linguine-aux-oeufs\",\"fr:magret-de-canard-du-sud-ouest\",\"fr:maquereaux-a-l-huile-d-olive\",\"fr:maquereaux-a-la-biere\",\"fr:maquereaux-a-la-moutarde\",\"fr:maquereaux-a-la-tomate\",\"fr:maquereaux-au-citron\",\"fr:maquereaux-curry-et-amandes\",\"fr:maquereaux-marines-au-vin-blanc\",\"fr:marinade\",\"fr:marinades\",\"fr:mayonnaises-legeres\",\"fr:melanges-de-biscuits-souffles\",\"fr:melanges-de-cereales\",\"fr:melanges-de-salades\",\"fr:menu-fraicheur\",\"fr:meta-category\",\"fr:miettes-de-thon-blanc-a-la-tomate\",\"fr:mijotee\",\"fr:mirabelles\",\"fr:moules-au-vin-blanc\",\"fr:mousse\",\"fr:mousse-de-homard\",\"fr:mousse-de-poissons\",\"fr:mousses-de-homard\",\"fr:muffins-sales\",\"fr:noix-de-coco-en-cubes\",\"fr:nouilles-de-riz\",\"fr:oranges-sanguines\",\"fr:ovo-produits\",\"fr:pain-d-epices-foie-gras\",\"fr:pains-au-levain\",\"fr:pains-d-epices-aux-figues\",\"fr:palmiers-aux-olives\",\"fr:parmentier-de-thon\",\"fr:pates-de-sate\",\"fr:paupiettes-de-porc\",\"fr:paves-de-boeuf\",\"fr:peches-jaunes\",\"fr:pipe-rigate\",\"fr:plat\",\"fr:poissonnerie-sauricerie-negoce\",\"fr:poissons-panes-de-saumon\",\"fr:poissons-prepares\",\"fr:poitrines-fumees\",\"fr:pomme-de-terre-mac-cain\",\"fr:pommes-rissolees-surgelees\",\"fr:poudre-de-baobab\",\"fr:poudres-de-maca\",\"fr:preparation-en-cacao-maigre\",\"fr:preparations-a-tartiner-a-base-de-poisson\",\"fr:preparations-pour-sandwiches\",\"fr:preparations-pour-tabloules\",\"fr:produits-labellises\",\"fr:prune-rouge\",\"fr:quinoa-parfume-aux-epices-douces\",\"fr:rouille\",\"fr:rouilles\",\"fr:ruban-autocollant\",\"fr:salades\",\"fr:salades-au-maquereau\",\"fr:sardinade\",\"fr:sardines-a-l-huile-d-arachide\",\"fr:sardines-a-la-tapenade\",\"fr:sardines-au-muscadet-et-aux-aromates\",\"fr:sardines-aux-olives\",\"fr:sardines-chaudes\",\"fr:sardines-marinees-au-muscadet-et-aux-aromates\",\"fr:sauce-a-l-armagnac\",\"fr:sauces-au-basilic\",\"fr:sauces-crudites\",\"fr:saumon-fume-de-norvege\",\"fr:saumon-sauvage-du-pacifique\",\"fr:saumon-surgele\",\"fr:saumons-atlantique-fumes\",\"fr:saumons-fondues-de-poireaux\",\"fr:saumure\",\"fr:semoule-de-ble-dur-precuite-pour-couscous\",\"fr:sichuan\",\"fr:sirops-de-glucose\",\"fr:snaks\",\"fr:sorbets-a-l-argousier\",\"fr:soupe-artichaut-sarrasin-et-algues-de-bretagne\",\"fr:soupe-de-thon\",\"fr:specialite-de-pommes-d-abricots-et-d-acerola-sans-sucres-ajoutes\",\"fr:sucettes-sucrees\",\"fr:tablette-de-chocolat\",\"fr:tarama-au-caviar\",\"fr:taramas-aux-oeufs-de-truite\",\"fr:tartare-aux-algues\",\"fr:terrine-campagnarde\",\"fr:terrine-de-campagne-au-piment-d-espelette\",\"fr:terrine-rustique-de-canard\",\"fr:terrines-d-oie\",\"fr:terrines-de-dinde\",\"fr:terrines-de-lievre\",\"fr:terrines-de-pintade\",\"fr:terrines-de-sardine\",\"fr:the-vert-de-chine\",\"fr:thon-aux-epices\",\"fr:toast-chaud\",\"fr:tomates-cerise-olivette-bio\",\"fr:torsettes\",\"fr:vache\",\"fr:vegetarien\",\"fr:vegetarien-vegetalien\",\"fr:veloutes-de-crustaces\",\"fr:veloutes-de-homard\",\"fr:vermicelles-haricot-mungo\",\"fr:verrine\",\"fr:viandes-marinees\",\"fr:wasabi-coated-green-peas\",\"hu:Sert\\u00e9s M\\u00e1jkolb\\u00e1szok\",\"it:Calzone\",\"it:Fettuccine\",\"pt:avion\",\"\\u0414\\u0435\\u0441\\u0435\\u0440\\u0442\"],\"labels\":[\"Acid gummy candies\",\"Advent calendars\",\"Alaska pollock\",\"Albacore\",\"Alimentos-y-bebidas-de-origen-vegetal-alimentos-de-origen-vegetal-untables-desayunos-untables-vegetales-untables-dulces-preparaciones-a-base-de-frutas-y-verduras-mermeladas-y-confituras-mermeladas-y-confituras-de-frutas-del-bosque-mermeladas-y-confituras-de-fresa\",\"Almond butters\",\"Almond flakes\",\"Almond meal\",\"Almond milk yogurts\",\"Almond paste\",\"Anchovy\",\"Appetizers\",\"Apple compotes\",\"Apple turnovers\",\"Apples\",\"Apples jellies\",\"Applesauces\",\"Apricot Apple compotes\",\"Apricot compotes\",\"Apricot jams\",\"Apricot yogurts\",\"Arabica ground coffees\",\"Artichoke hearts\",\"Assorted chocolate candies\",\"Assorted chocolates\",\"Assorted jams\",\"Assortiments-de-biscuits\",\"Assortments-of-compotes\",\"BCAA\",\"Bacon\",\"Baeri caviars\",\"Baguettes\",\"Baked beans in tomato sauce\",\"Banana Apple compotes\",\"Bars\",\"Basil\",\"Basmati rices\",\"Basque cake with custard\",\"Bass\",\"Batonnets-de-poisson\",\"Bayonne ham\",\"Beef\",\"Beef Cannelloni\",\"Beef carpaccio\",\"Beef dishes\",\"Beef flank steak\",\"Beef jerkies\",\"Beef livers\",\"Beef meat balls\",\"Beef meat balls with tomato sauce\",\"Beef merguez\",\"Beef rib steak\",\"Beef skewers\",\"Beef steaks\",\"Beet\",\"Berry jams\",\"Beverages\",\"Bigarade orange marmelades\",\"Bilberries jams\",\"Biscuit with a chocolate bar covering\",\"Biscuit with a milk chocolate bar covering\",\"Biscuits\",\"Biscuits and cakes\",\"Black grapes\",\"Black olives in oil\",\"Black seedless grapes\",\"Black truffles\",\"Blackberry jams\",\"Blackberry jellies\",\"Blackcurrant jams\",\"Blackcurrants jellies\",\"Blackcurrent sorbets\",\"Block of foie gras\",\"Blonde lentils\",\"Blueberry applesauces\",\"Blueberry muffins\",\"Boar terrines\",\"Bodybuilding supplements\",\"Bolognese Cannelloni\",\"Bolognese lasagne\",\"Bolognese sauces\",\"Bonbons\",\"Bonbons-bio\",\"Bottarga\",\"Bread crumbs\",\"Bread flours\",\"Breaded Alaska pollock\",\"Breaded chicken\",\"Breaded cod fish\",\"Breaded fish\",\"Breaded fish substitutes\",\"Breaded hake fish\",\"Breaded lemon sole\",\"Breaded products\",\"Breads\",\"Breads with nuts\",\"Breads with raisins\",\"Breadsticks\",\"Breakfast cereals\",\"Bresaola\",\"Bries\",\"Brioche filled with chocolate drops\",\"Brioches\",\"Brookies\",\"Brotaufstriche\",\"Brownies\",\"Brussels sprouts\",\"Buffalo burrata\",\"Bulgur\",\"Burrata\",\"Butter croissants\",\"B\\u0153ufs bourguignons\",\"Caen-style tripes\",\"Cake mixes\",\"Cakes\",\"Calissons\",\"Cambodia\",\"Camemberts from pasteurized cow milk\",\"Canary grass\",\"Candied fruits\",\"Candies\",\"Candy meringues\",\"Cane sugar\",\"Canel\\u00e9s\",\"Canned asparagus\",\"Canned champignon mushrooms\",\"Canned chickpeas\",\"Canned corn\",\"Canned foods\",\"Canned green asparagus\",\"Canned green beans\",\"Canned meals\",\"Canned mixed fruit in syrup\",\"Canned peas and carrots\",\"Canned prepared mixed tuna and vegetable salad\",\"Canned raviolis\",\"Canned sardines\",\"Canned tunas\",\"Canned vegetable soups\",\"Canned vegetables\",\"Canned white asparagus\",\"Canned-kidney-common-beans\",\"Cappuccino\",\"Caramel spreads\",\"Caramel yogurts\",\"Caramelized peanuts\",\"Caramels\",\"Cardoons\",\"Carrots\",\"Cashew nuts\",\"Cassoulets\",\"Cassoulets with duck confit\",\"Cayenne peppers\",\"Cereal clusters with chocolate\",\"Cereal clusters with nuts\",\"Cereal grains\",\"Cereal semolinas\",\"Cereal variety packs\",\"Cereal-milk-chocolates\",\"Cereals and their products\",\"Cereals and vegetables patties\",\"Cervelat\",\"Chaource\",\"Cheese buche from goat's milk\",\"Cheese pies\",\"Cheese ravioli\",\"Cheese sauces\",\"Cheese spreads\",\"Cheeseburgers\",\"Cheeses\",\"Cherry jams\",\"Chestnut applesauces\",\"Chestnut flours\",\"Chestnut honey\",\"Chestnut ice creams\",\"Chestnut spreads\",\"Chewing gum\",\"Chia\",\"Chicken breasts\",\"Chicken couscous\",\"Chicken curry\",\"Chicken cutlets\",\"Chicken nems\",\"Chicken nuggets\",\"Chicken rillettes\",\"Chicken risottos\",\"Chicken sandwiches\",\"Chicken tajine\",\"Chicken terrines\",\"Chicken thighs\",\"Chicken wings\",\"Chickens\",\"Chickpeas\",\"Chinese noodles\",\"Chinese nougats\",\"Chipolatas\",\"Chitterling sausage\",\"Chives\",\"Chocolate biscuits\",\"Chocolate cakes\",\"Chocolate cereals\",\"Chocolate chip cookies\",\"Chocolate covered almonds\",\"Chocolate covered cranberries\",\"Chocolate croissant\",\"Chocolate filled with praline\",\"Chocolate madeleines\",\"Chocolate mousses\",\"Chocolate powders\",\"Chocolate rabbits\",\"Chocolate stuffed wafers\",\"Chocolate truffles\",\"Chocolates\",\"Chocolates with extra fine milk\",\"Chocolates with praline\",\"Chorizo\",\"Chorizo pizzas\",\"Cigarette Russes\",\"Cinnamon powder\",\"Clementines\",\"Cloves\",\"Cockerel in red wine sauce\",\"Cockles\",\"Cocktail sausage\",\"Cocoa and chocolate powders\",\"Cocoa and hazelnuts spreads\",\"Cocoa butter\",\"Cocoa powders\",\"Coconut Macaroons\",\"Coconut sugar\",\"Coconutmilk yogurts\",\"Cod fillets\",\"Cod livers\",\"Cods\",\"Coffee desserts\",\"Coffee tiramisu\",\"Coffees\",\"Cold starters\",\"Compotes\",\"Compotes to drink\",\"Condiments-sauces-mayonnaises\",\"Confectioneries\",\"Confit\",\"Cooked Prawns\",\"Cooked chicken breast slices\",\"Cooked ham choice\",\"Cooked pork shoulder\",\"Cooked shrimps\",\"Cooked turkey breast slices\",\"Cooked whelk\",\"Cooked-drained-sauerkraut-without-garnish\",\"Cooking helpers\",\"Coppa\",\"Coriander seeds\",\"Corn chips\",\"Corn flakes\",\"Corn salad\",\"Corn semolinas\",\"Corn semolinas for polenta\",\"Cotton candy\",\"Coulommiers\",\"Country terrines\",\"Country-style P\\u00e2t\\u00e9s\",\"Couscous with meat\",\"Cow cheeses\",\"Crackers\",\"Cream cheeses\",\"Cream of vegetable soups\",\"Creamy puddings\",\"Crepe filled with egg ham and cheese\",\"Crisps\",\"Croissants\",\"Croutons\",\"Crunchy muesli with chocolate not fortified with vitamins and chemical elements\",\"Crunchy mueslis\",\"Crunchy peanut butters\",\"Crystallized ginger\",\"Cr\\u00e8me br\\u00fbl\\u00e9e\",\"Cr\\u00eapes\",\"Cr\\u00eapes and galettes\",\"Cured hams\",\"Cured sausages\",\"Curry powder\",\"Cut\",\"Dairies\",\"Dairy chocolate desserts\",\"Dairy desserts\",\"Dark chocolate bar for cooking with more than 40% cocoa\",\"Dark chocolate bar with less than 70% cocoa\",\"Dark chocolate bar with more than 70% cocoa\",\"Dark chocolates\",\"Dark chocolates with hazelnuts\",\"Dark chocolates with orange\",\"Dark chocolates with praline\",\"Dark chocolates with sweeteners\",\"Date syrups\",\"Dauphin\\u00e9-style creamed potatoes au gratin\",\"Decorticated red lentils\",\"Deglet Noor dates\",\"Dehydrated potato flakes with milk\",\"Dehydrated soups\",\"Dessert-mixes\",\"Desserts\",\"Diced ham\",\"Dietary supplements\",\"Dill\",\"Double concentrate tomato paste\",\"Double-concentre-de-tomate\",\"Doughnuts\",\"Drag\\u00e9es\",\"Dried apples\",\"Dried apricots\",\"Dried cranberries\",\"Dried figs\",\"Dried fruits\",\"Dried goji\",\"Dried golden berries\",\"Dried hams\",\"Dried mangoes\",\"Dried prunes\",\"Dried shiitake mushrooms\",\"Dried tomato in oil\",\"Drinkable yogurts\",\"Dry egg pastas\",\"Dry pastas\",\"Dry sausages\",\"Duck breasts\",\"Duck dishes\",\"Duck fillets\",\"Duck gizzards\",\"Duck liver foie gras without pieces\",\"Duck mousse\",\"Duck rillettes\",\"Duck sausages\",\"Duck terrines\",\"Durum wheat macaroni\",\"Durum wheat pasta\",\"Durum wheat pasta with egg\",\"Durum wheat semolinas\",\"Durum wheat semolinas for couscous\",\"Durum wheat spaghetti\",\"Easter eggs\",\"Easter food\",\"Eastern tabbouleh\",\"Eclairs\",\"Egg pastas\",\"Egg roll with cooked shrimp\",\"Egg tagliatelle\",\"Eggplant Gratin\",\"Eggplant caviar\",\"Emmentaler\",\"Energy bars\",\"English muffins\",\"Epicerie\",\"Extra fine dark chocolates\",\"Extruded crispbreads\",\"Extruded flakes\",\"Faiselles\",\"Fajitas\",\"Falafels\",\"Fennel seeds\",\"Fermented foods\",\"Fig chutneys\",\"Figs\",\"Figs jams\",\"Filets-de-poulet\",\"Filled biscuits\",\"Filled cakes\",\"Filled cereals\",\"Filled chocolate eggs\",\"Filled cr\\u00eapes with chocolate\",\"Filled dark chocolates\",\"Filled milk chocolates\",\"Filled sponge cake slices\",\"Filled-sponge-cake-rolls\",\"Financiers\",\"Fish fingers\",\"Fish hamburgers\",\"Fish patties\",\"Fish rillettes\",\"Fish soups\",\"Fish spreads\",\"Fish-croquette-fritter\",\"Fishes\",\"Flavored and colored dry pastas\",\"Flavoured white chocolates\",\"Flavoured yogurts\",\"Flower honeys\",\"Focaccia\",\"Foies gras\",\"Foies gras from ducks\",\"Foies gras from gooses\",\"Foies gras p\\u00e2t\\u00e9s\",\"Fondants\",\"Food colorings\",\"Food decorations\",\"Fortune-cookies\",\"Four Cheese Pizza\",\"Fourme d'Ambert cheese from cow's milk\",\"Frankfurter sausages\",\"French bread ball with yeast\",\"French candies\",\"French confectioneries\",\"Fresh Brussels sprouts\",\"Fresh apples\",\"Fresh apricots\",\"Fresh aubergines\",\"Fresh blueberries\",\"Fresh broccoli\",\"Fresh carrots\",\"Fresh clementines\",\"Fresh grapes\",\"Fresh green beans\",\"Fresh ground beef preparations\",\"Fresh ground beef steaks\",\"Fresh kiwifruits\",\"Fresh leeks\",\"Fresh lemons\",\"Fresh mandarin oranges\",\"Fresh meals\",\"Fresh meats\",\"Fresh nectarines\",\"Fresh onions\",\"Fresh oranges\",\"Fresh peaches\",\"Fresh pears\",\"Fresh plant-based foods\",\"Fresh plums\",\"Fresh raspberries\",\"Fresh red onions\",\"Fresh red radishes\",\"Fresh spinachs\",\"Fresh strawberries\",\"Fresh sweet corn\",\"Fresh sweet peppers\",\"Fresh tabbouleh\",\"Fresh tomatoes\",\"Fresh turnips\",\"Fresh zucchini\",\"Fried foods\",\"Fried rice\",\"Fromages-fondus\",\"Frozen baby carrots\",\"Frozen basil\",\"Frozen broccolis\",\"Frozen cauliflower florets\",\"Frozen cooked dauphine potato\",\"Frozen cooked duchesse potato\",\"Frozen cooked pre-fried potato cubes\",\"Frozen duchesse potatoes\",\"Frozen fish in sauce\",\"Frozen fishes\",\"Frozen foods\",\"Frozen fries\",\"Frozen green beans\",\"Frozen ground beef preparations\",\"Frozen ground beef steaks\",\"Frozen hake fillet\",\"Frozen lasagne\",\"Frozen leeks\",\"Frozen meat preparations\",\"Frozen microwave fries\",\"Frozen mixed vegetables\",\"Frozen pizzas\",\"Frozen potato rostis\",\"Frozen potatoes\",\"Frozen pre-fried mashed potato balls\",\"Frozen ready-made meals\",\"Frozen roasted French fries\",\"Frozen snacks and starters\",\"Frozen spinachs\",\"Frozen vegetable soups\",\"Frozen vegetables\",\"Frozen-pre-fried-potato-cubes\",\"Fruit and vegetable preserves\",\"Fruit cakes\",\"Fruit curds\",\"Fruit jellies\",\"Fruit muffins\",\"Fruit pastes\",\"Fruit skyrs\",\"Fruit stirred yogurts\",\"Fruit yogurts\",\"Fruit yogurts with fruit chunks\",\"Fruit-based beverages\",\"Fruits\",\"Fruits based foods\",\"Fruits compote with reduced sugar\",\"Fruits desserts\",\"Fruits puree without sugar added\",\"Fusilli\",\"Gala apples\",\"Garlic sausage\",\"Gateaux\",\"Gateaux-marbres\",\"Gaufrettes-fourres-vanille\",\"Gelatin\",\"Gherkins\",\"Ginger\",\"Ginger powder\",\"Gingerbreads\",\"Gluten-free breads\",\"Gluten-free sliced breads\",\"Gnocchi\",\"Goat cheeses\",\"Golden Delicious apples\",\"Goose rillettes\",\"Gouda\",\"Grana Padano\",\"Granulated sugars\",\"Grated cheese\",\"Grated coconut\",\"Grated emmentaler\",\"Greek-style yogurts\",\"Green asparagus\",\"Green beans\",\"Green grapes\",\"Green lentils\",\"Green olives stuffed of peppers\",\"Green pitted olives\",\"Green seedless grapes\",\"Green tapenades\",\"Green teas with mint\",\"Greengage plum jams\",\"Grenaille potatoes\",\"Grilled peppers\",\"Groceries\",\"Ground beef meats\",\"Ground beef preparations\",\"Ground beef steaks\",\"Ground black peppers\",\"Ground coffees\",\"Ground cumin seedskumin\",\"Ground meat preparations\",\"Ground meats\",\"Ground white peppers\",\"Grounded grey peppers\",\"Gummi candies\",\"Half-salted butter\",\"Halloween foods and drinks\",\"Ham and butter sandwiches\",\"Hams\",\"Hazelnut spreads\",\"Hazelnuts powder\",\"Head cheese\",\"Herbal teas\",\"Herbes de Provence\",\"Herbs\",\"Herring fillets\",\"Hollow chocolate eggs\",\"Honey candies\",\"Honeys\",\"Honeys from France\",\"Honeys from the mountains\",\"Hot dog sandwiches\",\"Hummus\",\"Ice cream bars\",\"Ice cream cones\",\"Ice creams\",\"Industrial cheese\",\"Industrial knacks\",\"Instant noodle soups\",\"Instant noodles\",\"Jaffa cakes\",\"Jams\",\"Japanese ravioli\",\"Jasmine rice\",\"Jelly beans\",\"King cakes\",\"Kiwifruits\",\"Knuckle of ham cooked\",\"Kumquats\",\"Labeled-cheeses\",\"Lamb meat\",\"Lardons\",\"Lasagna sheets\",\"Latte macchiato\",\"Leaf salads\",\"Leek quiche\",\"Leeks fondue\",\"Legume flours\",\"Lemon curds\",\"Lemon sorbets\",\"Lemon tarts\",\"Lentils\",\"Lettuces\",\"Licensed products\",\"Light compotes\",\"Linguine\",\"Liquid caramel\",\"Lollipops\",\"Long grain rices\",\"Lorraine quiche\",\"Low sugar fruit jam\",\"Lump sugar\",\"Luxury ice cream in a box\",\"Macarons\",\"Mackerel\",\"Mackerel fillets\",\"Mackerel fillets in mustard sauce\",\"Mackerel fillets in white wine and herbs\",\"Mackerel rillettes\",\"Mackerels\",\"Madeleines\",\"Mandarin jams\",\"Mandarin sorbets\",\"Mango applesauces\",\"Mango chutneys\",\"Mango compotes\",\"Mangoes in syrup\",\"Manuka honeys\",\"Marble cakes\",\"Margarines\",\"Margherita Pizza\",\"Marinated anchovy fillets with vegetable oil\",\"Marmalades\",\"Marrons glac\\u00e9s\",\"Marshmallows\",\"Marshmallows coated with chocolate\",\"Mayonnaises\",\"Mazafati dates\",\"Meals\",\"Meals with chicken\",\"Meals with fish\",\"Meals with meat\",\"Meat analogues\",\"Meat patties\",\"Meat preparations\",\"Meats\",\"Melon jams\",\"Melon sorbets\",\"Melted cheese\",\"Meringues\",\"Microwave fries\",\"Microwave meals\",\"Milk bread rolls\",\"Milk bread rolls with chocolate\",\"Milk chocolate candies\",\"Milk chocolate with caramel\",\"Milk chocolates\",\"Milk chocolates with fleur de sel\",\"Milk chocolates with hazelnuts\",\"Milk chocolates with sweeteners\",\"Milk-chocolate-with-orange-oil\",\"Minced beef steak with 15% fat\",\"Minced beef steak with 5% fat\",\"Mint\",\"Mirabelle plum jams\",\"Mix of cereals and legumes\",\"Mixed berry jams\",\"Mixed fruit jams\",\"Mixes for panna cotta\",\"Mochi\",\"Molded butters\",\"Molten chocolate cakes\",\"Mortadella with pistachios pure pork\",\"Mozzarella\",\"Mozzarella di Bufala Campana\",\"Mueslis\",\"Mueslis with chocolate\",\"Mueslis with fruits\",\"Multifruit pastes\",\"Multifruit sorbets\",\"Multigrain sliced breads\",\"Munster\",\"Nems\",\"Non-dairy desserts\",\"Non-dairy yogurts\",\"Noodles\",\"Nori seaweeds\",\"Norman-style pies\",\"Nougats\",\"Nutmeg\",\"Nuts\",\"Nuts and their products\",\"Old Goudas\",\"Olive veal\",\"Open Beauty Facts\",\"Open pies\",\"Orange jams\",\"Oranges\",\"Oregano\",\"Paella\",\"Pains de campagne\",\"Pains-au-lait-natures\",\"Pan-fried dishes\",\"Paprika\",\"Parboiled rices\",\"Parmigiano-Reggiano\",\"Parsley\",\"Pasta dishes\",\"Pasta gratin\",\"Pastas\",\"Pasteurized cheeses\",\"Peach applesauce\",\"Peach jams\",\"Peanut butters\",\"Peanuts\",\"Pear applesauces\",\"Pear jams\",\"Pear sorbets\",\"Pecan nuts\",\"Peeled tomatoes\",\"Penne rigate\",\"Pepperoni pizzas\",\"Petit-Beurre\",\"Pheasant terrines\",\"Pickled gherkins\",\"Pine nuts\",\"Pineapple in syrup\",\"Pineapple jams\",\"Pistachio ice cream tubs\",\"Pitted dates\",\"Pizza with ham and cheese\",\"Pizzas\",\"Plain buckwheat crepes\",\"Plain corn flakes\",\"Plain corn flakes fortified with vitamins and chemical elements\",\"Plain crepes\",\"Plain lardons\",\"Plain madeleines\",\"Plain salty snacks\",\"Plain skyrs\",\"Plain sprits biscuits\",\"Plain yogurt with sugar\",\"Plant milk chocolates\",\"Plant-based foods\",\"Plant-based meals\",\"Plant-based p\\u00e2t\\u00e9s\",\"Plum sorbets\",\"Polenta\",\"Pollock fillets\",\"Pork\",\"Pork belly\",\"Pork filet mignon\",\"Pork knuckle\",\"Pork meals\",\"Pork nems\",\"Pork racks\",\"Pork ribs\",\"Pork rillettes\",\"Pork roasts\",\"Pork salami\",\"Pork shoulders\",\"Pork terrines\",\"Potato crisps in sunflower oil\",\"Potato gnocchi\",\"Potatoes\",\"Potted parsley\",\"Poultry hams\",\"Poultry sausages\",\"Poultry terrines\",\"Pound Cake\",\"Powdered sugars\",\"Preparations made from crabs\",\"Preparations-made-from-fish-meat\",\"Prepared bruschetta toasts\",\"Prepared couscous\",\"Prepared meats\",\"Prepared rices\",\"Preserved pork liver\",\"Preserved poultry liver\",\"Pretzel\",\"Produits-laitiers\",\"Protein bars\",\"Protein powders\",\"Puff pastry sheets\",\"Puffed corn cakes\",\"Puffed corn cakes with black chocolate\",\"Puffed multigrain cakes\",\"Puffed rice\",\"Puffed rice cakes\",\"Puffed rice cakes with black chocolate\",\"Puffed rice cakes with milk chocolate\",\"Puffed salty snacks\",\"Puffed salty snacks made from maize\",\"Puffed spelt cakes\",\"Puffed wholegrain rice cakes\",\"Pulses\",\"Pumpkin seeds\",\"Pure beef merguez sausage\",\"Pure butter brioche\",\"Purple asparagus\",\"P\\u00e2t\\u00e9 in crust\",\"Quiches\",\"Quince jellies\",\"Quinoa\",\"Quinoa dishes\",\"Rabbit terrines\",\"Raclette\",\"Raisins\",\"Ras el hanout\",\"Raspberry applesauces\",\"Raspberry jams\",\"Raspberry yogurts\",\"Ratatouille\",\"Ravioli\",\"Ravioli with ricotta and spinach\",\"Raw-cured-ham\",\"Raw-sausage-meat-with-pure-pork\",\"Raw-spinach-young-leaves\",\"Reblochon\",\"Reconstituted turkey breast slices\",\"Red beans\",\"Redcurrants jams\",\"Redcurrants jellies\",\"Refrigerated chocolate creamy puddings\",\"Refrigerated falafel\",\"Refrigerated fruits compote with reduced sugar\",\"Refrigerated meals\",\"Regina pizza\",\"Relish\",\"Rhubarb applesauces\",\"Rhubarb jams\",\"Rhubarbs\",\"Rice flours\",\"Rice paper\",\"Rice puddings\",\"Rice vermicelli\",\"Rices\",\"Rigatoni\",\"Rillettes from Mans\",\"Rillettes pure pork\",\"Risotto with seafood\",\"Riz-au-lait-saveur-vanille\",\"Roasted hazelnuts\",\"Roasted peanuts\",\"Roasted pistachios\",\"Rocket\",\"Rolled oats\",\"Rosehip jams\",\"Rosette dry sausage\",\"Rostis\",\"Rum baba\",\"Rye breads\",\"Saint-Marcellin\",\"Saint-Paulin cheese\",\"Saithe\",\"Salads\",\"Salami\",\"Salmon fillets\",\"Salmon pizza\",\"Salmon roe\",\"Salmon steaks\",\"Salmons\",\"Salmons from farming\",\"Salt-cured pork belly with lentils\",\"Salted butter caramels\",\"Salted peanuts\",\"Salted pistachios\",\"Salted spreads\",\"Salts\",\"Salty Fritters\",\"Salty palmiers\",\"Salty snacks\",\"Salty snacks made from potato\",\"Samosas\",\"Sardine fillets\",\"Sardine fillets in olive oil\",\"Sardines in oil\",\"Sardines in oil and chili\",\"Sardines in oil and lemon\",\"Sardines in olive oil\",\"Sardines in sunflower oil\",\"Sardines in tomato sauce\",\"Sauces\",\"Sausage meat\",\"Sausages\",\"Sausages with lentils\",\"Saut\\u00e9ed Potatoes\",\"Saut\\u00e9ed black pudding\",\"Savory mousses\",\"Savoury-cake-with-cheese-vegetables-meat-fish-poultry\",\"Savoy-style sponge cake\",\"Scallop\",\"Seafood\",\"Semolina puddings\",\"Serrano ham\",\"Sheep dishes\",\"Sheep meat\",\"Shelled almonds\",\"Shelled hazelnuts\",\"Shepherd's pie\",\"Shepherd's pie with duck\",\"Shortbread\",\"Shortbread cookies\",\"Shortbread cookies from Brittany\",\"Shrimp risottos\",\"Shrimps\",\"Skewers\",\"Skipjack tuna\",\"Skyrs\",\"Sliced breads\",\"Sliced cheeses\",\"Small brioches\",\"Smoked cured hams\",\"Smoked lardons\",\"Smoked salmons\",\"Smoked salmons from farming\",\"Smoked sausages\",\"Smoked trouts\",\"Smoked tunas\",\"Smoked-duck-brests\",\"Snacks\",\"Snacks variety packs\",\"Snacks-snacks-sucres-cacao-et-derives-chocolats-chocolats-noirs\",\"Snacks-sucres\",\"Snails\",\"Sorbets\",\"Soups\",\"Spaghetti\",\"Spanish omelettes\",\"Speculoos\",\"Spice Mix\",\"Spinach with cream sauce\",\"Spinachs\",\"Spirulina\",\"Sponge fingers biscuit\",\"Sponge sandwich cake filled and topped with strawberries\",\"Sprits biscuits\",\"Star anise\",\"Starches\",\"Strasbourg sausages\",\"Strawberries\",\"Strawberry applesauces\",\"Strawberry jams\",\"Stuffed pastas\",\"Stuffed tomatoes\",\"Stuffed waffles\",\"Stuffing\",\"Sugared cr\\u00eapes\",\"Sugared popcorn\",\"Sugars\",\"Sunflower seeds\",\"Surimi\",\"Surimi on sticks\",\"Swedish-style pork and beef meat balls\",\"Sweet Fritters\",\"Sweet and sour sauces\",\"Sweet cream butters\",\"Sweet mousses\",\"Sweet potatoes\",\"Sweet snacks\",\"Sweetened beverages\",\"Sweeteners\",\"Syrups\",\"Tabbouleh\",\"Tagliatelle\",\"Tapenades\",\"Tapioca\",\"Taramasalata\",\"Tarragon\",\"Tartiflettes\",\"Tartlet biscuits with fruit preparation\",\"Teas\",\"Teriyaki sauces\",\"Terrines\",\"Three Cheese Pizza\",\"Thyme\",\"Tinned Mackerels\",\"Tiramisu\",\"Toasted bread rolls\",\"Toasted ham sandwich topped with grated cheese\",\"Toasts\",\"Tomato jams\",\"Tomato pastes\",\"Tomato pulps\",\"Tomato sauces\",\"Tomatoes\",\"Tortellini\",\"Toulouse sausages\",\"Traditional French baguette\",\"Tripe\",\"Tripoux\",\"Tropical fruit jams\",\"Trout rillettes\",\"Trout terrines\",\"Trouts\",\"Tuna chunks\",\"Tuna fillets\",\"Tuna in Catalan-style\",\"Tuna in brine\",\"Tuna lasagna\",\"Tuna samosas\",\"Tuna spreads\",\"Tunas\",\"Tunas in oil\",\"Tunas in sunflower oil\",\"Turkey cordons bleus\",\"Turkeys\",\"Turmeric powder\",\"Udon\",\"Unsalted butters\",\"Unsweetened beverages\",\"Vanilla flavored rice pudding\",\"Vanilla ice cream tubs\",\"Vanilla sugars\",\"Veal blanquette\",\"Veal sausages\",\"Vegan chocolate mousses\",\"Vegan creamy puddings\",\"Vegetable cakes\",\"Vegetable gyoza\",\"Vegetable nems\",\"Vegetable-jams\",\"Vegetables terrines\",\"Vegetarian balls\",\"Vegetarian patties\",\"Viande\",\"Viandes\",\"Viandes-charcuteries-jambons-jambons-blancs\",\"Vienna bread\",\"Viennoiseries\",\"Wafers\",\"Walnut kernels\",\"Walnuts\",\"Watermelon jams\",\"Wheat flour type 55 for bread\",\"Wheat flour type 65\",\"Wheat semolinas\",\"Wheats\",\"Whisky\",\"White Basmati rices\",\"White Jasmine rices\",\"White beans\",\"White chocolates\",\"White hams\",\"White hams with less salt\",\"White rices\",\"White smoked hams\",\"White wheat flours\",\"Whole almonds\",\"Whole black olives\",\"Whole champignon mushrooms\",\"Whole cumin seeds\",\"Whole foies gras\",\"Whole foies gras from ducks\",\"Whole green olives\",\"Whole or semi-whole durum wheat farfalle\",\"Whole-wheat-spaghetti\",\"Wild boars\",\"Wild salmons\",\"Yogurt cake\",\"Yogurt with fruits no 0% fat\",\"Yogurts\",\"Yogurts high in protein on a fruit layer\",\"bg:\\u041a\\u0430\\u0440\\u0442\\u043e\\u0444\\u0435\\u043d\\u0438 \\u043d\\u043e\\u0430\\u0437\\u0435\\u0442\\u0438\",\"de:Schwarzw\\u00e4lder Schinken\",\"de:instant-suppe\",\"de:tafelschokolade\",\"es:Fusilli de trigo duro\",\"es:Salchich\\u00f3n de Vic\",\"es:galletas-con-tableta-de-chocolate-con-leche\",\"fr:Aiguillettes de poulet\",\"fr:Allumettes de porc\",\"fr:Andouillettes\",\"fr:Andouillettes de Troyes\",\"fr:Andouillettes proven\\u00e7ales\",\"fr:Ar\\u00f4mes p\\u00e2tisserie\",\"fr:Assortiments chipolatas et merguez\",\"fr:Barres aux fruits\",\"fr:Barres chocolat\\u00e9es fourr\\u00e9es aux fruits\",\"fr:Bigorneaux\",\"fr:Biscottes de froment\",\"fr:Blancs de poulet aux herbes\",\"fr:Blinis\",\"fr:Bloc de foie gras avec morceaux\",\"fr:Boulettes de poissons\",\"fr:Brillat-Savarin\",\"fr:Brioches Vend\\u00e9ennes\",\"fr:Brioches aux fruits\",\"fr:Brioches tranch\\u00e9es\",\"fr:Brioches tress\\u00e9es\",\"fr:Charcuteries cuites\",\"fr:Charcuteries \\u00e0 cuire\",\"fr:Chipolatas aux herbes\",\"fr:Compotes pommes pruneau\",\"fr:Compotes pommes vanille\",\"fr:Compotes sans sucres\",\"fr:Coquillettes\",\"fr:Coquillettes de bl\\u00e9 dur\",\"fr:Crevettes d\\u00e9cortiqu\\u00e9es\",\"fr:Croissants ordinaires\",\"fr:Croquettes de pommes de terre surgel\\u00e9es\",\"fr:Cr\\u00eapes au jambon\",\"fr:Cr\\u00eapes de froment\",\"fr:C\\u00e9r\\u00e9ales pr\\u00e9par\\u00e9es\",\"fr:Farfalles\",\"fr:Farines de patate douce\",\"fr:Filets d'anchois marin\\u00e9s \\u00e0 la Proven\\u00e7ale\",\"fr:Filets de lieu noir\",\"fr:Filets de truite\",\"fr:Foies de lotte\",\"fr:Foies gras mi-cuits\",\"fr:Fondant au chocolat\",\"fr:Fougasses aux lardons\",\"fr:Fromages blancs\",\"fr:Fromages blancs aromatis\\u00e9s\",\"fr:Fromages blancs natures\",\"fr:Glaces aux noisettes\",\"fr:Grattons de canard\",\"fr:G\\u00e2che vend\\u00e9enne\",\"fr:G\\u00e2ches\",\"fr:Laits entiers concentr\\u00e9s\",\"fr:Lentille verte du Puy\",\"fr:Lot\",\"fr:Lunettes \\u00e0 la myrtille\",\"fr:Merguez\",\"fr:Mousses au chocolat noir\",\"fr:Mousses de foies\",\"fr:Mousses de foies de volailles\",\"fr:Orangettes\",\"fr:Pains d'\\u00e9pices au miel\",\"fr:Pains multic\\u00e9r\\u00e9ales\",\"fr:Plats susceptibles de contenir de la viande de cheval - lots retir\\u00e9s de la vente en f\\u00e9vrier 2013\",\"fr:Pommes dauphines\",\"fr:Po\\u00eal\\u00e9es \\u00e0 la landaise\",\"fr:Po\\u00eal\\u00e9es \\u00e0 la sarladaise\",\"fr:Pruneaux d'Agen\",\"fr:Pr\\u00e9fous\",\"fr:Ravioles\",\"fr:Rillettes de Saint-Jacques\",\"fr:Rillettes de poulet r\\u00f4ti\",\"fr:Rochers au chocolat\",\"fr:Rochers au chocolat au lait\",\"fr:Rochers au chocolat noir\",\"fr:Sardines \\u00e0 l'ancienne\",\"fr:Saucisses s\\u00e8ches\",\"fr:Saucissons cuits\",\"fr:Sels fins\",\"fr:Terrines de foie de volaille\",\"fr:Thon-crudit\\u00e9s\",\"fr:Thons albacore au naturel\",\"fr:Thons blancs au naturel\",\"fr:Tomates enti\\u00e8res pel\\u00e9es au jus\",\"fr:Tortellini au fromage\",\"fr:Tuile aux amandes\",\"fr:Velout\\u00e9s de l\\u00e9gumes verts\",\"fr:Yaourts multifruits\",\"fr:algues-grillees\",\"fr:aliments-a-base-de-plantes-seches\",\"fr:amandes-de-mer\",\"fr:amandine-aux-poires\",\"fr:aromates\",\"fr:axoa-de-canard\",\"fr:beignets\",\"fr:beignets-a-l-abricot\",\"fr:beignets-au-chocolat\",\"fr:bisque\",\"fr:bloc-de-foie-gras-de-canard-du-sud-ouest\",\"fr:bo-bun\",\"fr:bonbons-a-la-menthe\",\"fr:bonbons-aux-fruits\",\"fr:boucherie\",\"fr:brioches-aux-pralines\",\"fr:brioches-de-saint-genix\",\"fr:broyes-poitevins\",\"fr:carpaccio\",\"fr:carpaccios\",\"fr:carre-de-porc-pour-plancha-et-pierre-a-griller\",\"fr:cerises-confites\",\"fr:chicken-cordons-bleus\",\"fr:chicken-pies\",\"fr:chocolats-noir-a-croquer\",\"fr:colin-sauce-bio-basquaise\",\"fr:comple\",\"fr:compotes-de-cerise\",\"fr:compotes-de-figues\",\"fr:confiserie-aromatisee\",\"fr:confiseries-aromatisees\",\"fr:confitures-a-la-clementine-de-corse\",\"fr:cookie-brownie\",\"fr:coquillettes-au-ble-dur-complet\",\"fr:corail-d-oursin\",\"fr:cotriade\",\"fr:couteaux\",\"fr:crackers-emmental-graines-de-courge\",\"fr:crakers\",\"fr:craquants\",\"fr:creme-au-chocolat\",\"fr:creme-au-foie-de-canard\",\"fr:crudites\",\"fr:des-de-volaille\",\"fr:dessert-fruitier\",\"fr:dessert-pomme-cerise\",\"fr:dos-de-cabillaud\",\"fr:emiette\",\"fr:emiette-de-maquereau\",\"fr:emiette-de-thon\",\"fr:eminces-de-poulet\",\"fr:entrees-chaudes\",\"fr:epinards-cuisines\",\"fr:epinards-haches\",\"fr:epinards-haches-a-la-creme-surgeles\",\"fr:farines-de-chanvre\",\"fr:filet-de-colin-d-alaska\",\"fr:filets-de-maquereaux-au-curry\",\"fr:foie-gras-d-oie-entier\",\"fr:foie-gras-de-canard-entier-du-sud-ouest\",\"fr:friandises\",\"fr:fromage-frais-nature-a-3-de-matieres-grasses-environ\",\"fr:fromages-a-pate-dure-cuite\",\"fr:fruits-en-compote\",\"fr:fuet-catalan\",\"fr:galettes-sablees\",\"fr:gateau-basque\",\"fr:gateaux-aux-fruits\",\"fr:gateaux-aux-noisettes\",\"fr:gelees-de-fraises\",\"fr:gratin-de-courgettes\",\"fr:gyozas-au-poulet\",\"fr:herbes\",\"fr:jambonneaux\",\"fr:jambons-a-griller\",\"fr:jeunes-pousses\",\"fr:legume-en-bocal\",\"fr:lentilles-cuisinees\",\"fr:lieu\",\"fr:linguine-aux-oeufs\",\"fr:magret-de-canard-du-sud-ouest\",\"fr:maquereaux-a-l-huile-d-olive\",\"fr:maquereaux-a-la-biere\",\"fr:maquereaux-a-la-moutarde\",\"fr:maquereaux-a-la-tomate\",\"fr:maquereaux-au-citron\",\"fr:maquereaux-curry-et-amandes\",\"fr:maquereaux-marines-au-vin-blanc\",\"fr:marinade\",\"fr:marinades\",\"fr:mayonnaises-legeres\",\"fr:melanges-de-biscuits-souffles\",\"fr:melanges-de-cereales\",\"fr:melanges-de-salades\",\"fr:menu-fraicheur\",\"fr:meta-category\",\"fr:miettes-de-thon-blanc-a-la-tomate\",\"fr:mijotee\",\"fr:mirabelles\",\"fr:moules-au-vin-blanc\",\"fr:mousse\",\"fr:mousse-de-homard\",\"fr:mousse-de-poissons\",\"fr:mousses-de-homard\",\"fr:muffins-sales\",\"fr:noix-de-coco-en-cubes\",\"fr:nouilles-de-riz\",\"fr:oranges-sanguines\",\"fr:ovo-produits\",\"fr:pain-d-epices-foie-gras\",\"fr:pains-au-levain\",\"fr:pains-d-epices-aux-figues\",\"fr:palmiers-aux-olives\",\"fr:parmentier-de-thon\",\"fr:pates-de-sate\",\"fr:paupiettes-de-porc\",\"fr:paves-de-boeuf\",\"fr:peches-jaunes\",\"fr:pipe-rigate\",\"fr:plat\",\"fr:poissonnerie-sauricerie-negoce\",\"fr:poissons-panes-de-saumon\",\"fr:poissons-prepares\",\"fr:poitrines-fumees\",\"fr:pomme-de-terre-mac-cain\",\"fr:pommes-rissolees-surgelees\",\"fr:poudre-de-baobab\",\"fr:poudres-de-maca\",\"fr:preparation-en-cacao-maigre\",\"fr:preparations-a-tartiner-a-base-de-poisson\",\"fr:preparations-pour-sandwiches\",\"fr:preparations-pour-tabloules\",\"fr:produits-labellises\",\"fr:prune-rouge\",\"fr:quinoa-parfume-aux-epices-douces\",\"fr:rouille\",\"fr:rouilles\",\"fr:ruban-autocollant\",\"fr:salades\",\"fr:salades-au-maquereau\",\"fr:sardinade\",\"fr:sardines-a-l-huile-d-arachide\",\"fr:sardines-a-la-tapenade\",\"fr:sardines-au-muscadet-et-aux-aromates\",\"fr:sardines-aux-olives\",\"fr:sardines-chaudes\",\"fr:sardines-marinees-au-muscadet-et-aux-aromates\",\"fr:sauce-a-l-armagnac\",\"fr:sauces-au-basilic\",\"fr:sauces-crudites\",\"fr:saumon-fume-de-norvege\",\"fr:saumon-sauvage-du-pacifique\",\"fr:saumon-surgele\",\"fr:saumons-atlantique-fumes\",\"fr:saumons-fondues-de-poireaux\",\"fr:saumure\",\"fr:semoule-de-ble-dur-precuite-pour-couscous\",\"fr:sichuan\",\"fr:sirops-de-glucose\",\"fr:snaks\",\"fr:sorbets-a-l-argousier\",\"fr:soupe-artichaut-sarrasin-et-algues-de-bretagne\",\"fr:soupe-de-thon\",\"fr:specialite-de-pommes-d-abricots-et-d-acerola-sans-sucres-ajoutes\",\"fr:sucettes-sucrees\",\"fr:tablette-de-chocolat\",\"fr:tarama-au-caviar\",\"fr:taramas-aux-oeufs-de-truite\",\"fr:tartare-aux-algues\",\"fr:terrine-campagnarde\",\"fr:terrine-de-campagne-au-piment-d-espelette\",\"fr:terrine-rustique-de-canard\",\"fr:terrines-d-oie\",\"fr:terrines-de-dinde\",\"fr:terrines-de-lievre\",\"fr:terrines-de-pintade\",\"fr:terrines-de-sardine\",\"fr:the-vert-de-chine\",\"fr:thon-aux-epices\",\"fr:toast-chaud\",\"fr:tomates-cerise-olivette-bio\",\"fr:torsettes\",\"fr:vache\",\"fr:vegetarien\",\"fr:vegetarien-vegetalien\",\"fr:veloutes-de-crustaces\",\"fr:veloutes-de-homard\",\"fr:vermicelles-haricot-mungo\",\"fr:verrine\",\"fr:viandes-marinees\",\"fr:wasabi-coated-green-peas\",\"hu:Sert\\u00e9s M\\u00e1jkolb\\u00e1szok\",\"it:Calzone\",\"it:Fettuccine\",\"pt:avion\",\"\\u0414\\u0435\\u0441\\u0435\\u0440\\u0442\"],\"marker\":{\"colors\":[\"#636efa\",\"#EF553B\",\"#00cc96\",\"#ab63fa\",\"#FFA15A\",\"#19d3f3\",\"#FF6692\",\"#B6E880\",\"#FF97FF\",\"#FECB52\",\"#636efa\",\"#EF553B\",\"#00cc96\",\"#ab63fa\",\"#FFA15A\",\"#19d3f3\",\"#FF6692\",\"#B6E880\",\"#FF97FF\",\"#FECB52\",\"#636efa\",\"#EF553B\",\"#00cc96\",\"#ab63fa\",\"#FFA15A\",\"#19d3f3\",\"#FF6692\",\"#B6E880\",\"#FF97FF\",\"#FECB52\",\"#636efa\",\"#EF553B\",\"#00cc96\",\"#ab63fa\",\"#FFA15A\",\"#19d3f3\",\"#FF6692\",\"#B6E880\",\"#FF97FF\",\"#FECB52\",\"#636efa\",\"#EF553B\",\"#00cc96\",\"#ab63fa\",\"#FFA15A\",\"#19d3f3\",\"#FF6692\",\"#B6E880\",\"#FF97FF\",\"#FECB52\",\"#636efa\",\"#EF553B\",\"#00cc96\",\"#ab63fa\",\"#FFA15A\",\"#19d3f3\",\"#FF6692\",\"#B6E880\",\"#FF97FF\",\"#FECB52\",\"#636efa\",\"#EF553B\",\"#00cc96\",\"#ab63fa\",\"#FFA15A\",\"#19d3f3\",\"#FF6692\",\"#B6E880\",\"#FF97FF\",\"#FECB52\",\"#636efa\",\"#EF553B\",\"#00cc96\",\"#ab63fa\",\"#FFA15A\",\"#19d3f3\",\"#FF6692\",\"#B6E880\",\"#FF97FF\",\"#FECB52\",\"#636efa\",\"#EF553B\",\"#00cc96\",\"#ab63fa\",\"#FFA15A\",\"#19d3f3\",\"#FF6692\",\"#B6E880\",\"#FF97FF\",\"#FECB52\",\"#636efa\",\"#EF553B\",\"#00cc96\",\"#ab63fa\",\"#FFA15A\",\"#19d3f3\",\"#FF6692\",\"#B6E880\",\"#FF97FF\",\"#FECB52\",\"#636efa\",\"#EF553B\",\"#00cc96\",\"#ab63fa\",\"#FFA15A\",\"#19d3f3\",\"#FF6692\",\"#B6E880\",\"#FF97FF\",\"#FECB52\",\"#636efa\",\"#EF553B\",\"#00cc96\",\"#ab63fa\",\"#FFA15A\",\"#19d3f3\",\"#FF6692\",\"#B6E880\",\"#FF97FF\",\"#FECB52\",\"#636efa\",\"#EF553B\",\"#00cc96\",\"#ab63fa\",\"#FFA15A\",\"#19d3f3\",\"#FF6692\",\"#B6E880\",\"#FF97FF\",\"#FECB52\",\"#636efa\",\"#EF553B\",\"#00cc96\",\"#ab63fa\",\"#FFA15A\",\"#19d3f3\",\"#FF6692\",\"#B6E880\",\"#FF97FF\",\"#FECB52\",\"#636efa\",\"#EF553B\",\"#00cc96\",\"#ab63fa\",\"#FFA15A\",\"#19d3f3\",\"#FF6692\",\"#B6E880\",\"#FF97FF\",\"#FECB52\",\"#636efa\",\"#EF553B\",\"#00cc96\",\"#ab63fa\",\"#FFA15A\",\"#19d3f3\",\"#FF6692\",\"#B6E880\",\"#FF97FF\",\"#FECB52\",\"#636efa\",\"#EF553B\",\"#00cc96\",\"#ab63fa\",\"#FFA15A\",\"#19d3f3\",\"#FF6692\",\"#B6E880\",\"#FF97FF\",\"#FECB52\",\"#636efa\",\"#EF553B\",\"#00cc96\",\"#ab63fa\",\"#FFA15A\",\"#19d3f3\",\"#FF6692\",\"#B6E880\",\"#FF97FF\",\"#FECB52\",\"#636efa\",\"#EF553B\",\"#00cc96\",\"#ab63fa\",\"#FFA15A\",\"#19d3f3\",\"#FF6692\",\"#B6E880\",\"#FF97FF\",\"#FECB52\",\"#636efa\",\"#EF553B\",\"#00cc96\",\"#ab63fa\",\"#FFA15A\",\"#19d3f3\",\"#FF6692\",\"#B6E880\",\"#FF97FF\",\"#FECB52\",\"#636efa\",\"#EF553B\",\"#00cc96\",\"#ab63fa\",\"#FFA15A\",\"#19d3f3\",\"#FF6692\",\"#B6E880\",\"#FF97FF\",\"#FECB52\",\"#636efa\",\"#EF553B\",\"#00cc96\",\"#ab63fa\",\"#FFA15A\",\"#19d3f3\",\"#FF6692\",\"#B6E880\",\"#FF97FF\",\"#FECB52\",\"#636efa\",\"#EF553B\",\"#00cc96\",\"#ab63fa\",\"#FFA15A\",\"#19d3f3\",\"#FF6692\",\"#B6E880\",\"#FF97FF\",\"#FECB52\",\"#636efa\",\"#EF553B\",\"#00cc96\",\"#ab63fa\",\"#FFA15A\",\"#19d3f3\",\"#FF6692\",\"#B6E880\",\"#FF97FF\",\"#FECB52\",\"#636efa\",\"#EF553B\",\"#00cc96\",\"#ab63fa\",\"#FFA15A\",\"#19d3f3\",\"#FF6692\",\"#B6E880\",\"#FF97FF\",\"#FECB52\",\"#636efa\",\"#EF553B\",\"#00cc96\",\"#ab63fa\",\"#FFA15A\",\"#19d3f3\",\"#FF6692\",\"#B6E880\",\"#FF97FF\",\"#FECB52\",\"#636efa\",\"#EF553B\",\"#00cc96\",\"#ab63fa\",\"#FFA15A\",\"#19d3f3\",\"#FF6692\",\"#B6E880\",\"#FF97FF\",\"#FECB52\",\"#636efa\",\"#EF553B\",\"#00cc96\",\"#ab63fa\",\"#FFA15A\",\"#19d3f3\",\"#FF6692\",\"#B6E880\",\"#FF97FF\",\"#FECB52\",\"#636efa\",\"#EF553B\",\"#00cc96\",\"#ab63fa\",\"#FFA15A\",\"#19d3f3\",\"#FF6692\",\"#B6E880\",\"#FF97FF\",\"#FECB52\",\"#636efa\",\"#EF553B\",\"#00cc96\",\"#ab63fa\",\"#FFA15A\",\"#19d3f3\",\"#FF6692\",\"#B6E880\",\"#FF97FF\",\"#FECB52\",\"#636efa\",\"#EF553B\",\"#00cc96\",\"#ab63fa\",\"#FFA15A\",\"#19d3f3\",\"#FF6692\",\"#B6E880\",\"#FF97FF\",\"#FECB52\",\"#636efa\",\"#EF553B\",\"#00cc96\",\"#ab63fa\",\"#FFA15A\",\"#19d3f3\",\"#FF6692\",\"#B6E880\",\"#FF97FF\",\"#FECB52\",\"#636efa\",\"#EF553B\",\"#00cc96\",\"#ab63fa\",\"#FFA15A\",\"#19d3f3\",\"#FF6692\",\"#B6E880\",\"#FF97FF\",\"#FECB52\",\"#636efa\",\"#EF553B\",\"#00cc96\",\"#ab63fa\",\"#FFA15A\",\"#19d3f3\",\"#FF6692\",\"#B6E880\",\"#FF97FF\",\"#FECB52\",\"#636efa\",\"#EF553B\",\"#00cc96\",\"#ab63fa\",\"#FFA15A\",\"#19d3f3\",\"#FF6692\",\"#B6E880\",\"#FF97FF\",\"#FECB52\",\"#636efa\",\"#EF553B\",\"#00cc96\",\"#ab63fa\",\"#FFA15A\",\"#19d3f3\",\"#FF6692\",\"#B6E880\",\"#FF97FF\",\"#FECB52\",\"#636efa\",\"#EF553B\",\"#00cc96\",\"#ab63fa\",\"#FFA15A\",\"#19d3f3\",\"#FF6692\",\"#B6E880\",\"#FF97FF\",\"#FECB52\",\"#636efa\",\"#EF553B\",\"#00cc96\",\"#ab63fa\",\"#FFA15A\",\"#19d3f3\",\"#FF6692\",\"#B6E880\",\"#FF97FF\",\"#FECB52\",\"#636efa\",\"#EF553B\",\"#00cc96\",\"#ab63fa\",\"#FFA15A\",\"#19d3f3\",\"#FF6692\",\"#B6E880\",\"#FF97FF\",\"#FECB52\",\"#636efa\",\"#EF553B\",\"#00cc96\",\"#ab63fa\",\"#FFA15A\",\"#19d3f3\",\"#FF6692\",\"#B6E880\",\"#FF97FF\",\"#FECB52\",\"#636efa\",\"#EF553B\",\"#00cc96\",\"#ab63fa\",\"#FFA15A\",\"#19d3f3\",\"#FF6692\",\"#B6E880\",\"#FF97FF\",\"#FECB52\",\"#636efa\",\"#EF553B\",\"#00cc96\",\"#ab63fa\",\"#FFA15A\",\"#19d3f3\",\"#FF6692\",\"#B6E880\",\"#FF97FF\",\"#FECB52\",\"#636efa\",\"#EF553B\",\"#00cc96\",\"#ab63fa\",\"#FFA15A\",\"#19d3f3\",\"#FF6692\",\"#B6E880\",\"#FF97FF\",\"#FECB52\",\"#636efa\",\"#EF553B\",\"#00cc96\",\"#ab63fa\",\"#FFA15A\",\"#19d3f3\",\"#FF6692\",\"#B6E880\",\"#FF97FF\",\"#FECB52\",\"#636efa\",\"#EF553B\",\"#00cc96\",\"#ab63fa\",\"#FFA15A\",\"#19d3f3\",\"#FF6692\",\"#B6E880\",\"#FF97FF\",\"#FECB52\",\"#636efa\",\"#EF553B\",\"#00cc96\",\"#ab63fa\",\"#FFA15A\",\"#19d3f3\",\"#FF6692\",\"#B6E880\",\"#FF97FF\",\"#FECB52\",\"#636efa\",\"#EF553B\",\"#00cc96\",\"#ab63fa\",\"#FFA15A\",\"#19d3f3\",\"#FF6692\",\"#B6E880\",\"#FF97FF\",\"#FECB52\",\"#636efa\",\"#EF553B\",\"#00cc96\",\"#ab63fa\",\"#FFA15A\",\"#19d3f3\",\"#FF6692\",\"#B6E880\",\"#FF97FF\",\"#FECB52\",\"#636efa\",\"#EF553B\",\"#00cc96\",\"#ab63fa\",\"#FFA15A\",\"#19d3f3\",\"#FF6692\",\"#B6E880\",\"#FF97FF\",\"#FECB52\",\"#636efa\",\"#EF553B\",\"#00cc96\",\"#ab63fa\",\"#FFA15A\",\"#19d3f3\",\"#FF6692\",\"#B6E880\",\"#FF97FF\",\"#FECB52\",\"#636efa\",\"#EF553B\",\"#00cc96\",\"#ab63fa\",\"#FFA15A\",\"#19d3f3\",\"#FF6692\",\"#B6E880\",\"#FF97FF\",\"#FECB52\",\"#636efa\",\"#EF553B\",\"#00cc96\",\"#ab63fa\",\"#FFA15A\",\"#19d3f3\",\"#FF6692\",\"#B6E880\",\"#FF97FF\",\"#FECB52\",\"#636efa\",\"#EF553B\",\"#00cc96\",\"#ab63fa\",\"#FFA15A\",\"#19d3f3\",\"#FF6692\",\"#B6E880\",\"#FF97FF\",\"#FECB52\",\"#636efa\",\"#EF553B\",\"#00cc96\",\"#ab63fa\",\"#FFA15A\",\"#19d3f3\",\"#FF6692\",\"#B6E880\",\"#FF97FF\",\"#FECB52\",\"#636efa\",\"#EF553B\",\"#00cc96\",\"#ab63fa\",\"#FFA15A\",\"#19d3f3\",\"#FF6692\",\"#B6E880\",\"#FF97FF\",\"#FECB52\",\"#636efa\",\"#EF553B\",\"#00cc96\",\"#ab63fa\",\"#FFA15A\",\"#19d3f3\",\"#FF6692\",\"#B6E880\",\"#FF97FF\",\"#FECB52\",\"#636efa\",\"#EF553B\",\"#00cc96\",\"#ab63fa\",\"#FFA15A\",\"#19d3f3\",\"#FF6692\",\"#B6E880\",\"#FF97FF\",\"#FECB52\",\"#636efa\",\"#EF553B\",\"#00cc96\",\"#ab63fa\",\"#FFA15A\",\"#19d3f3\",\"#FF6692\",\"#B6E880\",\"#FF97FF\",\"#FECB52\",\"#636efa\",\"#EF553B\",\"#00cc96\",\"#ab63fa\",\"#FFA15A\",\"#19d3f3\",\"#FF6692\",\"#B6E880\",\"#FF97FF\",\"#FECB52\",\"#636efa\",\"#EF553B\",\"#00cc96\",\"#ab63fa\",\"#FFA15A\",\"#19d3f3\",\"#FF6692\",\"#B6E880\",\"#FF97FF\",\"#FECB52\",\"#636efa\",\"#EF553B\",\"#00cc96\",\"#ab63fa\",\"#FFA15A\",\"#19d3f3\",\"#FF6692\",\"#B6E880\",\"#FF97FF\",\"#FECB52\",\"#636efa\",\"#EF553B\",\"#00cc96\",\"#ab63fa\",\"#FFA15A\",\"#19d3f3\",\"#FF6692\",\"#B6E880\",\"#FF97FF\",\"#FECB52\",\"#636efa\",\"#EF553B\",\"#00cc96\",\"#ab63fa\",\"#FFA15A\",\"#19d3f3\",\"#FF6692\",\"#B6E880\",\"#FF97FF\",\"#FECB52\",\"#636efa\",\"#EF553B\",\"#00cc96\",\"#ab63fa\",\"#FFA15A\",\"#19d3f3\",\"#FF6692\",\"#B6E880\",\"#FF97FF\",\"#FECB52\",\"#636efa\",\"#EF553B\",\"#00cc96\",\"#ab63fa\",\"#FFA15A\",\"#19d3f3\",\"#FF6692\",\"#B6E880\",\"#FF97FF\",\"#FECB52\",\"#636efa\",\"#EF553B\",\"#00cc96\",\"#ab63fa\",\"#FFA15A\",\"#19d3f3\",\"#FF6692\",\"#B6E880\",\"#FF97FF\",\"#FECB52\",\"#636efa\",\"#EF553B\",\"#00cc96\",\"#ab63fa\",\"#FFA15A\",\"#19d3f3\",\"#FF6692\",\"#B6E880\",\"#FF97FF\",\"#FECB52\",\"#636efa\",\"#EF553B\",\"#00cc96\",\"#ab63fa\",\"#FFA15A\",\"#19d3f3\",\"#FF6692\",\"#B6E880\",\"#FF97FF\",\"#FECB52\",\"#636efa\",\"#EF553B\",\"#00cc96\",\"#ab63fa\",\"#FFA15A\",\"#19d3f3\",\"#FF6692\",\"#B6E880\",\"#FF97FF\",\"#FECB52\",\"#636efa\",\"#EF553B\",\"#00cc96\",\"#ab63fa\",\"#FFA15A\",\"#19d3f3\",\"#FF6692\",\"#B6E880\",\"#FF97FF\",\"#FECB52\",\"#636efa\",\"#EF553B\",\"#00cc96\",\"#ab63fa\",\"#FFA15A\",\"#19d3f3\",\"#FF6692\",\"#B6E880\",\"#FF97FF\",\"#FECB52\",\"#636efa\",\"#EF553B\",\"#00cc96\",\"#ab63fa\",\"#FFA15A\",\"#19d3f3\",\"#FF6692\",\"#B6E880\",\"#FF97FF\",\"#FECB52\",\"#636efa\",\"#EF553B\",\"#00cc96\",\"#ab63fa\",\"#FFA15A\",\"#19d3f3\",\"#FF6692\",\"#B6E880\",\"#FF97FF\",\"#FECB52\",\"#636efa\",\"#EF553B\",\"#00cc96\",\"#ab63fa\",\"#FFA15A\",\"#19d3f3\",\"#FF6692\",\"#B6E880\",\"#FF97FF\",\"#FECB52\",\"#636efa\",\"#EF553B\",\"#00cc96\",\"#ab63fa\",\"#FFA15A\",\"#19d3f3\",\"#FF6692\",\"#B6E880\",\"#FF97FF\",\"#FECB52\",\"#636efa\",\"#EF553B\",\"#00cc96\",\"#ab63fa\",\"#FFA15A\",\"#19d3f3\",\"#FF6692\",\"#B6E880\",\"#FF97FF\",\"#FECB52\",\"#636efa\",\"#EF553B\",\"#00cc96\",\"#ab63fa\",\"#FFA15A\",\"#19d3f3\",\"#FF6692\",\"#B6E880\",\"#FF97FF\",\"#FECB52\",\"#636efa\",\"#EF553B\",\"#00cc96\",\"#ab63fa\",\"#FFA15A\",\"#19d3f3\",\"#FF6692\",\"#B6E880\",\"#FF97FF\",\"#FECB52\",\"#636efa\",\"#EF553B\",\"#00cc96\",\"#ab63fa\",\"#FFA15A\",\"#19d3f3\",\"#FF6692\",\"#B6E880\",\"#FF97FF\",\"#FECB52\",\"#636efa\",\"#EF553B\",\"#00cc96\",\"#ab63fa\",\"#FFA15A\",\"#19d3f3\",\"#FF6692\",\"#B6E880\",\"#FF97FF\",\"#FECB52\",\"#636efa\",\"#EF553B\",\"#00cc96\",\"#ab63fa\",\"#FFA15A\",\"#19d3f3\",\"#FF6692\",\"#B6E880\",\"#FF97FF\",\"#FECB52\",\"#636efa\",\"#EF553B\",\"#00cc96\",\"#ab63fa\",\"#FFA15A\",\"#19d3f3\",\"#FF6692\",\"#B6E880\",\"#FF97FF\",\"#FECB52\",\"#636efa\",\"#EF553B\",\"#00cc96\",\"#ab63fa\",\"#FFA15A\",\"#19d3f3\",\"#FF6692\",\"#B6E880\",\"#FF97FF\",\"#FECB52\",\"#636efa\",\"#EF553B\",\"#00cc96\",\"#ab63fa\",\"#FFA15A\",\"#19d3f3\",\"#FF6692\",\"#B6E880\",\"#FF97FF\",\"#FECB52\",\"#636efa\",\"#EF553B\",\"#00cc96\",\"#ab63fa\",\"#FFA15A\",\"#19d3f3\",\"#FF6692\",\"#B6E880\",\"#FF97FF\",\"#FECB52\",\"#636efa\",\"#EF553B\",\"#00cc96\",\"#ab63fa\",\"#FFA15A\",\"#19d3f3\",\"#FF6692\",\"#B6E880\",\"#FF97FF\",\"#FECB52\",\"#636efa\",\"#EF553B\",\"#00cc96\",\"#ab63fa\",\"#FFA15A\",\"#19d3f3\",\"#FF6692\",\"#B6E880\",\"#FF97FF\",\"#FECB52\",\"#636efa\",\"#EF553B\",\"#00cc96\",\"#ab63fa\",\"#FFA15A\",\"#19d3f3\",\"#FF6692\",\"#B6E880\",\"#FF97FF\",\"#FECB52\",\"#636efa\",\"#EF553B\",\"#00cc96\",\"#ab63fa\",\"#FFA15A\",\"#19d3f3\",\"#FF6692\",\"#B6E880\",\"#FF97FF\",\"#FECB52\",\"#636efa\",\"#EF553B\",\"#00cc96\",\"#ab63fa\",\"#FFA15A\",\"#19d3f3\",\"#FF6692\",\"#B6E880\",\"#FF97FF\",\"#FECB52\",\"#636efa\",\"#EF553B\",\"#00cc96\",\"#ab63fa\",\"#FFA15A\",\"#19d3f3\",\"#FF6692\",\"#B6E880\",\"#FF97FF\",\"#FECB52\",\"#636efa\",\"#EF553B\",\"#00cc96\",\"#ab63fa\",\"#FFA15A\",\"#19d3f3\",\"#FF6692\",\"#B6E880\",\"#FF97FF\",\"#FECB52\",\"#636efa\",\"#EF553B\",\"#00cc96\",\"#ab63fa\",\"#FFA15A\",\"#19d3f3\",\"#FF6692\",\"#B6E880\",\"#FF97FF\",\"#FECB52\",\"#636efa\",\"#EF553B\",\"#00cc96\",\"#ab63fa\",\"#FFA15A\",\"#19d3f3\",\"#FF6692\",\"#B6E880\",\"#FF97FF\",\"#FECB52\",\"#636efa\",\"#EF553B\",\"#00cc96\",\"#ab63fa\",\"#FFA15A\",\"#19d3f3\",\"#FF6692\",\"#B6E880\",\"#FF97FF\",\"#FECB52\",\"#636efa\",\"#EF553B\",\"#00cc96\",\"#ab63fa\",\"#FFA15A\",\"#19d3f3\",\"#FF6692\",\"#B6E880\",\"#FF97FF\",\"#FECB52\",\"#636efa\",\"#EF553B\",\"#00cc96\",\"#ab63fa\",\"#FFA15A\",\"#19d3f3\",\"#FF6692\",\"#B6E880\",\"#FF97FF\",\"#FECB52\",\"#636efa\",\"#EF553B\",\"#00cc96\",\"#ab63fa\",\"#FFA15A\",\"#19d3f3\",\"#FF6692\",\"#B6E880\",\"#FF97FF\",\"#FECB52\",\"#636efa\",\"#EF553B\",\"#00cc96\",\"#ab63fa\",\"#FFA15A\",\"#19d3f3\",\"#FF6692\",\"#B6E880\",\"#FF97FF\",\"#FECB52\",\"#636efa\",\"#EF553B\",\"#00cc96\",\"#ab63fa\",\"#FFA15A\",\"#19d3f3\",\"#FF6692\",\"#B6E880\",\"#FF97FF\",\"#FECB52\",\"#636efa\",\"#EF553B\",\"#00cc96\",\"#ab63fa\",\"#FFA15A\",\"#19d3f3\",\"#FF6692\",\"#B6E880\",\"#FF97FF\",\"#FECB52\",\"#636efa\",\"#EF553B\",\"#00cc96\",\"#ab63fa\",\"#FFA15A\",\"#19d3f3\",\"#FF6692\",\"#B6E880\",\"#FF97FF\",\"#FECB52\",\"#636efa\",\"#EF553B\",\"#00cc96\",\"#ab63fa\",\"#FFA15A\",\"#19d3f3\",\"#FF6692\",\"#B6E880\",\"#FF97FF\",\"#FECB52\",\"#636efa\",\"#EF553B\",\"#00cc96\",\"#ab63fa\",\"#FFA15A\",\"#19d3f3\",\"#FF6692\",\"#B6E880\",\"#FF97FF\",\"#FECB52\",\"#636efa\",\"#EF553B\",\"#00cc96\",\"#ab63fa\",\"#FFA15A\",\"#19d3f3\",\"#FF6692\",\"#B6E880\",\"#FF97FF\",\"#FECB52\",\"#636efa\",\"#EF553B\",\"#00cc96\",\"#ab63fa\",\"#FFA15A\",\"#19d3f3\",\"#FF6692\",\"#B6E880\",\"#FF97FF\",\"#FECB52\",\"#636efa\",\"#EF553B\",\"#00cc96\",\"#ab63fa\",\"#FFA15A\",\"#19d3f3\",\"#FF6692\",\"#B6E880\",\"#FF97FF\",\"#FECB52\",\"#636efa\",\"#EF553B\",\"#00cc96\",\"#ab63fa\",\"#FFA15A\",\"#19d3f3\",\"#FF6692\",\"#B6E880\",\"#FF97FF\",\"#FECB52\",\"#636efa\",\"#EF553B\",\"#00cc96\",\"#ab63fa\",\"#FFA15A\",\"#19d3f3\",\"#FF6692\",\"#B6E880\",\"#FF97FF\",\"#FECB52\",\"#636efa\",\"#EF553B\",\"#00cc96\",\"#ab63fa\",\"#FFA15A\",\"#19d3f3\",\"#FF6692\",\"#B6E880\",\"#FF97FF\",\"#FECB52\",\"#636efa\",\"#EF553B\",\"#00cc96\",\"#ab63fa\",\"#FFA15A\",\"#19d3f3\",\"#FF6692\",\"#B6E880\",\"#FF97FF\",\"#FECB52\",\"#636efa\",\"#EF553B\",\"#00cc96\",\"#ab63fa\",\"#FFA15A\",\"#19d3f3\",\"#FF6692\",\"#B6E880\",\"#FF97FF\",\"#FECB52\",\"#636efa\",\"#EF553B\",\"#00cc96\",\"#ab63fa\",\"#FFA15A\",\"#19d3f3\",\"#FF6692\",\"#B6E880\",\"#FF97FF\",\"#FECB52\",\"#636efa\",\"#EF553B\",\"#00cc96\",\"#ab63fa\",\"#FFA15A\",\"#19d3f3\",\"#FF6692\",\"#B6E880\",\"#FF97FF\",\"#FECB52\",\"#636efa\",\"#EF553B\",\"#00cc96\",\"#ab63fa\",\"#FFA15A\",\"#19d3f3\",\"#FF6692\",\"#B6E880\",\"#FF97FF\",\"#FECB52\",\"#636efa\",\"#EF553B\",\"#00cc96\",\"#ab63fa\",\"#FFA15A\",\"#19d3f3\",\"#FF6692\",\"#B6E880\",\"#FF97FF\",\"#FECB52\",\"#636efa\",\"#EF553B\",\"#00cc96\",\"#ab63fa\",\"#FFA15A\",\"#19d3f3\",\"#FF6692\",\"#B6E880\",\"#FF97FF\",\"#FECB52\",\"#636efa\",\"#EF553B\",\"#00cc96\",\"#ab63fa\",\"#FFA15A\",\"#19d3f3\",\"#FF6692\",\"#B6E880\",\"#FF97FF\",\"#FECB52\",\"#636efa\",\"#EF553B\",\"#00cc96\",\"#ab63fa\",\"#FFA15A\",\"#19d3f3\",\"#FF6692\",\"#B6E880\",\"#FF97FF\",\"#FECB52\",\"#636efa\",\"#EF553B\",\"#00cc96\",\"#ab63fa\",\"#FFA15A\",\"#19d3f3\",\"#FF6692\",\"#B6E880\",\"#FF97FF\",\"#FECB52\",\"#636efa\",\"#EF553B\",\"#00cc96\",\"#ab63fa\",\"#FFA15A\",\"#19d3f3\",\"#FF6692\",\"#B6E880\",\"#FF97FF\",\"#FECB52\",\"#636efa\",\"#EF553B\",\"#00cc96\",\"#ab63fa\",\"#FFA15A\",\"#19d3f3\",\"#FF6692\",\"#B6E880\",\"#FF97FF\",\"#FECB52\",\"#636efa\",\"#EF553B\",\"#00cc96\",\"#ab63fa\",\"#FFA15A\",\"#19d3f3\",\"#FF6692\",\"#B6E880\",\"#FF97FF\",\"#FECB52\",\"#636efa\",\"#EF553B\",\"#00cc96\",\"#ab63fa\",\"#FFA15A\",\"#19d3f3\",\"#FF6692\",\"#B6E880\",\"#FF97FF\",\"#FECB52\",\"#636efa\",\"#EF553B\",\"#00cc96\",\"#ab63fa\",\"#FFA15A\",\"#19d3f3\",\"#FF6692\",\"#B6E880\",\"#FF97FF\",\"#FECB52\",\"#636efa\",\"#EF553B\",\"#00cc96\",\"#ab63fa\",\"#FFA15A\",\"#19d3f3\",\"#FF6692\",\"#B6E880\",\"#FF97FF\",\"#FECB52\",\"#636efa\",\"#EF553B\",\"#00cc96\",\"#ab63fa\",\"#FFA15A\",\"#19d3f3\",\"#FF6692\",\"#B6E880\",\"#FF97FF\",\"#FECB52\",\"#636efa\",\"#EF553B\",\"#00cc96\",\"#ab63fa\",\"#FFA15A\",\"#19d3f3\",\"#FF6692\",\"#B6E880\",\"#FF97FF\",\"#FECB52\",\"#636efa\",\"#EF553B\",\"#00cc96\",\"#ab63fa\",\"#FFA15A\",\"#19d3f3\",\"#FF6692\",\"#B6E880\",\"#FF97FF\",\"#FECB52\",\"#636efa\",\"#EF553B\",\"#00cc96\",\"#ab63fa\",\"#FFA15A\",\"#19d3f3\",\"#FF6692\",\"#B6E880\",\"#FF97FF\",\"#FECB52\",\"#636efa\",\"#EF553B\",\"#00cc96\",\"#ab63fa\",\"#FFA15A\",\"#19d3f3\",\"#FF6692\",\"#B6E880\",\"#FF97FF\",\"#FECB52\",\"#636efa\",\"#EF553B\",\"#00cc96\",\"#ab63fa\",\"#FFA15A\",\"#19d3f3\",\"#FF6692\",\"#B6E880\",\"#FF97FF\",\"#FECB52\",\"#636efa\",\"#EF553B\",\"#00cc96\",\"#ab63fa\",\"#FFA15A\",\"#19d3f3\",\"#FF6692\",\"#B6E880\",\"#FF97FF\",\"#FECB52\",\"#636efa\",\"#EF553B\",\"#00cc96\",\"#ab63fa\",\"#FFA15A\"]},\"name\":\"\",\"parents\":[\"\",\"\",\"\",\"\",\"\",\"\",\"\",\"\",\"\",\"\",\"\",\"\",\"\",\"\",\"\",\"\",\"\",\"\",\"\",\"\",\"\",\"\",\"\",\"\",\"\",\"\",\"\",\"\",\"\",\"\",\"\",\"\",\"\",\"\",\"\",\"\",\"\",\"\",\"\",\"\",\"\",\"\",\"\",\"\",\"\",\"\",\"\",\"\",\"\",\"\",\"\",\"\",\"\",\"\",\"\",\"\",\"\",\"\",\"\",\"\",\"\",\"\",\"\",\"\",\"\",\"\",\"\",\"\",\"\",\"\",\"\",\"\",\"\",\"\",\"\",\"\",\"\",\"\",\"\",\"\",\"\",\"\",\"\",\"\",\"\",\"\",\"\",\"\",\"\",\"\",\"\",\"\",\"\",\"\",\"\",\"\",\"\",\"\",\"\",\"\",\"\",\"\",\"\",\"\",\"\",\"\",\"\",\"\",\"\",\"\",\"\",\"\",\"\",\"\",\"\",\"\",\"\",\"\",\"\",\"\",\"\",\"\",\"\",\"\",\"\",\"\",\"\",\"\",\"\",\"\",\"\",\"\",\"\",\"\",\"\",\"\",\"\",\"\",\"\",\"\",\"\",\"\",\"\",\"\",\"\",\"\",\"\",\"\",\"\",\"\",\"\",\"\",\"\",\"\",\"\",\"\",\"\",\"\",\"\",\"\",\"\",\"\",\"\",\"\",\"\",\"\",\"\",\"\",\"\",\"\",\"\",\"\",\"\",\"\",\"\",\"\",\"\",\"\",\"\",\"\",\"\",\"\",\"\",\"\",\"\",\"\",\"\",\"\",\"\",\"\",\"\",\"\",\"\",\"\",\"\",\"\",\"\",\"\",\"\",\"\",\"\",\"\",\"\",\"\",\"\",\"\",\"\",\"\",\"\",\"\",\"\",\"\",\"\",\"\",\"\",\"\",\"\",\"\",\"\",\"\",\"\",\"\",\"\",\"\",\"\",\"\",\"\",\"\",\"\",\"\",\"\",\"\",\"\",\"\",\"\",\"\",\"\",\"\",\"\",\"\",\"\",\"\",\"\",\"\",\"\",\"\",\"\",\"\",\"\",\"\",\"\",\"\",\"\",\"\",\"\",\"\",\"\",\"\",\"\",\"\",\"\",\"\",\"\",\"\",\"\",\"\",\"\",\"\",\"\",\"\",\"\",\"\",\"\",\"\",\"\",\"\",\"\",\"\",\"\",\"\",\"\",\"\",\"\",\"\",\"\",\"\",\"\",\"\",\"\",\"\",\"\",\"\",\"\",\"\",\"\",\"\",\"\",\"\",\"\",\"\",\"\",\"\",\"\",\"\",\"\",\"\",\"\",\"\",\"\",\"\",\"\",\"\",\"\",\"\",\"\",\"\",\"\",\"\",\"\",\"\",\"\",\"\",\"\",\"\",\"\",\"\",\"\",\"\",\"\",\"\",\"\",\"\",\"\",\"\",\"\",\"\",\"\",\"\",\"\",\"\",\"\",\"\",\"\",\"\",\"\",\"\",\"\",\"\",\"\",\"\",\"\",\"\",\"\",\"\",\"\",\"\",\"\",\"\",\"\",\"\",\"\",\"\",\"\",\"\",\"\",\"\",\"\",\"\",\"\",\"\",\"\",\"\",\"\",\"\",\"\",\"\",\"\",\"\",\"\",\"\",\"\",\"\",\"\",\"\",\"\",\"\",\"\",\"\",\"\",\"\",\"\",\"\",\"\",\"\",\"\",\"\",\"\",\"\",\"\",\"\",\"\",\"\",\"\",\"\",\"\",\"\",\"\",\"\",\"\",\"\",\"\",\"\",\"\",\"\",\"\",\"\",\"\",\"\",\"\",\"\",\"\",\"\",\"\",\"\",\"\",\"\",\"\",\"\",\"\",\"\",\"\",\"\",\"\",\"\",\"\",\"\",\"\",\"\",\"\",\"\",\"\",\"\",\"\",\"\",\"\",\"\",\"\",\"\",\"\",\"\",\"\",\"\",\"\",\"\",\"\",\"\",\"\",\"\",\"\",\"\",\"\",\"\",\"\",\"\",\"\",\"\",\"\",\"\",\"\",\"\",\"\",\"\",\"\",\"\",\"\",\"\",\"\",\"\",\"\",\"\",\"\",\"\",\"\",\"\",\"\",\"\",\"\",\"\",\"\",\"\",\"\",\"\",\"\",\"\",\"\",\"\",\"\",\"\",\"\",\"\",\"\",\"\",\"\",\"\",\"\",\"\",\"\",\"\",\"\",\"\",\"\",\"\",\"\",\"\",\"\",\"\",\"\",\"\",\"\",\"\",\"\",\"\",\"\",\"\",\"\",\"\",\"\",\"\",\"\",\"\",\"\",\"\",\"\",\"\",\"\",\"\",\"\",\"\",\"\",\"\",\"\",\"\",\"\",\"\",\"\",\"\",\"\",\"\",\"\",\"\",\"\",\"\",\"\",\"\",\"\",\"\",\"\",\"\",\"\",\"\",\"\",\"\",\"\",\"\",\"\",\"\",\"\",\"\",\"\",\"\",\"\",\"\",\"\",\"\",\"\",\"\",\"\",\"\",\"\",\"\",\"\",\"\",\"\",\"\",\"\",\"\",\"\",\"\",\"\",\"\",\"\",\"\",\"\",\"\",\"\",\"\",\"\",\"\",\"\",\"\",\"\",\"\",\"\",\"\",\"\",\"\",\"\",\"\",\"\",\"\",\"\",\"\",\"\",\"\",\"\",\"\",\"\",\"\",\"\",\"\",\"\",\"\",\"\",\"\",\"\",\"\",\"\",\"\",\"\",\"\",\"\",\"\",\"\",\"\",\"\",\"\",\"\",\"\",\"\",\"\",\"\",\"\",\"\",\"\",\"\",\"\",\"\",\"\",\"\",\"\",\"\",\"\",\"\",\"\",\"\",\"\",\"\",\"\",\"\",\"\",\"\",\"\",\"\",\"\",\"\",\"\",\"\",\"\",\"\",\"\",\"\",\"\",\"\",\"\",\"\",\"\",\"\",\"\",\"\",\"\",\"\",\"\",\"\",\"\",\"\",\"\",\"\",\"\",\"\",\"\",\"\",\"\",\"\",\"\",\"\",\"\",\"\",\"\",\"\",\"\",\"\",\"\",\"\",\"\",\"\",\"\",\"\",\"\",\"\",\"\",\"\",\"\",\"\",\"\",\"\",\"\",\"\",\"\",\"\",\"\",\"\",\"\",\"\",\"\",\"\",\"\",\"\",\"\",\"\",\"\",\"\",\"\",\"\",\"\",\"\",\"\",\"\",\"\",\"\",\"\",\"\",\"\",\"\",\"\",\"\",\"\",\"\",\"\",\"\",\"\",\"\",\"\",\"\",\"\",\"\",\"\",\"\",\"\",\"\",\"\",\"\",\"\",\"\",\"\",\"\",\"\",\"\",\"\",\"\",\"\",\"\",\"\",\"\",\"\",\"\",\"\",\"\",\"\",\"\",\"\",\"\",\"\",\"\",\"\",\"\",\"\",\"\",\"\",\"\",\"\",\"\",\"\",\"\",\"\",\"\",\"\",\"\",\"\",\"\",\"\",\"\",\"\",\"\",\"\",\"\",\"\",\"\",\"\",\"\",\"\",\"\",\"\",\"\",\"\",\"\",\"\",\"\",\"\",\"\",\"\",\"\",\"\",\"\",\"\",\"\",\"\",\"\",\"\",\"\",\"\",\"\",\"\",\"\",\"\",\"\",\"\",\"\",\"\",\"\",\"\",\"\",\"\",\"\",\"\",\"\",\"\",\"\",\"\",\"\",\"\",\"\",\"\",\"\",\"\",\"\",\"\",\"\",\"\",\"\",\"\",\"\",\"\",\"\",\"\",\"\",\"\",\"\",\"\",\"\",\"\",\"\",\"\",\"\",\"\",\"\",\"\",\"\",\"\",\"\",\"\",\"\",\"\",\"\",\"\",\"\",\"\",\"\",\"\",\"\",\"\",\"\",\"\",\"\",\"\",\"\",\"\",\"\",\"\",\"\",\"\",\"\",\"\",\"\",\"\",\"\",\"\",\"\",\"\",\"\",\"\",\"\",\"\",\"\",\"\",\"\",\"\",\"\",\"\",\"\",\"\",\"\",\"\",\"\",\"\",\"\",\"\",\"\",\"\",\"\",\"\",\"\",\"\",\"\",\"\",\"\",\"\",\"\",\"\",\"\",\"\",\"\",\"\",\"\",\"\",\"\",\"\",\"\",\"\",\"\",\"\",\"\",\"\",\"\",\"\",\"\",\"\",\"\",\"\",\"\",\"\",\"\",\"\",\"\",\"\",\"\",\"\",\"\",\"\",\"\",\"\",\"\",\"\",\"\",\"\",\"\",\"\",\"\",\"\",\"\",\"\",\"\",\"\",\"\",\"\",\"\",\"\",\"\",\"\",\"\",\"\",\"\",\"\",\"\",\"\",\"\",\"\",\"\",\"\",\"\",\"\",\"\",\"\",\"\",\"\",\"\",\"\",\"\",\"\",\"\",\"\",\"\",\"\",\"\",\"\",\"\",\"\",\"\",\"\",\"\",\"\",\"\",\"\",\"\",\"\",\"\",\"\",\"\",\"\",\"\",\"\",\"\",\"\",\"\",\"\",\"\",\"\",\"\",\"\",\"\",\"\",\"\",\"\",\"\",\"\",\"\",\"\",\"\",\"\",\"\",\"\",\"\",\"\",\"\",\"\",\"\",\"\",\"\",\"\",\"\",\"\",\"\",\"\",\"\",\"\",\"\",\"\",\"\",\"\",\"\",\"\",\"\",\"\",\"\",\"\",\"\",\"\",\"\",\"\",\"\",\"\",\"\",\"\",\"\",\"\",\"\",\"\",\"\",\"\",\"\",\"\",\"\",\"\",\"\",\"\",\"\",\"\",\"\",\"\",\"\",\"\",\"\",\"\",\"\",\"\",\"\",\"\",\"\",\"\",\"\",\"\",\"\",\"\",\"\",\"\",\"\",\"\",\"\",\"\",\"\",\"\",\"\",\"\",\"\",\"\",\"\",\"\",\"\",\"\",\"\",\"\",\"\",\"\",\"\",\"\",\"\",\"\",\"\",\"\",\"\",\"\",\"\",\"\",\"\",\"\",\"\",\"\",\"\",\"\",\"\",\"\",\"\",\"\",\"\",\"\",\"\",\"\",\"\",\"\",\"\",\"\",\"\",\"\",\"\",\"\",\"\",\"\",\"\",\"\",\"\",\"\",\"\",\"\",\"\",\"\",\"\",\"\",\"\",\"\",\"\",\"\",\"\",\"\",\"\",\"\",\"\",\"\",\"\",\"\",\"\",\"\",\"\",\"\",\"\",\"\",\"\",\"\",\"\",\"\",\"\",\"\",\"\",\"\",\"\",\"\",\"\",\"\",\"\",\"\",\"\",\"\",\"\",\"\",\"\",\"\",\"\",\"\",\"\",\"\",\"\",\"\",\"\",\"\",\"\",\"\",\"\",\"\",\"\",\"\",\"\",\"\",\"\",\"\",\"\",\"\",\"\",\"\",\"\",\"\",\"\",\"\",\"\",\"\",\"\",\"\",\"\",\"\",\"\",\"\",\"\",\"\",\"\",\"\",\"\",\"\",\"\",\"\",\"\",\"\",\"\",\"\",\"\",\"\",\"\",\"\",\"\",\"\",\"\",\"\",\"\",\"\",\"\",\"\",\"\",\"\",\"\",\"\",\"\",\"\",\"\",\"\",\"\",\"\",\"\",\"\",\"\",\"\",\"\",\"\",\"\",\"\",\"\",\"\",\"\",\"\",\"\",\"\",\"\",\"\",\"\",\"\",\"\",\"\",\"\",\"\",\"\",\"\",\"\",\"\",\"\",\"\",\"\",\"\",\"\",\"\",\"\",\"\",\"\",\"\",\"\",\"\",\"\",\"\",\"\",\"\",\"\",\"\",\"\",\"\",\"\",\"\",\"\",\"\",\"\",\"\",\"\"],\"values\":[105.0,200.0,600.0,123.39285714285714,335.0,350.0,1000.0,575.0,400.0,5000.0,115.0,700.0,431.4736842105263,360.0,900.0,370.0,612.5,575.0,380.0,433.2894736842105,125.0,250.0,210.0,355.0,200.0,690.0,500.0,1600.0,333.3333333333333,60.0,20.0,250.0,800.0,250.0,74.33333333333333,12.0,687.5,705.0,180.0,450.0,100.0,260.0,800.0,200.0,300.0,230.0,80.0,300.0,900.0,300.0,1000.0,290.0,461.25,240.0,800.0,315.0,901.5,352.5,280.0,150.0,150.0,178.125,275.0,500.0,400.0,500.0,15.0,388.5,370.0,362.0,335.0,450.0,136.38888888888889,400.0,400.0,125.0,76.66666666666667,750.0,400.0,866.6666666666666,710.0,232.64285714285714,100.0,100.0,425.0,2000.0,509.3333333333333,469.0,212.0,346.6666666666667,300.0,418.61538461538464,200.0,284.0,263.3333333333333,300.0,132.5,125.0,600.0,70.0,666.6666666666666,475.0,458.3333333333333,322.0,375.0,339.64285714285717,375.0,200.0,525.0,100.0,135.0,400.0,500.0,330.0,217.4,108.33333333333333,5000.0,250.0,1000.0,1000.0,351.4864864864865,80.0,1000.0,197.5,125.0,496.6666666666667,200.0,300.0,170.0,450.0,426.6666666666667,140.0,565.0,800.0,175.0,720.0,135.0,115.0,480.0,277.5,540.0,350.0,192.0,215.0,95.0,200.0,50.0,540.0,2000.0,408.3333333333333,834.0,780.0,38.0,500.0,500.0,441.6666666666667,290.0,700.0,85.0,625.0,200.0,350.0,250.0,575.0,290.0,250.0,260.0,150.0,535.0,190.0,303.2,785.0,500.0,400.0,450.0,503.55555555555554,214.0,250.0,1000.0,1200.0,310.0,700.0,370.0,432.5,115.0,310.0,187.5,55.0,140.0,5500.0,400.0,180.0,446.6666666666667,450.0,250.0,535.8333333333334,300.0,5.0,389.2857142857143,293.59375,250.0,208.33333333333334,150.0,100.0,332.5,180.0,325.0,364.0,514.5454545454545,91.66666666666667,150.0,250.0,142.85714285714286,285.0,200.0,182.5,450.0,135.0,32.0,1000.0,23.0,350.0,500.0,300.0,800.0,747.1428571428571,250.0,500.0,400.0,250.0,434.2857142857143,580.0,121.0,440.0,240.0,180.0,580.0,80.0,417.53846153846155,117.0,770.0,169.33333333333334,540.0,500.0,154.11764705882354,200.0,350.0,300.0,158.57142857142858,500.0,920.0,250.0,70.0,22.0,185.0,500.0,133.33333333333334,700.0,400.0,85.0,320.0,133.33333333333334,194.0,300.0,393.3333333333333,80.83333333333333,801.25,900.0,2280.0,210.0,50.0,160.0,98.33333333333333,350.0,350.0,420.0,125.0,100.0,450.0,480.0,150.0,110.0,42.0,200.0,200.0,360.0,380.0,200.0,100.0,85.0,167.76923076923077,200.0,115.0,250.0,100.0,250.0,750.0,500.0,337.5,1000.0,173.0,2000.0,288.0,187.5,671.4316666666667,12.0,220.0,440.0,241.23076923076923,363.1578947368421,50.0,316.6666666666667,175.0,200.0,40.0,300.0,100.0,90.0,100.0,333.3333333333333,80.0,120.0,266.0,375.0,546.875,303.3333333333333,90.0,175.0,380.0,200.0,65.0,150.0,121.66666666666667,240.0,123.46153846153847,690.0,821.4285714285714,425.0,1800.0,593.0769230769231,450.0,200.0,180.0,325.0,450.0,376.6666666666667,580.0,250.0,400.0,115.0,105.5,62.5,250.0,260.0,475.0,250.0,65.0,1000.0,240.0,500.0,30.0,170.0,116.66666666666667,350.0,337.2857142857143,120.0,314.0,448.0,518.75,50.0,280.0,115.0,112.0,209.375,250.0,200.0,508.8333333333333,227.0,180.0,70.0,554.7368421052631,180.0,1000.0,180.0,400.0,85.0,460.0,375.0,225.0,147.5,185.0,120.0,180.0,250.0,12.666666666666666,250.0,50.0,400.0,200.0,240.0,450.0,396.6666666666667,265.0,416.6666666666667,15000.0,500.0,500.0,125.0,500.0,1100.0,916.6666666666666,1437.5,450.0,362.5,284.2857142857143,1000.0,500.0,500.0,1000.0,225.0,260.0,1500.0,250.0,1400.0,500.0,1000.0,5000.0,500.0,125.0,500.0,225.0,500.0,600.0,400.0,433.3333333333333,500.0,557.1428571428571,500.0,1125.0,490.0,383.3333333333333,400.0,300.0,250.0,400.0,400.0,300.0,450.0,1000.0,420.0,250.0,425.0,343.35,360.0,1000.0,1000.0,650.0,400.0,450.0,1000.0,400.0,95.0,400.0,510.0,600.0,350.0,820.0,484.44444444444446,600.0,250.0,712.5,600.0,775.0,760.0,335.0,352.0,370.0,435.0,360.0,119.06666666666666,480.0,250.0,875.0,562.5,2000.0,1025.0,33.0,80.0,400.0,16.0,500.0,2000.0,292.85714285714283,150.0,260.0,150.0,525.0,660.0,190.0,27.0,252.5,300.0,400.0,500.0,111.66666666666667,2000.0,86.25,175.0,250.0,1000.0,600.0,125.0,466.6666666666667,125.0,500.0,400.0,500.0,500.0,320.0,1295.0,500.0,110.0,32.0,408.5,800.0,110.0,287.125,637.5,416.6666666666667,547.8571428571429,38.0,530.0,32.0,616.6666666666666,425.0,36.0,36.0,155.35714285714286,200.0,475.0,125.0,262.5,220.0,250.0,240.0,154.16666666666666,18.0,40.0,150.0,150.0,60.0,263.75,400.0,125.0,210.0,156.66666666666666,150.0,426.0,359.5,287.5,364.0,173.0,170.0,300.0,348.8888888888889,300.0,1500.0,30.0,630.0,552.5,340.0,40.0,450.0,90.0,150.0,250.0,192.0,125.0,400.0,450.0,1000.0,360.0,450.0,90.0,360.0,125.0,65.0,845.0,500.0,320.0,238.625,1000.0,315.0,360.0,1000.0,450.0,300.0,60.0,169.0,169.0,176.0,107.5,115.0,500.0,210.0,450.0,440.0,300.0,410.0,425.0,187.5,494.15,500.0,650.0,80.0,357.5,360.0,200.0,1000.0,175.0,400.0,283.3333333333333,442.5,207.5,297.5,200.0,1000.0,300.0,392.5,370.0,450.0,250.0,74.16666666666667,95.0,474.2857142857143,280.0,210.0,70.0,90.0,156.5,30.0,123.75,100.0,125.0,400.0,200.0,20.0,346.2857142857143,400.0,353.84615384615387,345.7142857142857,40.0,210.0,250.0,90.0,400.0,375.0,175.0,510.0,783.3333333333334,350.0,180.0,300.0,400.0,200.0,230.0,240.0,240.0,173.0,25.0,750.0,408.3333333333333,18.0,250.0,140.0,162.5,585.0,44.5,597.5,318.5,1000.0,9.0,700.0,750.0,350.0,2000.0,40.0,1000.0,76.66666666666667,6.0,306.6666666666667,290.0,583.3333333333334,323.75,400.0,275.0,407.5,1000.0,442.0,330.0,450.0,140.0,537.5,2225.0,450.0,175.0,140.0,715.0,180.0,565.0,285.0,6000.0,250.0,800.0,387.77777777777777,200.0,750.0,750.0,400.0,180.0,250.0,70.0,480.0,400.0,125.0,100.0,209.0,516.6666666666666,252.33333333333334,450.0,275.0,376.0,313.3333333333333,247.22222222222223,990.0,700.0,303.3333333333333,283.3333333333333,440.0,916.6666666666666,154.0,372.99117647058824,160.0,240.0,70.0,200.0,425.0,578.5714285714286,80.0,400.0,233.33333333333334,121.25,300.0,180.0,200.0,162.89473684210526,90.0,800.0,420.0,250.0,180.0,180.0,212.5,3000.0,166.875,973.4375,230.0,130.0,100.0,130.0,1000.0,150.0,100.0,75.0,50.0,50.0,100.0,115.0,490.0,1000.0,350.0,470.0,500.0,200.0,180.0,370.0,585.7142857142857,250.0,110.0,600.0,2000.0,38.0,400.0,334.2857142857143,393.0,513.75,525.0,250.0,185.0,600.0,122.5,450.0,450.0,500.0,340.0,392.5,500.0,575.0,400.0,395.0,480.0,50.0,487.5,318.0,250.0,500.0,266.6666666666667,243.33333333333334,337.5,700.0,1750.0,234.0,220.0,300.0,100.0,1000.0,270.0,290.0,132.14285714285714,580.0,210.0,325.0,420.0,250.5,625.0,140.0,200.0,25.0,165.0,166.66666666666666,100.0,380.0,50.0,339.0,375.0,170.0,530.0,104.54545454545455,250.0,200.0,200.0,100.0,170.0,60.0,260.0,160.0,230.0,100.0,100.0,488.0,115.0,107.92307692307692,110.65,120.0,115.9090909090909,140.0,500.0,393.3333333333333,523.3333333333334,475.0,420.8333333333333,60.0,260.0,350.0,300.0,600.0,800.0,76.67314666666667,380.0,300.0,175.25,100.0,320.0,315.0,130.0,230.0,350.0,300.0,200.33333333333334,380.0,292.5,480.0,400.0,226.66666666666666,400.0,200.0,448.3333333333333,180.0,200.0,481.6666666666667,140.0,115.0,80.0,125.0,232.77777777777777,190.0,215.0,89.0,600.0,600.0,475.0,500.0,230.0,500.0,646.6666666666666,100.0,225.0,278.57142857142856,100.0,287.5,14.0,350.0,332.0,500.0,310.55555555555554,366.40909090909093,245.0,900.0,300.0,533.3333333333334,343.3333333333333,75.0,590.0,150.0,400.0,400.0,300.0,556.0,330.0,250.0,160.0,500.0,32.5,365.0,39.0,70.0,606.6666666666666,440.0,150.0,225.0,90.0,7.0,900.0,165.0,257.14285714285717,43.0,70.0,475.0,14.0,135.42857142857142,483.3333333333333,220.0,350.0,60.0,370.0,170.0,400.0,363.3333333333333,250.0,300.0,562.5,250.0,750.0,400.0,333.75,200.0,200.0,250.0,102.5,69.0,120.0,560.0,1000.0,150.0,120.0,120.0,800.0,172.5,600.0,350.0,37.0,173.0,150.0,105.0,500.0,766.6666666666666,167.5,310.0,330.0,220.0,120.0,260.0,600.0,700.0,347.0,200.0,280.0,200.0,280.0,212.5,320.0,270.0,100.0,150.0,855.0,1000.0,370.0,1000.0,2333.3333333333335,5000.0,400.0,60.0,700.0,2333.3333333333335,800.0,414.0,236.4814814814815,161.25,1000.0,170.0,1000.0,500.0,400.0,500.0,35.0,135.0,171.11111111111111,650.0,400.0,500.0,180.0,383.3333333333333,300.0,450.0,424.0,500.0,480.0,100.0,320.0,100.0,325.0,300.0,150.0,250.0,600.0,606.6666666666666,280.0,420.0,330.0,605.0,30.0,230.0,500.0,525.0,120.0,135.0,70.0,228.0,200.0,480.0,550.0,450.0,625.0,194.28571428571428,482.5,551.6666666666666,400.0,195.0,300.0,700.0,500.0,500.0,400.0,550.0,325.0,400.0,280.0,450.0,1000.0,1000.0,500.0,400.0,110.0,238.57142857142858,160.0,350.0,1000.0,385.0,875.0,450.0,90.0,1000.0,716.6666666666666,397.0,400.0,756.0,175.0,494.0,240.0,191.42857142857142,220.0,280.0,263.3333333333333,250.0,600.0,1000.0,900.0,1000.0,452.5,283.3333333333333,250.0,100.0,310.0,490.0,245.0,245.0,115.0,200.0,300.0,750.0,133.33333333333334,230.0,140.0,174.14285714285714,800.0,250.0,175.0,900.0,500.0,14.0,2600.0,500.0,550.0,115.0,400.0,260.0,700.0,300.0,628.5714285714286,112.5,450.0,506.0,580.0,780.0,350.0,500.0,200.0,200.0,200.0,260.0,1000.0,200.0,180.0,100.0,380.0,3000.0,385.0,385.0,515.0,580.0,370.0,184.0,400.0,50.0,628.5714285714286,500.0,200.0,70.0,150.0,280.0,120.0,500.0,200.0,340.0,400.0,340.0,106.66666666666667,80.0,112.0,200.0,375.0,450.0,450.0,500.0,250.0,405.0,176.0,70.0,130.0,35.0,150.0,100.0,400.0,160.0,315.0,900.0,400.0,480.0,370.0,550.0,300.0,27.5,250.0,320.0,125.0,400.0,264.0,115.0,250.0,140.0,147.0,120.0,176.0,176.0,118.0,176.0,147.0,200.0,200.0,420.0,160.0,240.0,250.0,500.0,160.0,80.0,350.0,500.0,900.0,60.0,106.66666666666667,200.0,60.0,120.0,1000.0,300.0,1000.0,1000.0,140.0,400.0,360.0,60.0,200.0,250.0,585.0,240.0,2000.0,500.0,300.0,250.0,250.0,400.0,250.0,100.0,500.0,250.0,400.0,800.0,115.0,115.0,385.0,260.0,1000.0,250.0,80.0,240.0,250.0,165.0,165.0,60.0,101.85714285714286,115.0,115.0,115.0,115.0,115.0,240.0,110.0,290.0,150.0,400.0,440.0,200.0,400.0,450.0,260.0,95.0,300.0,214.0,450.0,380.0,390.0,400.0,180.0,95.0,90.0,90.0,100.0,77.5,150.0,90.0,98.33333333333333,140.0,140.0,200.0,90.0,200.0,160.0,105.0,250.0,400.0,280.0,300.0,250.0,400.0,400.0,250.0,105.0,350.0,140.0,525.0,380.0,300.0,50.0,200.0],\"type\":\"treemap\"}],                        {\"template\":{\"data\":{\"histogram2dcontour\":[{\"type\":\"histogram2dcontour\",\"colorbar\":{\"outlinewidth\":0,\"ticks\":\"\"},\"colorscale\":[[0.0,\"#0d0887\"],[0.1111111111111111,\"#46039f\"],[0.2222222222222222,\"#7201a8\"],[0.3333333333333333,\"#9c179e\"],[0.4444444444444444,\"#bd3786\"],[0.5555555555555556,\"#d8576b\"],[0.6666666666666666,\"#ed7953\"],[0.7777777777777778,\"#fb9f3a\"],[0.8888888888888888,\"#fdca26\"],[1.0,\"#f0f921\"]]}],\"choropleth\":[{\"type\":\"choropleth\",\"colorbar\":{\"outlinewidth\":0,\"ticks\":\"\"}}],\"histogram2d\":[{\"type\":\"histogram2d\",\"colorbar\":{\"outlinewidth\":0,\"ticks\":\"\"},\"colorscale\":[[0.0,\"#0d0887\"],[0.1111111111111111,\"#46039f\"],[0.2222222222222222,\"#7201a8\"],[0.3333333333333333,\"#9c179e\"],[0.4444444444444444,\"#bd3786\"],[0.5555555555555556,\"#d8576b\"],[0.6666666666666666,\"#ed7953\"],[0.7777777777777778,\"#fb9f3a\"],[0.8888888888888888,\"#fdca26\"],[1.0,\"#f0f921\"]]}],\"heatmap\":[{\"type\":\"heatmap\",\"colorbar\":{\"outlinewidth\":0,\"ticks\":\"\"},\"colorscale\":[[0.0,\"#0d0887\"],[0.1111111111111111,\"#46039f\"],[0.2222222222222222,\"#7201a8\"],[0.3333333333333333,\"#9c179e\"],[0.4444444444444444,\"#bd3786\"],[0.5555555555555556,\"#d8576b\"],[0.6666666666666666,\"#ed7953\"],[0.7777777777777778,\"#fb9f3a\"],[0.8888888888888888,\"#fdca26\"],[1.0,\"#f0f921\"]]}],\"heatmapgl\":[{\"type\":\"heatmapgl\",\"colorbar\":{\"outlinewidth\":0,\"ticks\":\"\"},\"colorscale\":[[0.0,\"#0d0887\"],[0.1111111111111111,\"#46039f\"],[0.2222222222222222,\"#7201a8\"],[0.3333333333333333,\"#9c179e\"],[0.4444444444444444,\"#bd3786\"],[0.5555555555555556,\"#d8576b\"],[0.6666666666666666,\"#ed7953\"],[0.7777777777777778,\"#fb9f3a\"],[0.8888888888888888,\"#fdca26\"],[1.0,\"#f0f921\"]]}],\"contourcarpet\":[{\"type\":\"contourcarpet\",\"colorbar\":{\"outlinewidth\":0,\"ticks\":\"\"}}],\"contour\":[{\"type\":\"contour\",\"colorbar\":{\"outlinewidth\":0,\"ticks\":\"\"},\"colorscale\":[[0.0,\"#0d0887\"],[0.1111111111111111,\"#46039f\"],[0.2222222222222222,\"#7201a8\"],[0.3333333333333333,\"#9c179e\"],[0.4444444444444444,\"#bd3786\"],[0.5555555555555556,\"#d8576b\"],[0.6666666666666666,\"#ed7953\"],[0.7777777777777778,\"#fb9f3a\"],[0.8888888888888888,\"#fdca26\"],[1.0,\"#f0f921\"]]}],\"surface\":[{\"type\":\"surface\",\"colorbar\":{\"outlinewidth\":0,\"ticks\":\"\"},\"colorscale\":[[0.0,\"#0d0887\"],[0.1111111111111111,\"#46039f\"],[0.2222222222222222,\"#7201a8\"],[0.3333333333333333,\"#9c179e\"],[0.4444444444444444,\"#bd3786\"],[0.5555555555555556,\"#d8576b\"],[0.6666666666666666,\"#ed7953\"],[0.7777777777777778,\"#fb9f3a\"],[0.8888888888888888,\"#fdca26\"],[1.0,\"#f0f921\"]]}],\"mesh3d\":[{\"type\":\"mesh3d\",\"colorbar\":{\"outlinewidth\":0,\"ticks\":\"\"}}],\"scatter\":[{\"fillpattern\":{\"fillmode\":\"overlay\",\"size\":10,\"solidity\":0.2},\"type\":\"scatter\"}],\"parcoords\":[{\"type\":\"parcoords\",\"line\":{\"colorbar\":{\"outlinewidth\":0,\"ticks\":\"\"}}}],\"scatterpolargl\":[{\"type\":\"scatterpolargl\",\"marker\":{\"colorbar\":{\"outlinewidth\":0,\"ticks\":\"\"}}}],\"bar\":[{\"error_x\":{\"color\":\"#2a3f5f\"},\"error_y\":{\"color\":\"#2a3f5f\"},\"marker\":{\"line\":{\"color\":\"#E5ECF6\",\"width\":0.5},\"pattern\":{\"fillmode\":\"overlay\",\"size\":10,\"solidity\":0.2}},\"type\":\"bar\"}],\"scattergeo\":[{\"type\":\"scattergeo\",\"marker\":{\"colorbar\":{\"outlinewidth\":0,\"ticks\":\"\"}}}],\"scatterpolar\":[{\"type\":\"scatterpolar\",\"marker\":{\"colorbar\":{\"outlinewidth\":0,\"ticks\":\"\"}}}],\"histogram\":[{\"marker\":{\"pattern\":{\"fillmode\":\"overlay\",\"size\":10,\"solidity\":0.2}},\"type\":\"histogram\"}],\"scattergl\":[{\"type\":\"scattergl\",\"marker\":{\"colorbar\":{\"outlinewidth\":0,\"ticks\":\"\"}}}],\"scatter3d\":[{\"type\":\"scatter3d\",\"line\":{\"colorbar\":{\"outlinewidth\":0,\"ticks\":\"\"}},\"marker\":{\"colorbar\":{\"outlinewidth\":0,\"ticks\":\"\"}}}],\"scattermapbox\":[{\"type\":\"scattermapbox\",\"marker\":{\"colorbar\":{\"outlinewidth\":0,\"ticks\":\"\"}}}],\"scatterternary\":[{\"type\":\"scatterternary\",\"marker\":{\"colorbar\":{\"outlinewidth\":0,\"ticks\":\"\"}}}],\"scattercarpet\":[{\"type\":\"scattercarpet\",\"marker\":{\"colorbar\":{\"outlinewidth\":0,\"ticks\":\"\"}}}],\"carpet\":[{\"aaxis\":{\"endlinecolor\":\"#2a3f5f\",\"gridcolor\":\"white\",\"linecolor\":\"white\",\"minorgridcolor\":\"white\",\"startlinecolor\":\"#2a3f5f\"},\"baxis\":{\"endlinecolor\":\"#2a3f5f\",\"gridcolor\":\"white\",\"linecolor\":\"white\",\"minorgridcolor\":\"white\",\"startlinecolor\":\"#2a3f5f\"},\"type\":\"carpet\"}],\"table\":[{\"cells\":{\"fill\":{\"color\":\"#EBF0F8\"},\"line\":{\"color\":\"white\"}},\"header\":{\"fill\":{\"color\":\"#C8D4E3\"},\"line\":{\"color\":\"white\"}},\"type\":\"table\"}],\"barpolar\":[{\"marker\":{\"line\":{\"color\":\"#E5ECF6\",\"width\":0.5},\"pattern\":{\"fillmode\":\"overlay\",\"size\":10,\"solidity\":0.2}},\"type\":\"barpolar\"}],\"pie\":[{\"automargin\":true,\"type\":\"pie\"}]},\"layout\":{\"autotypenumbers\":\"strict\",\"colorway\":[\"#636efa\",\"#EF553B\",\"#00cc96\",\"#ab63fa\",\"#FFA15A\",\"#19d3f3\",\"#FF6692\",\"#B6E880\",\"#FF97FF\",\"#FECB52\"],\"font\":{\"color\":\"#2a3f5f\"},\"hovermode\":\"closest\",\"hoverlabel\":{\"align\":\"left\"},\"paper_bgcolor\":\"white\",\"plot_bgcolor\":\"#E5ECF6\",\"polar\":{\"bgcolor\":\"#E5ECF6\",\"angularaxis\":{\"gridcolor\":\"white\",\"linecolor\":\"white\",\"ticks\":\"\"},\"radialaxis\":{\"gridcolor\":\"white\",\"linecolor\":\"white\",\"ticks\":\"\"}},\"ternary\":{\"bgcolor\":\"#E5ECF6\",\"aaxis\":{\"gridcolor\":\"white\",\"linecolor\":\"white\",\"ticks\":\"\"},\"baxis\":{\"gridcolor\":\"white\",\"linecolor\":\"white\",\"ticks\":\"\"},\"caxis\":{\"gridcolor\":\"white\",\"linecolor\":\"white\",\"ticks\":\"\"}},\"coloraxis\":{\"colorbar\":{\"outlinewidth\":0,\"ticks\":\"\"}},\"colorscale\":{\"sequential\":[[0.0,\"#0d0887\"],[0.1111111111111111,\"#46039f\"],[0.2222222222222222,\"#7201a8\"],[0.3333333333333333,\"#9c179e\"],[0.4444444444444444,\"#bd3786\"],[0.5555555555555556,\"#d8576b\"],[0.6666666666666666,\"#ed7953\"],[0.7777777777777778,\"#fb9f3a\"],[0.8888888888888888,\"#fdca26\"],[1.0,\"#f0f921\"]],\"sequentialminus\":[[0.0,\"#0d0887\"],[0.1111111111111111,\"#46039f\"],[0.2222222222222222,\"#7201a8\"],[0.3333333333333333,\"#9c179e\"],[0.4444444444444444,\"#bd3786\"],[0.5555555555555556,\"#d8576b\"],[0.6666666666666666,\"#ed7953\"],[0.7777777777777778,\"#fb9f3a\"],[0.8888888888888888,\"#fdca26\"],[1.0,\"#f0f921\"]],\"diverging\":[[0,\"#8e0152\"],[0.1,\"#c51b7d\"],[0.2,\"#de77ae\"],[0.3,\"#f1b6da\"],[0.4,\"#fde0ef\"],[0.5,\"#f7f7f7\"],[0.6,\"#e6f5d0\"],[0.7,\"#b8e186\"],[0.8,\"#7fbc41\"],[0.9,\"#4d9221\"],[1,\"#276419\"]]},\"xaxis\":{\"gridcolor\":\"white\",\"linecolor\":\"white\",\"ticks\":\"\",\"title\":{\"standoff\":15},\"zerolinecolor\":\"white\",\"automargin\":true,\"zerolinewidth\":2},\"yaxis\":{\"gridcolor\":\"white\",\"linecolor\":\"white\",\"ticks\":\"\",\"title\":{\"standoff\":15},\"zerolinecolor\":\"white\",\"automargin\":true,\"zerolinewidth\":2},\"scene\":{\"xaxis\":{\"backgroundcolor\":\"#E5ECF6\",\"gridcolor\":\"white\",\"linecolor\":\"white\",\"showbackground\":true,\"ticks\":\"\",\"zerolinecolor\":\"white\",\"gridwidth\":2},\"yaxis\":{\"backgroundcolor\":\"#E5ECF6\",\"gridcolor\":\"white\",\"linecolor\":\"white\",\"showbackground\":true,\"ticks\":\"\",\"zerolinecolor\":\"white\",\"gridwidth\":2},\"zaxis\":{\"backgroundcolor\":\"#E5ECF6\",\"gridcolor\":\"white\",\"linecolor\":\"white\",\"showbackground\":true,\"ticks\":\"\",\"zerolinecolor\":\"white\",\"gridwidth\":2}},\"shapedefaults\":{\"line\":{\"color\":\"#2a3f5f\"}},\"annotationdefaults\":{\"arrowcolor\":\"#2a3f5f\",\"arrowhead\":0,\"arrowwidth\":1},\"geo\":{\"bgcolor\":\"white\",\"landcolor\":\"#E5ECF6\",\"subunitcolor\":\"white\",\"showland\":true,\"showlakes\":true,\"lakecolor\":\"white\"},\"title\":{\"x\":0.05},\"mapbox\":{\"style\":\"light\"}}},\"legend\":{\"tracegroupgap\":0},\"margin\":{\"t\":50,\"l\":25,\"r\":25,\"b\":25}},                        {\"responsive\": true}                    ).then(function(){\n",
       "                            \n",
       "var gd = document.getElementById('5175da22-a064-424f-8075-a98b1b9a5824');\n",
       "var x = new MutationObserver(function (mutations, observer) {{\n",
       "        var display = window.getComputedStyle(gd).display;\n",
       "        if (!display || display === 'none') {{\n",
       "            console.log([gd, 'removed!']);\n",
       "            Plotly.purge(gd);\n",
       "            observer.disconnect();\n",
       "        }}\n",
       "}});\n",
       "\n",
       "// Listen for the removal of the full notebook cells\n",
       "var notebookContainer = gd.closest('#notebook-container');\n",
       "if (notebookContainer) {{\n",
       "    x.observe(notebookContainer, {childList: true});\n",
       "}}\n",
       "\n",
       "// Listen for the clearing of the current output cell\n",
       "var outputEl = gd.closest('.output');\n",
       "if (outputEl) {{\n",
       "    x.observe(outputEl, {childList: true});\n",
       "}}\n",
       "\n",
       "                        })                };                });            </script>        </div>"
      ]
     },
     "metadata": {},
     "output_type": "display_data"
    }
   ],
   "source": [
    "import plotly.express as px\n",
    "fig = px.treemap(average_by_cat, path = ['main_category_en'], values='quantity',\n",
    "                  color='main_category_en')\n",
    "fig.update_layout(margin = dict(t=50, l=25, r=25, b=25))\n",
    "fig.show()"
   ]
  },
  {
   "cell_type": "code",
   "execution_count": 107,
   "metadata": {},
   "outputs": [],
   "source": [
    "sort = average_by_cat.sort_values('quantity', ascending = False)"
   ]
  },
  {
   "cell_type": "code",
   "execution_count": 108,
   "metadata": {},
   "outputs": [],
   "source": [
    "top20 = sort.head(20)"
   ]
  },
  {
   "cell_type": "code",
   "execution_count": 109,
   "metadata": {},
   "outputs": [
    {
     "data": {
      "application/vnd.plotly.v1+json": {
       "config": {
        "plotlyServerURL": "https://plot.ly"
       },
       "data": [
        {
         "branchvalues": "total",
         "customdata": [
          [
           "Fresh apples"
          ],
          [
           "Creamy puddings"
          ],
          [
           "White Jasmine rices"
          ],
          [
           "Carrots"
          ],
          [
           "Pistachio ice cream tubs"
          ],
          [
           "Almond paste"
          ],
          [
           "Fresh plant-based foods"
          ],
          [
           "fr:peches-jaunes"
          ],
          [
           "fr:comple"
          ],
          [
           "Wheat semolinas"
          ],
          [
           "fr:aliments-a-base-de-plantes-seches"
          ],
          [
           "Produits-laitiers"
          ],
          [
           "Cambodia"
          ],
          [
           "Fruit-based beverages"
          ],
          [
           "Pan-fried dishes"
          ],
          [
           "Chicken thighs"
          ],
          [
           "Penne rigate"
          ],
          [
           "Golden Delicious apples"
          ],
          [
           "Gala apples"
          ],
          [
           "Wheat flour type 65"
          ]
         ],
         "domain": {
          "x": [
           0,
           1
          ],
          "y": [
           0,
           1
          ]
         },
         "hovertemplate": "labels=%{label}<br>quantity=%{value}<br>parent=%{parent}<br>id=%{id}<br>main_category_en=%{customdata[0]}<extra></extra>",
         "ids": [
          "Fresh apples",
          "Creamy puddings",
          "White Jasmine rices",
          "Carrots",
          "Pistachio ice cream tubs",
          "Almond paste",
          "Fresh plant-based foods",
          "fr:peches-jaunes",
          "fr:comple",
          "Wheat semolinas",
          "fr:aliments-a-base-de-plantes-seches",
          "Produits-laitiers",
          "Cambodia",
          "Fruit-based beverages",
          "Pan-fried dishes",
          "Chicken thighs",
          "Penne rigate",
          "Golden Delicious apples",
          "Gala apples",
          "Wheat flour type 65"
         ],
         "labels": [
          "Fresh apples",
          "Creamy puddings",
          "White Jasmine rices",
          "Carrots",
          "Pistachio ice cream tubs",
          "Almond paste",
          "Fresh plant-based foods",
          "fr:peches-jaunes",
          "fr:comple",
          "Wheat semolinas",
          "fr:aliments-a-base-de-plantes-seches",
          "Produits-laitiers",
          "Cambodia",
          "Fruit-based beverages",
          "Pan-fried dishes",
          "Chicken thighs",
          "Penne rigate",
          "Golden Delicious apples",
          "Gala apples",
          "Wheat flour type 65"
         ],
         "marker": {
          "colors": [
           "#636efa",
           "#EF553B",
           "#00cc96",
           "#ab63fa",
           "#FFA15A",
           "#19d3f3",
           "#FF6692",
           "#B6E880",
           "#FF97FF",
           "#FECB52",
           "#636efa",
           "#EF553B",
           "#00cc96",
           "#ab63fa",
           "#FFA15A",
           "#19d3f3",
           "#FF6692",
           "#B6E880",
           "#FF97FF",
           "#FECB52"
          ]
         },
         "name": "",
         "parents": [
          "",
          "",
          "",
          "",
          "",
          "",
          "",
          "",
          "",
          "",
          "",
          "",
          "",
          "",
          "",
          "",
          "",
          "",
          "",
          ""
         ],
         "type": "treemap",
         "values": [
          15000,
          2280,
          2333.3333333333335,
          2000,
          6000,
          5000,
          5000,
          2000,
          3000,
          5000,
          2600,
          3000,
          5000,
          2000,
          2000,
          5500,
          2225,
          2000,
          2000,
          2333.3333333333335
         ]
        }
       ],
       "layout": {
        "legend": {
         "tracegroupgap": 0
        },
        "margin": {
         "b": 25,
         "l": 25,
         "r": 25,
         "t": 50
        },
        "template": {
         "data": {
          "bar": [
           {
            "error_x": {
             "color": "#2a3f5f"
            },
            "error_y": {
             "color": "#2a3f5f"
            },
            "marker": {
             "line": {
              "color": "#E5ECF6",
              "width": 0.5
             },
             "pattern": {
              "fillmode": "overlay",
              "size": 10,
              "solidity": 0.2
             }
            },
            "type": "bar"
           }
          ],
          "barpolar": [
           {
            "marker": {
             "line": {
              "color": "#E5ECF6",
              "width": 0.5
             },
             "pattern": {
              "fillmode": "overlay",
              "size": 10,
              "solidity": 0.2
             }
            },
            "type": "barpolar"
           }
          ],
          "carpet": [
           {
            "aaxis": {
             "endlinecolor": "#2a3f5f",
             "gridcolor": "white",
             "linecolor": "white",
             "minorgridcolor": "white",
             "startlinecolor": "#2a3f5f"
            },
            "baxis": {
             "endlinecolor": "#2a3f5f",
             "gridcolor": "white",
             "linecolor": "white",
             "minorgridcolor": "white",
             "startlinecolor": "#2a3f5f"
            },
            "type": "carpet"
           }
          ],
          "choropleth": [
           {
            "colorbar": {
             "outlinewidth": 0,
             "ticks": ""
            },
            "type": "choropleth"
           }
          ],
          "contour": [
           {
            "colorbar": {
             "outlinewidth": 0,
             "ticks": ""
            },
            "colorscale": [
             [
              0,
              "#0d0887"
             ],
             [
              0.1111111111111111,
              "#46039f"
             ],
             [
              0.2222222222222222,
              "#7201a8"
             ],
             [
              0.3333333333333333,
              "#9c179e"
             ],
             [
              0.4444444444444444,
              "#bd3786"
             ],
             [
              0.5555555555555556,
              "#d8576b"
             ],
             [
              0.6666666666666666,
              "#ed7953"
             ],
             [
              0.7777777777777778,
              "#fb9f3a"
             ],
             [
              0.8888888888888888,
              "#fdca26"
             ],
             [
              1,
              "#f0f921"
             ]
            ],
            "type": "contour"
           }
          ],
          "contourcarpet": [
           {
            "colorbar": {
             "outlinewidth": 0,
             "ticks": ""
            },
            "type": "contourcarpet"
           }
          ],
          "heatmap": [
           {
            "colorbar": {
             "outlinewidth": 0,
             "ticks": ""
            },
            "colorscale": [
             [
              0,
              "#0d0887"
             ],
             [
              0.1111111111111111,
              "#46039f"
             ],
             [
              0.2222222222222222,
              "#7201a8"
             ],
             [
              0.3333333333333333,
              "#9c179e"
             ],
             [
              0.4444444444444444,
              "#bd3786"
             ],
             [
              0.5555555555555556,
              "#d8576b"
             ],
             [
              0.6666666666666666,
              "#ed7953"
             ],
             [
              0.7777777777777778,
              "#fb9f3a"
             ],
             [
              0.8888888888888888,
              "#fdca26"
             ],
             [
              1,
              "#f0f921"
             ]
            ],
            "type": "heatmap"
           }
          ],
          "heatmapgl": [
           {
            "colorbar": {
             "outlinewidth": 0,
             "ticks": ""
            },
            "colorscale": [
             [
              0,
              "#0d0887"
             ],
             [
              0.1111111111111111,
              "#46039f"
             ],
             [
              0.2222222222222222,
              "#7201a8"
             ],
             [
              0.3333333333333333,
              "#9c179e"
             ],
             [
              0.4444444444444444,
              "#bd3786"
             ],
             [
              0.5555555555555556,
              "#d8576b"
             ],
             [
              0.6666666666666666,
              "#ed7953"
             ],
             [
              0.7777777777777778,
              "#fb9f3a"
             ],
             [
              0.8888888888888888,
              "#fdca26"
             ],
             [
              1,
              "#f0f921"
             ]
            ],
            "type": "heatmapgl"
           }
          ],
          "histogram": [
           {
            "marker": {
             "pattern": {
              "fillmode": "overlay",
              "size": 10,
              "solidity": 0.2
             }
            },
            "type": "histogram"
           }
          ],
          "histogram2d": [
           {
            "colorbar": {
             "outlinewidth": 0,
             "ticks": ""
            },
            "colorscale": [
             [
              0,
              "#0d0887"
             ],
             [
              0.1111111111111111,
              "#46039f"
             ],
             [
              0.2222222222222222,
              "#7201a8"
             ],
             [
              0.3333333333333333,
              "#9c179e"
             ],
             [
              0.4444444444444444,
              "#bd3786"
             ],
             [
              0.5555555555555556,
              "#d8576b"
             ],
             [
              0.6666666666666666,
              "#ed7953"
             ],
             [
              0.7777777777777778,
              "#fb9f3a"
             ],
             [
              0.8888888888888888,
              "#fdca26"
             ],
             [
              1,
              "#f0f921"
             ]
            ],
            "type": "histogram2d"
           }
          ],
          "histogram2dcontour": [
           {
            "colorbar": {
             "outlinewidth": 0,
             "ticks": ""
            },
            "colorscale": [
             [
              0,
              "#0d0887"
             ],
             [
              0.1111111111111111,
              "#46039f"
             ],
             [
              0.2222222222222222,
              "#7201a8"
             ],
             [
              0.3333333333333333,
              "#9c179e"
             ],
             [
              0.4444444444444444,
              "#bd3786"
             ],
             [
              0.5555555555555556,
              "#d8576b"
             ],
             [
              0.6666666666666666,
              "#ed7953"
             ],
             [
              0.7777777777777778,
              "#fb9f3a"
             ],
             [
              0.8888888888888888,
              "#fdca26"
             ],
             [
              1,
              "#f0f921"
             ]
            ],
            "type": "histogram2dcontour"
           }
          ],
          "mesh3d": [
           {
            "colorbar": {
             "outlinewidth": 0,
             "ticks": ""
            },
            "type": "mesh3d"
           }
          ],
          "parcoords": [
           {
            "line": {
             "colorbar": {
              "outlinewidth": 0,
              "ticks": ""
             }
            },
            "type": "parcoords"
           }
          ],
          "pie": [
           {
            "automargin": true,
            "type": "pie"
           }
          ],
          "scatter": [
           {
            "fillpattern": {
             "fillmode": "overlay",
             "size": 10,
             "solidity": 0.2
            },
            "type": "scatter"
           }
          ],
          "scatter3d": [
           {
            "line": {
             "colorbar": {
              "outlinewidth": 0,
              "ticks": ""
             }
            },
            "marker": {
             "colorbar": {
              "outlinewidth": 0,
              "ticks": ""
             }
            },
            "type": "scatter3d"
           }
          ],
          "scattercarpet": [
           {
            "marker": {
             "colorbar": {
              "outlinewidth": 0,
              "ticks": ""
             }
            },
            "type": "scattercarpet"
           }
          ],
          "scattergeo": [
           {
            "marker": {
             "colorbar": {
              "outlinewidth": 0,
              "ticks": ""
             }
            },
            "type": "scattergeo"
           }
          ],
          "scattergl": [
           {
            "marker": {
             "colorbar": {
              "outlinewidth": 0,
              "ticks": ""
             }
            },
            "type": "scattergl"
           }
          ],
          "scattermapbox": [
           {
            "marker": {
             "colorbar": {
              "outlinewidth": 0,
              "ticks": ""
             }
            },
            "type": "scattermapbox"
           }
          ],
          "scatterpolar": [
           {
            "marker": {
             "colorbar": {
              "outlinewidth": 0,
              "ticks": ""
             }
            },
            "type": "scatterpolar"
           }
          ],
          "scatterpolargl": [
           {
            "marker": {
             "colorbar": {
              "outlinewidth": 0,
              "ticks": ""
             }
            },
            "type": "scatterpolargl"
           }
          ],
          "scatterternary": [
           {
            "marker": {
             "colorbar": {
              "outlinewidth": 0,
              "ticks": ""
             }
            },
            "type": "scatterternary"
           }
          ],
          "surface": [
           {
            "colorbar": {
             "outlinewidth": 0,
             "ticks": ""
            },
            "colorscale": [
             [
              0,
              "#0d0887"
             ],
             [
              0.1111111111111111,
              "#46039f"
             ],
             [
              0.2222222222222222,
              "#7201a8"
             ],
             [
              0.3333333333333333,
              "#9c179e"
             ],
             [
              0.4444444444444444,
              "#bd3786"
             ],
             [
              0.5555555555555556,
              "#d8576b"
             ],
             [
              0.6666666666666666,
              "#ed7953"
             ],
             [
              0.7777777777777778,
              "#fb9f3a"
             ],
             [
              0.8888888888888888,
              "#fdca26"
             ],
             [
              1,
              "#f0f921"
             ]
            ],
            "type": "surface"
           }
          ],
          "table": [
           {
            "cells": {
             "fill": {
              "color": "#EBF0F8"
             },
             "line": {
              "color": "white"
             }
            },
            "header": {
             "fill": {
              "color": "#C8D4E3"
             },
             "line": {
              "color": "white"
             }
            },
            "type": "table"
           }
          ]
         },
         "layout": {
          "annotationdefaults": {
           "arrowcolor": "#2a3f5f",
           "arrowhead": 0,
           "arrowwidth": 1
          },
          "autotypenumbers": "strict",
          "coloraxis": {
           "colorbar": {
            "outlinewidth": 0,
            "ticks": ""
           }
          },
          "colorscale": {
           "diverging": [
            [
             0,
             "#8e0152"
            ],
            [
             0.1,
             "#c51b7d"
            ],
            [
             0.2,
             "#de77ae"
            ],
            [
             0.3,
             "#f1b6da"
            ],
            [
             0.4,
             "#fde0ef"
            ],
            [
             0.5,
             "#f7f7f7"
            ],
            [
             0.6,
             "#e6f5d0"
            ],
            [
             0.7,
             "#b8e186"
            ],
            [
             0.8,
             "#7fbc41"
            ],
            [
             0.9,
             "#4d9221"
            ],
            [
             1,
             "#276419"
            ]
           ],
           "sequential": [
            [
             0,
             "#0d0887"
            ],
            [
             0.1111111111111111,
             "#46039f"
            ],
            [
             0.2222222222222222,
             "#7201a8"
            ],
            [
             0.3333333333333333,
             "#9c179e"
            ],
            [
             0.4444444444444444,
             "#bd3786"
            ],
            [
             0.5555555555555556,
             "#d8576b"
            ],
            [
             0.6666666666666666,
             "#ed7953"
            ],
            [
             0.7777777777777778,
             "#fb9f3a"
            ],
            [
             0.8888888888888888,
             "#fdca26"
            ],
            [
             1,
             "#f0f921"
            ]
           ],
           "sequentialminus": [
            [
             0,
             "#0d0887"
            ],
            [
             0.1111111111111111,
             "#46039f"
            ],
            [
             0.2222222222222222,
             "#7201a8"
            ],
            [
             0.3333333333333333,
             "#9c179e"
            ],
            [
             0.4444444444444444,
             "#bd3786"
            ],
            [
             0.5555555555555556,
             "#d8576b"
            ],
            [
             0.6666666666666666,
             "#ed7953"
            ],
            [
             0.7777777777777778,
             "#fb9f3a"
            ],
            [
             0.8888888888888888,
             "#fdca26"
            ],
            [
             1,
             "#f0f921"
            ]
           ]
          },
          "colorway": [
           "#636efa",
           "#EF553B",
           "#00cc96",
           "#ab63fa",
           "#FFA15A",
           "#19d3f3",
           "#FF6692",
           "#B6E880",
           "#FF97FF",
           "#FECB52"
          ],
          "font": {
           "color": "#2a3f5f"
          },
          "geo": {
           "bgcolor": "white",
           "lakecolor": "white",
           "landcolor": "#E5ECF6",
           "showlakes": true,
           "showland": true,
           "subunitcolor": "white"
          },
          "hoverlabel": {
           "align": "left"
          },
          "hovermode": "closest",
          "mapbox": {
           "style": "light"
          },
          "paper_bgcolor": "white",
          "plot_bgcolor": "#E5ECF6",
          "polar": {
           "angularaxis": {
            "gridcolor": "white",
            "linecolor": "white",
            "ticks": ""
           },
           "bgcolor": "#E5ECF6",
           "radialaxis": {
            "gridcolor": "white",
            "linecolor": "white",
            "ticks": ""
           }
          },
          "scene": {
           "xaxis": {
            "backgroundcolor": "#E5ECF6",
            "gridcolor": "white",
            "gridwidth": 2,
            "linecolor": "white",
            "showbackground": true,
            "ticks": "",
            "zerolinecolor": "white"
           },
           "yaxis": {
            "backgroundcolor": "#E5ECF6",
            "gridcolor": "white",
            "gridwidth": 2,
            "linecolor": "white",
            "showbackground": true,
            "ticks": "",
            "zerolinecolor": "white"
           },
           "zaxis": {
            "backgroundcolor": "#E5ECF6",
            "gridcolor": "white",
            "gridwidth": 2,
            "linecolor": "white",
            "showbackground": true,
            "ticks": "",
            "zerolinecolor": "white"
           }
          },
          "shapedefaults": {
           "line": {
            "color": "#2a3f5f"
           }
          },
          "ternary": {
           "aaxis": {
            "gridcolor": "white",
            "linecolor": "white",
            "ticks": ""
           },
           "baxis": {
            "gridcolor": "white",
            "linecolor": "white",
            "ticks": ""
           },
           "bgcolor": "#E5ECF6",
           "caxis": {
            "gridcolor": "white",
            "linecolor": "white",
            "ticks": ""
           }
          },
          "title": {
           "x": 0.05
          },
          "xaxis": {
           "automargin": true,
           "gridcolor": "white",
           "linecolor": "white",
           "ticks": "",
           "title": {
            "standoff": 15
           },
           "zerolinecolor": "white",
           "zerolinewidth": 2
          },
          "yaxis": {
           "automargin": true,
           "gridcolor": "white",
           "linecolor": "white",
           "ticks": "",
           "title": {
            "standoff": 15
           },
           "zerolinecolor": "white",
           "zerolinewidth": 2
          }
         }
        }
       }
      },
      "text/html": [
       "<div>                            <div id=\"1360e022-adc3-4ff8-96e1-7f14f5b3fb25\" class=\"plotly-graph-div\" style=\"height:525px; width:100%;\"></div>            <script type=\"text/javascript\">                require([\"plotly\"], function(Plotly) {                    window.PLOTLYENV=window.PLOTLYENV || {};                                    if (document.getElementById(\"1360e022-adc3-4ff8-96e1-7f14f5b3fb25\")) {                    Plotly.newPlot(                        \"1360e022-adc3-4ff8-96e1-7f14f5b3fb25\",                        [{\"branchvalues\":\"total\",\"customdata\":[[\"Fresh apples\"],[\"Creamy puddings\"],[\"White Jasmine rices\"],[\"Carrots\"],[\"Pistachio ice cream tubs\"],[\"Almond paste\"],[\"Fresh plant-based foods\"],[\"fr:peches-jaunes\"],[\"fr:comple\"],[\"Wheat semolinas\"],[\"fr:aliments-a-base-de-plantes-seches\"],[\"Produits-laitiers\"],[\"Cambodia\"],[\"Fruit-based beverages\"],[\"Pan-fried dishes\"],[\"Chicken thighs\"],[\"Penne rigate\"],[\"Golden Delicious apples\"],[\"Gala apples\"],[\"Wheat flour type 65\"]],\"domain\":{\"x\":[0.0,1.0],\"y\":[0.0,1.0]},\"hovertemplate\":\"labels=%{label}\\u003cbr\\u003equantity=%{value}\\u003cbr\\u003eparent=%{parent}\\u003cbr\\u003eid=%{id}\\u003cbr\\u003emain_category_en=%{customdata[0]}\\u003cextra\\u003e\\u003c\\u002fextra\\u003e\",\"ids\":[\"Fresh apples\",\"Creamy puddings\",\"White Jasmine rices\",\"Carrots\",\"Pistachio ice cream tubs\",\"Almond paste\",\"Fresh plant-based foods\",\"fr:peches-jaunes\",\"fr:comple\",\"Wheat semolinas\",\"fr:aliments-a-base-de-plantes-seches\",\"Produits-laitiers\",\"Cambodia\",\"Fruit-based beverages\",\"Pan-fried dishes\",\"Chicken thighs\",\"Penne rigate\",\"Golden Delicious apples\",\"Gala apples\",\"Wheat flour type 65\"],\"labels\":[\"Fresh apples\",\"Creamy puddings\",\"White Jasmine rices\",\"Carrots\",\"Pistachio ice cream tubs\",\"Almond paste\",\"Fresh plant-based foods\",\"fr:peches-jaunes\",\"fr:comple\",\"Wheat semolinas\",\"fr:aliments-a-base-de-plantes-seches\",\"Produits-laitiers\",\"Cambodia\",\"Fruit-based beverages\",\"Pan-fried dishes\",\"Chicken thighs\",\"Penne rigate\",\"Golden Delicious apples\",\"Gala apples\",\"Wheat flour type 65\"],\"marker\":{\"colors\":[\"#636efa\",\"#EF553B\",\"#00cc96\",\"#ab63fa\",\"#FFA15A\",\"#19d3f3\",\"#FF6692\",\"#B6E880\",\"#FF97FF\",\"#FECB52\",\"#636efa\",\"#EF553B\",\"#00cc96\",\"#ab63fa\",\"#FFA15A\",\"#19d3f3\",\"#FF6692\",\"#B6E880\",\"#FF97FF\",\"#FECB52\"]},\"name\":\"\",\"parents\":[\"\",\"\",\"\",\"\",\"\",\"\",\"\",\"\",\"\",\"\",\"\",\"\",\"\",\"\",\"\",\"\",\"\",\"\",\"\",\"\"],\"values\":[15000.0,2280.0,2333.3333333333335,2000.0,6000.0,5000.0,5000.0,2000.0,3000.0,5000.0,2600.0,3000.0,5000.0,2000.0,2000.0,5500.0,2225.0,2000.0,2000.0,2333.3333333333335],\"type\":\"treemap\"}],                        {\"template\":{\"data\":{\"histogram2dcontour\":[{\"type\":\"histogram2dcontour\",\"colorbar\":{\"outlinewidth\":0,\"ticks\":\"\"},\"colorscale\":[[0.0,\"#0d0887\"],[0.1111111111111111,\"#46039f\"],[0.2222222222222222,\"#7201a8\"],[0.3333333333333333,\"#9c179e\"],[0.4444444444444444,\"#bd3786\"],[0.5555555555555556,\"#d8576b\"],[0.6666666666666666,\"#ed7953\"],[0.7777777777777778,\"#fb9f3a\"],[0.8888888888888888,\"#fdca26\"],[1.0,\"#f0f921\"]]}],\"choropleth\":[{\"type\":\"choropleth\",\"colorbar\":{\"outlinewidth\":0,\"ticks\":\"\"}}],\"histogram2d\":[{\"type\":\"histogram2d\",\"colorbar\":{\"outlinewidth\":0,\"ticks\":\"\"},\"colorscale\":[[0.0,\"#0d0887\"],[0.1111111111111111,\"#46039f\"],[0.2222222222222222,\"#7201a8\"],[0.3333333333333333,\"#9c179e\"],[0.4444444444444444,\"#bd3786\"],[0.5555555555555556,\"#d8576b\"],[0.6666666666666666,\"#ed7953\"],[0.7777777777777778,\"#fb9f3a\"],[0.8888888888888888,\"#fdca26\"],[1.0,\"#f0f921\"]]}],\"heatmap\":[{\"type\":\"heatmap\",\"colorbar\":{\"outlinewidth\":0,\"ticks\":\"\"},\"colorscale\":[[0.0,\"#0d0887\"],[0.1111111111111111,\"#46039f\"],[0.2222222222222222,\"#7201a8\"],[0.3333333333333333,\"#9c179e\"],[0.4444444444444444,\"#bd3786\"],[0.5555555555555556,\"#d8576b\"],[0.6666666666666666,\"#ed7953\"],[0.7777777777777778,\"#fb9f3a\"],[0.8888888888888888,\"#fdca26\"],[1.0,\"#f0f921\"]]}],\"heatmapgl\":[{\"type\":\"heatmapgl\",\"colorbar\":{\"outlinewidth\":0,\"ticks\":\"\"},\"colorscale\":[[0.0,\"#0d0887\"],[0.1111111111111111,\"#46039f\"],[0.2222222222222222,\"#7201a8\"],[0.3333333333333333,\"#9c179e\"],[0.4444444444444444,\"#bd3786\"],[0.5555555555555556,\"#d8576b\"],[0.6666666666666666,\"#ed7953\"],[0.7777777777777778,\"#fb9f3a\"],[0.8888888888888888,\"#fdca26\"],[1.0,\"#f0f921\"]]}],\"contourcarpet\":[{\"type\":\"contourcarpet\",\"colorbar\":{\"outlinewidth\":0,\"ticks\":\"\"}}],\"contour\":[{\"type\":\"contour\",\"colorbar\":{\"outlinewidth\":0,\"ticks\":\"\"},\"colorscale\":[[0.0,\"#0d0887\"],[0.1111111111111111,\"#46039f\"],[0.2222222222222222,\"#7201a8\"],[0.3333333333333333,\"#9c179e\"],[0.4444444444444444,\"#bd3786\"],[0.5555555555555556,\"#d8576b\"],[0.6666666666666666,\"#ed7953\"],[0.7777777777777778,\"#fb9f3a\"],[0.8888888888888888,\"#fdca26\"],[1.0,\"#f0f921\"]]}],\"surface\":[{\"type\":\"surface\",\"colorbar\":{\"outlinewidth\":0,\"ticks\":\"\"},\"colorscale\":[[0.0,\"#0d0887\"],[0.1111111111111111,\"#46039f\"],[0.2222222222222222,\"#7201a8\"],[0.3333333333333333,\"#9c179e\"],[0.4444444444444444,\"#bd3786\"],[0.5555555555555556,\"#d8576b\"],[0.6666666666666666,\"#ed7953\"],[0.7777777777777778,\"#fb9f3a\"],[0.8888888888888888,\"#fdca26\"],[1.0,\"#f0f921\"]]}],\"mesh3d\":[{\"type\":\"mesh3d\",\"colorbar\":{\"outlinewidth\":0,\"ticks\":\"\"}}],\"scatter\":[{\"fillpattern\":{\"fillmode\":\"overlay\",\"size\":10,\"solidity\":0.2},\"type\":\"scatter\"}],\"parcoords\":[{\"type\":\"parcoords\",\"line\":{\"colorbar\":{\"outlinewidth\":0,\"ticks\":\"\"}}}],\"scatterpolargl\":[{\"type\":\"scatterpolargl\",\"marker\":{\"colorbar\":{\"outlinewidth\":0,\"ticks\":\"\"}}}],\"bar\":[{\"error_x\":{\"color\":\"#2a3f5f\"},\"error_y\":{\"color\":\"#2a3f5f\"},\"marker\":{\"line\":{\"color\":\"#E5ECF6\",\"width\":0.5},\"pattern\":{\"fillmode\":\"overlay\",\"size\":10,\"solidity\":0.2}},\"type\":\"bar\"}],\"scattergeo\":[{\"type\":\"scattergeo\",\"marker\":{\"colorbar\":{\"outlinewidth\":0,\"ticks\":\"\"}}}],\"scatterpolar\":[{\"type\":\"scatterpolar\",\"marker\":{\"colorbar\":{\"outlinewidth\":0,\"ticks\":\"\"}}}],\"histogram\":[{\"marker\":{\"pattern\":{\"fillmode\":\"overlay\",\"size\":10,\"solidity\":0.2}},\"type\":\"histogram\"}],\"scattergl\":[{\"type\":\"scattergl\",\"marker\":{\"colorbar\":{\"outlinewidth\":0,\"ticks\":\"\"}}}],\"scatter3d\":[{\"type\":\"scatter3d\",\"line\":{\"colorbar\":{\"outlinewidth\":0,\"ticks\":\"\"}},\"marker\":{\"colorbar\":{\"outlinewidth\":0,\"ticks\":\"\"}}}],\"scattermapbox\":[{\"type\":\"scattermapbox\",\"marker\":{\"colorbar\":{\"outlinewidth\":0,\"ticks\":\"\"}}}],\"scatterternary\":[{\"type\":\"scatterternary\",\"marker\":{\"colorbar\":{\"outlinewidth\":0,\"ticks\":\"\"}}}],\"scattercarpet\":[{\"type\":\"scattercarpet\",\"marker\":{\"colorbar\":{\"outlinewidth\":0,\"ticks\":\"\"}}}],\"carpet\":[{\"aaxis\":{\"endlinecolor\":\"#2a3f5f\",\"gridcolor\":\"white\",\"linecolor\":\"white\",\"minorgridcolor\":\"white\",\"startlinecolor\":\"#2a3f5f\"},\"baxis\":{\"endlinecolor\":\"#2a3f5f\",\"gridcolor\":\"white\",\"linecolor\":\"white\",\"minorgridcolor\":\"white\",\"startlinecolor\":\"#2a3f5f\"},\"type\":\"carpet\"}],\"table\":[{\"cells\":{\"fill\":{\"color\":\"#EBF0F8\"},\"line\":{\"color\":\"white\"}},\"header\":{\"fill\":{\"color\":\"#C8D4E3\"},\"line\":{\"color\":\"white\"}},\"type\":\"table\"}],\"barpolar\":[{\"marker\":{\"line\":{\"color\":\"#E5ECF6\",\"width\":0.5},\"pattern\":{\"fillmode\":\"overlay\",\"size\":10,\"solidity\":0.2}},\"type\":\"barpolar\"}],\"pie\":[{\"automargin\":true,\"type\":\"pie\"}]},\"layout\":{\"autotypenumbers\":\"strict\",\"colorway\":[\"#636efa\",\"#EF553B\",\"#00cc96\",\"#ab63fa\",\"#FFA15A\",\"#19d3f3\",\"#FF6692\",\"#B6E880\",\"#FF97FF\",\"#FECB52\"],\"font\":{\"color\":\"#2a3f5f\"},\"hovermode\":\"closest\",\"hoverlabel\":{\"align\":\"left\"},\"paper_bgcolor\":\"white\",\"plot_bgcolor\":\"#E5ECF6\",\"polar\":{\"bgcolor\":\"#E5ECF6\",\"angularaxis\":{\"gridcolor\":\"white\",\"linecolor\":\"white\",\"ticks\":\"\"},\"radialaxis\":{\"gridcolor\":\"white\",\"linecolor\":\"white\",\"ticks\":\"\"}},\"ternary\":{\"bgcolor\":\"#E5ECF6\",\"aaxis\":{\"gridcolor\":\"white\",\"linecolor\":\"white\",\"ticks\":\"\"},\"baxis\":{\"gridcolor\":\"white\",\"linecolor\":\"white\",\"ticks\":\"\"},\"caxis\":{\"gridcolor\":\"white\",\"linecolor\":\"white\",\"ticks\":\"\"}},\"coloraxis\":{\"colorbar\":{\"outlinewidth\":0,\"ticks\":\"\"}},\"colorscale\":{\"sequential\":[[0.0,\"#0d0887\"],[0.1111111111111111,\"#46039f\"],[0.2222222222222222,\"#7201a8\"],[0.3333333333333333,\"#9c179e\"],[0.4444444444444444,\"#bd3786\"],[0.5555555555555556,\"#d8576b\"],[0.6666666666666666,\"#ed7953\"],[0.7777777777777778,\"#fb9f3a\"],[0.8888888888888888,\"#fdca26\"],[1.0,\"#f0f921\"]],\"sequentialminus\":[[0.0,\"#0d0887\"],[0.1111111111111111,\"#46039f\"],[0.2222222222222222,\"#7201a8\"],[0.3333333333333333,\"#9c179e\"],[0.4444444444444444,\"#bd3786\"],[0.5555555555555556,\"#d8576b\"],[0.6666666666666666,\"#ed7953\"],[0.7777777777777778,\"#fb9f3a\"],[0.8888888888888888,\"#fdca26\"],[1.0,\"#f0f921\"]],\"diverging\":[[0,\"#8e0152\"],[0.1,\"#c51b7d\"],[0.2,\"#de77ae\"],[0.3,\"#f1b6da\"],[0.4,\"#fde0ef\"],[0.5,\"#f7f7f7\"],[0.6,\"#e6f5d0\"],[0.7,\"#b8e186\"],[0.8,\"#7fbc41\"],[0.9,\"#4d9221\"],[1,\"#276419\"]]},\"xaxis\":{\"gridcolor\":\"white\",\"linecolor\":\"white\",\"ticks\":\"\",\"title\":{\"standoff\":15},\"zerolinecolor\":\"white\",\"automargin\":true,\"zerolinewidth\":2},\"yaxis\":{\"gridcolor\":\"white\",\"linecolor\":\"white\",\"ticks\":\"\",\"title\":{\"standoff\":15},\"zerolinecolor\":\"white\",\"automargin\":true,\"zerolinewidth\":2},\"scene\":{\"xaxis\":{\"backgroundcolor\":\"#E5ECF6\",\"gridcolor\":\"white\",\"linecolor\":\"white\",\"showbackground\":true,\"ticks\":\"\",\"zerolinecolor\":\"white\",\"gridwidth\":2},\"yaxis\":{\"backgroundcolor\":\"#E5ECF6\",\"gridcolor\":\"white\",\"linecolor\":\"white\",\"showbackground\":true,\"ticks\":\"\",\"zerolinecolor\":\"white\",\"gridwidth\":2},\"zaxis\":{\"backgroundcolor\":\"#E5ECF6\",\"gridcolor\":\"white\",\"linecolor\":\"white\",\"showbackground\":true,\"ticks\":\"\",\"zerolinecolor\":\"white\",\"gridwidth\":2}},\"shapedefaults\":{\"line\":{\"color\":\"#2a3f5f\"}},\"annotationdefaults\":{\"arrowcolor\":\"#2a3f5f\",\"arrowhead\":0,\"arrowwidth\":1},\"geo\":{\"bgcolor\":\"white\",\"landcolor\":\"#E5ECF6\",\"subunitcolor\":\"white\",\"showland\":true,\"showlakes\":true,\"lakecolor\":\"white\"},\"title\":{\"x\":0.05},\"mapbox\":{\"style\":\"light\"}}},\"legend\":{\"tracegroupgap\":0},\"margin\":{\"t\":50,\"l\":25,\"r\":25,\"b\":25}},                        {\"responsive\": true}                    ).then(function(){\n",
       "                            \n",
       "var gd = document.getElementById('1360e022-adc3-4ff8-96e1-7f14f5b3fb25');\n",
       "var x = new MutationObserver(function (mutations, observer) {{\n",
       "        var display = window.getComputedStyle(gd).display;\n",
       "        if (!display || display === 'none') {{\n",
       "            console.log([gd, 'removed!']);\n",
       "            Plotly.purge(gd);\n",
       "            observer.disconnect();\n",
       "        }}\n",
       "}});\n",
       "\n",
       "// Listen for the removal of the full notebook cells\n",
       "var notebookContainer = gd.closest('#notebook-container');\n",
       "if (notebookContainer) {{\n",
       "    x.observe(notebookContainer, {childList: true});\n",
       "}}\n",
       "\n",
       "// Listen for the clearing of the current output cell\n",
       "var outputEl = gd.closest('.output');\n",
       "if (outputEl) {{\n",
       "    x.observe(outputEl, {childList: true});\n",
       "}}\n",
       "\n",
       "                        })                };                });            </script>        </div>"
      ]
     },
     "metadata": {},
     "output_type": "display_data"
    }
   ],
   "source": [
    "fig = px.treemap(top20, path = ['main_category_en'], values='quantity',\n",
    "                  color='main_category_en')\n",
    "fig.update_layout(margin = dict(t=50, l=25, r=25, b=25))\n",
    "fig.show()"
   ]
  },
  {
   "cell_type": "code",
   "execution_count": 110,
   "metadata": {},
   "outputs": [
    {
     "data": {
      "application/vnd.plotly.v1+json": {
       "config": {
        "plotlyServerURL": "https://plot.ly"
       },
       "data": [
        {
         "branchvalues": "total",
         "customdata": [
          [
           "Cloves"
          ],
          [
           "Parsley"
          ],
          [
           "Herbes de Provence"
          ],
          [
           "fr:algues-grillees"
          ],
          [
           "Black truffles"
          ],
          [
           "Chives"
          ],
          [
           "Saithe"
          ],
          [
           "Oregano"
          ],
          [
           "Fruits puree without sugar added"
          ],
          [
           "Food colorings"
          ],
          [
           "Coriander seeds"
          ],
          [
           "Baeri caviars"
          ],
          [
           "Dill"
          ],
          [
           "Star anise"
          ],
          [
           "Thyme"
          ],
          [
           "Basil"
          ],
          [
           "Mint"
          ],
          [
           "Tarragon"
          ],
          [
           "Nutmeg"
          ],
          [
           "Nori seaweeds"
          ]
         ],
         "domain": {
          "x": [
           0,
           1
          ],
          "y": [
           0,
           1
          ]
         },
         "hovertemplate": "labels=%{label}<br>quantity=%{value}<br>parent=%{parent}<br>id=%{id}<br>main_category_en=%{customdata[0]}<extra></extra>",
         "ids": [
          "Cloves",
          "Parsley",
          "Herbes de Provence",
          "fr:algues-grillees",
          "Black truffles",
          "Chives",
          "Saithe",
          "Oregano",
          "Fruits puree without sugar added",
          "Food colorings",
          "Coriander seeds",
          "Baeri caviars",
          "Dill",
          "Star anise",
          "Thyme",
          "Basil",
          "Mint",
          "Tarragon",
          "Nutmeg",
          "Nori seaweeds"
         ],
         "labels": [
          "Cloves",
          "Parsley",
          "Herbes de Provence",
          "fr:algues-grillees",
          "Black truffles",
          "Chives",
          "Saithe",
          "Oregano",
          "Fruits puree without sugar added",
          "Food colorings",
          "Coriander seeds",
          "Baeri caviars",
          "Dill",
          "Star anise",
          "Thyme",
          "Basil",
          "Mint",
          "Tarragon",
          "Nutmeg",
          "Nori seaweeds"
         ],
         "marker": {
          "colors": [
           "#636efa",
           "#EF553B",
           "#00cc96",
           "#ab63fa",
           "#FFA15A",
           "#19d3f3",
           "#FF6692",
           "#B6E880",
           "#FF97FF",
           "#FECB52",
           "#636efa",
           "#EF553B",
           "#00cc96",
           "#ab63fa",
           "#FFA15A",
           "#19d3f3",
           "#FF6692",
           "#B6E880",
           "#FF97FF",
           "#FECB52"
          ]
         },
         "name": "",
         "parents": [
          "",
          "",
          "",
          "",
          "",
          "",
          "",
          "",
          "",
          "",
          "",
          "",
          "",
          "",
          "",
          "",
          "",
          "",
          "",
          ""
         ],
         "type": "treemap",
         "values": [
          23,
          6,
          18,
          14,
          15,
          5,
          25,
          9,
          16,
          12.666666666666666,
          22,
          20,
          12,
          14,
          14,
          12,
          20,
          7,
          18,
          25
         ]
        }
       ],
       "layout": {
        "legend": {
         "tracegroupgap": 0
        },
        "margin": {
         "b": 25,
         "l": 25,
         "r": 25,
         "t": 50
        },
        "template": {
         "data": {
          "bar": [
           {
            "error_x": {
             "color": "#2a3f5f"
            },
            "error_y": {
             "color": "#2a3f5f"
            },
            "marker": {
             "line": {
              "color": "#E5ECF6",
              "width": 0.5
             },
             "pattern": {
              "fillmode": "overlay",
              "size": 10,
              "solidity": 0.2
             }
            },
            "type": "bar"
           }
          ],
          "barpolar": [
           {
            "marker": {
             "line": {
              "color": "#E5ECF6",
              "width": 0.5
             },
             "pattern": {
              "fillmode": "overlay",
              "size": 10,
              "solidity": 0.2
             }
            },
            "type": "barpolar"
           }
          ],
          "carpet": [
           {
            "aaxis": {
             "endlinecolor": "#2a3f5f",
             "gridcolor": "white",
             "linecolor": "white",
             "minorgridcolor": "white",
             "startlinecolor": "#2a3f5f"
            },
            "baxis": {
             "endlinecolor": "#2a3f5f",
             "gridcolor": "white",
             "linecolor": "white",
             "minorgridcolor": "white",
             "startlinecolor": "#2a3f5f"
            },
            "type": "carpet"
           }
          ],
          "choropleth": [
           {
            "colorbar": {
             "outlinewidth": 0,
             "ticks": ""
            },
            "type": "choropleth"
           }
          ],
          "contour": [
           {
            "colorbar": {
             "outlinewidth": 0,
             "ticks": ""
            },
            "colorscale": [
             [
              0,
              "#0d0887"
             ],
             [
              0.1111111111111111,
              "#46039f"
             ],
             [
              0.2222222222222222,
              "#7201a8"
             ],
             [
              0.3333333333333333,
              "#9c179e"
             ],
             [
              0.4444444444444444,
              "#bd3786"
             ],
             [
              0.5555555555555556,
              "#d8576b"
             ],
             [
              0.6666666666666666,
              "#ed7953"
             ],
             [
              0.7777777777777778,
              "#fb9f3a"
             ],
             [
              0.8888888888888888,
              "#fdca26"
             ],
             [
              1,
              "#f0f921"
             ]
            ],
            "type": "contour"
           }
          ],
          "contourcarpet": [
           {
            "colorbar": {
             "outlinewidth": 0,
             "ticks": ""
            },
            "type": "contourcarpet"
           }
          ],
          "heatmap": [
           {
            "colorbar": {
             "outlinewidth": 0,
             "ticks": ""
            },
            "colorscale": [
             [
              0,
              "#0d0887"
             ],
             [
              0.1111111111111111,
              "#46039f"
             ],
             [
              0.2222222222222222,
              "#7201a8"
             ],
             [
              0.3333333333333333,
              "#9c179e"
             ],
             [
              0.4444444444444444,
              "#bd3786"
             ],
             [
              0.5555555555555556,
              "#d8576b"
             ],
             [
              0.6666666666666666,
              "#ed7953"
             ],
             [
              0.7777777777777778,
              "#fb9f3a"
             ],
             [
              0.8888888888888888,
              "#fdca26"
             ],
             [
              1,
              "#f0f921"
             ]
            ],
            "type": "heatmap"
           }
          ],
          "heatmapgl": [
           {
            "colorbar": {
             "outlinewidth": 0,
             "ticks": ""
            },
            "colorscale": [
             [
              0,
              "#0d0887"
             ],
             [
              0.1111111111111111,
              "#46039f"
             ],
             [
              0.2222222222222222,
              "#7201a8"
             ],
             [
              0.3333333333333333,
              "#9c179e"
             ],
             [
              0.4444444444444444,
              "#bd3786"
             ],
             [
              0.5555555555555556,
              "#d8576b"
             ],
             [
              0.6666666666666666,
              "#ed7953"
             ],
             [
              0.7777777777777778,
              "#fb9f3a"
             ],
             [
              0.8888888888888888,
              "#fdca26"
             ],
             [
              1,
              "#f0f921"
             ]
            ],
            "type": "heatmapgl"
           }
          ],
          "histogram": [
           {
            "marker": {
             "pattern": {
              "fillmode": "overlay",
              "size": 10,
              "solidity": 0.2
             }
            },
            "type": "histogram"
           }
          ],
          "histogram2d": [
           {
            "colorbar": {
             "outlinewidth": 0,
             "ticks": ""
            },
            "colorscale": [
             [
              0,
              "#0d0887"
             ],
             [
              0.1111111111111111,
              "#46039f"
             ],
             [
              0.2222222222222222,
              "#7201a8"
             ],
             [
              0.3333333333333333,
              "#9c179e"
             ],
             [
              0.4444444444444444,
              "#bd3786"
             ],
             [
              0.5555555555555556,
              "#d8576b"
             ],
             [
              0.6666666666666666,
              "#ed7953"
             ],
             [
              0.7777777777777778,
              "#fb9f3a"
             ],
             [
              0.8888888888888888,
              "#fdca26"
             ],
             [
              1,
              "#f0f921"
             ]
            ],
            "type": "histogram2d"
           }
          ],
          "histogram2dcontour": [
           {
            "colorbar": {
             "outlinewidth": 0,
             "ticks": ""
            },
            "colorscale": [
             [
              0,
              "#0d0887"
             ],
             [
              0.1111111111111111,
              "#46039f"
             ],
             [
              0.2222222222222222,
              "#7201a8"
             ],
             [
              0.3333333333333333,
              "#9c179e"
             ],
             [
              0.4444444444444444,
              "#bd3786"
             ],
             [
              0.5555555555555556,
              "#d8576b"
             ],
             [
              0.6666666666666666,
              "#ed7953"
             ],
             [
              0.7777777777777778,
              "#fb9f3a"
             ],
             [
              0.8888888888888888,
              "#fdca26"
             ],
             [
              1,
              "#f0f921"
             ]
            ],
            "type": "histogram2dcontour"
           }
          ],
          "mesh3d": [
           {
            "colorbar": {
             "outlinewidth": 0,
             "ticks": ""
            },
            "type": "mesh3d"
           }
          ],
          "parcoords": [
           {
            "line": {
             "colorbar": {
              "outlinewidth": 0,
              "ticks": ""
             }
            },
            "type": "parcoords"
           }
          ],
          "pie": [
           {
            "automargin": true,
            "type": "pie"
           }
          ],
          "scatter": [
           {
            "fillpattern": {
             "fillmode": "overlay",
             "size": 10,
             "solidity": 0.2
            },
            "type": "scatter"
           }
          ],
          "scatter3d": [
           {
            "line": {
             "colorbar": {
              "outlinewidth": 0,
              "ticks": ""
             }
            },
            "marker": {
             "colorbar": {
              "outlinewidth": 0,
              "ticks": ""
             }
            },
            "type": "scatter3d"
           }
          ],
          "scattercarpet": [
           {
            "marker": {
             "colorbar": {
              "outlinewidth": 0,
              "ticks": ""
             }
            },
            "type": "scattercarpet"
           }
          ],
          "scattergeo": [
           {
            "marker": {
             "colorbar": {
              "outlinewidth": 0,
              "ticks": ""
             }
            },
            "type": "scattergeo"
           }
          ],
          "scattergl": [
           {
            "marker": {
             "colorbar": {
              "outlinewidth": 0,
              "ticks": ""
             }
            },
            "type": "scattergl"
           }
          ],
          "scattermapbox": [
           {
            "marker": {
             "colorbar": {
              "outlinewidth": 0,
              "ticks": ""
             }
            },
            "type": "scattermapbox"
           }
          ],
          "scatterpolar": [
           {
            "marker": {
             "colorbar": {
              "outlinewidth": 0,
              "ticks": ""
             }
            },
            "type": "scatterpolar"
           }
          ],
          "scatterpolargl": [
           {
            "marker": {
             "colorbar": {
              "outlinewidth": 0,
              "ticks": ""
             }
            },
            "type": "scatterpolargl"
           }
          ],
          "scatterternary": [
           {
            "marker": {
             "colorbar": {
              "outlinewidth": 0,
              "ticks": ""
             }
            },
            "type": "scatterternary"
           }
          ],
          "surface": [
           {
            "colorbar": {
             "outlinewidth": 0,
             "ticks": ""
            },
            "colorscale": [
             [
              0,
              "#0d0887"
             ],
             [
              0.1111111111111111,
              "#46039f"
             ],
             [
              0.2222222222222222,
              "#7201a8"
             ],
             [
              0.3333333333333333,
              "#9c179e"
             ],
             [
              0.4444444444444444,
              "#bd3786"
             ],
             [
              0.5555555555555556,
              "#d8576b"
             ],
             [
              0.6666666666666666,
              "#ed7953"
             ],
             [
              0.7777777777777778,
              "#fb9f3a"
             ],
             [
              0.8888888888888888,
              "#fdca26"
             ],
             [
              1,
              "#f0f921"
             ]
            ],
            "type": "surface"
           }
          ],
          "table": [
           {
            "cells": {
             "fill": {
              "color": "#EBF0F8"
             },
             "line": {
              "color": "white"
             }
            },
            "header": {
             "fill": {
              "color": "#C8D4E3"
             },
             "line": {
              "color": "white"
             }
            },
            "type": "table"
           }
          ]
         },
         "layout": {
          "annotationdefaults": {
           "arrowcolor": "#2a3f5f",
           "arrowhead": 0,
           "arrowwidth": 1
          },
          "autotypenumbers": "strict",
          "coloraxis": {
           "colorbar": {
            "outlinewidth": 0,
            "ticks": ""
           }
          },
          "colorscale": {
           "diverging": [
            [
             0,
             "#8e0152"
            ],
            [
             0.1,
             "#c51b7d"
            ],
            [
             0.2,
             "#de77ae"
            ],
            [
             0.3,
             "#f1b6da"
            ],
            [
             0.4,
             "#fde0ef"
            ],
            [
             0.5,
             "#f7f7f7"
            ],
            [
             0.6,
             "#e6f5d0"
            ],
            [
             0.7,
             "#b8e186"
            ],
            [
             0.8,
             "#7fbc41"
            ],
            [
             0.9,
             "#4d9221"
            ],
            [
             1,
             "#276419"
            ]
           ],
           "sequential": [
            [
             0,
             "#0d0887"
            ],
            [
             0.1111111111111111,
             "#46039f"
            ],
            [
             0.2222222222222222,
             "#7201a8"
            ],
            [
             0.3333333333333333,
             "#9c179e"
            ],
            [
             0.4444444444444444,
             "#bd3786"
            ],
            [
             0.5555555555555556,
             "#d8576b"
            ],
            [
             0.6666666666666666,
             "#ed7953"
            ],
            [
             0.7777777777777778,
             "#fb9f3a"
            ],
            [
             0.8888888888888888,
             "#fdca26"
            ],
            [
             1,
             "#f0f921"
            ]
           ],
           "sequentialminus": [
            [
             0,
             "#0d0887"
            ],
            [
             0.1111111111111111,
             "#46039f"
            ],
            [
             0.2222222222222222,
             "#7201a8"
            ],
            [
             0.3333333333333333,
             "#9c179e"
            ],
            [
             0.4444444444444444,
             "#bd3786"
            ],
            [
             0.5555555555555556,
             "#d8576b"
            ],
            [
             0.6666666666666666,
             "#ed7953"
            ],
            [
             0.7777777777777778,
             "#fb9f3a"
            ],
            [
             0.8888888888888888,
             "#fdca26"
            ],
            [
             1,
             "#f0f921"
            ]
           ]
          },
          "colorway": [
           "#636efa",
           "#EF553B",
           "#00cc96",
           "#ab63fa",
           "#FFA15A",
           "#19d3f3",
           "#FF6692",
           "#B6E880",
           "#FF97FF",
           "#FECB52"
          ],
          "font": {
           "color": "#2a3f5f"
          },
          "geo": {
           "bgcolor": "white",
           "lakecolor": "white",
           "landcolor": "#E5ECF6",
           "showlakes": true,
           "showland": true,
           "subunitcolor": "white"
          },
          "hoverlabel": {
           "align": "left"
          },
          "hovermode": "closest",
          "mapbox": {
           "style": "light"
          },
          "paper_bgcolor": "white",
          "plot_bgcolor": "#E5ECF6",
          "polar": {
           "angularaxis": {
            "gridcolor": "white",
            "linecolor": "white",
            "ticks": ""
           },
           "bgcolor": "#E5ECF6",
           "radialaxis": {
            "gridcolor": "white",
            "linecolor": "white",
            "ticks": ""
           }
          },
          "scene": {
           "xaxis": {
            "backgroundcolor": "#E5ECF6",
            "gridcolor": "white",
            "gridwidth": 2,
            "linecolor": "white",
            "showbackground": true,
            "ticks": "",
            "zerolinecolor": "white"
           },
           "yaxis": {
            "backgroundcolor": "#E5ECF6",
            "gridcolor": "white",
            "gridwidth": 2,
            "linecolor": "white",
            "showbackground": true,
            "ticks": "",
            "zerolinecolor": "white"
           },
           "zaxis": {
            "backgroundcolor": "#E5ECF6",
            "gridcolor": "white",
            "gridwidth": 2,
            "linecolor": "white",
            "showbackground": true,
            "ticks": "",
            "zerolinecolor": "white"
           }
          },
          "shapedefaults": {
           "line": {
            "color": "#2a3f5f"
           }
          },
          "ternary": {
           "aaxis": {
            "gridcolor": "white",
            "linecolor": "white",
            "ticks": ""
           },
           "baxis": {
            "gridcolor": "white",
            "linecolor": "white",
            "ticks": ""
           },
           "bgcolor": "#E5ECF6",
           "caxis": {
            "gridcolor": "white",
            "linecolor": "white",
            "ticks": ""
           }
          },
          "title": {
           "x": 0.05
          },
          "xaxis": {
           "automargin": true,
           "gridcolor": "white",
           "linecolor": "white",
           "ticks": "",
           "title": {
            "standoff": 15
           },
           "zerolinecolor": "white",
           "zerolinewidth": 2
          },
          "yaxis": {
           "automargin": true,
           "gridcolor": "white",
           "linecolor": "white",
           "ticks": "",
           "title": {
            "standoff": 15
           },
           "zerolinecolor": "white",
           "zerolinewidth": 2
          }
         }
        }
       }
      },
      "text/html": [
       "<div>                            <div id=\"4dcd2636-b8c4-4bc4-9b79-853bcc58bcda\" class=\"plotly-graph-div\" style=\"height:525px; width:100%;\"></div>            <script type=\"text/javascript\">                require([\"plotly\"], function(Plotly) {                    window.PLOTLYENV=window.PLOTLYENV || {};                                    if (document.getElementById(\"4dcd2636-b8c4-4bc4-9b79-853bcc58bcda\")) {                    Plotly.newPlot(                        \"4dcd2636-b8c4-4bc4-9b79-853bcc58bcda\",                        [{\"branchvalues\":\"total\",\"customdata\":[[\"Cloves\"],[\"Parsley\"],[\"Herbes de Provence\"],[\"fr:algues-grillees\"],[\"Black truffles\"],[\"Chives\"],[\"Saithe\"],[\"Oregano\"],[\"Fruits puree without sugar added\"],[\"Food colorings\"],[\"Coriander seeds\"],[\"Baeri caviars\"],[\"Dill\"],[\"Star anise\"],[\"Thyme\"],[\"Basil\"],[\"Mint\"],[\"Tarragon\"],[\"Nutmeg\"],[\"Nori seaweeds\"]],\"domain\":{\"x\":[0.0,1.0],\"y\":[0.0,1.0]},\"hovertemplate\":\"labels=%{label}\\u003cbr\\u003equantity=%{value}\\u003cbr\\u003eparent=%{parent}\\u003cbr\\u003eid=%{id}\\u003cbr\\u003emain_category_en=%{customdata[0]}\\u003cextra\\u003e\\u003c\\u002fextra\\u003e\",\"ids\":[\"Cloves\",\"Parsley\",\"Herbes de Provence\",\"fr:algues-grillees\",\"Black truffles\",\"Chives\",\"Saithe\",\"Oregano\",\"Fruits puree without sugar added\",\"Food colorings\",\"Coriander seeds\",\"Baeri caviars\",\"Dill\",\"Star anise\",\"Thyme\",\"Basil\",\"Mint\",\"Tarragon\",\"Nutmeg\",\"Nori seaweeds\"],\"labels\":[\"Cloves\",\"Parsley\",\"Herbes de Provence\",\"fr:algues-grillees\",\"Black truffles\",\"Chives\",\"Saithe\",\"Oregano\",\"Fruits puree without sugar added\",\"Food colorings\",\"Coriander seeds\",\"Baeri caviars\",\"Dill\",\"Star anise\",\"Thyme\",\"Basil\",\"Mint\",\"Tarragon\",\"Nutmeg\",\"Nori seaweeds\"],\"marker\":{\"colors\":[\"#636efa\",\"#EF553B\",\"#00cc96\",\"#ab63fa\",\"#FFA15A\",\"#19d3f3\",\"#FF6692\",\"#B6E880\",\"#FF97FF\",\"#FECB52\",\"#636efa\",\"#EF553B\",\"#00cc96\",\"#ab63fa\",\"#FFA15A\",\"#19d3f3\",\"#FF6692\",\"#B6E880\",\"#FF97FF\",\"#FECB52\"]},\"name\":\"\",\"parents\":[\"\",\"\",\"\",\"\",\"\",\"\",\"\",\"\",\"\",\"\",\"\",\"\",\"\",\"\",\"\",\"\",\"\",\"\",\"\",\"\"],\"values\":[23.0,6.0,18.0,14.0,15.0,5.0,25.0,9.0,16.0,12.666666666666666,22.0,20.0,12.0,14.0,14.0,12.0,20.0,7.0,18.0,25.0],\"type\":\"treemap\"}],                        {\"template\":{\"data\":{\"histogram2dcontour\":[{\"type\":\"histogram2dcontour\",\"colorbar\":{\"outlinewidth\":0,\"ticks\":\"\"},\"colorscale\":[[0.0,\"#0d0887\"],[0.1111111111111111,\"#46039f\"],[0.2222222222222222,\"#7201a8\"],[0.3333333333333333,\"#9c179e\"],[0.4444444444444444,\"#bd3786\"],[0.5555555555555556,\"#d8576b\"],[0.6666666666666666,\"#ed7953\"],[0.7777777777777778,\"#fb9f3a\"],[0.8888888888888888,\"#fdca26\"],[1.0,\"#f0f921\"]]}],\"choropleth\":[{\"type\":\"choropleth\",\"colorbar\":{\"outlinewidth\":0,\"ticks\":\"\"}}],\"histogram2d\":[{\"type\":\"histogram2d\",\"colorbar\":{\"outlinewidth\":0,\"ticks\":\"\"},\"colorscale\":[[0.0,\"#0d0887\"],[0.1111111111111111,\"#46039f\"],[0.2222222222222222,\"#7201a8\"],[0.3333333333333333,\"#9c179e\"],[0.4444444444444444,\"#bd3786\"],[0.5555555555555556,\"#d8576b\"],[0.6666666666666666,\"#ed7953\"],[0.7777777777777778,\"#fb9f3a\"],[0.8888888888888888,\"#fdca26\"],[1.0,\"#f0f921\"]]}],\"heatmap\":[{\"type\":\"heatmap\",\"colorbar\":{\"outlinewidth\":0,\"ticks\":\"\"},\"colorscale\":[[0.0,\"#0d0887\"],[0.1111111111111111,\"#46039f\"],[0.2222222222222222,\"#7201a8\"],[0.3333333333333333,\"#9c179e\"],[0.4444444444444444,\"#bd3786\"],[0.5555555555555556,\"#d8576b\"],[0.6666666666666666,\"#ed7953\"],[0.7777777777777778,\"#fb9f3a\"],[0.8888888888888888,\"#fdca26\"],[1.0,\"#f0f921\"]]}],\"heatmapgl\":[{\"type\":\"heatmapgl\",\"colorbar\":{\"outlinewidth\":0,\"ticks\":\"\"},\"colorscale\":[[0.0,\"#0d0887\"],[0.1111111111111111,\"#46039f\"],[0.2222222222222222,\"#7201a8\"],[0.3333333333333333,\"#9c179e\"],[0.4444444444444444,\"#bd3786\"],[0.5555555555555556,\"#d8576b\"],[0.6666666666666666,\"#ed7953\"],[0.7777777777777778,\"#fb9f3a\"],[0.8888888888888888,\"#fdca26\"],[1.0,\"#f0f921\"]]}],\"contourcarpet\":[{\"type\":\"contourcarpet\",\"colorbar\":{\"outlinewidth\":0,\"ticks\":\"\"}}],\"contour\":[{\"type\":\"contour\",\"colorbar\":{\"outlinewidth\":0,\"ticks\":\"\"},\"colorscale\":[[0.0,\"#0d0887\"],[0.1111111111111111,\"#46039f\"],[0.2222222222222222,\"#7201a8\"],[0.3333333333333333,\"#9c179e\"],[0.4444444444444444,\"#bd3786\"],[0.5555555555555556,\"#d8576b\"],[0.6666666666666666,\"#ed7953\"],[0.7777777777777778,\"#fb9f3a\"],[0.8888888888888888,\"#fdca26\"],[1.0,\"#f0f921\"]]}],\"surface\":[{\"type\":\"surface\",\"colorbar\":{\"outlinewidth\":0,\"ticks\":\"\"},\"colorscale\":[[0.0,\"#0d0887\"],[0.1111111111111111,\"#46039f\"],[0.2222222222222222,\"#7201a8\"],[0.3333333333333333,\"#9c179e\"],[0.4444444444444444,\"#bd3786\"],[0.5555555555555556,\"#d8576b\"],[0.6666666666666666,\"#ed7953\"],[0.7777777777777778,\"#fb9f3a\"],[0.8888888888888888,\"#fdca26\"],[1.0,\"#f0f921\"]]}],\"mesh3d\":[{\"type\":\"mesh3d\",\"colorbar\":{\"outlinewidth\":0,\"ticks\":\"\"}}],\"scatter\":[{\"fillpattern\":{\"fillmode\":\"overlay\",\"size\":10,\"solidity\":0.2},\"type\":\"scatter\"}],\"parcoords\":[{\"type\":\"parcoords\",\"line\":{\"colorbar\":{\"outlinewidth\":0,\"ticks\":\"\"}}}],\"scatterpolargl\":[{\"type\":\"scatterpolargl\",\"marker\":{\"colorbar\":{\"outlinewidth\":0,\"ticks\":\"\"}}}],\"bar\":[{\"error_x\":{\"color\":\"#2a3f5f\"},\"error_y\":{\"color\":\"#2a3f5f\"},\"marker\":{\"line\":{\"color\":\"#E5ECF6\",\"width\":0.5},\"pattern\":{\"fillmode\":\"overlay\",\"size\":10,\"solidity\":0.2}},\"type\":\"bar\"}],\"scattergeo\":[{\"type\":\"scattergeo\",\"marker\":{\"colorbar\":{\"outlinewidth\":0,\"ticks\":\"\"}}}],\"scatterpolar\":[{\"type\":\"scatterpolar\",\"marker\":{\"colorbar\":{\"outlinewidth\":0,\"ticks\":\"\"}}}],\"histogram\":[{\"marker\":{\"pattern\":{\"fillmode\":\"overlay\",\"size\":10,\"solidity\":0.2}},\"type\":\"histogram\"}],\"scattergl\":[{\"type\":\"scattergl\",\"marker\":{\"colorbar\":{\"outlinewidth\":0,\"ticks\":\"\"}}}],\"scatter3d\":[{\"type\":\"scatter3d\",\"line\":{\"colorbar\":{\"outlinewidth\":0,\"ticks\":\"\"}},\"marker\":{\"colorbar\":{\"outlinewidth\":0,\"ticks\":\"\"}}}],\"scattermapbox\":[{\"type\":\"scattermapbox\",\"marker\":{\"colorbar\":{\"outlinewidth\":0,\"ticks\":\"\"}}}],\"scatterternary\":[{\"type\":\"scatterternary\",\"marker\":{\"colorbar\":{\"outlinewidth\":0,\"ticks\":\"\"}}}],\"scattercarpet\":[{\"type\":\"scattercarpet\",\"marker\":{\"colorbar\":{\"outlinewidth\":0,\"ticks\":\"\"}}}],\"carpet\":[{\"aaxis\":{\"endlinecolor\":\"#2a3f5f\",\"gridcolor\":\"white\",\"linecolor\":\"white\",\"minorgridcolor\":\"white\",\"startlinecolor\":\"#2a3f5f\"},\"baxis\":{\"endlinecolor\":\"#2a3f5f\",\"gridcolor\":\"white\",\"linecolor\":\"white\",\"minorgridcolor\":\"white\",\"startlinecolor\":\"#2a3f5f\"},\"type\":\"carpet\"}],\"table\":[{\"cells\":{\"fill\":{\"color\":\"#EBF0F8\"},\"line\":{\"color\":\"white\"}},\"header\":{\"fill\":{\"color\":\"#C8D4E3\"},\"line\":{\"color\":\"white\"}},\"type\":\"table\"}],\"barpolar\":[{\"marker\":{\"line\":{\"color\":\"#E5ECF6\",\"width\":0.5},\"pattern\":{\"fillmode\":\"overlay\",\"size\":10,\"solidity\":0.2}},\"type\":\"barpolar\"}],\"pie\":[{\"automargin\":true,\"type\":\"pie\"}]},\"layout\":{\"autotypenumbers\":\"strict\",\"colorway\":[\"#636efa\",\"#EF553B\",\"#00cc96\",\"#ab63fa\",\"#FFA15A\",\"#19d3f3\",\"#FF6692\",\"#B6E880\",\"#FF97FF\",\"#FECB52\"],\"font\":{\"color\":\"#2a3f5f\"},\"hovermode\":\"closest\",\"hoverlabel\":{\"align\":\"left\"},\"paper_bgcolor\":\"white\",\"plot_bgcolor\":\"#E5ECF6\",\"polar\":{\"bgcolor\":\"#E5ECF6\",\"angularaxis\":{\"gridcolor\":\"white\",\"linecolor\":\"white\",\"ticks\":\"\"},\"radialaxis\":{\"gridcolor\":\"white\",\"linecolor\":\"white\",\"ticks\":\"\"}},\"ternary\":{\"bgcolor\":\"#E5ECF6\",\"aaxis\":{\"gridcolor\":\"white\",\"linecolor\":\"white\",\"ticks\":\"\"},\"baxis\":{\"gridcolor\":\"white\",\"linecolor\":\"white\",\"ticks\":\"\"},\"caxis\":{\"gridcolor\":\"white\",\"linecolor\":\"white\",\"ticks\":\"\"}},\"coloraxis\":{\"colorbar\":{\"outlinewidth\":0,\"ticks\":\"\"}},\"colorscale\":{\"sequential\":[[0.0,\"#0d0887\"],[0.1111111111111111,\"#46039f\"],[0.2222222222222222,\"#7201a8\"],[0.3333333333333333,\"#9c179e\"],[0.4444444444444444,\"#bd3786\"],[0.5555555555555556,\"#d8576b\"],[0.6666666666666666,\"#ed7953\"],[0.7777777777777778,\"#fb9f3a\"],[0.8888888888888888,\"#fdca26\"],[1.0,\"#f0f921\"]],\"sequentialminus\":[[0.0,\"#0d0887\"],[0.1111111111111111,\"#46039f\"],[0.2222222222222222,\"#7201a8\"],[0.3333333333333333,\"#9c179e\"],[0.4444444444444444,\"#bd3786\"],[0.5555555555555556,\"#d8576b\"],[0.6666666666666666,\"#ed7953\"],[0.7777777777777778,\"#fb9f3a\"],[0.8888888888888888,\"#fdca26\"],[1.0,\"#f0f921\"]],\"diverging\":[[0,\"#8e0152\"],[0.1,\"#c51b7d\"],[0.2,\"#de77ae\"],[0.3,\"#f1b6da\"],[0.4,\"#fde0ef\"],[0.5,\"#f7f7f7\"],[0.6,\"#e6f5d0\"],[0.7,\"#b8e186\"],[0.8,\"#7fbc41\"],[0.9,\"#4d9221\"],[1,\"#276419\"]]},\"xaxis\":{\"gridcolor\":\"white\",\"linecolor\":\"white\",\"ticks\":\"\",\"title\":{\"standoff\":15},\"zerolinecolor\":\"white\",\"automargin\":true,\"zerolinewidth\":2},\"yaxis\":{\"gridcolor\":\"white\",\"linecolor\":\"white\",\"ticks\":\"\",\"title\":{\"standoff\":15},\"zerolinecolor\":\"white\",\"automargin\":true,\"zerolinewidth\":2},\"scene\":{\"xaxis\":{\"backgroundcolor\":\"#E5ECF6\",\"gridcolor\":\"white\",\"linecolor\":\"white\",\"showbackground\":true,\"ticks\":\"\",\"zerolinecolor\":\"white\",\"gridwidth\":2},\"yaxis\":{\"backgroundcolor\":\"#E5ECF6\",\"gridcolor\":\"white\",\"linecolor\":\"white\",\"showbackground\":true,\"ticks\":\"\",\"zerolinecolor\":\"white\",\"gridwidth\":2},\"zaxis\":{\"backgroundcolor\":\"#E5ECF6\",\"gridcolor\":\"white\",\"linecolor\":\"white\",\"showbackground\":true,\"ticks\":\"\",\"zerolinecolor\":\"white\",\"gridwidth\":2}},\"shapedefaults\":{\"line\":{\"color\":\"#2a3f5f\"}},\"annotationdefaults\":{\"arrowcolor\":\"#2a3f5f\",\"arrowhead\":0,\"arrowwidth\":1},\"geo\":{\"bgcolor\":\"white\",\"landcolor\":\"#E5ECF6\",\"subunitcolor\":\"white\",\"showland\":true,\"showlakes\":true,\"lakecolor\":\"white\"},\"title\":{\"x\":0.05},\"mapbox\":{\"style\":\"light\"}}},\"legend\":{\"tracegroupgap\":0},\"margin\":{\"t\":50,\"l\":25,\"r\":25,\"b\":25}},                        {\"responsive\": true}                    ).then(function(){\n",
       "                            \n",
       "var gd = document.getElementById('4dcd2636-b8c4-4bc4-9b79-853bcc58bcda');\n",
       "var x = new MutationObserver(function (mutations, observer) {{\n",
       "        var display = window.getComputedStyle(gd).display;\n",
       "        if (!display || display === 'none') {{\n",
       "            console.log([gd, 'removed!']);\n",
       "            Plotly.purge(gd);\n",
       "            observer.disconnect();\n",
       "        }}\n",
       "}});\n",
       "\n",
       "// Listen for the removal of the full notebook cells\n",
       "var notebookContainer = gd.closest('#notebook-container');\n",
       "if (notebookContainer) {{\n",
       "    x.observe(notebookContainer, {childList: true});\n",
       "}}\n",
       "\n",
       "// Listen for the clearing of the current output cell\n",
       "var outputEl = gd.closest('.output');\n",
       "if (outputEl) {{\n",
       "    x.observe(outputEl, {childList: true});\n",
       "}}\n",
       "\n",
       "                        })                };                });            </script>        </div>"
      ]
     },
     "metadata": {},
     "output_type": "display_data"
    }
   ],
   "source": [
    "bottom20 = sort.tail(20)\n",
    "\n",
    "fig = px.treemap(bottom20, path = ['main_category_en'], values='quantity',\n",
    "                  color='main_category_en')\n",
    "fig.update_layout(margin = dict(t=50, l=25, r=25, b=25))\n",
    "fig.show()"
   ]
  },
  {
   "cell_type": "code",
   "execution_count": 65,
   "metadata": {},
   "outputs": [],
   "source": [
    "#df2 = pd.read_csv('small.csv', delimiter='\\t')"
   ]
  },
  {
   "cell_type": "code",
   "execution_count": 69,
   "metadata": {},
   "outputs": [],
   "source": [
    "#df2[df2['main_category_en'] == \"Tuna fillets\"]['quantity']"
   ]
  },
  {
   "cell_type": "code",
   "execution_count": 64,
   "metadata": {},
   "outputs": [],
   "source": [
    "#df2['quantity'].tail(50)"
   ]
  },
  {
   "cell_type": "code",
   "execution_count": null,
   "metadata": {},
   "outputs": [],
   "source": []
  }
 ],
 "metadata": {
  "kernelspec": {
   "display_name": "Python 3",
   "language": "python",
   "name": "python3"
  },
  "language_info": {
   "codemirror_mode": {
    "name": "ipython",
    "version": 3
   },
   "file_extension": ".py",
   "mimetype": "text/x-python",
   "name": "python",
   "nbconvert_exporter": "python",
   "pygments_lexer": "ipython3",
   "version": "3.7.4"
  }
 },
 "nbformat": 4,
 "nbformat_minor": 4
}
