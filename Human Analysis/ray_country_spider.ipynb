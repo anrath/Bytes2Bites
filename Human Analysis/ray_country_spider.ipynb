{
 "cells": [
  {
   "cell_type": "code",
   "execution_count": 18,
   "metadata": {},
   "outputs": [
    {
     "name": "stderr",
     "output_type": "stream",
     "text": [
      "2024-04-03 17:15:59,574\tINFO worker.py:1752 -- Started a local Ray instance.\n"
     ]
    },
    {
     "data": {
      "application/vnd.jupyter.widget-view+json": {
       "model_id": "f8293a8ceb22499f819d5071d8ca3173",
       "version_major": 2,
       "version_minor": 0
      },
      "text/html": [
       "<div class=\"lm-Widget p-Widget lm-Panel p-Panel jp-Cell-outputWrapper\">\n",
       "    <div style=\"margin-left: 50px;display: flex;flex-direction: row;align-items: center\">\n",
       "        <div class=\"jp-RenderedHTMLCommon\" style=\"display: flex; flex-direction: row;\">\n",
       "  <svg viewBox=\"0 0 567 224\" fill=\"none\" xmlns=\"http://www.w3.org/2000/svg\" style=\"height: 3em;\">\n",
       "    <g clip-path=\"url(#clip0_4338_178347)\">\n",
       "        <path d=\"M341.29 165.561H355.29L330.13 129.051C345.63 123.991 354.21 112.051 354.21 94.2307C354.21 71.3707 338.72 58.1807 311.88 58.1807H271V165.561H283.27V131.661H311.8C314.25 131.661 316.71 131.501 319.01 131.351L341.25 165.561H341.29ZM283.29 119.851V70.0007H311.82C331.3 70.0007 342.34 78.2907 342.34 94.5507C342.34 111.271 331.34 119.861 311.82 119.861L283.29 119.851ZM451.4 138.411L463.4 165.561H476.74L428.74 58.1807H416L367.83 165.561H380.83L392.83 138.411H451.4ZM446.19 126.601H398L422 72.1407L446.24 126.601H446.19ZM526.11 128.741L566.91 58.1807H554.35L519.99 114.181L485.17 58.1807H472.44L514.01 129.181V165.541H526.13V128.741H526.11Z\" fill=\"var(--jp-ui-font-color0)\"/>\n",
       "        <path d=\"M82.35 104.44C84.0187 97.8827 87.8248 92.0678 93.1671 87.9146C98.5094 83.7614 105.083 81.5067 111.85 81.5067C118.617 81.5067 125.191 83.7614 130.533 87.9146C135.875 92.0678 139.681 97.8827 141.35 104.44H163.75C164.476 101.562 165.622 98.8057 167.15 96.2605L127.45 56.5605C121.071 60.3522 113.526 61.6823 106.235 60.3005C98.9443 58.9187 92.4094 54.9203 87.8602 49.0574C83.3109 43.1946 81.0609 35.8714 81.5332 28.4656C82.0056 21.0599 85.1679 14.0819 90.4252 8.8446C95.6824 3.60726 102.672 0.471508 110.08 0.0272655C117.487 -0.416977 124.802 1.86091 130.647 6.4324C136.493 11.0039 140.467 17.5539 141.821 24.8501C143.175 32.1463 141.816 39.6859 138 46.0505L177.69 85.7505C182.31 82.9877 187.58 81.4995 192.962 81.4375C198.345 81.3755 203.648 82.742 208.33 85.3976C213.012 88.0532 216.907 91.9029 219.616 96.5544C222.326 101.206 223.753 106.492 223.753 111.875C223.753 117.258 222.326 122.545 219.616 127.197C216.907 131.848 213.012 135.698 208.33 138.353C203.648 141.009 198.345 142.375 192.962 142.313C187.58 142.251 182.31 140.763 177.69 138L138 177.7C141.808 184.071 143.155 191.614 141.79 198.91C140.424 206.205 136.44 212.75 130.585 217.313C124.731 221.875 117.412 224.141 110.004 223.683C102.596 223.226 95.6103 220.077 90.3621 214.828C85.1139 209.58 81.9647 202.595 81.5072 195.187C81.0497 187.779 83.3154 180.459 87.878 174.605C92.4405 168.751 98.9853 164.766 106.281 163.401C113.576 162.035 121.119 163.383 127.49 167.19L167.19 127.49C165.664 124.941 164.518 122.182 163.79 119.3H141.39C139.721 125.858 135.915 131.673 130.573 135.826C125.231 139.98 118.657 142.234 111.89 142.234C105.123 142.234 98.5494 139.98 93.2071 135.826C87.8648 131.673 84.0587 125.858 82.39 119.3H60C58.1878 126.495 53.8086 132.78 47.6863 136.971C41.5641 141.163 34.1211 142.972 26.7579 142.059C19.3947 141.146 12.6191 137.574 7.70605 132.014C2.79302 126.454 0.0813599 119.29 0.0813599 111.87C0.0813599 104.451 2.79302 97.2871 7.70605 91.7272C12.6191 86.1673 19.3947 82.5947 26.7579 81.6817C34.1211 80.7686 41.5641 82.5781 47.6863 86.7696C53.8086 90.9611 58.1878 97.2456 60 104.44H82.35ZM100.86 204.32C103.407 206.868 106.759 208.453 110.345 208.806C113.93 209.159 117.527 208.258 120.522 206.256C123.517 204.254 125.725 201.276 126.771 197.828C127.816 194.38 127.633 190.677 126.253 187.349C124.874 184.021 122.383 181.274 119.205 179.577C116.027 177.88 112.359 177.337 108.826 178.042C105.293 178.746 102.113 180.654 99.8291 183.44C97.5451 186.226 96.2979 189.718 96.3 193.32C96.2985 195.364 96.7006 197.388 97.4831 199.275C98.2656 201.163 99.4132 202.877 100.86 204.32ZM204.32 122.88C206.868 120.333 208.453 116.981 208.806 113.396C209.159 109.811 208.258 106.214 206.256 103.219C204.254 100.223 201.275 98.0151 197.827 96.97C194.38 95.9249 190.676 96.1077 187.348 97.4873C184.02 98.8669 181.274 101.358 179.577 104.536C177.879 107.714 177.337 111.382 178.041 114.915C178.746 118.448 180.653 121.627 183.439 123.911C186.226 126.195 189.717 127.443 193.32 127.44C195.364 127.443 197.388 127.042 199.275 126.259C201.163 125.476 202.878 124.328 204.32 122.88ZM122.88 19.4205C120.333 16.8729 116.981 15.2876 113.395 14.9347C109.81 14.5817 106.213 15.483 103.218 17.4849C100.223 19.4868 98.0146 22.4654 96.9696 25.9131C95.9245 29.3608 96.1073 33.0642 97.4869 36.3922C98.8665 39.7202 101.358 42.4668 104.535 44.1639C107.713 45.861 111.381 46.4036 114.914 45.6992C118.447 44.9949 121.627 43.0871 123.911 40.301C126.195 37.515 127.442 34.0231 127.44 30.4205C127.44 28.3772 127.038 26.3539 126.255 24.4664C125.473 22.5788 124.326 20.8642 122.88 19.4205ZM19.42 100.86C16.8725 103.408 15.2872 106.76 14.9342 110.345C14.5813 113.93 15.4826 117.527 17.4844 120.522C19.4863 123.518 22.4649 125.726 25.9127 126.771C29.3604 127.816 33.0638 127.633 36.3918 126.254C39.7198 124.874 42.4664 122.383 44.1635 119.205C45.8606 116.027 46.4032 112.359 45.6988 108.826C44.9944 105.293 43.0866 102.114 40.3006 99.8296C37.5145 97.5455 34.0227 96.2983 30.42 96.3005C26.2938 96.3018 22.337 97.9421 19.42 100.86ZM100.86 100.86C98.3125 103.408 96.7272 106.76 96.3742 110.345C96.0213 113.93 96.9226 117.527 98.9244 120.522C100.926 123.518 103.905 125.726 107.353 126.771C110.8 127.816 114.504 127.633 117.832 126.254C121.16 124.874 123.906 122.383 125.604 119.205C127.301 116.027 127.843 112.359 127.139 108.826C126.434 105.293 124.527 102.114 121.741 99.8296C118.955 97.5455 115.463 96.2983 111.86 96.3005C109.817 96.299 107.793 96.701 105.905 97.4835C104.018 98.2661 102.303 99.4136 100.86 100.86Z\" fill=\"#00AEEF\"/>\n",
       "    </g>\n",
       "    <defs>\n",
       "        <clipPath id=\"clip0_4338_178347\">\n",
       "            <rect width=\"566.93\" height=\"223.75\" fill=\"white\"/>\n",
       "        </clipPath>\n",
       "    </defs>\n",
       "  </svg>\n",
       "</div>\n",
       "\n",
       "        <table class=\"jp-RenderedHTMLCommon\" style=\"border-collapse: collapse;color: var(--jp-ui-font-color1);font-size: var(--jp-ui-font-size1);\">\n",
       "    <tr>\n",
       "        <td style=\"text-align: left\"><b>Python version:</b></td>\n",
       "        <td style=\"text-align: left\"><b>3.9.16</b></td>\n",
       "    </tr>\n",
       "    <tr>\n",
       "        <td style=\"text-align: left\"><b>Ray version:</b></td>\n",
       "        <td style=\"text-align: left\"><b>2.10.0</b></td>\n",
       "    </tr>\n",
       "    \n",
       "</table>\n",
       "\n",
       "    </div>\n",
       "</div>\n"
      ],
      "text/plain": [
       "RayContext(dashboard_url='', python_version='3.9.16', ray_version='2.10.0', ray_commit='09abba26b5bf2707639bb637c208d062a47b46f6')"
      ]
     },
     "execution_count": 18,
     "metadata": {},
     "output_type": "execute_result"
    },
    {
     "name": "stderr",
     "output_type": "stream",
     "text": [
      "\u001b[33m(raylet)\u001b[0m [2024-04-03 17:16:08,516 E 25208 981663] (raylet) file_system_monitor.cc:111: /tmp/ray/session_2024-04-03_17-15-56_569217_25133 is over 95% full, available space: 12012269568; capacity: 250685575168. Object creation will fail if spilling is required.\n",
      "\u001b[33m(raylet)\u001b[0m [2024-04-03 17:16:18,589 E 25208 981663] (raylet) file_system_monitor.cc:111: /tmp/ray/session_2024-04-03_17-15-56_569217_25133 is over 95% full, available space: 12013797376; capacity: 250685575168. Object creation will fail if spilling is required.\n",
      "\u001b[33m(raylet)\u001b[0m [2024-04-03 17:16:28,664 E 25208 981663] (raylet) file_system_monitor.cc:111: /tmp/ray/session_2024-04-03_17-15-56_569217_25133 is over 95% full, available space: 12013604864; capacity: 250685575168. Object creation will fail if spilling is required.\n",
      "\u001b[33m(raylet)\u001b[0m [2024-04-03 17:16:38,748 E 25208 981663] (raylet) file_system_monitor.cc:111: /tmp/ray/session_2024-04-03_17-15-56_569217_25133 is over 95% full, available space: 12013477888; capacity: 250685575168. Object creation will fail if spilling is required.\n",
      "\u001b[33m(raylet)\u001b[0m [2024-04-03 17:16:48,846 E 25208 981663] (raylet) file_system_monitor.cc:111: /tmp/ray/session_2024-04-03_17-15-56_569217_25133 is over 95% full, available space: 12013318144; capacity: 250685575168. Object creation will fail if spilling is required.\n",
      "\u001b[33m(raylet)\u001b[0m [2024-04-03 17:16:58,912 E 25208 981663] (raylet) file_system_monitor.cc:111: /tmp/ray/session_2024-04-03_17-15-56_569217_25133 is over 95% full, available space: 12011065344; capacity: 250685575168. Object creation will fail if spilling is required.\n",
      "\u001b[33m(raylet)\u001b[0m [2024-04-03 17:17:09,013 E 25208 981663] (raylet) file_system_monitor.cc:111: /tmp/ray/session_2024-04-03_17-15-56_569217_25133 is over 95% full, available space: 12010885120; capacity: 250685575168. Object creation will fail if spilling is required.\n",
      "\u001b[33m(raylet)\u001b[0m [2024-04-03 17:17:19,074 E 25208 981663] (raylet) file_system_monitor.cc:111: /tmp/ray/session_2024-04-03_17-15-56_569217_25133 is over 95% full, available space: 12010754048; capacity: 250685575168. Object creation will fail if spilling is required.\n",
      "\u001b[33m(raylet)\u001b[0m [2024-04-03 17:17:29,144 E 25208 981663] (raylet) file_system_monitor.cc:111: /tmp/ray/session_2024-04-03_17-15-56_569217_25133 is over 95% full, available space: 12008759296; capacity: 250685575168. Object creation will fail if spilling is required.\n",
      "\u001b[33m(raylet)\u001b[0m [2024-04-03 17:17:39,217 E 25208 981663] (raylet) file_system_monitor.cc:111: /tmp/ray/session_2024-04-03_17-15-56_569217_25133 is over 95% full, available space: 12008763392; capacity: 250685575168. Object creation will fail if spilling is required.\n",
      "\u001b[33m(raylet)\u001b[0m [2024-04-03 17:17:49,291 E 25208 981663] (raylet) file_system_monitor.cc:111: /tmp/ray/session_2024-04-03_17-15-56_569217_25133 is over 95% full, available space: 12008759296; capacity: 250685575168. Object creation will fail if spilling is required.\n",
      "\u001b[33m(raylet)\u001b[0m [2024-04-03 17:17:59,381 E 25208 981663] (raylet) file_system_monitor.cc:111: /tmp/ray/session_2024-04-03_17-15-56_569217_25133 is over 95% full, available space: 12008611840; capacity: 250685575168. Object creation will fail if spilling is required.\n",
      "\u001b[33m(raylet)\u001b[0m [2024-04-03 17:18:09,454 E 25208 981663] (raylet) file_system_monitor.cc:111: /tmp/ray/session_2024-04-03_17-15-56_569217_25133 is over 95% full, available space: 12008468480; capacity: 250685575168. Object creation will fail if spilling is required.\n",
      "\u001b[33m(raylet)\u001b[0m [2024-04-03 17:18:19,531 E 25208 981663] (raylet) file_system_monitor.cc:111: /tmp/ray/session_2024-04-03_17-15-56_569217_25133 is over 95% full, available space: 12008337408; capacity: 250685575168. Object creation will fail if spilling is required.\n",
      "\u001b[33m(raylet)\u001b[0m [2024-04-03 17:18:29,615 E 25208 981663] (raylet) file_system_monitor.cc:111: /tmp/ray/session_2024-04-03_17-15-56_569217_25133 is over 95% full, available space: 12003549184; capacity: 250685575168. Object creation will fail if spilling is required.\n",
      "\u001b[33m(raylet)\u001b[0m [2024-04-03 17:18:39,690 E 25208 981663] (raylet) file_system_monitor.cc:111: /tmp/ray/session_2024-04-03_17-15-56_569217_25133 is over 95% full, available space: 12003319808; capacity: 250685575168. Object creation will fail if spilling is required.\n",
      "\u001b[33m(raylet)\u001b[0m [2024-04-03 17:18:49,758 E 25208 981663] (raylet) file_system_monitor.cc:111: /tmp/ray/session_2024-04-03_17-15-56_569217_25133 is over 95% full, available space: 12003303424; capacity: 250685575168. Object creation will fail if spilling is required.\n",
      "\u001b[33m(raylet)\u001b[0m [2024-04-03 17:18:59,828 E 25208 981663] (raylet) file_system_monitor.cc:111: /tmp/ray/session_2024-04-03_17-15-56_569217_25133 is over 95% full, available space: 11998666752; capacity: 250685575168. Object creation will fail if spilling is required.\n",
      "\u001b[33m(raylet)\u001b[0m [2024-04-03 17:19:09,914 E 25208 981663] (raylet) file_system_monitor.cc:111: /tmp/ray/session_2024-04-03_17-15-56_569217_25133 is over 95% full, available space: 11998916608; capacity: 250685575168. Object creation will fail if spilling is required.\n"
     ]
    }
   ],
   "source": [
    "import pandas as pd\n",
    "from typing import Dict, Callable, List\n",
    "#!pip install ray\n",
    "import ray\n",
    "ray.init(num_cpus=4)"
   ]
  },
  {
   "cell_type": "markdown",
   "metadata": {},
   "source": [
    "# figuring out groupby"
   ]
  },
  {
   "cell_type": "code",
   "execution_count": 157,
   "metadata": {},
   "outputs": [],
   "source": [
    "# Defined based on the logic you are doing\n",
    "def grouped_mean_chunk(df: pd.DataFrame, groupCols: List, selectCol: str, **kwargs) -> pd.DataFrame:\n",
    "    df['countries_en_c'] = df.countries_en.str.lower()\n",
    "    df.countries_en_c = df.countries_en_c.str.strip()\n",
    "    df.countries_en_c = df.countries_en_c.str.replace(r\"\\s+\", \" \")\n",
    "    df.countries_en_c = df.countries_en_c.str.replace(r\",\\s+\", \",\")\n",
    "    df.countries_en_c = df.countries_en_c.str.replace(r\"[\\*|\\?|\\.]\", \"\")\n",
    "    df = df.assign(countries=df['countries_en_c'].str.split(',')).explode('countries').reset_index(drop=True)\n",
    "\n",
    "    #could fill w median instead\n",
    "    #df[selectCol] = df[selectCol].fillna(0)\n",
    "    df = df.dropna(subset=[selectCol])\n",
    "\n",
    "    return df.groupby(groupCols)[selectCol].agg(['count', 'sum'])\n",
    "\n",
    "# Defined based on the logic you are doing\n",
    "def grouped_mean_agg(df: pd.DataFrame, rename: str, groupCols: List, **kwargs) -> pd.DataFrame:\n",
    "    df = df.reset_index()\n",
    "    agg_df = df.groupby(groupCols).agg(total_sum=('sum', 'sum'), total_count=('count', 'sum'))\n",
    "    agg_df[rename] = agg_df.apply(lambda row: row['total_sum'] / row['total_count'], axis=1)\n",
    "    \n",
    "    return agg_df[rename].reset_index()\n",
    "\n",
    "# Will not be changed\n",
    "@ray.remote\n",
    "def process_chunk(chunk: pd.DataFrame, dfMethod: Callable, **kwargs) -> pd.DataFrame:\n",
    "    \"\"\"\n",
    "    Calculate the mean of specified columns, grouped by a specified category, for a given DataFrame chunk.\n",
    "\n",
    "    Args:\n",
    "    - chunk (pd.DataFrame): A chunk of the DataFrame.\n",
    "    - dfMethod (Callable): A function that takes in a dataframe as an input and returns a dataframe\n",
    "    - **kwargs: Additional keyword arguments to pass to dfMethod.\n",
    "\n",
    "    Returns:\n",
    "    - pd.DataFrame\n",
    "    \"\"\"\n",
    "    return dfMethod(chunk, **kwargs)\n",
    "\n",
    "# Will not be changed\n",
    "def process_file(file_path: str, dfMethod: Callable, aggMethod: Callable, separator: str = '\\t', save: bool = False, **kwargs) -> None:\n",
    "    \"\"\"\n",
    "    Process a large CSV file to compute grouped means for specified columns and save the results.\n",
    "\n",
    "    Args:\n",
    "    - file_path (str): The path to the CSV file.\n",
    "    - dfMethod (Callable): A function that takes in a dataframe (chunk) as an input and returns a dataframe\n",
    "    - aggMethod (Callable): A function that aggregates the concatenated results from all chunks\n",
    "    - separator (str): delimiter for the input file\n",
    "    - **kwargs: Additional keyword arguments to pass to both dfMethod and aggMethod.\n",
    "    \"\"\"\n",
    "    chunk_size = 1000  # Define chunk size based on system's memory.\n",
    "\n",
    "    results = []\n",
    "    for chunk in pd.read_csv(file_path, chunksize=chunk_size, sep=separator, low_memory=False):\n",
    "        result = process_chunk.remote(chunk, dfMethod, **kwargs)\n",
    "        results.append(result)\n",
    "\n",
    "    # Retrieve and combine results from all chunks.\n",
    "    combined_results = pd.concat(ray.get(results))\n",
    "\n",
    "    # Uncomment for debugging purposes. \n",
    "    # combined_results.to_csv(\"data/grouped_means_combined.csv\", index=True)\n",
    "\n",
    "    # Final aggregation to ensure accurate mean calculation across all chunks.\n",
    "    final_result = aggMethod(combined_results, **kwargs)\n",
    "\n",
    "    #if save:\n",
    "       # final_result.to_csv(\"data/grouped_means_results.csv\", index=False)\n",
    "        \n",
    "    return final_result\n",
    "\n"
   ]
  },
  {
   "cell_type": "code",
   "execution_count": 158,
   "metadata": {},
   "outputs": [],
   "source": [
    "groupCols = ['countries']\n",
    "selectCol = 'ecoscore_score'\n",
    "rename = 'mean_ecoscore_score'\n",
    "\n",
    "final_df = process_file(\n",
    "    file_path='small_subset.csv',\n",
    "    dfMethod=grouped_mean_chunk,\n",
    "    aggMethod=grouped_mean_agg,\n",
    "    separator=',',\n",
    "    save=False,\n",
    "    groupCols=groupCols,\n",
    "    selectCol=selectCol,\n",
    "    rename=rename\n",
    ")"
   ]
  },
  {
   "cell_type": "code",
   "execution_count": 159,
   "metadata": {},
   "outputs": [
    {
     "name": "stdout",
     "output_type": "stream",
     "text": [
      "No ISO code found for european union. Dropping from DataFrame.\n",
      "No ISO code found for fr:schweiz. Dropping from DataFrame.\n",
      "No ISO code found for galmudug. Dropping from DataFrame.\n",
      "SubdivisionHierarchy(code='FR-971', country_code='FR', name='Guadeloupe', parent='GP', parent_code='FR-GP', type='Overseas department')\n",
      "SubdivisionHierarchy(code='FR-GP', country_code='FR', name='Guadeloupe', parent_code=None, type='Overseas region')\n",
      "SubdivisionHierarchy(code='BE-WLX', country_code='BE', name='Luxembourg', parent='WAL', parent_code='BE-WAL', type='Province')\n",
      "SubdivisionHierarchy(code='LU-LU', country_code='LU', name='Luxembourg', parent_code=None, type='Canton')\n",
      "SubdivisionHierarchy(code='GN-ML', country_code='GN', name='Mali', parent='L', parent_code='GN-L', type='Prefecture')\n",
      "SubdivisionHierarchy(code='FR-972', country_code='FR', name='Martinique', parent='MQ', parent_code='FR-MQ', type='Overseas department')\n",
      "SubdivisionHierarchy(code='FR-MQ', country_code='FR', name='Martinique', parent_code=None, type='Overseas region')\n",
      "SubdivisionHierarchy(code='MX-MEX', country_code='MX', name='México', parent_code=None, type='State')\n",
      "SubdivisionHierarchy(code='NG-NI', country_code='NG', name='Niger', parent_code=None, type='State')\n",
      "No ISO code found for world. Dropping from DataFrame.\n"
     ]
    },
    {
     "name": "stderr",
     "output_type": "stream",
     "text": [
      "\u001b[33m(raylet)\u001b[0m [2024-04-03 19:01:38,329 E 25208 981663] (raylet) file_system_monitor.cc:111: /tmp/ray/session_2024-04-03_17-15-56_569217_25133 is over 95% full, available space: 11925467136; capacity: 250685575168. Object creation will fail if spilling is required.\n"
     ]
    }
   ],
   "source": [
    "import pycountry\n",
    "import plotly.express as px\n",
    "\n",
    "iso_mapping = {}\n",
    "for country in final_df['countries']:\n",
    "    try:\n",
    "        country_data = pycountry.countries.search_fuzzy(country)[0]\n",
    "        iso_mapping[country] = country_data.alpha_3\n",
    "    except LookupError:\n",
    "        print(f\"No ISO code found for {country}. Dropping from DataFrame.\")\n",
    "        final_df = final_df[final_df['countries'] != country]\n",
    "\n",
    "# Add ISO codes to the DataFrame\n",
    "final_df['ISO_Code'] = final_df['countries'].map(iso_mapping)\n",
    "\n"
   ]
  },
  {
   "cell_type": "code",
   "execution_count": 160,
   "metadata": {},
   "outputs": [
    {
     "data": {
      "text/html": [
       "<div>\n",
       "<style scoped>\n",
       "    .dataframe tbody tr th:only-of-type {\n",
       "        vertical-align: middle;\n",
       "    }\n",
       "\n",
       "    .dataframe tbody tr th {\n",
       "        vertical-align: top;\n",
       "    }\n",
       "\n",
       "    .dataframe thead th {\n",
       "        text-align: right;\n",
       "    }\n",
       "</style>\n",
       "<table border=\"1\" class=\"dataframe\">\n",
       "  <thead>\n",
       "    <tr style=\"text-align: right;\">\n",
       "      <th></th>\n",
       "      <th>countries</th>\n",
       "      <th>mean_ecoscore_score</th>\n",
       "      <th>ISO_Code</th>\n",
       "    </tr>\n",
       "  </thead>\n",
       "  <tbody>\n",
       "    <tr>\n",
       "      <th>0</th>\n",
       "      <td>afghanistan</td>\n",
       "      <td>56.200000</td>\n",
       "      <td>AFG</td>\n",
       "    </tr>\n",
       "    <tr>\n",
       "      <th>1</th>\n",
       "      <td>algeria</td>\n",
       "      <td>42.500000</td>\n",
       "      <td>DZA</td>\n",
       "    </tr>\n",
       "    <tr>\n",
       "      <th>2</th>\n",
       "      <td>andorra</td>\n",
       "      <td>60.000000</td>\n",
       "      <td>AND</td>\n",
       "    </tr>\n",
       "    <tr>\n",
       "      <th>3</th>\n",
       "      <td>australia</td>\n",
       "      <td>41.666667</td>\n",
       "      <td>AUS</td>\n",
       "    </tr>\n",
       "    <tr>\n",
       "      <th>4</th>\n",
       "      <td>austria</td>\n",
       "      <td>27.200000</td>\n",
       "      <td>AUT</td>\n",
       "    </tr>\n",
       "    <tr>\n",
       "      <th>...</th>\n",
       "      <td>...</td>\n",
       "      <td>...</td>\n",
       "      <td>...</td>\n",
       "    </tr>\n",
       "    <tr>\n",
       "      <th>60</th>\n",
       "      <td>switzerland</td>\n",
       "      <td>57.198758</td>\n",
       "      <td>CHE</td>\n",
       "    </tr>\n",
       "    <tr>\n",
       "      <th>61</th>\n",
       "      <td>togo</td>\n",
       "      <td>104.000000</td>\n",
       "      <td>TGO</td>\n",
       "    </tr>\n",
       "    <tr>\n",
       "      <th>62</th>\n",
       "      <td>united arab emirates</td>\n",
       "      <td>16.000000</td>\n",
       "      <td>ARE</td>\n",
       "    </tr>\n",
       "    <tr>\n",
       "      <th>63</th>\n",
       "      <td>united kingdom</td>\n",
       "      <td>54.314286</td>\n",
       "      <td>GBR</td>\n",
       "    </tr>\n",
       "    <tr>\n",
       "      <th>64</th>\n",
       "      <td>united states</td>\n",
       "      <td>42.777778</td>\n",
       "      <td>USA</td>\n",
       "    </tr>\n",
       "  </tbody>\n",
       "</table>\n",
       "<p>62 rows × 3 columns</p>\n",
       "</div>"
      ],
      "text/plain": [
       "               countries  mean_ecoscore_score ISO_Code\n",
       "0            afghanistan            56.200000      AFG\n",
       "1                algeria            42.500000      DZA\n",
       "2                andorra            60.000000      AND\n",
       "3              australia            41.666667      AUS\n",
       "4                austria            27.200000      AUT\n",
       "..                   ...                  ...      ...\n",
       "60           switzerland            57.198758      CHE\n",
       "61                  togo           104.000000      TGO\n",
       "62  united arab emirates            16.000000      ARE\n",
       "63        united kingdom            54.314286      GBR\n",
       "64         united states            42.777778      USA\n",
       "\n",
       "[62 rows x 3 columns]"
      ]
     },
     "execution_count": 160,
     "metadata": {},
     "output_type": "execute_result"
    },
    {
     "name": "stderr",
     "output_type": "stream",
     "text": [
      "\u001b[33m(raylet)\u001b[0m [2024-04-03 19:01:48,392 E 25208 981663] (raylet) file_system_monitor.cc:111: /tmp/ray/session_2024-04-03_17-15-56_569217_25133 is over 95% full, available space: 11924164608; capacity: 250685575168. Object creation will fail if spilling is required.\n",
      "\u001b[33m(raylet)\u001b[0m [2024-04-03 19:01:58,467 E 25208 981663] (raylet) file_system_monitor.cc:111: /tmp/ray/session_2024-04-03_17-15-56_569217_25133 is over 95% full, available space: 11923689472; capacity: 250685575168. Object creation will fail if spilling is required.\n",
      "\u001b[33m(raylet)\u001b[0m [2024-04-03 19:02:08,545 E 25208 981663] (raylet) file_system_monitor.cc:111: /tmp/ray/session_2024-04-03_17-15-56_569217_25133 is over 95% full, available space: 11923226624; capacity: 250685575168. Object creation will fail if spilling is required.\n",
      "\u001b[33m(raylet)\u001b[0m [2024-04-03 19:02:18,608 E 25208 981663] (raylet) file_system_monitor.cc:111: /tmp/ray/session_2024-04-03_17-15-56_569217_25133 is over 95% full, available space: 11922726912; capacity: 250685575168. Object creation will fail if spilling is required.\n",
      "\u001b[33m(raylet)\u001b[0m [2024-04-03 19:02:28,686 E 25208 981663] (raylet) file_system_monitor.cc:111: /tmp/ray/session_2024-04-03_17-15-56_569217_25133 is over 95% full, available space: 11922259968; capacity: 250685575168. Object creation will fail if spilling is required.\n",
      "\u001b[33m(raylet)\u001b[0m [2024-04-03 19:02:38,749 E 25208 981663] (raylet) file_system_monitor.cc:111: /tmp/ray/session_2024-04-03_17-15-56_569217_25133 is over 95% full, available space: 11921735680; capacity: 250685575168. Object creation will fail if spilling is required.\n",
      "\u001b[33m(raylet)\u001b[0m [2024-04-03 19:02:48,822 E 25208 981663] (raylet) file_system_monitor.cc:111: /tmp/ray/session_2024-04-03_17-15-56_569217_25133 is over 95% full, available space: 11921498112; capacity: 250685575168. Object creation will fail if spilling is required.\n",
      "\u001b[33m(raylet)\u001b[0m [2024-04-03 19:02:58,896 E 25208 981663] (raylet) file_system_monitor.cc:111: /tmp/ray/session_2024-04-03_17-15-56_569217_25133 is over 95% full, available space: 11920838656; capacity: 250685575168. Object creation will fail if spilling is required.\n",
      "\u001b[33m(raylet)\u001b[0m [2024-04-03 19:03:08,974 E 25208 981663] (raylet) file_system_monitor.cc:111: /tmp/ray/session_2024-04-03_17-15-56_569217_25133 is over 95% full, available space: 11920424960; capacity: 250685575168. Object creation will fail if spilling is required.\n",
      "\u001b[33m(raylet)\u001b[0m [2024-04-03 19:03:19,042 E 25208 981663] (raylet) file_system_monitor.cc:111: /tmp/ray/session_2024-04-03_17-15-56_569217_25133 is over 95% full, available space: 11919925248; capacity: 250685575168. Object creation will fail if spilling is required.\n",
      "\u001b[33m(raylet)\u001b[0m [2024-04-03 19:03:29,123 E 25208 981663] (raylet) file_system_monitor.cc:111: /tmp/ray/session_2024-04-03_17-15-56_569217_25133 is over 95% full, available space: 11919429632; capacity: 250685575168. Object creation will fail if spilling is required.\n",
      "\u001b[33m(raylet)\u001b[0m [2024-04-03 19:03:39,191 E 25208 981663] (raylet) file_system_monitor.cc:111: /tmp/ray/session_2024-04-03_17-15-56_569217_25133 is over 95% full, available space: 11918954496; capacity: 250685575168. Object creation will fail if spilling is required.\n",
      "\u001b[33m(raylet)\u001b[0m [2024-04-03 19:03:49,269 E 25208 981663] (raylet) file_system_monitor.cc:111: /tmp/ray/session_2024-04-03_17-15-56_569217_25133 is over 95% full, available space: 11916460032; capacity: 250685575168. Object creation will fail if spilling is required.\n",
      "\u001b[33m(raylet)\u001b[0m [2024-04-03 19:03:59,328 E 25208 981663] (raylet) file_system_monitor.cc:111: /tmp/ray/session_2024-04-03_17-15-56_569217_25133 is over 95% full, available space: 11915874304; capacity: 250685575168. Object creation will fail if spilling is required.\n",
      "\u001b[33m(raylet)\u001b[0m [2024-04-03 19:04:09,394 E 25208 981663] (raylet) file_system_monitor.cc:111: /tmp/ray/session_2024-04-03_17-15-56_569217_25133 is over 95% full, available space: 11915386880; capacity: 250685575168. Object creation will fail if spilling is required.\n",
      "\u001b[33m(raylet)\u001b[0m [2024-04-03 19:04:19,460 E 25208 981663] (raylet) file_system_monitor.cc:111: /tmp/ray/session_2024-04-03_17-15-56_569217_25133 is over 95% full, available space: 11914944512; capacity: 250685575168. Object creation will fail if spilling is required.\n",
      "\u001b[33m(raylet)\u001b[0m [2024-04-03 19:04:29,531 E 25208 981663] (raylet) file_system_monitor.cc:111: /tmp/ray/session_2024-04-03_17-15-56_569217_25133 is over 95% full, available space: 11914608640; capacity: 250685575168. Object creation will fail if spilling is required.\n",
      "\u001b[33m(raylet)\u001b[0m [2024-04-03 19:04:39,587 E 25208 981663] (raylet) file_system_monitor.cc:111: /tmp/ray/session_2024-04-03_17-15-56_569217_25133 is over 95% full, available space: 11914162176; capacity: 250685575168. Object creation will fail if spilling is required.\n",
      "\u001b[33m(raylet)\u001b[0m [2024-04-03 19:04:49,588 E 25208 981663] (raylet) file_system_monitor.cc:111: /tmp/ray/session_2024-04-03_17-15-56_569217_25133 is over 95% full, available space: 11912196096; capacity: 250685575168. Object creation will fail if spilling is required.\n"
     ]
    }
   ],
   "source": [
    "final_df"
   ]
  },
  {
   "cell_type": "code",
   "execution_count": 161,
   "metadata": {},
   "outputs": [
    {
     "data": {
      "application/vnd.plotly.v1+json": {
       "config": {
        "plotlyServerURL": "https://plot.ly"
       },
       "data": [
        {
         "coloraxis": "coloraxis",
         "geo": "geo",
         "hovertemplate": "<b>%{hovertext}</b><br><br>ISO_Code=%{location}<br>mean_ecoscore_score=%{z}<extra></extra>",
         "hovertext": [
          "afghanistan",
          "algeria",
          "andorra",
          "australia",
          "austria",
          "belgium",
          "benin",
          "brazil",
          "bulgaria",
          "burkina faso",
          "canada",
          "colombia",
          "croatia",
          "czech republic",
          "côte d'ivoire",
          "denmark",
          "en",
          "finland",
          "france",
          "french guiana",
          "french polynesia",
          "gabon",
          "germany",
          "greece",
          "guadeloupe",
          "guinea",
          "hong kong",
          "hungary",
          "india",
          "indonesia",
          "ireland",
          "israel",
          "italy",
          "japan",
          "lebanon",
          "liechtenstein",
          "luxembourg",
          "madagascar",
          "mali",
          "martinique",
          "mexico",
          "monaco",
          "morocco",
          "netherlands",
          "new caledonia",
          "niger",
          "norway",
          "poland",
          "portugal",
          "romania",
          "russia",
          "réunion",
          "serbia",
          "seychelles",
          "south africa",
          "spain",
          "sweden",
          "switzerland",
          "togo",
          "united arab emirates",
          "united kingdom",
          "united states"
         ],
         "locations": [
          "AFG",
          "DZA",
          "AND",
          "AUS",
          "AUT",
          "BEL",
          "BEN",
          "BRA",
          "BGR",
          "BFA",
          "CAN",
          "COL",
          "HRV",
          "CZE",
          "CIV",
          "DNK",
          "SVN",
          "FIN",
          "FRA",
          "GUF",
          "PYF",
          "GAB",
          "DEU",
          "GRC",
          "FRA",
          "GIN",
          "HKG",
          "HUN",
          "IND",
          "IDN",
          "IRL",
          "ISR",
          "ITA",
          "JPN",
          "LBN",
          "LIE",
          "LUX",
          "MDG",
          "MLI",
          "FRA",
          "MEX",
          "MCO",
          "MAR",
          "NLD",
          "NCL",
          "NGA",
          "NOR",
          "POL",
          "PRT",
          "ROU",
          "RUS",
          "REU",
          "SRB",
          "SYC",
          "ZAF",
          "ESP",
          "SWE",
          "CHE",
          "TGO",
          "ARE",
          "GBR",
          "USA"
         ],
         "name": "",
         "type": "choropleth",
         "z": [
          56.2,
          42.5,
          60,
          41.666666666666664,
          27.2,
          49.950819672131146,
          91,
          60,
          63,
          104,
          33.333333333333336,
          66,
          60,
          60,
          104,
          -5,
          31,
          40.5,
          47.8066807738815,
          24,
          38.36363636363637,
          76,
          46.16129032258065,
          53,
          31.5,
          104,
          70,
          98,
          73,
          60,
          26,
          12,
          47.333333333333336,
          74,
          79,
          66,
          50.333333333333336,
          43.5,
          104,
          57.5,
          63,
          30,
          47.357142857142854,
          52.81818181818182,
          32,
          104,
          53.5,
          70,
          36,
          45,
          33.5,
          32.92857142857143,
          55,
          6,
          70,
          51.22222222222222,
          47,
          57.19875776397515,
          104,
          16,
          54.31428571428572,
          42.77777777777778
         ]
        }
       ],
       "layout": {
        "coloraxis": {
         "colorbar": {
          "title": {
           "text": "mean_ecoscore_score"
          }
         },
         "colorscale": [
          [
           0,
           "#0d0887"
          ],
          [
           0.1111111111111111,
           "#46039f"
          ],
          [
           0.2222222222222222,
           "#7201a8"
          ],
          [
           0.3333333333333333,
           "#9c179e"
          ],
          [
           0.4444444444444444,
           "#bd3786"
          ],
          [
           0.5555555555555556,
           "#d8576b"
          ],
          [
           0.6666666666666666,
           "#ed7953"
          ],
          [
           0.7777777777777778,
           "#fb9f3a"
          ],
          [
           0.8888888888888888,
           "#fdca26"
          ],
          [
           1,
           "#f0f921"
          ]
         ]
        },
        "geo": {
         "center": {},
         "domain": {
          "x": [
           0,
           1
          ],
          "y": [
           0,
           1
          ]
         }
        },
        "legend": {
         "tracegroupgap": 0
        },
        "template": {
         "data": {
          "bar": [
           {
            "error_x": {
             "color": "#2a3f5f"
            },
            "error_y": {
             "color": "#2a3f5f"
            },
            "marker": {
             "line": {
              "color": "#E5ECF6",
              "width": 0.5
             },
             "pattern": {
              "fillmode": "overlay",
              "size": 10,
              "solidity": 0.2
             }
            },
            "type": "bar"
           }
          ],
          "barpolar": [
           {
            "marker": {
             "line": {
              "color": "#E5ECF6",
              "width": 0.5
             },
             "pattern": {
              "fillmode": "overlay",
              "size": 10,
              "solidity": 0.2
             }
            },
            "type": "barpolar"
           }
          ],
          "carpet": [
           {
            "aaxis": {
             "endlinecolor": "#2a3f5f",
             "gridcolor": "white",
             "linecolor": "white",
             "minorgridcolor": "white",
             "startlinecolor": "#2a3f5f"
            },
            "baxis": {
             "endlinecolor": "#2a3f5f",
             "gridcolor": "white",
             "linecolor": "white",
             "minorgridcolor": "white",
             "startlinecolor": "#2a3f5f"
            },
            "type": "carpet"
           }
          ],
          "choropleth": [
           {
            "colorbar": {
             "outlinewidth": 0,
             "ticks": ""
            },
            "type": "choropleth"
           }
          ],
          "contour": [
           {
            "colorbar": {
             "outlinewidth": 0,
             "ticks": ""
            },
            "colorscale": [
             [
              0,
              "#0d0887"
             ],
             [
              0.1111111111111111,
              "#46039f"
             ],
             [
              0.2222222222222222,
              "#7201a8"
             ],
             [
              0.3333333333333333,
              "#9c179e"
             ],
             [
              0.4444444444444444,
              "#bd3786"
             ],
             [
              0.5555555555555556,
              "#d8576b"
             ],
             [
              0.6666666666666666,
              "#ed7953"
             ],
             [
              0.7777777777777778,
              "#fb9f3a"
             ],
             [
              0.8888888888888888,
              "#fdca26"
             ],
             [
              1,
              "#f0f921"
             ]
            ],
            "type": "contour"
           }
          ],
          "contourcarpet": [
           {
            "colorbar": {
             "outlinewidth": 0,
             "ticks": ""
            },
            "type": "contourcarpet"
           }
          ],
          "heatmap": [
           {
            "colorbar": {
             "outlinewidth": 0,
             "ticks": ""
            },
            "colorscale": [
             [
              0,
              "#0d0887"
             ],
             [
              0.1111111111111111,
              "#46039f"
             ],
             [
              0.2222222222222222,
              "#7201a8"
             ],
             [
              0.3333333333333333,
              "#9c179e"
             ],
             [
              0.4444444444444444,
              "#bd3786"
             ],
             [
              0.5555555555555556,
              "#d8576b"
             ],
             [
              0.6666666666666666,
              "#ed7953"
             ],
             [
              0.7777777777777778,
              "#fb9f3a"
             ],
             [
              0.8888888888888888,
              "#fdca26"
             ],
             [
              1,
              "#f0f921"
             ]
            ],
            "type": "heatmap"
           }
          ],
          "heatmapgl": [
           {
            "colorbar": {
             "outlinewidth": 0,
             "ticks": ""
            },
            "colorscale": [
             [
              0,
              "#0d0887"
             ],
             [
              0.1111111111111111,
              "#46039f"
             ],
             [
              0.2222222222222222,
              "#7201a8"
             ],
             [
              0.3333333333333333,
              "#9c179e"
             ],
             [
              0.4444444444444444,
              "#bd3786"
             ],
             [
              0.5555555555555556,
              "#d8576b"
             ],
             [
              0.6666666666666666,
              "#ed7953"
             ],
             [
              0.7777777777777778,
              "#fb9f3a"
             ],
             [
              0.8888888888888888,
              "#fdca26"
             ],
             [
              1,
              "#f0f921"
             ]
            ],
            "type": "heatmapgl"
           }
          ],
          "histogram": [
           {
            "marker": {
             "pattern": {
              "fillmode": "overlay",
              "size": 10,
              "solidity": 0.2
             }
            },
            "type": "histogram"
           }
          ],
          "histogram2d": [
           {
            "colorbar": {
             "outlinewidth": 0,
             "ticks": ""
            },
            "colorscale": [
             [
              0,
              "#0d0887"
             ],
             [
              0.1111111111111111,
              "#46039f"
             ],
             [
              0.2222222222222222,
              "#7201a8"
             ],
             [
              0.3333333333333333,
              "#9c179e"
             ],
             [
              0.4444444444444444,
              "#bd3786"
             ],
             [
              0.5555555555555556,
              "#d8576b"
             ],
             [
              0.6666666666666666,
              "#ed7953"
             ],
             [
              0.7777777777777778,
              "#fb9f3a"
             ],
             [
              0.8888888888888888,
              "#fdca26"
             ],
             [
              1,
              "#f0f921"
             ]
            ],
            "type": "histogram2d"
           }
          ],
          "histogram2dcontour": [
           {
            "colorbar": {
             "outlinewidth": 0,
             "ticks": ""
            },
            "colorscale": [
             [
              0,
              "#0d0887"
             ],
             [
              0.1111111111111111,
              "#46039f"
             ],
             [
              0.2222222222222222,
              "#7201a8"
             ],
             [
              0.3333333333333333,
              "#9c179e"
             ],
             [
              0.4444444444444444,
              "#bd3786"
             ],
             [
              0.5555555555555556,
              "#d8576b"
             ],
             [
              0.6666666666666666,
              "#ed7953"
             ],
             [
              0.7777777777777778,
              "#fb9f3a"
             ],
             [
              0.8888888888888888,
              "#fdca26"
             ],
             [
              1,
              "#f0f921"
             ]
            ],
            "type": "histogram2dcontour"
           }
          ],
          "mesh3d": [
           {
            "colorbar": {
             "outlinewidth": 0,
             "ticks": ""
            },
            "type": "mesh3d"
           }
          ],
          "parcoords": [
           {
            "line": {
             "colorbar": {
              "outlinewidth": 0,
              "ticks": ""
             }
            },
            "type": "parcoords"
           }
          ],
          "pie": [
           {
            "automargin": true,
            "type": "pie"
           }
          ],
          "scatter": [
           {
            "fillpattern": {
             "fillmode": "overlay",
             "size": 10,
             "solidity": 0.2
            },
            "type": "scatter"
           }
          ],
          "scatter3d": [
           {
            "line": {
             "colorbar": {
              "outlinewidth": 0,
              "ticks": ""
             }
            },
            "marker": {
             "colorbar": {
              "outlinewidth": 0,
              "ticks": ""
             }
            },
            "type": "scatter3d"
           }
          ],
          "scattercarpet": [
           {
            "marker": {
             "colorbar": {
              "outlinewidth": 0,
              "ticks": ""
             }
            },
            "type": "scattercarpet"
           }
          ],
          "scattergeo": [
           {
            "marker": {
             "colorbar": {
              "outlinewidth": 0,
              "ticks": ""
             }
            },
            "type": "scattergeo"
           }
          ],
          "scattergl": [
           {
            "marker": {
             "colorbar": {
              "outlinewidth": 0,
              "ticks": ""
             }
            },
            "type": "scattergl"
           }
          ],
          "scattermapbox": [
           {
            "marker": {
             "colorbar": {
              "outlinewidth": 0,
              "ticks": ""
             }
            },
            "type": "scattermapbox"
           }
          ],
          "scatterpolar": [
           {
            "marker": {
             "colorbar": {
              "outlinewidth": 0,
              "ticks": ""
             }
            },
            "type": "scatterpolar"
           }
          ],
          "scatterpolargl": [
           {
            "marker": {
             "colorbar": {
              "outlinewidth": 0,
              "ticks": ""
             }
            },
            "type": "scatterpolargl"
           }
          ],
          "scatterternary": [
           {
            "marker": {
             "colorbar": {
              "outlinewidth": 0,
              "ticks": ""
             }
            },
            "type": "scatterternary"
           }
          ],
          "surface": [
           {
            "colorbar": {
             "outlinewidth": 0,
             "ticks": ""
            },
            "colorscale": [
             [
              0,
              "#0d0887"
             ],
             [
              0.1111111111111111,
              "#46039f"
             ],
             [
              0.2222222222222222,
              "#7201a8"
             ],
             [
              0.3333333333333333,
              "#9c179e"
             ],
             [
              0.4444444444444444,
              "#bd3786"
             ],
             [
              0.5555555555555556,
              "#d8576b"
             ],
             [
              0.6666666666666666,
              "#ed7953"
             ],
             [
              0.7777777777777778,
              "#fb9f3a"
             ],
             [
              0.8888888888888888,
              "#fdca26"
             ],
             [
              1,
              "#f0f921"
             ]
            ],
            "type": "surface"
           }
          ],
          "table": [
           {
            "cells": {
             "fill": {
              "color": "#EBF0F8"
             },
             "line": {
              "color": "white"
             }
            },
            "header": {
             "fill": {
              "color": "#C8D4E3"
             },
             "line": {
              "color": "white"
             }
            },
            "type": "table"
           }
          ]
         },
         "layout": {
          "annotationdefaults": {
           "arrowcolor": "#2a3f5f",
           "arrowhead": 0,
           "arrowwidth": 1
          },
          "autotypenumbers": "strict",
          "coloraxis": {
           "colorbar": {
            "outlinewidth": 0,
            "ticks": ""
           }
          },
          "colorscale": {
           "diverging": [
            [
             0,
             "#8e0152"
            ],
            [
             0.1,
             "#c51b7d"
            ],
            [
             0.2,
             "#de77ae"
            ],
            [
             0.3,
             "#f1b6da"
            ],
            [
             0.4,
             "#fde0ef"
            ],
            [
             0.5,
             "#f7f7f7"
            ],
            [
             0.6,
             "#e6f5d0"
            ],
            [
             0.7,
             "#b8e186"
            ],
            [
             0.8,
             "#7fbc41"
            ],
            [
             0.9,
             "#4d9221"
            ],
            [
             1,
             "#276419"
            ]
           ],
           "sequential": [
            [
             0,
             "#0d0887"
            ],
            [
             0.1111111111111111,
             "#46039f"
            ],
            [
             0.2222222222222222,
             "#7201a8"
            ],
            [
             0.3333333333333333,
             "#9c179e"
            ],
            [
             0.4444444444444444,
             "#bd3786"
            ],
            [
             0.5555555555555556,
             "#d8576b"
            ],
            [
             0.6666666666666666,
             "#ed7953"
            ],
            [
             0.7777777777777778,
             "#fb9f3a"
            ],
            [
             0.8888888888888888,
             "#fdca26"
            ],
            [
             1,
             "#f0f921"
            ]
           ],
           "sequentialminus": [
            [
             0,
             "#0d0887"
            ],
            [
             0.1111111111111111,
             "#46039f"
            ],
            [
             0.2222222222222222,
             "#7201a8"
            ],
            [
             0.3333333333333333,
             "#9c179e"
            ],
            [
             0.4444444444444444,
             "#bd3786"
            ],
            [
             0.5555555555555556,
             "#d8576b"
            ],
            [
             0.6666666666666666,
             "#ed7953"
            ],
            [
             0.7777777777777778,
             "#fb9f3a"
            ],
            [
             0.8888888888888888,
             "#fdca26"
            ],
            [
             1,
             "#f0f921"
            ]
           ]
          },
          "colorway": [
           "#636efa",
           "#EF553B",
           "#00cc96",
           "#ab63fa",
           "#FFA15A",
           "#19d3f3",
           "#FF6692",
           "#B6E880",
           "#FF97FF",
           "#FECB52"
          ],
          "font": {
           "color": "#2a3f5f"
          },
          "geo": {
           "bgcolor": "white",
           "lakecolor": "white",
           "landcolor": "#E5ECF6",
           "showlakes": true,
           "showland": true,
           "subunitcolor": "white"
          },
          "hoverlabel": {
           "align": "left"
          },
          "hovermode": "closest",
          "mapbox": {
           "style": "light"
          },
          "paper_bgcolor": "white",
          "plot_bgcolor": "#E5ECF6",
          "polar": {
           "angularaxis": {
            "gridcolor": "white",
            "linecolor": "white",
            "ticks": ""
           },
           "bgcolor": "#E5ECF6",
           "radialaxis": {
            "gridcolor": "white",
            "linecolor": "white",
            "ticks": ""
           }
          },
          "scene": {
           "xaxis": {
            "backgroundcolor": "#E5ECF6",
            "gridcolor": "white",
            "gridwidth": 2,
            "linecolor": "white",
            "showbackground": true,
            "ticks": "",
            "zerolinecolor": "white"
           },
           "yaxis": {
            "backgroundcolor": "#E5ECF6",
            "gridcolor": "white",
            "gridwidth": 2,
            "linecolor": "white",
            "showbackground": true,
            "ticks": "",
            "zerolinecolor": "white"
           },
           "zaxis": {
            "backgroundcolor": "#E5ECF6",
            "gridcolor": "white",
            "gridwidth": 2,
            "linecolor": "white",
            "showbackground": true,
            "ticks": "",
            "zerolinecolor": "white"
           }
          },
          "shapedefaults": {
           "line": {
            "color": "#2a3f5f"
           }
          },
          "ternary": {
           "aaxis": {
            "gridcolor": "white",
            "linecolor": "white",
            "ticks": ""
           },
           "baxis": {
            "gridcolor": "white",
            "linecolor": "white",
            "ticks": ""
           },
           "bgcolor": "#E5ECF6",
           "caxis": {
            "gridcolor": "white",
            "linecolor": "white",
            "ticks": ""
           }
          },
          "title": {
           "x": 0.05
          },
          "xaxis": {
           "automargin": true,
           "gridcolor": "white",
           "linecolor": "white",
           "ticks": "",
           "title": {
            "standoff": 15
           },
           "zerolinecolor": "white",
           "zerolinewidth": 2
          },
          "yaxis": {
           "automargin": true,
           "gridcolor": "white",
           "linecolor": "white",
           "ticks": "",
           "title": {
            "standoff": 15
           },
           "zerolinecolor": "white",
           "zerolinewidth": 2
          }
         }
        },
        "title": {
         "text": "Scores by Country"
        }
       }
      }
     },
     "metadata": {},
     "output_type": "display_data"
    }
   ],
   "source": [
    "# Plot the scores on a geographical map\n",
    "fig = px.choropleth(final_df,\n",
    "                    locations=\"ISO_Code\",\n",
    "                    color=\"mean_ecoscore_score\",\n",
    "                    hover_name=\"countries\",\n",
    "                    color_continuous_scale=px.colors.sequential.Plasma,\n",
    "                    title=\"Scores by Country\")\n",
    "fig.show()"
   ]
  },
  {
   "cell_type": "markdown",
   "metadata": {},
   "source": [
    "# nutriscore"
   ]
  },
  {
   "cell_type": "code",
   "execution_count": 167,
   "metadata": {},
   "outputs": [],
   "source": [
    "groupCols = ['countries']\n",
    "selectCol = 'nutriscore_score'\n",
    "rename = 'mean_nutriscore_score'\n",
    "\n",
    "final_df = process_file(\n",
    "    file_path='small_subset.csv',\n",
    "    dfMethod=grouped_mean_chunk,\n",
    "    aggMethod=grouped_mean_agg,\n",
    "    separator=',',\n",
    "    save=False,\n",
    "    groupCols=groupCols,\n",
    "    selectCol=selectCol,\n",
    "    rename=rename\n",
    ")"
   ]
  },
  {
   "cell_type": "code",
   "execution_count": 169,
   "metadata": {},
   "outputs": [
    {
     "name": "stdout",
     "output_type": "stream",
     "text": [
      "No ISO code found for fr:francia. Dropping from DataFrame.\n",
      "No ISO code found for fr:schweiz. Dropping from DataFrame.\n",
      "No ISO code found for galmudug. Dropping from DataFrame.\n",
      "SubdivisionHierarchy(code='FR-971', country_code='FR', name='Guadeloupe', parent='GP', parent_code='FR-GP', type='Overseas department')\n",
      "SubdivisionHierarchy(code='FR-GP', country_code='FR', name='Guadeloupe', parent_code=None, type='Overseas region')\n",
      "SubdivisionHierarchy(code='BE-WLX', country_code='BE', name='Luxembourg', parent='WAL', parent_code='BE-WAL', type='Province')\n",
      "SubdivisionHierarchy(code='LU-LU', country_code='LU', name='Luxembourg', parent_code=None, type='Canton')\n",
      "SubdivisionHierarchy(code='FR-972', country_code='FR', name='Martinique', parent='MQ', parent_code='FR-MQ', type='Overseas department')\n",
      "SubdivisionHierarchy(code='FR-MQ', country_code='FR', name='Martinique', parent_code=None, type='Overseas region')\n",
      "SubdivisionHierarchy(code='MX-MEX', country_code='MX', name='México', parent_code=None, type='State')\n",
      "No ISO code found for royaume-uni. Dropping from DataFrame.\n",
      "No ISO code found for world. Dropping from DataFrame.\n"
     ]
    }
   ],
   "source": [
    "\n",
    "iso_mapping = {}\n",
    "for country in final_df['countries']:\n",
    "    try:\n",
    "        country_data = pycountry.countries.search_fuzzy(country)[0]\n",
    "        iso_mapping[country] = country_data.alpha_3\n",
    "    except LookupError:\n",
    "        print(f\"No ISO code found for {country}. Dropping from DataFrame.\")\n",
    "        final_df = final_df[final_df['countries'] != country]\n",
    "\n",
    "# Add ISO codes to the DataFrame\n",
    "final_df['ISO_Code'] = final_df['countries'].map(iso_mapping)\n",
    "\n"
   ]
  },
  {
   "cell_type": "code",
   "execution_count": 170,
   "metadata": {},
   "outputs": [
    {
     "data": {
      "text/plain": [
       "49"
      ]
     },
     "execution_count": 170,
     "metadata": {},
     "output_type": "execute_result"
    },
    {
     "name": "stderr",
     "output_type": "stream",
     "text": [
      "\u001b[33m(raylet)\u001b[0m [2024-04-03 19:14:32,025 E 25208 981663] (raylet) file_system_monitor.cc:111: /tmp/ray/session_2024-04-03_17-15-56_569217_25133 is over 95% full, available space: 11938095104; capacity: 250685575168. Object creation will fail if spilling is required.\n"
     ]
    }
   ],
   "source": [
    "len(final_df)"
   ]
  },
  {
   "cell_type": "code",
   "execution_count": 172,
   "metadata": {},
   "outputs": [
    {
     "data": {
      "application/vnd.plotly.v1+json": {
       "config": {
        "plotlyServerURL": "https://plot.ly"
       },
       "data": [
        {
         "coloraxis": "coloraxis",
         "geo": "geo",
         "hovertemplate": "<b>%{hovertext}</b><br><br>ISO_Code=%{location}<br>mean_nutriscore_score=%{z}<extra></extra>",
         "hovertext": [
          "afghanistan",
          "algeria",
          "andorra",
          "australia",
          "austria",
          "belgium",
          "benin",
          "bulgaria",
          "canada",
          "colombia",
          "croatia",
          "czech republic",
          "denmark",
          "en",
          "finland",
          "france",
          "french polynesia",
          "gabon",
          "germany",
          "greece",
          "guadeloupe",
          "guernsey",
          "hong kong",
          "hungary",
          "ireland",
          "italy",
          "japan",
          "lebanon",
          "liechtenstein",
          "luxembourg",
          "madagascar",
          "martinique",
          "mexico",
          "monaco",
          "morocco",
          "netherlands",
          "new caledonia",
          "norway",
          "poland",
          "portugal",
          "russia",
          "réunion",
          "serbia",
          "seychelles",
          "spain",
          "switzerland",
          "united arab emirates",
          "united kingdom",
          "united states"
         ],
         "locations": [
          "AFG",
          "DZA",
          "AND",
          "AUS",
          "AUT",
          "BEL",
          "BEN",
          "BGR",
          "CAN",
          "COL",
          "HRV",
          "CZE",
          "DNK",
          "SVN",
          "FIN",
          "FRA",
          "PYF",
          "GAB",
          "DEU",
          "GRC",
          "FRA",
          "GGY",
          "HKG",
          "HUN",
          "IRL",
          "ITA",
          "JPN",
          "LBN",
          "LIE",
          "LUX",
          "MDG",
          "FRA",
          "MEX",
          "MCO",
          "MAR",
          "NLD",
          "NCL",
          "NOR",
          "POL",
          "PRT",
          "RUS",
          "REU",
          "SRB",
          "SYC",
          "ESP",
          "CHE",
          "ARE",
          "GBR",
          "USA"
         ],
         "name": "",
         "type": "choropleth",
         "z": [
          9.142857142857142,
          10,
          12,
          22.2,
          18.6,
          9.859649122807017,
          11.5,
          14,
          11.272727272727273,
          -1,
          11,
          4.75,
          5,
          3.5,
          14,
          8.600929708409636,
          7.8,
          -5,
          9.863157894736842,
          23,
          5.6,
          11,
          12,
          0,
          14.8,
          7.894736842105263,
          14,
          13,
          -1,
          5.2,
          -0.3333333333333333,
          -0.75,
          -7,
          0,
          10.909090909090908,
          12.181818181818182,
          11,
          14,
          5.428571428571429,
          11.333333333333334,
          0,
          6.714285714285714,
          1.3333333333333333,
          0,
          9.290909090909091,
          5.854651162790698,
          2,
          11.76595744680851,
          13.307692307692308
         ]
        }
       ],
       "layout": {
        "coloraxis": {
         "colorbar": {
          "title": {
           "text": "mean_nutriscore_score"
          }
         },
         "colorscale": [
          [
           0,
           "#0d0887"
          ],
          [
           0.1111111111111111,
           "#46039f"
          ],
          [
           0.2222222222222222,
           "#7201a8"
          ],
          [
           0.3333333333333333,
           "#9c179e"
          ],
          [
           0.4444444444444444,
           "#bd3786"
          ],
          [
           0.5555555555555556,
           "#d8576b"
          ],
          [
           0.6666666666666666,
           "#ed7953"
          ],
          [
           0.7777777777777778,
           "#fb9f3a"
          ],
          [
           0.8888888888888888,
           "#fdca26"
          ],
          [
           1,
           "#f0f921"
          ]
         ]
        },
        "geo": {
         "center": {},
         "domain": {
          "x": [
           0,
           1
          ],
          "y": [
           0,
           1
          ]
         }
        },
        "legend": {
         "tracegroupgap": 0
        },
        "template": {
         "data": {
          "bar": [
           {
            "error_x": {
             "color": "#2a3f5f"
            },
            "error_y": {
             "color": "#2a3f5f"
            },
            "marker": {
             "line": {
              "color": "#E5ECF6",
              "width": 0.5
             },
             "pattern": {
              "fillmode": "overlay",
              "size": 10,
              "solidity": 0.2
             }
            },
            "type": "bar"
           }
          ],
          "barpolar": [
           {
            "marker": {
             "line": {
              "color": "#E5ECF6",
              "width": 0.5
             },
             "pattern": {
              "fillmode": "overlay",
              "size": 10,
              "solidity": 0.2
             }
            },
            "type": "barpolar"
           }
          ],
          "carpet": [
           {
            "aaxis": {
             "endlinecolor": "#2a3f5f",
             "gridcolor": "white",
             "linecolor": "white",
             "minorgridcolor": "white",
             "startlinecolor": "#2a3f5f"
            },
            "baxis": {
             "endlinecolor": "#2a3f5f",
             "gridcolor": "white",
             "linecolor": "white",
             "minorgridcolor": "white",
             "startlinecolor": "#2a3f5f"
            },
            "type": "carpet"
           }
          ],
          "choropleth": [
           {
            "colorbar": {
             "outlinewidth": 0,
             "ticks": ""
            },
            "type": "choropleth"
           }
          ],
          "contour": [
           {
            "colorbar": {
             "outlinewidth": 0,
             "ticks": ""
            },
            "colorscale": [
             [
              0,
              "#0d0887"
             ],
             [
              0.1111111111111111,
              "#46039f"
             ],
             [
              0.2222222222222222,
              "#7201a8"
             ],
             [
              0.3333333333333333,
              "#9c179e"
             ],
             [
              0.4444444444444444,
              "#bd3786"
             ],
             [
              0.5555555555555556,
              "#d8576b"
             ],
             [
              0.6666666666666666,
              "#ed7953"
             ],
             [
              0.7777777777777778,
              "#fb9f3a"
             ],
             [
              0.8888888888888888,
              "#fdca26"
             ],
             [
              1,
              "#f0f921"
             ]
            ],
            "type": "contour"
           }
          ],
          "contourcarpet": [
           {
            "colorbar": {
             "outlinewidth": 0,
             "ticks": ""
            },
            "type": "contourcarpet"
           }
          ],
          "heatmap": [
           {
            "colorbar": {
             "outlinewidth": 0,
             "ticks": ""
            },
            "colorscale": [
             [
              0,
              "#0d0887"
             ],
             [
              0.1111111111111111,
              "#46039f"
             ],
             [
              0.2222222222222222,
              "#7201a8"
             ],
             [
              0.3333333333333333,
              "#9c179e"
             ],
             [
              0.4444444444444444,
              "#bd3786"
             ],
             [
              0.5555555555555556,
              "#d8576b"
             ],
             [
              0.6666666666666666,
              "#ed7953"
             ],
             [
              0.7777777777777778,
              "#fb9f3a"
             ],
             [
              0.8888888888888888,
              "#fdca26"
             ],
             [
              1,
              "#f0f921"
             ]
            ],
            "type": "heatmap"
           }
          ],
          "heatmapgl": [
           {
            "colorbar": {
             "outlinewidth": 0,
             "ticks": ""
            },
            "colorscale": [
             [
              0,
              "#0d0887"
             ],
             [
              0.1111111111111111,
              "#46039f"
             ],
             [
              0.2222222222222222,
              "#7201a8"
             ],
             [
              0.3333333333333333,
              "#9c179e"
             ],
             [
              0.4444444444444444,
              "#bd3786"
             ],
             [
              0.5555555555555556,
              "#d8576b"
             ],
             [
              0.6666666666666666,
              "#ed7953"
             ],
             [
              0.7777777777777778,
              "#fb9f3a"
             ],
             [
              0.8888888888888888,
              "#fdca26"
             ],
             [
              1,
              "#f0f921"
             ]
            ],
            "type": "heatmapgl"
           }
          ],
          "histogram": [
           {
            "marker": {
             "pattern": {
              "fillmode": "overlay",
              "size": 10,
              "solidity": 0.2
             }
            },
            "type": "histogram"
           }
          ],
          "histogram2d": [
           {
            "colorbar": {
             "outlinewidth": 0,
             "ticks": ""
            },
            "colorscale": [
             [
              0,
              "#0d0887"
             ],
             [
              0.1111111111111111,
              "#46039f"
             ],
             [
              0.2222222222222222,
              "#7201a8"
             ],
             [
              0.3333333333333333,
              "#9c179e"
             ],
             [
              0.4444444444444444,
              "#bd3786"
             ],
             [
              0.5555555555555556,
              "#d8576b"
             ],
             [
              0.6666666666666666,
              "#ed7953"
             ],
             [
              0.7777777777777778,
              "#fb9f3a"
             ],
             [
              0.8888888888888888,
              "#fdca26"
             ],
             [
              1,
              "#f0f921"
             ]
            ],
            "type": "histogram2d"
           }
          ],
          "histogram2dcontour": [
           {
            "colorbar": {
             "outlinewidth": 0,
             "ticks": ""
            },
            "colorscale": [
             [
              0,
              "#0d0887"
             ],
             [
              0.1111111111111111,
              "#46039f"
             ],
             [
              0.2222222222222222,
              "#7201a8"
             ],
             [
              0.3333333333333333,
              "#9c179e"
             ],
             [
              0.4444444444444444,
              "#bd3786"
             ],
             [
              0.5555555555555556,
              "#d8576b"
             ],
             [
              0.6666666666666666,
              "#ed7953"
             ],
             [
              0.7777777777777778,
              "#fb9f3a"
             ],
             [
              0.8888888888888888,
              "#fdca26"
             ],
             [
              1,
              "#f0f921"
             ]
            ],
            "type": "histogram2dcontour"
           }
          ],
          "mesh3d": [
           {
            "colorbar": {
             "outlinewidth": 0,
             "ticks": ""
            },
            "type": "mesh3d"
           }
          ],
          "parcoords": [
           {
            "line": {
             "colorbar": {
              "outlinewidth": 0,
              "ticks": ""
             }
            },
            "type": "parcoords"
           }
          ],
          "pie": [
           {
            "automargin": true,
            "type": "pie"
           }
          ],
          "scatter": [
           {
            "fillpattern": {
             "fillmode": "overlay",
             "size": 10,
             "solidity": 0.2
            },
            "type": "scatter"
           }
          ],
          "scatter3d": [
           {
            "line": {
             "colorbar": {
              "outlinewidth": 0,
              "ticks": ""
             }
            },
            "marker": {
             "colorbar": {
              "outlinewidth": 0,
              "ticks": ""
             }
            },
            "type": "scatter3d"
           }
          ],
          "scattercarpet": [
           {
            "marker": {
             "colorbar": {
              "outlinewidth": 0,
              "ticks": ""
             }
            },
            "type": "scattercarpet"
           }
          ],
          "scattergeo": [
           {
            "marker": {
             "colorbar": {
              "outlinewidth": 0,
              "ticks": ""
             }
            },
            "type": "scattergeo"
           }
          ],
          "scattergl": [
           {
            "marker": {
             "colorbar": {
              "outlinewidth": 0,
              "ticks": ""
             }
            },
            "type": "scattergl"
           }
          ],
          "scattermapbox": [
           {
            "marker": {
             "colorbar": {
              "outlinewidth": 0,
              "ticks": ""
             }
            },
            "type": "scattermapbox"
           }
          ],
          "scatterpolar": [
           {
            "marker": {
             "colorbar": {
              "outlinewidth": 0,
              "ticks": ""
             }
            },
            "type": "scatterpolar"
           }
          ],
          "scatterpolargl": [
           {
            "marker": {
             "colorbar": {
              "outlinewidth": 0,
              "ticks": ""
             }
            },
            "type": "scatterpolargl"
           }
          ],
          "scatterternary": [
           {
            "marker": {
             "colorbar": {
              "outlinewidth": 0,
              "ticks": ""
             }
            },
            "type": "scatterternary"
           }
          ],
          "surface": [
           {
            "colorbar": {
             "outlinewidth": 0,
             "ticks": ""
            },
            "colorscale": [
             [
              0,
              "#0d0887"
             ],
             [
              0.1111111111111111,
              "#46039f"
             ],
             [
              0.2222222222222222,
              "#7201a8"
             ],
             [
              0.3333333333333333,
              "#9c179e"
             ],
             [
              0.4444444444444444,
              "#bd3786"
             ],
             [
              0.5555555555555556,
              "#d8576b"
             ],
             [
              0.6666666666666666,
              "#ed7953"
             ],
             [
              0.7777777777777778,
              "#fb9f3a"
             ],
             [
              0.8888888888888888,
              "#fdca26"
             ],
             [
              1,
              "#f0f921"
             ]
            ],
            "type": "surface"
           }
          ],
          "table": [
           {
            "cells": {
             "fill": {
              "color": "#EBF0F8"
             },
             "line": {
              "color": "white"
             }
            },
            "header": {
             "fill": {
              "color": "#C8D4E3"
             },
             "line": {
              "color": "white"
             }
            },
            "type": "table"
           }
          ]
         },
         "layout": {
          "annotationdefaults": {
           "arrowcolor": "#2a3f5f",
           "arrowhead": 0,
           "arrowwidth": 1
          },
          "autotypenumbers": "strict",
          "coloraxis": {
           "colorbar": {
            "outlinewidth": 0,
            "ticks": ""
           }
          },
          "colorscale": {
           "diverging": [
            [
             0,
             "#8e0152"
            ],
            [
             0.1,
             "#c51b7d"
            ],
            [
             0.2,
             "#de77ae"
            ],
            [
             0.3,
             "#f1b6da"
            ],
            [
             0.4,
             "#fde0ef"
            ],
            [
             0.5,
             "#f7f7f7"
            ],
            [
             0.6,
             "#e6f5d0"
            ],
            [
             0.7,
             "#b8e186"
            ],
            [
             0.8,
             "#7fbc41"
            ],
            [
             0.9,
             "#4d9221"
            ],
            [
             1,
             "#276419"
            ]
           ],
           "sequential": [
            [
             0,
             "#0d0887"
            ],
            [
             0.1111111111111111,
             "#46039f"
            ],
            [
             0.2222222222222222,
             "#7201a8"
            ],
            [
             0.3333333333333333,
             "#9c179e"
            ],
            [
             0.4444444444444444,
             "#bd3786"
            ],
            [
             0.5555555555555556,
             "#d8576b"
            ],
            [
             0.6666666666666666,
             "#ed7953"
            ],
            [
             0.7777777777777778,
             "#fb9f3a"
            ],
            [
             0.8888888888888888,
             "#fdca26"
            ],
            [
             1,
             "#f0f921"
            ]
           ],
           "sequentialminus": [
            [
             0,
             "#0d0887"
            ],
            [
             0.1111111111111111,
             "#46039f"
            ],
            [
             0.2222222222222222,
             "#7201a8"
            ],
            [
             0.3333333333333333,
             "#9c179e"
            ],
            [
             0.4444444444444444,
             "#bd3786"
            ],
            [
             0.5555555555555556,
             "#d8576b"
            ],
            [
             0.6666666666666666,
             "#ed7953"
            ],
            [
             0.7777777777777778,
             "#fb9f3a"
            ],
            [
             0.8888888888888888,
             "#fdca26"
            ],
            [
             1,
             "#f0f921"
            ]
           ]
          },
          "colorway": [
           "#636efa",
           "#EF553B",
           "#00cc96",
           "#ab63fa",
           "#FFA15A",
           "#19d3f3",
           "#FF6692",
           "#B6E880",
           "#FF97FF",
           "#FECB52"
          ],
          "font": {
           "color": "#2a3f5f"
          },
          "geo": {
           "bgcolor": "white",
           "lakecolor": "white",
           "landcolor": "#E5ECF6",
           "showlakes": true,
           "showland": true,
           "subunitcolor": "white"
          },
          "hoverlabel": {
           "align": "left"
          },
          "hovermode": "closest",
          "mapbox": {
           "style": "light"
          },
          "paper_bgcolor": "white",
          "plot_bgcolor": "#E5ECF6",
          "polar": {
           "angularaxis": {
            "gridcolor": "white",
            "linecolor": "white",
            "ticks": ""
           },
           "bgcolor": "#E5ECF6",
           "radialaxis": {
            "gridcolor": "white",
            "linecolor": "white",
            "ticks": ""
           }
          },
          "scene": {
           "xaxis": {
            "backgroundcolor": "#E5ECF6",
            "gridcolor": "white",
            "gridwidth": 2,
            "linecolor": "white",
            "showbackground": true,
            "ticks": "",
            "zerolinecolor": "white"
           },
           "yaxis": {
            "backgroundcolor": "#E5ECF6",
            "gridcolor": "white",
            "gridwidth": 2,
            "linecolor": "white",
            "showbackground": true,
            "ticks": "",
            "zerolinecolor": "white"
           },
           "zaxis": {
            "backgroundcolor": "#E5ECF6",
            "gridcolor": "white",
            "gridwidth": 2,
            "linecolor": "white",
            "showbackground": true,
            "ticks": "",
            "zerolinecolor": "white"
           }
          },
          "shapedefaults": {
           "line": {
            "color": "#2a3f5f"
           }
          },
          "ternary": {
           "aaxis": {
            "gridcolor": "white",
            "linecolor": "white",
            "ticks": ""
           },
           "baxis": {
            "gridcolor": "white",
            "linecolor": "white",
            "ticks": ""
           },
           "bgcolor": "#E5ECF6",
           "caxis": {
            "gridcolor": "white",
            "linecolor": "white",
            "ticks": ""
           }
          },
          "title": {
           "x": 0.05
          },
          "xaxis": {
           "automargin": true,
           "gridcolor": "white",
           "linecolor": "white",
           "ticks": "",
           "title": {
            "standoff": 15
           },
           "zerolinecolor": "white",
           "zerolinewidth": 2
          },
          "yaxis": {
           "automargin": true,
           "gridcolor": "white",
           "linecolor": "white",
           "ticks": "",
           "title": {
            "standoff": 15
           },
           "zerolinecolor": "white",
           "zerolinewidth": 2
          }
         }
        },
        "title": {
         "text": "Scores by Country"
        }
       }
      }
     },
     "metadata": {},
     "output_type": "display_data"
    },
    {
     "name": "stderr",
     "output_type": "stream",
     "text": [
      "\u001b[33m(raylet)\u001b[0m [2024-04-03 19:14:42,121 E 25208 981663] (raylet) file_system_monitor.cc:111: /tmp/ray/session_2024-04-03_17-15-56_569217_25133 is over 95% full, available space: 11938103296; capacity: 250685575168. Object creation will fail if spilling is required.\n",
      "\u001b[33m(raylet)\u001b[0m [2024-04-03 19:14:52,198 E 25208 981663] (raylet) file_system_monitor.cc:111: /tmp/ray/session_2024-04-03_17-15-56_569217_25133 is over 95% full, available space: 11938099200; capacity: 250685575168. Object creation will fail if spilling is required.\n",
      "\u001b[33m(raylet)\u001b[0m [2024-04-03 19:15:02,263 E 25208 981663] (raylet) file_system_monitor.cc:111: /tmp/ray/session_2024-04-03_17-15-56_569217_25133 is over 95% full, available space: 11938562048; capacity: 250685575168. Object creation will fail if spilling is required.\n",
      "\u001b[33m(raylet)\u001b[0m [2024-04-03 19:15:12,330 E 25208 981663] (raylet) file_system_monitor.cc:111: /tmp/ray/session_2024-04-03_17-15-56_569217_25133 is over 95% full, available space: 11938488320; capacity: 250685575168. Object creation will fail if spilling is required.\n"
     ]
    }
   ],
   "source": [
    "fig = px.choropleth(final_df,\n",
    "                    locations=\"ISO_Code\",\n",
    "                    color=\"mean_nutriscore_score\",\n",
    "                    hover_name=\"countries\",\n",
    "                    color_continuous_scale=px.colors.sequential.Plasma,\n",
    "                    title=\"Scores by Country\")\n",
    "fig.show()"
   ]
  },
  {
   "cell_type": "markdown",
   "metadata": {},
   "source": [
    "# Spider"
   ]
  },
  {
   "cell_type": "code",
   "execution_count": 98,
   "metadata": {},
   "outputs": [],
   "source": [
    "def process_data_chunk(chunk, column, ascend ):\n",
    "    # Sort the chunk and take top 3 values\n",
    "    chunk = chunk.dropna(subset=[\"sodium_100g\", 'fat_100g','saturated-fat_100g','sugars_100g','carbohydrates_100g','proteins_100g', 'ecoscore_score',\t'nutriscore_score']).reset_index()\n",
    "    sorted_chunk = chunk.sort_values(by = column ,ascending= ascend).head(3)\n",
    "    return sorted_chunk\n",
    "\n",
    "\n",
    "# Will not be changed\n",
    "@ray.remote\n",
    "def process_chunk(chunk: pd.DataFrame, dfMethod: Callable,column: Callable, ascend:Callable, **kwargs) -> pd.DataFrame:\n",
    "    \"\"\"\n",
    "    Calculate the mean of specified columns, grouped by a specified category, for a given DataFrame chunk.\n",
    "\n",
    "    Args:\n",
    "    - chunk (pd.DataFrame): A chunk of the DataFrame.\n",
    "    - dfMethod (Callable): A function that takes in a dataframe as an input and returns a dataframe\n",
    "    - **kwargs: Additional keyword arguments to pass to dfMethod.\n",
    "\n",
    "    Returns:\n",
    "    - pd.DataFrame\n",
    "    \"\"\"\n",
    "    return dfMethod(chunk,column,ascend, **kwargs)\n",
    "\n",
    "# Will not be changed\n",
    "def process_file(file_path: str, dfMethod: Callable, column :Callable, ascend: Callable, separator: str = '\\t', **kwargs) -> None:\n",
    "    \"\"\"\n",
    "    Process a large CSV file to compute grouped means for specified columns and save the results.\n",
    "\n",
    "    Args:\n",
    "    - file_path (str): The path to the CSV file.\n",
    "    - dfMethod (Callable): A function that takes in a dataframe (chunk) as an input and returns a dataframe\n",
    "    - aggMethod (Callable): A function that aggregates the concatenated results from all chunks\n",
    "    - separator (str): delimiter for the input file\n",
    "    - **kwargs: Additional keyword arguments to pass to both dfMethod and aggMethod.\n",
    "    \"\"\"\n",
    "    chunk_size = 1000  # Define chunk size based on system's memory.\n",
    "\n",
    "    results = []\n",
    "    for chunk in pd.read_csv(file_path, chunksize=chunk_size, sep=separator, low_memory=False):\n",
    "        result = process_chunk.remote(chunk, dfMethod, column,ascend, **kwargs)\n",
    "        results.append(result)\n",
    "\n",
    "    # Retrieve and combine results from all chunks.\n",
    "    combined_results = pd.concat(ray.get(results))\n",
    "\n",
    "    combined_results= combined_results.sort_values(by = column ,ascending= ascend).head(10)\n",
    "\n",
    "\n",
    "   # if save:\n",
    "    #    final_result.to_csv(\"data/grouped_means_results.csv\", index=False)\n",
    "        \n",
    "    return combined_results"
   ]
  },
  {
   "cell_type": "markdown",
   "metadata": {},
   "source": [
    "# Non-ecofriendly foods"
   ]
  },
  {
   "cell_type": "code",
   "execution_count": 99,
   "metadata": {},
   "outputs": [],
   "source": [
    "\n",
    "\n",
    "\n",
    "df = process_file(\n",
    "    file_path='small.csv',\n",
    "    dfMethod=process_data_chunk,\n",
    "    column = 'ecoscore_score',\n",
    "    ascend = True,\n",
    "   \n",
    ")"
   ]
  },
  {
   "cell_type": "code",
   "execution_count": 101,
   "metadata": {},
   "outputs": [],
   "source": [
    "df= df[['code',\n",
    " 'product_name',\n",
    " 'countries_en',\n",
    " 'countries_en',\n",
    " 'ecoscore_score',\n",
    " 'nutriscore_score',\n",
    " 'sodium_100g',\n",
    " 'fat_100g',\n",
    " 'saturated-fat_100g',\n",
    " 'sugars_100g',\n",
    " 'carbohydrates_100g',\n",
    " 'proteins_100g']]"
   ]
  },
  {
   "cell_type": "code",
   "execution_count": 102,
   "metadata": {},
   "outputs": [
    {
     "data": {
      "image/png": "[encoded data removed]",
      "text/plain": [
       "<Figure size 800x800 with 1 Axes>"
      ]
     },
     "metadata": {},
     "output_type": "display_data"
    },
    {
     "name": "stderr",
     "output_type": "stream",
     "text": [
      "\u001b[33m(raylet)\u001b[0m [2024-04-03 17:42:10,530 E 25208 981663] (raylet) file_system_monitor.cc:111: /tmp/ray/session_2024-04-03_17-15-56_569217_25133 is over 95% full, available space: 11946360832; capacity: 250685575168. Object creation will fail if spilling is required.\n",
      "\u001b[33m(raylet)\u001b[0m [2024-04-03 17:42:20,610 E 25208 981663] (raylet) file_system_monitor.cc:111: /tmp/ray/session_2024-04-03_17-15-56_569217_25133 is over 95% full, available space: 11945136128; capacity: 250685575168. Object creation will fail if spilling is required.\n"
     ]
    }
   ],
   "source": [
    "import numpy as np\n",
    "import matplotlib.pyplot as plt\n",
    "\n",
    "# Assuming you have selected_rows, columns_to_graph, and num_features defined\n",
    "\n",
    "fig, ax = plt.subplots(figsize=(8, 8), subplot_kw=dict(polar=True))\n",
    "\n",
    "colors = ['blue', 'green', 'red']  # Choose your colors for each graph\n",
    "selected_rows = df.head(3)\n",
    "columns_to_graph = [\"sodium_100g\", 'fat_100g','saturated-fat_100g','sugars_100g','carbohydrates_100g','proteins_100g']\n",
    "num_features = len(columns_to_graph)\n",
    "\n",
    "\n",
    "for index, row in selected_rows.reset_index().iterrows():\n",
    "\n",
    "    product_name = row['product_name']\n",
    "    values = row[columns_to_graph].values\n",
    "    angles = np.linspace(0, 2 * np.pi, num_features, endpoint=False).tolist()\n",
    "    ax.fill(angles, values, color=colors[index], alpha=0.25)\n",
    "    ax.plot(angles, values, color=colors[index], linewidth=2, label=product_name)\n",
    "\n",
    "ax.set_yticklabels([])\n",
    "ax.set_xticks(angles)\n",
    "ax.set_xticklabels(columns_to_graph)\n",
    "ax.legend()  # Add legend to distinguish different products\n",
    "\n",
    "plt.show()"
   ]
  },
  {
   "cell_type": "markdown",
   "metadata": {},
   "source": [
    "# nutriscore: bad for you foods"
   ]
  },
  {
   "cell_type": "code",
   "execution_count": 104,
   "metadata": {},
   "outputs": [],
   "source": [
    "\n",
    "\n",
    "\n",
    "df = process_file(\n",
    "    file_path='small.csv',\n",
    "    dfMethod=process_data_chunk,\n",
    "    column = 'nutriscore_score',\n",
    "    ascend = False,\n",
    "   \n",
    ")"
   ]
  },
  {
   "cell_type": "code",
   "execution_count": 105,
   "metadata": {},
   "outputs": [],
   "source": [
    "df = df[['code',\n",
    " 'product_name',\n",
    " 'countries_en',\n",
    " 'countries_en',\n",
    " 'ecoscore_score',\n",
    " 'nutriscore_score',\n",
    " 'sodium_100g',\n",
    " 'fat_100g',\n",
    " 'saturated-fat_100g',\n",
    " 'sugars_100g',\n",
    " 'carbohydrates_100g',\n",
    " 'proteins_100g']]"
   ]
  },
  {
   "cell_type": "code",
   "execution_count": 106,
   "metadata": {},
   "outputs": [
    {
     "data": {
      "image/png": "[encoded data removed]",
      "text/plain": [
       "<Figure size 800x800 with 1 Axes>"
      ]
     },
     "metadata": {},
     "output_type": "display_data"
    },
    {
     "name": "stderr",
     "output_type": "stream",
     "text": [
      "\u001b[33m(raylet)\u001b[0m [2024-04-03 17:42:50,827 E 25208 981663] (raylet) file_system_monitor.cc:111: /tmp/ray/session_2024-04-03_17-15-56_569217_25133 is over 95% full, available space: 11945107456; capacity: 250685575168. Object creation will fail if spilling is required.\n",
      "\u001b[33m(raylet)\u001b[0m [2024-04-03 17:43:00,895 E 25208 981663] (raylet) file_system_monitor.cc:111: /tmp/ray/session_2024-04-03_17-15-56_569217_25133 is over 95% full, available space: 11945095168; capacity: 250685575168. Object creation will fail if spilling is required.\n",
      "\u001b[33m(raylet)\u001b[0m [2024-04-03 17:43:10,953 E 25208 981663] (raylet) file_system_monitor.cc:111: /tmp/ray/session_2024-04-03_17-15-56_569217_25133 is over 95% full, available space: 11945123840; capacity: 250685575168. Object creation will fail if spilling is required.\n",
      "\u001b[33m(raylet)\u001b[0m [2024-04-03 17:43:21,018 E 25208 981663] (raylet) file_system_monitor.cc:111: /tmp/ray/session_2024-04-03_17-15-56_569217_25133 is over 95% full, available space: 11945078784; capacity: 250685575168. Object creation will fail if spilling is required.\n",
      "\u001b[33m(raylet)\u001b[0m [2024-04-03 17:43:31,087 E 25208 981663] (raylet) file_system_monitor.cc:111: /tmp/ray/session_2024-04-03_17-15-56_569217_25133 is over 95% full, available space: 11945013248; capacity: 250685575168. Object creation will fail if spilling is required.\n",
      "\u001b[33m(raylet)\u001b[0m [2024-04-03 17:43:41,161 E 25208 981663] (raylet) file_system_monitor.cc:111: /tmp/ray/session_2024-04-03_17-15-56_569217_25133 is over 95% full, available space: 11944120320; capacity: 250685575168. Object creation will fail if spilling is required.\n",
      "\u001b[33m(raylet)\u001b[0m [2024-04-03 17:43:51,241 E 25208 981663] (raylet) file_system_monitor.cc:111: /tmp/ray/session_2024-04-03_17-15-56_569217_25133 is over 95% full, available space: 11942076416; capacity: 250685575168. Object creation will fail if spilling is required.\n",
      "\u001b[33m(raylet)\u001b[0m [2024-04-03 17:44:01,307 E 25208 981663] (raylet) file_system_monitor.cc:111: /tmp/ray/session_2024-04-03_17-15-56_569217_25133 is over 95% full, available space: 11942060032; capacity: 250685575168. Object creation will fail if spilling is required.\n",
      "\u001b[33m(raylet)\u001b[0m [2024-04-03 17:44:11,379 E 25208 981663] (raylet) file_system_monitor.cc:111: /tmp/ray/session_2024-04-03_17-15-56_569217_25133 is over 95% full, available space: 11941986304; capacity: 250685575168. Object creation will fail if spilling is required.\n",
      "\u001b[33m(raylet)\u001b[0m [2024-04-03 17:44:21,461 E 25208 981663] (raylet) file_system_monitor.cc:111: /tmp/ray/session_2024-04-03_17-15-56_569217_25133 is over 95% full, available space: 11938177024; capacity: 250685575168. Object creation will fail if spilling is required.\n",
      "\u001b[33m(raylet)\u001b[0m [2024-04-03 17:44:31,533 E 25208 981663] (raylet) file_system_monitor.cc:111: /tmp/ray/session_2024-04-03_17-15-56_569217_25133 is over 95% full, available space: 11930873856; capacity: 250685575168. Object creation will fail if spilling is required.\n",
      "\u001b[33m(raylet)\u001b[0m [2024-04-03 17:44:41,537 E 25208 981663] (raylet) file_system_monitor.cc:111: /tmp/ray/session_2024-04-03_17-15-56_569217_25133 is over 95% full, available space: 11931140096; capacity: 250685575168. Object creation will fail if spilling is required.\n",
      "\u001b[33m(raylet)\u001b[0m [2024-04-03 17:44:51,545 E 25208 981663] (raylet) file_system_monitor.cc:111: /tmp/ray/session_2024-04-03_17-15-56_569217_25133 is over 95% full, available space: 11927834624; capacity: 250685575168. Object creation will fail if spilling is required.\n",
      "\u001b[33m(raylet)\u001b[0m [2024-04-03 17:45:01,638 E 25208 981663] (raylet) file_system_monitor.cc:111: /tmp/ray/session_2024-04-03_17-15-56_569217_25133 is over 95% full, available space: 11927838720; capacity: 250685575168. Object creation will fail if spilling is required.\n",
      "\u001b[33m(raylet)\u001b[0m [2024-04-03 17:45:11,734 E 25208 981663] (raylet) file_system_monitor.cc:111: /tmp/ray/session_2024-04-03_17-15-56_569217_25133 is over 95% full, available space: 11927814144; capacity: 250685575168. Object creation will fail if spilling is required.\n",
      "\u001b[33m(raylet)\u001b[0m [2024-04-03 17:45:21,834 E 25208 981663] (raylet) file_system_monitor.cc:111: /tmp/ray/session_2024-04-03_17-15-56_569217_25133 is over 95% full, available space: 11927801856; capacity: 250685575168. Object creation will fail if spilling is required.\n",
      "\u001b[33m(raylet)\u001b[0m [2024-04-03 17:45:31,922 E 25208 981663] (raylet) file_system_monitor.cc:111: /tmp/ray/session_2024-04-03_17-15-56_569217_25133 is over 95% full, available space: 11927810048; capacity: 250685575168. Object creation will fail if spilling is required.\n",
      "\u001b[33m(raylet)\u001b[0m [2024-04-03 17:45:42,005 E 25208 981663] (raylet) file_system_monitor.cc:111: /tmp/ray/session_2024-04-03_17-15-56_569217_25133 is over 95% full, available space: 11927810048; capacity: 250685575168. Object creation will fail if spilling is required.\n",
      "\u001b[33m(raylet)\u001b[0m [2024-04-03 17:45:52,083 E 25208 981663] (raylet) file_system_monitor.cc:111: /tmp/ray/session_2024-04-03_17-15-56_569217_25133 is over 95% full, available space: 11927531520; capacity: 250685575168. Object creation will fail if spilling is required.\n",
      "\u001b[33m(raylet)\u001b[0m [2024-04-03 17:46:02,149 E 25208 981663] (raylet) file_system_monitor.cc:111: /tmp/ray/session_2024-04-03_17-15-56_569217_25133 is over 95% full, available space: 11927527424; capacity: 250685575168. Object creation will fail if spilling is required.\n",
      "\u001b[33m(raylet)\u001b[0m [2024-04-03 17:46:12,229 E 25208 981663] (raylet) file_system_monitor.cc:111: /tmp/ray/session_2024-04-03_17-15-56_569217_25133 is over 95% full, available space: 11927498752; capacity: 250685575168. Object creation will fail if spilling is required.\n",
      "\u001b[33m(raylet)\u001b[0m [2024-04-03 17:46:22,311 E 25208 981663] (raylet) file_system_monitor.cc:111: /tmp/ray/session_2024-04-03_17-15-56_569217_25133 is over 95% full, available space: 11927244800; capacity: 250685575168. Object creation will fail if spilling is required.\n",
      "\u001b[33m(raylet)\u001b[0m [2024-04-03 17:46:32,397 E 25208 981663] (raylet) file_system_monitor.cc:111: /tmp/ray/session_2024-04-03_17-15-56_569217_25133 is over 95% full, available space: 11927076864; capacity: 250685575168. Object creation will fail if spilling is required.\n",
      "\u001b[33m(raylet)\u001b[0m [2024-04-03 17:46:42,487 E 25208 981663] (raylet) file_system_monitor.cc:111: /tmp/ray/session_2024-04-03_17-15-56_569217_25133 is over 95% full, available space: 11926917120; capacity: 250685575168. Object creation will fail if spilling is required.\n",
      "\u001b[33m(raylet)\u001b[0m [2024-04-03 17:46:52,581 E 25208 981663] (raylet) file_system_monitor.cc:111: /tmp/ray/session_2024-04-03_17-15-56_569217_25133 is over 95% full, available space: 11937308672; capacity: 250685575168. Object creation will fail if spilling is required.\n",
      "\u001b[33m(raylet)\u001b[0m [2024-04-03 17:47:02,585 E 25208 981663] (raylet) file_system_monitor.cc:111: /tmp/ray/session_2024-04-03_17-15-56_569217_25133 is over 95% full, available space: 11932545024; capacity: 250685575168. Object creation will fail if spilling is required.\n",
      "\u001b[33m(raylet)\u001b[0m [2024-04-03 17:47:12,673 E 25208 981663] (raylet) file_system_monitor.cc:111: /tmp/ray/session_2024-04-03_17-15-56_569217_25133 is over 95% full, available space: 11932557312; capacity: 250685575168. Object creation will fail if spilling is required.\n",
      "\u001b[33m(raylet)\u001b[0m [2024-04-03 17:47:22,874 E 25208 981663] (raylet) file_system_monitor.cc:111: /tmp/ray/session_2024-04-03_17-15-56_569217_25133 is over 95% full, available space: 11928248320; capacity: 250685575168. Object creation will fail if spilling is required.\n",
      "\u001b[33m(raylet)\u001b[0m [2024-04-03 17:47:32,951 E 25208 981663] (raylet) file_system_monitor.cc:111: /tmp/ray/session_2024-04-03_17-15-56_569217_25133 is over 95% full, available space: 11928260608; capacity: 250685575168. Object creation will fail if spilling is required.\n",
      "\u001b[33m(raylet)\u001b[0m [2024-04-03 17:47:43,041 E 25208 981663] (raylet) file_system_monitor.cc:111: /tmp/ray/session_2024-04-03_17-15-56_569217_25133 is over 95% full, available space: 11928260608; capacity: 250685575168. Object creation will fail if spilling is required.\n",
      "\u001b[33m(raylet)\u001b[0m [2024-04-03 17:47:53,123 E 25208 981663] (raylet) file_system_monitor.cc:111: /tmp/ray/session_2024-04-03_17-15-56_569217_25133 is over 95% full, available space: 11928100864; capacity: 250685575168. Object creation will fail if spilling is required.\n",
      "\u001b[33m(raylet)\u001b[0m [2024-04-03 17:48:03,192 E 25208 981663] (raylet) file_system_monitor.cc:111: /tmp/ray/session_2024-04-03_17-15-56_569217_25133 is over 95% full, available space: 11930259456; capacity: 250685575168. Object creation will fail if spilling is required.\n",
      "\u001b[33m(raylet)\u001b[0m [2024-04-03 17:48:13,282 E 25208 981663] (raylet) file_system_monitor.cc:111: /tmp/ray/session_2024-04-03_17-15-56_569217_25133 is over 95% full, available space: 11935404032; capacity: 250685575168. Object creation will fail if spilling is required.\n",
      "\u001b[33m(raylet)\u001b[0m [2024-04-03 17:48:23,359 E 25208 981663] (raylet) file_system_monitor.cc:111: /tmp/ray/session_2024-04-03_17-15-56_569217_25133 is over 95% full, available space: 11925114880; capacity: 250685575168. Object creation will fail if spilling is required.\n",
      "\u001b[33m(raylet)\u001b[0m [2024-04-03 17:48:33,452 E 25208 981663] (raylet) file_system_monitor.cc:111: /tmp/ray/session_2024-04-03_17-15-56_569217_25133 is over 95% full, available space: 11925098496; capacity: 250685575168. Object creation will fail if spilling is required.\n",
      "\u001b[33m(raylet)\u001b[0m [2024-04-03 17:48:43,529 E 25208 981663] (raylet) file_system_monitor.cc:111: /tmp/ray/session_2024-04-03_17-15-56_569217_25133 is over 95% full, available space: 11924942848; capacity: 250685575168. Object creation will fail if spilling is required.\n",
      "\u001b[33m(raylet)\u001b[0m [2024-04-03 17:48:53,601 E 25208 981663] (raylet) file_system_monitor.cc:111: /tmp/ray/session_2024-04-03_17-15-56_569217_25133 is over 95% full, available space: 11924852736; capacity: 250685575168. Object creation will fail if spilling is required.\n",
      "\u001b[33m(raylet)\u001b[0m [2024-04-03 17:49:03,674 E 25208 981663] (raylet) file_system_monitor.cc:111: /tmp/ray/session_2024-04-03_17-15-56_569217_25133 is over 95% full, available space: 11924844544; capacity: 250685575168. Object creation will fail if spilling is required.\n",
      "\u001b[33m(raylet)\u001b[0m [2024-04-03 17:49:13,749 E 25208 981663] (raylet) file_system_monitor.cc:111: /tmp/ray/session_2024-04-03_17-15-56_569217_25133 is over 95% full, available space: 11924705280; capacity: 250685575168. Object creation will fail if spilling is required.\n",
      "\u001b[33m(raylet)\u001b[0m [2024-04-03 17:49:23,838 E 25208 981663] (raylet) file_system_monitor.cc:111: /tmp/ray/session_2024-04-03_17-15-56_569217_25133 is over 95% full, available space: 11924353024; capacity: 250685575168. Object creation will fail if spilling is required.\n",
      "\u001b[33m(raylet)\u001b[0m [2024-04-03 17:49:33,916 E 25208 981663] (raylet) file_system_monitor.cc:111: /tmp/ray/session_2024-04-03_17-15-56_569217_25133 is over 95% full, available space: 11924287488; capacity: 250685575168. Object creation will fail if spilling is required.\n",
      "\u001b[33m(raylet)\u001b[0m [2024-04-03 17:49:43,995 E 25208 981663] (raylet) file_system_monitor.cc:111: /tmp/ray/session_2024-04-03_17-15-56_569217_25133 is over 95% full, available space: 11924152320; capacity: 250685575168. Object creation will fail if spilling is required.\n",
      "\u001b[33m(raylet)\u001b[0m [2024-04-03 17:49:54,072 E 25208 981663] (raylet) file_system_monitor.cc:111: /tmp/ray/session_2024-04-03_17-15-56_569217_25133 is over 95% full, available space: 11923972096; capacity: 250685575168. Object creation will fail if spilling is required.\n",
      "\u001b[33m(raylet)\u001b[0m [2024-04-03 17:50:04,150 E 25208 981663] (raylet) file_system_monitor.cc:111: /tmp/ray/session_2024-04-03_17-15-56_569217_25133 is over 95% full, available space: 11923992576; capacity: 250685575168. Object creation will fail if spilling is required.\n",
      "\u001b[33m(raylet)\u001b[0m [2024-04-03 17:50:14,230 E 25208 981663] (raylet) file_system_monitor.cc:111: /tmp/ray/session_2024-04-03_17-15-56_569217_25133 is over 95% full, available space: 11923992576; capacity: 250685575168. Object creation will fail if spilling is required.\n"
     ]
    }
   ],
   "source": [
    "import numpy as np\n",
    "import matplotlib.pyplot as plt\n",
    "\n",
    "# Assuming you have selected_rows, columns_to_graph, and num_features defined\n",
    "\n",
    "fig, ax = plt.subplots(figsize=(8, 8), subplot_kw=dict(polar=True))\n",
    "\n",
    "colors = ['blue', 'green', 'red']  # Choose your colors for each graph\n",
    "selected_rows = df.head(3)\n",
    "columns_to_graph = [\"sodium_100g\", 'fat_100g','saturated-fat_100g','sugars_100g','carbohydrates_100g','proteins_100g']\n",
    "num_features = len(columns_to_graph)\n",
    "\n",
    "\n",
    "for index, row in selected_rows.reset_index().iterrows():\n",
    "\n",
    "    product_name = row['product_name']\n",
    "    values = row[columns_to_graph].values\n",
    "    angles = np.linspace(0, 2 * np.pi, num_features, endpoint=False).tolist()\n",
    "    ax.fill(angles, values, color=colors[index], alpha=0.25)\n",
    "    ax.plot(angles, values, color=colors[index], linewidth=2, label=product_name)\n",
    "\n",
    "ax.set_yticklabels([])\n",
    "ax.set_xticks(angles)\n",
    "ax.set_xticklabels(columns_to_graph)\n",
    "ax.legend()  # Add legend to distinguish different products\n",
    "\n",
    "plt.show()\n"
   ]
  }
 ],
 "metadata": {
  "kernelspec": {
   "display_name": "bigData",
   "language": "python",
   "name": "python3"
  },
  "language_info": {
   "codemirror_mode": {
    "name": "ipython",
    "version": 3
   },
   "file_extension": ".py",
   "mimetype": "text/x-python",
   "name": "python",
   "nbconvert_exporter": "python",
   "pygments_lexer": "ipython3",
   "version": "3.9.16"
  }
 },
 "nbformat": 4,
 "nbformat_minor": 2
}
