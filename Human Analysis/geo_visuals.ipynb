{
 "cells": [
  {
   "cell_type": "code",
   "execution_count": 3,
   "metadata": {},
   "outputs": [],
   "source": [
    "import pandas as pd"
   ]
  },
  {
   "cell_type": "code",
   "execution_count": 18,
   "metadata": {},
   "outputs": [],
   "source": [
    "df = pd.read_csv('/Users/bpugs/Desktop/Database_Class/project/small_subset.csv')"
   ]
  },
  {
   "cell_type": "code",
   "execution_count": 5,
   "metadata": {},
   "outputs": [
    {
     "data": {
      "text/html": [
       "<div>\n",
       "<style scoped>\n",
       "    .dataframe tbody tr th:only-of-type {\n",
       "        vertical-align: middle;\n",
       "    }\n",
       "\n",
       "    .dataframe tbody tr th {\n",
       "        vertical-align: top;\n",
       "    }\n",
       "\n",
       "    .dataframe thead th {\n",
       "        text-align: right;\n",
       "    }\n",
       "</style>\n",
       "<table border=\"1\" class=\"dataframe\">\n",
       "  <thead>\n",
       "    <tr style=\"text-align: right;\">\n",
       "      <th></th>\n",
       "      <th>code</th>\n",
       "      <th>product_name</th>\n",
       "      <th>countries_en</th>\n",
       "      <th>brands</th>\n",
       "      <th>abbreviated_product_name</th>\n",
       "      <th>generic_name</th>\n",
       "      <th>quantity</th>\n",
       "      <th>ecoscore_score</th>\n",
       "      <th>ecoscore_grade</th>\n",
       "      <th>nutrient_levels_tags</th>\n",
       "      <th>main_category_en</th>\n",
       "      <th>nutriscore_score</th>\n",
       "      <th>nutriscore_grade</th>\n",
       "      <th>nova_group</th>\n",
       "      <th>food_groups_en</th>\n",
       "    </tr>\n",
       "  </thead>\n",
       "  <tbody>\n",
       "    <tr>\n",
       "      <th>0</th>\n",
       "      <td>3596710517510</td>\n",
       "      <td>Choco Stick chocolat au lait</td>\n",
       "      <td>France,World</td>\n",
       "      <td>Auchan</td>\n",
       "      <td>Auchan choco stick chocolat lait 15</td>\n",
       "      <td>Bâtonnets de biscuits enrobés de chocolat au lait</td>\n",
       "      <td>0.115 kg</td>\n",
       "      <td>34.0</td>\n",
       "      <td>d</td>\n",
       "      <td>en:fat-in-high-quantity,en:saturated-fat-in-hi...</td>\n",
       "      <td>Stick biscuits covered with chocolate</td>\n",
       "      <td>22.0</td>\n",
       "      <td>e</td>\n",
       "      <td>4.0</td>\n",
       "      <td>Sugary snacks,Biscuits and cakes</td>\n",
       "    </tr>\n",
       "    <tr>\n",
       "      <th>1</th>\n",
       "      <td>3596710517527</td>\n",
       "      <td>Fromage à tartiner ail et fines herbes</td>\n",
       "      <td>France,World</td>\n",
       "      <td>Pouce</td>\n",
       "      <td>Pouce fromage a tartiner ail et fin</td>\n",
       "      <td>Fromage à tartiner à l'ail et aux fines herbes</td>\n",
       "      <td>0.15 kg</td>\n",
       "      <td>NaN</td>\n",
       "      <td>unknown</td>\n",
       "      <td>NaN</td>\n",
       "      <td>NaN</td>\n",
       "      <td>NaN</td>\n",
       "      <td>unknown</td>\n",
       "      <td>NaN</td>\n",
       "      <td>NaN</td>\n",
       "    </tr>\n",
       "    <tr>\n",
       "      <th>2</th>\n",
       "      <td>3596710517534</td>\n",
       "      <td>AUCHAN Noir praliné et éclats de nougatine 150g</td>\n",
       "      <td>France,World</td>\n",
       "      <td>Auchan, Auchan Gourmet</td>\n",
       "      <td>Auchan gourmet choco nr praline pep</td>\n",
       "      <td>Chocolat noir fourrage (48%) au praliné et aux...</td>\n",
       "      <td>0.15 kg</td>\n",
       "      <td>15.0</td>\n",
       "      <td>e</td>\n",
       "      <td>en:fat-in-high-quantity,en:saturated-fat-in-hi...</td>\n",
       "      <td>Dark chocolates</td>\n",
       "      <td>21.0</td>\n",
       "      <td>e</td>\n",
       "      <td>4.0</td>\n",
       "      <td>Sugary snacks,Chocolate products</td>\n",
       "    </tr>\n",
       "    <tr>\n",
       "      <th>3</th>\n",
       "      <td>3596710517640</td>\n",
       "      <td>Epinards en branches en portions</td>\n",
       "      <td>France,World</td>\n",
       "      <td>Auchan</td>\n",
       "      <td>Auchan epinards branches en portion</td>\n",
       "      <td>Epinards en branches, en portions, surgelés</td>\n",
       "      <td>1 kg</td>\n",
       "      <td>NaN</td>\n",
       "      <td>unknown</td>\n",
       "      <td>NaN</td>\n",
       "      <td>NaN</td>\n",
       "      <td>NaN</td>\n",
       "      <td>unknown</td>\n",
       "      <td>NaN</td>\n",
       "      <td>NaN</td>\n",
       "    </tr>\n",
       "    <tr>\n",
       "      <th>4</th>\n",
       "      <td>3596710517657</td>\n",
       "      <td>AUCHAN Lait façon rocher</td>\n",
       "      <td>France,World</td>\n",
       "      <td>Auchan</td>\n",
       "      <td>Auchan gou chocolat lait facon roch</td>\n",
       "      <td>Chocolat supérieur au lait (52%) fourrage au p...</td>\n",
       "      <td>0.15 kg</td>\n",
       "      <td>18.0</td>\n",
       "      <td>e</td>\n",
       "      <td>en:fat-in-high-quantity,en:saturated-fat-in-hi...</td>\n",
       "      <td>Milk chocolates</td>\n",
       "      <td>24.0</td>\n",
       "      <td>e</td>\n",
       "      <td>4.0</td>\n",
       "      <td>Sugary snacks,Chocolate products</td>\n",
       "    </tr>\n",
       "    <tr>\n",
       "      <th>...</th>\n",
       "      <td>...</td>\n",
       "      <td>...</td>\n",
       "      <td>...</td>\n",
       "      <td>...</td>\n",
       "      <td>...</td>\n",
       "      <td>...</td>\n",
       "      <td>...</td>\n",
       "      <td>...</td>\n",
       "      <td>...</td>\n",
       "      <td>...</td>\n",
       "      <td>...</td>\n",
       "      <td>...</td>\n",
       "      <td>...</td>\n",
       "      <td>...</td>\n",
       "      <td>...</td>\n",
       "    </tr>\n",
       "    <tr>\n",
       "      <th>19994</th>\n",
       "      <td>3665020370082</td>\n",
       "      <td>Marmelade d'oranges amères</td>\n",
       "      <td>France</td>\n",
       "      <td>NaN</td>\n",
       "      <td>NaN</td>\n",
       "      <td>NaN</td>\n",
       "      <td>NaN</td>\n",
       "      <td>NaN</td>\n",
       "      <td>unknown</td>\n",
       "      <td>NaN</td>\n",
       "      <td>NaN</td>\n",
       "      <td>NaN</td>\n",
       "      <td>unknown</td>\n",
       "      <td>NaN</td>\n",
       "      <td>NaN</td>\n",
       "    </tr>\n",
       "    <tr>\n",
       "      <th>19995</th>\n",
       "      <td>3665020370099</td>\n",
       "      <td>Confiture Extra de Framboise</td>\n",
       "      <td>France</td>\n",
       "      <td>Les Délices de Pascale</td>\n",
       "      <td>NaN</td>\n",
       "      <td>NaN</td>\n",
       "      <td>NaN</td>\n",
       "      <td>65.0</td>\n",
       "      <td>b</td>\n",
       "      <td>en:fat-in-low-quantity,en:saturated-fat-in-low...</td>\n",
       "      <td>Raspberry jams</td>\n",
       "      <td>12.0</td>\n",
       "      <td>d</td>\n",
       "      <td>NaN</td>\n",
       "      <td>Sugary snacks,Sweets</td>\n",
       "    </tr>\n",
       "    <tr>\n",
       "      <th>19996</th>\n",
       "      <td>3665030330069</td>\n",
       "      <td>Confiture de fraise</td>\n",
       "      <td>France</td>\n",
       "      <td>Maison Jougla</td>\n",
       "      <td>NaN</td>\n",
       "      <td>NaN</td>\n",
       "      <td>320 g</td>\n",
       "      <td>60.0</td>\n",
       "      <td>b</td>\n",
       "      <td>en:fat-in-low-quantity,en:saturated-fat-in-low...</td>\n",
       "      <td>Strawberry jams</td>\n",
       "      <td>11.0</td>\n",
       "      <td>d</td>\n",
       "      <td>4.0</td>\n",
       "      <td>Sugary snacks,Sweets</td>\n",
       "    </tr>\n",
       "    <tr>\n",
       "      <th>19997</th>\n",
       "      <td>3665030330076</td>\n",
       "      <td>Confiture extra framboise</td>\n",
       "      <td>France</td>\n",
       "      <td>NaN</td>\n",
       "      <td>NaN</td>\n",
       "      <td>NaN</td>\n",
       "      <td>320 g</td>\n",
       "      <td>65.0</td>\n",
       "      <td>b</td>\n",
       "      <td>en:fat-in-low-quantity,en:saturated-fat-in-low...</td>\n",
       "      <td>Raspberry jams</td>\n",
       "      <td>12.0</td>\n",
       "      <td>d</td>\n",
       "      <td>NaN</td>\n",
       "      <td>Sugary snacks,Sweets</td>\n",
       "    </tr>\n",
       "    <tr>\n",
       "      <th>19998</th>\n",
       "      <td>3665030330144</td>\n",
       "      <td>Confiture extra rhubarbe</td>\n",
       "      <td>France</td>\n",
       "      <td>Maison Jougla</td>\n",
       "      <td>NaN</td>\n",
       "      <td>NaN</td>\n",
       "      <td>320 g</td>\n",
       "      <td>75.0</td>\n",
       "      <td>b</td>\n",
       "      <td>en:fat-in-low-quantity,en:saturated-fat-in-low...</td>\n",
       "      <td>Vegetable-jams</td>\n",
       "      <td>11.0</td>\n",
       "      <td>d</td>\n",
       "      <td>4.0</td>\n",
       "      <td>Sugary snacks,Sweets</td>\n",
       "    </tr>\n",
       "  </tbody>\n",
       "</table>\n",
       "<p>19999 rows × 15 columns</p>\n",
       "</div>"
      ],
      "text/plain": [
       "                code                                     product_name  \\\n",
       "0      3596710517510                     Choco Stick chocolat au lait   \n",
       "1      3596710517527           Fromage à tartiner ail et fines herbes   \n",
       "2      3596710517534  AUCHAN Noir praliné et éclats de nougatine 150g   \n",
       "3      3596710517640                 Epinards en branches en portions   \n",
       "4      3596710517657                         AUCHAN Lait façon rocher   \n",
       "...              ...                                              ...   \n",
       "19994  3665020370082                       Marmelade d'oranges amères   \n",
       "19995  3665020370099                     Confiture Extra de Framboise   \n",
       "19996  3665030330069                              Confiture de fraise   \n",
       "19997  3665030330076                        Confiture extra framboise   \n",
       "19998  3665030330144                         Confiture extra rhubarbe   \n",
       "\n",
       "       countries_en                  brands  \\\n",
       "0      France,World                  Auchan   \n",
       "1      France,World                   Pouce   \n",
       "2      France,World  Auchan, Auchan Gourmet   \n",
       "3      France,World                  Auchan   \n",
       "4      France,World                  Auchan   \n",
       "...             ...                     ...   \n",
       "19994        France                     NaN   \n",
       "19995        France  Les Délices de Pascale   \n",
       "19996        France           Maison Jougla   \n",
       "19997        France                     NaN   \n",
       "19998        France           Maison Jougla   \n",
       "\n",
       "                  abbreviated_product_name  \\\n",
       "0      Auchan choco stick chocolat lait 15   \n",
       "1      Pouce fromage a tartiner ail et fin   \n",
       "2      Auchan gourmet choco nr praline pep   \n",
       "3      Auchan epinards branches en portion   \n",
       "4      Auchan gou chocolat lait facon roch   \n",
       "...                                    ...   \n",
       "19994                                  NaN   \n",
       "19995                                  NaN   \n",
       "19996                                  NaN   \n",
       "19997                                  NaN   \n",
       "19998                                  NaN   \n",
       "\n",
       "                                            generic_name  quantity  \\\n",
       "0      Bâtonnets de biscuits enrobés de chocolat au lait  0.115 kg   \n",
       "1         Fromage à tartiner à l'ail et aux fines herbes   0.15 kg   \n",
       "2      Chocolat noir fourrage (48%) au praliné et aux...   0.15 kg   \n",
       "3            Epinards en branches, en portions, surgelés      1 kg   \n",
       "4      Chocolat supérieur au lait (52%) fourrage au p...   0.15 kg   \n",
       "...                                                  ...       ...   \n",
       "19994                                                NaN       NaN   \n",
       "19995                                                NaN       NaN   \n",
       "19996                                                NaN     320 g   \n",
       "19997                                                NaN     320 g   \n",
       "19998                                                NaN     320 g   \n",
       "\n",
       "       ecoscore_score ecoscore_grade  \\\n",
       "0                34.0              d   \n",
       "1                 NaN        unknown   \n",
       "2                15.0              e   \n",
       "3                 NaN        unknown   \n",
       "4                18.0              e   \n",
       "...               ...            ...   \n",
       "19994             NaN        unknown   \n",
       "19995            65.0              b   \n",
       "19996            60.0              b   \n",
       "19997            65.0              b   \n",
       "19998            75.0              b   \n",
       "\n",
       "                                    nutrient_levels_tags  \\\n",
       "0      en:fat-in-high-quantity,en:saturated-fat-in-hi...   \n",
       "1                                                    NaN   \n",
       "2      en:fat-in-high-quantity,en:saturated-fat-in-hi...   \n",
       "3                                                    NaN   \n",
       "4      en:fat-in-high-quantity,en:saturated-fat-in-hi...   \n",
       "...                                                  ...   \n",
       "19994                                                NaN   \n",
       "19995  en:fat-in-low-quantity,en:saturated-fat-in-low...   \n",
       "19996  en:fat-in-low-quantity,en:saturated-fat-in-low...   \n",
       "19997  en:fat-in-low-quantity,en:saturated-fat-in-low...   \n",
       "19998  en:fat-in-low-quantity,en:saturated-fat-in-low...   \n",
       "\n",
       "                            main_category_en  nutriscore_score  \\\n",
       "0      Stick biscuits covered with chocolate              22.0   \n",
       "1                                        NaN               NaN   \n",
       "2                            Dark chocolates              21.0   \n",
       "3                                        NaN               NaN   \n",
       "4                            Milk chocolates              24.0   \n",
       "...                                      ...               ...   \n",
       "19994                                    NaN               NaN   \n",
       "19995                         Raspberry jams              12.0   \n",
       "19996                        Strawberry jams              11.0   \n",
       "19997                         Raspberry jams              12.0   \n",
       "19998                         Vegetable-jams              11.0   \n",
       "\n",
       "      nutriscore_grade  nova_group                    food_groups_en  \n",
       "0                    e         4.0  Sugary snacks,Biscuits and cakes  \n",
       "1              unknown         NaN                               NaN  \n",
       "2                    e         4.0  Sugary snacks,Chocolate products  \n",
       "3              unknown         NaN                               NaN  \n",
       "4                    e         4.0  Sugary snacks,Chocolate products  \n",
       "...                ...         ...                               ...  \n",
       "19994          unknown         NaN                               NaN  \n",
       "19995                d         NaN              Sugary snacks,Sweets  \n",
       "19996                d         4.0              Sugary snacks,Sweets  \n",
       "19997                d         NaN              Sugary snacks,Sweets  \n",
       "19998                d         4.0              Sugary snacks,Sweets  \n",
       "\n",
       "[19999 rows x 15 columns]"
      ]
     },
     "execution_count": 5,
     "metadata": {},
     "output_type": "execute_result"
    }
   ],
   "source": [
    "df"
   ]
  },
  {
   "cell_type": "code",
   "execution_count": 24,
   "metadata": {},
   "outputs": [],
   "source": [
    "df\n",
    "\n",
    "# Everything in lowercases\n",
    "df['countries_en_c'] = df.countries_en.str.lower()\n",
    "\n",
    "# Strip whitespaces\n",
    "df.countries_en_c = df.countries_en_c.str.strip()\n",
    "\n",
    "# Replace multiple whitespaces with only one space\n",
    "df.countries_en_c = df.countries_en_c.str.replace(r\"\\s+\", \" \")\n",
    "\n",
    "# Remove whitespaces after comma\n",
    "df.countries_en_c = df.countries_en_c.str.replace(r\",\\s+\", \",\")\n",
    "\n",
    "# Remove some special characters (used in regex)\n",
    "df.countries_en_c = df.countries_en_c.str.replace(r\"[\\*|\\?|\\.]\", \"\")\n",
    "\n"
   ]
  },
  {
   "cell_type": "code",
   "execution_count": 26,
   "metadata": {},
   "outputs": [
    {
     "data": {
      "text/plain": [
       "array(['france', 'world', 'belgium', 'spain', 'poland', 'netherlands',\n",
       "       'united states', 'gabon', 'guadeloupe', 'italy', 'malaysia',\n",
       "       'germany', 'united kingdom', 'french polynesia', 'switzerland',\n",
       "       'senegal', 'morocco', 'portugal', 'cape verde', 'réunion',\n",
       "       'canada', 'luxembourg', 'seychelles', 'ireland', 'india',\n",
       "       'fr:schweiz', 'latvia', 'tunisia', 'algeria', 'austria', 'moldova',\n",
       "       'turkiye', 'jordan', 'serbia', 'sweden', 'sri lanka', 'hungary',\n",
       "       'czech republic', 'south africa', 'uzbekistan', 'ukraine',\n",
       "       'georgia', 'north macedonia', 'azerbaijan', 'romania', 'iceland',\n",
       "       'norway', 'mali', 'mauritius', 'bulgaria', 'kyrgyzstan',\n",
       "       'martinique', 'greece', 'kuwait', 'israel', 'slovenia', 'iraq',\n",
       "       'new zealand', 'lebanon', 'lithuania', 'tajikistan', 'albania',\n",
       "       'saudi arabia', 'cameroon', 'niger', 'united arab emirates',\n",
       "       'monaco', 'madagascar', 'liechtenstein', \"côte d'ivoire\", 'mexico',\n",
       "       'royaume-uni', 'colombia', 'russia', 'republic of the congo',\n",
       "       'denmark', 'thailand', 'cambodia', 'indonesia', 'hong kong',\n",
       "       'fr:francia', 'european union', 'australia', 'mayotte', 'qatar',\n",
       "       'singapore', 'croatia', 'japan', 'afghanistan', 'cyprus',\n",
       "       'finland', 'vietnam', 'egypt', 'brazil', 'new caledonia', 'malta',\n",
       "       'turkey', 'costa rica', 'curaçao', 'philippines', 'kazakhstan',\n",
       "       'togo', 'argentina', 'guernsey', 'palestinian territories',\n",
       "       'ghana', 'paraguay', 'nigeria', 'benin', 'burkina faso', 'guinea',\n",
       "       'french guiana', 'angola', 'en', 'galmudug', 'mauritania',\n",
       "       'andorra'], dtype=object)"
      ]
     },
     "execution_count": 26,
     "metadata": {},
     "output_type": "execute_result"
    }
   ],
   "source": [
    "df_packagings = df.countries_en_c.str.extractall(r\"(?P<countries_1>[^,]+)\")\n",
    "\n",
    "# Reset the index\n",
    "df_packagings.reset_index(inplace=True)\n",
    "\n",
    "# Drop the automatically created column: match\n",
    "df_packagings.drop('match', axis=1, inplace=True)\n",
    "\n",
    "# Remove duplicates\n",
    "df_packagings.drop_duplicates(inplace=True)\n",
    "\n",
    "# Set the code as the index\n",
    "#df_packagings.set_index('code', inplace=True)\n",
    "\n",
    "df_packagings.countries_1.unique()"
   ]
  },
  {
   "cell_type": "code",
   "execution_count": 28,
   "metadata": {},
   "outputs": [
    {
     "data": {
      "text/html": [
       "<div>\n",
       "<style scoped>\n",
       "    .dataframe tbody tr th:only-of-type {\n",
       "        vertical-align: middle;\n",
       "    }\n",
       "\n",
       "    .dataframe tbody tr th {\n",
       "        vertical-align: top;\n",
       "    }\n",
       "\n",
       "    .dataframe thead th {\n",
       "        text-align: right;\n",
       "    }\n",
       "</style>\n",
       "<table border=\"1\" class=\"dataframe\">\n",
       "  <thead>\n",
       "    <tr style=\"text-align: right;\">\n",
       "      <th></th>\n",
       "      <th>level_0</th>\n",
       "      <th>countries_1</th>\n",
       "      <th>code</th>\n",
       "      <th>product_name</th>\n",
       "      <th>countries_en</th>\n",
       "      <th>brands</th>\n",
       "      <th>abbreviated_product_name</th>\n",
       "      <th>generic_name</th>\n",
       "      <th>quantity</th>\n",
       "      <th>ecoscore_score</th>\n",
       "      <th>ecoscore_grade</th>\n",
       "      <th>nutrient_levels_tags</th>\n",
       "      <th>main_category_en</th>\n",
       "      <th>nutriscore_score</th>\n",
       "      <th>nutriscore_grade</th>\n",
       "      <th>nova_group</th>\n",
       "      <th>food_groups_en</th>\n",
       "      <th>countries_en_c</th>\n",
       "    </tr>\n",
       "  </thead>\n",
       "  <tbody>\n",
       "    <tr>\n",
       "      <th>0</th>\n",
       "      <td>0</td>\n",
       "      <td>france</td>\n",
       "      <td>3596710517510</td>\n",
       "      <td>Choco Stick chocolat au lait</td>\n",
       "      <td>France,World</td>\n",
       "      <td>Auchan</td>\n",
       "      <td>Auchan choco stick chocolat lait 15</td>\n",
       "      <td>Bâtonnets de biscuits enrobés de chocolat au lait</td>\n",
       "      <td>0.115 kg</td>\n",
       "      <td>34.0</td>\n",
       "      <td>d</td>\n",
       "      <td>en:fat-in-high-quantity,en:saturated-fat-in-hi...</td>\n",
       "      <td>Stick biscuits covered with chocolate</td>\n",
       "      <td>22.0</td>\n",
       "      <td>e</td>\n",
       "      <td>4.0</td>\n",
       "      <td>Sugary snacks,Biscuits and cakes</td>\n",
       "      <td>france,world</td>\n",
       "    </tr>\n",
       "    <tr>\n",
       "      <th>1</th>\n",
       "      <td>0</td>\n",
       "      <td>world</td>\n",
       "      <td>3596710517527</td>\n",
       "      <td>Fromage à tartiner ail et fines herbes</td>\n",
       "      <td>France,World</td>\n",
       "      <td>Pouce</td>\n",
       "      <td>Pouce fromage a tartiner ail et fin</td>\n",
       "      <td>Fromage à tartiner à l'ail et aux fines herbes</td>\n",
       "      <td>0.15 kg</td>\n",
       "      <td>NaN</td>\n",
       "      <td>unknown</td>\n",
       "      <td>NaN</td>\n",
       "      <td>NaN</td>\n",
       "      <td>NaN</td>\n",
       "      <td>unknown</td>\n",
       "      <td>NaN</td>\n",
       "      <td>NaN</td>\n",
       "      <td>france,world</td>\n",
       "    </tr>\n",
       "    <tr>\n",
       "      <th>2</th>\n",
       "      <td>1</td>\n",
       "      <td>france</td>\n",
       "      <td>3596710517534</td>\n",
       "      <td>AUCHAN Noir praliné et éclats de nougatine 150g</td>\n",
       "      <td>France,World</td>\n",
       "      <td>Auchan, Auchan Gourmet</td>\n",
       "      <td>Auchan gourmet choco nr praline pep</td>\n",
       "      <td>Chocolat noir fourrage (48%) au praliné et aux...</td>\n",
       "      <td>0.15 kg</td>\n",
       "      <td>15.0</td>\n",
       "      <td>e</td>\n",
       "      <td>en:fat-in-high-quantity,en:saturated-fat-in-hi...</td>\n",
       "      <td>Dark chocolates</td>\n",
       "      <td>21.0</td>\n",
       "      <td>e</td>\n",
       "      <td>4.0</td>\n",
       "      <td>Sugary snacks,Chocolate products</td>\n",
       "      <td>france,world</td>\n",
       "    </tr>\n",
       "    <tr>\n",
       "      <th>3</th>\n",
       "      <td>1</td>\n",
       "      <td>world</td>\n",
       "      <td>3596710517640</td>\n",
       "      <td>Epinards en branches en portions</td>\n",
       "      <td>France,World</td>\n",
       "      <td>Auchan</td>\n",
       "      <td>Auchan epinards branches en portion</td>\n",
       "      <td>Epinards en branches, en portions, surgelés</td>\n",
       "      <td>1 kg</td>\n",
       "      <td>NaN</td>\n",
       "      <td>unknown</td>\n",
       "      <td>NaN</td>\n",
       "      <td>NaN</td>\n",
       "      <td>NaN</td>\n",
       "      <td>unknown</td>\n",
       "      <td>NaN</td>\n",
       "      <td>NaN</td>\n",
       "      <td>france,world</td>\n",
       "    </tr>\n",
       "    <tr>\n",
       "      <th>4</th>\n",
       "      <td>2</td>\n",
       "      <td>france</td>\n",
       "      <td>3596710517657</td>\n",
       "      <td>AUCHAN Lait façon rocher</td>\n",
       "      <td>France,World</td>\n",
       "      <td>Auchan</td>\n",
       "      <td>Auchan gou chocolat lait facon roch</td>\n",
       "      <td>Chocolat supérieur au lait (52%) fourrage au p...</td>\n",
       "      <td>0.15 kg</td>\n",
       "      <td>18.0</td>\n",
       "      <td>e</td>\n",
       "      <td>en:fat-in-high-quantity,en:saturated-fat-in-hi...</td>\n",
       "      <td>Milk chocolates</td>\n",
       "      <td>24.0</td>\n",
       "      <td>e</td>\n",
       "      <td>4.0</td>\n",
       "      <td>Sugary snacks,Chocolate products</td>\n",
       "      <td>france,world</td>\n",
       "    </tr>\n",
       "  </tbody>\n",
       "</table>\n",
       "</div>"
      ],
      "text/plain": [
       "   level_0 countries_1           code  \\\n",
       "0        0      france  3596710517510   \n",
       "1        0       world  3596710517527   \n",
       "2        1      france  3596710517534   \n",
       "3        1       world  3596710517640   \n",
       "4        2      france  3596710517657   \n",
       "\n",
       "                                      product_name  countries_en  \\\n",
       "0                     Choco Stick chocolat au lait  France,World   \n",
       "1           Fromage à tartiner ail et fines herbes  France,World   \n",
       "2  AUCHAN Noir praliné et éclats de nougatine 150g  France,World   \n",
       "3                 Epinards en branches en portions  France,World   \n",
       "4                         AUCHAN Lait façon rocher  France,World   \n",
       "\n",
       "                   brands             abbreviated_product_name  \\\n",
       "0                  Auchan  Auchan choco stick chocolat lait 15   \n",
       "1                   Pouce  Pouce fromage a tartiner ail et fin   \n",
       "2  Auchan, Auchan Gourmet  Auchan gourmet choco nr praline pep   \n",
       "3                  Auchan  Auchan epinards branches en portion   \n",
       "4                  Auchan  Auchan gou chocolat lait facon roch   \n",
       "\n",
       "                                        generic_name  quantity  \\\n",
       "0  Bâtonnets de biscuits enrobés de chocolat au lait  0.115 kg   \n",
       "1     Fromage à tartiner à l'ail et aux fines herbes   0.15 kg   \n",
       "2  Chocolat noir fourrage (48%) au praliné et aux...   0.15 kg   \n",
       "3        Epinards en branches, en portions, surgelés      1 kg   \n",
       "4  Chocolat supérieur au lait (52%) fourrage au p...   0.15 kg   \n",
       "\n",
       "   ecoscore_score ecoscore_grade  \\\n",
       "0            34.0              d   \n",
       "1             NaN        unknown   \n",
       "2            15.0              e   \n",
       "3             NaN        unknown   \n",
       "4            18.0              e   \n",
       "\n",
       "                                nutrient_levels_tags  \\\n",
       "0  en:fat-in-high-quantity,en:saturated-fat-in-hi...   \n",
       "1                                                NaN   \n",
       "2  en:fat-in-high-quantity,en:saturated-fat-in-hi...   \n",
       "3                                                NaN   \n",
       "4  en:fat-in-high-quantity,en:saturated-fat-in-hi...   \n",
       "\n",
       "                        main_category_en  nutriscore_score nutriscore_grade  \\\n",
       "0  Stick biscuits covered with chocolate              22.0                e   \n",
       "1                                    NaN               NaN          unknown   \n",
       "2                        Dark chocolates              21.0                e   \n",
       "3                                    NaN               NaN          unknown   \n",
       "4                        Milk chocolates              24.0                e   \n",
       "\n",
       "   nova_group                    food_groups_en countries_en_c  \n",
       "0         4.0  Sugary snacks,Biscuits and cakes   france,world  \n",
       "1         NaN                               NaN   france,world  \n",
       "2         4.0  Sugary snacks,Chocolate products   france,world  \n",
       "3         NaN                               NaN   france,world  \n",
       "4         4.0  Sugary snacks,Chocolate products   france,world  "
      ]
     },
     "execution_count": 28,
     "metadata": {},
     "output_type": "execute_result"
    }
   ],
   "source": [
    "df_packagings = df_packagings.merge(df, right_index=True, left_index=True)\n",
    "df_packagings.head()"
   ]
  },
  {
   "cell_type": "code",
   "execution_count": 62,
   "metadata": {},
   "outputs": [
    {
     "data": {
      "text/plain": [
       "array(['Sugary snacks,Biscuits and cakes',\n",
       "       'Sugary snacks,Chocolate products',\n",
       "       'Composite foods,One-dish meals', 'Cereals and potatoes,Cereals',\n",
       "       nan, 'Salty snacks,Salty and fatty products',\n",
       "       'Milk and dairy products,Cheese',\n",
       "       'Composite foods,Pizza pies and quiches',\n",
       "       'Beverages,Waters and flavored waters',\n",
       "       'Beverages,Unsweetened beverages', 'Cereals and potatoes,Bread',\n",
       "       'Fish‚ Meat‚ Eggs,Fish and seafood,Fatty fish',\n",
       "       'Sugary snacks,Pastries', 'Fruits and vegetables,Vegetables',\n",
       "       'Cereals and potatoes,Breakfast cereals',\n",
       "       'Milk and dairy products,Dairy desserts',\n",
       "       'Beverages,Plant-based milk substitutes', 'Fish‚ Meat‚ Eggs,Eggs',\n",
       "       'Fish‚ Meat‚ Eggs,Processed meat',\n",
       "       'Milk and dairy products,Milk and yogurt', 'Sugary snacks,Sweets',\n",
       "       'Composite foods,Sandwiches', 'Fats and sauces,Fats',\n",
       "       'Milk and dairy products,Ice cream',\n",
       "       'Fats and sauces,Dressings and sauces',\n",
       "       'Fish‚ Meat‚ Eggs,Meat,Meat other than poultry',\n",
       "       'Fish‚ Meat‚ Eggs,Fish and seafood', 'Salty snacks,Appetizers',\n",
       "       'Fruits and vegetables,Fruits', 'Beverages,Sweetened beverages',\n",
       "       'Cereals and potatoes,Legumes',\n",
       "       'Beverages,Artificially sweetened beverages',\n",
       "       'Cereals and potatoes,Potatoes', 'Fish‚ Meat‚ Eggs,Meat,Poultry',\n",
       "       'Cereals and potatoes', 'Beverages,Fruit juices',\n",
       "       'Fruits and vegetables,Dried fruits',\n",
       "       'Fruits and vegetables,Soups', 'Fish‚ Meat‚ Eggs,Offals',\n",
       "       'Fish‚ Meat‚ Eggs,Fish and seafood,Lean fish',\n",
       "       'Beverages,Teas and herbal teas and coffees',\n",
       "       'Beverages,Fruit nectars', 'Salty snacks,Nuts', 'Fish‚ Meat‚ Eggs',\n",
       "       'Fruits and vegetables'], dtype=object)"
      ]
     },
     "execution_count": 62,
     "metadata": {},
     "output_type": "execute_result"
    }
   ],
   "source": [
    "df_packagings_dropped.food_groups_en.unique()"
   ]
  },
  {
   "cell_type": "code",
   "execution_count": 34,
   "metadata": {},
   "outputs": [
    {
     "data": {
      "text/html": [
       "<div>\n",
       "<style scoped>\n",
       "    .dataframe tbody tr th:only-of-type {\n",
       "        vertical-align: middle;\n",
       "    }\n",
       "\n",
       "    .dataframe tbody tr th {\n",
       "        vertical-align: top;\n",
       "    }\n",
       "\n",
       "    .dataframe thead th {\n",
       "        text-align: right;\n",
       "    }\n",
       "</style>\n",
       "<table border=\"1\" class=\"dataframe\">\n",
       "  <thead>\n",
       "    <tr style=\"text-align: right;\">\n",
       "      <th></th>\n",
       "      <th>level_0</th>\n",
       "      <th>countries_1</th>\n",
       "      <th>code</th>\n",
       "      <th>product_name</th>\n",
       "      <th>countries_en</th>\n",
       "      <th>brands</th>\n",
       "      <th>abbreviated_product_name</th>\n",
       "      <th>generic_name</th>\n",
       "      <th>quantity</th>\n",
       "      <th>ecoscore_score</th>\n",
       "      <th>ecoscore_grade</th>\n",
       "      <th>nutrient_levels_tags</th>\n",
       "      <th>main_category_en</th>\n",
       "      <th>nutriscore_score</th>\n",
       "      <th>nutriscore_grade</th>\n",
       "      <th>nova_group</th>\n",
       "      <th>food_groups_en</th>\n",
       "      <th>countries_en_c</th>\n",
       "    </tr>\n",
       "  </thead>\n",
       "  <tbody>\n",
       "    <tr>\n",
       "      <th>0</th>\n",
       "      <td>0</td>\n",
       "      <td>france</td>\n",
       "      <td>3596710517510</td>\n",
       "      <td>Choco Stick chocolat au lait</td>\n",
       "      <td>France,World</td>\n",
       "      <td>Auchan</td>\n",
       "      <td>Auchan choco stick chocolat lait 15</td>\n",
       "      <td>Bâtonnets de biscuits enrobés de chocolat au lait</td>\n",
       "      <td>0.115 kg</td>\n",
       "      <td>34.0</td>\n",
       "      <td>d</td>\n",
       "      <td>en:fat-in-high-quantity,en:saturated-fat-in-hi...</td>\n",
       "      <td>Stick biscuits covered with chocolate</td>\n",
       "      <td>22.0</td>\n",
       "      <td>e</td>\n",
       "      <td>4.0</td>\n",
       "      <td>Sugary snacks,Biscuits and cakes</td>\n",
       "      <td>france,world</td>\n",
       "    </tr>\n",
       "    <tr>\n",
       "      <th>2</th>\n",
       "      <td>1</td>\n",
       "      <td>france</td>\n",
       "      <td>3596710517534</td>\n",
       "      <td>AUCHAN Noir praliné et éclats de nougatine 150g</td>\n",
       "      <td>France,World</td>\n",
       "      <td>Auchan, Auchan Gourmet</td>\n",
       "      <td>Auchan gourmet choco nr praline pep</td>\n",
       "      <td>Chocolat noir fourrage (48%) au praliné et aux...</td>\n",
       "      <td>0.15 kg</td>\n",
       "      <td>15.0</td>\n",
       "      <td>e</td>\n",
       "      <td>en:fat-in-high-quantity,en:saturated-fat-in-hi...</td>\n",
       "      <td>Dark chocolates</td>\n",
       "      <td>21.0</td>\n",
       "      <td>e</td>\n",
       "      <td>4.0</td>\n",
       "      <td>Sugary snacks,Chocolate products</td>\n",
       "      <td>france,world</td>\n",
       "    </tr>\n",
       "    <tr>\n",
       "      <th>4</th>\n",
       "      <td>2</td>\n",
       "      <td>france</td>\n",
       "      <td>3596710517657</td>\n",
       "      <td>AUCHAN Lait façon rocher</td>\n",
       "      <td>France,World</td>\n",
       "      <td>Auchan</td>\n",
       "      <td>Auchan gou chocolat lait facon roch</td>\n",
       "      <td>Chocolat supérieur au lait (52%) fourrage au p...</td>\n",
       "      <td>0.15 kg</td>\n",
       "      <td>18.0</td>\n",
       "      <td>e</td>\n",
       "      <td>en:fat-in-high-quantity,en:saturated-fat-in-hi...</td>\n",
       "      <td>Milk chocolates</td>\n",
       "      <td>24.0</td>\n",
       "      <td>e</td>\n",
       "      <td>4.0</td>\n",
       "      <td>Sugary snacks,Chocolate products</td>\n",
       "      <td>france,world</td>\n",
       "    </tr>\n",
       "    <tr>\n",
       "      <th>5</th>\n",
       "      <td>2</td>\n",
       "      <td>world</td>\n",
       "      <td>3596710517664</td>\n",
       "      <td>Cannelloni au boeuf</td>\n",
       "      <td>France,World</td>\n",
       "      <td>Auchan</td>\n",
       "      <td>Auchan cannelloni a la sauce italie</td>\n",
       "      <td>Cannelloni au bœuf et sauce à la tomate et au ...</td>\n",
       "      <td>0.4 kg</td>\n",
       "      <td>32.0</td>\n",
       "      <td>d</td>\n",
       "      <td>en:fat-in-moderate-quantity,en:saturated-fat-i...</td>\n",
       "      <td>Bolognese Cannelloni</td>\n",
       "      <td>2.0</td>\n",
       "      <td>b</td>\n",
       "      <td>4.0</td>\n",
       "      <td>Composite foods,One-dish meals</td>\n",
       "      <td>france,world</td>\n",
       "    </tr>\n",
       "    <tr>\n",
       "      <th>6</th>\n",
       "      <td>3</td>\n",
       "      <td>france</td>\n",
       "      <td>3596710517671</td>\n",
       "      <td>Cannelloni au bœuf</td>\n",
       "      <td>France,World</td>\n",
       "      <td>Auchan</td>\n",
       "      <td>Auchan cannelloni a la sauce italie</td>\n",
       "      <td>Cannelloni au bœuf et sauce à la tomate et au ...</td>\n",
       "      <td>0.8 kg</td>\n",
       "      <td>32.0</td>\n",
       "      <td>d</td>\n",
       "      <td>en:fat-in-moderate-quantity,en:saturated-fat-i...</td>\n",
       "      <td>Beef Cannelloni</td>\n",
       "      <td>2.0</td>\n",
       "      <td>b</td>\n",
       "      <td>4.0</td>\n",
       "      <td>Composite foods,One-dish meals</td>\n",
       "      <td>france,world</td>\n",
       "    </tr>\n",
       "    <tr>\n",
       "      <th>...</th>\n",
       "      <td>...</td>\n",
       "      <td>...</td>\n",
       "      <td>...</td>\n",
       "      <td>...</td>\n",
       "      <td>...</td>\n",
       "      <td>...</td>\n",
       "      <td>...</td>\n",
       "      <td>...</td>\n",
       "      <td>...</td>\n",
       "      <td>...</td>\n",
       "      <td>...</td>\n",
       "      <td>...</td>\n",
       "      <td>...</td>\n",
       "      <td>...</td>\n",
       "      <td>...</td>\n",
       "      <td>...</td>\n",
       "      <td>...</td>\n",
       "      <td>...</td>\n",
       "    </tr>\n",
       "    <tr>\n",
       "      <th>19993</th>\n",
       "      <td>19322</td>\n",
       "      <td>france</td>\n",
       "      <td>3665020370075</td>\n",
       "      <td>Confiture Extra de Rhubarbe</td>\n",
       "      <td>France</td>\n",
       "      <td>Les Délices de Pascale</td>\n",
       "      <td>NaN</td>\n",
       "      <td>NaN</td>\n",
       "      <td>NaN</td>\n",
       "      <td>60.0</td>\n",
       "      <td>b</td>\n",
       "      <td>en:fat-in-low-quantity,en:saturated-fat-in-low...</td>\n",
       "      <td>Vegetable-jams</td>\n",
       "      <td>11.0</td>\n",
       "      <td>d</td>\n",
       "      <td>4.0</td>\n",
       "      <td>Sugary snacks,Sweets</td>\n",
       "      <td>france</td>\n",
       "    </tr>\n",
       "    <tr>\n",
       "      <th>19995</th>\n",
       "      <td>19324</td>\n",
       "      <td>réunion</td>\n",
       "      <td>3665020370099</td>\n",
       "      <td>Confiture Extra de Framboise</td>\n",
       "      <td>France</td>\n",
       "      <td>Les Délices de Pascale</td>\n",
       "      <td>NaN</td>\n",
       "      <td>NaN</td>\n",
       "      <td>NaN</td>\n",
       "      <td>65.0</td>\n",
       "      <td>b</td>\n",
       "      <td>en:fat-in-low-quantity,en:saturated-fat-in-low...</td>\n",
       "      <td>Raspberry jams</td>\n",
       "      <td>12.0</td>\n",
       "      <td>d</td>\n",
       "      <td>NaN</td>\n",
       "      <td>Sugary snacks,Sweets</td>\n",
       "      <td>france</td>\n",
       "    </tr>\n",
       "    <tr>\n",
       "      <th>19996</th>\n",
       "      <td>19325</td>\n",
       "      <td>france</td>\n",
       "      <td>3665030330069</td>\n",
       "      <td>Confiture de fraise</td>\n",
       "      <td>France</td>\n",
       "      <td>Maison Jougla</td>\n",
       "      <td>NaN</td>\n",
       "      <td>NaN</td>\n",
       "      <td>320 g</td>\n",
       "      <td>60.0</td>\n",
       "      <td>b</td>\n",
       "      <td>en:fat-in-low-quantity,en:saturated-fat-in-low...</td>\n",
       "      <td>Strawberry jams</td>\n",
       "      <td>11.0</td>\n",
       "      <td>d</td>\n",
       "      <td>4.0</td>\n",
       "      <td>Sugary snacks,Sweets</td>\n",
       "      <td>france</td>\n",
       "    </tr>\n",
       "    <tr>\n",
       "      <th>19997</th>\n",
       "      <td>19326</td>\n",
       "      <td>france</td>\n",
       "      <td>3665030330076</td>\n",
       "      <td>Confiture extra framboise</td>\n",
       "      <td>France</td>\n",
       "      <td>NaN</td>\n",
       "      <td>NaN</td>\n",
       "      <td>NaN</td>\n",
       "      <td>320 g</td>\n",
       "      <td>65.0</td>\n",
       "      <td>b</td>\n",
       "      <td>en:fat-in-low-quantity,en:saturated-fat-in-low...</td>\n",
       "      <td>Raspberry jams</td>\n",
       "      <td>12.0</td>\n",
       "      <td>d</td>\n",
       "      <td>NaN</td>\n",
       "      <td>Sugary snacks,Sweets</td>\n",
       "      <td>france</td>\n",
       "    </tr>\n",
       "    <tr>\n",
       "      <th>19998</th>\n",
       "      <td>19327</td>\n",
       "      <td>france</td>\n",
       "      <td>3665030330144</td>\n",
       "      <td>Confiture extra rhubarbe</td>\n",
       "      <td>France</td>\n",
       "      <td>Maison Jougla</td>\n",
       "      <td>NaN</td>\n",
       "      <td>NaN</td>\n",
       "      <td>320 g</td>\n",
       "      <td>75.0</td>\n",
       "      <td>b</td>\n",
       "      <td>en:fat-in-low-quantity,en:saturated-fat-in-low...</td>\n",
       "      <td>Vegetable-jams</td>\n",
       "      <td>11.0</td>\n",
       "      <td>d</td>\n",
       "      <td>4.0</td>\n",
       "      <td>Sugary snacks,Sweets</td>\n",
       "      <td>france</td>\n",
       "    </tr>\n",
       "  </tbody>\n",
       "</table>\n",
       "<p>6953 rows × 18 columns</p>\n",
       "</div>"
      ],
      "text/plain": [
       "       level_0 countries_1           code  \\\n",
       "0            0      france  3596710517510   \n",
       "2            1      france  3596710517534   \n",
       "4            2      france  3596710517657   \n",
       "5            2       world  3596710517664   \n",
       "6            3      france  3596710517671   \n",
       "...        ...         ...            ...   \n",
       "19993    19322      france  3665020370075   \n",
       "19995    19324     réunion  3665020370099   \n",
       "19996    19325      france  3665030330069   \n",
       "19997    19326      france  3665030330076   \n",
       "19998    19327      france  3665030330144   \n",
       "\n",
       "                                          product_name  countries_en  \\\n",
       "0                         Choco Stick chocolat au lait  France,World   \n",
       "2      AUCHAN Noir praliné et éclats de nougatine 150g  France,World   \n",
       "4                             AUCHAN Lait façon rocher  France,World   \n",
       "5                                  Cannelloni au boeuf  France,World   \n",
       "6                                   Cannelloni au bœuf  France,World   \n",
       "...                                                ...           ...   \n",
       "19993                      Confiture Extra de Rhubarbe        France   \n",
       "19995                     Confiture Extra de Framboise        France   \n",
       "19996                              Confiture de fraise        France   \n",
       "19997                        Confiture extra framboise        France   \n",
       "19998                         Confiture extra rhubarbe        France   \n",
       "\n",
       "                       brands             abbreviated_product_name  \\\n",
       "0                      Auchan  Auchan choco stick chocolat lait 15   \n",
       "2      Auchan, Auchan Gourmet  Auchan gourmet choco nr praline pep   \n",
       "4                      Auchan  Auchan gou chocolat lait facon roch   \n",
       "5                      Auchan  Auchan cannelloni a la sauce italie   \n",
       "6                      Auchan  Auchan cannelloni a la sauce italie   \n",
       "...                       ...                                  ...   \n",
       "19993  Les Délices de Pascale                                  NaN   \n",
       "19995  Les Délices de Pascale                                  NaN   \n",
       "19996           Maison Jougla                                  NaN   \n",
       "19997                     NaN                                  NaN   \n",
       "19998           Maison Jougla                                  NaN   \n",
       "\n",
       "                                            generic_name  quantity  \\\n",
       "0      Bâtonnets de biscuits enrobés de chocolat au lait  0.115 kg   \n",
       "2      Chocolat noir fourrage (48%) au praliné et aux...   0.15 kg   \n",
       "4      Chocolat supérieur au lait (52%) fourrage au p...   0.15 kg   \n",
       "5      Cannelloni au bœuf et sauce à la tomate et au ...    0.4 kg   \n",
       "6      Cannelloni au bœuf et sauce à la tomate et au ...    0.8 kg   \n",
       "...                                                  ...       ...   \n",
       "19993                                                NaN       NaN   \n",
       "19995                                                NaN       NaN   \n",
       "19996                                                NaN     320 g   \n",
       "19997                                                NaN     320 g   \n",
       "19998                                                NaN     320 g   \n",
       "\n",
       "       ecoscore_score ecoscore_grade  \\\n",
       "0                34.0              d   \n",
       "2                15.0              e   \n",
       "4                18.0              e   \n",
       "5                32.0              d   \n",
       "6                32.0              d   \n",
       "...               ...            ...   \n",
       "19993            60.0              b   \n",
       "19995            65.0              b   \n",
       "19996            60.0              b   \n",
       "19997            65.0              b   \n",
       "19998            75.0              b   \n",
       "\n",
       "                                    nutrient_levels_tags  \\\n",
       "0      en:fat-in-high-quantity,en:saturated-fat-in-hi...   \n",
       "2      en:fat-in-high-quantity,en:saturated-fat-in-hi...   \n",
       "4      en:fat-in-high-quantity,en:saturated-fat-in-hi...   \n",
       "5      en:fat-in-moderate-quantity,en:saturated-fat-i...   \n",
       "6      en:fat-in-moderate-quantity,en:saturated-fat-i...   \n",
       "...                                                  ...   \n",
       "19993  en:fat-in-low-quantity,en:saturated-fat-in-low...   \n",
       "19995  en:fat-in-low-quantity,en:saturated-fat-in-low...   \n",
       "19996  en:fat-in-low-quantity,en:saturated-fat-in-low...   \n",
       "19997  en:fat-in-low-quantity,en:saturated-fat-in-low...   \n",
       "19998  en:fat-in-low-quantity,en:saturated-fat-in-low...   \n",
       "\n",
       "                            main_category_en  nutriscore_score  \\\n",
       "0      Stick biscuits covered with chocolate              22.0   \n",
       "2                            Dark chocolates              21.0   \n",
       "4                            Milk chocolates              24.0   \n",
       "5                       Bolognese Cannelloni               2.0   \n",
       "6                            Beef Cannelloni               2.0   \n",
       "...                                      ...               ...   \n",
       "19993                         Vegetable-jams              11.0   \n",
       "19995                         Raspberry jams              12.0   \n",
       "19996                        Strawberry jams              11.0   \n",
       "19997                         Raspberry jams              12.0   \n",
       "19998                         Vegetable-jams              11.0   \n",
       "\n",
       "      nutriscore_grade  nova_group                    food_groups_en  \\\n",
       "0                    e         4.0  Sugary snacks,Biscuits and cakes   \n",
       "2                    e         4.0  Sugary snacks,Chocolate products   \n",
       "4                    e         4.0  Sugary snacks,Chocolate products   \n",
       "5                    b         4.0    Composite foods,One-dish meals   \n",
       "6                    b         4.0    Composite foods,One-dish meals   \n",
       "...                ...         ...                               ...   \n",
       "19993                d         4.0              Sugary snacks,Sweets   \n",
       "19995                d         NaN              Sugary snacks,Sweets   \n",
       "19996                d         4.0              Sugary snacks,Sweets   \n",
       "19997                d         NaN              Sugary snacks,Sweets   \n",
       "19998                d         4.0              Sugary snacks,Sweets   \n",
       "\n",
       "      countries_en_c  \n",
       "0       france,world  \n",
       "2       france,world  \n",
       "4       france,world  \n",
       "5       france,world  \n",
       "6       france,world  \n",
       "...              ...  \n",
       "19993         france  \n",
       "19995         france  \n",
       "19996         france  \n",
       "19997         france  \n",
       "19998         france  \n",
       "\n",
       "[6953 rows x 18 columns]"
      ]
     },
     "execution_count": 34,
     "metadata": {},
     "output_type": "execute_result"
    }
   ],
   "source": [
    "\n",
    "\n",
    "# Drop rows where column 'A' has NA values\n",
    "df_packagings_dropped = df_packagings.dropna(subset=['ecoscore_score'])\n",
    "\n",
    "df_packagings_dropped\n"
   ]
  },
  {
   "cell_type": "code",
   "execution_count": 55,
   "metadata": {},
   "outputs": [
    {
     "data": {
      "text/html": [
       "<div>\n",
       "<style scoped>\n",
       "    .dataframe tbody tr th:only-of-type {\n",
       "        vertical-align: middle;\n",
       "    }\n",
       "\n",
       "    .dataframe tbody tr th {\n",
       "        vertical-align: top;\n",
       "    }\n",
       "\n",
       "    .dataframe thead th {\n",
       "        text-align: right;\n",
       "    }\n",
       "</style>\n",
       "<table border=\"1\" class=\"dataframe\">\n",
       "  <thead>\n",
       "    <tr style=\"text-align: right;\">\n",
       "      <th></th>\n",
       "      <th>countries_1</th>\n",
       "      <th>ecoscore_score</th>\n",
       "    </tr>\n",
       "  </thead>\n",
       "  <tbody>\n",
       "    <tr>\n",
       "      <th>0</th>\n",
       "      <td>afghanistan</td>\n",
       "      <td>62.500000</td>\n",
       "    </tr>\n",
       "    <tr>\n",
       "      <th>1</th>\n",
       "      <td>algeria</td>\n",
       "      <td>49.250000</td>\n",
       "    </tr>\n",
       "    <tr>\n",
       "      <th>2</th>\n",
       "      <td>angola</td>\n",
       "      <td>24.000000</td>\n",
       "    </tr>\n",
       "    <tr>\n",
       "      <th>3</th>\n",
       "      <td>australia</td>\n",
       "      <td>55.428571</td>\n",
       "    </tr>\n",
       "    <tr>\n",
       "      <th>4</th>\n",
       "      <td>austria</td>\n",
       "      <td>51.333333</td>\n",
       "    </tr>\n",
       "    <tr>\n",
       "      <th>...</th>\n",
       "      <td>...</td>\n",
       "      <td>...</td>\n",
       "    </tr>\n",
       "    <tr>\n",
       "      <th>70</th>\n",
       "      <td>united arab emirates</td>\n",
       "      <td>28.000000</td>\n",
       "    </tr>\n",
       "    <tr>\n",
       "      <th>71</th>\n",
       "      <td>united kingdom</td>\n",
       "      <td>55.727273</td>\n",
       "    </tr>\n",
       "    <tr>\n",
       "      <th>72</th>\n",
       "      <td>united states</td>\n",
       "      <td>37.255814</td>\n",
       "    </tr>\n",
       "    <tr>\n",
       "      <th>73</th>\n",
       "      <td>vietnam</td>\n",
       "      <td>76.000000</td>\n",
       "    </tr>\n",
       "    <tr>\n",
       "      <th>74</th>\n",
       "      <td>world</td>\n",
       "      <td>46.656489</td>\n",
       "    </tr>\n",
       "  </tbody>\n",
       "</table>\n",
       "<p>74 rows × 2 columns</p>\n",
       "</div>"
      ],
      "text/plain": [
       "             countries_1  ecoscore_score\n",
       "0            afghanistan       62.500000\n",
       "1                algeria       49.250000\n",
       "2                 angola       24.000000\n",
       "3              australia       55.428571\n",
       "4                austria       51.333333\n",
       "..                   ...             ...\n",
       "70  united arab emirates       28.000000\n",
       "71        united kingdom       55.727273\n",
       "72         united states       37.255814\n",
       "73               vietnam       76.000000\n",
       "74                 world       46.656489\n",
       "\n",
       "[74 rows x 2 columns]"
      ]
     },
     "execution_count": 55,
     "metadata": {},
     "output_type": "execute_result"
    }
   ],
   "source": [
    "average_by_country = df_packagings_dropped.groupby('countries_1')['ecoscore_score'].mean().to_frame().reset_index()\n",
    "\n",
    "average_by_country = average_by_country[average_by_country['countries_1'] != 'en']\n",
    "average_by_country"
   ]
  },
  {
   "cell_type": "code",
   "execution_count": 49,
   "metadata": {},
   "outputs": [
    {
     "data": {
      "text/plain": [
       "array(['afghanistan', 'algeria', 'angola', 'australia', 'austria',\n",
       "       'belgium', 'benin', 'bulgaria', 'cambodia', 'cameroon', 'canada',\n",
       "       'curaçao', 'czech republic', \"côte d'ivoire\", 'european union',\n",
       "       'finland', 'france', 'french polynesia', 'gabon', 'georgia',\n",
       "       'germany', 'ghana', 'greece', 'guadeloupe', 'guernsey',\n",
       "       'hong kong', 'india', 'ireland', 'israel', 'italy', 'japan',\n",
       "       'kazakhstan', 'kyrgyzstan', 'latvia', 'liechtenstein',\n",
       "       'luxembourg', 'madagascar', 'malta', 'martinique', 'mauritius',\n",
       "       'mexico', 'monaco', 'morocco', 'netherlands', 'new caledonia',\n",
       "       'new zealand', 'niger', 'nigeria', 'north macedonia', 'norway',\n",
       "       'philippines', 'poland', 'portugal', 'qatar', 'romania', 'russia',\n",
       "       'réunion', 'saudi arabia', 'senegal', 'serbia', 'singapore',\n",
       "       'south africa', 'spain', 'sweden', 'switzerland', 'togo',\n",
       "       'tunisia', 'turkiye', 'ukraine', 'united arab emirates',\n",
       "       'united kingdom', 'united states', 'vietnam', 'world'],\n",
       "      dtype=object)"
      ]
     },
     "execution_count": 49,
     "metadata": {},
     "output_type": "execute_result"
    }
   ],
   "source": [
    "average_by_country.countries_1.unique()"
   ]
  },
  {
   "cell_type": "code",
   "execution_count": 54,
   "metadata": {},
   "outputs": [
    {
     "name": "stdout",
     "output_type": "stream",
     "text": [
      "Requirement already satisfied: pycountry in /opt/anaconda3/lib/python3.9/site-packages (23.12.11)\n",
      "SubdivisionHierarchy(code='NL-CW', country_code='NL', name='Curaçao', parent_code=None, type='Country')\n",
      "No ISO code found for european union. Dropping from DataFrame.\n",
      "SubdivisionHierarchy(code='US-GA', country_code='US', name='Georgia', parent_code=None, type='State')\n",
      "SubdivisionHierarchy(code='FR-971', country_code='FR', name='Guadeloupe', parent='GP', parent_code='FR-GP', type='Overseas department')\n",
      "SubdivisionHierarchy(code='FR-GP', country_code='FR', name='Guadeloupe', parent_code=None, type='Overseas region')\n",
      "SubdivisionHierarchy(code='BE-WLX', country_code='BE', name='Luxembourg', parent='WAL', parent_code='BE-WAL', type='Province')\n",
      "SubdivisionHierarchy(code='LU-LU', country_code='LU', name='Luxembourg', parent_code=None, type='Canton')\n",
      "SubdivisionHierarchy(code='FR-972', country_code='FR', name='Martinique', parent='MQ', parent_code='FR-MQ', type='Overseas department')\n",
      "SubdivisionHierarchy(code='FR-MQ', country_code='FR', name='Martinique', parent_code=None, type='Overseas region')\n",
      "SubdivisionHierarchy(code='MX-MEX', country_code='MX', name='México', parent_code=None, type='State')\n",
      "SubdivisionHierarchy(code='NG-NI', country_code='NG', name='Niger', parent_code=None, type='State')\n",
      "No ISO code found for world. Dropping from DataFrame.\n"
     ]
    },
    {
     "data": {
      "application/vnd.plotly.v1+json": {
       "config": {
        "plotlyServerURL": "https://plot.ly"
       },
       "data": [
        {
         "coloraxis": "coloraxis",
         "geo": "geo",
         "hovertemplate": "<b>%{hovertext}</b><br><br>ISO_Code=%{location}<br>ecoscore_score=%{z}<extra></extra>",
         "hovertext": [
          "afghanistan",
          "algeria",
          "angola",
          "australia",
          "austria",
          "belgium",
          "benin",
          "bulgaria",
          "cambodia",
          "cameroon",
          "canada",
          "curaçao",
          "czech republic",
          "côte d'ivoire",
          "finland",
          "france",
          "french polynesia",
          "gabon",
          "georgia",
          "germany",
          "ghana",
          "greece",
          "guadeloupe",
          "guernsey",
          "hong kong",
          "india",
          "ireland",
          "israel",
          "italy",
          "japan",
          "kazakhstan",
          "kyrgyzstan",
          "latvia",
          "liechtenstein",
          "luxembourg",
          "madagascar",
          "malta",
          "martinique",
          "mauritius",
          "mexico",
          "monaco",
          "morocco",
          "netherlands",
          "new caledonia",
          "new zealand",
          "niger",
          "nigeria",
          "north macedonia",
          "norway",
          "philippines",
          "poland",
          "portugal",
          "qatar",
          "romania",
          "russia",
          "réunion",
          "saudi arabia",
          "senegal",
          "serbia",
          "singapore",
          "south africa",
          "spain",
          "sweden",
          "switzerland",
          "togo",
          "tunisia",
          "turkiye",
          "ukraine",
          "united arab emirates",
          "united kingdom",
          "united states",
          "vietnam"
         ],
         "locations": [
          "AFG",
          "DZA",
          "AGO",
          "AUS",
          "AUT",
          "BEL",
          "BEN",
          "BGR",
          "KHM",
          "CMR",
          "CAN",
          "NLD",
          "CZE",
          "CIV",
          "FIN",
          "FRA",
          "PYF",
          "GAB",
          "GEO",
          "DEU",
          "GHA",
          "GRC",
          "FRA",
          "GGY",
          "HKG",
          "IND",
          "IRL",
          "ISR",
          "ITA",
          "JPN",
          "KAZ",
          "KGZ",
          "LVA",
          "LIE",
          "LUX",
          "MDG",
          "MLT",
          "FRA",
          "MUS",
          "MEX",
          "MCO",
          "MAR",
          "NLD",
          "NCL",
          "NZL",
          "NGA",
          "NGA",
          "MKD",
          "NOR",
          "PHL",
          "POL",
          "PRT",
          "QAT",
          "ROU",
          "RUS",
          "REU",
          "SAU",
          "SEN",
          "SRB",
          "SGP",
          "ZAF",
          "ESP",
          "SWE",
          "CHE",
          "TGO",
          "TUN",
          "TUR",
          "UKR",
          "ARE",
          "GBR",
          "USA",
          "VNM"
         ],
         "name": "",
         "type": "choropleth",
         "z": [
          62.5,
          51.5,
          24,
          72,
          51.5,
          48,
          34.5,
          94,
          64,
          101,
          29,
          67,
          75,
          27,
          51.5,
          49,
          67.5,
          36,
          18,
          60,
          68,
          76,
          42,
          44,
          19.5,
          24.5,
          51,
          81,
          62,
          76,
          38,
          75,
          70,
          58,
          27,
          79,
          67,
          31,
          79,
          63,
          78,
          61,
          65,
          78,
          75,
          19,
          19,
          75,
          62,
          39,
          44,
          57,
          67,
          31,
          72,
          43,
          44,
          83,
          67,
          37.5,
          76,
          60,
          40.5,
          60,
          49.5,
          70,
          80,
          26.5,
          21,
          60,
          32,
          76
         ]
        }
       ],
       "layout": {
        "coloraxis": {
         "colorbar": {
          "title": {
           "text": "ecoscore_score"
          }
         },
         "colorscale": [
          [
           0,
           "#0d0887"
          ],
          [
           0.1111111111111111,
           "#46039f"
          ],
          [
           0.2222222222222222,
           "#7201a8"
          ],
          [
           0.3333333333333333,
           "#9c179e"
          ],
          [
           0.4444444444444444,
           "#bd3786"
          ],
          [
           0.5555555555555556,
           "#d8576b"
          ],
          [
           0.6666666666666666,
           "#ed7953"
          ],
          [
           0.7777777777777778,
           "#fb9f3a"
          ],
          [
           0.8888888888888888,
           "#fdca26"
          ],
          [
           1,
           "#f0f921"
          ]
         ]
        },
        "geo": {
         "center": {},
         "domain": {
          "x": [
           0,
           1
          ],
          "y": [
           0,
           1
          ]
         }
        },
        "legend": {
         "tracegroupgap": 0
        },
        "template": {
         "data": {
          "bar": [
           {
            "error_x": {
             "color": "#2a3f5f"
            },
            "error_y": {
             "color": "#2a3f5f"
            },
            "marker": {
             "line": {
              "color": "#E5ECF6",
              "width": 0.5
             },
             "pattern": {
              "fillmode": "overlay",
              "size": 10,
              "solidity": 0.2
             }
            },
            "type": "bar"
           }
          ],
          "barpolar": [
           {
            "marker": {
             "line": {
              "color": "#E5ECF6",
              "width": 0.5
             },
             "pattern": {
              "fillmode": "overlay",
              "size": 10,
              "solidity": 0.2
             }
            },
            "type": "barpolar"
           }
          ],
          "carpet": [
           {
            "aaxis": {
             "endlinecolor": "#2a3f5f",
             "gridcolor": "white",
             "linecolor": "white",
             "minorgridcolor": "white",
             "startlinecolor": "#2a3f5f"
            },
            "baxis": {
             "endlinecolor": "#2a3f5f",
             "gridcolor": "white",
             "linecolor": "white",
             "minorgridcolor": "white",
             "startlinecolor": "#2a3f5f"
            },
            "type": "carpet"
           }
          ],
          "choropleth": [
           {
            "colorbar": {
             "outlinewidth": 0,
             "ticks": ""
            },
            "type": "choropleth"
           }
          ],
          "contour": [
           {
            "colorbar": {
             "outlinewidth": 0,
             "ticks": ""
            },
            "colorscale": [
             [
              0,
              "#0d0887"
             ],
             [
              0.1111111111111111,
              "#46039f"
             ],
             [
              0.2222222222222222,
              "#7201a8"
             ],
             [
              0.3333333333333333,
              "#9c179e"
             ],
             [
              0.4444444444444444,
              "#bd3786"
             ],
             [
              0.5555555555555556,
              "#d8576b"
             ],
             [
              0.6666666666666666,
              "#ed7953"
             ],
             [
              0.7777777777777778,
              "#fb9f3a"
             ],
             [
              0.8888888888888888,
              "#fdca26"
             ],
             [
              1,
              "#f0f921"
             ]
            ],
            "type": "contour"
           }
          ],
          "contourcarpet": [
           {
            "colorbar": {
             "outlinewidth": 0,
             "ticks": ""
            },
            "type": "contourcarpet"
           }
          ],
          "heatmap": [
           {
            "colorbar": {
             "outlinewidth": 0,
             "ticks": ""
            },
            "colorscale": [
             [
              0,
              "#0d0887"
             ],
             [
              0.1111111111111111,
              "#46039f"
             ],
             [
              0.2222222222222222,
              "#7201a8"
             ],
             [
              0.3333333333333333,
              "#9c179e"
             ],
             [
              0.4444444444444444,
              "#bd3786"
             ],
             [
              0.5555555555555556,
              "#d8576b"
             ],
             [
              0.6666666666666666,
              "#ed7953"
             ],
             [
              0.7777777777777778,
              "#fb9f3a"
             ],
             [
              0.8888888888888888,
              "#fdca26"
             ],
             [
              1,
              "#f0f921"
             ]
            ],
            "type": "heatmap"
           }
          ],
          "heatmapgl": [
           {
            "colorbar": {
             "outlinewidth": 0,
             "ticks": ""
            },
            "colorscale": [
             [
              0,
              "#0d0887"
             ],
             [
              0.1111111111111111,
              "#46039f"
             ],
             [
              0.2222222222222222,
              "#7201a8"
             ],
             [
              0.3333333333333333,
              "#9c179e"
             ],
             [
              0.4444444444444444,
              "#bd3786"
             ],
             [
              0.5555555555555556,
              "#d8576b"
             ],
             [
              0.6666666666666666,
              "#ed7953"
             ],
             [
              0.7777777777777778,
              "#fb9f3a"
             ],
             [
              0.8888888888888888,
              "#fdca26"
             ],
             [
              1,
              "#f0f921"
             ]
            ],
            "type": "heatmapgl"
           }
          ],
          "histogram": [
           {
            "marker": {
             "pattern": {
              "fillmode": "overlay",
              "size": 10,
              "solidity": 0.2
             }
            },
            "type": "histogram"
           }
          ],
          "histogram2d": [
           {
            "colorbar": {
             "outlinewidth": 0,
             "ticks": ""
            },
            "colorscale": [
             [
              0,
              "#0d0887"
             ],
             [
              0.1111111111111111,
              "#46039f"
             ],
             [
              0.2222222222222222,
              "#7201a8"
             ],
             [
              0.3333333333333333,
              "#9c179e"
             ],
             [
              0.4444444444444444,
              "#bd3786"
             ],
             [
              0.5555555555555556,
              "#d8576b"
             ],
             [
              0.6666666666666666,
              "#ed7953"
             ],
             [
              0.7777777777777778,
              "#fb9f3a"
             ],
             [
              0.8888888888888888,
              "#fdca26"
             ],
             [
              1,
              "#f0f921"
             ]
            ],
            "type": "histogram2d"
           }
          ],
          "histogram2dcontour": [
           {
            "colorbar": {
             "outlinewidth": 0,
             "ticks": ""
            },
            "colorscale": [
             [
              0,
              "#0d0887"
             ],
             [
              0.1111111111111111,
              "#46039f"
             ],
             [
              0.2222222222222222,
              "#7201a8"
             ],
             [
              0.3333333333333333,
              "#9c179e"
             ],
             [
              0.4444444444444444,
              "#bd3786"
             ],
             [
              0.5555555555555556,
              "#d8576b"
             ],
             [
              0.6666666666666666,
              "#ed7953"
             ],
             [
              0.7777777777777778,
              "#fb9f3a"
             ],
             [
              0.8888888888888888,
              "#fdca26"
             ],
             [
              1,
              "#f0f921"
             ]
            ],
            "type": "histogram2dcontour"
           }
          ],
          "mesh3d": [
           {
            "colorbar": {
             "outlinewidth": 0,
             "ticks": ""
            },
            "type": "mesh3d"
           }
          ],
          "parcoords": [
           {
            "line": {
             "colorbar": {
              "outlinewidth": 0,
              "ticks": ""
             }
            },
            "type": "parcoords"
           }
          ],
          "pie": [
           {
            "automargin": true,
            "type": "pie"
           }
          ],
          "scatter": [
           {
            "fillpattern": {
             "fillmode": "overlay",
             "size": 10,
             "solidity": 0.2
            },
            "type": "scatter"
           }
          ],
          "scatter3d": [
           {
            "line": {
             "colorbar": {
              "outlinewidth": 0,
              "ticks": ""
             }
            },
            "marker": {
             "colorbar": {
              "outlinewidth": 0,
              "ticks": ""
             }
            },
            "type": "scatter3d"
           }
          ],
          "scattercarpet": [
           {
            "marker": {
             "colorbar": {
              "outlinewidth": 0,
              "ticks": ""
             }
            },
            "type": "scattercarpet"
           }
          ],
          "scattergeo": [
           {
            "marker": {
             "colorbar": {
              "outlinewidth": 0,
              "ticks": ""
             }
            },
            "type": "scattergeo"
           }
          ],
          "scattergl": [
           {
            "marker": {
             "colorbar": {
              "outlinewidth": 0,
              "ticks": ""
             }
            },
            "type": "scattergl"
           }
          ],
          "scattermapbox": [
           {
            "marker": {
             "colorbar": {
              "outlinewidth": 0,
              "ticks": ""
             }
            },
            "type": "scattermapbox"
           }
          ],
          "scatterpolar": [
           {
            "marker": {
             "colorbar": {
              "outlinewidth": 0,
              "ticks": ""
             }
            },
            "type": "scatterpolar"
           }
          ],
          "scatterpolargl": [
           {
            "marker": {
             "colorbar": {
              "outlinewidth": 0,
              "ticks": ""
             }
            },
            "type": "scatterpolargl"
           }
          ],
          "scatterternary": [
           {
            "marker": {
             "colorbar": {
              "outlinewidth": 0,
              "ticks": ""
             }
            },
            "type": "scatterternary"
           }
          ],
          "surface": [
           {
            "colorbar": {
             "outlinewidth": 0,
             "ticks": ""
            },
            "colorscale": [
             [
              0,
              "#0d0887"
             ],
             [
              0.1111111111111111,
              "#46039f"
             ],
             [
              0.2222222222222222,
              "#7201a8"
             ],
             [
              0.3333333333333333,
              "#9c179e"
             ],
             [
              0.4444444444444444,
              "#bd3786"
             ],
             [
              0.5555555555555556,
              "#d8576b"
             ],
             [
              0.6666666666666666,
              "#ed7953"
             ],
             [
              0.7777777777777778,
              "#fb9f3a"
             ],
             [
              0.8888888888888888,
              "#fdca26"
             ],
             [
              1,
              "#f0f921"
             ]
            ],
            "type": "surface"
           }
          ],
          "table": [
           {
            "cells": {
             "fill": {
              "color": "#EBF0F8"
             },
             "line": {
              "color": "white"
             }
            },
            "header": {
             "fill": {
              "color": "#C8D4E3"
             },
             "line": {
              "color": "white"
             }
            },
            "type": "table"
           }
          ]
         },
         "layout": {
          "annotationdefaults": {
           "arrowcolor": "#2a3f5f",
           "arrowhead": 0,
           "arrowwidth": 1
          },
          "autotypenumbers": "strict",
          "coloraxis": {
           "colorbar": {
            "outlinewidth": 0,
            "ticks": ""
           }
          },
          "colorscale": {
           "diverging": [
            [
             0,
             "#8e0152"
            ],
            [
             0.1,
             "#c51b7d"
            ],
            [
             0.2,
             "#de77ae"
            ],
            [
             0.3,
             "#f1b6da"
            ],
            [
             0.4,
             "#fde0ef"
            ],
            [
             0.5,
             "#f7f7f7"
            ],
            [
             0.6,
             "#e6f5d0"
            ],
            [
             0.7,
             "#b8e186"
            ],
            [
             0.8,
             "#7fbc41"
            ],
            [
             0.9,
             "#4d9221"
            ],
            [
             1,
             "#276419"
            ]
           ],
           "sequential": [
            [
             0,
             "#0d0887"
            ],
            [
             0.1111111111111111,
             "#46039f"
            ],
            [
             0.2222222222222222,
             "#7201a8"
            ],
            [
             0.3333333333333333,
             "#9c179e"
            ],
            [
             0.4444444444444444,
             "#bd3786"
            ],
            [
             0.5555555555555556,
             "#d8576b"
            ],
            [
             0.6666666666666666,
             "#ed7953"
            ],
            [
             0.7777777777777778,
             "#fb9f3a"
            ],
            [
             0.8888888888888888,
             "#fdca26"
            ],
            [
             1,
             "#f0f921"
            ]
           ],
           "sequentialminus": [
            [
             0,
             "#0d0887"
            ],
            [
             0.1111111111111111,
             "#46039f"
            ],
            [
             0.2222222222222222,
             "#7201a8"
            ],
            [
             0.3333333333333333,
             "#9c179e"
            ],
            [
             0.4444444444444444,
             "#bd3786"
            ],
            [
             0.5555555555555556,
             "#d8576b"
            ],
            [
             0.6666666666666666,
             "#ed7953"
            ],
            [
             0.7777777777777778,
             "#fb9f3a"
            ],
            [
             0.8888888888888888,
             "#fdca26"
            ],
            [
             1,
             "#f0f921"
            ]
           ]
          },
          "colorway": [
           "#636efa",
           "#EF553B",
           "#00cc96",
           "#ab63fa",
           "#FFA15A",
           "#19d3f3",
           "#FF6692",
           "#B6E880",
           "#FF97FF",
           "#FECB52"
          ],
          "font": {
           "color": "#2a3f5f"
          },
          "geo": {
           "bgcolor": "white",
           "lakecolor": "white",
           "landcolor": "#E5ECF6",
           "showlakes": true,
           "showland": true,
           "subunitcolor": "white"
          },
          "hoverlabel": {
           "align": "left"
          },
          "hovermode": "closest",
          "mapbox": {
           "style": "light"
          },
          "paper_bgcolor": "white",
          "plot_bgcolor": "#E5ECF6",
          "polar": {
           "angularaxis": {
            "gridcolor": "white",
            "linecolor": "white",
            "ticks": ""
           },
           "bgcolor": "#E5ECF6",
           "radialaxis": {
            "gridcolor": "white",
            "linecolor": "white",
            "ticks": ""
           }
          },
          "scene": {
           "xaxis": {
            "backgroundcolor": "#E5ECF6",
            "gridcolor": "white",
            "gridwidth": 2,
            "linecolor": "white",
            "showbackground": true,
            "ticks": "",
            "zerolinecolor": "white"
           },
           "yaxis": {
            "backgroundcolor": "#E5ECF6",
            "gridcolor": "white",
            "gridwidth": 2,
            "linecolor": "white",
            "showbackground": true,
            "ticks": "",
            "zerolinecolor": "white"
           },
           "zaxis": {
            "backgroundcolor": "#E5ECF6",
            "gridcolor": "white",
            "gridwidth": 2,
            "linecolor": "white",
            "showbackground": true,
            "ticks": "",
            "zerolinecolor": "white"
           }
          },
          "shapedefaults": {
           "line": {
            "color": "#2a3f5f"
           }
          },
          "ternary": {
           "aaxis": {
            "gridcolor": "white",
            "linecolor": "white",
            "ticks": ""
           },
           "baxis": {
            "gridcolor": "white",
            "linecolor": "white",
            "ticks": ""
           },
           "bgcolor": "#E5ECF6",
           "caxis": {
            "gridcolor": "white",
            "linecolor": "white",
            "ticks": ""
           }
          },
          "title": {
           "x": 0.05
          },
          "xaxis": {
           "automargin": true,
           "gridcolor": "white",
           "linecolor": "white",
           "ticks": "",
           "title": {
            "standoff": 15
           },
           "zerolinecolor": "white",
           "zerolinewidth": 2
          },
          "yaxis": {
           "automargin": true,
           "gridcolor": "white",
           "linecolor": "white",
           "ticks": "",
           "title": {
            "standoff": 15
           },
           "zerolinecolor": "white",
           "zerolinewidth": 2
          }
         }
        },
        "title": {
         "text": "Scores by Country"
        }
       }
      }
     },
     "metadata": {},
     "output_type": "display_data"
    }
   ],
   "source": [
    "!pip install pycountry\n",
    "import pycountry\n",
    "import plotly.express as px\n",
    "\n",
    "iso_mapping = {}\n",
    "for country in average_by_country['countries_1']:\n",
    "    try:\n",
    "        country_data = pycountry.countries.search_fuzzy(country)[0]\n",
    "        iso_mapping[country] = country_data.alpha_3\n",
    "    except LookupError:\n",
    "        print(f\"No ISO code found for {country}. Dropping from DataFrame.\")\n",
    "        average_by_country = average_by_country[average_by_country['countries_1'] != country]\n",
    "\n",
    "# Add ISO codes to the DataFrame\n",
    "average_by_country['ISO_Code'] = average_by_country['countries_1'].map(iso_mapping)\n",
    "\n",
    "# Plot the scores on a geographical map\n",
    "fig = px.choropleth(average_by_country,\n",
    "                    locations=\"ISO_Code\",\n",
    "                    color=\"ecoscore_score\",\n",
    "                    hover_name=\"countries_1\",\n",
    "                    color_continuous_scale=px.colors.sequential.Plasma,\n",
    "                    title=\"Scores by Country\")\n",
    "fig.show()"
   ]
  },
  {
   "cell_type": "markdown",
   "metadata": {},
   "source": [
    "# now do it with nutriscore"
   ]
  },
  {
   "cell_type": "code",
   "execution_count": 57,
   "metadata": {},
   "outputs": [],
   "source": [
    "df_packagings_dropped = df_packagings.dropna(subset=['nutriscore_score'])"
   ]
  },
  {
   "cell_type": "code",
   "execution_count": 58,
   "metadata": {},
   "outputs": [
    {
     "data": {
      "text/html": [
       "<div>\n",
       "<style scoped>\n",
       "    .dataframe tbody tr th:only-of-type {\n",
       "        vertical-align: middle;\n",
       "    }\n",
       "\n",
       "    .dataframe tbody tr th {\n",
       "        vertical-align: top;\n",
       "    }\n",
       "\n",
       "    .dataframe thead th {\n",
       "        text-align: right;\n",
       "    }\n",
       "</style>\n",
       "<table border=\"1\" class=\"dataframe\">\n",
       "  <thead>\n",
       "    <tr style=\"text-align: right;\">\n",
       "      <th></th>\n",
       "      <th>countries_1</th>\n",
       "      <th>nutriscore_score</th>\n",
       "    </tr>\n",
       "  </thead>\n",
       "  <tbody>\n",
       "    <tr>\n",
       "      <th>0</th>\n",
       "      <td>afghanistan</td>\n",
       "      <td>3.000000</td>\n",
       "    </tr>\n",
       "    <tr>\n",
       "      <th>1</th>\n",
       "      <td>algeria</td>\n",
       "      <td>8.500000</td>\n",
       "    </tr>\n",
       "    <tr>\n",
       "      <th>2</th>\n",
       "      <td>australia</td>\n",
       "      <td>4.000000</td>\n",
       "    </tr>\n",
       "    <tr>\n",
       "      <th>3</th>\n",
       "      <td>austria</td>\n",
       "      <td>10.000000</td>\n",
       "    </tr>\n",
       "    <tr>\n",
       "      <th>4</th>\n",
       "      <td>azerbaijan</td>\n",
       "      <td>15.000000</td>\n",
       "    </tr>\n",
       "    <tr>\n",
       "      <th>...</th>\n",
       "      <td>...</td>\n",
       "      <td>...</td>\n",
       "    </tr>\n",
       "    <tr>\n",
       "      <th>68</th>\n",
       "      <td>united arab emirates</td>\n",
       "      <td>12.250000</td>\n",
       "    </tr>\n",
       "    <tr>\n",
       "      <th>69</th>\n",
       "      <td>united kingdom</td>\n",
       "      <td>8.500000</td>\n",
       "    </tr>\n",
       "    <tr>\n",
       "      <th>70</th>\n",
       "      <td>united states</td>\n",
       "      <td>8.000000</td>\n",
       "    </tr>\n",
       "    <tr>\n",
       "      <th>71</th>\n",
       "      <td>vietnam</td>\n",
       "      <td>-3.000000</td>\n",
       "    </tr>\n",
       "    <tr>\n",
       "      <th>72</th>\n",
       "      <td>world</td>\n",
       "      <td>7.321429</td>\n",
       "    </tr>\n",
       "  </tbody>\n",
       "</table>\n",
       "<p>72 rows × 2 columns</p>\n",
       "</div>"
      ],
      "text/plain": [
       "             countries_1  nutriscore_score\n",
       "0            afghanistan          3.000000\n",
       "1                algeria          8.500000\n",
       "2              australia          4.000000\n",
       "3                austria         10.000000\n",
       "4             azerbaijan         15.000000\n",
       "..                   ...               ...\n",
       "68  united arab emirates         12.250000\n",
       "69        united kingdom          8.500000\n",
       "70         united states          8.000000\n",
       "71               vietnam         -3.000000\n",
       "72                 world          7.321429\n",
       "\n",
       "[72 rows x 2 columns]"
      ]
     },
     "execution_count": 58,
     "metadata": {},
     "output_type": "execute_result"
    }
   ],
   "source": [
    "average_by_country = df_packagings_dropped.groupby('countries_1')['nutriscore_score'].mean().to_frame().reset_index()\n",
    "\n",
    "average_by_country = average_by_country[average_by_country['countries_1'] != 'en']\n",
    "average_by_country"
   ]
  },
  {
   "cell_type": "code",
   "execution_count": 60,
   "metadata": {},
   "outputs": [
    {
     "name": "stdout",
     "output_type": "stream",
     "text": [
      "No ISO code found for european union. Dropping from DataFrame.\n",
      "SubdivisionHierarchy(code='US-GA', country_code='US', name='Georgia', parent_code=None, type='State')\n",
      "SubdivisionHierarchy(code='FR-971', country_code='FR', name='Guadeloupe', parent='GP', parent_code='FR-GP', type='Overseas department')\n",
      "SubdivisionHierarchy(code='FR-GP', country_code='FR', name='Guadeloupe', parent_code=None, type='Overseas region')\n",
      "SubdivisionHierarchy(code='BE-WLX', country_code='BE', name='Luxembourg', parent='WAL', parent_code='BE-WAL', type='Province')\n",
      "SubdivisionHierarchy(code='LU-LU', country_code='LU', name='Luxembourg', parent_code=None, type='Canton')\n",
      "SubdivisionHierarchy(code='FR-972', country_code='FR', name='Martinique', parent='MQ', parent_code='FR-MQ', type='Overseas department')\n",
      "SubdivisionHierarchy(code='FR-MQ', country_code='FR', name='Martinique', parent_code=None, type='Overseas region')\n",
      "SubdivisionHierarchy(code='FR-976', country_code='FR', name='Mayotte', parent='YT', parent_code='FR-YT', type='Overseas department')\n",
      "SubdivisionHierarchy(code='FR-YT', country_code='FR', name='Mayotte', parent_code=None, type='Overseas region')\n",
      "SubdivisionHierarchy(code='MX-MEX', country_code='MX', name='México', parent_code=None, type='State')\n",
      "No ISO code found for world. Dropping from DataFrame.\n"
     ]
    },
    {
     "data": {
      "application/vnd.plotly.v1+json": {
       "config": {
        "plotlyServerURL": "https://plot.ly"
       },
       "data": [
        {
         "coloraxis": "coloraxis",
         "geo": "geo",
         "hovertemplate": "<b>%{hovertext}</b><br><br>ISO_Code=%{location}<br>nutriscore_score=%{z}<extra></extra>",
         "hovertext": [
          "afghanistan",
          "algeria",
          "australia",
          "austria",
          "azerbaijan",
          "belgium",
          "benin",
          "brazil",
          "bulgaria",
          "cambodia",
          "canada",
          "czech republic",
          "finland",
          "france",
          "french polynesia",
          "gabon",
          "georgia",
          "germany",
          "ghana",
          "greece",
          "guadeloupe",
          "guernsey",
          "hong kong",
          "india",
          "ireland",
          "israel",
          "italy",
          "japan",
          "jordan",
          "kuwait",
          "kyrgyzstan",
          "latvia",
          "lebanon",
          "luxembourg",
          "madagascar",
          "malta",
          "martinique",
          "mauritius",
          "mayotte",
          "mexico",
          "moldova",
          "morocco",
          "netherlands",
          "new zealand",
          "nigeria",
          "north macedonia",
          "norway",
          "philippines",
          "poland",
          "portugal",
          "qatar",
          "republic of the congo",
          "romania",
          "russia",
          "réunion",
          "saudi arabia",
          "senegal",
          "serbia",
          "singapore",
          "south africa",
          "spain",
          "sweden",
          "switzerland",
          "thailand",
          "turkiye",
          "ukraine",
          "united arab emirates",
          "united kingdom",
          "united states",
          "vietnam"
         ],
         "locations": [
          "AFG",
          "DZA",
          "AUS",
          "AUT",
          "AZE",
          "BEL",
          "BEN",
          "BRA",
          "BGR",
          "KHM",
          "CAN",
          "CZE",
          "FIN",
          "FRA",
          "PYF",
          "GAB",
          "GEO",
          "DEU",
          "GHA",
          "GRC",
          "FRA",
          "GGY",
          "HKG",
          "IND",
          "IRL",
          "ISR",
          "ITA",
          "JPN",
          "JOR",
          "KWT",
          "KGZ",
          "LVA",
          "LBN",
          "LUX",
          "MDG",
          "MLT",
          "FRA",
          "MUS",
          "FRA",
          "MEX",
          "MDA",
          "MAR",
          "NLD",
          "NZL",
          "NGA",
          "MKD",
          "NOR",
          "PHL",
          "POL",
          "PRT",
          "QAT",
          "COG",
          "ROU",
          "RUS",
          "REU",
          "SAU",
          "SEN",
          "SRB",
          "SGP",
          "ZAF",
          "ESP",
          "SWE",
          "CHE",
          "THA",
          "TUR",
          "UKR",
          "ARE",
          "GBR",
          "USA",
          "VNM"
         ],
         "name": "",
         "type": "choropleth",
         "z": [
          3,
          8.5,
          4,
          10,
          15,
          8.852459016393443,
          8.5,
          5,
          8.5,
          15,
          9.142857142857142,
          2.3333333333333335,
          8.5,
          8.7687221282485,
          10.214285714285714,
          16,
          -1,
          6.594059405940594,
          1,
          -3,
          10.272727272727273,
          6,
          11.5,
          5.666666666666667,
          6.3,
          4,
          7.5777777777777775,
          -3,
          -2,
          1,
          -6,
          11,
          9,
          5.166666666666667,
          13,
          20,
          6.4,
          1.5,
          8,
          9,
          12,
          8.685714285714285,
          10,
          -1,
          17,
          -1,
          2.5,
          26,
          10.333333333333334,
          6,
          4,
          2,
          7.8,
          -6,
          7,
          13,
          19,
          14.666666666666666,
          14,
          0.5,
          5.009009009009009,
          5,
          8.958333333333334,
          2,
          -1,
          6,
          12.25,
          8.5,
          8,
          -3
         ]
        }
       ],
       "layout": {
        "coloraxis": {
         "colorbar": {
          "title": {
           "text": "nutriscore_score"
          }
         },
         "colorscale": [
          [
           0,
           "#0d0887"
          ],
          [
           0.1111111111111111,
           "#46039f"
          ],
          [
           0.2222222222222222,
           "#7201a8"
          ],
          [
           0.3333333333333333,
           "#9c179e"
          ],
          [
           0.4444444444444444,
           "#bd3786"
          ],
          [
           0.5555555555555556,
           "#d8576b"
          ],
          [
           0.6666666666666666,
           "#ed7953"
          ],
          [
           0.7777777777777778,
           "#fb9f3a"
          ],
          [
           0.8888888888888888,
           "#fdca26"
          ],
          [
           1,
           "#f0f921"
          ]
         ]
        },
        "geo": {
         "center": {},
         "domain": {
          "x": [
           0,
           1
          ],
          "y": [
           0,
           1
          ]
         }
        },
        "legend": {
         "tracegroupgap": 0
        },
        "template": {
         "data": {
          "bar": [
           {
            "error_x": {
             "color": "#2a3f5f"
            },
            "error_y": {
             "color": "#2a3f5f"
            },
            "marker": {
             "line": {
              "color": "#E5ECF6",
              "width": 0.5
             },
             "pattern": {
              "fillmode": "overlay",
              "size": 10,
              "solidity": 0.2
             }
            },
            "type": "bar"
           }
          ],
          "barpolar": [
           {
            "marker": {
             "line": {
              "color": "#E5ECF6",
              "width": 0.5
             },
             "pattern": {
              "fillmode": "overlay",
              "size": 10,
              "solidity": 0.2
             }
            },
            "type": "barpolar"
           }
          ],
          "carpet": [
           {
            "aaxis": {
             "endlinecolor": "#2a3f5f",
             "gridcolor": "white",
             "linecolor": "white",
             "minorgridcolor": "white",
             "startlinecolor": "#2a3f5f"
            },
            "baxis": {
             "endlinecolor": "#2a3f5f",
             "gridcolor": "white",
             "linecolor": "white",
             "minorgridcolor": "white",
             "startlinecolor": "#2a3f5f"
            },
            "type": "carpet"
           }
          ],
          "choropleth": [
           {
            "colorbar": {
             "outlinewidth": 0,
             "ticks": ""
            },
            "type": "choropleth"
           }
          ],
          "contour": [
           {
            "colorbar": {
             "outlinewidth": 0,
             "ticks": ""
            },
            "colorscale": [
             [
              0,
              "#0d0887"
             ],
             [
              0.1111111111111111,
              "#46039f"
             ],
             [
              0.2222222222222222,
              "#7201a8"
             ],
             [
              0.3333333333333333,
              "#9c179e"
             ],
             [
              0.4444444444444444,
              "#bd3786"
             ],
             [
              0.5555555555555556,
              "#d8576b"
             ],
             [
              0.6666666666666666,
              "#ed7953"
             ],
             [
              0.7777777777777778,
              "#fb9f3a"
             ],
             [
              0.8888888888888888,
              "#fdca26"
             ],
             [
              1,
              "#f0f921"
             ]
            ],
            "type": "contour"
           }
          ],
          "contourcarpet": [
           {
            "colorbar": {
             "outlinewidth": 0,
             "ticks": ""
            },
            "type": "contourcarpet"
           }
          ],
          "heatmap": [
           {
            "colorbar": {
             "outlinewidth": 0,
             "ticks": ""
            },
            "colorscale": [
             [
              0,
              "#0d0887"
             ],
             [
              0.1111111111111111,
              "#46039f"
             ],
             [
              0.2222222222222222,
              "#7201a8"
             ],
             [
              0.3333333333333333,
              "#9c179e"
             ],
             [
              0.4444444444444444,
              "#bd3786"
             ],
             [
              0.5555555555555556,
              "#d8576b"
             ],
             [
              0.6666666666666666,
              "#ed7953"
             ],
             [
              0.7777777777777778,
              "#fb9f3a"
             ],
             [
              0.8888888888888888,
              "#fdca26"
             ],
             [
              1,
              "#f0f921"
             ]
            ],
            "type": "heatmap"
           }
          ],
          "heatmapgl": [
           {
            "colorbar": {
             "outlinewidth": 0,
             "ticks": ""
            },
            "colorscale": [
             [
              0,
              "#0d0887"
             ],
             [
              0.1111111111111111,
              "#46039f"
             ],
             [
              0.2222222222222222,
              "#7201a8"
             ],
             [
              0.3333333333333333,
              "#9c179e"
             ],
             [
              0.4444444444444444,
              "#bd3786"
             ],
             [
              0.5555555555555556,
              "#d8576b"
             ],
             [
              0.6666666666666666,
              "#ed7953"
             ],
             [
              0.7777777777777778,
              "#fb9f3a"
             ],
             [
              0.8888888888888888,
              "#fdca26"
             ],
             [
              1,
              "#f0f921"
             ]
            ],
            "type": "heatmapgl"
           }
          ],
          "histogram": [
           {
            "marker": {
             "pattern": {
              "fillmode": "overlay",
              "size": 10,
              "solidity": 0.2
             }
            },
            "type": "histogram"
           }
          ],
          "histogram2d": [
           {
            "colorbar": {
             "outlinewidth": 0,
             "ticks": ""
            },
            "colorscale": [
             [
              0,
              "#0d0887"
             ],
             [
              0.1111111111111111,
              "#46039f"
             ],
             [
              0.2222222222222222,
              "#7201a8"
             ],
             [
              0.3333333333333333,
              "#9c179e"
             ],
             [
              0.4444444444444444,
              "#bd3786"
             ],
             [
              0.5555555555555556,
              "#d8576b"
             ],
             [
              0.6666666666666666,
              "#ed7953"
             ],
             [
              0.7777777777777778,
              "#fb9f3a"
             ],
             [
              0.8888888888888888,
              "#fdca26"
             ],
             [
              1,
              "#f0f921"
             ]
            ],
            "type": "histogram2d"
           }
          ],
          "histogram2dcontour": [
           {
            "colorbar": {
             "outlinewidth": 0,
             "ticks": ""
            },
            "colorscale": [
             [
              0,
              "#0d0887"
             ],
             [
              0.1111111111111111,
              "#46039f"
             ],
             [
              0.2222222222222222,
              "#7201a8"
             ],
             [
              0.3333333333333333,
              "#9c179e"
             ],
             [
              0.4444444444444444,
              "#bd3786"
             ],
             [
              0.5555555555555556,
              "#d8576b"
             ],
             [
              0.6666666666666666,
              "#ed7953"
             ],
             [
              0.7777777777777778,
              "#fb9f3a"
             ],
             [
              0.8888888888888888,
              "#fdca26"
             ],
             [
              1,
              "#f0f921"
             ]
            ],
            "type": "histogram2dcontour"
           }
          ],
          "mesh3d": [
           {
            "colorbar": {
             "outlinewidth": 0,
             "ticks": ""
            },
            "type": "mesh3d"
           }
          ],
          "parcoords": [
           {
            "line": {
             "colorbar": {
              "outlinewidth": 0,
              "ticks": ""
             }
            },
            "type": "parcoords"
           }
          ],
          "pie": [
           {
            "automargin": true,
            "type": "pie"
           }
          ],
          "scatter": [
           {
            "fillpattern": {
             "fillmode": "overlay",
             "size": 10,
             "solidity": 0.2
            },
            "type": "scatter"
           }
          ],
          "scatter3d": [
           {
            "line": {
             "colorbar": {
              "outlinewidth": 0,
              "ticks": ""
             }
            },
            "marker": {
             "colorbar": {
              "outlinewidth": 0,
              "ticks": ""
             }
            },
            "type": "scatter3d"
           }
          ],
          "scattercarpet": [
           {
            "marker": {
             "colorbar": {
              "outlinewidth": 0,
              "ticks": ""
             }
            },
            "type": "scattercarpet"
           }
          ],
          "scattergeo": [
           {
            "marker": {
             "colorbar": {
              "outlinewidth": 0,
              "ticks": ""
             }
            },
            "type": "scattergeo"
           }
          ],
          "scattergl": [
           {
            "marker": {
             "colorbar": {
              "outlinewidth": 0,
              "ticks": ""
             }
            },
            "type": "scattergl"
           }
          ],
          "scattermapbox": [
           {
            "marker": {
             "colorbar": {
              "outlinewidth": 0,
              "ticks": ""
             }
            },
            "type": "scattermapbox"
           }
          ],
          "scatterpolar": [
           {
            "marker": {
             "colorbar": {
              "outlinewidth": 0,
              "ticks": ""
             }
            },
            "type": "scatterpolar"
           }
          ],
          "scatterpolargl": [
           {
            "marker": {
             "colorbar": {
              "outlinewidth": 0,
              "ticks": ""
             }
            },
            "type": "scatterpolargl"
           }
          ],
          "scatterternary": [
           {
            "marker": {
             "colorbar": {
              "outlinewidth": 0,
              "ticks": ""
             }
            },
            "type": "scatterternary"
           }
          ],
          "surface": [
           {
            "colorbar": {
             "outlinewidth": 0,
             "ticks": ""
            },
            "colorscale": [
             [
              0,
              "#0d0887"
             ],
             [
              0.1111111111111111,
              "#46039f"
             ],
             [
              0.2222222222222222,
              "#7201a8"
             ],
             [
              0.3333333333333333,
              "#9c179e"
             ],
             [
              0.4444444444444444,
              "#bd3786"
             ],
             [
              0.5555555555555556,
              "#d8576b"
             ],
             [
              0.6666666666666666,
              "#ed7953"
             ],
             [
              0.7777777777777778,
              "#fb9f3a"
             ],
             [
              0.8888888888888888,
              "#fdca26"
             ],
             [
              1,
              "#f0f921"
             ]
            ],
            "type": "surface"
           }
          ],
          "table": [
           {
            "cells": {
             "fill": {
              "color": "#EBF0F8"
             },
             "line": {
              "color": "white"
             }
            },
            "header": {
             "fill": {
              "color": "#C8D4E3"
             },
             "line": {
              "color": "white"
             }
            },
            "type": "table"
           }
          ]
         },
         "layout": {
          "annotationdefaults": {
           "arrowcolor": "#2a3f5f",
           "arrowhead": 0,
           "arrowwidth": 1
          },
          "autotypenumbers": "strict",
          "coloraxis": {
           "colorbar": {
            "outlinewidth": 0,
            "ticks": ""
           }
          },
          "colorscale": {
           "diverging": [
            [
             0,
             "#8e0152"
            ],
            [
             0.1,
             "#c51b7d"
            ],
            [
             0.2,
             "#de77ae"
            ],
            [
             0.3,
             "#f1b6da"
            ],
            [
             0.4,
             "#fde0ef"
            ],
            [
             0.5,
             "#f7f7f7"
            ],
            [
             0.6,
             "#e6f5d0"
            ],
            [
             0.7,
             "#b8e186"
            ],
            [
             0.8,
             "#7fbc41"
            ],
            [
             0.9,
             "#4d9221"
            ],
            [
             1,
             "#276419"
            ]
           ],
           "sequential": [
            [
             0,
             "#0d0887"
            ],
            [
             0.1111111111111111,
             "#46039f"
            ],
            [
             0.2222222222222222,
             "#7201a8"
            ],
            [
             0.3333333333333333,
             "#9c179e"
            ],
            [
             0.4444444444444444,
             "#bd3786"
            ],
            [
             0.5555555555555556,
             "#d8576b"
            ],
            [
             0.6666666666666666,
             "#ed7953"
            ],
            [
             0.7777777777777778,
             "#fb9f3a"
            ],
            [
             0.8888888888888888,
             "#fdca26"
            ],
            [
             1,
             "#f0f921"
            ]
           ],
           "sequentialminus": [
            [
             0,
             "#0d0887"
            ],
            [
             0.1111111111111111,
             "#46039f"
            ],
            [
             0.2222222222222222,
             "#7201a8"
            ],
            [
             0.3333333333333333,
             "#9c179e"
            ],
            [
             0.4444444444444444,
             "#bd3786"
            ],
            [
             0.5555555555555556,
             "#d8576b"
            ],
            [
             0.6666666666666666,
             "#ed7953"
            ],
            [
             0.7777777777777778,
             "#fb9f3a"
            ],
            [
             0.8888888888888888,
             "#fdca26"
            ],
            [
             1,
             "#f0f921"
            ]
           ]
          },
          "colorway": [
           "#636efa",
           "#EF553B",
           "#00cc96",
           "#ab63fa",
           "#FFA15A",
           "#19d3f3",
           "#FF6692",
           "#B6E880",
           "#FF97FF",
           "#FECB52"
          ],
          "font": {
           "color": "#2a3f5f"
          },
          "geo": {
           "bgcolor": "white",
           "lakecolor": "white",
           "landcolor": "#E5ECF6",
           "showlakes": true,
           "showland": true,
           "subunitcolor": "white"
          },
          "hoverlabel": {
           "align": "left"
          },
          "hovermode": "closest",
          "mapbox": {
           "style": "light"
          },
          "paper_bgcolor": "white",
          "plot_bgcolor": "#E5ECF6",
          "polar": {
           "angularaxis": {
            "gridcolor": "white",
            "linecolor": "white",
            "ticks": ""
           },
           "bgcolor": "#E5ECF6",
           "radialaxis": {
            "gridcolor": "white",
            "linecolor": "white",
            "ticks": ""
           }
          },
          "scene": {
           "xaxis": {
            "backgroundcolor": "#E5ECF6",
            "gridcolor": "white",
            "gridwidth": 2,
            "linecolor": "white",
            "showbackground": true,
            "ticks": "",
            "zerolinecolor": "white"
           },
           "yaxis": {
            "backgroundcolor": "#E5ECF6",
            "gridcolor": "white",
            "gridwidth": 2,
            "linecolor": "white",
            "showbackground": true,
            "ticks": "",
            "zerolinecolor": "white"
           },
           "zaxis": {
            "backgroundcolor": "#E5ECF6",
            "gridcolor": "white",
            "gridwidth": 2,
            "linecolor": "white",
            "showbackground": true,
            "ticks": "",
            "zerolinecolor": "white"
           }
          },
          "shapedefaults": {
           "line": {
            "color": "#2a3f5f"
           }
          },
          "ternary": {
           "aaxis": {
            "gridcolor": "white",
            "linecolor": "white",
            "ticks": ""
           },
           "baxis": {
            "gridcolor": "white",
            "linecolor": "white",
            "ticks": ""
           },
           "bgcolor": "#E5ECF6",
           "caxis": {
            "gridcolor": "white",
            "linecolor": "white",
            "ticks": ""
           }
          },
          "title": {
           "x": 0.05
          },
          "xaxis": {
           "automargin": true,
           "gridcolor": "white",
           "linecolor": "white",
           "ticks": "",
           "title": {
            "standoff": 15
           },
           "zerolinecolor": "white",
           "zerolinewidth": 2
          },
          "yaxis": {
           "automargin": true,
           "gridcolor": "white",
           "linecolor": "white",
           "ticks": "",
           "title": {
            "standoff": 15
           },
           "zerolinecolor": "white",
           "zerolinewidth": 2
          }
         }
        },
        "title": {
         "text": "Scores by Country"
        }
       }
      }
     },
     "metadata": {},
     "output_type": "display_data"
    }
   ],
   "source": [
    "\n",
    "\n",
    "iso_mapping = {}\n",
    "for country in average_by_country['countries_1']:\n",
    "    try:\n",
    "        country_data = pycountry.countries.search_fuzzy(country)[0]\n",
    "        iso_mapping[country] = country_data.alpha_3\n",
    "    except LookupError:\n",
    "        print(f\"No ISO code found for {country}. Dropping from DataFrame.\")\n",
    "        average_by_country = average_by_country[average_by_country['countries_1'] != country]\n",
    "\n",
    "# Add ISO codes to the DataFrame\n",
    "average_by_country['ISO_Code'] = average_by_country['countries_1'].map(iso_mapping)\n",
    "\n",
    "# Plot the scores on a geographical map\n",
    "fig = px.choropleth(average_by_country,\n",
    "                    locations=\"ISO_Code\",\n",
    "                    color=\"nutriscore_score\",\n",
    "                    hover_name=\"countries_1\",\n",
    "                    color_continuous_scale=px.colors.sequential.Plasma,\n",
    "                    title=\"Scores by Country\")\n",
    "fig.show()"
   ]
  }
 ],
 "metadata": {
  "kernelspec": {
   "display_name": "base",
   "language": "python",
   "name": "python3"
  },
  "language_info": {
   "codemirror_mode": {
    "name": "ipython",
    "version": 3
   },
   "file_extension": ".py",
   "mimetype": "text/x-python",
   "name": "python",
   "nbconvert_exporter": "python",
   "pygments_lexer": "ipython3",
   "version": "3.9.16"
  }
 },
 "nbformat": 4,
 "nbformat_minor": 2
}
